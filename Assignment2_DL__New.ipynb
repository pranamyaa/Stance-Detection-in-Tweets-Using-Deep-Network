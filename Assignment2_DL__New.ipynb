{
  "nbformat": 4,
  "nbformat_minor": 0,
  "metadata": {
    "colab": {
      "name": "Assignment2_DL _New.ipynb",
      "provenance": [],
      "collapsed_sections": [
        "EmcvYG6GaZAp",
        "w9qXKf6B7HR9",
        "eHma85Nt9Kky"
      ]
    },
    "kernelspec": {
      "name": "python3",
      "display_name": "Python 3"
    }
  },
  "cells": [
    {
      "cell_type": "markdown",
      "metadata": {
        "id": "N7UPIghEqvMi"
      },
      "source": [
        "# **Assignment 2: Stance Detection in Tweets using Deep Learning on SemEval 2 task 6 data.**"
      ]
    },
    {
      "cell_type": "markdown",
      "metadata": {
        "id": "kfY_1TQrqbp9"
      },
      "source": [
        "# Setting notebook and related packages and methods.\n",
        "\n",
        "\n",
        "\n"
      ]
    },
    {
      "cell_type": "markdown",
      "metadata": {
        "id": "ONRDMNP9xflY"
      },
      "source": [
        "First we mount the google drive so that we can access the data files from the system"
      ]
    },
    {
      "cell_type": "code",
      "metadata": {
        "id": "4etGXG5qBdFD",
        "outputId": "1c666eb1-0c45-4f43-a9a2-ad9b0b779bc3",
        "colab": {
          "base_uri": "https://localhost:8080/"
        }
      },
      "source": [
        "from google.colab import drive\n",
        "drive.mount('/content/drive', force_remount=True)"
      ],
      "execution_count": 1,
      "outputs": [
        {
          "output_type": "stream",
          "text": [
            "Mounted at /content/drive\n"
          ],
          "name": "stdout"
        }
      ]
    },
    {
      "cell_type": "code",
      "metadata": {
        "id": "bWHE3jlppGdq",
        "outputId": "bc2ec38a-cbe3-4b62-9c2d-b07a5a41d449",
        "colab": {
          "base_uri": "https://localhost:8080/"
        }
      },
      "source": [
        "!pip install -U spacy"
      ],
      "execution_count": 2,
      "outputs": [
        {
          "output_type": "stream",
          "text": [
            "Requirement already up-to-date: spacy in /usr/local/lib/python3.6/dist-packages (2.3.2)\n",
            "Requirement already satisfied, skipping upgrade: tqdm<5.0.0,>=4.38.0 in /usr/local/lib/python3.6/dist-packages (from spacy) (4.41.1)\n",
            "Requirement already satisfied, skipping upgrade: requests<3.0.0,>=2.13.0 in /usr/local/lib/python3.6/dist-packages (from spacy) (2.23.0)\n",
            "Requirement already satisfied, skipping upgrade: catalogue<1.1.0,>=0.0.7 in /usr/local/lib/python3.6/dist-packages (from spacy) (1.0.0)\n",
            "Requirement already satisfied, skipping upgrade: wasabi<1.1.0,>=0.4.0 in /usr/local/lib/python3.6/dist-packages (from spacy) (0.8.0)\n",
            "Requirement already satisfied, skipping upgrade: srsly<1.1.0,>=1.0.2 in /usr/local/lib/python3.6/dist-packages (from spacy) (1.0.2)\n",
            "Requirement already satisfied, skipping upgrade: cymem<2.1.0,>=2.0.2 in /usr/local/lib/python3.6/dist-packages (from spacy) (2.0.3)\n",
            "Requirement already satisfied, skipping upgrade: blis<0.5.0,>=0.4.0 in /usr/local/lib/python3.6/dist-packages (from spacy) (0.4.1)\n",
            "Requirement already satisfied, skipping upgrade: preshed<3.1.0,>=3.0.2 in /usr/local/lib/python3.6/dist-packages (from spacy) (3.0.2)\n",
            "Requirement already satisfied, skipping upgrade: plac<1.2.0,>=0.9.6 in /usr/local/lib/python3.6/dist-packages (from spacy) (1.1.3)\n",
            "Requirement already satisfied, skipping upgrade: thinc==7.4.1 in /usr/local/lib/python3.6/dist-packages (from spacy) (7.4.1)\n",
            "Requirement already satisfied, skipping upgrade: murmurhash<1.1.0,>=0.28.0 in /usr/local/lib/python3.6/dist-packages (from spacy) (1.0.2)\n",
            "Requirement already satisfied, skipping upgrade: setuptools in /usr/local/lib/python3.6/dist-packages (from spacy) (50.3.0)\n",
            "Requirement already satisfied, skipping upgrade: numpy>=1.15.0 in /usr/local/lib/python3.6/dist-packages (from spacy) (1.18.5)\n",
            "Requirement already satisfied, skipping upgrade: idna<3,>=2.5 in /usr/local/lib/python3.6/dist-packages (from requests<3.0.0,>=2.13.0->spacy) (2.10)\n",
            "Requirement already satisfied, skipping upgrade: chardet<4,>=3.0.2 in /usr/local/lib/python3.6/dist-packages (from requests<3.0.0,>=2.13.0->spacy) (3.0.4)\n",
            "Requirement already satisfied, skipping upgrade: certifi>=2017.4.17 in /usr/local/lib/python3.6/dist-packages (from requests<3.0.0,>=2.13.0->spacy) (2020.6.20)\n",
            "Requirement already satisfied, skipping upgrade: urllib3!=1.25.0,!=1.25.1,<1.26,>=1.21.1 in /usr/local/lib/python3.6/dist-packages (from requests<3.0.0,>=2.13.0->spacy) (1.24.3)\n",
            "Requirement already satisfied, skipping upgrade: importlib-metadata>=0.20; python_version < \"3.8\" in /usr/local/lib/python3.6/dist-packages (from catalogue<1.1.0,>=0.0.7->spacy) (2.0.0)\n",
            "Requirement already satisfied, skipping upgrade: zipp>=0.5 in /usr/local/lib/python3.6/dist-packages (from importlib-metadata>=0.20; python_version < \"3.8\"->catalogue<1.1.0,>=0.0.7->spacy) (3.2.0)\n"
          ],
          "name": "stdout"
        }
      ]
    },
    {
      "cell_type": "code",
      "metadata": {
        "id": "U2K98JlkpGTu",
        "outputId": "a1c7c213-6129-4ba8-dfba-8d917cf31060",
        "colab": {
          "base_uri": "https://localhost:8080/"
        }
      },
      "source": [
        "! pip install -U spacy-Lookups-data"
      ],
      "execution_count": 3,
      "outputs": [
        {
          "output_type": "stream",
          "text": [
            "Requirement already up-to-date: spacy-Lookups-data in /usr/local/lib/python3.6/dist-packages (0.3.2)\n",
            "Requirement already satisfied, skipping upgrade: setuptools in /usr/local/lib/python3.6/dist-packages (from spacy-Lookups-data) (50.3.0)\n"
          ],
          "name": "stdout"
        }
      ]
    },
    {
      "cell_type": "code",
      "metadata": {
        "id": "FzAy-EW1pGFK",
        "outputId": "6fbb0b8b-f8ce-48ce-b0f9-2d843c071fa5",
        "colab": {
          "base_uri": "https://localhost:8080/"
        }
      },
      "source": [
        "!python -m spacy download en_core_web_sm "
      ],
      "execution_count": 4,
      "outputs": [
        {
          "output_type": "stream",
          "text": [
            "Requirement already satisfied: en_core_web_sm==2.3.1 from https://github.com/explosion/spacy-models/releases/download/en_core_web_sm-2.3.1/en_core_web_sm-2.3.1.tar.gz#egg=en_core_web_sm==2.3.1 in /usr/local/lib/python3.6/dist-packages (2.3.1)\n",
            "Requirement already satisfied: spacy<2.4.0,>=2.3.0 in /usr/local/lib/python3.6/dist-packages (from en_core_web_sm==2.3.1) (2.3.2)\n",
            "Requirement already satisfied: tqdm<5.0.0,>=4.38.0 in /usr/local/lib/python3.6/dist-packages (from spacy<2.4.0,>=2.3.0->en_core_web_sm==2.3.1) (4.41.1)\n",
            "Requirement already satisfied: requests<3.0.0,>=2.13.0 in /usr/local/lib/python3.6/dist-packages (from spacy<2.4.0,>=2.3.0->en_core_web_sm==2.3.1) (2.23.0)\n",
            "Requirement already satisfied: wasabi<1.1.0,>=0.4.0 in /usr/local/lib/python3.6/dist-packages (from spacy<2.4.0,>=2.3.0->en_core_web_sm==2.3.1) (0.8.0)\n",
            "Requirement already satisfied: catalogue<1.1.0,>=0.0.7 in /usr/local/lib/python3.6/dist-packages (from spacy<2.4.0,>=2.3.0->en_core_web_sm==2.3.1) (1.0.0)\n",
            "Requirement already satisfied: plac<1.2.0,>=0.9.6 in /usr/local/lib/python3.6/dist-packages (from spacy<2.4.0,>=2.3.0->en_core_web_sm==2.3.1) (1.1.3)\n",
            "Requirement already satisfied: numpy>=1.15.0 in /usr/local/lib/python3.6/dist-packages (from spacy<2.4.0,>=2.3.0->en_core_web_sm==2.3.1) (1.18.5)\n",
            "Requirement already satisfied: blis<0.5.0,>=0.4.0 in /usr/local/lib/python3.6/dist-packages (from spacy<2.4.0,>=2.3.0->en_core_web_sm==2.3.1) (0.4.1)\n",
            "Requirement already satisfied: murmurhash<1.1.0,>=0.28.0 in /usr/local/lib/python3.6/dist-packages (from spacy<2.4.0,>=2.3.0->en_core_web_sm==2.3.1) (1.0.2)\n",
            "Requirement already satisfied: preshed<3.1.0,>=3.0.2 in /usr/local/lib/python3.6/dist-packages (from spacy<2.4.0,>=2.3.0->en_core_web_sm==2.3.1) (3.0.2)\n",
            "Requirement already satisfied: setuptools in /usr/local/lib/python3.6/dist-packages (from spacy<2.4.0,>=2.3.0->en_core_web_sm==2.3.1) (50.3.0)\n",
            "Requirement already satisfied: thinc==7.4.1 in /usr/local/lib/python3.6/dist-packages (from spacy<2.4.0,>=2.3.0->en_core_web_sm==2.3.1) (7.4.1)\n",
            "Requirement already satisfied: srsly<1.1.0,>=1.0.2 in /usr/local/lib/python3.6/dist-packages (from spacy<2.4.0,>=2.3.0->en_core_web_sm==2.3.1) (1.0.2)\n",
            "Requirement already satisfied: cymem<2.1.0,>=2.0.2 in /usr/local/lib/python3.6/dist-packages (from spacy<2.4.0,>=2.3.0->en_core_web_sm==2.3.1) (2.0.3)\n",
            "Requirement already satisfied: certifi>=2017.4.17 in /usr/local/lib/python3.6/dist-packages (from requests<3.0.0,>=2.13.0->spacy<2.4.0,>=2.3.0->en_core_web_sm==2.3.1) (2020.6.20)\n",
            "Requirement already satisfied: idna<3,>=2.5 in /usr/local/lib/python3.6/dist-packages (from requests<3.0.0,>=2.13.0->spacy<2.4.0,>=2.3.0->en_core_web_sm==2.3.1) (2.10)\n",
            "Requirement already satisfied: urllib3!=1.25.0,!=1.25.1,<1.26,>=1.21.1 in /usr/local/lib/python3.6/dist-packages (from requests<3.0.0,>=2.13.0->spacy<2.4.0,>=2.3.0->en_core_web_sm==2.3.1) (1.24.3)\n",
            "Requirement already satisfied: chardet<4,>=3.0.2 in /usr/local/lib/python3.6/dist-packages (from requests<3.0.0,>=2.13.0->spacy<2.4.0,>=2.3.0->en_core_web_sm==2.3.1) (3.0.4)\n",
            "Requirement already satisfied: importlib-metadata>=0.20; python_version < \"3.8\" in /usr/local/lib/python3.6/dist-packages (from catalogue<1.1.0,>=0.0.7->spacy<2.4.0,>=2.3.0->en_core_web_sm==2.3.1) (2.0.0)\n",
            "Requirement already satisfied: zipp>=0.5 in /usr/local/lib/python3.6/dist-packages (from importlib-metadata>=0.20; python_version < \"3.8\"->catalogue<1.1.0,>=0.0.7->spacy<2.4.0,>=2.3.0->en_core_web_sm==2.3.1) (3.2.0)\n",
            "\u001b[38;5;2m✔ Download and installation successful\u001b[0m\n",
            "You can now load the model via spacy.load('en_core_web_sm')\n"
          ],
          "name": "stdout"
        }
      ]
    },
    {
      "cell_type": "code",
      "metadata": {
        "id": "NPLZ3OoRpSVE",
        "outputId": "365fe2e0-3554-44bc-ab7f-6473ea10a5f3",
        "colab": {
          "base_uri": "https://localhost:8080/"
        }
      },
      "source": [
        "!python -m spacy download en_core_web_md"
      ],
      "execution_count": 5,
      "outputs": [
        {
          "output_type": "stream",
          "text": [
            "Requirement already satisfied: en_core_web_md==2.3.1 from https://github.com/explosion/spacy-models/releases/download/en_core_web_md-2.3.1/en_core_web_md-2.3.1.tar.gz#egg=en_core_web_md==2.3.1 in /usr/local/lib/python3.6/dist-packages (2.3.1)\n",
            "Requirement already satisfied: spacy<2.4.0,>=2.3.0 in /usr/local/lib/python3.6/dist-packages (from en_core_web_md==2.3.1) (2.3.2)\n",
            "Requirement already satisfied: srsly<1.1.0,>=1.0.2 in /usr/local/lib/python3.6/dist-packages (from spacy<2.4.0,>=2.3.0->en_core_web_md==2.3.1) (1.0.2)\n",
            "Requirement already satisfied: tqdm<5.0.0,>=4.38.0 in /usr/local/lib/python3.6/dist-packages (from spacy<2.4.0,>=2.3.0->en_core_web_md==2.3.1) (4.41.1)\n",
            "Requirement already satisfied: setuptools in /usr/local/lib/python3.6/dist-packages (from spacy<2.4.0,>=2.3.0->en_core_web_md==2.3.1) (50.3.0)\n",
            "Requirement already satisfied: blis<0.5.0,>=0.4.0 in /usr/local/lib/python3.6/dist-packages (from spacy<2.4.0,>=2.3.0->en_core_web_md==2.3.1) (0.4.1)\n",
            "Requirement already satisfied: requests<3.0.0,>=2.13.0 in /usr/local/lib/python3.6/dist-packages (from spacy<2.4.0,>=2.3.0->en_core_web_md==2.3.1) (2.23.0)\n",
            "Requirement already satisfied: preshed<3.1.0,>=3.0.2 in /usr/local/lib/python3.6/dist-packages (from spacy<2.4.0,>=2.3.0->en_core_web_md==2.3.1) (3.0.2)\n",
            "Requirement already satisfied: murmurhash<1.1.0,>=0.28.0 in /usr/local/lib/python3.6/dist-packages (from spacy<2.4.0,>=2.3.0->en_core_web_md==2.3.1) (1.0.2)\n",
            "Requirement already satisfied: cymem<2.1.0,>=2.0.2 in /usr/local/lib/python3.6/dist-packages (from spacy<2.4.0,>=2.3.0->en_core_web_md==2.3.1) (2.0.3)\n",
            "Requirement already satisfied: wasabi<1.1.0,>=0.4.0 in /usr/local/lib/python3.6/dist-packages (from spacy<2.4.0,>=2.3.0->en_core_web_md==2.3.1) (0.8.0)\n",
            "Requirement already satisfied: thinc==7.4.1 in /usr/local/lib/python3.6/dist-packages (from spacy<2.4.0,>=2.3.0->en_core_web_md==2.3.1) (7.4.1)\n",
            "Requirement already satisfied: numpy>=1.15.0 in /usr/local/lib/python3.6/dist-packages (from spacy<2.4.0,>=2.3.0->en_core_web_md==2.3.1) (1.18.5)\n",
            "Requirement already satisfied: catalogue<1.1.0,>=0.0.7 in /usr/local/lib/python3.6/dist-packages (from spacy<2.4.0,>=2.3.0->en_core_web_md==2.3.1) (1.0.0)\n",
            "Requirement already satisfied: plac<1.2.0,>=0.9.6 in /usr/local/lib/python3.6/dist-packages (from spacy<2.4.0,>=2.3.0->en_core_web_md==2.3.1) (1.1.3)\n",
            "Requirement already satisfied: idna<3,>=2.5 in /usr/local/lib/python3.6/dist-packages (from requests<3.0.0,>=2.13.0->spacy<2.4.0,>=2.3.0->en_core_web_md==2.3.1) (2.10)\n",
            "Requirement already satisfied: certifi>=2017.4.17 in /usr/local/lib/python3.6/dist-packages (from requests<3.0.0,>=2.13.0->spacy<2.4.0,>=2.3.0->en_core_web_md==2.3.1) (2020.6.20)\n",
            "Requirement already satisfied: chardet<4,>=3.0.2 in /usr/local/lib/python3.6/dist-packages (from requests<3.0.0,>=2.13.0->spacy<2.4.0,>=2.3.0->en_core_web_md==2.3.1) (3.0.4)\n",
            "Requirement already satisfied: urllib3!=1.25.0,!=1.25.1,<1.26,>=1.21.1 in /usr/local/lib/python3.6/dist-packages (from requests<3.0.0,>=2.13.0->spacy<2.4.0,>=2.3.0->en_core_web_md==2.3.1) (1.24.3)\n",
            "Requirement already satisfied: importlib-metadata>=0.20; python_version < \"3.8\" in /usr/local/lib/python3.6/dist-packages (from catalogue<1.1.0,>=0.0.7->spacy<2.4.0,>=2.3.0->en_core_web_md==2.3.1) (2.0.0)\n",
            "Requirement already satisfied: zipp>=0.5 in /usr/local/lib/python3.6/dist-packages (from importlib-metadata>=0.20; python_version < \"3.8\"->catalogue<1.1.0,>=0.0.7->spacy<2.4.0,>=2.3.0->en_core_web_md==2.3.1) (3.2.0)\n",
            "\u001b[38;5;2m✔ Download and installation successful\u001b[0m\n",
            "You can now load the model via spacy.load('en_core_web_md')\n"
          ],
          "name": "stdout"
        }
      ]
    },
    {
      "cell_type": "code",
      "metadata": {
        "id": "XZD-TBcbpSRZ",
        "outputId": "cfc57311-65a2-4847-aea4-d0b46515f466",
        "colab": {
          "base_uri": "https://localhost:8080/"
        }
      },
      "source": [
        "!python -m spacy download en_core_web_lg"
      ],
      "execution_count": 6,
      "outputs": [
        {
          "output_type": "stream",
          "text": [
            "Requirement already satisfied: en_core_web_lg==2.3.1 from https://github.com/explosion/spacy-models/releases/download/en_core_web_lg-2.3.1/en_core_web_lg-2.3.1.tar.gz#egg=en_core_web_lg==2.3.1 in /usr/local/lib/python3.6/dist-packages (2.3.1)\n",
            "Requirement already satisfied: spacy<2.4.0,>=2.3.0 in /usr/local/lib/python3.6/dist-packages (from en_core_web_lg==2.3.1) (2.3.2)\n",
            "Requirement already satisfied: numpy>=1.15.0 in /usr/local/lib/python3.6/dist-packages (from spacy<2.4.0,>=2.3.0->en_core_web_lg==2.3.1) (1.18.5)\n",
            "Requirement already satisfied: thinc==7.4.1 in /usr/local/lib/python3.6/dist-packages (from spacy<2.4.0,>=2.3.0->en_core_web_lg==2.3.1) (7.4.1)\n",
            "Requirement already satisfied: requests<3.0.0,>=2.13.0 in /usr/local/lib/python3.6/dist-packages (from spacy<2.4.0,>=2.3.0->en_core_web_lg==2.3.1) (2.23.0)\n",
            "Requirement already satisfied: plac<1.2.0,>=0.9.6 in /usr/local/lib/python3.6/dist-packages (from spacy<2.4.0,>=2.3.0->en_core_web_lg==2.3.1) (1.1.3)\n",
            "Requirement already satisfied: setuptools in /usr/local/lib/python3.6/dist-packages (from spacy<2.4.0,>=2.3.0->en_core_web_lg==2.3.1) (50.3.0)\n",
            "Requirement already satisfied: murmurhash<1.1.0,>=0.28.0 in /usr/local/lib/python3.6/dist-packages (from spacy<2.4.0,>=2.3.0->en_core_web_lg==2.3.1) (1.0.2)\n",
            "Requirement already satisfied: wasabi<1.1.0,>=0.4.0 in /usr/local/lib/python3.6/dist-packages (from spacy<2.4.0,>=2.3.0->en_core_web_lg==2.3.1) (0.8.0)\n",
            "Requirement already satisfied: preshed<3.1.0,>=3.0.2 in /usr/local/lib/python3.6/dist-packages (from spacy<2.4.0,>=2.3.0->en_core_web_lg==2.3.1) (3.0.2)\n",
            "Requirement already satisfied: catalogue<1.1.0,>=0.0.7 in /usr/local/lib/python3.6/dist-packages (from spacy<2.4.0,>=2.3.0->en_core_web_lg==2.3.1) (1.0.0)\n",
            "Requirement already satisfied: tqdm<5.0.0,>=4.38.0 in /usr/local/lib/python3.6/dist-packages (from spacy<2.4.0,>=2.3.0->en_core_web_lg==2.3.1) (4.41.1)\n",
            "Requirement already satisfied: srsly<1.1.0,>=1.0.2 in /usr/local/lib/python3.6/dist-packages (from spacy<2.4.0,>=2.3.0->en_core_web_lg==2.3.1) (1.0.2)\n",
            "Requirement already satisfied: cymem<2.1.0,>=2.0.2 in /usr/local/lib/python3.6/dist-packages (from spacy<2.4.0,>=2.3.0->en_core_web_lg==2.3.1) (2.0.3)\n",
            "Requirement already satisfied: blis<0.5.0,>=0.4.0 in /usr/local/lib/python3.6/dist-packages (from spacy<2.4.0,>=2.3.0->en_core_web_lg==2.3.1) (0.4.1)\n",
            "Requirement already satisfied: urllib3!=1.25.0,!=1.25.1,<1.26,>=1.21.1 in /usr/local/lib/python3.6/dist-packages (from requests<3.0.0,>=2.13.0->spacy<2.4.0,>=2.3.0->en_core_web_lg==2.3.1) (1.24.3)\n",
            "Requirement already satisfied: idna<3,>=2.5 in /usr/local/lib/python3.6/dist-packages (from requests<3.0.0,>=2.13.0->spacy<2.4.0,>=2.3.0->en_core_web_lg==2.3.1) (2.10)\n",
            "Requirement already satisfied: chardet<4,>=3.0.2 in /usr/local/lib/python3.6/dist-packages (from requests<3.0.0,>=2.13.0->spacy<2.4.0,>=2.3.0->en_core_web_lg==2.3.1) (3.0.4)\n",
            "Requirement already satisfied: certifi>=2017.4.17 in /usr/local/lib/python3.6/dist-packages (from requests<3.0.0,>=2.13.0->spacy<2.4.0,>=2.3.0->en_core_web_lg==2.3.1) (2020.6.20)\n",
            "Requirement already satisfied: importlib-metadata>=0.20; python_version < \"3.8\" in /usr/local/lib/python3.6/dist-packages (from catalogue<1.1.0,>=0.0.7->spacy<2.4.0,>=2.3.0->en_core_web_lg==2.3.1) (2.0.0)\n",
            "Requirement already satisfied: zipp>=0.5 in /usr/local/lib/python3.6/dist-packages (from importlib-metadata>=0.20; python_version < \"3.8\"->catalogue<1.1.0,>=0.0.7->spacy<2.4.0,>=2.3.0->en_core_web_lg==2.3.1) (3.2.0)\n",
            "\u001b[38;5;2m✔ Download and installation successful\u001b[0m\n",
            "You can now load the model via spacy.load('en_core_web_lg')\n"
          ],
          "name": "stdout"
        }
      ]
    },
    {
      "cell_type": "markdown",
      "metadata": {
        "id": "g56Mcbq6xo30"
      },
      "source": [
        "The next step is to do some preliminary steps like importing related packages and setting up tensorboard and plotter function ."
      ]
    },
    {
      "cell_type": "code",
      "metadata": {
        "id": "wAGBdLqcCCK8",
        "outputId": "64a43575-e3b0-4c1d-8e07-3df5c83f49e7",
        "colab": {
          "base_uri": "https://localhost:8080/"
        }
      },
      "source": [
        "# Importing Related Packages\n",
        "\n",
        "import pandas as pd\n",
        "import numpy as np\n",
        "import matplotlib.pyplot as plt\n",
        "import tensorflow as tf\n",
        "AUTOTUNE = tf.data.experimental.AUTOTUNE\n",
        "import nltk\n",
        "from nltk.tokenize import word_tokenize\n",
        "from nltk.corpus import stopwords\n",
        "from nltk.corpus import stopwords\n",
        "from nltk.tokenize import word_tokenize, TweetTokenizer\n",
        "nltk.download('stopwords')\n",
        "nltk.download('punkt')\n",
        "import string\n",
        "\n",
        "import re\n",
        "from tensorflow.keras.layers import Embedding\n",
        "from tensorflow.keras.preprocessing.sequence import pad_sequences\n",
        "from tensorflow.keras.models import Sequential\n",
        "from tensorflow.keras.preprocessing.text import one_hot\n",
        "from tensorflow.keras.layers import LSTM\n",
        "from tensorflow.keras.layers import Dense\n",
        "import spacy \n",
        "from spacy.lang.en.stop_words import STOP_WORDS\n",
        "\n",
        "\n",
        "import pathlib\n",
        "import shutil\n",
        "import tempfile\n",
        "from  IPython import display"
      ],
      "execution_count": 7,
      "outputs": [
        {
          "output_type": "stream",
          "text": [
            "[nltk_data] Downloading package stopwords to /root/nltk_data...\n",
            "[nltk_data]   Package stopwords is already up-to-date!\n",
            "[nltk_data] Downloading package punkt to /root/nltk_data...\n",
            "[nltk_data]   Package punkt is already up-to-date!\n"
          ],
          "name": "stdout"
        }
      ]
    },
    {
      "cell_type": "code",
      "metadata": {
        "id": "939jFOCeCCCj"
      },
      "source": [
        "# Loading Tensorboard\n",
        "logdir = pathlib.Path(tempfile.mkdtemp())/\"tensorboard_logs\"\n",
        "shutil.rmtree(logdir, ignore_errors=True)\n",
        "\n",
        "# Load the TensorBoard notebook extension\n",
        "%load_ext tensorboard\n",
        "\n",
        "# Open an embedded TensorBoard viewer\n",
        "%tensorboard --logdir {logdir}/models"
      ],
      "execution_count": null,
      "outputs": []
    },
    {
      "cell_type": "code",
      "metadata": {
        "id": "4k5AbgNRCB-Y"
      },
      "source": [
        "# Plotter Function to plot performance of models\n",
        "\n",
        "from itertools import cycle\n",
        "def plotter(history_hold, metric = 'binary_crossentropy', ylim=[0.0, 1.0]):\n",
        "  cycol = cycle('bgrcmk')\n",
        "  for name, item in history_hold.items():\n",
        "    y_train = item.history[metric]\n",
        "    y_val = item.history['val_' + metric]\n",
        "    x_train = np.arange(0,len(y_val))\n",
        "\n",
        "    c=next(cycol)\n",
        "\n",
        "    plt.plot(x_train, y_train, c+'-', label=name+'_train')\n",
        "    plt.plot(x_train, y_val, c+'--', label=name+'_val')\n",
        "\n",
        "  plt.legend()\n",
        "  plt.xlim([1, max(plt.xlim())])\n",
        "  plt.ylim(ylim)\n",
        "  plt.xlabel('Epoch')\n",
        "  plt.ylabel(metric)\n",
        "  plt.grid(True)"
      ],
      "execution_count": 9,
      "outputs": []
    },
    {
      "cell_type": "markdown",
      "metadata": {
        "id": "xXlnOSPUrF18"
      },
      "source": [
        "# Reading data and exploring related features\n"
      ]
    },
    {
      "cell_type": "markdown",
      "metadata": {
        "id": "vVp8CiXxyfcR"
      },
      "source": [
        "We use simple read_csv function to read the training as well as test data into dataframes.\n",
        "We can see from the below output that, train data has 2914 values of 5 different features while test data has 1956 values of 5 features."
      ]
    },
    {
      "cell_type": "code",
      "metadata": {
        "id": "A4RM46CxCoSJ",
        "outputId": "83a0a7a5-22b6-4c43-b50e-1293495bf2be",
        "colab": {
          "base_uri": "https://localhost:8080/"
        }
      },
      "source": [
        "# Reading Training and Test datasets\n",
        "#train_data = \"/content/drive/My Drive/Colab Notebooks/TweetsDataset/train.csv\"\n",
        "#test_data = \"/content/drive/My Drive/Colab Notebooks/TweetsDataset/test.csv\"\n",
        "train_data = \"/content/drive/My Drive/ColabNotebooks/DeepLearningLabs/Assignment2/StanceDataset/train.csv\"\n",
        "test_data = \"/content/drive/My Drive/ColabNotebooks/DeepLearningLabs/Assignment2/StanceDataset/test.csv\"\n",
        "\n",
        "traindata = pd.read_csv(train_data, engine='python')\n",
        "testdata = pd.read_csv(test_data, engine='python')\n",
        "print(traindata.shape)\n",
        "print(testdata.shape)"
      ],
      "execution_count": 10,
      "outputs": [
        {
          "output_type": "stream",
          "text": [
            "(2914, 5)\n",
            "(1956, 5)\n"
          ],
          "name": "stdout"
        }
      ]
    },
    {
      "cell_type": "markdown",
      "metadata": {
        "id": "o8jTXRWvy6nr"
      },
      "source": [
        "The features of the dataset are : Tweet, Target, Stance, Opinion_towards and Sentiment. Out of which our main aim is to predict the Stance of a tweet if Tweet and Target is provided. So for our experiment, we dont need fetures like Opinion_towards and Sentiment."
      ]
    },
    {
      "cell_type": "code",
      "metadata": {
        "id": "j9ZArRuxrYkx",
        "outputId": "c2f0bfd8-0847-47a9-cdfe-1c593f6e0227",
        "colab": {
          "base_uri": "https://localhost:8080/"
        }
      },
      "source": [
        "traindata.info()"
      ],
      "execution_count": 11,
      "outputs": [
        {
          "output_type": "stream",
          "text": [
            "<class 'pandas.core.frame.DataFrame'>\n",
            "RangeIndex: 2914 entries, 0 to 2913\n",
            "Data columns (total 5 columns):\n",
            " #   Column           Non-Null Count  Dtype \n",
            "---  ------           --------------  ----- \n",
            " 0   Tweet            2914 non-null   object\n",
            " 1   Target           2914 non-null   object\n",
            " 2   Stance           2914 non-null   object\n",
            " 3   Opinion Towards  2914 non-null   object\n",
            " 4   Sentiment        2914 non-null   object\n",
            "dtypes: object(5)\n",
            "memory usage: 114.0+ KB\n"
          ],
          "name": "stdout"
        }
      ]
    },
    {
      "cell_type": "markdown",
      "metadata": {
        "id": "QtPBm7yWzYsR"
      },
      "source": [
        "We can see from the below code output that, traindata consists of tweets related to 5 different Target values namely,\n",
        "\n",
        "1.   Hillary Clinton\n",
        "2.   Feminist Movement\n",
        "3.   Legalization of abortion\n",
        "4.   Atheism\n",
        "5.   Climate Change is a Real Concern\n",
        "\n",
        "And the tweets are classified into 3 Stance values namely,\n",
        "\n",
        "1.   tweets that FAVOR the target value\n",
        "2.   Tweets which are AGAINST the target value\n",
        "3.   Tweets which are neither in FAVOR nor AGAINST (i.e. NONE)\n",
        "\n",
        "We can see the number tweets for each target value as well as number of tweets of eah Stance values described below."
      ]
    },
    {
      "cell_type": "code",
      "metadata": {
        "id": "HJY2bxGvCn-J",
        "outputId": "44e758fa-567c-4399-a553-c840b81bbe91",
        "colab": {
          "base_uri": "https://localhost:8080/"
        }
      },
      "source": [
        "# We have to classify the stance of tweets according to the tweet statements as well as the target of the tweet.\n",
        "\n",
        "print(traindata['Target'].value_counts())\n",
        "print(\"----------------------------------------------------------\")\n",
        "print(traindata['Stance'].value_counts())"
      ],
      "execution_count": 12,
      "outputs": [
        {
          "output_type": "stream",
          "text": [
            "Hillary Clinton                     689\n",
            "Feminist Movement                   664\n",
            "Legalization of Abortion            653\n",
            "Atheism                             513\n",
            "Climate Change is a Real Concern    395\n",
            "Name: Target, dtype: int64\n",
            "----------------------------------------------------------\n",
            "AGAINST    1395\n",
            "NONE        766\n",
            "FAVOR       753\n",
            "Name: Stance, dtype: int64\n"
          ],
          "name": "stdout"
        }
      ]
    },
    {
      "cell_type": "markdown",
      "metadata": {
        "id": "MQUutoH90mWR"
      },
      "source": [
        "As a next task we try to explore the distribution of tweets as per their Stance values for each target values."
      ]
    },
    {
      "cell_type": "code",
      "metadata": {
        "id": "XjsnLnseCn6s",
        "outputId": "61dce4d3-e9df-4246-842e-f29532634124",
        "colab": {
          "base_uri": "https://localhost:8080/"
        }
      },
      "source": [
        "# The next exploration is to check the distribution of tweets of different stance values across each target.\n",
        "traindata.groupby(['Target'])['Stance'].value_counts()"
      ],
      "execution_count": 13,
      "outputs": [
        {
          "output_type": "execute_result",
          "data": {
            "text/plain": [
              "Target                            Stance \n",
              "Atheism                           AGAINST    304\n",
              "                                  NONE       117\n",
              "                                  FAVOR       92\n",
              "Climate Change is a Real Concern  FAVOR      212\n",
              "                                  NONE       168\n",
              "                                  AGAINST     15\n",
              "Feminist Movement                 AGAINST    328\n",
              "                                  FAVOR      210\n",
              "                                  NONE       126\n",
              "Hillary Clinton                   AGAINST    393\n",
              "                                  NONE       178\n",
              "                                  FAVOR      118\n",
              "Legalization of Abortion          AGAINST    355\n",
              "                                  NONE       177\n",
              "                                  FAVOR      121\n",
              "Name: Stance, dtype: int64"
            ]
          },
          "metadata": {
            "tags": []
          },
          "execution_count": 13
        }
      ]
    },
    {
      "cell_type": "markdown",
      "metadata": {
        "id": "VbjzHf9k09i9"
      },
      "source": [
        "From the above result, we can see that the number of tweets are not evenly distributed amongst each target values. For example, There are in total 1395 tweets which are of Stance AGAINST while only  753 tweets are in FAVOR with their target value.\n",
        "\n",
        "Furthermore, we can see that, in each target value, Tweets are not distributed evenly. For example, there are 393 tweets which are in AGAINST with target 'Hillary Clinton' while there are only 15 tweets which are in AGAINST of 'Climate Change is a Real Concern'.\n",
        "\n",
        "For futher better understanding we try to plot some exploration visualisations of the tweet distribution among each target class."
      ]
    },
    {
      "cell_type": "code",
      "metadata": {
        "id": "hy6FdX2-y34o",
        "outputId": "c4d11a32-afbb-498e-e45c-ee355eccfe99",
        "colab": {
          "base_uri": "https://localhost:8080/",
          "height": 197
        }
      },
      "source": [
        "# Lets try to plot a graph of the above distribution to check whether there is a class imbalance issue in the dataset\n",
        "\n",
        "Target = traindata['Target'].unique().tolist()\n",
        "df = pd.DataFrame(columns=['Target', 'FAVOR', 'AGAINST', 'NONE'])\n",
        "for target in Target:\n",
        "  data = traindata[traindata['Target']==target]\n",
        "  #print(data[data['Stance']=='FAVOR'].shape[0])\n",
        "  df = df.append({'Target': target, 'FAVOR': data[data['Stance']=='FAVOR'].shape[0], 'AGAINST': data[data['Stance']=='AGAINST'].shape[0], 'NONE': data[data['Stance']=='NONE'].shape[0]}, ignore_index= True)\n",
        "df"
      ],
      "execution_count": 14,
      "outputs": [
        {
          "output_type": "execute_result",
          "data": {
            "text/html": [
              "<div>\n",
              "<style scoped>\n",
              "    .dataframe tbody tr th:only-of-type {\n",
              "        vertical-align: middle;\n",
              "    }\n",
              "\n",
              "    .dataframe tbody tr th {\n",
              "        vertical-align: top;\n",
              "    }\n",
              "\n",
              "    .dataframe thead th {\n",
              "        text-align: right;\n",
              "    }\n",
              "</style>\n",
              "<table border=\"1\" class=\"dataframe\">\n",
              "  <thead>\n",
              "    <tr style=\"text-align: right;\">\n",
              "      <th></th>\n",
              "      <th>Target</th>\n",
              "      <th>FAVOR</th>\n",
              "      <th>AGAINST</th>\n",
              "      <th>NONE</th>\n",
              "    </tr>\n",
              "  </thead>\n",
              "  <tbody>\n",
              "    <tr>\n",
              "      <th>0</th>\n",
              "      <td>Hillary Clinton</td>\n",
              "      <td>118</td>\n",
              "      <td>393</td>\n",
              "      <td>178</td>\n",
              "    </tr>\n",
              "    <tr>\n",
              "      <th>1</th>\n",
              "      <td>Legalization of Abortion</td>\n",
              "      <td>121</td>\n",
              "      <td>355</td>\n",
              "      <td>177</td>\n",
              "    </tr>\n",
              "    <tr>\n",
              "      <th>2</th>\n",
              "      <td>Atheism</td>\n",
              "      <td>92</td>\n",
              "      <td>304</td>\n",
              "      <td>117</td>\n",
              "    </tr>\n",
              "    <tr>\n",
              "      <th>3</th>\n",
              "      <td>Climate Change is a Real Concern</td>\n",
              "      <td>212</td>\n",
              "      <td>15</td>\n",
              "      <td>168</td>\n",
              "    </tr>\n",
              "    <tr>\n",
              "      <th>4</th>\n",
              "      <td>Feminist Movement</td>\n",
              "      <td>210</td>\n",
              "      <td>328</td>\n",
              "      <td>126</td>\n",
              "    </tr>\n",
              "  </tbody>\n",
              "</table>\n",
              "</div>"
            ],
            "text/plain": [
              "                             Target FAVOR AGAINST NONE\n",
              "0                   Hillary Clinton   118     393  178\n",
              "1          Legalization of Abortion   121     355  177\n",
              "2                           Atheism    92     304  117\n",
              "3  Climate Change is a Real Concern   212      15  168\n",
              "4                 Feminist Movement   210     328  126"
            ]
          },
          "metadata": {
            "tags": []
          },
          "execution_count": 14
        }
      ]
    },
    {
      "cell_type": "code",
      "metadata": {
        "id": "G3eHwwwP_82t",
        "outputId": "bbd6db4e-834d-4d9f-dd13-4a61bedf2bfb",
        "colab": {
          "base_uri": "https://localhost:8080/",
          "height": 606
        }
      },
      "source": [
        "# Grouped bar graph for stance values of each target value.\n",
        "pos = list(range(len(df['FAVOR']))) \n",
        "width = 0.25 \n",
        "fig, ax = plt.subplots(figsize=(20,10))\n",
        "plt.bar(pos, df['FAVOR'], width, alpha=0.5, color='#FF8000', label=df['Target'][0]) \n",
        "plt.bar([p + width for p in pos], df['AGAINST'], width, alpha=0.5, color='#0080FF', label=df['Target'][1]) \n",
        "plt.bar([p + width*2 for p in pos], df['NONE'], width, alpha=0.5, color='#66FF66', label=df['Target'][2]) \n",
        "ax.set_ylabel('Count')\n",
        "ax.set_title('Count of tweets')\n",
        "ax.set_xticks([p + 1.5 * width for p in pos])\n",
        "ax.set_xticklabels(df['Target'])\n",
        "plt.xlim(min(pos)-width, max(pos)+width*4)\n",
        "plt.ylim([0, max(df['FAVOR'] + df['AGAINST'] + df['NONE'])] )\n",
        "plt.legend(['FAVOR', 'AGAINST', 'NONE'], loc='upper right')\n",
        "plt.grid()\n",
        "plt.show()"
      ],
      "execution_count": 15,
      "outputs": [
        {
          "output_type": "display_data",
          "data": {
            "image/png": "[encoded data removed]",
            "text/plain": [
              "<Figure size 1440x720 with 1 Axes>"
            ]
          },
          "metadata": {
            "tags": [],
            "needs_background": "light"
          }
        }
      ]
    },
    {
      "cell_type": "markdown",
      "metadata": {
        "id": "UoSqqoTashRa"
      },
      "source": [
        "We can see from the above exploration that there is a large difference between number of tweets of each target value. We can also find out that there is a class imbalance problem present in the data as number of tweets have large difference between each stance for each target. For example, for target value \"Climate Change is a Real Concern\", there are only 15 tweets with Stance \"AGAINST\" it.\n",
        "\n",
        "\n",
        "So below we are using two different appraches to tackle this problem. In the first approach we are considering the whole dataset as an input to a single model and try to build a deep model to train this data. In the second approach we divide the dataset according to the target values and then try to build a model for each target value to predict its stance so there are 5 different models for 5 different target values.\n"
      ]
    },
    {
      "cell_type": "markdown",
      "metadata": {
        "id": "X9O7hrXxaMGO"
      },
      "source": [
        "# Approach 1 : Building a model which takes whole data as a input."
      ]
    },
    {
      "cell_type": "markdown",
      "metadata": {
        "id": "7fniHrrVx5wp"
      },
      "source": [
        "The main task is to predict the Stance of a particular tweet based on the tweet content and the target it is mentioned for. \n",
        "\n",
        "So for classification purpose we concatenate the tweet statement with its corresponding target value and store it as a complete tweet.\n"
      ]
    },
    {
      "cell_type": "code",
      "metadata": {
        "id": "9D95ZRbdanCp",
        "outputId": "fa7177b9-3684-4d56-844b-29264e0b8c4d",
        "colab": {
          "base_uri": "https://localhost:8080/"
        }
      },
      "source": [
        "# as we have to use only tweet sentences and Target as an input for detecting the Stance, we concatenate this features into a single feature \n",
        "\n",
        "train_data = traindata[['Tweet','Stance','Target']]\n",
        "train_data[\"Tweet\"] = train_data[\"Tweet\"] + \" \" + train_data[\"Target\"]\n",
        "train_data.shape"
      ],
      "execution_count": 16,
      "outputs": [
        {
          "output_type": "stream",
          "text": [
            "/usr/local/lib/python3.6/dist-packages/ipykernel_launcher.py:4: SettingWithCopyWarning: \n",
            "A value is trying to be set on a copy of a slice from a DataFrame.\n",
            "Try using .loc[row_indexer,col_indexer] = value instead\n",
            "\n",
            "See the caveats in the documentation: https://pandas.pydata.org/pandas-docs/stable/user_guide/indexing.html#returning-a-view-versus-a-copy\n",
            "  after removing the cwd from sys.path.\n"
          ],
          "name": "stderr"
        },
        {
          "output_type": "execute_result",
          "data": {
            "text/plain": [
              "(2914, 3)"
            ]
          },
          "metadata": {
            "tags": []
          },
          "execution_count": 16
        }
      ]
    },
    {
      "cell_type": "markdown",
      "metadata": {
        "id": "hpJ9ffx6RXe9"
      },
      "source": [
        "***Data Exploration***\n",
        "\n",
        "For futher deep understanding of tweet data we tried some exploration in tweets before preprocessing it. We get a better idea of which kind of preprocessing steps we need to do from it.\n",
        "\n",
        "---\n",
        "\n"
      ]
    },
    {
      "cell_type": "markdown",
      "metadata": {
        "id": "L4b9S5nyyxSh"
      },
      "source": [
        "As a first exploration step, we need to explore the number of words and characters in tweet statements."
      ]
    },
    {
      "cell_type": "code",
      "metadata": {
        "id": "A9pgoOiManJo",
        "outputId": "3596bea1-e052-4090-cfb3-7930550099a7",
        "colab": {
          "base_uri": "https://localhost:8080/",
          "height": 304
        }
      },
      "source": [
        "# Some more exloration about the tweets which may helps in preprocessing\n",
        "\n",
        "# Word count in the Tweet column \n",
        "\n",
        "train_data['Word_Count'] = train_data['Tweet'].apply(lambda x: len(str(x).split()))\n",
        "\n",
        "\n",
        "## Character Counts in Tweet column\n",
        "\n",
        "train_data['Character_Count'] = train_data['Tweet'].apply(lambda x: len(x))\n",
        "\n",
        "\n",
        "train_data.head()"
      ],
      "execution_count": 17,
      "outputs": [
        {
          "output_type": "stream",
          "text": [
            "/usr/local/lib/python3.6/dist-packages/ipykernel_launcher.py:5: SettingWithCopyWarning: \n",
            "A value is trying to be set on a copy of a slice from a DataFrame.\n",
            "Try using .loc[row_indexer,col_indexer] = value instead\n",
            "\n",
            "See the caveats in the documentation: https://pandas.pydata.org/pandas-docs/stable/user_guide/indexing.html#returning-a-view-versus-a-copy\n",
            "  \"\"\"\n"
          ],
          "name": "stderr"
        },
        {
          "output_type": "execute_result",
          "data": {
            "text/html": [
              "<div>\n",
              "<style scoped>\n",
              "    .dataframe tbody tr th:only-of-type {\n",
              "        vertical-align: middle;\n",
              "    }\n",
              "\n",
              "    .dataframe tbody tr th {\n",
              "        vertical-align: top;\n",
              "    }\n",
              "\n",
              "    .dataframe thead th {\n",
              "        text-align: right;\n",
              "    }\n",
              "</style>\n",
              "<table border=\"1\" class=\"dataframe\">\n",
              "  <thead>\n",
              "    <tr style=\"text-align: right;\">\n",
              "      <th></th>\n",
              "      <th>Tweet</th>\n",
              "      <th>Stance</th>\n",
              "      <th>Target</th>\n",
              "      <th>Word_Count</th>\n",
              "      <th>Character_Count</th>\n",
              "    </tr>\n",
              "  </thead>\n",
              "  <tbody>\n",
              "    <tr>\n",
              "      <th>0</th>\n",
              "      <td>@tedcruz And, #HandOverTheServer she wiped cle...</td>\n",
              "      <td>AGAINST</td>\n",
              "      <td>Hillary Clinton</td>\n",
              "      <td>19</td>\n",
              "      <td>143</td>\n",
              "    </tr>\n",
              "    <tr>\n",
              "      <th>1</th>\n",
              "      <td>Hillary is our best choice if we truly want to...</td>\n",
              "      <td>FAVOR</td>\n",
              "      <td>Hillary Clinton</td>\n",
              "      <td>18</td>\n",
              "      <td>105</td>\n",
              "    </tr>\n",
              "    <tr>\n",
              "      <th>2</th>\n",
              "      <td>@TheView I think our country is ready for a fe...</td>\n",
              "      <td>AGAINST</td>\n",
              "      <td>Hillary Clinton</td>\n",
              "      <td>18</td>\n",
              "      <td>97</td>\n",
              "    </tr>\n",
              "    <tr>\n",
              "      <th>3</th>\n",
              "      <td>I just gave an unhealthy amount of my hard-ear...</td>\n",
              "      <td>AGAINST</td>\n",
              "      <td>Hillary Clinton</td>\n",
              "      <td>21</td>\n",
              "      <td>140</td>\n",
              "    </tr>\n",
              "    <tr>\n",
              "      <th>4</th>\n",
              "      <td>@PortiaABoulger Thank you for adding me to you...</td>\n",
              "      <td>NONE</td>\n",
              "      <td>Hillary Clinton</td>\n",
              "      <td>11</td>\n",
              "      <td>68</td>\n",
              "    </tr>\n",
              "  </tbody>\n",
              "</table>\n",
              "</div>"
            ],
            "text/plain": [
              "                                               Tweet  ... Character_Count\n",
              "0  @tedcruz And, #HandOverTheServer she wiped cle...  ...             143\n",
              "1  Hillary is our best choice if we truly want to...  ...             105\n",
              "2  @TheView I think our country is ready for a fe...  ...              97\n",
              "3  I just gave an unhealthy amount of my hard-ear...  ...             140\n",
              "4  @PortiaABoulger Thank you for adding me to you...  ...              68\n",
              "\n",
              "[5 rows x 5 columns]"
            ]
          },
          "metadata": {
            "tags": []
          },
          "execution_count": 17
        }
      ]
    },
    {
      "cell_type": "markdown",
      "metadata": {
        "id": "_g951fDh2O4W"
      },
      "source": [
        "In the next step of exploration we checked the number of stop words in the sentence as well as the average word length of the tweet."
      ]
    },
    {
      "cell_type": "code",
      "metadata": {
        "id": "WbOP51w3anhD",
        "outputId": "29c91102-9bf2-431e-ebc8-2c0c2a47c349",
        "colab": {
          "base_uri": "https://localhost:8080/",
          "height": 197
        }
      },
      "source": [
        "# Calculating the average word length [calculated using formula =  (Character_Count/Word_Count)]\n",
        "\n",
        "train_data['Average_Word_length'] = train_data['Character_Count']/train_data['Word_Count']\n",
        "\n",
        "# Counting the stop words\n",
        "\n",
        "train_data['Stop_words_count'] = train_data['Tweet'].apply(lambda x: len([t for t in x.split() if t in STOP_WORDS]))\n",
        "\n",
        "train_data.head()"
      ],
      "execution_count": 18,
      "outputs": [
        {
          "output_type": "execute_result",
          "data": {
            "text/html": [
              "<div>\n",
              "<style scoped>\n",
              "    .dataframe tbody tr th:only-of-type {\n",
              "        vertical-align: middle;\n",
              "    }\n",
              "\n",
              "    .dataframe tbody tr th {\n",
              "        vertical-align: top;\n",
              "    }\n",
              "\n",
              "    .dataframe thead th {\n",
              "        text-align: right;\n",
              "    }\n",
              "</style>\n",
              "<table border=\"1\" class=\"dataframe\">\n",
              "  <thead>\n",
              "    <tr style=\"text-align: right;\">\n",
              "      <th></th>\n",
              "      <th>Tweet</th>\n",
              "      <th>Stance</th>\n",
              "      <th>Target</th>\n",
              "      <th>Word_Count</th>\n",
              "      <th>Character_Count</th>\n",
              "      <th>Average_Word_length</th>\n",
              "      <th>Stop_words_count</th>\n",
              "    </tr>\n",
              "  </thead>\n",
              "  <tbody>\n",
              "    <tr>\n",
              "      <th>0</th>\n",
              "      <td>@tedcruz And, #HandOverTheServer she wiped cle...</td>\n",
              "      <td>AGAINST</td>\n",
              "      <td>Hillary Clinton</td>\n",
              "      <td>19</td>\n",
              "      <td>143</td>\n",
              "      <td>7.526316</td>\n",
              "      <td>3</td>\n",
              "    </tr>\n",
              "    <tr>\n",
              "      <th>1</th>\n",
              "      <td>Hillary is our best choice if we truly want to...</td>\n",
              "      <td>FAVOR</td>\n",
              "      <td>Hillary Clinton</td>\n",
              "      <td>18</td>\n",
              "      <td>105</td>\n",
              "      <td>5.833333</td>\n",
              "      <td>7</td>\n",
              "    </tr>\n",
              "    <tr>\n",
              "      <th>2</th>\n",
              "      <td>@TheView I think our country is ready for a fe...</td>\n",
              "      <td>AGAINST</td>\n",
              "      <td>Hillary Clinton</td>\n",
              "      <td>18</td>\n",
              "      <td>97</td>\n",
              "      <td>5.388889</td>\n",
              "      <td>7</td>\n",
              "    </tr>\n",
              "    <tr>\n",
              "      <th>3</th>\n",
              "      <td>I just gave an unhealthy amount of my hard-ear...</td>\n",
              "      <td>AGAINST</td>\n",
              "      <td>Hillary Clinton</td>\n",
              "      <td>21</td>\n",
              "      <td>140</td>\n",
              "      <td>6.666667</td>\n",
              "      <td>7</td>\n",
              "    </tr>\n",
              "    <tr>\n",
              "      <th>4</th>\n",
              "      <td>@PortiaABoulger Thank you for adding me to you...</td>\n",
              "      <td>NONE</td>\n",
              "      <td>Hillary Clinton</td>\n",
              "      <td>11</td>\n",
              "      <td>68</td>\n",
              "      <td>6.181818</td>\n",
              "      <td>5</td>\n",
              "    </tr>\n",
              "  </tbody>\n",
              "</table>\n",
              "</div>"
            ],
            "text/plain": [
              "                                               Tweet  ... Stop_words_count\n",
              "0  @tedcruz And, #HandOverTheServer she wiped cle...  ...                3\n",
              "1  Hillary is our best choice if we truly want to...  ...                7\n",
              "2  @TheView I think our country is ready for a fe...  ...                7\n",
              "3  I just gave an unhealthy amount of my hard-ear...  ...                7\n",
              "4  @PortiaABoulger Thank you for adding me to you...  ...                5\n",
              "\n",
              "[5 rows x 7 columns]"
            ]
          },
          "metadata": {
            "tags": []
          },
          "execution_count": 18
        }
      ]
    },
    {
      "cell_type": "markdown",
      "metadata": {
        "id": "Jly0-mF12cvr"
      },
      "source": [
        "The next step is to explore the hashtags and mentions in the tweet.  We believe gashtags and mentions play an important role during prediction task. During literature survey we came to know that from hashtags we manually extract some decisions regarding the stance of that tweet.\n",
        "\n",
        "For example, tag #NoMoreReligions depicts that the tweet should be in FAVOR with target Atheism. while tag #Godswill states probability of the tweet being AGAINST the Atheism. but some tags like #atheism are ambiguous and we cannot predict Stance manually from them.\n",
        "\n",
        "For this purpose we need to know the number of Hashtags and mentions in the tweet first."
      ]
    },
    {
      "cell_type": "code",
      "metadata": {
        "id": "ikeXBs5Banwv",
        "outputId": "4fb74f44-c2e7-40a0-9123-706a6030745c",
        "colab": {
          "base_uri": "https://localhost:8080/",
          "height": 197
        }
      },
      "source": [
        "## Count HashTags -> # and mentions -> @\n",
        "\n",
        "train_data['HashTag_Count'] = train_data['Tweet'].apply(lambda x : len([t for t in x.split() if t.startswith(\"#\")])) \n",
        "\n",
        "train_data['Mention_Count'] = train_data['Tweet'].apply(lambda x : len([t for t in x.split() if t.startswith(\"@\")])) \n",
        "\n",
        "train_data.head()"
      ],
      "execution_count": 19,
      "outputs": [
        {
          "output_type": "execute_result",
          "data": {
            "text/html": [
              "<div>\n",
              "<style scoped>\n",
              "    .dataframe tbody tr th:only-of-type {\n",
              "        vertical-align: middle;\n",
              "    }\n",
              "\n",
              "    .dataframe tbody tr th {\n",
              "        vertical-align: top;\n",
              "    }\n",
              "\n",
              "    .dataframe thead th {\n",
              "        text-align: right;\n",
              "    }\n",
              "</style>\n",
              "<table border=\"1\" class=\"dataframe\">\n",
              "  <thead>\n",
              "    <tr style=\"text-align: right;\">\n",
              "      <th></th>\n",
              "      <th>Tweet</th>\n",
              "      <th>Stance</th>\n",
              "      <th>Target</th>\n",
              "      <th>Word_Count</th>\n",
              "      <th>Character_Count</th>\n",
              "      <th>Average_Word_length</th>\n",
              "      <th>Stop_words_count</th>\n",
              "      <th>HashTag_Count</th>\n",
              "      <th>Mention_Count</th>\n",
              "    </tr>\n",
              "  </thead>\n",
              "  <tbody>\n",
              "    <tr>\n",
              "      <th>0</th>\n",
              "      <td>@tedcruz And, #HandOverTheServer she wiped cle...</td>\n",
              "      <td>AGAINST</td>\n",
              "      <td>Hillary Clinton</td>\n",
              "      <td>19</td>\n",
              "      <td>143</td>\n",
              "      <td>7.526316</td>\n",
              "      <td>3</td>\n",
              "      <td>3</td>\n",
              "      <td>1</td>\n",
              "    </tr>\n",
              "    <tr>\n",
              "      <th>1</th>\n",
              "      <td>Hillary is our best choice if we truly want to...</td>\n",
              "      <td>FAVOR</td>\n",
              "      <td>Hillary Clinton</td>\n",
              "      <td>18</td>\n",
              "      <td>105</td>\n",
              "      <td>5.833333</td>\n",
              "      <td>7</td>\n",
              "      <td>1</td>\n",
              "      <td>0</td>\n",
              "    </tr>\n",
              "    <tr>\n",
              "      <th>2</th>\n",
              "      <td>@TheView I think our country is ready for a fe...</td>\n",
              "      <td>AGAINST</td>\n",
              "      <td>Hillary Clinton</td>\n",
              "      <td>18</td>\n",
              "      <td>97</td>\n",
              "      <td>5.388889</td>\n",
              "      <td>7</td>\n",
              "      <td>0</td>\n",
              "      <td>1</td>\n",
              "    </tr>\n",
              "    <tr>\n",
              "      <th>3</th>\n",
              "      <td>I just gave an unhealthy amount of my hard-ear...</td>\n",
              "      <td>AGAINST</td>\n",
              "      <td>Hillary Clinton</td>\n",
              "      <td>21</td>\n",
              "      <td>140</td>\n",
              "      <td>6.666667</td>\n",
              "      <td>7</td>\n",
              "      <td>1</td>\n",
              "      <td>0</td>\n",
              "    </tr>\n",
              "    <tr>\n",
              "      <th>4</th>\n",
              "      <td>@PortiaABoulger Thank you for adding me to you...</td>\n",
              "      <td>NONE</td>\n",
              "      <td>Hillary Clinton</td>\n",
              "      <td>11</td>\n",
              "      <td>68</td>\n",
              "      <td>6.181818</td>\n",
              "      <td>5</td>\n",
              "      <td>0</td>\n",
              "      <td>1</td>\n",
              "    </tr>\n",
              "  </tbody>\n",
              "</table>\n",
              "</div>"
            ],
            "text/plain": [
              "                                               Tweet  ... Mention_Count\n",
              "0  @tedcruz And, #HandOverTheServer she wiped cle...  ...             1\n",
              "1  Hillary is our best choice if we truly want to...  ...             0\n",
              "2  @TheView I think our country is ready for a fe...  ...             1\n",
              "3  I just gave an unhealthy amount of my hard-ear...  ...             0\n",
              "4  @PortiaABoulger Thank you for adding me to you...  ...             1\n",
              "\n",
              "[5 rows x 9 columns]"
            ]
          },
          "metadata": {
            "tags": []
          },
          "execution_count": 19
        }
      ]
    },
    {
      "cell_type": "markdown",
      "metadata": {
        "id": "U64xah9j3-wh"
      },
      "source": [
        "In the below step we checked the number of digits and Upper case characters in the tweet. That is because we believe, people mostly write in capital letters when they are either highly in FAVOR or in AGAINST with something."
      ]
    },
    {
      "cell_type": "code",
      "metadata": {
        "id": "SSuEHVC5an8q",
        "outputId": "bf36c77e-774e-4dc3-ee84-044d594c7f18",
        "colab": {
          "base_uri": "https://localhost:8080/",
          "height": 297
        }
      },
      "source": [
        "## Checking the numeric digits present in the tweets\n",
        "\n",
        "train_data['numeric_digit_Count'] = train_data['Tweet'].apply(lambda x : len([t for t in x.split() if t.isdigit()])) \n",
        "\n",
        "# Checking the count of Upper Case in the tweet (Because mostly people write in capital when they are Happy or Sad)\n",
        "\n",
        "train_data['uppercase_Count'] = train_data['Tweet'].apply(lambda x : len([t for t in x.split() if t.isupper() and len(x)>3])) \n",
        "\n",
        "train_data.head()"
      ],
      "execution_count": 20,
      "outputs": [
        {
          "output_type": "execute_result",
          "data": {
            "text/html": [
              "<div>\n",
              "<style scoped>\n",
              "    .dataframe tbody tr th:only-of-type {\n",
              "        vertical-align: middle;\n",
              "    }\n",
              "\n",
              "    .dataframe tbody tr th {\n",
              "        vertical-align: top;\n",
              "    }\n",
              "\n",
              "    .dataframe thead th {\n",
              "        text-align: right;\n",
              "    }\n",
              "</style>\n",
              "<table border=\"1\" class=\"dataframe\">\n",
              "  <thead>\n",
              "    <tr style=\"text-align: right;\">\n",
              "      <th></th>\n",
              "      <th>Tweet</th>\n",
              "      <th>Stance</th>\n",
              "      <th>Target</th>\n",
              "      <th>Word_Count</th>\n",
              "      <th>Character_Count</th>\n",
              "      <th>Average_Word_length</th>\n",
              "      <th>Stop_words_count</th>\n",
              "      <th>HashTag_Count</th>\n",
              "      <th>Mention_Count</th>\n",
              "      <th>numeric_digit_Count</th>\n",
              "      <th>uppercase_Count</th>\n",
              "    </tr>\n",
              "  </thead>\n",
              "  <tbody>\n",
              "    <tr>\n",
              "      <th>0</th>\n",
              "      <td>@tedcruz And, #HandOverTheServer she wiped cle...</td>\n",
              "      <td>AGAINST</td>\n",
              "      <td>Hillary Clinton</td>\n",
              "      <td>19</td>\n",
              "      <td>143</td>\n",
              "      <td>7.526316</td>\n",
              "      <td>3</td>\n",
              "      <td>3</td>\n",
              "      <td>1</td>\n",
              "      <td>0</td>\n",
              "      <td>0</td>\n",
              "    </tr>\n",
              "    <tr>\n",
              "      <th>1</th>\n",
              "      <td>Hillary is our best choice if we truly want to...</td>\n",
              "      <td>FAVOR</td>\n",
              "      <td>Hillary Clinton</td>\n",
              "      <td>18</td>\n",
              "      <td>105</td>\n",
              "      <td>5.833333</td>\n",
              "      <td>7</td>\n",
              "      <td>1</td>\n",
              "      <td>0</td>\n",
              "      <td>0</td>\n",
              "      <td>0</td>\n",
              "    </tr>\n",
              "    <tr>\n",
              "      <th>2</th>\n",
              "      <td>@TheView I think our country is ready for a fe...</td>\n",
              "      <td>AGAINST</td>\n",
              "      <td>Hillary Clinton</td>\n",
              "      <td>18</td>\n",
              "      <td>97</td>\n",
              "      <td>5.388889</td>\n",
              "      <td>7</td>\n",
              "      <td>0</td>\n",
              "      <td>1</td>\n",
              "      <td>0</td>\n",
              "      <td>1</td>\n",
              "    </tr>\n",
              "    <tr>\n",
              "      <th>3</th>\n",
              "      <td>I just gave an unhealthy amount of my hard-ear...</td>\n",
              "      <td>AGAINST</td>\n",
              "      <td>Hillary Clinton</td>\n",
              "      <td>21</td>\n",
              "      <td>140</td>\n",
              "      <td>6.666667</td>\n",
              "      <td>7</td>\n",
              "      <td>1</td>\n",
              "      <td>0</td>\n",
              "      <td>0</td>\n",
              "      <td>2</td>\n",
              "    </tr>\n",
              "    <tr>\n",
              "      <th>4</th>\n",
              "      <td>@PortiaABoulger Thank you for adding me to you...</td>\n",
              "      <td>NONE</td>\n",
              "      <td>Hillary Clinton</td>\n",
              "      <td>11</td>\n",
              "      <td>68</td>\n",
              "      <td>6.181818</td>\n",
              "      <td>5</td>\n",
              "      <td>0</td>\n",
              "      <td>1</td>\n",
              "      <td>0</td>\n",
              "      <td>0</td>\n",
              "    </tr>\n",
              "  </tbody>\n",
              "</table>\n",
              "</div>"
            ],
            "text/plain": [
              "                                               Tweet  ... uppercase_Count\n",
              "0  @tedcruz And, #HandOverTheServer she wiped cle...  ...               0\n",
              "1  Hillary is our best choice if we truly want to...  ...               0\n",
              "2  @TheView I think our country is ready for a fe...  ...               1\n",
              "3  I just gave an unhealthy amount of my hard-ear...  ...               2\n",
              "4  @PortiaABoulger Thank you for adding me to you...  ...               0\n",
              "\n",
              "[5 rows x 11 columns]"
            ]
          },
          "metadata": {
            "tags": []
          },
          "execution_count": 20
        }
      ]
    },
    {
      "cell_type": "markdown",
      "metadata": {
        "id": "zYNV-2k6hrf4"
      },
      "source": [
        "\n",
        "\n",
        "---\n",
        "\n",
        "**Preprocessing the tweets**\n",
        "\n",
        "After some interesting exploration in Tweet column, we started some basic preprocessing. The first and very basic step is to convert the tweet into lowercase."
      ]
    },
    {
      "cell_type": "code",
      "metadata": {
        "id": "hr-nQaDdannk",
        "outputId": "9567400c-9a90-43c6-c8d4-b0f34635798e",
        "colab": {
          "base_uri": "https://localhost:8080/"
        }
      },
      "source": [
        "# Converting to lower case\n",
        "\n",
        "train_data['Tweet'] = train_data['Tweet'].apply(lambda x: x.lower()) \n",
        "\n",
        "train_data['Tweet'].head(2)"
      ],
      "execution_count": 21,
      "outputs": [
        {
          "output_type": "execute_result",
          "data": {
            "text/plain": [
              "0    @tedcruz and, #handovertheserver she wiped cle...\n",
              "1    hillary is our best choice if we truly want to...\n",
              "Name: Tweet, dtype: object"
            ]
          },
          "metadata": {
            "tags": []
          },
          "execution_count": 21
        }
      ]
    },
    {
      "cell_type": "markdown",
      "metadata": {
        "id": "rDra46Rl43xy"
      },
      "source": [
        "the next step is to convert contracted word into their expanded format. This step is needed as we want to seperate the words like 'don't' into 'do not' so that model can understand them clearly."
      ]
    },
    {
      "cell_type": "code",
      "metadata": {
        "id": "6vF9MaUganY7"
      },
      "source": [
        "# Contraction to Expandion [Meaning converting words like \"don't\" to \"do not\"]\n",
        "\n",
        "contractions = { \n",
        "\"ain't\": \"am not\",\n",
        "\"aren't\": \"are not\",\n",
        "\"can't\": \"cannot\",\n",
        "\"can't've\": \"cannot have\",\n",
        "\"cause\": \"because\",\n",
        "\"could've\": \"could have\",\n",
        "\"couldn't\": \"could not\",\n",
        "\"didn't\": \"did not\",\n",
        "\"doesn't\": \"does not\",\n",
        "\"don't\": \"do not\",\n",
        "\"hadn't\": \"had not\",\n",
        "\"hasn't\": \"has not\",\n",
        "\"haven't\": \"have not\",\n",
        "\"he'd\": \"he had\",\n",
        "\"he'll\": \"he will\",\n",
        "\"he's\": \"he is\",\n",
        "\"how'd\": \"how did\",\n",
        "\"how'd'y\": \"how do you\",\n",
        "\"how'll\": \"how will\",\n",
        "\"how's\": \"how is\",\n",
        "\"i'd\": \"i had\",\n",
        "\"i'll\": \"i will\",\n",
        "\"i'm\": \"i am\",\n",
        "\"i've\": \"i have\",\n",
        "\"isn't\": \"is not\",\n",
        "\"it'd\": \"it had\",\n",
        "\"it'll\": \"it will\",\n",
        "\"it's\": \"it is\",\n",
        "\"let's\": \"let us\",\n",
        "\"ma'am\": \"madam\",\n",
        "\"mayn't\": \"may not\",\n",
        "\"might've\": \"might have\",\n",
        "\"mightn't\": \"might not\",\n",
        "\"must've\": \"must have\",\n",
        "\"mustn't\": \"must not\",\n",
        "\"needn't\": \"need not\",\n",
        "\"o'clock\": \"of the clock\",\n",
        "\"oughtn't\": \"ought not\",\n",
        "\"shan't\": \"shall not\",\n",
        "\"sha'n't\": \"shall not\",\n",
        "\"she'd\": \"she had\",\n",
        "\"she'll\": \"she will\",\n",
        "\"she's\": \"she is\",\n",
        "\"should've\": \"should have\",\n",
        "\"shouldn't\": \"should not\",\n",
        "\"so've\": \"so have\",\n",
        "\"so's\": \"so is\",\n",
        "\"that'd\": \"that had\",\n",
        "\"that's\": \"that is\",\n",
        "\"there'd\": \"there had\",\n",
        "\"there's\": \"there is\",\n",
        "\"they'd\": \"they had\",\n",
        "\"they'll\": \"they will\",\n",
        "\"they're\": \"they are\",\n",
        "\"they've\": \"they have\",\n",
        "\"to've\": \"to have\",\n",
        "\"wasn't\": \"was not\",\n",
        "\"we'd\": \"we had\",\n",
        "\"we'll\": \"we will\",\n",
        "\"we're\": \"we are\",\n",
        "\"we've\": \"we have\",\n",
        "\"weren't\": \"were not\",\n",
        "\"what'll\": \"what will\",\n",
        "\"what're\": \"what are\",\n",
        "\"what's\": \"what is\",\n",
        "\"what've\": \"what have\",\n",
        "\"when's\": \"when is\",\n",
        "\"when've\": \"when have\",\n",
        "\"where'd\": \"where did\",\n",
        "\"where's\": \"where is\",\n",
        "\"where've\": \"where have\",\n",
        "\"who'll\": \"who will\",\n",
        "\"who'll've\": \"who will have\",\n",
        "\"who's\": \"who is\",\n",
        "\"who've\": \"who have\",\n",
        "\"why's\": \"why is\",\n",
        "\"why've\": \"why have\",\n",
        "\"will've\": \"will have\",\n",
        "\"won't\": \"will not\",\n",
        "\"won't've\": \"will not have\",\n",
        "\"would've\": \"would have\",\n",
        "\"wouldn't\": \"would not\",\n",
        "\"wouldn't've\": \"would not have\",\n",
        "\"y'all\": \"you all\",\n",
        "\"y'all'd\": \"you all would\",\n",
        "\"y'all'd've\": \"you all would have\",\n",
        "\"y'all're\": \"you all are\",\n",
        "\"y'all've\": \"you all have\",\n",
        "\"you'd\": \"you had\",\n",
        "\"you'll\": \"you will\",\n",
        "\"you're\": \"you are\",\n",
        "\"you've\": \"you have\",\n",
        "\" n \":\"and\",\n",
        "\" u \": \"you\",\n",
        "}\n",
        "\n",
        "def con_to_ext(x):\n",
        "  if type(x) is str:\n",
        "    for key in contractions:\n",
        "      value = contractions[key]\n",
        "      x = x.replace(key, value)\n",
        "    return x\n",
        "  else:\n",
        "    return x"
      ],
      "execution_count": 22,
      "outputs": []
    },
    {
      "cell_type": "code",
      "metadata": {
        "id": "EhfNu43aanGQ",
        "outputId": "7c35eb42-1e4f-436c-c2e3-1f28da7211bb",
        "colab": {
          "base_uri": "https://localhost:8080/"
        }
      },
      "source": [
        "train_data['Tweet'] = train_data['Tweet'].apply(lambda x: con_to_ext(x))\n",
        "train_data['Tweet'].head(5)"
      ],
      "execution_count": 23,
      "outputs": [
        {
          "output_type": "execute_result",
          "data": {
            "text/plain": [
              "0    @tedcruz and, #handovertheserver she wiped cle...\n",
              "1    hillary is our best choice if we truly want to...\n",
              "2    @theview i think our country is ready for a fe...\n",
              "3    i just gave an unhealthy amount of my hard-ear...\n",
              "4    @portiaaboulger thank you for adding me to you...\n",
              "Name: Tweet, dtype: object"
            ]
          },
          "metadata": {
            "tags": []
          },
          "execution_count": 23
        }
      ]
    },
    {
      "cell_type": "markdown",
      "metadata": {
        "id": "rfGLSMgE6lBE"
      },
      "source": [
        "The next step of preprocessing we done is to remove the email ids from the tweets as they may contain personal data in alphanumeric format which does not make sense towards Stance detection."
      ]
    },
    {
      "cell_type": "code",
      "metadata": {
        "id": "-h1KhlT_am_J"
      },
      "source": [
        "## Count and remove emails from the tweet\n",
        "import re\n",
        "train_data['email'] = train_data['Tweet'].apply(lambda x: re.findall(r'([-a-zA-Z0-9._-]+@[-a-zA-Z0-9._-]+\\.[-a-zA-Z0-9_-]+)',x))"
      ],
      "execution_count": 24,
      "outputs": []
    },
    {
      "cell_type": "code",
      "metadata": {
        "id": "97CTbaaJjKQY",
        "outputId": "ab49cb9b-293e-4904-c1d4-14896cc882ca",
        "colab": {
          "base_uri": "https://localhost:8080/",
          "height": 211
        }
      },
      "source": [
        "# Counting the number of email present in the dataset \n",
        "\n",
        "train_data['email_count'] = train_data['email'].apply(lambda x: len(x))\n",
        "\n",
        "# Checking if the emails are greater that 1\n",
        "\n",
        "train_data[train_data['email_count']>0]"
      ],
      "execution_count": 25,
      "outputs": [
        {
          "output_type": "execute_result",
          "data": {
            "text/html": [
              "<div>\n",
              "<style scoped>\n",
              "    .dataframe tbody tr th:only-of-type {\n",
              "        vertical-align: middle;\n",
              "    }\n",
              "\n",
              "    .dataframe tbody tr th {\n",
              "        vertical-align: top;\n",
              "    }\n",
              "\n",
              "    .dataframe thead th {\n",
              "        text-align: right;\n",
              "    }\n",
              "</style>\n",
              "<table border=\"1\" class=\"dataframe\">\n",
              "  <thead>\n",
              "    <tr style=\"text-align: right;\">\n",
              "      <th></th>\n",
              "      <th>Tweet</th>\n",
              "      <th>Stance</th>\n",
              "      <th>Target</th>\n",
              "      <th>Word_Count</th>\n",
              "      <th>Character_Count</th>\n",
              "      <th>Average_Word_length</th>\n",
              "      <th>Stop_words_count</th>\n",
              "      <th>HashTag_Count</th>\n",
              "      <th>Mention_Count</th>\n",
              "      <th>numeric_digit_Count</th>\n",
              "      <th>uppercase_Count</th>\n",
              "      <th>email</th>\n",
              "      <th>email_count</th>\n",
              "    </tr>\n",
              "  </thead>\n",
              "  <tbody>\n",
              "    <tr>\n",
              "      <th>676</th>\n",
              "      <td>(2/2) 300 words and be sent to climateconferen...</td>\n",
              "      <td>FAVOR</td>\n",
              "      <td>Climate Change is a Real Concern</td>\n",
              "      <td>17</td>\n",
              "      <td>142</td>\n",
              "      <td>8.352941</td>\n",
              "      <td>5</td>\n",
              "      <td>3</td>\n",
              "      <td>0</td>\n",
              "      <td>1</td>\n",
              "      <td>0</td>\n",
              "      <td>[climateconference2015@gmail.com]</td>\n",
              "      <td>1</td>\n",
              "    </tr>\n",
              "    <tr>\n",
              "      <th>2691</th>\n",
              "      <td>worldwide r.e. agents! - support a prolife gro...</td>\n",
              "      <td>AGAINST</td>\n",
              "      <td>Legalization of Abortion</td>\n",
              "      <td>16</td>\n",
              "      <td>129</td>\n",
              "      <td>8.062500</td>\n",
              "      <td>3</td>\n",
              "      <td>1</td>\n",
              "      <td>0</td>\n",
              "      <td>0</td>\n",
              "      <td>2</td>\n",
              "      <td>[proliferealestate@yahoo.com]</td>\n",
              "      <td>1</td>\n",
              "    </tr>\n",
              "  </tbody>\n",
              "</table>\n",
              "</div>"
            ],
            "text/plain": [
              "                                                  Tweet  ... email_count\n",
              "676   (2/2) 300 words and be sent to climateconferen...  ...           1\n",
              "2691  worldwide r.e. agents! - support a prolife gro...  ...           1\n",
              "\n",
              "[2 rows x 13 columns]"
            ]
          },
          "metadata": {
            "tags": []
          },
          "execution_count": 25
        }
      ]
    },
    {
      "cell_type": "code",
      "metadata": {
        "id": "wtBk_1vyjJ8D"
      },
      "source": [
        "## Removing the emails from the Tweet column.\n",
        "\n",
        "train_data['Tweet'] = train_data['Tweet'].apply(lambda x: re.sub(r'([-a-zA-Z0-9._-]+@[-a-zA-Z0-9._-]+\\.[-a-zA-Z0-9_-]+)','',x))"
      ],
      "execution_count": 26,
      "outputs": []
    },
    {
      "cell_type": "markdown",
      "metadata": {
        "id": "RptWUIYd7xys"
      },
      "source": [
        "THe next step of preprocessing is to remove special characters and punctuations from the tweets. we removed all the special characters excluding # and @ from the tweets.\n",
        "\n",
        "After that, we removed extra white spaces from tweets. and removed words which may written in Accented characters.\n",
        "\n",
        "The last step is to remove stop words from the tweet statements.\n"
      ]
    },
    {
      "cell_type": "code",
      "metadata": {
        "id": "8TolLbs8jJbE",
        "outputId": "fca64939-a868-4156-816d-c4a5dce2fe54",
        "colab": {
          "base_uri": "https://localhost:8080/"
        }
      },
      "source": [
        "## Removing Special characters and punctuations\n",
        "\n",
        "train_data['Tweet'] = train_data['Tweet'].apply(lambda x: re.sub('[^A-Za-z0-9#@]+',' ',x))\n",
        "\n",
        "## Remove the multiple(extra) spaces\n",
        "\n",
        "train_data['Tweet'] = train_data['Tweet'].apply(lambda x: \" \".join(x.split()))\n",
        "\n",
        "## Remove the Accented characters (e.g. àÿüûâ)\n",
        "import unicodedata\n",
        "\n",
        "def remove_accent(x):\n",
        "  x = unicodedata.normalize('NFKD', x).encode('ascii','ignore').decode('utf-8','ignore')\n",
        "  return x\n",
        "\n",
        "## Applying on tweets\n",
        "train_data['Tweet'] = train_data['Tweet'].apply(lambda x: remove_accent(x))\n",
        "\n",
        "### Removing the stop words\n",
        "\n",
        "train_data['Tweet'] = train_data['Tweet'].apply(lambda x: \" \".join([t for t in x.split() if t not in STOP_WORDS]))\n",
        "\n",
        "\n",
        "train_data['Tweet'].head(5)"
      ],
      "execution_count": 27,
      "outputs": [
        {
          "output_type": "execute_result",
          "data": {
            "text/plain": [
              "0    @tedcruz #handovertheserver wiped clean 30k de...\n",
              "1    hillary best choice truly want continue progre...\n",
              "2    @theview think country ready female pres hilla...\n",
              "3    gave unhealthy hard earned money away big gov ...\n",
              "4    @portiaaboulger thank adding list hillary clinton\n",
              "Name: Tweet, dtype: object"
            ]
          },
          "metadata": {
            "tags": []
          },
          "execution_count": 27
        }
      ]
    },
    {
      "cell_type": "markdown",
      "metadata": {
        "id": "dJkiNwVr9Nw0"
      },
      "source": [
        "The next step is to tokenize (encoding) the preprocessed tweet data and then add padding to the data to make each tweet statement of the same length.\n",
        "\n",
        "for that we copied the Tweet data into a list named 'text'."
      ]
    },
    {
      "cell_type": "code",
      "metadata": {
        "id": "3Zlq3tqta-Et",
        "outputId": "459b7c67-3296-45bc-9c93-0629ce0cbbe5",
        "colab": {
          "base_uri": "https://localhost:8080/"
        }
      },
      "source": [
        "#train_data['Tw'] = train_data['Tweet']\n",
        "#####\n",
        "text = train_data['Tweet'].tolist()\n",
        "text[:3]"
      ],
      "execution_count": 28,
      "outputs": [
        {
          "output_type": "execute_result",
          "data": {
            "text/plain": [
              "['@tedcruz #handovertheserver wiped clean 30k deleted emails explains dereliction duty lies #benghazi etc #tcot hillary clinton',\n",
              " 'hillary best choice truly want continue progressive nation #ohio hillary clinton',\n",
              " '@theview think country ready female pres hillary hillary clinton']"
            ]
          },
          "metadata": {
            "tags": []
          },
          "execution_count": 28
        }
      ]
    },
    {
      "cell_type": "code",
      "metadata": {
        "id": "-0TE5tZAa-tH",
        "outputId": "2f89a9b2-9c4c-498e-a3be-fd121f54d2a5",
        "colab": {
          "base_uri": "https://localhost:8080/"
        }
      },
      "source": [
        "#####\n",
        "y = train_data['Stance']\n",
        "y = pd.get_dummies(y).values\n",
        "y.shape"
      ],
      "execution_count": 29,
      "outputs": [
        {
          "output_type": "execute_result",
          "data": {
            "text/plain": [
              "(2914, 3)"
            ]
          },
          "metadata": {
            "tags": []
          },
          "execution_count": 29
        }
      ]
    },
    {
      "cell_type": "code",
      "metadata": {
        "id": "Ex9V1b04a-qt",
        "outputId": "cc88e766-dd6f-4477-f126-2b46d0546614",
        "colab": {
          "base_uri": "https://localhost:8080/"
        }
      },
      "source": [
        "from keras.preprocessing.text import Tokenizer\n",
        "token = Tokenizer()\n",
        "token.fit_on_texts(text)\n",
        "\n",
        "### Calculating the vocabulary size\n",
        "vocab_size = len(token.word_index)+1\n",
        "vocab_size"
      ],
      "execution_count": 30,
      "outputs": [
        {
          "output_type": "execute_result",
          "data": {
            "text/plain": [
              "9021"
            ]
          },
          "metadata": {
            "tags": []
          },
          "execution_count": 30
        }
      ]
    },
    {
      "cell_type": "markdown",
      "metadata": {
        "id": "SIsieoxk-RXy"
      },
      "source": [
        "we used 50 as a max length for the padding to make each sentence of max length 50."
      ]
    },
    {
      "cell_type": "code",
      "metadata": {
        "id": "Xpc2mg7za-B5",
        "outputId": "e6b2485f-2e77-476d-eced-70f37c6cc492",
        "colab": {
          "base_uri": "https://localhost:8080/"
        }
      },
      "source": [
        "## Encoding the text\n",
        "encoded_text = token.texts_to_sequences(text)\n",
        "print(encoded_text[:3])\n",
        "\n",
        "## By default prepadding is done\n",
        "\n",
        "sentence_max_length = 50\n",
        "X = pad_sequences(encoded_text, maxlen=sentence_max_length)\n",
        "print(X.shape)"
      ],
      "execution_count": 31,
      "outputs": [
        {
          "output_type": "stream",
          "text": [
            "[[694, 3155, 3156, 1299, 3157, 819, 124, 1859, 3158, 1022, 130, 151, 435, 51, 2, 5], [2, 53, 68, 436, 24, 311, 1023, 173, 1024, 2, 5], [3159, 34, 99, 152, 153, 1860, 2, 2, 5]]\n",
            "(2914, 50)\n"
          ],
          "name": "stdout"
        }
      ]
    },
    {
      "cell_type": "markdown",
      "metadata": {
        "id": "2pTtyMLI_6TC"
      },
      "source": [
        "\n",
        "\n",
        "---\n",
        "\n",
        "**Word Embedding and Transfer Learning**\n",
        "\n",
        "As we can see from the above that we have very small dataset only with 2914 data points of 5 target values. We can see from above exploration that the data also has class imbalance problem so we are using a pretrained vector weights to use better representation of the vocabulary we have in our data set. \n",
        "\n",
        "We are using Glove Twitter 100 dimensional pretrained vector present on https://nlp.stanford.edu/projects/glove/\n",
        "\n",
        "This pretrained vector is present in various dimentions as 50d, 100d and 200d but we are simply using 100d vector for our task.\n",
        "we make a glove vector dictionary to save all the words from pretrained vector file."
      ]
    },
    {
      "cell_type": "code",
      "metadata": {
        "id": "2JL5Q9xuhRT5"
      },
      "source": [
        "##### Glove Vector\n",
        "# e.g. hello -0.11 0.23 0.333 0.54 0.65\n",
        "glove_vectors = dict()\n",
        "#file = open('/content/drive/My Drive/Colab Notebooks/TweetsDataset/glove.twitter.27B.100d.txt', encoding='utf-8')\n",
        "file = open('/content/drive/My Drive/ColabNotebooks/DeepLearningLabs/Assignment2/glove.twitter.27B.100d.txt', encoding='utf-8')\n",
        "glove_vectors = dict()\n",
        "for line in file:\n",
        "  values = line.split()\n",
        "  word = values[0]\n",
        "  features = np.asarray(values[1:])\n",
        "  glove_vectors[word] = features\n",
        "\n",
        "file.close()"
      ],
      "execution_count": 32,
      "outputs": []
    },
    {
      "cell_type": "markdown",
      "metadata": {
        "id": "n5wXUEA-CAQ2"
      },
      "source": [
        "We can see from the below code that the Glove vector has almost 1.5 million words present with dimension shape of 100."
      ]
    },
    {
      "cell_type": "code",
      "metadata": {
        "id": "nVGwo3zvhRRn",
        "outputId": "67115147-c475-447a-ff84-4f5ce357fe3f",
        "colab": {
          "base_uri": "https://localhost:8080/"
        }
      },
      "source": [
        "### Prints the length of keys in glove vector dictionary\n",
        "print(len(glove_vectors.keys()))\n",
        "\n",
        "#### displaying the shape of the glove vector just for testing purpose\n",
        "print(glove_vectors.get('to').shape)"
      ],
      "execution_count": 33,
      "outputs": [
        {
          "output_type": "stream",
          "text": [
            "1193514\n",
            "(100,)\n"
          ],
          "name": "stdout"
        }
      ]
    },
    {
      "cell_type": "markdown",
      "metadata": {
        "id": "Nvz2WuTpCbLf"
      },
      "source": [
        "The next step is to create an Embedded Matrix by mapping each word in our vocabulary with the same word in the Glove Vector.\n",
        "The words which are not in the Glove vector are added to the list named 'Not_words'."
      ]
    },
    {
      "cell_type": "code",
      "metadata": {
        "id": "eGB6D7DphRMG",
        "outputId": "a56c8dbb-df8a-4f85-e142-b994f26ce07f",
        "colab": {
          "base_uri": "https://localhost:8080/"
        }
      },
      "source": [
        "E_T = np.zeros((vocab_size , 100))\n",
        "Not_words = list()\n",
        "for word, i in token.word_index.items():\n",
        "    embedding_vector = glove_vectors.get(word)\n",
        "    if embedding_vector is not None:  \n",
        "        E_T[i] = embedding_vector\n",
        "    else:\n",
        "      #print(word) # Printing the misspelled words\n",
        "      Not_words.append(word)\n",
        "\n",
        "E_T.size"
      ],
      "execution_count": 34,
      "outputs": [
        {
          "output_type": "execute_result",
          "data": {
            "text/plain": [
              "902100"
            ]
          },
          "metadata": {
            "tags": []
          },
          "execution_count": 34
        }
      ]
    },
    {
      "cell_type": "markdown",
      "metadata": {
        "id": "brmZISQuD5vs"
      },
      "source": [
        "The next step is to split the data into Training and Validation datasets. We are using simple train_test_split() function from sklearn to split the data with split size of 0.2 which mean 80% data is used for training the model while remaining 20% data is used for validation purpose to check how well our model is generalizing. "
      ]
    },
    {
      "cell_type": "code",
      "metadata": {
        "id": "dMlOHDfIhRJx",
        "outputId": "b600946c-0957-4dc3-ff53-de8d305f931a",
        "colab": {
          "base_uri": "https://localhost:8080/"
        }
      },
      "source": [
        "from sklearn.model_selection import train_test_split\n",
        "X_train, X_test, y_train, y_test = train_test_split(X, y, test_size=0.2, random_state=42)\n",
        "\n",
        "print(\"X_train shape: \", X_train.shape)\n",
        "print(\"y_train shape: \", y_train.shape)\n",
        "print(\"X_val shape: \", X_test.shape)\n",
        "print(\"y_val shape: \", y_test.shape)"
      ],
      "execution_count": 35,
      "outputs": [
        {
          "output_type": "stream",
          "text": [
            "X_train shape:  (2331, 50)\n",
            "y_train shape:  (2331, 3)\n",
            "X_val shape:  (583, 50)\n",
            "y_val shape:  (583, 3)\n"
          ],
          "name": "stdout"
        }
      ]
    },
    {
      "cell_type": "markdown",
      "metadata": {
        "id": "tNGd_W2lEYNy"
      },
      "source": [
        "We can see from the above code that, 2331 records are used for model training purpose while 583 records are used for validation of the model.\n",
        "\n",
        "---\n",
        " \n",
        "In the next code cell, we created a baseline model with Transfer Learning layer. \n",
        "\n",
        "The model architechture is like encoded input is fed to the Glove pretrained vector to create an Embedding Layer weights. We create an Embedding Layer with the weights generated above and it is our first layer of the model. Output of this layer is given to the LSTM layer with 32 memory units which has dropout rate of 0.5 and recurrent_dropout rate of 0.25. Output of this layer is again passed through the dropout layer of 0.6 value. The output of this dropout layer is fed to the ReLU dense layer of 64 unit for the non-linear activation. This output is again passed though the dropuout layer of 0.6 value and finally fed to the Softmax activation layer with 3 output units which predict the Stance as either 'FAVOR', 'AGAINST' or 'NONE'.\n",
        "\n",
        "We are using 'categorical_crossentropy' as a error metric and 'Categorical_Accuracy' as a performance metric while compiling the model. We have used basic 'adam' optimizer for the training purpose.\n",
        "\n",
        "\n"
      ]
    },
    {
      "cell_type": "code",
      "metadata": {
        "id": "WBywrek8hRGp"
      },
      "source": [
        "from tensorflow.keras.layers import Dense, Embedding, GRU, LSTM, Bidirectional, Dropout\n",
        "from tensorflow.keras.models import Sequential\n",
        "from tensorflow.keras import regularizers, optimizers\n",
        "\n",
        "def create_model(embedding_layer):\n",
        "\n",
        "  model_glove = Sequential()\n",
        "  model_glove.add(embedding_layer)\n",
        "  model_glove.add(LSTM(units=32,dropout= 0.5, recurrent_dropout=0.25))\n",
        "  #model_glove.add(LSTM(units=64, kernel_regularizer=regularizers.l2(0.01)))\n",
        "  model_glove.add(Dropout(0.6))\n",
        "  model_glove.add(Dense(64, activation='relu'))\n",
        "  model_glove.add(Dropout(0.6))\n",
        "  model_glove.add(Dense(3, activation='softmax'))\n",
        "\n",
        "  #opt= tf.keras.optimizers.SGD()\n",
        "  model_glove.compile(loss='categorical_crossentropy', optimizer='adam', metrics=['categorical_accuracy'])\n",
        "\n",
        "  return model_glove  "
      ],
      "execution_count": 36,
      "outputs": []
    },
    {
      "cell_type": "markdown",
      "metadata": {
        "id": "2YbmJtWvKRO0"
      },
      "source": [
        "We dont train the embedding layer as we are using pre-trained vector weights in our embedding layer."
      ]
    },
    {
      "cell_type": "code",
      "metadata": {
        "id": "Matbsx_6hREN",
        "outputId": "3eb34d15-246c-4f1d-ccb4-b64dacc929b4",
        "colab": {
          "base_uri": "https://localhost:8080/"
        }
      },
      "source": [
        "vector_size = 100\n",
        "embedding_layer = Embedding( vocab_size,\n",
        "                     vector_size,\n",
        "                     input_length=50,\n",
        "                     weights=[E_T],\n",
        "                     trainable=False)\n",
        "model = create_model(embedding_layer)\n",
        "print(model.summary())"
      ],
      "execution_count": 37,
      "outputs": [
        {
          "output_type": "stream",
          "text": [
            "Model: \"sequential\"\n",
            "_________________________________________________________________\n",
            "Layer (type)                 Output Shape              Param #   \n",
            "=================================================================\n",
            "embedding (Embedding)        (None, 50, 100)           902100    \n",
            "_________________________________________________________________\n",
            "lstm (LSTM)                  (None, 32)                17024     \n",
            "_________________________________________________________________\n",
            "dropout (Dropout)            (None, 32)                0         \n",
            "_________________________________________________________________\n",
            "dense (Dense)                (None, 64)                2112      \n",
            "_________________________________________________________________\n",
            "dropout_1 (Dropout)          (None, 64)                0         \n",
            "_________________________________________________________________\n",
            "dense_1 (Dense)              (None, 3)                 195       \n",
            "=================================================================\n",
            "Total params: 921,431\n",
            "Trainable params: 19,331\n",
            "Non-trainable params: 902,100\n",
            "_________________________________________________________________\n",
            "None\n"
          ],
          "name": "stdout"
        }
      ]
    },
    {
      "cell_type": "code",
      "metadata": {
        "id": "__47i84wwctc"
      },
      "source": [
        "def get_callbacks(name):\n",
        "  return [\n",
        "    tf.keras.callbacks.TensorBoard(logdir/name, histogram_freq=1),\n",
        "  ]"
      ],
      "execution_count": 38,
      "outputs": []
    },
    {
      "cell_type": "markdown",
      "metadata": {
        "id": "OVt3nWn7Ke_G"
      },
      "source": [
        "As we have less amount of data available for training, we are using K-fold cross validation technique to train our model for 50 epochs in each of the 3 folds.\n",
        "The batch size is set to 64 and we trained the data for 50 epochs and 3 folds.\n",
        "\n",
        "From the below output we can see that the model achieved categorical accuracy of about 74% on the validation data set.\n",
        "\n",
        "To check the learning curve of the training and validation we plot the grphs using plotter function mentioned above."
      ]
    },
    {
      "cell_type": "code",
      "metadata": {
        "id": "FKScRAqrhRBB",
        "outputId": "ebdf57c2-639b-4e1b-dcb5-ff10d1442a16",
        "colab": {
          "base_uri": "https://localhost:8080/"
        }
      },
      "source": [
        "from sklearn.model_selection import KFold\n",
        "num_folds = 3\n",
        "input = np.concatenate((X_train, X_test), axis= 0)\n",
        "target = np.concatenate((y_train, y_test), axis= 0)\n",
        "\n",
        "kfold = KFold(n_splits=num_folds, shuffle=True)\n",
        "K = 1\n",
        "for train, test in kfold.split(input, target):\n",
        "    print(\"fold number: \", K)\n",
        "    m_histories = {}\n",
        "    m_histories['with_TL'] = model.fit(input[train], target[train], batch_size=64, epochs=50, validation_data=(input[test], target[test]), callbacks=get_callbacks('models/with_TL'), verbose=1)\n",
        "    K = K+1"
      ],
      "execution_count": 39,
      "outputs": [
        {
          "output_type": "stream",
          "text": [
            "fold number:  1\n",
            "Epoch 1/50\n",
            " 1/31 [..............................] - ETA: 0s - loss: 1.1235 - categorical_accuracy: 0.3281WARNING:tensorflow:From /usr/local/lib/python3.6/dist-packages/tensorflow/python/ops/summary_ops_v2.py:1277: stop (from tensorflow.python.eager.profiler) is deprecated and will be removed after 2020-07-01.\n",
            "Instructions for updating:\n",
            "use `tf.profiler.experimental.stop` instead.\n",
            " 2/31 [>.............................] - ETA: 5s - loss: 1.0839 - categorical_accuracy: 0.4141WARNING:tensorflow:Callbacks method `on_train_batch_end` is slow compared to the batch time (batch time: 0.0846s vs `on_train_batch_end` time: 0.2788s). Check your callbacks.\n",
            "31/31 [==============================] - 3s 92ms/step - loss: 1.0866 - categorical_accuracy: 0.4217 - val_loss: 1.0348 - val_categorical_accuracy: 0.4619\n",
            "Epoch 2/50\n",
            "31/31 [==============================] - 2s 69ms/step - loss: 1.0404 - categorical_accuracy: 0.4949 - val_loss: 1.0148 - val_categorical_accuracy: 0.5237\n",
            "Epoch 3/50\n",
            "31/31 [==============================] - 2s 70ms/step - loss: 1.0293 - categorical_accuracy: 0.5206 - val_loss: 0.9995 - val_categorical_accuracy: 0.5237\n",
            "Epoch 4/50\n",
            "31/31 [==============================] - 2s 70ms/step - loss: 1.0261 - categorical_accuracy: 0.5149 - val_loss: 0.9925 - val_categorical_accuracy: 0.5237\n",
            "Epoch 5/50\n",
            "31/31 [==============================] - 2s 69ms/step - loss: 0.9877 - categorical_accuracy: 0.5381 - val_loss: 0.9824 - val_categorical_accuracy: 0.5237\n",
            "Epoch 6/50\n",
            "31/31 [==============================] - 2s 69ms/step - loss: 0.9960 - categorical_accuracy: 0.5396 - val_loss: 0.9771 - val_categorical_accuracy: 0.5237\n",
            "Epoch 7/50\n",
            "31/31 [==============================] - 2s 69ms/step - loss: 0.9929 - categorical_accuracy: 0.5427 - val_loss: 0.9714 - val_categorical_accuracy: 0.5237\n",
            "Epoch 8/50\n",
            "31/31 [==============================] - 2s 70ms/step - loss: 0.9842 - categorical_accuracy: 0.5463 - val_loss: 0.9671 - val_categorical_accuracy: 0.5237\n",
            "Epoch 9/50\n",
            "31/31 [==============================] - 2s 69ms/step - loss: 0.9942 - categorical_accuracy: 0.5458 - val_loss: 0.9619 - val_categorical_accuracy: 0.5237\n",
            "Epoch 10/50\n",
            "31/31 [==============================] - 2s 70ms/step - loss: 0.9791 - categorical_accuracy: 0.5463 - val_loss: 0.9589 - val_categorical_accuracy: 0.5237\n",
            "Epoch 11/50\n",
            "31/31 [==============================] - 2s 69ms/step - loss: 0.9734 - categorical_accuracy: 0.5536 - val_loss: 0.9519 - val_categorical_accuracy: 0.5267\n",
            "Epoch 12/50\n",
            "31/31 [==============================] - 2s 70ms/step - loss: 0.9526 - categorical_accuracy: 0.5520 - val_loss: 0.9491 - val_categorical_accuracy: 0.5257\n",
            "Epoch 13/50\n",
            "31/31 [==============================] - 2s 69ms/step - loss: 0.9700 - categorical_accuracy: 0.5474 - val_loss: 0.9427 - val_categorical_accuracy: 0.5267\n",
            "Epoch 14/50\n",
            "31/31 [==============================] - 2s 71ms/step - loss: 0.9477 - categorical_accuracy: 0.5561 - val_loss: 0.9464 - val_categorical_accuracy: 0.5267\n",
            "Epoch 15/50\n",
            "31/31 [==============================] - 2s 69ms/step - loss: 0.9322 - categorical_accuracy: 0.5536 - val_loss: 0.9291 - val_categorical_accuracy: 0.5473\n",
            "Epoch 16/50\n",
            "31/31 [==============================] - 2s 70ms/step - loss: 0.9388 - categorical_accuracy: 0.5582 - val_loss: 0.9300 - val_categorical_accuracy: 0.5391\n",
            "Epoch 17/50\n",
            "31/31 [==============================] - 2s 70ms/step - loss: 0.9311 - categorical_accuracy: 0.5463 - val_loss: 0.9286 - val_categorical_accuracy: 0.5494\n",
            "Epoch 18/50\n",
            "31/31 [==============================] - 2s 69ms/step - loss: 0.9280 - categorical_accuracy: 0.5669 - val_loss: 0.9238 - val_categorical_accuracy: 0.5494\n",
            "Epoch 19/50\n",
            "31/31 [==============================] - 2s 71ms/step - loss: 0.9274 - categorical_accuracy: 0.5592 - val_loss: 0.9261 - val_categorical_accuracy: 0.5453\n",
            "Epoch 20/50\n",
            "31/31 [==============================] - 2s 70ms/step - loss: 0.9194 - categorical_accuracy: 0.5602 - val_loss: 0.9284 - val_categorical_accuracy: 0.5453\n",
            "Epoch 21/50\n",
            "31/31 [==============================] - 2s 70ms/step - loss: 0.9171 - categorical_accuracy: 0.5654 - val_loss: 0.9319 - val_categorical_accuracy: 0.5381\n",
            "Epoch 22/50\n",
            "31/31 [==============================] - 2s 69ms/step - loss: 0.9211 - categorical_accuracy: 0.5649 - val_loss: 0.9248 - val_categorical_accuracy: 0.5514\n",
            "Epoch 23/50\n",
            "31/31 [==============================] - 2s 71ms/step - loss: 0.9046 - categorical_accuracy: 0.5731 - val_loss: 0.9273 - val_categorical_accuracy: 0.5473\n",
            "Epoch 24/50\n",
            "31/31 [==============================] - 2s 70ms/step - loss: 0.8946 - categorical_accuracy: 0.5834 - val_loss: 0.9190 - val_categorical_accuracy: 0.5514\n",
            "Epoch 25/50\n",
            "31/31 [==============================] - 2s 70ms/step - loss: 0.8901 - categorical_accuracy: 0.5736 - val_loss: 0.9291 - val_categorical_accuracy: 0.5628\n",
            "Epoch 26/50\n",
            "31/31 [==============================] - 2s 70ms/step - loss: 0.8925 - categorical_accuracy: 0.5736 - val_loss: 0.9235 - val_categorical_accuracy: 0.5494\n",
            "Epoch 27/50\n",
            "31/31 [==============================] - 2s 69ms/step - loss: 0.8955 - categorical_accuracy: 0.5726 - val_loss: 0.9165 - val_categorical_accuracy: 0.5566\n",
            "Epoch 28/50\n",
            "31/31 [==============================] - 2s 70ms/step - loss: 0.8859 - categorical_accuracy: 0.5917 - val_loss: 0.9130 - val_categorical_accuracy: 0.5669\n",
            "Epoch 29/50\n",
            "31/31 [==============================] - 2s 70ms/step - loss: 0.8825 - categorical_accuracy: 0.5855 - val_loss: 0.9108 - val_categorical_accuracy: 0.5628\n",
            "Epoch 30/50\n",
            "31/31 [==============================] - 2s 69ms/step - loss: 0.8653 - categorical_accuracy: 0.5958 - val_loss: 0.9153 - val_categorical_accuracy: 0.5638\n",
            "Epoch 31/50\n",
            "31/31 [==============================] - 2s 70ms/step - loss: 0.8603 - categorical_accuracy: 0.6035 - val_loss: 0.9309 - val_categorical_accuracy: 0.5607\n",
            "Epoch 32/50\n",
            "31/31 [==============================] - 2s 69ms/step - loss: 0.8764 - categorical_accuracy: 0.5824 - val_loss: 0.8932 - val_categorical_accuracy: 0.5689\n",
            "Epoch 33/50\n",
            "31/31 [==============================] - 2s 70ms/step - loss: 0.8594 - categorical_accuracy: 0.5947 - val_loss: 0.9021 - val_categorical_accuracy: 0.5823\n",
            "Epoch 34/50\n",
            "31/31 [==============================] - 2s 68ms/step - loss: 0.8601 - categorical_accuracy: 0.5947 - val_loss: 0.8974 - val_categorical_accuracy: 0.5916\n",
            "Epoch 35/50\n",
            "31/31 [==============================] - 2s 69ms/step - loss: 0.8655 - categorical_accuracy: 0.5896 - val_loss: 0.8971 - val_categorical_accuracy: 0.5730\n",
            "Epoch 36/50\n",
            "31/31 [==============================] - 2s 69ms/step - loss: 0.8516 - categorical_accuracy: 0.6076 - val_loss: 0.8886 - val_categorical_accuracy: 0.5782\n",
            "Epoch 37/50\n",
            "31/31 [==============================] - 2s 70ms/step - loss: 0.8558 - categorical_accuracy: 0.5963 - val_loss: 0.9113 - val_categorical_accuracy: 0.5751\n",
            "Epoch 38/50\n",
            "31/31 [==============================] - 2s 69ms/step - loss: 0.8542 - categorical_accuracy: 0.6061 - val_loss: 0.9026 - val_categorical_accuracy: 0.5751\n",
            "Epoch 39/50\n",
            "31/31 [==============================] - 2s 70ms/step - loss: 0.8222 - categorical_accuracy: 0.6107 - val_loss: 0.9028 - val_categorical_accuracy: 0.5895\n",
            "Epoch 40/50\n",
            "31/31 [==============================] - 2s 69ms/step - loss: 0.8352 - categorical_accuracy: 0.6050 - val_loss: 0.9344 - val_categorical_accuracy: 0.5854\n",
            "Epoch 41/50\n",
            "31/31 [==============================] - 2s 70ms/step - loss: 0.8221 - categorical_accuracy: 0.6184 - val_loss: 0.8949 - val_categorical_accuracy: 0.5967\n",
            "Epoch 42/50\n",
            "31/31 [==============================] - 2s 70ms/step - loss: 0.8362 - categorical_accuracy: 0.6148 - val_loss: 0.9098 - val_categorical_accuracy: 0.5967\n",
            "Epoch 43/50\n",
            "31/31 [==============================] - 2s 70ms/step - loss: 0.8171 - categorical_accuracy: 0.6045 - val_loss: 0.9007 - val_categorical_accuracy: 0.5988\n",
            "Epoch 44/50\n",
            "31/31 [==============================] - 2s 69ms/step - loss: 0.8209 - categorical_accuracy: 0.6117 - val_loss: 0.9080 - val_categorical_accuracy: 0.5947\n",
            "Epoch 45/50\n",
            "31/31 [==============================] - 2s 69ms/step - loss: 0.8226 - categorical_accuracy: 0.6292 - val_loss: 0.9217 - val_categorical_accuracy: 0.5772\n",
            "Epoch 46/50\n",
            "31/31 [==============================] - 2s 70ms/step - loss: 0.8203 - categorical_accuracy: 0.6231 - val_loss: 0.8966 - val_categorical_accuracy: 0.5905\n",
            "Epoch 47/50\n",
            "31/31 [==============================] - 2s 72ms/step - loss: 0.7977 - categorical_accuracy: 0.6318 - val_loss: 0.8806 - val_categorical_accuracy: 0.5988\n",
            "Epoch 48/50\n",
            "31/31 [==============================] - 2s 70ms/step - loss: 0.8102 - categorical_accuracy: 0.6236 - val_loss: 0.8909 - val_categorical_accuracy: 0.6019\n",
            "Epoch 49/50\n",
            "31/31 [==============================] - 2s 72ms/step - loss: 0.7928 - categorical_accuracy: 0.6318 - val_loss: 0.9078 - val_categorical_accuracy: 0.6060\n",
            "Epoch 50/50\n",
            "31/31 [==============================] - 2s 71ms/step - loss: 0.8054 - categorical_accuracy: 0.6375 - val_loss: 0.8917 - val_categorical_accuracy: 0.5947\n",
            "fold number:  2\n",
            "Epoch 1/50\n",
            "31/31 [==============================] - 2s 77ms/step - loss: 0.8744 - categorical_accuracy: 0.5980 - val_loss: 0.6680 - val_categorical_accuracy: 0.7199\n",
            "Epoch 2/50\n",
            "31/31 [==============================] - 3s 84ms/step - loss: 0.8729 - categorical_accuracy: 0.5934 - val_loss: 0.6740 - val_categorical_accuracy: 0.7188\n",
            "Epoch 3/50\n",
            "31/31 [==============================] - 3s 97ms/step - loss: 0.8831 - categorical_accuracy: 0.5939 - val_loss: 0.6863 - val_categorical_accuracy: 0.7024\n",
            "Epoch 4/50\n",
            "31/31 [==============================] - 3s 87ms/step - loss: 0.8638 - categorical_accuracy: 0.5939 - val_loss: 0.6832 - val_categorical_accuracy: 0.7003\n",
            "Epoch 5/50\n",
            "31/31 [==============================] - 2s 72ms/step - loss: 0.8511 - categorical_accuracy: 0.5986 - val_loss: 0.6773 - val_categorical_accuracy: 0.7085\n",
            "Epoch 6/50\n",
            "31/31 [==============================] - 2s 70ms/step - loss: 0.8621 - categorical_accuracy: 0.6042 - val_loss: 0.6891 - val_categorical_accuracy: 0.7065\n",
            "Epoch 7/50\n",
            "31/31 [==============================] - 2s 70ms/step - loss: 0.8559 - categorical_accuracy: 0.6042 - val_loss: 0.6919 - val_categorical_accuracy: 0.7055\n",
            "Epoch 8/50\n",
            "31/31 [==============================] - 2s 69ms/step - loss: 0.8446 - categorical_accuracy: 0.6191 - val_loss: 0.6746 - val_categorical_accuracy: 0.7096\n",
            "Epoch 9/50\n",
            "31/31 [==============================] - 2s 70ms/step - loss: 0.8443 - categorical_accuracy: 0.6130 - val_loss: 0.6857 - val_categorical_accuracy: 0.6962\n",
            "Epoch 10/50\n",
            "31/31 [==============================] - 2s 70ms/step - loss: 0.8370 - categorical_accuracy: 0.6114 - val_loss: 0.6798 - val_categorical_accuracy: 0.7013\n",
            "Epoch 11/50\n",
            "31/31 [==============================] - 2s 69ms/step - loss: 0.8286 - categorical_accuracy: 0.6305 - val_loss: 0.6758 - val_categorical_accuracy: 0.6982\n",
            "Epoch 12/50\n",
            "31/31 [==============================] - 2s 69ms/step - loss: 0.8185 - categorical_accuracy: 0.6212 - val_loss: 0.6844 - val_categorical_accuracy: 0.7034\n",
            "Epoch 13/50\n",
            "31/31 [==============================] - 2s 69ms/step - loss: 0.8115 - categorical_accuracy: 0.6217 - val_loss: 0.6862 - val_categorical_accuracy: 0.6982\n",
            "Epoch 14/50\n",
            "31/31 [==============================] - 2s 70ms/step - loss: 0.8033 - categorical_accuracy: 0.6377 - val_loss: 0.6996 - val_categorical_accuracy: 0.7013\n",
            "Epoch 15/50\n",
            "31/31 [==============================] - 2s 69ms/step - loss: 0.8038 - categorical_accuracy: 0.6284 - val_loss: 0.6845 - val_categorical_accuracy: 0.7024\n",
            "Epoch 16/50\n",
            "31/31 [==============================] - 2s 69ms/step - loss: 0.8045 - categorical_accuracy: 0.6346 - val_loss: 0.6894 - val_categorical_accuracy: 0.6880\n",
            "Epoch 17/50\n",
            "31/31 [==============================] - 2s 70ms/step - loss: 0.8105 - categorical_accuracy: 0.6300 - val_loss: 0.6880 - val_categorical_accuracy: 0.6982\n",
            "Epoch 18/50\n",
            "31/31 [==============================] - 3s 82ms/step - loss: 0.7903 - categorical_accuracy: 0.6505 - val_loss: 0.6976 - val_categorical_accuracy: 0.6890\n",
            "Epoch 19/50\n",
            "31/31 [==============================] - 3s 89ms/step - loss: 0.8053 - categorical_accuracy: 0.6382 - val_loss: 0.6887 - val_categorical_accuracy: 0.7013\n",
            "Epoch 20/50\n",
            "31/31 [==============================] - 3s 84ms/step - loss: 0.8112 - categorical_accuracy: 0.6413 - val_loss: 0.6897 - val_categorical_accuracy: 0.6910\n",
            "Epoch 21/50\n",
            "31/31 [==============================] - 2s 80ms/step - loss: 0.8134 - categorical_accuracy: 0.6284 - val_loss: 0.6939 - val_categorical_accuracy: 0.6910\n",
            "Epoch 22/50\n",
            "31/31 [==============================] - 2s 80ms/step - loss: 0.7914 - categorical_accuracy: 0.6356 - val_loss: 0.7010 - val_categorical_accuracy: 0.6818\n",
            "Epoch 23/50\n",
            "31/31 [==============================] - 2s 70ms/step - loss: 0.8108 - categorical_accuracy: 0.6305 - val_loss: 0.6892 - val_categorical_accuracy: 0.6941\n",
            "Epoch 24/50\n",
            "31/31 [==============================] - 2s 69ms/step - loss: 0.7771 - categorical_accuracy: 0.6613 - val_loss: 0.6995 - val_categorical_accuracy: 0.6756\n",
            "Epoch 25/50\n",
            "31/31 [==============================] - 2s 70ms/step - loss: 0.7843 - categorical_accuracy: 0.6397 - val_loss: 0.6919 - val_categorical_accuracy: 0.6838\n",
            "Epoch 26/50\n",
            "31/31 [==============================] - 2s 71ms/step - loss: 0.7739 - categorical_accuracy: 0.6382 - val_loss: 0.6877 - val_categorical_accuracy: 0.6838\n",
            "Epoch 27/50\n",
            "31/31 [==============================] - 2s 69ms/step - loss: 0.7735 - categorical_accuracy: 0.6526 - val_loss: 0.6894 - val_categorical_accuracy: 0.6797\n",
            "Epoch 28/50\n",
            "31/31 [==============================] - 2s 71ms/step - loss: 0.7769 - categorical_accuracy: 0.6536 - val_loss: 0.7066 - val_categorical_accuracy: 0.6777\n",
            "Epoch 29/50\n",
            "31/31 [==============================] - 2s 70ms/step - loss: 0.7793 - categorical_accuracy: 0.6418 - val_loss: 0.7022 - val_categorical_accuracy: 0.6797\n",
            "Epoch 30/50\n",
            "31/31 [==============================] - 2s 70ms/step - loss: 0.7568 - categorical_accuracy: 0.6613 - val_loss: 0.7000 - val_categorical_accuracy: 0.6910\n",
            "Epoch 31/50\n",
            "31/31 [==============================] - 2s 69ms/step - loss: 0.7579 - categorical_accuracy: 0.6711 - val_loss: 0.7083 - val_categorical_accuracy: 0.6674\n",
            "Epoch 32/50\n",
            "31/31 [==============================] - 2s 70ms/step - loss: 0.7550 - categorical_accuracy: 0.6675 - val_loss: 0.7032 - val_categorical_accuracy: 0.6756\n",
            "Epoch 33/50\n",
            "31/31 [==============================] - 2s 69ms/step - loss: 0.7548 - categorical_accuracy: 0.6722 - val_loss: 0.7051 - val_categorical_accuracy: 0.6787\n",
            "Epoch 34/50\n",
            "31/31 [==============================] - 2s 69ms/step - loss: 0.7481 - categorical_accuracy: 0.6752 - val_loss: 0.7171 - val_categorical_accuracy: 0.6777\n",
            "Epoch 35/50\n",
            "31/31 [==============================] - 2s 70ms/step - loss: 0.7556 - categorical_accuracy: 0.6732 - val_loss: 0.7055 - val_categorical_accuracy: 0.6818\n",
            "Epoch 36/50\n",
            "31/31 [==============================] - 2s 70ms/step - loss: 0.7530 - categorical_accuracy: 0.6588 - val_loss: 0.7062 - val_categorical_accuracy: 0.6818\n",
            "Epoch 37/50\n",
            "31/31 [==============================] - 2s 70ms/step - loss: 0.7318 - categorical_accuracy: 0.6557 - val_loss: 0.7073 - val_categorical_accuracy: 0.6838\n",
            "Epoch 38/50\n",
            "31/31 [==============================] - 2s 69ms/step - loss: 0.7509 - categorical_accuracy: 0.6742 - val_loss: 0.7056 - val_categorical_accuracy: 0.6807\n",
            "Epoch 39/50\n",
            "31/31 [==============================] - 2s 70ms/step - loss: 0.7450 - categorical_accuracy: 0.6799 - val_loss: 0.7056 - val_categorical_accuracy: 0.6787\n",
            "Epoch 40/50\n",
            "31/31 [==============================] - 2s 69ms/step - loss: 0.7236 - categorical_accuracy: 0.6752 - val_loss: 0.7042 - val_categorical_accuracy: 0.6787\n",
            "Epoch 41/50\n",
            "31/31 [==============================] - 2s 71ms/step - loss: 0.7220 - categorical_accuracy: 0.6696 - val_loss: 0.7067 - val_categorical_accuracy: 0.6766\n",
            "Epoch 42/50\n",
            "31/31 [==============================] - 2s 71ms/step - loss: 0.7266 - categorical_accuracy: 0.6917 - val_loss: 0.7079 - val_categorical_accuracy: 0.6663\n",
            "Epoch 43/50\n",
            "31/31 [==============================] - 2s 69ms/step - loss: 0.7304 - categorical_accuracy: 0.6886 - val_loss: 0.7044 - val_categorical_accuracy: 0.6725\n",
            "Epoch 44/50\n",
            "31/31 [==============================] - 2s 70ms/step - loss: 0.7124 - categorical_accuracy: 0.6927 - val_loss: 0.7105 - val_categorical_accuracy: 0.6766\n",
            "Epoch 45/50\n",
            "31/31 [==============================] - 2s 69ms/step - loss: 0.7217 - categorical_accuracy: 0.6804 - val_loss: 0.7019 - val_categorical_accuracy: 0.6746\n",
            "Epoch 46/50\n",
            "31/31 [==============================] - 2s 72ms/step - loss: 0.7168 - categorical_accuracy: 0.6752 - val_loss: 0.6975 - val_categorical_accuracy: 0.6880\n",
            "Epoch 47/50\n",
            "31/31 [==============================] - 2s 70ms/step - loss: 0.7019 - categorical_accuracy: 0.6824 - val_loss: 0.7073 - val_categorical_accuracy: 0.6797\n",
            "Epoch 48/50\n",
            "31/31 [==============================] - 2s 71ms/step - loss: 0.7049 - categorical_accuracy: 0.6886 - val_loss: 0.7070 - val_categorical_accuracy: 0.6735\n",
            "Epoch 49/50\n",
            "31/31 [==============================] - 2s 71ms/step - loss: 0.6920 - categorical_accuracy: 0.6907 - val_loss: 0.7241 - val_categorical_accuracy: 0.6632\n",
            "Epoch 50/50\n",
            "31/31 [==============================] - 2s 69ms/step - loss: 0.7069 - categorical_accuracy: 0.6938 - val_loss: 0.7154 - val_categorical_accuracy: 0.6807\n",
            "fold number:  3\n",
            "Epoch 1/50\n",
            "31/31 [==============================] - 2s 74ms/step - loss: 0.7990 - categorical_accuracy: 0.6413 - val_loss: 0.5039 - val_categorical_accuracy: 0.7920\n",
            "Epoch 2/50\n",
            "31/31 [==============================] - 2s 72ms/step - loss: 0.7710 - categorical_accuracy: 0.6562 - val_loss: 0.5162 - val_categorical_accuracy: 0.7899\n",
            "Epoch 3/50\n",
            "31/31 [==============================] - 2s 71ms/step - loss: 0.7676 - categorical_accuracy: 0.6603 - val_loss: 0.5125 - val_categorical_accuracy: 0.8002\n",
            "Epoch 4/50\n",
            "31/31 [==============================] - 2s 71ms/step - loss: 0.7822 - categorical_accuracy: 0.6361 - val_loss: 0.5263 - val_categorical_accuracy: 0.7734\n",
            "Epoch 5/50\n",
            "31/31 [==============================] - 2s 72ms/step - loss: 0.7501 - categorical_accuracy: 0.6619 - val_loss: 0.5520 - val_categorical_accuracy: 0.7570\n",
            "Epoch 6/50\n",
            "31/31 [==============================] - 2s 70ms/step - loss: 0.7432 - categorical_accuracy: 0.6799 - val_loss: 0.5317 - val_categorical_accuracy: 0.7611\n",
            "Epoch 7/50\n",
            "31/31 [==============================] - 2s 71ms/step - loss: 0.7277 - categorical_accuracy: 0.6819 - val_loss: 0.5208 - val_categorical_accuracy: 0.7775\n",
            "Epoch 8/50\n",
            "31/31 [==============================] - 2s 70ms/step - loss: 0.7240 - categorical_accuracy: 0.6948 - val_loss: 0.5281 - val_categorical_accuracy: 0.7745\n",
            "Epoch 9/50\n",
            "31/31 [==============================] - 2s 71ms/step - loss: 0.7439 - categorical_accuracy: 0.6809 - val_loss: 0.5209 - val_categorical_accuracy: 0.7786\n",
            "Epoch 10/50\n",
            "31/31 [==============================] - 2s 71ms/step - loss: 0.7187 - categorical_accuracy: 0.6958 - val_loss: 0.5311 - val_categorical_accuracy: 0.7621\n",
            "Epoch 11/50\n",
            "31/31 [==============================] - 2s 71ms/step - loss: 0.7245 - categorical_accuracy: 0.6799 - val_loss: 0.5456 - val_categorical_accuracy: 0.7590\n",
            "Epoch 12/50\n",
            "31/31 [==============================] - 2s 70ms/step - loss: 0.7246 - categorical_accuracy: 0.6830 - val_loss: 0.5573 - val_categorical_accuracy: 0.7621\n",
            "Epoch 13/50\n",
            "31/31 [==============================] - 2s 70ms/step - loss: 0.7023 - categorical_accuracy: 0.6819 - val_loss: 0.5239 - val_categorical_accuracy: 0.7693\n",
            "Epoch 14/50\n",
            "31/31 [==============================] - 2s 74ms/step - loss: 0.7167 - categorical_accuracy: 0.6809 - val_loss: 0.5597 - val_categorical_accuracy: 0.7456\n",
            "Epoch 15/50\n",
            "31/31 [==============================] - 2s 80ms/step - loss: 0.7186 - categorical_accuracy: 0.6984 - val_loss: 0.5331 - val_categorical_accuracy: 0.7775\n",
            "Epoch 16/50\n",
            "31/31 [==============================] - 3s 85ms/step - loss: 0.6998 - categorical_accuracy: 0.6871 - val_loss: 0.5364 - val_categorical_accuracy: 0.7652\n",
            "Epoch 17/50\n",
            "31/31 [==============================] - 2s 77ms/step - loss: 0.7248 - categorical_accuracy: 0.6891 - val_loss: 0.5293 - val_categorical_accuracy: 0.7734\n",
            "Epoch 18/50\n",
            "31/31 [==============================] - 2s 79ms/step - loss: 0.7087 - categorical_accuracy: 0.6989 - val_loss: 0.5395 - val_categorical_accuracy: 0.7662\n",
            "Epoch 19/50\n",
            "31/31 [==============================] - 2s 80ms/step - loss: 0.7168 - categorical_accuracy: 0.6840 - val_loss: 0.5272 - val_categorical_accuracy: 0.7734\n",
            "Epoch 20/50\n",
            "31/31 [==============================] - 3s 86ms/step - loss: 0.6898 - categorical_accuracy: 0.6938 - val_loss: 0.5427 - val_categorical_accuracy: 0.7590\n",
            "Epoch 21/50\n",
            "31/31 [==============================] - 3s 86ms/step - loss: 0.6859 - categorical_accuracy: 0.6917 - val_loss: 0.5322 - val_categorical_accuracy: 0.7703\n",
            "Epoch 22/50\n",
            "31/31 [==============================] - 3s 84ms/step - loss: 0.6917 - categorical_accuracy: 0.7025 - val_loss: 0.5486 - val_categorical_accuracy: 0.7559\n",
            "Epoch 23/50\n",
            "31/31 [==============================] - 2s 72ms/step - loss: 0.7167 - categorical_accuracy: 0.6830 - val_loss: 0.5398 - val_categorical_accuracy: 0.7673\n",
            "Epoch 24/50\n",
            "31/31 [==============================] - 2s 71ms/step - loss: 0.6711 - categorical_accuracy: 0.7087 - val_loss: 0.5424 - val_categorical_accuracy: 0.7631\n",
            "Epoch 25/50\n",
            "31/31 [==============================] - 2s 73ms/step - loss: 0.6770 - categorical_accuracy: 0.7072 - val_loss: 0.5444 - val_categorical_accuracy: 0.7765\n",
            "Epoch 26/50\n",
            "31/31 [==============================] - 3s 82ms/step - loss: 0.6942 - categorical_accuracy: 0.6969 - val_loss: 0.5639 - val_categorical_accuracy: 0.7446\n",
            "Epoch 27/50\n",
            "31/31 [==============================] - 2s 80ms/step - loss: 0.6618 - categorical_accuracy: 0.7133 - val_loss: 0.5677 - val_categorical_accuracy: 0.7518\n",
            "Epoch 28/50\n",
            "31/31 [==============================] - 2s 72ms/step - loss: 0.6925 - categorical_accuracy: 0.7051 - val_loss: 0.5848 - val_categorical_accuracy: 0.7353\n",
            "Epoch 29/50\n",
            "31/31 [==============================] - 2s 71ms/step - loss: 0.6953 - categorical_accuracy: 0.6917 - val_loss: 0.5753 - val_categorical_accuracy: 0.7374\n",
            "Epoch 30/50\n",
            "31/31 [==============================] - 2s 71ms/step - loss: 0.6941 - categorical_accuracy: 0.7020 - val_loss: 0.5679 - val_categorical_accuracy: 0.7436\n",
            "Epoch 31/50\n",
            "31/31 [==============================] - 2s 72ms/step - loss: 0.6863 - categorical_accuracy: 0.6969 - val_loss: 0.5745 - val_categorical_accuracy: 0.7446\n",
            "Epoch 32/50\n",
            "31/31 [==============================] - 2s 71ms/step - loss: 0.6805 - categorical_accuracy: 0.7092 - val_loss: 0.5831 - val_categorical_accuracy: 0.7405\n",
            "Epoch 33/50\n",
            "31/31 [==============================] - 2s 69ms/step - loss: 0.6636 - categorical_accuracy: 0.7128 - val_loss: 0.5679 - val_categorical_accuracy: 0.7425\n",
            "Epoch 34/50\n",
            "31/31 [==============================] - 2s 70ms/step - loss: 0.6345 - categorical_accuracy: 0.7329 - val_loss: 0.5758 - val_categorical_accuracy: 0.7394\n",
            "Epoch 35/50\n",
            "31/31 [==============================] - 2s 71ms/step - loss: 0.6883 - categorical_accuracy: 0.6984 - val_loss: 0.5701 - val_categorical_accuracy: 0.7559\n",
            "Epoch 36/50\n",
            "31/31 [==============================] - 2s 70ms/step - loss: 0.6450 - categorical_accuracy: 0.7205 - val_loss: 0.5906 - val_categorical_accuracy: 0.7374\n",
            "Epoch 37/50\n",
            "31/31 [==============================] - 2s 70ms/step - loss: 0.6382 - categorical_accuracy: 0.7303 - val_loss: 0.5749 - val_categorical_accuracy: 0.7539\n",
            "Epoch 38/50\n",
            "31/31 [==============================] - 2s 70ms/step - loss: 0.6490 - categorical_accuracy: 0.7133 - val_loss: 0.5800 - val_categorical_accuracy: 0.7539\n",
            "Epoch 39/50\n",
            "31/31 [==============================] - 2s 70ms/step - loss: 0.6593 - categorical_accuracy: 0.7185 - val_loss: 0.5915 - val_categorical_accuracy: 0.7291\n",
            "Epoch 40/50\n",
            "31/31 [==============================] - 2s 70ms/step - loss: 0.6820 - categorical_accuracy: 0.7138 - val_loss: 0.5992 - val_categorical_accuracy: 0.7343\n",
            "Epoch 41/50\n",
            "31/31 [==============================] - 2s 72ms/step - loss: 0.6323 - categorical_accuracy: 0.7303 - val_loss: 0.6126 - val_categorical_accuracy: 0.7374\n",
            "Epoch 42/50\n",
            "31/31 [==============================] - 2s 70ms/step - loss: 0.6342 - categorical_accuracy: 0.7283 - val_loss: 0.5943 - val_categorical_accuracy: 0.7384\n",
            "Epoch 43/50\n",
            "31/31 [==============================] - 2s 71ms/step - loss: 0.6366 - categorical_accuracy: 0.7313 - val_loss: 0.6169 - val_categorical_accuracy: 0.7261\n",
            "Epoch 44/50\n",
            "31/31 [==============================] - 2s 71ms/step - loss: 0.6454 - categorical_accuracy: 0.7154 - val_loss: 0.6189 - val_categorical_accuracy: 0.7281\n",
            "Epoch 45/50\n",
            "31/31 [==============================] - 2s 71ms/step - loss: 0.6413 - categorical_accuracy: 0.7247 - val_loss: 0.6160 - val_categorical_accuracy: 0.7312\n",
            "Epoch 46/50\n",
            "31/31 [==============================] - 2s 72ms/step - loss: 0.6274 - categorical_accuracy: 0.7277 - val_loss: 0.6113 - val_categorical_accuracy: 0.7384\n",
            "Epoch 47/50\n",
            "31/31 [==============================] - 2s 73ms/step - loss: 0.6322 - categorical_accuracy: 0.7355 - val_loss: 0.6100 - val_categorical_accuracy: 0.7322\n",
            "Epoch 48/50\n",
            "31/31 [==============================] - 2s 71ms/step - loss: 0.6395 - categorical_accuracy: 0.7308 - val_loss: 0.6123 - val_categorical_accuracy: 0.7374\n",
            "Epoch 49/50\n",
            "31/31 [==============================] - 2s 72ms/step - loss: 0.6284 - categorical_accuracy: 0.7334 - val_loss: 0.6372 - val_categorical_accuracy: 0.7209\n",
            "Epoch 50/50\n",
            "31/31 [==============================] - 2s 73ms/step - loss: 0.6351 - categorical_accuracy: 0.7293 - val_loss: 0.6166 - val_categorical_accuracy: 0.7261\n"
          ],
          "name": "stdout"
        }
      ]
    },
    {
      "cell_type": "code",
      "metadata": {
        "id": "WVeqEKWGo2_4"
      },
      "source": [
        "#y_pred=model.predict_classes(X_test)"
      ],
      "execution_count": 40,
      "outputs": []
    },
    {
      "cell_type": "code",
      "metadata": {
        "id": "oeDae0NKpDs9"
      },
      "source": [
        "#from sklearn.metrics import confusion_matrix\n",
        "#from sklearn.metrics import multilabel_confusion_matrix\n",
        "\n",
        "#multilabel_confusion_matrix(rounded_labels, y_pred)"
      ],
      "execution_count": 41,
      "outputs": []
    },
    {
      "cell_type": "code",
      "metadata": {
        "id": "9ofcxbskpeA7"
      },
      "source": [
        "#from sklearn.metrics import accuracy_score\n",
        "#accuracy_score(rounded_labels,y_pred)"
      ],
      "execution_count": 42,
      "outputs": []
    },
    {
      "cell_type": "markdown",
      "metadata": {
        "id": "EmcvYG6GaZAp"
      },
      "source": [
        "\n",
        "\n",
        "---\n",
        "\n",
        "# Approach 2 : Building separate model for each target value. i.e. 5 models for 5 different targets in training data\n",
        "\n",
        "\n",
        "\n",
        "In this approach, we split the whole dataset into 5 subsets each for one Target value and then construct model for each target to predict if the tweet is in FAVOR of that target or AGAINST that target or NONE."
      ]
    },
    {
      "cell_type": "code",
      "metadata": {
        "id": "NeMLkxwkXkZS"
      },
      "source": [
        "## We are dividing the whole training data into subsets according to the target subject value.\n",
        "\n",
        "traindata_HC = traindata[traindata['Target'] == \"Hillary Clinton\"]\n",
        "traindata_AB = traindata[traindata['Target'] == \"Legalization of Abortion\"]\n",
        "traindata_AT = traindata[traindata['Target'] == \"Atheism\"]\n",
        "traindata_CC = traindata[traindata['Target'] == \"Climate Change is a Real Concern\"]\n",
        "traindata_FM = traindata[traindata['Target'] == \"Feminist Movement\"]"
      ],
      "execution_count": 43,
      "outputs": []
    },
    {
      "cell_type": "markdown",
      "metadata": {
        "id": "LYUy_g85O6Kf"
      },
      "source": [
        "From the Approach 1, we now knew the exact preprocessing steps required for the tweets. and hence we used minimum required steps of preprocessing on each subset of training data. \n",
        "\n",
        "We have created one method to preprocess the data provided. This preprocessing involves \n",
        "1. concatenating Tweet and Targets\n",
        "2. converting text into Lowercase\n",
        "3. removing some bad symbols like brackets and other alphanumeric characters except # and @\n",
        "4. We will apply this method on each dataset created above as a preprocessing data"
      ]
    },
    {
      "cell_type": "code",
      "metadata": {
        "id": "Xoz-Yq9tXksi"
      },
      "source": [
        "## We are doing some pre-processing steps prior modelling \n",
        "## 1. concatenating Tweet and Targets\n",
        "## 2. converting text into Lowercase\n",
        "## 3. removing some bad symbols like brackets and other alphanumeric characters except # and @\n",
        "## 4. We will apply this method on each dataset created above as a preprocessing data\n",
        "\n",
        "def TextPreprocessing(traindata):\n",
        "  traindata = traindata.reset_index(drop= True)\n",
        "  REPLACE_BY_SPACE_RE = re.compile('[/(){}\\[\\]\\|,;]')\n",
        "  BAD_SYMBOLS_RE = re.compile('[^a-z #@]')\n",
        "  Tweet_Lines = list()\n",
        "  Tweets = list()\n",
        "  tknzr = TweetTokenizer()\n",
        "\n",
        "  def clean_text(text):\n",
        "      text = text.lower() # lowercase text\n",
        "      text = REPLACE_BY_SPACE_RE.sub(' ', text) # replace REPLACE_BY_SPACE_RE symbols by space in text. substitute the matched string in REPLACE_BY_SPACE_RE with space.\n",
        "      text = BAD_SYMBOLS_RE.sub('', text) # remove symbols which are in BAD_SYMBOLS_RE from text. substitute the matched string in BAD_SYMBOLS_RE with nothing. \n",
        "      text = ''.join(word for word in text.split() if word not in stopwords.words()) # remove stopwords from text\n",
        "      return text\n",
        "\n",
        "  traindata['Tweet'] = traindata.Tweet + ' ' + traindata.Target\n",
        "  lines = traindata['Tweet'].values.tolist()\n",
        "  for line in lines:\n",
        "      tokens = tknzr.tokenize(line)\n",
        "      Tweet_Lines = list()\n",
        "      for token in tokens:\n",
        "        token = clean_text(token)\n",
        "        if token != '' :\n",
        "          Tweet_Lines.append(token)\n",
        "      Tweets.append(Tweet_Lines)\n",
        "          \n",
        "  return Tweets"
      ],
      "execution_count": 44,
      "outputs": []
    },
    {
      "cell_type": "code",
      "metadata": {
        "id": "Gx3Sag7uXkfU"
      },
      "source": [
        "Tweets_HC = TextPreprocessing(traindata_HC)\n",
        "Tweets_AB = TextPreprocessing(traindata_AB)\n",
        "Tweets_AT = TextPreprocessing(traindata_AT)\n",
        "Tweets_CC = TextPreprocessing(traindata_CC)\n",
        "Tweets_FM = TextPreprocessing(traindata_FM)"
      ],
      "execution_count": 45,
      "outputs": []
    },
    {
      "cell_type": "markdown",
      "metadata": {
        "id": "P5nhHtkuPam7"
      },
      "source": [
        "We have to do similar tokenizing and padding task for each of the 5 datasets so we created a generic method which is used to do tokenization and padding.\n",
        "\n",
        "We have used 40 as a max length while padding. "
      ]
    },
    {
      "cell_type": "code",
      "metadata": {
        "id": "oKs7MVplfJW-"
      },
      "source": [
        "## Tokenizing and padding the Tweets data to make it suitable for further modelling.\n",
        "\n",
        "from tensorflow.python.keras.preprocessing.text import Tokenizer\n",
        "from tensorflow.python.keras.preprocessing.sequence import pad_sequences\n",
        "MAX_LENGTH = 40\n",
        "embedding_dim = 100\n",
        "\n",
        "def Padding(Tweets):  \n",
        "  tokenizer = Tokenizer()\n",
        "  tokenizer.fit_on_texts(Tweets)\n",
        "  word_index = tokenizer.word_index\n",
        "  print('Found %s unique tokens.' % len(word_index))\n",
        "\n",
        "  X = tokenizer.texts_to_sequences(Tweets)\n",
        "  X = pad_sequences(X, maxlen=MAX_LENGTH, padding= 'post')\n",
        "  print('Shape of data tensor:', X.shape)\n",
        "\n",
        "  return X, word_index"
      ],
      "execution_count": 46,
      "outputs": []
    },
    {
      "cell_type": "markdown",
      "metadata": {
        "id": "EKOncA-sP_iF"
      },
      "source": [
        "The next step is to split the data for training and validation. We have simply used train_test_split() function from sklearn to split the data with provided split size."
      ]
    },
    {
      "cell_type": "code",
      "metadata": {
        "id": "cLD2-gXytvLO"
      },
      "source": [
        "from sklearn.model_selection import train_test_split\n",
        "\n",
        "def split(X, Y, split_size):\n",
        "    X_train, X_Val, Y_train, Y_Val = train_test_split(X, Y, test_size= split_size, random_state = 42, shuffle= True)\n",
        "    return X_train, X_Val, Y_train, Y_Val"
      ],
      "execution_count": 47,
      "outputs": []
    },
    {
      "cell_type": "code",
      "metadata": {
        "id": "11z4YpgTu160"
      },
      "source": [
        "def get_callbacks(name):\n",
        "  return [\n",
        "    tf.keras.callbacks.TensorBoard(logdir/name, histogram_freq=1),\n",
        "  ]"
      ],
      "execution_count": 48,
      "outputs": []
    },
    {
      "cell_type": "markdown",
      "metadata": {
        "id": "eWsGX69fQTjF"
      },
      "source": [
        "**Baseline Model**\n",
        "\n",
        "In the next code cell, we created a baseline model with Transfer Learning layer. \n",
        "\n",
        "The model architechture is like encoded input is fed to the Glove pretrained vector to create an Embedding Layer weights. We create an Embedding Layer with the weights generated above and it is our first layer of the model. Output of this layer is given to the LSTM layer with 32 memory units which has dropout rate of 0.5 and recurrent_dropout rate of 0.25. Output of this layer is again passed through the dropout layer of 0.6 value. The output of this dropout layer is fed to the ReLU dense layer of 64 unit for the non-linear activation. This output is again passed though the dropuout layer of 0.6 value and finally fed to the Softmax activation layer with 3 output units which predict the Stance as either 'FAVOR', 'AGAINST' or 'NONE'.\n",
        "\n",
        "We are using 'categorical_crossentropy' as a error metric and 'Categorical_Accuracy' as a performance metric while compiling the model. We have used basic 'adam' optimizer for the training purpose.\n",
        "\n",
        "Here we are checking the model with and without transfer learning for each of 5 target related models hence we have created a method which will construct a model as per the provided embedding layer."
      ]
    },
    {
      "cell_type": "code",
      "metadata": {
        "id": "nbVybWPDu3f5"
      },
      "source": [
        "from tensorflow.keras.layers import Dense, Embedding, GRU, LSTM, Bidirectional, Dropout\n",
        "from tensorflow.keras.models import Sequential\n",
        "from tensorflow.keras import regularizers, optimizers\n",
        "\n",
        "def create_model(embedding_layer):\n",
        "\n",
        "  model_glove = Sequential()\n",
        "  model_glove.add(embedding_layer)\n",
        "  model_glove.add(LSTM(units=32,dropout= 0.5, recurrent_dropout=0.25))\n",
        "  #model_glove.add(LSTM(units=64, kernel_regularizer=regularizers.l2(0.01)))\n",
        "  model_glove.add(Dropout(0.6))\n",
        "  model_glove.add(Dense(64, activation='relu'))\n",
        "  model_glove.add(Dropout(0.6))\n",
        "  model_glove.add(Dense(3, activation='softmax'))\n",
        "\n",
        "  #opt= tf.keras.optimizers.SGD()\n",
        "  model_glove.compile(loss='categorical_crossentropy', optimizer='adam', metrics=['categorical_accuracy'])\n",
        "\n",
        "  return model_glove  "
      ],
      "execution_count": 49,
      "outputs": []
    },
    {
      "cell_type": "markdown",
      "metadata": {
        "id": "EJlSroDPuctp"
      },
      "source": [
        "**Word Embedding and Transfer Learning**\n",
        "\n",
        "As we can see from the above that we have very small dataset only with 2914 data points of 5 target values. We can see from above exploration that the data also has class imbalance problem so we are using a pretrained vector weights to use better representation of the vocabulary we have in our data set. \n",
        "\n",
        "We are using Glove Twitter 100 dimensional pretrained vector present on https://nlp.stanford.edu/projects/glove/\n",
        "\n",
        "This pretrained vector is present in various dimentions as 50d, 100d and 200d but we are simply using 100d vector for our task.\n",
        "we make a glove vector dictionary to save all the words from pretrained vector file."
      ]
    },
    {
      "cell_type": "code",
      "metadata": {
        "id": "s-rz1hPOuWuF"
      },
      "source": [
        "#file = open('/content/drive/My Drive/Colab Notebooks/TweetsDataset/glove.twitter.27B.100d.txt', encoding='utf-8')\n",
        "file = open('/content/drive/My Drive/ColabNotebooks/DeepLearningLabs/Assignment2/glove.twitter.27B.100d.txt', encoding='utf-8')\n",
        "glove_vectors = dict()\n",
        "for line in file:\n",
        "  values = line.split()\n",
        "  word = values[0]\n",
        "  features = np.asarray(values[1:])\n",
        "  glove_vectors[word] = features\n",
        "\n",
        "file.close()"
      ],
      "execution_count": 50,
      "outputs": []
    },
    {
      "cell_type": "markdown",
      "metadata": {
        "id": "Xh2kj1jcsSBM"
      },
      "source": [
        "# **1. modelling for tweets related to Target : Hillary Clinton**"
      ]
    },
    {
      "cell_type": "markdown",
      "metadata": {
        "id": "ElHeoAt3RK1x"
      },
      "source": [
        "First we check the preprocessed tweet data for target Hillary Clinton"
      ]
    },
    {
      "cell_type": "code",
      "metadata": {
        "id": "hbUZD-AE0JAI",
        "outputId": "de741087-4bb2-471d-9951-6d79d834cba8",
        "colab": {
          "base_uri": "https://localhost:8080/"
        }
      },
      "source": [
        "Tweets_HC[:1]"
      ],
      "execution_count": 51,
      "outputs": [
        {
          "output_type": "execute_result",
          "data": {
            "text/plain": [
              "[['@tedcruz',\n",
              "  '#handovertheserver',\n",
              "  'wiped',\n",
              "  'clean',\n",
              "  'deleted',\n",
              "  'emails',\n",
              "  'explains',\n",
              "  'dereliction',\n",
              "  'duty',\n",
              "  'lies',\n",
              "  '#benghazi',\n",
              "  'etc',\n",
              "  '#tcot',\n",
              "  'hillary',\n",
              "  'clinton']]"
            ]
          },
          "metadata": {
            "tags": []
          },
          "execution_count": 51
        }
      ]
    },
    {
      "cell_type": "markdown",
      "metadata": {
        "id": "jxRy1JBoRScS"
      },
      "source": [
        "The next step is to call method padding which will tokenize the tweets and pad them with max length of 40."
      ]
    },
    {
      "cell_type": "code",
      "metadata": {
        "id": "WXrlCw2QfJPm",
        "outputId": "50cfec8a-fd38-461d-e272-aea6830596ba",
        "colab": {
          "base_uri": "https://localhost:8080/"
        }
      },
      "source": [
        "X, word_index = Padding(Tweets_HC)\n",
        "Y = pd.get_dummies(traindata_HC['Stance']).values\n",
        "print('Shape of label tensor:', Y.shape)"
      ],
      "execution_count": 52,
      "outputs": [
        {
          "output_type": "stream",
          "text": [
            "Found 2966 unique tokens.\n",
            "Shape of data tensor: (689, 40)\n",
            "Shape of label tensor: (689, 3)\n"
          ],
          "name": "stdout"
        }
      ]
    },
    {
      "cell_type": "markdown",
      "metadata": {
        "id": "x275qrnrjtXA"
      },
      "source": [
        "The next step is to split the above data into training and validation. We are using above mentioned split() method by passing 0.2 as a split size which means 20% of the data is reserved for validation and remaining 80% data is used for training the model."
      ]
    },
    {
      "cell_type": "code",
      "metadata": {
        "id": "qiT6k6-ZDvJf",
        "outputId": "814b6ddb-3e7f-433d-b886-634d5a07fd33",
        "colab": {
          "base_uri": "https://localhost:8080/"
        }
      },
      "source": [
        "X_train, X_Val, Y_train, Y_Val = split(X, Y, 0.2)\n",
        "print(\"X train shape: \", X_train.shape)\n",
        "print(\"Y train shape: \", Y_train.shape)\n",
        "print(\"X Val shape: \", X_Val.shape)\n",
        "print(\"Y Val shape: \", Y_Val.shape)"
      ],
      "execution_count": 53,
      "outputs": [
        {
          "output_type": "stream",
          "text": [
            "X train shape:  (551, 40)\n",
            "Y train shape:  (551, 3)\n",
            "X Val shape:  (138, 40)\n",
            "Y Val shape:  (138, 3)\n"
          ],
          "name": "stdout"
        }
      ]
    },
    {
      "cell_type": "markdown",
      "metadata": {
        "id": "gDYjJn7mv5W6"
      },
      "source": [
        "**Model without Transfer Learning**\n",
        "\n",
        "First we try to model without transfer learning.\n"
      ]
    },
    {
      "cell_type": "code",
      "metadata": {
        "id": "hirEyLi6wUZ6",
        "outputId": "007d0f0e-355a-4f71-c8cb-c2cc76d4ab8d",
        "colab": {
          "base_uri": "https://localhost:8080/"
        }
      },
      "source": [
        "embedding_layer = Embedding(len(word_index)+1,\n",
        "                                   embedding_dim,\n",
        "                                   input_length=MAX_LENGTH,\n",
        "                                   trainable=True)\n",
        "model = create_model(embedding_layer)\n",
        "print(model.summary())"
      ],
      "execution_count": 54,
      "outputs": [
        {
          "output_type": "stream",
          "text": [
            "Model: \"sequential_1\"\n",
            "_________________________________________________________________\n",
            "Layer (type)                 Output Shape              Param #   \n",
            "=================================================================\n",
            "embedding_1 (Embedding)      (None, 40, 100)           296700    \n",
            "_________________________________________________________________\n",
            "lstm_1 (LSTM)                (None, 32)                17024     \n",
            "_________________________________________________________________\n",
            "dropout_2 (Dropout)          (None, 32)                0         \n",
            "_________________________________________________________________\n",
            "dense_2 (Dense)              (None, 64)                2112      \n",
            "_________________________________________________________________\n",
            "dropout_3 (Dropout)          (None, 64)                0         \n",
            "_________________________________________________________________\n",
            "dense_3 (Dense)              (None, 3)                 195       \n",
            "=================================================================\n",
            "Total params: 316,031\n",
            "Trainable params: 316,031\n",
            "Non-trainable params: 0\n",
            "_________________________________________________________________\n",
            "None\n"
          ],
          "name": "stdout"
        }
      ]
    },
    {
      "cell_type": "markdown",
      "metadata": {
        "id": "aWMm66YgkzHT"
      },
      "source": [
        "As we have less amount of data available for training, we are using K-fold cross validation technique to train our model for 50 epochs in each of the 3 folds.\n",
        "The batch size is set to 64 and we trained the data for 50 epochs and 3 folds.\n",
        "\n",
        "From the below output we can see that the model achieved categorical accuracy of about 74% on the validation data set.\n",
        "\n",
        "To check the learning curve of the training and validation we plot the grphs using plotter function mentioned above."
      ]
    },
    {
      "cell_type": "code",
      "metadata": {
        "id": "AQq9_JExwxag",
        "outputId": "00e53d27-f2d6-4ae2-c869-b72c3962a292",
        "colab": {
          "base_uri": "https://localhost:8080/"
        }
      },
      "source": [
        "from sklearn.model_selection import KFold\n",
        "num_folds = 5\n",
        "input = np.concatenate((X_train, X_Val), axis= 0)\n",
        "target = np.concatenate((Y_train, Y_Val), axis= 0)\n",
        "\n",
        "kfold = KFold(n_splits=num_folds, shuffle=True)\n",
        "K = 1\n",
        "for train, test in kfold.split(input, target):\n",
        "    print(\"fold number: \", K)\n",
        "    m_histories = {}\n",
        "    m_histories['with_TL'] = model.fit(input[train], target[train], batch_size=64, epochs=20, validation_data=(input[test], target[test]), callbacks=get_callbacks('models/with_TL'), verbose=1)\n",
        "    K = K+1"
      ],
      "execution_count": 55,
      "outputs": [
        {
          "output_type": "stream",
          "text": [
            "fold number:  1\n",
            "Epoch 1/20\n",
            "2/9 [=====>........................] - ETA: 1s - loss: 1.0956 - categorical_accuracy: 0.3438WARNING:tensorflow:Callbacks method `on_train_batch_end` is slow compared to the batch time (batch time: 0.0819s vs `on_train_batch_end` time: 0.4371s). Check your callbacks.\n",
            "9/9 [==============================] - 2s 197ms/step - loss: 1.0782 - categorical_accuracy: 0.4719 - val_loss: 1.0485 - val_categorical_accuracy: 0.5725\n",
            "Epoch 2/20\n",
            "9/9 [==============================] - 1s 63ms/step - loss: 1.0318 - categorical_accuracy: 0.5318 - val_loss: 0.9930 - val_categorical_accuracy: 0.5725\n",
            "Epoch 3/20\n",
            "9/9 [==============================] - 1s 64ms/step - loss: 1.0051 - categorical_accuracy: 0.5535 - val_loss: 0.9765 - val_categorical_accuracy: 0.5725\n",
            "Epoch 4/20\n",
            "9/9 [==============================] - 1s 67ms/step - loss: 0.9962 - categorical_accuracy: 0.5535 - val_loss: 0.9786 - val_categorical_accuracy: 0.5725\n",
            "Epoch 5/20\n",
            "9/9 [==============================] - 1s 67ms/step - loss: 0.9984 - categorical_accuracy: 0.5717 - val_loss: 0.9830 - val_categorical_accuracy: 0.5725\n",
            "Epoch 6/20\n",
            "9/9 [==============================] - 1s 76ms/step - loss: 0.9867 - categorical_accuracy: 0.5572 - val_loss: 0.9800 - val_categorical_accuracy: 0.5725\n",
            "Epoch 7/20\n",
            "9/9 [==============================] - 1s 65ms/step - loss: 0.9975 - categorical_accuracy: 0.5662 - val_loss: 0.9813 - val_categorical_accuracy: 0.5725\n",
            "Epoch 8/20\n",
            "9/9 [==============================] - 1s 62ms/step - loss: 0.9896 - categorical_accuracy: 0.5681 - val_loss: 0.9805 - val_categorical_accuracy: 0.5725\n",
            "Epoch 9/20\n",
            "9/9 [==============================] - 1s 63ms/step - loss: 0.9975 - categorical_accuracy: 0.5608 - val_loss: 0.9845 - val_categorical_accuracy: 0.5725\n",
            "Epoch 10/20\n",
            "9/9 [==============================] - 1s 60ms/step - loss: 0.9904 - categorical_accuracy: 0.5681 - val_loss: 0.9862 - val_categorical_accuracy: 0.5725\n",
            "Epoch 11/20\n",
            "9/9 [==============================] - 1s 62ms/step - loss: 0.9846 - categorical_accuracy: 0.5699 - val_loss: 0.9836 - val_categorical_accuracy: 0.5725\n",
            "Epoch 12/20\n",
            "9/9 [==============================] - 1s 63ms/step - loss: 0.9816 - categorical_accuracy: 0.5662 - val_loss: 0.9828 - val_categorical_accuracy: 0.5725\n",
            "Epoch 13/20\n",
            "9/9 [==============================] - 1s 61ms/step - loss: 0.9910 - categorical_accuracy: 0.5699 - val_loss: 0.9827 - val_categorical_accuracy: 0.5725\n",
            "Epoch 14/20\n",
            "9/9 [==============================] - 1s 64ms/step - loss: 0.9972 - categorical_accuracy: 0.5681 - val_loss: 0.9819 - val_categorical_accuracy: 0.5725\n",
            "Epoch 15/20\n",
            "9/9 [==============================] - 1s 64ms/step - loss: 0.9971 - categorical_accuracy: 0.5699 - val_loss: 0.9849 - val_categorical_accuracy: 0.5725\n",
            "Epoch 16/20\n",
            "9/9 [==============================] - 1s 62ms/step - loss: 0.9850 - categorical_accuracy: 0.5699 - val_loss: 0.9813 - val_categorical_accuracy: 0.5725\n",
            "Epoch 17/20\n",
            "9/9 [==============================] - 1s 63ms/step - loss: 0.9803 - categorical_accuracy: 0.5699 - val_loss: 0.9803 - val_categorical_accuracy: 0.5725\n",
            "Epoch 18/20\n",
            "9/9 [==============================] - 1s 63ms/step - loss: 0.9775 - categorical_accuracy: 0.5699 - val_loss: 0.9812 - val_categorical_accuracy: 0.5725\n",
            "Epoch 19/20\n",
            "9/9 [==============================] - 1s 62ms/step - loss: 0.9997 - categorical_accuracy: 0.5699 - val_loss: 0.9834 - val_categorical_accuracy: 0.5725\n",
            "Epoch 20/20\n",
            "9/9 [==============================] - 1s 64ms/step - loss: 0.9925 - categorical_accuracy: 0.5699 - val_loss: 0.9819 - val_categorical_accuracy: 0.5725\n",
            "fold number:  2\n",
            "Epoch 1/20\n",
            "2/9 [=====>........................] - ETA: 0s - loss: 0.9997 - categorical_accuracy: 0.5234WARNING:tensorflow:Callbacks method `on_train_batch_end` is slow compared to the batch time (batch time: 0.0622s vs `on_train_batch_end` time: 0.1052s). Check your callbacks.\n",
            "9/9 [==============================] - 1s 79ms/step - loss: 1.0068 - categorical_accuracy: 0.5554 - val_loss: 0.9350 - val_categorical_accuracy: 0.6304\n",
            "Epoch 2/20\n",
            "9/9 [==============================] - 1s 66ms/step - loss: 0.9958 - categorical_accuracy: 0.5554 - val_loss: 0.9376 - val_categorical_accuracy: 0.6304\n",
            "Epoch 3/20\n",
            "9/9 [==============================] - 1s 64ms/step - loss: 0.9955 - categorical_accuracy: 0.5554 - val_loss: 0.9321 - val_categorical_accuracy: 0.6304\n",
            "Epoch 4/20\n",
            "9/9 [==============================] - 1s 63ms/step - loss: 0.9976 - categorical_accuracy: 0.5554 - val_loss: 0.9290 - val_categorical_accuracy: 0.6304\n",
            "Epoch 5/20\n",
            "9/9 [==============================] - 1s 63ms/step - loss: 0.9947 - categorical_accuracy: 0.5554 - val_loss: 0.9296 - val_categorical_accuracy: 0.6304\n",
            "Epoch 6/20\n",
            "9/9 [==============================] - 1s 63ms/step - loss: 0.9946 - categorical_accuracy: 0.5554 - val_loss: 0.9325 - val_categorical_accuracy: 0.6304\n",
            "Epoch 7/20\n",
            "9/9 [==============================] - 1s 63ms/step - loss: 0.9820 - categorical_accuracy: 0.5554 - val_loss: 0.9173 - val_categorical_accuracy: 0.6304\n",
            "Epoch 8/20\n",
            "9/9 [==============================] - 1s 63ms/step - loss: 0.9707 - categorical_accuracy: 0.5554 - val_loss: 0.8727 - val_categorical_accuracy: 0.6304\n",
            "Epoch 9/20\n",
            "9/9 [==============================] - 1s 62ms/step - loss: 0.8049 - categorical_accuracy: 0.5644 - val_loss: 0.6708 - val_categorical_accuracy: 0.6304\n",
            "Epoch 10/20\n",
            "9/9 [==============================] - 1s 64ms/step - loss: 0.6218 - categorical_accuracy: 0.6624 - val_loss: 0.7215 - val_categorical_accuracy: 0.6449\n",
            "Epoch 11/20\n",
            "9/9 [==============================] - 1s 63ms/step - loss: 0.6144 - categorical_accuracy: 0.7477 - val_loss: 1.2271 - val_categorical_accuracy: 0.7029\n",
            "Epoch 12/20\n",
            "9/9 [==============================] - 1s 63ms/step - loss: 0.6105 - categorical_accuracy: 0.7641 - val_loss: 0.8018 - val_categorical_accuracy: 0.7101\n",
            "Epoch 13/20\n",
            "9/9 [==============================] - 1s 62ms/step - loss: 0.5422 - categorical_accuracy: 0.7532 - val_loss: 0.9864 - val_categorical_accuracy: 0.6232\n",
            "Epoch 14/20\n",
            "9/9 [==============================] - 1s 62ms/step - loss: 0.5098 - categorical_accuracy: 0.7641 - val_loss: 1.0952 - val_categorical_accuracy: 0.5725\n",
            "Epoch 15/20\n",
            "9/9 [==============================] - 1s 61ms/step - loss: 0.5303 - categorical_accuracy: 0.7586 - val_loss: 1.0636 - val_categorical_accuracy: 0.5580\n",
            "Epoch 16/20\n",
            "9/9 [==============================] - 1s 61ms/step - loss: 0.5042 - categorical_accuracy: 0.7641 - val_loss: 0.8796 - val_categorical_accuracy: 0.6739\n",
            "Epoch 17/20\n",
            "9/9 [==============================] - 1s 64ms/step - loss: 0.4786 - categorical_accuracy: 0.8004 - val_loss: 0.8614 - val_categorical_accuracy: 0.7029\n",
            "Epoch 18/20\n",
            "9/9 [==============================] - 1s 68ms/step - loss: 0.4518 - categorical_accuracy: 0.7895 - val_loss: 1.0015 - val_categorical_accuracy: 0.6522\n",
            "Epoch 19/20\n",
            "9/9 [==============================] - 1s 64ms/step - loss: 0.4619 - categorical_accuracy: 0.7786 - val_loss: 1.1885 - val_categorical_accuracy: 0.5942\n",
            "Epoch 20/20\n",
            "9/9 [==============================] - 1s 63ms/step - loss: 0.4312 - categorical_accuracy: 0.7985 - val_loss: 1.2456 - val_categorical_accuracy: 0.5870\n",
            "fold number:  3\n",
            "Epoch 1/20\n",
            "9/9 [==============================] - 1s 74ms/step - loss: 0.6248 - categorical_accuracy: 0.7495 - val_loss: 0.4425 - val_categorical_accuracy: 0.7971\n",
            "Epoch 2/20\n",
            "9/9 [==============================] - 1s 62ms/step - loss: 0.5458 - categorical_accuracy: 0.7931 - val_loss: 0.4509 - val_categorical_accuracy: 0.7971\n",
            "Epoch 3/20\n",
            "9/9 [==============================] - 1s 61ms/step - loss: 0.5484 - categorical_accuracy: 0.7659 - val_loss: 0.4523 - val_categorical_accuracy: 0.7971\n",
            "Epoch 4/20\n",
            "9/9 [==============================] - 1s 62ms/step - loss: 0.4933 - categorical_accuracy: 0.8022 - val_loss: 0.4494 - val_categorical_accuracy: 0.7971\n",
            "Epoch 5/20\n",
            "9/9 [==============================] - 1s 64ms/step - loss: 0.4733 - categorical_accuracy: 0.8040 - val_loss: 0.4428 - val_categorical_accuracy: 0.7971\n",
            "Epoch 6/20\n",
            "9/9 [==============================] - 1s 67ms/step - loss: 0.4749 - categorical_accuracy: 0.7840 - val_loss: 0.4490 - val_categorical_accuracy: 0.7826\n",
            "Epoch 7/20\n",
            "9/9 [==============================] - 1s 65ms/step - loss: 0.6699 - categorical_accuracy: 0.7005 - val_loss: 0.5553 - val_categorical_accuracy: 0.7391\n",
            "Epoch 8/20\n",
            "9/9 [==============================] - 1s 64ms/step - loss: 0.6247 - categorical_accuracy: 0.7042 - val_loss: 0.5158 - val_categorical_accuracy: 0.7536\n",
            "Epoch 9/20\n",
            "9/9 [==============================] - 1s 61ms/step - loss: 0.5221 - categorical_accuracy: 0.7495 - val_loss: 0.4908 - val_categorical_accuracy: 0.7681\n",
            "Epoch 10/20\n",
            "9/9 [==============================] - 1s 64ms/step - loss: 0.4891 - categorical_accuracy: 0.7695 - val_loss: 0.4682 - val_categorical_accuracy: 0.7826\n",
            "Epoch 11/20\n",
            "9/9 [==============================] - 1s 64ms/step - loss: 0.4642 - categorical_accuracy: 0.7858 - val_loss: 0.4662 - val_categorical_accuracy: 0.7826\n",
            "Epoch 12/20\n",
            "9/9 [==============================] - 1s 62ms/step - loss: 0.4570 - categorical_accuracy: 0.7804 - val_loss: 0.4722 - val_categorical_accuracy: 0.7754\n",
            "Epoch 13/20\n",
            "9/9 [==============================] - 1s 62ms/step - loss: 0.4573 - categorical_accuracy: 0.7641 - val_loss: 0.4822 - val_categorical_accuracy: 0.7681\n",
            "Epoch 14/20\n",
            "9/9 [==============================] - 1s 69ms/step - loss: 0.4424 - categorical_accuracy: 0.7895 - val_loss: 0.4783 - val_categorical_accuracy: 0.7681\n",
            "Epoch 15/20\n",
            "9/9 [==============================] - 1s 63ms/step - loss: 0.4492 - categorical_accuracy: 0.7786 - val_loss: 0.4769 - val_categorical_accuracy: 0.7681\n",
            "Epoch 16/20\n",
            "9/9 [==============================] - 1s 63ms/step - loss: 0.4442 - categorical_accuracy: 0.7822 - val_loss: 0.4755 - val_categorical_accuracy: 0.7681\n",
            "Epoch 17/20\n",
            "9/9 [==============================] - 1s 64ms/step - loss: 0.4440 - categorical_accuracy: 0.7858 - val_loss: 0.4735 - val_categorical_accuracy: 0.7681\n",
            "Epoch 18/20\n",
            "9/9 [==============================] - 1s 62ms/step - loss: 0.4395 - categorical_accuracy: 0.7822 - val_loss: 0.4696 - val_categorical_accuracy: 0.7681\n",
            "Epoch 19/20\n",
            "9/9 [==============================] - 1s 63ms/step - loss: 0.4345 - categorical_accuracy: 0.7877 - val_loss: 0.4576 - val_categorical_accuracy: 0.7754\n",
            "Epoch 20/20\n",
            "9/9 [==============================] - 1s 64ms/step - loss: 0.4386 - categorical_accuracy: 0.7931 - val_loss: 0.4578 - val_categorical_accuracy: 0.7754\n",
            "fold number:  4\n",
            "Epoch 1/20\n",
            "9/9 [==============================] - 1s 77ms/step - loss: 0.4492 - categorical_accuracy: 0.7768 - val_loss: 0.3616 - val_categorical_accuracy: 0.8333\n",
            "Epoch 2/20\n",
            "9/9 [==============================] - 1s 65ms/step - loss: 0.4232 - categorical_accuracy: 0.7822 - val_loss: 0.3597 - val_categorical_accuracy: 0.8333\n",
            "Epoch 3/20\n",
            "9/9 [==============================] - 1s 62ms/step - loss: 0.4360 - categorical_accuracy: 0.7895 - val_loss: 0.3568 - val_categorical_accuracy: 0.8333\n",
            "Epoch 4/20\n",
            "9/9 [==============================] - 1s 63ms/step - loss: 0.4175 - categorical_accuracy: 0.7877 - val_loss: 0.3546 - val_categorical_accuracy: 0.8333\n",
            "Epoch 5/20\n",
            "9/9 [==============================] - 1s 63ms/step - loss: 0.4311 - categorical_accuracy: 0.7931 - val_loss: 0.3528 - val_categorical_accuracy: 0.8333\n",
            "Epoch 6/20\n",
            "9/9 [==============================] - 1s 63ms/step - loss: 0.3979 - categorical_accuracy: 0.7985 - val_loss: 0.3515 - val_categorical_accuracy: 0.8333\n",
            "Epoch 7/20\n",
            "9/9 [==============================] - 1s 64ms/step - loss: 0.4074 - categorical_accuracy: 0.7931 - val_loss: 0.3510 - val_categorical_accuracy: 0.8333\n",
            "Epoch 8/20\n",
            "9/9 [==============================] - 1s 64ms/step - loss: 0.4001 - categorical_accuracy: 0.8040 - val_loss: 0.3497 - val_categorical_accuracy: 0.8333\n",
            "Epoch 9/20\n",
            "9/9 [==============================] - 1s 66ms/step - loss: 0.4189 - categorical_accuracy: 0.7877 - val_loss: 0.3487 - val_categorical_accuracy: 0.8333\n",
            "Epoch 10/20\n",
            "9/9 [==============================] - 1s 67ms/step - loss: 0.3913 - categorical_accuracy: 0.8004 - val_loss: 0.3480 - val_categorical_accuracy: 0.8333\n",
            "Epoch 11/20\n",
            "9/9 [==============================] - 1s 63ms/step - loss: 0.4057 - categorical_accuracy: 0.8040 - val_loss: 0.3477 - val_categorical_accuracy: 0.8333\n",
            "Epoch 12/20\n",
            "9/9 [==============================] - 1s 64ms/step - loss: 0.3799 - categorical_accuracy: 0.7985 - val_loss: 0.3455 - val_categorical_accuracy: 0.8333\n",
            "Epoch 13/20\n",
            "9/9 [==============================] - 1s 65ms/step - loss: 0.3809 - categorical_accuracy: 0.8094 - val_loss: 0.3443 - val_categorical_accuracy: 0.8333\n",
            "Epoch 14/20\n",
            "9/9 [==============================] - 1s 62ms/step - loss: 0.3752 - categorical_accuracy: 0.8058 - val_loss: 0.3432 - val_categorical_accuracy: 0.8333\n",
            "Epoch 15/20\n",
            "9/9 [==============================] - 1s 64ms/step - loss: 0.3750 - categorical_accuracy: 0.8058 - val_loss: 0.3425 - val_categorical_accuracy: 0.8333\n",
            "Epoch 16/20\n",
            "9/9 [==============================] - 1s 63ms/step - loss: 0.3909 - categorical_accuracy: 0.8113 - val_loss: 0.3391 - val_categorical_accuracy: 0.8333\n",
            "Epoch 17/20\n",
            "9/9 [==============================] - 1s 66ms/step - loss: 0.3853 - categorical_accuracy: 0.8149 - val_loss: 0.3374 - val_categorical_accuracy: 0.8333\n",
            "Epoch 18/20\n",
            "9/9 [==============================] - 1s 65ms/step - loss: 0.3557 - categorical_accuracy: 0.8131 - val_loss: 0.3368 - val_categorical_accuracy: 0.8333\n",
            "Epoch 19/20\n",
            "9/9 [==============================] - 1s 64ms/step - loss: 0.3418 - categorical_accuracy: 0.8149 - val_loss: 0.3373 - val_categorical_accuracy: 0.8333\n",
            "Epoch 20/20\n",
            "9/9 [==============================] - 1s 65ms/step - loss: 0.3591 - categorical_accuracy: 0.8076 - val_loss: 0.3367 - val_categorical_accuracy: 0.8333\n",
            "fold number:  5\n",
            "Epoch 1/20\n",
            "9/9 [==============================] - 1s 76ms/step - loss: 0.3998 - categorical_accuracy: 0.8098 - val_loss: 0.2848 - val_categorical_accuracy: 0.8394\n",
            "Epoch 2/20\n",
            "9/9 [==============================] - 1s 63ms/step - loss: 0.3596 - categorical_accuracy: 0.8134 - val_loss: 0.2835 - val_categorical_accuracy: 0.8394\n",
            "Epoch 3/20\n",
            "9/9 [==============================] - 1s 62ms/step - loss: 0.3407 - categorical_accuracy: 0.8170 - val_loss: 0.2824 - val_categorical_accuracy: 0.8394\n",
            "Epoch 4/20\n",
            "9/9 [==============================] - 1s 66ms/step - loss: 0.3379 - categorical_accuracy: 0.8170 - val_loss: 0.2812 - val_categorical_accuracy: 0.8394\n",
            "Epoch 5/20\n",
            "9/9 [==============================] - 1s 64ms/step - loss: 0.3412 - categorical_accuracy: 0.8134 - val_loss: 0.2802 - val_categorical_accuracy: 0.8394\n",
            "Epoch 6/20\n",
            "9/9 [==============================] - 1s 67ms/step - loss: 0.3489 - categorical_accuracy: 0.8116 - val_loss: 0.2794 - val_categorical_accuracy: 0.8394\n",
            "Epoch 7/20\n",
            "9/9 [==============================] - 1s 65ms/step - loss: 0.3500 - categorical_accuracy: 0.8152 - val_loss: 0.2789 - val_categorical_accuracy: 0.8394\n",
            "Epoch 8/20\n",
            "9/9 [==============================] - 1s 63ms/step - loss: 0.3332 - categorical_accuracy: 0.8170 - val_loss: 0.2781 - val_categorical_accuracy: 0.8394\n",
            "Epoch 9/20\n",
            "9/9 [==============================] - 1s 64ms/step - loss: 0.3210 - categorical_accuracy: 0.8225 - val_loss: 0.2775 - val_categorical_accuracy: 0.8394\n",
            "Epoch 10/20\n",
            "9/9 [==============================] - 1s 64ms/step - loss: 0.3583 - categorical_accuracy: 0.8225 - val_loss: 0.2768 - val_categorical_accuracy: 0.8394\n",
            "Epoch 11/20\n",
            "9/9 [==============================] - 1s 62ms/step - loss: 0.3131 - categorical_accuracy: 0.8297 - val_loss: 0.2763 - val_categorical_accuracy: 0.8394\n",
            "Epoch 12/20\n",
            "9/9 [==============================] - 1s 69ms/step - loss: 0.3110 - categorical_accuracy: 0.8261 - val_loss: 0.2756 - val_categorical_accuracy: 0.8394\n",
            "Epoch 13/20\n",
            "9/9 [==============================] - 1s 64ms/step - loss: 0.3130 - categorical_accuracy: 0.8225 - val_loss: 0.2749 - val_categorical_accuracy: 0.8394\n",
            "Epoch 14/20\n",
            "9/9 [==============================] - 1s 62ms/step - loss: 0.3340 - categorical_accuracy: 0.8261 - val_loss: 0.2743 - val_categorical_accuracy: 0.8394\n",
            "Epoch 15/20\n",
            "9/9 [==============================] - 1s 66ms/step - loss: 0.3029 - categorical_accuracy: 0.8243 - val_loss: 0.2738 - val_categorical_accuracy: 0.8394\n",
            "Epoch 16/20\n",
            "9/9 [==============================] - 1s 67ms/step - loss: 0.3342 - categorical_accuracy: 0.8134 - val_loss: 0.2733 - val_categorical_accuracy: 0.8394\n",
            "Epoch 17/20\n",
            "9/9 [==============================] - 1s 64ms/step - loss: 0.3246 - categorical_accuracy: 0.8225 - val_loss: 0.2730 - val_categorical_accuracy: 0.8394\n",
            "Epoch 18/20\n",
            "9/9 [==============================] - 1s 66ms/step - loss: 0.3634 - categorical_accuracy: 0.8152 - val_loss: 0.2735 - val_categorical_accuracy: 0.8394\n",
            "Epoch 19/20\n",
            "9/9 [==============================] - 1s 64ms/step - loss: 0.3206 - categorical_accuracy: 0.8261 - val_loss: 0.2737 - val_categorical_accuracy: 0.8394\n",
            "Epoch 20/20\n",
            "9/9 [==============================] - 1s 67ms/step - loss: 0.3202 - categorical_accuracy: 0.8279 - val_loss: 0.2738 - val_categorical_accuracy: 0.8394\n"
          ],
          "name": "stdout"
        }
      ]
    },
    {
      "cell_type": "markdown",
      "metadata": {
        "id": "SD5NMWk0lOWL"
      },
      "source": [
        "We tried to plot learning curves for both validation and training data on Catergorical Crossentropy as well as for Catergorical Accuracy."
      ]
    },
    {
      "cell_type": "code",
      "metadata": {
        "id": "0ObT2XJfxELR",
        "outputId": "7d5a2449-8df9-4fe5-cfaf-8fd43f22cd1e",
        "colab": {
          "base_uri": "https://localhost:8080/",
          "height": 283
        }
      },
      "source": [
        "plotter(m_histories, ylim=[0.0, 2], metric = 'loss')"
      ],
      "execution_count": 56,
      "outputs": [
        {
          "output_type": "display_data",
          "data": {
            "image/png": "[encoded data removed]",
            "text/plain": [
              "<Figure size 432x288 with 1 Axes>"
            ]
          },
          "metadata": {
            "tags": [],
            "needs_background": "light"
          }
        }
      ]
    },
    {
      "cell_type": "code",
      "metadata": {
        "id": "GanSsz-nxEgR",
        "outputId": "0fe3f226-3338-480a-9455-8e5b54fab6cc",
        "colab": {
          "base_uri": "https://localhost:8080/",
          "height": 278
        }
      },
      "source": [
        "plotter(m_histories, ylim=[0.0, 1.1], metric = 'categorical_accuracy')"
      ],
      "execution_count": 57,
      "outputs": [
        {
          "output_type": "display_data",
          "data": {
            "image/png": "[encoded data removed]",
            "text/plain": [
              "<Figure size 432x288 with 1 Axes>"
            ]
          },
          "metadata": {
            "tags": [],
            "needs_background": "light"
          }
        }
      ]
    },
    {
      "cell_type": "markdown",
      "metadata": {
        "id": "f5dx-eGBl3mr"
      },
      "source": [
        "**Model with Transfer Learning**\n",
        "\n",
        "we try to model with transfer learning."
      ]
    },
    {
      "cell_type": "code",
      "metadata": {
        "id": "j_u1IEZrmSlg",
        "outputId": "b3263544-c4a0-42a7-e834-23b0a80bc370",
        "colab": {
          "base_uri": "https://localhost:8080/"
        }
      },
      "source": [
        "E_T = np.zeros((len(word_index)+1, embedding_dim))\n",
        "for word, i in word_index.items():\n",
        "    embedding_vector = glove_vectors.get(word)\n",
        "    if embedding_vector is not None:  \n",
        "        E_T[i] = embedding_vector\n",
        "\n",
        "E_T.size"
      ],
      "execution_count": 58,
      "outputs": [
        {
          "output_type": "execute_result",
          "data": {
            "text/plain": [
              "296700"
            ]
          },
          "metadata": {
            "tags": []
          },
          "execution_count": 58
        }
      ]
    },
    {
      "cell_type": "code",
      "metadata": {
        "id": "tYFvAnzHydbj",
        "outputId": "f6b54b35-a560-470b-f54d-02f3836db113",
        "colab": {
          "base_uri": "https://localhost:8080/"
        }
      },
      "source": [
        "embedding_layer_TL = Embedding(len(word_index)+1,\n",
        "                                embedding_dim,\n",
        "                                weights=[E_T],\n",
        "                                input_length=MAX_LENGTH,\n",
        "                                trainable=False)\n",
        "model = create_model(embedding_layer_TL)\n",
        "print(model.summary())"
      ],
      "execution_count": 59,
      "outputs": [
        {
          "output_type": "stream",
          "text": [
            "Model: \"sequential_2\"\n",
            "_________________________________________________________________\n",
            "Layer (type)                 Output Shape              Param #   \n",
            "=================================================================\n",
            "embedding_2 (Embedding)      (None, 40, 100)           296700    \n",
            "_________________________________________________________________\n",
            "lstm_2 (LSTM)                (None, 32)                17024     \n",
            "_________________________________________________________________\n",
            "dropout_4 (Dropout)          (None, 32)                0         \n",
            "_________________________________________________________________\n",
            "dense_4 (Dense)              (None, 64)                2112      \n",
            "_________________________________________________________________\n",
            "dropout_5 (Dropout)          (None, 64)                0         \n",
            "_________________________________________________________________\n",
            "dense_5 (Dense)              (None, 3)                 195       \n",
            "=================================================================\n",
            "Total params: 316,031\n",
            "Trainable params: 19,331\n",
            "Non-trainable params: 296,700\n",
            "_________________________________________________________________\n",
            "None\n"
          ],
          "name": "stdout"
        }
      ]
    },
    {
      "cell_type": "code",
      "metadata": {
        "id": "48l4e_FTyxVr",
        "outputId": "ff477f89-ea28-487e-d6a8-d7903c0b5cd9",
        "colab": {
          "base_uri": "https://localhost:8080/"
        }
      },
      "source": [
        "m_histories['with_TL'] = model.fit(X_train, Y_train, batch_size=64, epochs=50, validation_data=(X_Val, Y_Val), callbacks=get_callbacks('models/with_TL'), verbose=1)   "
      ],
      "execution_count": 60,
      "outputs": [
        {
          "output_type": "stream",
          "text": [
            "Epoch 1/50\n",
            "2/9 [=====>........................] - ETA: 1s - loss: 1.0978 - categorical_accuracy: 0.4297WARNING:tensorflow:Callbacks method `on_train_batch_end` is slow compared to the batch time (batch time: 0.0649s vs `on_train_batch_end` time: 0.3517s). Check your callbacks.\n",
            "9/9 [==============================] - 1s 133ms/step - loss: 1.0900 - categorical_accuracy: 0.5154 - val_loss: 1.0759 - val_categorical_accuracy: 0.5507\n",
            "Epoch 2/50\n",
            "9/9 [==============================] - 0s 54ms/step - loss: 1.0599 - categorical_accuracy: 0.5590 - val_loss: 1.0201 - val_categorical_accuracy: 0.5507\n",
            "Epoch 3/50\n",
            "9/9 [==============================] - 0s 53ms/step - loss: 0.9941 - categorical_accuracy: 0.5590 - val_loss: 0.9947 - val_categorical_accuracy: 0.5507\n",
            "Epoch 4/50\n",
            "9/9 [==============================] - 0s 55ms/step - loss: 1.0037 - categorical_accuracy: 0.5554 - val_loss: 0.9908 - val_categorical_accuracy: 0.5507\n",
            "Epoch 5/50\n",
            "9/9 [==============================] - 0s 53ms/step - loss: 0.9888 - categorical_accuracy: 0.5771 - val_loss: 0.9899 - val_categorical_accuracy: 0.5507\n",
            "Epoch 6/50\n",
            "9/9 [==============================] - 0s 55ms/step - loss: 0.9842 - categorical_accuracy: 0.5735 - val_loss: 0.9835 - val_categorical_accuracy: 0.5507\n",
            "Epoch 7/50\n",
            "9/9 [==============================] - 0s 54ms/step - loss: 0.9924 - categorical_accuracy: 0.5753 - val_loss: 0.9822 - val_categorical_accuracy: 0.5507\n",
            "Epoch 8/50\n",
            "9/9 [==============================] - 0s 54ms/step - loss: 0.9974 - categorical_accuracy: 0.5753 - val_loss: 0.9822 - val_categorical_accuracy: 0.5507\n",
            "Epoch 9/50\n",
            "9/9 [==============================] - 0s 54ms/step - loss: 0.9840 - categorical_accuracy: 0.5753 - val_loss: 0.9826 - val_categorical_accuracy: 0.5507\n",
            "Epoch 10/50\n",
            "9/9 [==============================] - 0s 56ms/step - loss: 0.9731 - categorical_accuracy: 0.5753 - val_loss: 0.9752 - val_categorical_accuracy: 0.5507\n",
            "Epoch 11/50\n",
            "9/9 [==============================] - 0s 53ms/step - loss: 0.9788 - categorical_accuracy: 0.5753 - val_loss: 0.9659 - val_categorical_accuracy: 0.5507\n",
            "Epoch 12/50\n",
            "9/9 [==============================] - 0s 54ms/step - loss: 0.9537 - categorical_accuracy: 0.5753 - val_loss: 0.9470 - val_categorical_accuracy: 0.5507\n",
            "Epoch 13/50\n",
            "9/9 [==============================] - 1s 56ms/step - loss: 0.9372 - categorical_accuracy: 0.5753 - val_loss: 0.9492 - val_categorical_accuracy: 0.5507\n",
            "Epoch 14/50\n",
            "9/9 [==============================] - 0s 53ms/step - loss: 0.9165 - categorical_accuracy: 0.5717 - val_loss: 0.9783 - val_categorical_accuracy: 0.5507\n",
            "Epoch 15/50\n",
            "9/9 [==============================] - 1s 56ms/step - loss: 0.9032 - categorical_accuracy: 0.5717 - val_loss: 0.9672 - val_categorical_accuracy: 0.5507\n",
            "Epoch 16/50\n",
            "9/9 [==============================] - 0s 52ms/step - loss: 0.9081 - categorical_accuracy: 0.5717 - val_loss: 0.9510 - val_categorical_accuracy: 0.5507\n",
            "Epoch 17/50\n",
            "9/9 [==============================] - 1s 56ms/step - loss: 0.9216 - categorical_accuracy: 0.5735 - val_loss: 0.9332 - val_categorical_accuracy: 0.5507\n",
            "Epoch 18/50\n",
            "9/9 [==============================] - 0s 54ms/step - loss: 0.9057 - categorical_accuracy: 0.5753 - val_loss: 0.9341 - val_categorical_accuracy: 0.5507\n",
            "Epoch 19/50\n",
            "9/9 [==============================] - 0s 54ms/step - loss: 0.8873 - categorical_accuracy: 0.5789 - val_loss: 0.9307 - val_categorical_accuracy: 0.5507\n",
            "Epoch 20/50\n",
            "9/9 [==============================] - 1s 59ms/step - loss: 0.8845 - categorical_accuracy: 0.5880 - val_loss: 0.9528 - val_categorical_accuracy: 0.5507\n",
            "Epoch 21/50\n",
            "9/9 [==============================] - 0s 55ms/step - loss: 0.8907 - categorical_accuracy: 0.5789 - val_loss: 0.9563 - val_categorical_accuracy: 0.5507\n",
            "Epoch 22/50\n",
            "9/9 [==============================] - 0s 53ms/step - loss: 0.8667 - categorical_accuracy: 0.5826 - val_loss: 0.9576 - val_categorical_accuracy: 0.5507\n",
            "Epoch 23/50\n",
            "9/9 [==============================] - 0s 54ms/step - loss: 0.8672 - categorical_accuracy: 0.5753 - val_loss: 0.9361 - val_categorical_accuracy: 0.5507\n",
            "Epoch 24/50\n",
            "9/9 [==============================] - 0s 55ms/step - loss: 0.8442 - categorical_accuracy: 0.5735 - val_loss: 0.9903 - val_categorical_accuracy: 0.5725\n",
            "Epoch 25/50\n",
            "9/9 [==============================] - 0s 54ms/step - loss: 0.8640 - categorical_accuracy: 0.5917 - val_loss: 0.9355 - val_categorical_accuracy: 0.5580\n",
            "Epoch 26/50\n",
            "9/9 [==============================] - 0s 55ms/step - loss: 0.8497 - categorical_accuracy: 0.5771 - val_loss: 0.9428 - val_categorical_accuracy: 0.5725\n",
            "Epoch 27/50\n",
            "9/9 [==============================] - 0s 55ms/step - loss: 0.8456 - categorical_accuracy: 0.5880 - val_loss: 1.0091 - val_categorical_accuracy: 0.5942\n",
            "Epoch 28/50\n",
            "9/9 [==============================] - 1s 57ms/step - loss: 0.8506 - categorical_accuracy: 0.5644 - val_loss: 0.9609 - val_categorical_accuracy: 0.5942\n",
            "Epoch 29/50\n",
            "9/9 [==============================] - 1s 56ms/step - loss: 0.8386 - categorical_accuracy: 0.5771 - val_loss: 0.9802 - val_categorical_accuracy: 0.5580\n",
            "Epoch 30/50\n",
            "9/9 [==============================] - 0s 55ms/step - loss: 0.8327 - categorical_accuracy: 0.5789 - val_loss: 0.9755 - val_categorical_accuracy: 0.5725\n",
            "Epoch 31/50\n",
            "9/9 [==============================] - 0s 55ms/step - loss: 0.8661 - categorical_accuracy: 0.5880 - val_loss: 0.9494 - val_categorical_accuracy: 0.5870\n",
            "Epoch 32/50\n",
            "9/9 [==============================] - 1s 58ms/step - loss: 0.8282 - categorical_accuracy: 0.5826 - val_loss: 0.9386 - val_categorical_accuracy: 0.5652\n",
            "Epoch 33/50\n",
            "9/9 [==============================] - 0s 55ms/step - loss: 0.8576 - categorical_accuracy: 0.5935 - val_loss: 0.9602 - val_categorical_accuracy: 0.5942\n",
            "Epoch 34/50\n",
            "9/9 [==============================] - 0s 54ms/step - loss: 0.8571 - categorical_accuracy: 0.5826 - val_loss: 0.9158 - val_categorical_accuracy: 0.5725\n",
            "Epoch 35/50\n",
            "9/9 [==============================] - 1s 56ms/step - loss: 0.8247 - categorical_accuracy: 0.5917 - val_loss: 0.9641 - val_categorical_accuracy: 0.5870\n",
            "Epoch 36/50\n",
            "9/9 [==============================] - 0s 55ms/step - loss: 0.8245 - categorical_accuracy: 0.6007 - val_loss: 0.9567 - val_categorical_accuracy: 0.6014\n",
            "Epoch 37/50\n",
            "9/9 [==============================] - 0s 54ms/step - loss: 0.8261 - categorical_accuracy: 0.6171 - val_loss: 0.9800 - val_categorical_accuracy: 0.5870\n",
            "Epoch 38/50\n",
            "9/9 [==============================] - 1s 60ms/step - loss: 0.8238 - categorical_accuracy: 0.6098 - val_loss: 0.9274 - val_categorical_accuracy: 0.5870\n",
            "Epoch 39/50\n",
            "9/9 [==============================] - 0s 55ms/step - loss: 0.8193 - categorical_accuracy: 0.6189 - val_loss: 0.9773 - val_categorical_accuracy: 0.6014\n",
            "Epoch 40/50\n",
            "9/9 [==============================] - 0s 54ms/step - loss: 0.8260 - categorical_accuracy: 0.6025 - val_loss: 0.9906 - val_categorical_accuracy: 0.5870\n",
            "Epoch 41/50\n",
            "9/9 [==============================] - 0s 55ms/step - loss: 0.8266 - categorical_accuracy: 0.5953 - val_loss: 0.9528 - val_categorical_accuracy: 0.5942\n",
            "Epoch 42/50\n",
            "9/9 [==============================] - 0s 54ms/step - loss: 0.8463 - categorical_accuracy: 0.6098 - val_loss: 0.9120 - val_categorical_accuracy: 0.5942\n",
            "Epoch 43/50\n",
            "9/9 [==============================] - 0s 55ms/step - loss: 0.8043 - categorical_accuracy: 0.6025 - val_loss: 0.9971 - val_categorical_accuracy: 0.5942\n",
            "Epoch 44/50\n",
            "9/9 [==============================] - 1s 56ms/step - loss: 0.8162 - categorical_accuracy: 0.6134 - val_loss: 1.0183 - val_categorical_accuracy: 0.5362\n",
            "Epoch 45/50\n",
            "9/9 [==============================] - 0s 54ms/step - loss: 0.8012 - categorical_accuracy: 0.6171 - val_loss: 0.9839 - val_categorical_accuracy: 0.6014\n",
            "Epoch 46/50\n",
            "9/9 [==============================] - 0s 54ms/step - loss: 0.7685 - categorical_accuracy: 0.6171 - val_loss: 1.0162 - val_categorical_accuracy: 0.5145\n",
            "Epoch 47/50\n",
            "9/9 [==============================] - 1s 58ms/step - loss: 0.8076 - categorical_accuracy: 0.5971 - val_loss: 1.0217 - val_categorical_accuracy: 0.6014\n",
            "Epoch 48/50\n",
            "9/9 [==============================] - 0s 55ms/step - loss: 0.7943 - categorical_accuracy: 0.5898 - val_loss: 0.9514 - val_categorical_accuracy: 0.5797\n",
            "Epoch 49/50\n",
            "9/9 [==============================] - 0s 54ms/step - loss: 0.7633 - categorical_accuracy: 0.6243 - val_loss: 1.0149 - val_categorical_accuracy: 0.5870\n",
            "Epoch 50/50\n",
            "9/9 [==============================] - 1s 58ms/step - loss: 0.7838 - categorical_accuracy: 0.6062 - val_loss: 1.0221 - val_categorical_accuracy: 0.5580\n"
          ],
          "name": "stdout"
        }
      ]
    },
    {
      "cell_type": "code",
      "metadata": {
        "id": "08-b6AZBy9lr",
        "outputId": "8dfc4274-a8db-4bac-e199-0f4169427a14",
        "colab": {
          "base_uri": "https://localhost:8080/",
          "height": 283
        }
      },
      "source": [
        "plotter(m_histories, ylim=[0.0, 2], metric = 'loss')"
      ],
      "execution_count": 61,
      "outputs": [
        {
          "output_type": "display_data",
          "data": {
            "image/png": "[encoded data removed]",
            "text/plain": [
              "<Figure size 432x288 with 1 Axes>"
            ]
          },
          "metadata": {
            "tags": [],
            "needs_background": "light"
          }
        }
      ]
    },
    {
      "cell_type": "code",
      "metadata": {
        "id": "iuzyN4Xfy9KQ",
        "outputId": "42456a27-edaa-4e27-a2f4-c6919196acda",
        "colab": {
          "base_uri": "https://localhost:8080/",
          "height": 278
        }
      },
      "source": [
        "plotter(m_histories, ylim=[0.0, 1.1], metric = 'categorical_accuracy')"
      ],
      "execution_count": 62,
      "outputs": [
        {
          "output_type": "display_data",
          "data": {
            "image/png": "[encoded data removed]",
            "text/plain": [
              "<Figure size 432x288 with 1 Axes>"
            ]
          },
          "metadata": {
            "tags": [],
            "needs_background": "light"
          }
        }
      ]
    },
    {
      "cell_type": "markdown",
      "metadata": {
        "id": "i23Vl8jp3LtE"
      },
      "source": [
        "# **2. modelling for tweets related to Target : Legalization of Abortion**"
      ]
    },
    {
      "cell_type": "markdown",
      "metadata": {
        "id": "-Cd5swpWlmun"
      },
      "source": [
        "First we check the preprocessed tweet data for target Legalization of Abortion"
      ]
    },
    {
      "cell_type": "code",
      "metadata": {
        "id": "p4tvC3aA3YxA",
        "outputId": "7a53cd50-dc9d-446f-a69a-7e7263537a3e",
        "colab": {
          "base_uri": "https://localhost:8080/"
        }
      },
      "source": [
        "Tweets_AB[:1]"
      ],
      "execution_count": 63,
      "outputs": [
        {
          "output_type": "execute_result",
          "data": {
            "text/plain": [
              "[['laid',\n",
              "  'law',\n",
              "  'abortion',\n",
              "  'bioethics',\n",
              "  'class',\n",
              "  '#catholic',\n",
              "  'legalization',\n",
              "  'abortion']]"
            ]
          },
          "metadata": {
            "tags": []
          },
          "execution_count": 63
        }
      ]
    },
    {
      "cell_type": "markdown",
      "metadata": {
        "id": "2ZrhJeDOl10M"
      },
      "source": [
        "The next step is to call method padding which will tokenize the tweets and pad them with max length of 40."
      ]
    },
    {
      "cell_type": "code",
      "metadata": {
        "id": "xbKeC8g63k2C",
        "outputId": "2dc9e293-2c59-46f5-c777-1bc6ae24c3b8",
        "colab": {
          "base_uri": "https://localhost:8080/"
        }
      },
      "source": [
        "X, word_index = Padding(Tweets_AB)\n",
        "Y = pd.get_dummies(traindata_AB['Stance']).values\n",
        "print('Shape of label tensor:', Y.shape)"
      ],
      "execution_count": 64,
      "outputs": [
        {
          "output_type": "stream",
          "text": [
            "Found 2771 unique tokens.\n",
            "Shape of data tensor: (653, 40)\n",
            "Shape of label tensor: (653, 3)\n"
          ],
          "name": "stdout"
        }
      ]
    },
    {
      "cell_type": "markdown",
      "metadata": {
        "id": "Eh6dZVAQl8mY"
      },
      "source": [
        "The next step is to split the above data into training and validation. We are using above mentioned split() method by passing 0.2 as a split size which means 20% of the data is reserved for validation and remaining 80% data is used for training the model."
      ]
    },
    {
      "cell_type": "code",
      "metadata": {
        "id": "fA497Brc3kjS",
        "outputId": "7887cad9-f885-4773-e582-9b8a6af90dcf",
        "colab": {
          "base_uri": "https://localhost:8080/"
        }
      },
      "source": [
        "X_train, X_Val, Y_train, Y_Val = split(X, Y, 0.2)\n",
        "print(\"X train shape: \", X_train.shape)\n",
        "print(\"Y train shape: \", Y_train.shape)\n",
        "print(\"X Val shape: \", X_Val.shape)\n",
        "print(\"Y Val shape: \", Y_Val.shape)"
      ],
      "execution_count": 65,
      "outputs": [
        {
          "output_type": "stream",
          "text": [
            "X train shape:  (522, 40)\n",
            "Y train shape:  (522, 3)\n",
            "X Val shape:  (131, 40)\n",
            "Y Val shape:  (131, 3)\n"
          ],
          "name": "stdout"
        }
      ]
    },
    {
      "cell_type": "markdown",
      "metadata": {
        "id": "DzGMRiWo3xyD"
      },
      "source": [
        "**Without Transfer Learning**"
      ]
    },
    {
      "cell_type": "code",
      "metadata": {
        "id": "NnpgWy0b3kYv",
        "outputId": "db8cba20-a424-4244-f7d7-74e952b8405c",
        "colab": {
          "base_uri": "https://localhost:8080/"
        }
      },
      "source": [
        "embedding_layer = Embedding(len(word_index)+1,\n",
        "                                   embedding_dim,\n",
        "                                   input_length=MAX_LENGTH,\n",
        "                                   trainable=True)\n",
        "model = create_model(embedding_layer)\n",
        "print(model.summary())"
      ],
      "execution_count": 66,
      "outputs": [
        {
          "output_type": "stream",
          "text": [
            "Model: \"sequential_3\"\n",
            "_________________________________________________________________\n",
            "Layer (type)                 Output Shape              Param #   \n",
            "=================================================================\n",
            "embedding_3 (Embedding)      (None, 40, 100)           277200    \n",
            "_________________________________________________________________\n",
            "lstm_3 (LSTM)                (None, 32)                17024     \n",
            "_________________________________________________________________\n",
            "dropout_6 (Dropout)          (None, 32)                0         \n",
            "_________________________________________________________________\n",
            "dense_6 (Dense)              (None, 64)                2112      \n",
            "_________________________________________________________________\n",
            "dropout_7 (Dropout)          (None, 64)                0         \n",
            "_________________________________________________________________\n",
            "dense_7 (Dense)              (None, 3)                 195       \n",
            "=================================================================\n",
            "Total params: 296,531\n",
            "Trainable params: 296,531\n",
            "Non-trainable params: 0\n",
            "_________________________________________________________________\n",
            "None\n"
          ],
          "name": "stdout"
        }
      ]
    },
    {
      "cell_type": "markdown",
      "metadata": {
        "id": "-TmwyBrOmEAk"
      },
      "source": [
        "As we have less amount of data available for training, we are using K-fold cross validation technique to train our model for 50 epochs in each of the 3 folds.\n",
        "The batch size is set to 64 and we trained the data for 50 epochs and 3 folds.\n",
        "\n",
        "From the below output we can see that the model achieved categorical accuracy of about 74% on the validation data set.\n",
        "\n",
        "To check the learning curve of the training and validation we plot the grphs using plotter function mentioned above."
      ]
    },
    {
      "cell_type": "code",
      "metadata": {
        "id": "DApipPKH39Ve",
        "outputId": "7f5bbe2c-f4a7-469d-e26a-1537bc0f9c03",
        "colab": {
          "base_uri": "https://localhost:8080/"
        }
      },
      "source": [
        "from sklearn.model_selection import KFold\n",
        "num_folds = 3\n",
        "input = np.concatenate((X_train, X_Val), axis= 0)\n",
        "target = np.concatenate((Y_train, Y_Val), axis= 0)\n",
        "\n",
        "kfold = KFold(n_splits=num_folds, shuffle=True)\n",
        "K = 1\n",
        "for train, test in kfold.split(input, target):\n",
        "    print(\"fold number: \", K)\n",
        "    m_histories = {}\n",
        "    m_histories['with_TL'] = model.fit(input[train], target[train], batch_size=64, epochs=10, validation_data=(input[test], target[test]), callbacks=get_callbacks('models/with_TL'), verbose=1)\n",
        "    K = K+1"
      ],
      "execution_count": 67,
      "outputs": [
        {
          "output_type": "stream",
          "text": [
            "fold number:  1\n",
            "Epoch 1/10\n",
            "2/7 [=======>......................] - ETA: 1s - loss: 1.0888 - categorical_accuracy: 0.4688WARNING:tensorflow:Callbacks method `on_train_batch_end` is slow compared to the batch time (batch time: 0.0695s vs `on_train_batch_end` time: 0.4697s). Check your callbacks.\n",
            "7/7 [==============================] - 1s 178ms/step - loss: 1.0809 - categorical_accuracy: 0.4851 - val_loss: 1.0618 - val_categorical_accuracy: 0.5734\n",
            "Epoch 2/10\n",
            "7/7 [==============================] - 0s 64ms/step - loss: 1.0621 - categorical_accuracy: 0.4966 - val_loss: 1.0262 - val_categorical_accuracy: 0.5734\n",
            "Epoch 3/10\n",
            "7/7 [==============================] - 0s 67ms/step - loss: 1.0412 - categorical_accuracy: 0.5149 - val_loss: 0.9948 - val_categorical_accuracy: 0.5734\n",
            "Epoch 4/10\n",
            "7/7 [==============================] - 0s 65ms/step - loss: 1.0354 - categorical_accuracy: 0.5195 - val_loss: 0.9798 - val_categorical_accuracy: 0.5734\n",
            "Epoch 5/10\n",
            "7/7 [==============================] - 0s 68ms/step - loss: 1.0386 - categorical_accuracy: 0.5333 - val_loss: 0.9863 - val_categorical_accuracy: 0.5734\n",
            "Epoch 6/10\n",
            "7/7 [==============================] - 0s 64ms/step - loss: 1.0258 - categorical_accuracy: 0.5287 - val_loss: 0.9906 - val_categorical_accuracy: 0.5734\n",
            "Epoch 7/10\n",
            "7/7 [==============================] - 0s 67ms/step - loss: 1.0338 - categorical_accuracy: 0.5241 - val_loss: 0.9921 - val_categorical_accuracy: 0.5734\n",
            "Epoch 8/10\n",
            "7/7 [==============================] - 0s 64ms/step - loss: 1.0307 - categorical_accuracy: 0.5149 - val_loss: 0.9886 - val_categorical_accuracy: 0.5734\n",
            "Epoch 9/10\n",
            "7/7 [==============================] - 0s 65ms/step - loss: 1.0127 - categorical_accuracy: 0.5333 - val_loss: 0.9832 - val_categorical_accuracy: 0.5734\n",
            "Epoch 10/10\n",
            "7/7 [==============================] - 0s 64ms/step - loss: 1.0225 - categorical_accuracy: 0.5218 - val_loss: 0.9779 - val_categorical_accuracy: 0.5734\n",
            "fold number:  2\n",
            "Epoch 1/10\n",
            "2/7 [=======>......................] - ETA: 0s - loss: 1.0389 - categorical_accuracy: 0.5703WARNING:tensorflow:Callbacks method `on_train_batch_end` is slow compared to the batch time (batch time: 0.0646s vs `on_train_batch_end` time: 0.1331s). Check your callbacks.\n",
            "7/7 [==============================] - 1s 89ms/step - loss: 1.0175 - categorical_accuracy: 0.5540 - val_loss: 1.0216 - val_categorical_accuracy: 0.5229\n",
            "Epoch 2/10\n",
            "7/7 [==============================] - 0s 66ms/step - loss: 1.0070 - categorical_accuracy: 0.5540 - val_loss: 1.0216 - val_categorical_accuracy: 0.5229\n",
            "Epoch 3/10\n",
            "7/7 [==============================] - 0s 64ms/step - loss: 1.0101 - categorical_accuracy: 0.5540 - val_loss: 1.0223 - val_categorical_accuracy: 0.5229\n",
            "Epoch 4/10\n",
            "7/7 [==============================] - 0s 67ms/step - loss: 1.0013 - categorical_accuracy: 0.5540 - val_loss: 1.0233 - val_categorical_accuracy: 0.5229\n",
            "Epoch 5/10\n",
            "7/7 [==============================] - 0s 65ms/step - loss: 0.9956 - categorical_accuracy: 0.5563 - val_loss: 1.0246 - val_categorical_accuracy: 0.5229\n",
            "Epoch 6/10\n",
            "7/7 [==============================] - 0s 68ms/step - loss: 1.0086 - categorical_accuracy: 0.5540 - val_loss: 1.0243 - val_categorical_accuracy: 0.5229\n",
            "Epoch 7/10\n",
            "7/7 [==============================] - 0s 64ms/step - loss: 1.0064 - categorical_accuracy: 0.5540 - val_loss: 1.0242 - val_categorical_accuracy: 0.5229\n",
            "Epoch 8/10\n",
            "7/7 [==============================] - 0s 65ms/step - loss: 0.9875 - categorical_accuracy: 0.5540 - val_loss: 1.0241 - val_categorical_accuracy: 0.5229\n",
            "Epoch 9/10\n",
            "7/7 [==============================] - 0s 65ms/step - loss: 1.0041 - categorical_accuracy: 0.5540 - val_loss: 1.0239 - val_categorical_accuracy: 0.5229\n",
            "Epoch 10/10\n",
            "7/7 [==============================] - 0s 65ms/step - loss: 0.9863 - categorical_accuracy: 0.5540 - val_loss: 1.0239 - val_categorical_accuracy: 0.5229\n",
            "fold number:  3\n",
            "Epoch 1/10\n",
            "2/7 [=======>......................] - ETA: 0s - loss: 1.0162 - categorical_accuracy: 0.5156WARNING:tensorflow:Callbacks method `on_train_batch_end` is slow compared to the batch time (batch time: 0.0657s vs `on_train_batch_end` time: 0.0987s). Check your callbacks.\n",
            "7/7 [==============================] - 1s 86ms/step - loss: 0.9967 - categorical_accuracy: 0.5482 - val_loss: 1.0013 - val_categorical_accuracy: 0.5346\n",
            "Epoch 2/10\n",
            "7/7 [==============================] - 0s 65ms/step - loss: 1.0100 - categorical_accuracy: 0.5482 - val_loss: 1.0021 - val_categorical_accuracy: 0.5346\n",
            "Epoch 3/10\n",
            "7/7 [==============================] - 0s 69ms/step - loss: 1.0135 - categorical_accuracy: 0.5482 - val_loss: 1.0028 - val_categorical_accuracy: 0.5346\n",
            "Epoch 4/10\n",
            "7/7 [==============================] - 0s 65ms/step - loss: 1.0054 - categorical_accuracy: 0.5482 - val_loss: 1.0027 - val_categorical_accuracy: 0.5346\n",
            "Epoch 5/10\n",
            "7/7 [==============================] - 1s 71ms/step - loss: 1.0048 - categorical_accuracy: 0.5482 - val_loss: 1.0025 - val_categorical_accuracy: 0.5346\n",
            "Epoch 6/10\n",
            "7/7 [==============================] - 0s 65ms/step - loss: 0.9850 - categorical_accuracy: 0.5482 - val_loss: 1.0022 - val_categorical_accuracy: 0.5346\n",
            "Epoch 7/10\n",
            "7/7 [==============================] - 0s 67ms/step - loss: 0.9997 - categorical_accuracy: 0.5482 - val_loss: 1.0020 - val_categorical_accuracy: 0.5346\n",
            "Epoch 8/10\n",
            "7/7 [==============================] - 0s 66ms/step - loss: 0.9934 - categorical_accuracy: 0.5482 - val_loss: 1.0023 - val_categorical_accuracy: 0.5346\n",
            "Epoch 9/10\n",
            "7/7 [==============================] - 0s 66ms/step - loss: 1.0007 - categorical_accuracy: 0.5482 - val_loss: 1.0024 - val_categorical_accuracy: 0.5346\n",
            "Epoch 10/10\n",
            "7/7 [==============================] - 0s 66ms/step - loss: 1.0053 - categorical_accuracy: 0.5482 - val_loss: 1.0031 - val_categorical_accuracy: 0.5346\n"
          ],
          "name": "stdout"
        }
      ]
    },
    {
      "cell_type": "markdown",
      "metadata": {
        "id": "QlqOvEeFmOlu"
      },
      "source": [
        "We tried to plot learning curves for both validation and training data on Catergorical Crossentropy as well as for Catergorical Accuracy."
      ]
    },
    {
      "cell_type": "code",
      "metadata": {
        "id": "JQIaLyUN4Jbv",
        "outputId": "3a1c094f-7b5f-4cd1-a89e-a24d8ecf3416",
        "colab": {
          "base_uri": "https://localhost:8080/",
          "height": 283
        }
      },
      "source": [
        "plotter(m_histories, ylim=[0.0, 2], metric = 'loss')"
      ],
      "execution_count": 68,
      "outputs": [
        {
          "output_type": "display_data",
          "data": {
            "image/png": "[encoded data removed]",
            "text/plain": [
              "<Figure size 432x288 with 1 Axes>"
            ]
          },
          "metadata": {
            "tags": [],
            "needs_background": "light"
          }
        }
      ]
    },
    {
      "cell_type": "code",
      "metadata": {
        "id": "iklQGtrL4KDu",
        "outputId": "fc5b3c9a-ce24-455d-886a-aee6e31ac91a",
        "colab": {
          "base_uri": "https://localhost:8080/",
          "height": 278
        }
      },
      "source": [
        "plotter(m_histories, ylim=[0.0, 1.1], metric = 'categorical_accuracy')"
      ],
      "execution_count": 69,
      "outputs": [
        {
          "output_type": "display_data",
          "data": {
            "image/png": "[encoded data removed]",
            "text/plain": [
              "<Figure size 432x288 with 1 Axes>"
            ]
          },
          "metadata": {
            "tags": [],
            "needs_background": "light"
          }
        }
      ]
    },
    {
      "cell_type": "markdown",
      "metadata": {
        "id": "Bi5ybAhb4UZ0"
      },
      "source": [
        "**With Transfer Learning**"
      ]
    },
    {
      "cell_type": "code",
      "metadata": {
        "id": "JOqjWN2H4YRJ",
        "outputId": "51e5b2e4-a92f-4b8c-cc26-e7393d0ac2dd",
        "colab": {
          "base_uri": "https://localhost:8080/"
        }
      },
      "source": [
        "E_T = np.zeros((len(word_index)+1, embedding_dim))\n",
        "for word, i in word_index.items():\n",
        "    embedding_vector = glove_vectors.get(word)\n",
        "    if embedding_vector is not None:  \n",
        "        E_T[i] = embedding_vector\n",
        "\n",
        "E_T.size"
      ],
      "execution_count": 70,
      "outputs": [
        {
          "output_type": "execute_result",
          "data": {
            "text/plain": [
              "277200"
            ]
          },
          "metadata": {
            "tags": []
          },
          "execution_count": 70
        }
      ]
    },
    {
      "cell_type": "code",
      "metadata": {
        "id": "4iwgP9hW4eQk",
        "outputId": "01219f7d-8b73-4fd5-87e4-62c8c9c88882",
        "colab": {
          "base_uri": "https://localhost:8080/"
        }
      },
      "source": [
        "embedding_layer_TL = Embedding(len(word_index)+1,\n",
        "                                embedding_dim,\n",
        "                                weights=[E_T],\n",
        "                                input_length=MAX_LENGTH,\n",
        "                                trainable=False)\n",
        "model = create_model(embedding_layer_TL)\n",
        "print(model.summary())"
      ],
      "execution_count": 71,
      "outputs": [
        {
          "output_type": "stream",
          "text": [
            "Model: \"sequential_4\"\n",
            "_________________________________________________________________\n",
            "Layer (type)                 Output Shape              Param #   \n",
            "=================================================================\n",
            "embedding_4 (Embedding)      (None, 40, 100)           277200    \n",
            "_________________________________________________________________\n",
            "lstm_4 (LSTM)                (None, 32)                17024     \n",
            "_________________________________________________________________\n",
            "dropout_8 (Dropout)          (None, 32)                0         \n",
            "_________________________________________________________________\n",
            "dense_8 (Dense)              (None, 64)                2112      \n",
            "_________________________________________________________________\n",
            "dropout_9 (Dropout)          (None, 64)                0         \n",
            "_________________________________________________________________\n",
            "dense_9 (Dense)              (None, 3)                 195       \n",
            "=================================================================\n",
            "Total params: 296,531\n",
            "Trainable params: 19,331\n",
            "Non-trainable params: 277,200\n",
            "_________________________________________________________________\n",
            "None\n"
          ],
          "name": "stdout"
        }
      ]
    },
    {
      "cell_type": "code",
      "metadata": {
        "id": "U9nRejvf4ewR",
        "outputId": "e04d91fb-0030-459e-d2d9-a451a12b57b6",
        "colab": {
          "base_uri": "https://localhost:8080/"
        }
      },
      "source": [
        "m_histories['with_TL'] = model.fit(X_train, Y_train, batch_size=64, epochs=50, validation_data=(X_Val, Y_Val), callbacks=get_callbacks('models/with_TL'), verbose=1)   "
      ],
      "execution_count": 72,
      "outputs": [
        {
          "output_type": "stream",
          "text": [
            "Epoch 1/50\n",
            "2/9 [=====>........................] - ETA: 1s - loss: 1.0990 - categorical_accuracy: 0.3203WARNING:tensorflow:Callbacks method `on_train_batch_end` is slow compared to the batch time (batch time: 0.0685s vs `on_train_batch_end` time: 0.3747s). Check your callbacks.\n",
            "9/9 [==============================] - 1s 134ms/step - loss: 1.0943 - categorical_accuracy: 0.4732 - val_loss: 1.0791 - val_categorical_accuracy: 0.5878\n",
            "Epoch 2/50\n",
            "9/9 [==============================] - 0s 55ms/step - loss: 1.0753 - categorical_accuracy: 0.5326 - val_loss: 1.0474 - val_categorical_accuracy: 0.5878\n",
            "Epoch 3/50\n",
            "9/9 [==============================] - 0s 55ms/step - loss: 1.0478 - categorical_accuracy: 0.5326 - val_loss: 0.9837 - val_categorical_accuracy: 0.5878\n",
            "Epoch 4/50\n",
            "9/9 [==============================] - 0s 52ms/step - loss: 1.0235 - categorical_accuracy: 0.5115 - val_loss: 0.9553 - val_categorical_accuracy: 0.5878\n",
            "Epoch 5/50\n",
            "9/9 [==============================] - 0s 55ms/step - loss: 1.0207 - categorical_accuracy: 0.5287 - val_loss: 0.9753 - val_categorical_accuracy: 0.5878\n",
            "Epoch 6/50\n",
            "9/9 [==============================] - 0s 55ms/step - loss: 1.0257 - categorical_accuracy: 0.5326 - val_loss: 0.9679 - val_categorical_accuracy: 0.5878\n",
            "Epoch 7/50\n",
            "9/9 [==============================] - 0s 53ms/step - loss: 1.0230 - categorical_accuracy: 0.5249 - val_loss: 0.9640 - val_categorical_accuracy: 0.5878\n",
            "Epoch 8/50\n",
            "9/9 [==============================] - 0s 51ms/step - loss: 1.0127 - categorical_accuracy: 0.5326 - val_loss: 0.9621 - val_categorical_accuracy: 0.5878\n",
            "Epoch 9/50\n",
            "9/9 [==============================] - 0s 54ms/step - loss: 1.0151 - categorical_accuracy: 0.5326 - val_loss: 0.9629 - val_categorical_accuracy: 0.5878\n",
            "Epoch 10/50\n",
            "9/9 [==============================] - 0s 53ms/step - loss: 0.9972 - categorical_accuracy: 0.5326 - val_loss: 0.9335 - val_categorical_accuracy: 0.5878\n",
            "Epoch 11/50\n",
            "9/9 [==============================] - 1s 58ms/step - loss: 0.9798 - categorical_accuracy: 0.5345 - val_loss: 0.9052 - val_categorical_accuracy: 0.5878\n",
            "Epoch 12/50\n",
            "9/9 [==============================] - 0s 54ms/step - loss: 0.9637 - categorical_accuracy: 0.5345 - val_loss: 0.8612 - val_categorical_accuracy: 0.5878\n",
            "Epoch 13/50\n",
            "9/9 [==============================] - 1s 56ms/step - loss: 0.9757 - categorical_accuracy: 0.5364 - val_loss: 0.9570 - val_categorical_accuracy: 0.5878\n",
            "Epoch 14/50\n",
            "9/9 [==============================] - 0s 55ms/step - loss: 0.9861 - categorical_accuracy: 0.5364 - val_loss: 0.9274 - val_categorical_accuracy: 0.5878\n",
            "Epoch 15/50\n",
            "9/9 [==============================] - 1s 57ms/step - loss: 0.9318 - categorical_accuracy: 0.5326 - val_loss: 0.8600 - val_categorical_accuracy: 0.5878\n",
            "Epoch 16/50\n",
            "9/9 [==============================] - 0s 54ms/step - loss: 0.9393 - categorical_accuracy: 0.5326 - val_loss: 0.8986 - val_categorical_accuracy: 0.5954\n",
            "Epoch 17/50\n",
            "9/9 [==============================] - 0s 54ms/step - loss: 0.9183 - categorical_accuracy: 0.5421 - val_loss: 0.8795 - val_categorical_accuracy: 0.6031\n",
            "Epoch 18/50\n",
            "9/9 [==============================] - 0s 54ms/step - loss: 0.9105 - categorical_accuracy: 0.5402 - val_loss: 0.8589 - val_categorical_accuracy: 0.6107\n",
            "Epoch 19/50\n",
            "9/9 [==============================] - 0s 53ms/step - loss: 0.8954 - categorical_accuracy: 0.5402 - val_loss: 0.8549 - val_categorical_accuracy: 0.6031\n",
            "Epoch 20/50\n",
            "9/9 [==============================] - 0s 54ms/step - loss: 0.9075 - categorical_accuracy: 0.5383 - val_loss: 0.8531 - val_categorical_accuracy: 0.6260\n",
            "Epoch 21/50\n",
            "9/9 [==============================] - 0s 52ms/step - loss: 0.8813 - categorical_accuracy: 0.5632 - val_loss: 0.8547 - val_categorical_accuracy: 0.5954\n",
            "Epoch 22/50\n",
            "9/9 [==============================] - 0s 53ms/step - loss: 0.9017 - categorical_accuracy: 0.5805 - val_loss: 0.8489 - val_categorical_accuracy: 0.5954\n",
            "Epoch 23/50\n",
            "9/9 [==============================] - 0s 53ms/step - loss: 0.8912 - categorical_accuracy: 0.5287 - val_loss: 0.8523 - val_categorical_accuracy: 0.6107\n",
            "Epoch 24/50\n",
            "9/9 [==============================] - 1s 57ms/step - loss: 0.9068 - categorical_accuracy: 0.5728 - val_loss: 0.8428 - val_categorical_accuracy: 0.6107\n",
            "Epoch 25/50\n",
            "9/9 [==============================] - 0s 52ms/step - loss: 0.9244 - categorical_accuracy: 0.5402 - val_loss: 0.8794 - val_categorical_accuracy: 0.6031\n",
            "Epoch 26/50\n",
            "9/9 [==============================] - 0s 53ms/step - loss: 0.9259 - categorical_accuracy: 0.5747 - val_loss: 0.8570 - val_categorical_accuracy: 0.6183\n",
            "Epoch 27/50\n",
            "9/9 [==============================] - 0s 52ms/step - loss: 0.8672 - categorical_accuracy: 0.5747 - val_loss: 0.8436 - val_categorical_accuracy: 0.5878\n",
            "Epoch 28/50\n",
            "9/9 [==============================] - 0s 54ms/step - loss: 0.8743 - categorical_accuracy: 0.5690 - val_loss: 0.8790 - val_categorical_accuracy: 0.5878\n",
            "Epoch 29/50\n",
            "9/9 [==============================] - 0s 53ms/step - loss: 0.9058 - categorical_accuracy: 0.5900 - val_loss: 0.8452 - val_categorical_accuracy: 0.6031\n",
            "Epoch 30/50\n",
            "9/9 [==============================] - 1s 58ms/step - loss: 0.8693 - categorical_accuracy: 0.5766 - val_loss: 0.8432 - val_categorical_accuracy: 0.6260\n",
            "Epoch 31/50\n",
            "9/9 [==============================] - 0s 53ms/step - loss: 0.8297 - categorical_accuracy: 0.6015 - val_loss: 0.8525 - val_categorical_accuracy: 0.6107\n",
            "Epoch 32/50\n",
            "9/9 [==============================] - 0s 52ms/step - loss: 0.8734 - categorical_accuracy: 0.5805 - val_loss: 0.8469 - val_categorical_accuracy: 0.5878\n",
            "Epoch 33/50\n",
            "9/9 [==============================] - 0s 52ms/step - loss: 0.8644 - categorical_accuracy: 0.5920 - val_loss: 0.8535 - val_categorical_accuracy: 0.5954\n",
            "Epoch 34/50\n",
            "9/9 [==============================] - 1s 57ms/step - loss: 0.8568 - categorical_accuracy: 0.5920 - val_loss: 0.8448 - val_categorical_accuracy: 0.5954\n",
            "Epoch 35/50\n",
            "9/9 [==============================] - 0s 52ms/step - loss: 0.8487 - categorical_accuracy: 0.5766 - val_loss: 0.8526 - val_categorical_accuracy: 0.6031\n",
            "Epoch 36/50\n",
            "9/9 [==============================] - 0s 54ms/step - loss: 0.8509 - categorical_accuracy: 0.6169 - val_loss: 0.8528 - val_categorical_accuracy: 0.5878\n",
            "Epoch 37/50\n",
            "9/9 [==============================] - 1s 58ms/step - loss: 0.8501 - categorical_accuracy: 0.5709 - val_loss: 0.8405 - val_categorical_accuracy: 0.6183\n",
            "Epoch 38/50\n",
            "9/9 [==============================] - 1s 61ms/step - loss: 0.8531 - categorical_accuracy: 0.5900 - val_loss: 0.8547 - val_categorical_accuracy: 0.5954\n",
            "Epoch 39/50\n",
            "9/9 [==============================] - 1s 59ms/step - loss: 0.8385 - categorical_accuracy: 0.5977 - val_loss: 0.8680 - val_categorical_accuracy: 0.5954\n",
            "Epoch 40/50\n",
            "9/9 [==============================] - 1s 65ms/step - loss: 0.8316 - categorical_accuracy: 0.5996 - val_loss: 0.8435 - val_categorical_accuracy: 0.6336\n",
            "Epoch 41/50\n",
            "9/9 [==============================] - 1s 63ms/step - loss: 0.8133 - categorical_accuracy: 0.6111 - val_loss: 0.8664 - val_categorical_accuracy: 0.6412\n",
            "Epoch 42/50\n",
            "9/9 [==============================] - 1s 61ms/step - loss: 0.8514 - categorical_accuracy: 0.5958 - val_loss: 0.8576 - val_categorical_accuracy: 0.6183\n",
            "Epoch 43/50\n",
            "9/9 [==============================] - 1s 58ms/step - loss: 0.8457 - categorical_accuracy: 0.5843 - val_loss: 0.8616 - val_categorical_accuracy: 0.6107\n",
            "Epoch 44/50\n",
            "9/9 [==============================] - 1s 59ms/step - loss: 0.8114 - categorical_accuracy: 0.6130 - val_loss: 0.8491 - val_categorical_accuracy: 0.6412\n",
            "Epoch 45/50\n",
            "9/9 [==============================] - 1s 68ms/step - loss: 0.8442 - categorical_accuracy: 0.5670 - val_loss: 0.8380 - val_categorical_accuracy: 0.6336\n",
            "Epoch 46/50\n",
            "9/9 [==============================] - 1s 56ms/step - loss: 0.8005 - categorical_accuracy: 0.6054 - val_loss: 0.8413 - val_categorical_accuracy: 0.6336\n",
            "Epoch 47/50\n",
            "9/9 [==============================] - 0s 53ms/step - loss: 0.8367 - categorical_accuracy: 0.6073 - val_loss: 0.8410 - val_categorical_accuracy: 0.6412\n",
            "Epoch 48/50\n",
            "9/9 [==============================] - 0s 55ms/step - loss: 0.8399 - categorical_accuracy: 0.5996 - val_loss: 0.8352 - val_categorical_accuracy: 0.5802\n",
            "Epoch 49/50\n",
            "9/9 [==============================] - 0s 54ms/step - loss: 0.8169 - categorical_accuracy: 0.6034 - val_loss: 0.8455 - val_categorical_accuracy: 0.6489\n",
            "Epoch 50/50\n",
            "9/9 [==============================] - 0s 53ms/step - loss: 0.8361 - categorical_accuracy: 0.6034 - val_loss: 0.8521 - val_categorical_accuracy: 0.6336\n"
          ],
          "name": "stdout"
        }
      ]
    },
    {
      "cell_type": "code",
      "metadata": {
        "id": "UeXWGsD64eFY",
        "outputId": "723e3e80-6f81-42e5-e7cb-b03a0866d0c8",
        "colab": {
          "base_uri": "https://localhost:8080/",
          "height": 283
        }
      },
      "source": [
        "plotter(m_histories, ylim=[0.0, 2], metric = 'loss')"
      ],
      "execution_count": 73,
      "outputs": [
        {
          "output_type": "display_data",
          "data": {
            "image/png": "[encoded data removed]",
            "text/plain": [
              "<Figure size 432x288 with 1 Axes>"
            ]
          },
          "metadata": {
            "tags": [],
            "needs_background": "light"
          }
        }
      ]
    },
    {
      "cell_type": "code",
      "metadata": {
        "id": "lcW2AFjY4oDp",
        "outputId": "5080ef02-c973-4581-dc71-b9230a2927d6",
        "colab": {
          "base_uri": "https://localhost:8080/",
          "height": 278
        }
      },
      "source": [
        "plotter(m_histories, ylim=[0.0, 1.1], metric = 'categorical_accuracy')"
      ],
      "execution_count": 74,
      "outputs": [
        {
          "output_type": "display_data",
          "data": {
            "image/png": "[encoded data removed]",
            "text/plain": [
              "<Figure size 432x288 with 1 Axes>"
            ]
          },
          "metadata": {
            "tags": [],
            "needs_background": "light"
          }
        }
      ]
    },
    {
      "cell_type": "markdown",
      "metadata": {
        "id": "MZgZtwUy5UuD"
      },
      "source": [
        "# **3. modelling for tweets related to Target : Atheism**"
      ]
    },
    {
      "cell_type": "markdown",
      "metadata": {
        "id": "AndJglj7mZb6"
      },
      "source": [
        "First we check the preprocessed tweet data for target Atheism"
      ]
    },
    {
      "cell_type": "code",
      "metadata": {
        "id": "x_GO73Wc5ckA",
        "outputId": "9bce11b9-4ccb-4447-8305-4c5691d2dcb8",
        "colab": {
          "base_uri": "https://localhost:8080/"
        }
      },
      "source": [
        "Tweets_AT[:1]"
      ],
      "execution_count": 75,
      "outputs": [
        {
          "output_type": "execute_result",
          "data": {
            "text/plain": [
              "[['dear',\n",
              "  'lord',\n",
              "  'thank',\n",
              "  'ur',\n",
              "  'blessings',\n",
              "  'forgive',\n",
              "  'sins',\n",
              "  'lord',\n",
              "  'give',\n",
              "  'strength',\n",
              "  'energy',\n",
              "  'busy',\n",
              "  'day',\n",
              "  'ahead',\n",
              "  '#blessed',\n",
              "  '#hope',\n",
              "  '#semst',\n",
              "  'atheism']]"
            ]
          },
          "metadata": {
            "tags": []
          },
          "execution_count": 75
        }
      ]
    },
    {
      "cell_type": "markdown",
      "metadata": {
        "id": "B97j5WeMmkKi"
      },
      "source": [
        "The next step is to call method padding which will tokenize the tweets and pad them with max length of 40."
      ]
    },
    {
      "cell_type": "code",
      "metadata": {
        "id": "ITghyAfU5on9",
        "outputId": "5f064143-a68e-4044-dfb1-959f657307f6",
        "colab": {
          "base_uri": "https://localhost:8080/"
        }
      },
      "source": [
        "X, word_index = Padding(Tweets_AT)\n",
        "Y = pd.get_dummies(traindata_AT['Stance']).values\n",
        "print('Shape of label tensor:', Y.shape)"
      ],
      "execution_count": 76,
      "outputs": [
        {
          "output_type": "stream",
          "text": [
            "Found 2462 unique tokens.\n",
            "Shape of data tensor: (513, 40)\n",
            "Shape of label tensor: (513, 3)\n"
          ],
          "name": "stdout"
        }
      ]
    },
    {
      "cell_type": "markdown",
      "metadata": {
        "id": "q0KouwGhmp2Z"
      },
      "source": [
        "The next step is to split the above data into training and validation. We are using above mentioned split() method by passing 0.2 as a split size which means 20% of the data is reserved for validation and remaining 80% data is used for training the model."
      ]
    },
    {
      "cell_type": "code",
      "metadata": {
        "id": "mZqc9JFU5vUG",
        "outputId": "899b1993-c543-40f0-99c1-344030d74fac",
        "colab": {
          "base_uri": "https://localhost:8080/"
        }
      },
      "source": [
        "X_train, X_Val, Y_train, Y_Val = split(X, Y, 0.2)\n",
        "print(\"X train shape: \", X_train.shape)\n",
        "print(\"Y train shape: \", Y_train.shape)\n",
        "print(\"X Val shape: \", X_Val.shape)\n",
        "print(\"Y Val shape: \", Y_Val.shape)"
      ],
      "execution_count": 77,
      "outputs": [
        {
          "output_type": "stream",
          "text": [
            "X train shape:  (410, 40)\n",
            "Y train shape:  (410, 3)\n",
            "X Val shape:  (103, 40)\n",
            "Y Val shape:  (103, 3)\n"
          ],
          "name": "stdout"
        }
      ]
    },
    {
      "cell_type": "markdown",
      "metadata": {
        "id": "1MWxEp6w5364"
      },
      "source": [
        "**Without Transfer Learning**"
      ]
    },
    {
      "cell_type": "code",
      "metadata": {
        "id": "v9u1Ho5o53Q0",
        "outputId": "b5609baf-6e7e-441f-deb9-7c8e25f8101f",
        "colab": {
          "base_uri": "https://localhost:8080/"
        }
      },
      "source": [
        "embedding_layer = Embedding(len(word_index)+1,\n",
        "                                   embedding_dim,\n",
        "                                   input_length=MAX_LENGTH,\n",
        "                                   trainable=True)\n",
        "model = create_model(embedding_layer)\n",
        "print(model.summary())"
      ],
      "execution_count": 78,
      "outputs": [
        {
          "output_type": "stream",
          "text": [
            "Model: \"sequential_5\"\n",
            "_________________________________________________________________\n",
            "Layer (type)                 Output Shape              Param #   \n",
            "=================================================================\n",
            "embedding_5 (Embedding)      (None, 40, 100)           246300    \n",
            "_________________________________________________________________\n",
            "lstm_5 (LSTM)                (None, 32)                17024     \n",
            "_________________________________________________________________\n",
            "dropout_10 (Dropout)         (None, 32)                0         \n",
            "_________________________________________________________________\n",
            "dense_10 (Dense)             (None, 64)                2112      \n",
            "_________________________________________________________________\n",
            "dropout_11 (Dropout)         (None, 64)                0         \n",
            "_________________________________________________________________\n",
            "dense_11 (Dense)             (None, 3)                 195       \n",
            "=================================================================\n",
            "Total params: 265,631\n",
            "Trainable params: 265,631\n",
            "Non-trainable params: 0\n",
            "_________________________________________________________________\n",
            "None\n"
          ],
          "name": "stdout"
        }
      ]
    },
    {
      "cell_type": "markdown",
      "metadata": {
        "id": "Ht3uMDBtm1fY"
      },
      "source": [
        "As we have less amount of data available for training, we are using K-fold cross validation technique to train our model for 50 epochs in each of the 3 folds.\n",
        "The batch size is set to 64 and we trained the data for 50 epochs and 3 folds.\n",
        "\n",
        "From the below output we can see that the model achieved categorical accuracy of about 74% on the validation data set.\n",
        "\n",
        "To check the learning curve of the training and validation we plot the grphs using plotter function mentioned above."
      ]
    },
    {
      "cell_type": "code",
      "metadata": {
        "id": "6fBoq3UT6EuV",
        "outputId": "dfc04a60-ebb4-4628-882f-a0dca16dfa4d",
        "colab": {
          "base_uri": "https://localhost:8080/"
        }
      },
      "source": [
        "from sklearn.model_selection import KFold\n",
        "num_folds = 3\n",
        "input = np.concatenate((X_train, X_Val), axis= 0)\n",
        "target = np.concatenate((Y_train, Y_Val), axis= 0)\n",
        "\n",
        "kfold = KFold(n_splits=num_folds, shuffle=True)\n",
        "K = 1\n",
        "for train, test in kfold.split(input, target):\n",
        "    print(\"fold number: \", K)\n",
        "    m_histories = {}\n",
        "    m_histories['with_TL'] = model.fit(input[train], target[train], batch_size=64, epochs=10, validation_data=(input[test], target[test]), callbacks=get_callbacks('models/with_TL'), verbose=1)\n",
        "    K = K+1"
      ],
      "execution_count": 79,
      "outputs": [
        {
          "output_type": "stream",
          "text": [
            "fold number:  1\n",
            "Epoch 1/10\n",
            "2/6 [=========>....................] - ETA: 1s - loss: 1.0845 - categorical_accuracy: 0.4766WARNING:tensorflow:Callbacks method `on_train_batch_end` is slow compared to the batch time (batch time: 0.0709s vs `on_train_batch_end` time: 0.5126s). Check your callbacks.\n",
            "6/6 [==============================] - 1s 200ms/step - loss: 1.0803 - categorical_accuracy: 0.4942 - val_loss: 1.0632 - val_categorical_accuracy: 0.5614\n",
            "Epoch 2/10\n",
            "6/6 [==============================] - 0s 62ms/step - loss: 1.0359 - categorical_accuracy: 0.5965 - val_loss: 1.0289 - val_categorical_accuracy: 0.5614\n",
            "Epoch 3/10\n",
            "6/6 [==============================] - 0s 60ms/step - loss: 0.9882 - categorical_accuracy: 0.6111 - val_loss: 0.9910 - val_categorical_accuracy: 0.5614\n",
            "Epoch 4/10\n",
            "6/6 [==============================] - 0s 61ms/step - loss: 0.9773 - categorical_accuracy: 0.5906 - val_loss: 0.9924 - val_categorical_accuracy: 0.5614\n",
            "Epoch 5/10\n",
            "6/6 [==============================] - 0s 60ms/step - loss: 0.9767 - categorical_accuracy: 0.6053 - val_loss: 0.9907 - val_categorical_accuracy: 0.5614\n",
            "Epoch 6/10\n",
            "6/6 [==============================] - 0s 62ms/step - loss: 0.9871 - categorical_accuracy: 0.5994 - val_loss: 0.9898 - val_categorical_accuracy: 0.5614\n",
            "Epoch 7/10\n",
            "6/6 [==============================] - 0s 60ms/step - loss: 0.9743 - categorical_accuracy: 0.6053 - val_loss: 0.9951 - val_categorical_accuracy: 0.5614\n",
            "Epoch 8/10\n",
            "6/6 [==============================] - 0s 61ms/step - loss: 0.9628 - categorical_accuracy: 0.6082 - val_loss: 0.9910 - val_categorical_accuracy: 0.5614\n",
            "Epoch 9/10\n",
            "6/6 [==============================] - 0s 59ms/step - loss: 0.9725 - categorical_accuracy: 0.6082 - val_loss: 0.9892 - val_categorical_accuracy: 0.5614\n",
            "Epoch 10/10\n",
            "6/6 [==============================] - 0s 60ms/step - loss: 0.9661 - categorical_accuracy: 0.6053 - val_loss: 0.9879 - val_categorical_accuracy: 0.5614\n",
            "fold number:  2\n",
            "Epoch 1/10\n",
            "2/6 [=========>....................] - ETA: 0s - loss: 0.9870 - categorical_accuracy: 0.6172WARNING:tensorflow:Callbacks method `on_train_batch_end` is slow compared to the batch time (batch time: 0.0624s vs `on_train_batch_end` time: 0.1073s). Check your callbacks.\n",
            "6/6 [==============================] - 1s 84ms/step - loss: 0.9878 - categorical_accuracy: 0.5936 - val_loss: 0.9623 - val_categorical_accuracy: 0.5848\n",
            "Epoch 2/10\n",
            "6/6 [==============================] - 0s 59ms/step - loss: 0.9767 - categorical_accuracy: 0.5936 - val_loss: 0.9644 - val_categorical_accuracy: 0.5848\n",
            "Epoch 3/10\n",
            "6/6 [==============================] - 0s 62ms/step - loss: 0.9677 - categorical_accuracy: 0.5965 - val_loss: 0.9617 - val_categorical_accuracy: 0.5848\n",
            "Epoch 4/10\n",
            "6/6 [==============================] - 0s 60ms/step - loss: 0.9801 - categorical_accuracy: 0.5965 - val_loss: 0.9620 - val_categorical_accuracy: 0.5848\n",
            "Epoch 5/10\n",
            "6/6 [==============================] - 0s 63ms/step - loss: 0.9688 - categorical_accuracy: 0.5965 - val_loss: 0.9628 - val_categorical_accuracy: 0.5848\n",
            "Epoch 6/10\n",
            "6/6 [==============================] - 0s 61ms/step - loss: 0.9769 - categorical_accuracy: 0.5965 - val_loss: 0.9631 - val_categorical_accuracy: 0.5848\n",
            "Epoch 7/10\n",
            "6/6 [==============================] - 0s 61ms/step - loss: 0.9577 - categorical_accuracy: 0.5965 - val_loss: 0.9643 - val_categorical_accuracy: 0.5848\n",
            "Epoch 8/10\n",
            "6/6 [==============================] - 0s 59ms/step - loss: 0.9759 - categorical_accuracy: 0.5965 - val_loss: 0.9635 - val_categorical_accuracy: 0.5848\n",
            "Epoch 9/10\n",
            "6/6 [==============================] - 0s 61ms/step - loss: 0.9487 - categorical_accuracy: 0.5965 - val_loss: 0.9629 - val_categorical_accuracy: 0.5848\n",
            "Epoch 10/10\n",
            "6/6 [==============================] - 0s 61ms/step - loss: 0.9851 - categorical_accuracy: 0.5965 - val_loss: 0.9636 - val_categorical_accuracy: 0.5848\n",
            "fold number:  3\n",
            "Epoch 1/10\n",
            "6/6 [==============================] - 0s 79ms/step - loss: 0.9977 - categorical_accuracy: 0.5731 - val_loss: 0.9248 - val_categorical_accuracy: 0.6316\n",
            "Epoch 2/10\n",
            "6/6 [==============================] - 0s 62ms/step - loss: 0.9779 - categorical_accuracy: 0.5731 - val_loss: 0.9296 - val_categorical_accuracy: 0.6316\n",
            "Epoch 3/10\n",
            "6/6 [==============================] - 0s 65ms/step - loss: 0.9988 - categorical_accuracy: 0.5731 - val_loss: 0.9332 - val_categorical_accuracy: 0.6316\n",
            "Epoch 4/10\n",
            "6/6 [==============================] - 0s 63ms/step - loss: 0.9813 - categorical_accuracy: 0.5731 - val_loss: 0.9290 - val_categorical_accuracy: 0.6316\n",
            "Epoch 5/10\n",
            "6/6 [==============================] - 0s 59ms/step - loss: 0.9745 - categorical_accuracy: 0.5731 - val_loss: 0.9233 - val_categorical_accuracy: 0.6316\n",
            "Epoch 6/10\n",
            "6/6 [==============================] - 0s 61ms/step - loss: 0.9850 - categorical_accuracy: 0.5731 - val_loss: 0.9243 - val_categorical_accuracy: 0.6316\n",
            "Epoch 7/10\n",
            "6/6 [==============================] - 0s 61ms/step - loss: 0.9803 - categorical_accuracy: 0.5731 - val_loss: 0.9210 - val_categorical_accuracy: 0.6316\n",
            "Epoch 8/10\n",
            "6/6 [==============================] - 0s 63ms/step - loss: 0.9450 - categorical_accuracy: 0.5731 - val_loss: 0.8080 - val_categorical_accuracy: 0.6316\n",
            "Epoch 9/10\n",
            "6/6 [==============================] - 0s 61ms/step - loss: 0.8045 - categorical_accuracy: 0.5760 - val_loss: 0.5649 - val_categorical_accuracy: 0.6316\n",
            "Epoch 10/10\n",
            "6/6 [==============================] - 0s 64ms/step - loss: 0.5934 - categorical_accuracy: 0.6842 - val_loss: 0.4930 - val_categorical_accuracy: 0.7719\n"
          ],
          "name": "stdout"
        }
      ]
    },
    {
      "cell_type": "markdown",
      "metadata": {
        "id": "wXveg7L3m_2B"
      },
      "source": [
        "We tried to plot learning curves for both validation and training data on Catergorical Crossentropy as well as for Catergorical Accuracy."
      ]
    },
    {
      "cell_type": "code",
      "metadata": {
        "id": "yayCOjqC6ipM",
        "outputId": "2e9c0edb-776b-4238-ac36-36356b56e923",
        "colab": {
          "base_uri": "https://localhost:8080/",
          "height": 283
        }
      },
      "source": [
        "plotter(m_histories, ylim=[0.0, 2], metric = 'loss')"
      ],
      "execution_count": 80,
      "outputs": [
        {
          "output_type": "display_data",
          "data": {
            "image/png": "[encoded data removed]",
            "text/plain": [
              "<Figure size 432x288 with 1 Axes>"
            ]
          },
          "metadata": {
            "tags": [],
            "needs_background": "light"
          }
        }
      ]
    },
    {
      "cell_type": "code",
      "metadata": {
        "id": "i7WeCyel6iQf",
        "outputId": "83abd46b-b5ca-4123-a92f-f79ff1e196a8",
        "colab": {
          "base_uri": "https://localhost:8080/",
          "height": 278
        }
      },
      "source": [
        "plotter(m_histories, ylim=[0.0, 1.1], metric = 'categorical_accuracy')"
      ],
      "execution_count": 81,
      "outputs": [
        {
          "output_type": "display_data",
          "data": {
            "image/png": "[encoded data removed]",
            "text/plain": [
              "<Figure size 432x288 with 1 Axes>"
            ]
          },
          "metadata": {
            "tags": [],
            "needs_background": "light"
          }
        }
      ]
    },
    {
      "cell_type": "markdown",
      "metadata": {
        "id": "QM9mdkHd6uDs"
      },
      "source": [
        "**With Transfer Learning**"
      ]
    },
    {
      "cell_type": "code",
      "metadata": {
        "id": "zDjYRAyu6h0w",
        "outputId": "90f1bee7-902d-4df6-e216-71df5cf28ea5",
        "colab": {
          "base_uri": "https://localhost:8080/"
        }
      },
      "source": [
        "E_T = np.zeros((len(word_index)+1, embedding_dim))\n",
        "for word, i in word_index.items():\n",
        "    embedding_vector = glove_vectors.get(word)\n",
        "    if embedding_vector is not None:  \n",
        "        E_T[i] = embedding_vector\n",
        "\n",
        "E_T.size"
      ],
      "execution_count": 82,
      "outputs": [
        {
          "output_type": "execute_result",
          "data": {
            "text/plain": [
              "246300"
            ]
          },
          "metadata": {
            "tags": []
          },
          "execution_count": 82
        }
      ]
    },
    {
      "cell_type": "code",
      "metadata": {
        "id": "ENIvOjGJ6ho9",
        "outputId": "3aedfb61-12cc-4389-9bc7-3500e7eaed0c",
        "colab": {
          "base_uri": "https://localhost:8080/"
        }
      },
      "source": [
        "embedding_layer_TL = Embedding(len(word_index)+1,\n",
        "                                embedding_dim,\n",
        "                                weights=[E_T],\n",
        "                                input_length=MAX_LENGTH,\n",
        "                                trainable=False)\n",
        "model = create_model(embedding_layer_TL)\n",
        "print(model.summary())"
      ],
      "execution_count": 83,
      "outputs": [
        {
          "output_type": "stream",
          "text": [
            "Model: \"sequential_6\"\n",
            "_________________________________________________________________\n",
            "Layer (type)                 Output Shape              Param #   \n",
            "=================================================================\n",
            "embedding_6 (Embedding)      (None, 40, 100)           246300    \n",
            "_________________________________________________________________\n",
            "lstm_6 (LSTM)                (None, 32)                17024     \n",
            "_________________________________________________________________\n",
            "dropout_12 (Dropout)         (None, 32)                0         \n",
            "_________________________________________________________________\n",
            "dense_12 (Dense)             (None, 64)                2112      \n",
            "_________________________________________________________________\n",
            "dropout_13 (Dropout)         (None, 64)                0         \n",
            "_________________________________________________________________\n",
            "dense_13 (Dense)             (None, 3)                 195       \n",
            "=================================================================\n",
            "Total params: 265,631\n",
            "Trainable params: 19,331\n",
            "Non-trainable params: 246,300\n",
            "_________________________________________________________________\n",
            "None\n"
          ],
          "name": "stdout"
        }
      ]
    },
    {
      "cell_type": "code",
      "metadata": {
        "id": "VZjyXfqX663E",
        "outputId": "cf4d6241-2662-405a-e86f-bde5b083af5d",
        "colab": {
          "base_uri": "https://localhost:8080/"
        }
      },
      "source": [
        "m_histories['with_TL'] = model.fit(X_train, Y_train, batch_size=64, epochs=50, validation_data=(X_Val, Y_Val), callbacks=get_callbacks('models/with_TL'), verbose=1)   "
      ],
      "execution_count": 84,
      "outputs": [
        {
          "output_type": "stream",
          "text": [
            "Epoch 1/50\n",
            "2/7 [=======>......................] - ETA: 1s - loss: 1.0977 - categorical_accuracy: 0.4375WARNING:tensorflow:Callbacks method `on_train_batch_end` is slow compared to the batch time (batch time: 0.0643s vs `on_train_batch_end` time: 0.3823s). Check your callbacks.\n",
            "7/7 [==============================] - 1s 152ms/step - loss: 1.0919 - categorical_accuracy: 0.5610 - val_loss: 1.0876 - val_categorical_accuracy: 0.5243\n",
            "Epoch 2/50\n",
            "7/7 [==============================] - 0s 53ms/step - loss: 1.0761 - categorical_accuracy: 0.6073 - val_loss: 1.0722 - val_categorical_accuracy: 0.5243\n",
            "Epoch 3/50\n",
            "7/7 [==============================] - 0s 52ms/step - loss: 1.0475 - categorical_accuracy: 0.6024 - val_loss: 1.0463 - val_categorical_accuracy: 0.5243\n",
            "Epoch 4/50\n",
            "7/7 [==============================] - 0s 52ms/step - loss: 1.0099 - categorical_accuracy: 0.6000 - val_loss: 1.0220 - val_categorical_accuracy: 0.5243\n",
            "Epoch 5/50\n",
            "7/7 [==============================] - 0s 53ms/step - loss: 0.9807 - categorical_accuracy: 0.5951 - val_loss: 1.0187 - val_categorical_accuracy: 0.5243\n",
            "Epoch 6/50\n",
            "7/7 [==============================] - 0s 51ms/step - loss: 0.9832 - categorical_accuracy: 0.5878 - val_loss: 1.0090 - val_categorical_accuracy: 0.5243\n",
            "Epoch 7/50\n",
            "7/7 [==============================] - 0s 55ms/step - loss: 0.9565 - categorical_accuracy: 0.6049 - val_loss: 0.9994 - val_categorical_accuracy: 0.5243\n",
            "Epoch 8/50\n",
            "7/7 [==============================] - 0s 51ms/step - loss: 0.9536 - categorical_accuracy: 0.6073 - val_loss: 0.9854 - val_categorical_accuracy: 0.5243\n",
            "Epoch 9/50\n",
            "7/7 [==============================] - 0s 54ms/step - loss: 0.9476 - categorical_accuracy: 0.6098 - val_loss: 0.9327 - val_categorical_accuracy: 0.5243\n",
            "Epoch 10/50\n",
            "7/7 [==============================] - 0s 52ms/step - loss: 0.8936 - categorical_accuracy: 0.6146 - val_loss: 0.8489 - val_categorical_accuracy: 0.5243\n",
            "Epoch 11/50\n",
            "7/7 [==============================] - 0s 51ms/step - loss: 0.8570 - categorical_accuracy: 0.6073 - val_loss: 0.8428 - val_categorical_accuracy: 0.5922\n",
            "Epoch 12/50\n",
            "7/7 [==============================] - 0s 53ms/step - loss: 0.7745 - categorical_accuracy: 0.6415 - val_loss: 0.8217 - val_categorical_accuracy: 0.6117\n",
            "Epoch 13/50\n",
            "7/7 [==============================] - 0s 52ms/step - loss: 0.8034 - categorical_accuracy: 0.6439 - val_loss: 0.8190 - val_categorical_accuracy: 0.6019\n",
            "Epoch 14/50\n",
            "7/7 [==============================] - 0s 54ms/step - loss: 0.7743 - categorical_accuracy: 0.6341 - val_loss: 0.8691 - val_categorical_accuracy: 0.5922\n",
            "Epoch 15/50\n",
            "7/7 [==============================] - 0s 51ms/step - loss: 0.8040 - categorical_accuracy: 0.5976 - val_loss: 0.8181 - val_categorical_accuracy: 0.6214\n",
            "Epoch 16/50\n",
            "7/7 [==============================] - 0s 54ms/step - loss: 0.7823 - categorical_accuracy: 0.6537 - val_loss: 0.8500 - val_categorical_accuracy: 0.6019\n",
            "Epoch 17/50\n",
            "7/7 [==============================] - 0s 55ms/step - loss: 0.7769 - categorical_accuracy: 0.6512 - val_loss: 0.8357 - val_categorical_accuracy: 0.6214\n",
            "Epoch 18/50\n",
            "7/7 [==============================] - 0s 52ms/step - loss: 0.7481 - categorical_accuracy: 0.6707 - val_loss: 0.8195 - val_categorical_accuracy: 0.6505\n",
            "Epoch 19/50\n",
            "7/7 [==============================] - 0s 53ms/step - loss: 0.7703 - categorical_accuracy: 0.6683 - val_loss: 0.8222 - val_categorical_accuracy: 0.6311\n",
            "Epoch 20/50\n",
            "7/7 [==============================] - 0s 53ms/step - loss: 0.7822 - categorical_accuracy: 0.6537 - val_loss: 0.8463 - val_categorical_accuracy: 0.6311\n",
            "Epoch 21/50\n",
            "7/7 [==============================] - 0s 56ms/step - loss: 0.7425 - categorical_accuracy: 0.7024 - val_loss: 0.8270 - val_categorical_accuracy: 0.5922\n",
            "Epoch 22/50\n",
            "7/7 [==============================] - 0s 51ms/step - loss: 0.7473 - categorical_accuracy: 0.6829 - val_loss: 0.8322 - val_categorical_accuracy: 0.6214\n",
            "Epoch 23/50\n",
            "7/7 [==============================] - 0s 52ms/step - loss: 0.7462 - categorical_accuracy: 0.6854 - val_loss: 0.8315 - val_categorical_accuracy: 0.6408\n",
            "Epoch 24/50\n",
            "7/7 [==============================] - 0s 52ms/step - loss: 0.7332 - categorical_accuracy: 0.6780 - val_loss: 0.8495 - val_categorical_accuracy: 0.6117\n",
            "Epoch 25/50\n",
            "7/7 [==============================] - 0s 61ms/step - loss: 0.7228 - categorical_accuracy: 0.6683 - val_loss: 0.8497 - val_categorical_accuracy: 0.6214\n",
            "Epoch 26/50\n",
            "7/7 [==============================] - 0s 57ms/step - loss: 0.7103 - categorical_accuracy: 0.6854 - val_loss: 0.8787 - val_categorical_accuracy: 0.6311\n",
            "Epoch 27/50\n",
            "7/7 [==============================] - 0s 51ms/step - loss: 0.7087 - categorical_accuracy: 0.6707 - val_loss: 0.8988 - val_categorical_accuracy: 0.6214\n",
            "Epoch 28/50\n",
            "7/7 [==============================] - 0s 54ms/step - loss: 0.7263 - categorical_accuracy: 0.6707 - val_loss: 0.8677 - val_categorical_accuracy: 0.6311\n",
            "Epoch 29/50\n",
            "7/7 [==============================] - 0s 53ms/step - loss: 0.7142 - categorical_accuracy: 0.6732 - val_loss: 0.8775 - val_categorical_accuracy: 0.6408\n",
            "Epoch 30/50\n",
            "7/7 [==============================] - 0s 59ms/step - loss: 0.7221 - categorical_accuracy: 0.6756 - val_loss: 0.9210 - val_categorical_accuracy: 0.6311\n",
            "Epoch 31/50\n",
            "7/7 [==============================] - 0s 52ms/step - loss: 0.6864 - categorical_accuracy: 0.6976 - val_loss: 0.8839 - val_categorical_accuracy: 0.6214\n",
            "Epoch 32/50\n",
            "7/7 [==============================] - 0s 54ms/step - loss: 0.6771 - categorical_accuracy: 0.6829 - val_loss: 0.9225 - val_categorical_accuracy: 0.6311\n",
            "Epoch 33/50\n",
            "7/7 [==============================] - 0s 52ms/step - loss: 0.7696 - categorical_accuracy: 0.6756 - val_loss: 0.8638 - val_categorical_accuracy: 0.6408\n",
            "Epoch 34/50\n",
            "7/7 [==============================] - 0s 53ms/step - loss: 0.7298 - categorical_accuracy: 0.6707 - val_loss: 0.8733 - val_categorical_accuracy: 0.6311\n",
            "Epoch 35/50\n",
            "7/7 [==============================] - 0s 56ms/step - loss: 0.7337 - categorical_accuracy: 0.6610 - val_loss: 0.8623 - val_categorical_accuracy: 0.6311\n",
            "Epoch 36/50\n",
            "7/7 [==============================] - 0s 51ms/step - loss: 0.7037 - categorical_accuracy: 0.7122 - val_loss: 0.9496 - val_categorical_accuracy: 0.6408\n",
            "Epoch 37/50\n",
            "7/7 [==============================] - 0s 57ms/step - loss: 0.6632 - categorical_accuracy: 0.6951 - val_loss: 0.9415 - val_categorical_accuracy: 0.6117\n",
            "Epoch 38/50\n",
            "7/7 [==============================] - 0s 53ms/step - loss: 0.7000 - categorical_accuracy: 0.7146 - val_loss: 0.9445 - val_categorical_accuracy: 0.6505\n",
            "Epoch 39/50\n",
            "7/7 [==============================] - 0s 54ms/step - loss: 0.7019 - categorical_accuracy: 0.6756 - val_loss: 0.8927 - val_categorical_accuracy: 0.6311\n",
            "Epoch 40/50\n",
            "7/7 [==============================] - 0s 56ms/step - loss: 0.6719 - categorical_accuracy: 0.7073 - val_loss: 0.9742 - val_categorical_accuracy: 0.6311\n",
            "Epoch 41/50\n",
            "7/7 [==============================] - 0s 53ms/step - loss: 0.6617 - categorical_accuracy: 0.7000 - val_loss: 0.9293 - val_categorical_accuracy: 0.6311\n",
            "Epoch 42/50\n",
            "7/7 [==============================] - 0s 59ms/step - loss: 0.6891 - categorical_accuracy: 0.6902 - val_loss: 0.9961 - val_categorical_accuracy: 0.6311\n",
            "Epoch 43/50\n",
            "7/7 [==============================] - 0s 53ms/step - loss: 0.6689 - categorical_accuracy: 0.7244 - val_loss: 0.9191 - val_categorical_accuracy: 0.6505\n",
            "Epoch 44/50\n",
            "7/7 [==============================] - 0s 54ms/step - loss: 0.6522 - categorical_accuracy: 0.7073 - val_loss: 0.9554 - val_categorical_accuracy: 0.6505\n",
            "Epoch 45/50\n",
            "7/7 [==============================] - 0s 51ms/step - loss: 0.6786 - categorical_accuracy: 0.7171 - val_loss: 0.9675 - val_categorical_accuracy: 0.6408\n",
            "Epoch 46/50\n",
            "7/7 [==============================] - 0s 53ms/step - loss: 0.6354 - categorical_accuracy: 0.7146 - val_loss: 0.9752 - val_categorical_accuracy: 0.6408\n",
            "Epoch 47/50\n",
            "7/7 [==============================] - 0s 52ms/step - loss: 0.6355 - categorical_accuracy: 0.7268 - val_loss: 0.9534 - val_categorical_accuracy: 0.6602\n",
            "Epoch 48/50\n",
            "7/7 [==============================] - 0s 55ms/step - loss: 0.6214 - categorical_accuracy: 0.7341 - val_loss: 1.0861 - val_categorical_accuracy: 0.6408\n",
            "Epoch 49/50\n",
            "7/7 [==============================] - 0s 54ms/step - loss: 0.6489 - categorical_accuracy: 0.7146 - val_loss: 0.9371 - val_categorical_accuracy: 0.6505\n",
            "Epoch 50/50\n",
            "7/7 [==============================] - 0s 52ms/step - loss: 0.6823 - categorical_accuracy: 0.7024 - val_loss: 0.9828 - val_categorical_accuracy: 0.6505\n"
          ],
          "name": "stdout"
        }
      ]
    },
    {
      "cell_type": "code",
      "metadata": {
        "id": "VosXxD1c67X5",
        "outputId": "a8631d5f-d65c-4e03-9132-f981fe4cb23d",
        "colab": {
          "base_uri": "https://localhost:8080/",
          "height": 283
        }
      },
      "source": [
        "plotter(m_histories, ylim=[0.0, 2], metric = 'loss')"
      ],
      "execution_count": 85,
      "outputs": [
        {
          "output_type": "display_data",
          "data": {
            "image/png": "[encoded data removed]",
            "text/plain": [
              "<Figure size 432x288 with 1 Axes>"
            ]
          },
          "metadata": {
            "tags": [],
            "needs_background": "light"
          }
        }
      ]
    },
    {
      "cell_type": "code",
      "metadata": {
        "id": "MlEt9VLr66r2",
        "outputId": "ee1071e4-5287-42df-dca6-6928d141841b",
        "colab": {
          "base_uri": "https://localhost:8080/",
          "height": 278
        }
      },
      "source": [
        "plotter(m_histories, ylim=[0.0, 1.1], metric = 'categorical_accuracy')"
      ],
      "execution_count": 86,
      "outputs": [
        {
          "output_type": "display_data",
          "data": {
            "image/png": "[encoded data removed]",
            "text/plain": [
              "<Figure size 432x288 with 1 Axes>"
            ]
          },
          "metadata": {
            "tags": [],
            "needs_background": "light"
          }
        }
      ]
    },
    {
      "cell_type": "markdown",
      "metadata": {
        "id": "w9qXKf6B7HR9"
      },
      "source": [
        "# **4. Modelling for tweets related to target: Climate Change is a Real Concern**"
      ]
    },
    {
      "cell_type": "markdown",
      "metadata": {
        "id": "V4Fl0P6KnMoz"
      },
      "source": [
        "First we check the preprocessed tweet data for target Climate Change is a Real Concern"
      ]
    },
    {
      "cell_type": "code",
      "metadata": {
        "id": "d-wCIovY74Y_",
        "outputId": "904348b6-5bee-44a0-954b-ace7c1d9958b",
        "colab": {
          "base_uri": "https://localhost:8080/"
        }
      },
      "source": [
        "Tweets_CC[:1]"
      ],
      "execution_count": 87,
      "outputs": [
        {
          "output_type": "execute_result",
          "data": {
            "text/plain": [
              "[['cant',\n",
              "  'deny',\n",
              "  'really',\n",
              "  'happening',\n",
              "  '#semst',\n",
              "  'climate',\n",
              "  'change',\n",
              "  'real',\n",
              "  'concern']]"
            ]
          },
          "metadata": {
            "tags": []
          },
          "execution_count": 87
        }
      ]
    },
    {
      "cell_type": "markdown",
      "metadata": {
        "id": "gKX4PbJkncix"
      },
      "source": [
        "The next step is to call method padding which will tokenize the tweets and pad them with max length of 40."
      ]
    },
    {
      "cell_type": "code",
      "metadata": {
        "id": "3hWkV61G8EoZ",
        "outputId": "705a7663-bac0-4733-dc38-413fed7d3a81",
        "colab": {
          "base_uri": "https://localhost:8080/"
        }
      },
      "source": [
        "X, word_index = Padding(Tweets_CC)\n",
        "Y = pd.get_dummies(traindata_CC['Stance']).values\n",
        "print('Shape of label tensor:', Y.shape)"
      ],
      "execution_count": 88,
      "outputs": [
        {
          "output_type": "stream",
          "text": [
            "Found 2281 unique tokens.\n",
            "Shape of data tensor: (395, 40)\n",
            "Shape of label tensor: (395, 3)\n"
          ],
          "name": "stdout"
        }
      ]
    },
    {
      "cell_type": "markdown",
      "metadata": {
        "id": "84G7kjPynci3"
      },
      "source": [
        "The next step is to split the above data into training and validation. We are using above mentioned split() method by passing 0.2 as a split size which means 20% of the data is reserved for validation and remaining 80% data is used for training the model."
      ]
    },
    {
      "cell_type": "code",
      "metadata": {
        "id": "NIgZmm9c8Mv7",
        "outputId": "7cdace9f-1785-49c6-d775-bc87d71b7250",
        "colab": {
          "base_uri": "https://localhost:8080/"
        }
      },
      "source": [
        "X_train, X_Val, Y_train, Y_Val = split(X, Y, 0.2)\n",
        "print(\"X train shape: \", X_train.shape)\n",
        "print(\"Y train shape: \", Y_train.shape)\n",
        "print(\"X Val shape: \", X_Val.shape)\n",
        "print(\"Y Val shape: \", Y_Val.shape)"
      ],
      "execution_count": 89,
      "outputs": [
        {
          "output_type": "stream",
          "text": [
            "X train shape:  (316, 40)\n",
            "Y train shape:  (316, 3)\n",
            "X Val shape:  (79, 40)\n",
            "Y Val shape:  (79, 3)\n"
          ],
          "name": "stdout"
        }
      ]
    },
    {
      "cell_type": "markdown",
      "metadata": {
        "id": "Z_DxoMYR8bRn"
      },
      "source": [
        "**Without Transfer Learning**"
      ]
    },
    {
      "cell_type": "code",
      "metadata": {
        "id": "w22qYAKN8bRp",
        "outputId": "c59b7134-1bbe-4397-9682-c16c3c917a8b",
        "colab": {
          "base_uri": "https://localhost:8080/"
        }
      },
      "source": [
        "embedding_layer = Embedding(len(word_index)+1,\n",
        "                                   embedding_dim,\n",
        "                                   input_length=MAX_LENGTH,\n",
        "                                   trainable=True)\n",
        "model = create_model(embedding_layer)\n",
        "print(model.summary())"
      ],
      "execution_count": 90,
      "outputs": [
        {
          "output_type": "stream",
          "text": [
            "Model: \"sequential_7\"\n",
            "_________________________________________________________________\n",
            "Layer (type)                 Output Shape              Param #   \n",
            "=================================================================\n",
            "embedding_7 (Embedding)      (None, 40, 100)           228200    \n",
            "_________________________________________________________________\n",
            "lstm_7 (LSTM)                (None, 32)                17024     \n",
            "_________________________________________________________________\n",
            "dropout_14 (Dropout)         (None, 32)                0         \n",
            "_________________________________________________________________\n",
            "dense_14 (Dense)             (None, 64)                2112      \n",
            "_________________________________________________________________\n",
            "dropout_15 (Dropout)         (None, 64)                0         \n",
            "_________________________________________________________________\n",
            "dense_15 (Dense)             (None, 3)                 195       \n",
            "=================================================================\n",
            "Total params: 247,531\n",
            "Trainable params: 247,531\n",
            "Non-trainable params: 0\n",
            "_________________________________________________________________\n",
            "None\n"
          ],
          "name": "stdout"
        }
      ]
    },
    {
      "cell_type": "markdown",
      "metadata": {
        "id": "qL4ctSrAnci5"
      },
      "source": [
        "As we have less amount of data available for training, we are using K-fold cross validation technique to train our model for 50 epochs in each of the 3 folds.\n",
        "The batch size is set to 64 and we trained the data for 50 epochs and 3 folds.\n",
        "\n",
        "From the below output we can see that the model achieved categorical accuracy of about 74% on the validation data set.\n",
        "\n",
        "To check the learning curve of the training and validation we plot the grphs using plotter function mentioned above."
      ]
    },
    {
      "cell_type": "code",
      "metadata": {
        "id": "RggbRK4P8bRu",
        "outputId": "3ccc1c53-5025-4a5e-ad47-179bab25d4b0",
        "colab": {
          "base_uri": "https://localhost:8080/"
        }
      },
      "source": [
        "from sklearn.model_selection import KFold\n",
        "num_folds = 3\n",
        "input = np.concatenate((X_train, X_Val), axis= 0)\n",
        "target = np.concatenate((Y_train, Y_Val), axis= 0)\n",
        "\n",
        "kfold = KFold(n_splits=num_folds, shuffle=True)\n",
        "K = 1\n",
        "for train, test in kfold.split(input, target):\n",
        "    print(\"fold number: \", K)\n",
        "    m_histories = {}\n",
        "    m_histories['with_TL'] = model.fit(input[train], target[train], batch_size=64, epochs=10, validation_data=(input[test], target[test]), callbacks=get_callbacks('models/with_TL'), verbose=1)\n",
        "    K = K+1"
      ],
      "execution_count": 91,
      "outputs": [
        {
          "output_type": "stream",
          "text": [
            "fold number:  1\n",
            "Epoch 1/10\n",
            "2/5 [===========>..................] - ETA: 0s - loss: 1.0896 - categorical_accuracy: 0.3672WARNING:tensorflow:Callbacks method `on_train_batch_end` is slow compared to the batch time (batch time: 0.0734s vs `on_train_batch_end` time: 0.4994s). Check your callbacks.\n",
            "5/5 [==============================] - 1s 227ms/step - loss: 1.0789 - categorical_accuracy: 0.4068 - val_loss: 1.0436 - val_categorical_accuracy: 0.5152\n",
            "Epoch 2/10\n",
            "5/5 [==============================] - 0s 59ms/step - loss: 1.0345 - categorical_accuracy: 0.4905 - val_loss: 0.9934 - val_categorical_accuracy: 0.5152\n",
            "Epoch 3/10\n",
            "5/5 [==============================] - 0s 59ms/step - loss: 0.9765 - categorical_accuracy: 0.5019 - val_loss: 0.9413 - val_categorical_accuracy: 0.5152\n",
            "Epoch 4/10\n",
            "5/5 [==============================] - 0s 65ms/step - loss: 0.9278 - categorical_accuracy: 0.5247 - val_loss: 0.8998 - val_categorical_accuracy: 0.5152\n",
            "Epoch 5/10\n",
            "5/5 [==============================] - 0s 57ms/step - loss: 0.8889 - categorical_accuracy: 0.5133 - val_loss: 0.8688 - val_categorical_accuracy: 0.5152\n",
            "Epoch 6/10\n",
            "5/5 [==============================] - 0s 59ms/step - loss: 0.8488 - categorical_accuracy: 0.5627 - val_loss: 0.8530 - val_categorical_accuracy: 0.5152\n",
            "Epoch 7/10\n",
            "5/5 [==============================] - 0s 60ms/step - loss: 0.9191 - categorical_accuracy: 0.4867 - val_loss: 0.8535 - val_categorical_accuracy: 0.5152\n",
            "Epoch 8/10\n",
            "5/5 [==============================] - 0s 58ms/step - loss: 0.8740 - categorical_accuracy: 0.4829 - val_loss: 0.8498 - val_categorical_accuracy: 0.5152\n",
            "Epoch 9/10\n",
            "5/5 [==============================] - 0s 59ms/step - loss: 0.8526 - categorical_accuracy: 0.5057 - val_loss: 0.8465 - val_categorical_accuracy: 0.5152\n",
            "Epoch 10/10\n",
            "5/5 [==============================] - 0s 58ms/step - loss: 0.8632 - categorical_accuracy: 0.5057 - val_loss: 0.8454 - val_categorical_accuracy: 0.5152\n",
            "fold number:  2\n",
            "Epoch 1/10\n",
            "2/5 [===========>..................] - ETA: 0s - loss: 0.8694 - categorical_accuracy: 0.5000WARNING:tensorflow:Callbacks method `on_train_batch_end` is slow compared to the batch time (batch time: 0.0626s vs `on_train_batch_end` time: 0.1006s). Check your callbacks.\n",
            "5/5 [==============================] - 0s 85ms/step - loss: 0.9234 - categorical_accuracy: 0.4677 - val_loss: 0.7983 - val_categorical_accuracy: 0.5455\n",
            "Epoch 2/10\n",
            "5/5 [==============================] - 0s 58ms/step - loss: 0.8982 - categorical_accuracy: 0.4563 - val_loss: 0.8102 - val_categorical_accuracy: 0.5455\n",
            "Epoch 3/10\n",
            "5/5 [==============================] - 0s 58ms/step - loss: 0.8949 - categorical_accuracy: 0.4221 - val_loss: 0.8164 - val_categorical_accuracy: 0.5455\n",
            "Epoch 4/10\n",
            "5/5 [==============================] - 0s 60ms/step - loss: 0.8836 - categorical_accuracy: 0.5057 - val_loss: 0.8151 - val_categorical_accuracy: 0.5455\n",
            "Epoch 5/10\n",
            "5/5 [==============================] - 0s 58ms/step - loss: 0.8821 - categorical_accuracy: 0.5133 - val_loss: 0.8087 - val_categorical_accuracy: 0.5455\n",
            "Epoch 6/10\n",
            "5/5 [==============================] - 0s 60ms/step - loss: 0.8801 - categorical_accuracy: 0.5361 - val_loss: 0.8015 - val_categorical_accuracy: 0.5455\n",
            "Epoch 7/10\n",
            "5/5 [==============================] - 0s 67ms/step - loss: 0.8883 - categorical_accuracy: 0.4715 - val_loss: 0.8010 - val_categorical_accuracy: 0.5455\n",
            "Epoch 8/10\n",
            "5/5 [==============================] - 0s 58ms/step - loss: 0.8891 - categorical_accuracy: 0.4601 - val_loss: 0.8027 - val_categorical_accuracy: 0.5455\n",
            "Epoch 9/10\n",
            "5/5 [==============================] - 0s 58ms/step - loss: 0.8884 - categorical_accuracy: 0.5095 - val_loss: 0.8003 - val_categorical_accuracy: 0.5455\n",
            "Epoch 10/10\n",
            "5/5 [==============================] - 0s 60ms/step - loss: 0.8904 - categorical_accuracy: 0.4525 - val_loss: 0.7968 - val_categorical_accuracy: 0.5455\n",
            "fold number:  3\n",
            "Epoch 1/10\n",
            "5/5 [==============================] - 0s 78ms/step - loss: 0.8595 - categorical_accuracy: 0.4886 - val_loss: 0.8380 - val_categorical_accuracy: 0.5496\n",
            "Epoch 2/10\n",
            "5/5 [==============================] - 0s 59ms/step - loss: 0.8727 - categorical_accuracy: 0.5227 - val_loss: 0.8370 - val_categorical_accuracy: 0.5496\n",
            "Epoch 3/10\n",
            "5/5 [==============================] - 0s 58ms/step - loss: 0.8585 - categorical_accuracy: 0.4886 - val_loss: 0.8368 - val_categorical_accuracy: 0.5496\n",
            "Epoch 4/10\n",
            "5/5 [==============================] - 0s 58ms/step - loss: 0.8444 - categorical_accuracy: 0.5265 - val_loss: 0.8369 - val_categorical_accuracy: 0.5496\n",
            "Epoch 5/10\n",
            "5/5 [==============================] - 0s 61ms/step - loss: 0.8660 - categorical_accuracy: 0.5076 - val_loss: 0.8369 - val_categorical_accuracy: 0.5496\n",
            "Epoch 6/10\n",
            "5/5 [==============================] - 0s 59ms/step - loss: 0.8473 - categorical_accuracy: 0.4848 - val_loss: 0.8366 - val_categorical_accuracy: 0.5496\n",
            "Epoch 7/10\n",
            "5/5 [==============================] - 0s 60ms/step - loss: 0.8412 - categorical_accuracy: 0.5189 - val_loss: 0.8361 - val_categorical_accuracy: 0.5496\n",
            "Epoch 8/10\n",
            "5/5 [==============================] - 0s 58ms/step - loss: 0.8397 - categorical_accuracy: 0.5152 - val_loss: 0.8362 - val_categorical_accuracy: 0.5496\n",
            "Epoch 9/10\n",
            "5/5 [==============================] - 0s 58ms/step - loss: 0.8101 - categorical_accuracy: 0.5379 - val_loss: 0.8364 - val_categorical_accuracy: 0.5496\n",
            "Epoch 10/10\n",
            "5/5 [==============================] - 0s 76ms/step - loss: 0.8566 - categorical_accuracy: 0.4811 - val_loss: 0.8369 - val_categorical_accuracy: 0.5496\n"
          ],
          "name": "stdout"
        }
      ]
    },
    {
      "cell_type": "markdown",
      "metadata": {
        "id": "wJ1XXAYlnci7"
      },
      "source": [
        "We tried to plot learning curves for both validation and training data on Catergorical Crossentropy as well as for Catergorical Accuracy."
      ]
    },
    {
      "cell_type": "code",
      "metadata": {
        "id": "k4UyWMRb8bR0",
        "outputId": "c3177be9-a405-4cbc-d0e7-03dbff9e3c53",
        "colab": {
          "base_uri": "https://localhost:8080/",
          "height": 283
        }
      },
      "source": [
        "plotter(m_histories, ylim=[0.0, 2], metric = 'loss')"
      ],
      "execution_count": 92,
      "outputs": [
        {
          "output_type": "display_data",
          "data": {
            "image/png": "[encoded data removed]",
            "text/plain": [
              "<Figure size 432x288 with 1 Axes>"
            ]
          },
          "metadata": {
            "tags": [],
            "needs_background": "light"
          }
        }
      ]
    },
    {
      "cell_type": "code",
      "metadata": {
        "id": "_oDk2zYT8bR5",
        "outputId": "b583243a-bcfa-4d7f-e37c-7165ff0eaf74",
        "colab": {
          "base_uri": "https://localhost:8080/",
          "height": 278
        }
      },
      "source": [
        "plotter(m_histories, ylim=[0.0, 1.1], metric = 'categorical_accuracy')"
      ],
      "execution_count": 93,
      "outputs": [
        {
          "output_type": "display_data",
          "data": {
            "image/png": "[encoded data removed]",
            "text/plain": [
              "<Figure size 432x288 with 1 Axes>"
            ]
          },
          "metadata": {
            "tags": [],
            "needs_background": "light"
          }
        }
      ]
    },
    {
      "cell_type": "markdown",
      "metadata": {
        "id": "UECckmdJ8bR8"
      },
      "source": [
        "**With Transfer Learning**"
      ]
    },
    {
      "cell_type": "code",
      "metadata": {
        "id": "R1zde7Ff8bR9",
        "outputId": "951969c3-1d40-4bb8-b004-1c88c4d2b938",
        "colab": {
          "base_uri": "https://localhost:8080/"
        }
      },
      "source": [
        "E_T = np.zeros((len(word_index)+1, embedding_dim))\n",
        "for word, i in word_index.items():\n",
        "    embedding_vector = glove_vectors.get(word)\n",
        "    if embedding_vector is not None:  \n",
        "        E_T[i] = embedding_vector\n",
        "\n",
        "E_T.size"
      ],
      "execution_count": 94,
      "outputs": [
        {
          "output_type": "execute_result",
          "data": {
            "text/plain": [
              "228200"
            ]
          },
          "metadata": {
            "tags": []
          },
          "execution_count": 94
        }
      ]
    },
    {
      "cell_type": "code",
      "metadata": {
        "id": "EUUCG7408bSA",
        "outputId": "849fc709-1eb9-4551-d170-f611e8f6f576",
        "colab": {
          "base_uri": "https://localhost:8080/"
        }
      },
      "source": [
        "embedding_layer_TL = Embedding(len(word_index)+1,\n",
        "                                embedding_dim,\n",
        "                                weights=[E_T],\n",
        "                                input_length=MAX_LENGTH,\n",
        "                                trainable=False)\n",
        "model = create_model(embedding_layer_TL)\n",
        "print(model.summary())"
      ],
      "execution_count": 95,
      "outputs": [
        {
          "output_type": "stream",
          "text": [
            "Model: \"sequential_8\"\n",
            "_________________________________________________________________\n",
            "Layer (type)                 Output Shape              Param #   \n",
            "=================================================================\n",
            "embedding_8 (Embedding)      (None, 40, 100)           228200    \n",
            "_________________________________________________________________\n",
            "lstm_8 (LSTM)                (None, 32)                17024     \n",
            "_________________________________________________________________\n",
            "dropout_16 (Dropout)         (None, 32)                0         \n",
            "_________________________________________________________________\n",
            "dense_16 (Dense)             (None, 64)                2112      \n",
            "_________________________________________________________________\n",
            "dropout_17 (Dropout)         (None, 64)                0         \n",
            "_________________________________________________________________\n",
            "dense_17 (Dense)             (None, 3)                 195       \n",
            "=================================================================\n",
            "Total params: 247,531\n",
            "Trainable params: 19,331\n",
            "Non-trainable params: 228,200\n",
            "_________________________________________________________________\n",
            "None\n"
          ],
          "name": "stdout"
        }
      ]
    },
    {
      "cell_type": "code",
      "metadata": {
        "id": "zQ3UShmz8bSG",
        "outputId": "5e652831-b99c-4ca8-e767-8bc443d723e4",
        "colab": {
          "base_uri": "https://localhost:8080/"
        }
      },
      "source": [
        "m_histories['with_TL'] = model.fit(X_train, Y_train, batch_size=64, epochs=50, validation_data=(X_Val, Y_Val), callbacks=get_callbacks('models/with_TL'), verbose=1)   "
      ],
      "execution_count": 96,
      "outputs": [
        {
          "output_type": "stream",
          "text": [
            "Epoch 1/50\n",
            "2/5 [===========>..................] - ETA: 0s - loss: 1.0965 - categorical_accuracy: 0.3906WARNING:tensorflow:Callbacks method `on_train_batch_end` is slow compared to the batch time (batch time: 0.0636s vs `on_train_batch_end` time: 0.3895s). Check your callbacks.\n",
            "5/5 [==============================] - 1s 197ms/step - loss: 1.0914 - categorical_accuracy: 0.4272 - val_loss: 1.0788 - val_categorical_accuracy: 0.4937\n",
            "Epoch 2/50\n",
            "5/5 [==============================] - 0s 58ms/step - loss: 1.0683 - categorical_accuracy: 0.4937 - val_loss: 1.0512 - val_categorical_accuracy: 0.4937\n",
            "Epoch 3/50\n",
            "5/5 [==============================] - 0s 53ms/step - loss: 1.0334 - categorical_accuracy: 0.4494 - val_loss: 1.0002 - val_categorical_accuracy: 0.4937\n",
            "Epoch 4/50\n",
            "5/5 [==============================] - 0s 53ms/step - loss: 0.9554 - categorical_accuracy: 0.5380 - val_loss: 0.9201 - val_categorical_accuracy: 0.4937\n",
            "Epoch 5/50\n",
            "5/5 [==============================] - 0s 55ms/step - loss: 0.9249 - categorical_accuracy: 0.4684 - val_loss: 0.8957 - val_categorical_accuracy: 0.4430\n",
            "Epoch 6/50\n",
            "5/5 [==============================] - 0s 55ms/step - loss: 0.9155 - categorical_accuracy: 0.4652 - val_loss: 0.9052 - val_categorical_accuracy: 0.4430\n",
            "Epoch 7/50\n",
            "5/5 [==============================] - 0s 56ms/step - loss: 0.8709 - categorical_accuracy: 0.5158 - val_loss: 0.9086 - val_categorical_accuracy: 0.4430\n",
            "Epoch 8/50\n",
            "5/5 [==============================] - 0s 55ms/step - loss: 0.8805 - categorical_accuracy: 0.5222 - val_loss: 0.9076 - val_categorical_accuracy: 0.4430\n",
            "Epoch 9/50\n",
            "5/5 [==============================] - 0s 55ms/step - loss: 0.8734 - categorical_accuracy: 0.5348 - val_loss: 0.9055 - val_categorical_accuracy: 0.4430\n",
            "Epoch 10/50\n",
            "5/5 [==============================] - 0s 53ms/step - loss: 0.8507 - categorical_accuracy: 0.5158 - val_loss: 0.9038 - val_categorical_accuracy: 0.4430\n",
            "Epoch 11/50\n",
            "5/5 [==============================] - 0s 54ms/step - loss: 0.8635 - categorical_accuracy: 0.5190 - val_loss: 0.9041 - val_categorical_accuracy: 0.4430\n",
            "Epoch 12/50\n",
            "5/5 [==============================] - 0s 54ms/step - loss: 0.8658 - categorical_accuracy: 0.4905 - val_loss: 0.9038 - val_categorical_accuracy: 0.4430\n",
            "Epoch 13/50\n",
            "5/5 [==============================] - 0s 54ms/step - loss: 0.8504 - categorical_accuracy: 0.5443 - val_loss: 0.9075 - val_categorical_accuracy: 0.4430\n",
            "Epoch 14/50\n",
            "5/5 [==============================] - 0s 55ms/step - loss: 0.8614 - categorical_accuracy: 0.5032 - val_loss: 0.9080 - val_categorical_accuracy: 0.4430\n",
            "Epoch 15/50\n",
            "5/5 [==============================] - 0s 54ms/step - loss: 0.8682 - categorical_accuracy: 0.5285 - val_loss: 0.9057 - val_categorical_accuracy: 0.4430\n",
            "Epoch 16/50\n",
            "5/5 [==============================] - 0s 55ms/step - loss: 0.8393 - categorical_accuracy: 0.5158 - val_loss: 0.9053 - val_categorical_accuracy: 0.4430\n",
            "Epoch 17/50\n",
            "5/5 [==============================] - 0s 55ms/step - loss: 0.8468 - categorical_accuracy: 0.5380 - val_loss: 0.9087 - val_categorical_accuracy: 0.4430\n",
            "Epoch 18/50\n",
            "5/5 [==============================] - 0s 58ms/step - loss: 0.8538 - categorical_accuracy: 0.5158 - val_loss: 0.9117 - val_categorical_accuracy: 0.4430\n",
            "Epoch 19/50\n",
            "5/5 [==============================] - 0s 54ms/step - loss: 0.8441 - categorical_accuracy: 0.5222 - val_loss: 0.9100 - val_categorical_accuracy: 0.4430\n",
            "Epoch 20/50\n",
            "5/5 [==============================] - 0s 55ms/step - loss: 0.8456 - categorical_accuracy: 0.5000 - val_loss: 0.9053 - val_categorical_accuracy: 0.4430\n",
            "Epoch 21/50\n",
            "5/5 [==============================] - 0s 57ms/step - loss: 0.8129 - categorical_accuracy: 0.5380 - val_loss: 0.9065 - val_categorical_accuracy: 0.4430\n",
            "Epoch 22/50\n",
            "5/5 [==============================] - 0s 56ms/step - loss: 0.8311 - categorical_accuracy: 0.5380 - val_loss: 0.9085 - val_categorical_accuracy: 0.4430\n",
            "Epoch 23/50\n",
            "5/5 [==============================] - 0s 53ms/step - loss: 0.8211 - categorical_accuracy: 0.5538 - val_loss: 0.9104 - val_categorical_accuracy: 0.4430\n",
            "Epoch 24/50\n",
            "5/5 [==============================] - 0s 59ms/step - loss: 0.8021 - categorical_accuracy: 0.5759 - val_loss: 0.9153 - val_categorical_accuracy: 0.4430\n",
            "Epoch 25/50\n",
            "5/5 [==============================] - 0s 55ms/step - loss: 0.8124 - categorical_accuracy: 0.5601 - val_loss: 0.9186 - val_categorical_accuracy: 0.4430\n",
            "Epoch 26/50\n",
            "5/5 [==============================] - 0s 56ms/step - loss: 0.8499 - categorical_accuracy: 0.5253 - val_loss: 0.9117 - val_categorical_accuracy: 0.4430\n",
            "Epoch 27/50\n",
            "5/5 [==============================] - 0s 54ms/step - loss: 0.8183 - categorical_accuracy: 0.5728 - val_loss: 0.9116 - val_categorical_accuracy: 0.4430\n",
            "Epoch 28/50\n",
            "5/5 [==============================] - 0s 54ms/step - loss: 0.8346 - categorical_accuracy: 0.5222 - val_loss: 0.9099 - val_categorical_accuracy: 0.4430\n",
            "Epoch 29/50\n",
            "5/5 [==============================] - 0s 54ms/step - loss: 0.8130 - categorical_accuracy: 0.5759 - val_loss: 0.9137 - val_categorical_accuracy: 0.4430\n",
            "Epoch 30/50\n",
            "5/5 [==============================] - 0s 57ms/step - loss: 0.8292 - categorical_accuracy: 0.5127 - val_loss: 0.9000 - val_categorical_accuracy: 0.4430\n",
            "Epoch 31/50\n",
            "5/5 [==============================] - 0s 54ms/step - loss: 0.8214 - categorical_accuracy: 0.5506 - val_loss: 0.8979 - val_categorical_accuracy: 0.4430\n",
            "Epoch 32/50\n",
            "5/5 [==============================] - 0s 55ms/step - loss: 0.7982 - categorical_accuracy: 0.5949 - val_loss: 0.9194 - val_categorical_accuracy: 0.4430\n",
            "Epoch 33/50\n",
            "5/5 [==============================] - 0s 54ms/step - loss: 0.8008 - categorical_accuracy: 0.5158 - val_loss: 0.9253 - val_categorical_accuracy: 0.4430\n",
            "Epoch 34/50\n",
            "5/5 [==============================] - 0s 56ms/step - loss: 0.7913 - categorical_accuracy: 0.5475 - val_loss: 0.9263 - val_categorical_accuracy: 0.4430\n",
            "Epoch 35/50\n",
            "5/5 [==============================] - 0s 54ms/step - loss: 0.7627 - categorical_accuracy: 0.5633 - val_loss: 0.9504 - val_categorical_accuracy: 0.4430\n",
            "Epoch 36/50\n",
            "5/5 [==============================] - 0s 54ms/step - loss: 0.7866 - categorical_accuracy: 0.5601 - val_loss: 0.9444 - val_categorical_accuracy: 0.4430\n",
            "Epoch 37/50\n",
            "5/5 [==============================] - 0s 56ms/step - loss: 0.7639 - categorical_accuracy: 0.5601 - val_loss: 0.9401 - val_categorical_accuracy: 0.4430\n",
            "Epoch 38/50\n",
            "5/5 [==============================] - 0s 54ms/step - loss: 0.7779 - categorical_accuracy: 0.5475 - val_loss: 0.9335 - val_categorical_accuracy: 0.4430\n",
            "Epoch 39/50\n",
            "5/5 [==============================] - 0s 56ms/step - loss: 0.7743 - categorical_accuracy: 0.5443 - val_loss: 0.9258 - val_categorical_accuracy: 0.4430\n",
            "Epoch 40/50\n",
            "5/5 [==============================] - 0s 55ms/step - loss: 0.7768 - categorical_accuracy: 0.5696 - val_loss: 0.9318 - val_categorical_accuracy: 0.4304\n",
            "Epoch 41/50\n",
            "5/5 [==============================] - 0s 53ms/step - loss: 0.7710 - categorical_accuracy: 0.5728 - val_loss: 0.9389 - val_categorical_accuracy: 0.4430\n",
            "Epoch 42/50\n",
            "5/5 [==============================] - 0s 56ms/step - loss: 0.7644 - categorical_accuracy: 0.5475 - val_loss: 0.9705 - val_categorical_accuracy: 0.4430\n",
            "Epoch 43/50\n",
            "5/5 [==============================] - 0s 54ms/step - loss: 0.7845 - categorical_accuracy: 0.5791 - val_loss: 0.9259 - val_categorical_accuracy: 0.4430\n",
            "Epoch 44/50\n",
            "5/5 [==============================] - 0s 54ms/step - loss: 0.7601 - categorical_accuracy: 0.5538 - val_loss: 0.9279 - val_categorical_accuracy: 0.4557\n",
            "Epoch 45/50\n",
            "5/5 [==============================] - 0s 55ms/step - loss: 0.7568 - categorical_accuracy: 0.5443 - val_loss: 0.9679 - val_categorical_accuracy: 0.4557\n",
            "Epoch 46/50\n",
            "5/5 [==============================] - 0s 55ms/step - loss: 0.7734 - categorical_accuracy: 0.5696 - val_loss: 0.9848 - val_categorical_accuracy: 0.4684\n",
            "Epoch 47/50\n",
            "5/5 [==============================] - 0s 53ms/step - loss: 0.7669 - categorical_accuracy: 0.5791 - val_loss: 1.0039 - val_categorical_accuracy: 0.4684\n",
            "Epoch 48/50\n",
            "5/5 [==============================] - 0s 63ms/step - loss: 0.7654 - categorical_accuracy: 0.5886 - val_loss: 1.0316 - val_categorical_accuracy: 0.4684\n",
            "Epoch 49/50\n",
            "5/5 [==============================] - 0s 54ms/step - loss: 0.7400 - categorical_accuracy: 0.5759 - val_loss: 0.9390 - val_categorical_accuracy: 0.4937\n",
            "Epoch 50/50\n",
            "5/5 [==============================] - 0s 59ms/step - loss: 0.7432 - categorical_accuracy: 0.5981 - val_loss: 0.9711 - val_categorical_accuracy: 0.5063\n"
          ],
          "name": "stdout"
        }
      ]
    },
    {
      "cell_type": "code",
      "metadata": {
        "id": "WguOykzO8bSJ",
        "outputId": "56025aeb-a262-4c64-d76a-c3fb966a4db7",
        "colab": {
          "base_uri": "https://localhost:8080/",
          "height": 283
        }
      },
      "source": [
        "plotter(m_histories, ylim=[0.0, 2], metric = 'loss')"
      ],
      "execution_count": 97,
      "outputs": [
        {
          "output_type": "display_data",
          "data": {
            "image/png": "[encoded data removed]",
            "text/plain": [
              "<Figure size 432x288 with 1 Axes>"
            ]
          },
          "metadata": {
            "tags": [],
            "needs_background": "light"
          }
        }
      ]
    },
    {
      "cell_type": "code",
      "metadata": {
        "id": "ncdHtLRR8bSM",
        "outputId": "c182f090-3cb7-4994-cb33-c9e798bcff72",
        "colab": {
          "base_uri": "https://localhost:8080/",
          "height": 278
        }
      },
      "source": [
        "plotter(m_histories, ylim=[0.0, 1.1], metric = 'categorical_accuracy')"
      ],
      "execution_count": 98,
      "outputs": [
        {
          "output_type": "display_data",
          "data": {
            "image/png": "[encoded data removed]",
            "text/plain": [
              "<Figure size 432x288 with 1 Axes>"
            ]
          },
          "metadata": {
            "tags": [],
            "needs_background": "light"
          }
        }
      ]
    },
    {
      "cell_type": "markdown",
      "metadata": {
        "id": "eHma85Nt9Kky"
      },
      "source": [
        "# **5. Modelling for tweets related to target: Feminist Movement**"
      ]
    },
    {
      "cell_type": "markdown",
      "metadata": {
        "id": "MZJsHUrUn5kE"
      },
      "source": [
        "First we check the preprocessed tweet data for target Feminist Movement"
      ]
    },
    {
      "cell_type": "code",
      "metadata": {
        "id": "FYn6HtDB9Kk1",
        "outputId": "ff7c03dc-a9d9-41bb-cf79-8cef570de348",
        "colab": {
          "base_uri": "https://localhost:8080/"
        }
      },
      "source": [
        "Tweets_FM[:1]"
      ],
      "execution_count": 99,
      "outputs": [
        {
          "output_type": "execute_result",
          "data": {
            "text/plain": [
              "[['always',\n",
              "  'delight',\n",
              "  'see',\n",
              "  'chestdrumming',\n",
              "  'alpha',\n",
              "  'males',\n",
              "  'hiss',\n",
              "  'scuttle',\n",
              "  'backwards',\n",
              "  'wall',\n",
              "  'feminist',\n",
              "  'enters',\n",
              "  'room',\n",
              "  '#manly',\n",
              "  '#semst',\n",
              "  'feminist',\n",
              "  'movement']]"
            ]
          },
          "metadata": {
            "tags": []
          },
          "execution_count": 99
        }
      ]
    },
    {
      "cell_type": "markdown",
      "metadata": {
        "id": "YU47Y2Hcn5kL"
      },
      "source": [
        "The next step is to call method padding which will tokenize the tweets and pad them with max length of 40."
      ]
    },
    {
      "cell_type": "code",
      "metadata": {
        "id": "o9SjnDsq9Kk7",
        "outputId": "9f918fbb-beb8-46cb-90c9-ea3431aee2d0",
        "colab": {
          "base_uri": "https://localhost:8080/"
        }
      },
      "source": [
        "X, word_index = Padding(Tweets_FM)\n",
        "Y = pd.get_dummies(traindata_FM['Stance']).values\n",
        "print('Shape of label tensor:', Y.shape)"
      ],
      "execution_count": 100,
      "outputs": [
        {
          "output_type": "stream",
          "text": [
            "Found 3031 unique tokens.\n",
            "Shape of data tensor: (664, 40)\n",
            "Shape of label tensor: (664, 3)\n"
          ],
          "name": "stdout"
        }
      ]
    },
    {
      "cell_type": "markdown",
      "metadata": {
        "id": "pXakGexWn5kN"
      },
      "source": [
        "The next step is to split the above data into training and validation. We are using above mentioned split() method by passing 0.2 as a split size which means 20% of the data is reserved for validation and remaining 80% data is used for training the model."
      ]
    },
    {
      "cell_type": "code",
      "metadata": {
        "id": "VPEWZ2rc9Kk9",
        "outputId": "5a4f083a-f87d-488c-d23a-d1379dfb7782",
        "colab": {
          "base_uri": "https://localhost:8080/"
        }
      },
      "source": [
        "X_train, X_Val, Y_train, Y_Val = split(X, Y, 0.2)\n",
        "print(\"X train shape: \", X_train.shape)\n",
        "print(\"Y train shape: \", Y_train.shape)\n",
        "print(\"X Val shape: \", X_Val.shape)\n",
        "print(\"Y Val shape: \", Y_Val.shape)"
      ],
      "execution_count": 101,
      "outputs": [
        {
          "output_type": "stream",
          "text": [
            "X train shape:  (531, 40)\n",
            "Y train shape:  (531, 3)\n",
            "X Val shape:  (133, 40)\n",
            "Y Val shape:  (133, 3)\n"
          ],
          "name": "stdout"
        }
      ]
    },
    {
      "cell_type": "markdown",
      "metadata": {
        "id": "sWfMQLKi9KlA"
      },
      "source": [
        "**Without Transfer Learning**"
      ]
    },
    {
      "cell_type": "code",
      "metadata": {
        "id": "uy4Jr0-H9KlA",
        "outputId": "ff308a5e-93ab-4409-c63c-38f7ffede039",
        "colab": {
          "base_uri": "https://localhost:8080/"
        }
      },
      "source": [
        "embedding_layer = Embedding(len(word_index)+1,\n",
        "                                   embedding_dim,\n",
        "                                   input_length=MAX_LENGTH,\n",
        "                                   trainable=True)\n",
        "model = create_model(embedding_layer)\n",
        "print(model.summary())"
      ],
      "execution_count": 102,
      "outputs": [
        {
          "output_type": "stream",
          "text": [
            "Model: \"sequential_9\"\n",
            "_________________________________________________________________\n",
            "Layer (type)                 Output Shape              Param #   \n",
            "=================================================================\n",
            "embedding_9 (Embedding)      (None, 40, 100)           303200    \n",
            "_________________________________________________________________\n",
            "lstm_9 (LSTM)                (None, 32)                17024     \n",
            "_________________________________________________________________\n",
            "dropout_18 (Dropout)         (None, 32)                0         \n",
            "_________________________________________________________________\n",
            "dense_18 (Dense)             (None, 64)                2112      \n",
            "_________________________________________________________________\n",
            "dropout_19 (Dropout)         (None, 64)                0         \n",
            "_________________________________________________________________\n",
            "dense_19 (Dense)             (None, 3)                 195       \n",
            "=================================================================\n",
            "Total params: 322,531\n",
            "Trainable params: 322,531\n",
            "Non-trainable params: 0\n",
            "_________________________________________________________________\n",
            "None\n"
          ],
          "name": "stdout"
        }
      ]
    },
    {
      "cell_type": "markdown",
      "metadata": {
        "id": "ansOZNmNn5kP"
      },
      "source": [
        "As we have less amount of data available for training, we are using K-fold cross validation technique to train our model for 50 epochs in each of the 3 folds.\n",
        "The batch size is set to 64 and we trained the data for 50 epochs and 3 folds.\n",
        "\n",
        "From the below output we can see that the model achieved categorical accuracy of about 74% on the validation data set.\n",
        "\n",
        "To check the learning curve of the training and validation we plot the grphs using plotter function mentioned above."
      ]
    },
    {
      "cell_type": "code",
      "metadata": {
        "id": "kVHihgjs9KlD",
        "outputId": "8a23fb7c-074f-44a7-8238-73c830f05455",
        "colab": {
          "base_uri": "https://localhost:8080/"
        }
      },
      "source": [
        "from sklearn.model_selection import KFold\n",
        "num_folds = 3\n",
        "input = np.concatenate((X_train, X_Val), axis= 0)\n",
        "target = np.concatenate((Y_train, Y_Val), axis= 0)\n",
        "\n",
        "kfold = KFold(n_splits=num_folds, shuffle=True)\n",
        "K = 1\n",
        "for train, test in kfold.split(input, target):\n",
        "    print(\"fold number: \", K)\n",
        "    m_histories = {}\n",
        "    m_histories['with_TL'] = model.fit(input[train], target[train], batch_size=64, epochs=10, validation_data=(input[test], target[test]), callbacks=get_callbacks('models/with_TL'), verbose=1)\n",
        "    K = K+1"
      ],
      "execution_count": 103,
      "outputs": [
        {
          "output_type": "stream",
          "text": [
            "fold number:  1\n",
            "Epoch 1/10\n",
            "2/7 [=======>......................] - ETA: 1s - loss: 1.0858 - categorical_accuracy: 0.3906WARNING:tensorflow:Callbacks method `on_train_batch_end` is slow compared to the batch time (batch time: 0.0744s vs `on_train_batch_end` time: 0.5123s). Check your callbacks.\n",
            "7/7 [==============================] - 1s 191ms/step - loss: 1.0716 - categorical_accuracy: 0.4502 - val_loss: 1.0626 - val_categorical_accuracy: 0.4820\n",
            "Epoch 2/10\n",
            "7/7 [==============================] - 0s 66ms/step - loss: 1.0479 - categorical_accuracy: 0.4819 - val_loss: 1.0482 - val_categorical_accuracy: 0.4820\n",
            "Epoch 3/10\n",
            "7/7 [==============================] - 0s 64ms/step - loss: 1.0653 - categorical_accuracy: 0.4796 - val_loss: 1.0481 - val_categorical_accuracy: 0.4820\n",
            "Epoch 4/10\n",
            "7/7 [==============================] - 0s 69ms/step - loss: 1.0505 - categorical_accuracy: 0.4683 - val_loss: 1.0488 - val_categorical_accuracy: 0.4820\n",
            "Epoch 5/10\n",
            "7/7 [==============================] - 0s 64ms/step - loss: 1.0448 - categorical_accuracy: 0.4751 - val_loss: 1.0497 - val_categorical_accuracy: 0.4820\n",
            "Epoch 6/10\n",
            "7/7 [==============================] - 0s 65ms/step - loss: 1.0412 - categorical_accuracy: 0.5000 - val_loss: 1.0503 - val_categorical_accuracy: 0.4820\n",
            "Epoch 7/10\n",
            "7/7 [==============================] - 0s 65ms/step - loss: 1.0248 - categorical_accuracy: 0.5000 - val_loss: 1.0490 - val_categorical_accuracy: 0.4820\n",
            "Epoch 8/10\n",
            "7/7 [==============================] - 0s 71ms/step - loss: 1.0272 - categorical_accuracy: 0.4977 - val_loss: 1.0497 - val_categorical_accuracy: 0.4820\n",
            "Epoch 9/10\n",
            "7/7 [==============================] - 0s 68ms/step - loss: 1.0335 - categorical_accuracy: 0.4955 - val_loss: 1.0497 - val_categorical_accuracy: 0.4820\n",
            "Epoch 10/10\n",
            "7/7 [==============================] - 0s 68ms/step - loss: 1.0196 - categorical_accuracy: 0.4842 - val_loss: 1.0498 - val_categorical_accuracy: 0.4820\n",
            "fold number:  2\n",
            "Epoch 1/10\n",
            "2/7 [=======>......................] - ETA: 0s - loss: 1.0396 - categorical_accuracy: 0.4609WARNING:tensorflow:Callbacks method `on_train_batch_end` is slow compared to the batch time (batch time: 0.0670s vs `on_train_batch_end` time: 0.1253s). Check your callbacks.\n",
            "7/7 [==============================] - 1s 90ms/step - loss: 1.0261 - categorical_accuracy: 0.4989 - val_loss: 1.0335 - val_categorical_accuracy: 0.4661\n",
            "Epoch 2/10\n",
            "7/7 [==============================] - 0s 67ms/step - loss: 1.0435 - categorical_accuracy: 0.5056 - val_loss: 1.0343 - val_categorical_accuracy: 0.4661\n",
            "Epoch 3/10\n",
            "7/7 [==============================] - 0s 67ms/step - loss: 1.0403 - categorical_accuracy: 0.5079 - val_loss: 1.0378 - val_categorical_accuracy: 0.4661\n",
            "Epoch 4/10\n",
            "7/7 [==============================] - 0s 64ms/step - loss: 1.0375 - categorical_accuracy: 0.5079 - val_loss: 1.0384 - val_categorical_accuracy: 0.4661\n",
            "Epoch 5/10\n",
            "7/7 [==============================] - 0s 66ms/step - loss: 1.0348 - categorical_accuracy: 0.5056 - val_loss: 1.0365 - val_categorical_accuracy: 0.4661\n",
            "Epoch 6/10\n",
            "7/7 [==============================] - 0s 66ms/step - loss: 1.0350 - categorical_accuracy: 0.5079 - val_loss: 1.0366 - val_categorical_accuracy: 0.4661\n",
            "Epoch 7/10\n",
            "7/7 [==============================] - 0s 71ms/step - loss: 1.0355 - categorical_accuracy: 0.5079 - val_loss: 1.0368 - val_categorical_accuracy: 0.4661\n",
            "Epoch 8/10\n",
            "7/7 [==============================] - 0s 66ms/step - loss: 1.0369 - categorical_accuracy: 0.5079 - val_loss: 1.0368 - val_categorical_accuracy: 0.4661\n",
            "Epoch 9/10\n",
            "7/7 [==============================] - 0s 67ms/step - loss: 1.0313 - categorical_accuracy: 0.5079 - val_loss: 1.0366 - val_categorical_accuracy: 0.4661\n",
            "Epoch 10/10\n",
            "7/7 [==============================] - 0s 66ms/step - loss: 1.0340 - categorical_accuracy: 0.5079 - val_loss: 1.0375 - val_categorical_accuracy: 0.4661\n",
            "fold number:  3\n",
            "Epoch 1/10\n",
            "2/7 [=======>......................] - ETA: 0s - loss: 1.0414 - categorical_accuracy: 0.4688WARNING:tensorflow:Callbacks method `on_train_batch_end` is slow compared to the batch time (batch time: 0.0640s vs `on_train_batch_end` time: 0.0979s). Check your callbacks.\n",
            "7/7 [==============================] - 1s 85ms/step - loss: 1.0500 - categorical_accuracy: 0.4740 - val_loss: 1.0070 - val_categorical_accuracy: 0.5339\n",
            "Epoch 2/10\n",
            "7/7 [==============================] - 0s 66ms/step - loss: 1.0512 - categorical_accuracy: 0.4740 - val_loss: 1.0092 - val_categorical_accuracy: 0.5339\n",
            "Epoch 3/10\n",
            "7/7 [==============================] - 0s 67ms/step - loss: 1.0454 - categorical_accuracy: 0.4740 - val_loss: 1.0110 - val_categorical_accuracy: 0.5339\n",
            "Epoch 4/10\n",
            "7/7 [==============================] - 0s 67ms/step - loss: 1.0439 - categorical_accuracy: 0.4718 - val_loss: 1.0092 - val_categorical_accuracy: 0.5339\n",
            "Epoch 5/10\n",
            "7/7 [==============================] - 1s 75ms/step - loss: 1.0422 - categorical_accuracy: 0.4740 - val_loss: 1.0054 - val_categorical_accuracy: 0.5339\n",
            "Epoch 6/10\n",
            "7/7 [==============================] - 0s 67ms/step - loss: 1.0410 - categorical_accuracy: 0.4718 - val_loss: 0.9915 - val_categorical_accuracy: 0.5339\n",
            "Epoch 7/10\n",
            "7/7 [==============================] - 0s 71ms/step - loss: 1.0281 - categorical_accuracy: 0.4740 - val_loss: 0.9336 - val_categorical_accuracy: 0.5339\n",
            "Epoch 8/10\n",
            "7/7 [==============================] - 0s 66ms/step - loss: 0.8838 - categorical_accuracy: 0.4740 - val_loss: 0.7334 - val_categorical_accuracy: 0.5339\n",
            "Epoch 9/10\n",
            "7/7 [==============================] - 0s 66ms/step - loss: 0.7850 - categorical_accuracy: 0.5982 - val_loss: 0.7601 - val_categorical_accuracy: 0.6471\n",
            "Epoch 10/10\n",
            "7/7 [==============================] - 0s 64ms/step - loss: 0.6680 - categorical_accuracy: 0.6591 - val_loss: 0.7443 - val_categorical_accuracy: 0.6697\n"
          ],
          "name": "stdout"
        }
      ]
    },
    {
      "cell_type": "markdown",
      "metadata": {
        "id": "sYFP3QnVn5kQ"
      },
      "source": [
        "We tried to plot learning curves for both validation and training data on Catergorical Crossentropy as well as for Catergorical Accuracy."
      ]
    },
    {
      "cell_type": "code",
      "metadata": {
        "id": "HVUf2S6n9KlF",
        "outputId": "f7dea780-ce2f-4a84-bcc9-c65dd5e2d472",
        "colab": {
          "base_uri": "https://localhost:8080/",
          "height": 283
        }
      },
      "source": [
        "plotter(m_histories, ylim=[0.0, 2], metric = 'loss')"
      ],
      "execution_count": 104,
      "outputs": [
        {
          "output_type": "display_data",
          "data": {
            "image/png": "[encoded data removed]",
            "text/plain": [
              "<Figure size 432x288 with 1 Axes>"
            ]
          },
          "metadata": {
            "tags": [],
            "needs_background": "light"
          }
        }
      ]
    },
    {
      "cell_type": "code",
      "metadata": {
        "id": "Hm7kDRrd9KlI",
        "outputId": "172428fa-f682-4390-b9ee-d89f197aeedd",
        "colab": {
          "base_uri": "https://localhost:8080/",
          "height": 278
        }
      },
      "source": [
        "plotter(m_histories, ylim=[0.0, 1.1], metric = 'categorical_accuracy')"
      ],
      "execution_count": 105,
      "outputs": [
        {
          "output_type": "display_data",
          "data": {
            "image/png": "[encoded data removed]",
            "text/plain": [
              "<Figure size 432x288 with 1 Axes>"
            ]
          },
          "metadata": {
            "tags": [],
            "needs_background": "light"
          }
        }
      ]
    },
    {
      "cell_type": "markdown",
      "metadata": {
        "id": "yks4widM9KlK"
      },
      "source": [
        "**With Transfer Learning**"
      ]
    },
    {
      "cell_type": "code",
      "metadata": {
        "id": "EBaBIA269KlK",
        "outputId": "6a78d350-b3fc-4d33-abb7-c19dd5dd0565",
        "colab": {
          "base_uri": "https://localhost:8080/"
        }
      },
      "source": [
        "E_T = np.zeros((len(word_index)+1, embedding_dim))\n",
        "for word, i in word_index.items():\n",
        "    embedding_vector = glove_vectors.get(word)\n",
        "    if embedding_vector is not None:  \n",
        "        E_T[i] = embedding_vector\n",
        "\n",
        "E_T.size"
      ],
      "execution_count": 106,
      "outputs": [
        {
          "output_type": "execute_result",
          "data": {
            "text/plain": [
              "303200"
            ]
          },
          "metadata": {
            "tags": []
          },
          "execution_count": 106
        }
      ]
    },
    {
      "cell_type": "code",
      "metadata": {
        "id": "1ey5Mmr39KlN",
        "outputId": "e96f08ce-4d31-4acb-ecd9-ff4c23c64974",
        "colab": {
          "base_uri": "https://localhost:8080/"
        }
      },
      "source": [
        "embedding_layer_TL = Embedding(len(word_index)+1,\n",
        "                                embedding_dim,\n",
        "                                weights=[E_T],\n",
        "                                input_length=MAX_LENGTH,\n",
        "                                trainable=False)\n",
        "model = create_model(embedding_layer_TL)\n",
        "print(model.summary())"
      ],
      "execution_count": 107,
      "outputs": [
        {
          "output_type": "stream",
          "text": [
            "Model: \"sequential_10\"\n",
            "_________________________________________________________________\n",
            "Layer (type)                 Output Shape              Param #   \n",
            "=================================================================\n",
            "embedding_10 (Embedding)     (None, 40, 100)           303200    \n",
            "_________________________________________________________________\n",
            "lstm_10 (LSTM)               (None, 32)                17024     \n",
            "_________________________________________________________________\n",
            "dropout_20 (Dropout)         (None, 32)                0         \n",
            "_________________________________________________________________\n",
            "dense_20 (Dense)             (None, 64)                2112      \n",
            "_________________________________________________________________\n",
            "dropout_21 (Dropout)         (None, 64)                0         \n",
            "_________________________________________________________________\n",
            "dense_21 (Dense)             (None, 3)                 195       \n",
            "=================================================================\n",
            "Total params: 322,531\n",
            "Trainable params: 19,331\n",
            "Non-trainable params: 303,200\n",
            "_________________________________________________________________\n",
            "None\n"
          ],
          "name": "stdout"
        }
      ]
    },
    {
      "cell_type": "code",
      "metadata": {
        "id": "fvDnzOGQ9KlQ",
        "outputId": "3f0feb13-22fe-4f1d-dd2d-0ab6bdf1d3b3",
        "colab": {
          "base_uri": "https://localhost:8080/"
        }
      },
      "source": [
        "m_histories['with_TL'] = model.fit(X_train, Y_train, batch_size=64, epochs=50, validation_data=(X_Val, Y_Val), callbacks=get_callbacks('models/with_TL'), verbose=1)   "
      ],
      "execution_count": 108,
      "outputs": [
        {
          "output_type": "stream",
          "text": [
            "Epoch 1/50\n",
            "2/9 [=====>........................] - ETA: 1s - loss: 1.0983 - categorical_accuracy: 0.3203WARNING:tensorflow:Callbacks method `on_train_batch_end` is slow compared to the batch time (batch time: 0.0686s vs `on_train_batch_end` time: 0.3862s). Check your callbacks.\n",
            "9/9 [==============================] - 1s 134ms/step - loss: 1.0921 - categorical_accuracy: 0.4444 - val_loss: 1.0837 - val_categorical_accuracy: 0.4812\n",
            "Epoch 2/50\n",
            "9/9 [==============================] - 0s 54ms/step - loss: 1.0783 - categorical_accuracy: 0.4934 - val_loss: 1.0639 - val_categorical_accuracy: 0.4812\n",
            "Epoch 3/50\n",
            "9/9 [==============================] - 0s 54ms/step - loss: 1.0470 - categorical_accuracy: 0.4991 - val_loss: 1.0413 - val_categorical_accuracy: 0.4812\n",
            "Epoch 4/50\n",
            "9/9 [==============================] - 0s 53ms/step - loss: 1.0449 - categorical_accuracy: 0.4934 - val_loss: 1.0395 - val_categorical_accuracy: 0.4812\n",
            "Epoch 5/50\n",
            "9/9 [==============================] - 0s 53ms/step - loss: 1.0347 - categorical_accuracy: 0.4802 - val_loss: 1.0388 - val_categorical_accuracy: 0.4812\n",
            "Epoch 6/50\n",
            "9/9 [==============================] - 1s 57ms/step - loss: 1.0324 - categorical_accuracy: 0.4878 - val_loss: 1.0380 - val_categorical_accuracy: 0.4812\n",
            "Epoch 7/50\n",
            "9/9 [==============================] - 0s 54ms/step - loss: 1.0330 - categorical_accuracy: 0.4972 - val_loss: 1.0368 - val_categorical_accuracy: 0.4812\n",
            "Epoch 8/50\n",
            "9/9 [==============================] - 0s 53ms/step - loss: 1.0330 - categorical_accuracy: 0.4972 - val_loss: 1.0341 - val_categorical_accuracy: 0.4812\n",
            "Epoch 9/50\n",
            "9/9 [==============================] - 0s 53ms/step - loss: 1.0267 - categorical_accuracy: 0.4934 - val_loss: 1.0283 - val_categorical_accuracy: 0.4812\n",
            "Epoch 10/50\n",
            "9/9 [==============================] - 0s 52ms/step - loss: 1.0269 - categorical_accuracy: 0.4953 - val_loss: 1.0136 - val_categorical_accuracy: 0.4812\n",
            "Epoch 11/50\n",
            "9/9 [==============================] - 0s 53ms/step - loss: 1.0161 - categorical_accuracy: 0.4972 - val_loss: 0.9953 - val_categorical_accuracy: 0.4812\n",
            "Epoch 12/50\n",
            "9/9 [==============================] - 0s 55ms/step - loss: 0.9843 - categorical_accuracy: 0.5009 - val_loss: 0.9834 - val_categorical_accuracy: 0.4812\n",
            "Epoch 13/50\n",
            "9/9 [==============================] - 0s 54ms/step - loss: 0.9819 - categorical_accuracy: 0.4859 - val_loss: 0.9619 - val_categorical_accuracy: 0.4887\n",
            "Epoch 14/50\n",
            "9/9 [==============================] - 0s 53ms/step - loss: 0.9673 - categorical_accuracy: 0.4972 - val_loss: 0.9724 - val_categorical_accuracy: 0.4887\n",
            "Epoch 15/50\n",
            "9/9 [==============================] - 1s 58ms/step - loss: 0.9680 - categorical_accuracy: 0.5028 - val_loss: 0.9822 - val_categorical_accuracy: 0.4737\n",
            "Epoch 16/50\n",
            "9/9 [==============================] - 0s 55ms/step - loss: 0.9505 - categorical_accuracy: 0.5141 - val_loss: 0.9781 - val_categorical_accuracy: 0.4812\n",
            "Epoch 17/50\n",
            "9/9 [==============================] - 0s 53ms/step - loss: 0.9554 - categorical_accuracy: 0.4840 - val_loss: 1.0341 - val_categorical_accuracy: 0.4737\n",
            "Epoch 18/50\n",
            "9/9 [==============================] - 0s 54ms/step - loss: 0.9502 - categorical_accuracy: 0.5235 - val_loss: 0.9608 - val_categorical_accuracy: 0.4662\n",
            "Epoch 19/50\n",
            "9/9 [==============================] - 0s 54ms/step - loss: 0.9786 - categorical_accuracy: 0.4972 - val_loss: 0.9736 - val_categorical_accuracy: 0.4737\n",
            "Epoch 20/50\n",
            "9/9 [==============================] - 0s 52ms/step - loss: 0.9422 - categorical_accuracy: 0.5179 - val_loss: 1.0151 - val_categorical_accuracy: 0.4586\n",
            "Epoch 21/50\n",
            "9/9 [==============================] - 0s 54ms/step - loss: 0.9261 - categorical_accuracy: 0.5198 - val_loss: 0.9687 - val_categorical_accuracy: 0.5113\n",
            "Epoch 22/50\n",
            "9/9 [==============================] - 0s 54ms/step - loss: 0.9412 - categorical_accuracy: 0.5273 - val_loss: 1.0657 - val_categorical_accuracy: 0.4812\n",
            "Epoch 23/50\n",
            "9/9 [==============================] - 0s 54ms/step - loss: 0.9053 - categorical_accuracy: 0.5461 - val_loss: 1.0111 - val_categorical_accuracy: 0.4812\n",
            "Epoch 24/50\n",
            "9/9 [==============================] - 0s 55ms/step - loss: 0.9126 - categorical_accuracy: 0.5330 - val_loss: 1.0338 - val_categorical_accuracy: 0.5113\n",
            "Epoch 25/50\n",
            "9/9 [==============================] - 0s 54ms/step - loss: 0.9090 - categorical_accuracy: 0.5386 - val_loss: 1.0203 - val_categorical_accuracy: 0.5038\n",
            "Epoch 26/50\n",
            "9/9 [==============================] - 0s 55ms/step - loss: 0.8948 - categorical_accuracy: 0.5574 - val_loss: 1.0460 - val_categorical_accuracy: 0.4737\n",
            "Epoch 27/50\n",
            "9/9 [==============================] - 1s 56ms/step - loss: 0.8760 - categorical_accuracy: 0.5499 - val_loss: 1.0782 - val_categorical_accuracy: 0.5188\n",
            "Epoch 28/50\n",
            "9/9 [==============================] - 0s 55ms/step - loss: 0.8812 - categorical_accuracy: 0.5574 - val_loss: 1.1075 - val_categorical_accuracy: 0.4737\n",
            "Epoch 29/50\n",
            "9/9 [==============================] - 0s 54ms/step - loss: 0.8690 - categorical_accuracy: 0.5480 - val_loss: 0.9876 - val_categorical_accuracy: 0.5263\n",
            "Epoch 30/50\n",
            "9/9 [==============================] - 0s 54ms/step - loss: 0.8794 - categorical_accuracy: 0.5669 - val_loss: 1.0632 - val_categorical_accuracy: 0.4737\n",
            "Epoch 31/50\n",
            "9/9 [==============================] - 0s 53ms/step - loss: 0.8822 - categorical_accuracy: 0.5537 - val_loss: 1.0811 - val_categorical_accuracy: 0.4737\n",
            "Epoch 32/50\n",
            "9/9 [==============================] - 1s 56ms/step - loss: 0.8723 - categorical_accuracy: 0.5819 - val_loss: 1.0048 - val_categorical_accuracy: 0.4812\n",
            "Epoch 33/50\n",
            "9/9 [==============================] - 0s 52ms/step - loss: 0.8761 - categorical_accuracy: 0.5499 - val_loss: 1.1163 - val_categorical_accuracy: 0.4812\n",
            "Epoch 34/50\n",
            "9/9 [==============================] - 1s 56ms/step - loss: 0.8865 - categorical_accuracy: 0.5593 - val_loss: 1.0404 - val_categorical_accuracy: 0.4887\n",
            "Epoch 35/50\n",
            "9/9 [==============================] - 0s 54ms/step - loss: 0.8552 - categorical_accuracy: 0.5744 - val_loss: 1.0263 - val_categorical_accuracy: 0.5188\n",
            "Epoch 36/50\n",
            "9/9 [==============================] - 0s 54ms/step - loss: 0.8510 - categorical_accuracy: 0.5706 - val_loss: 1.1066 - val_categorical_accuracy: 0.4737\n",
            "Epoch 37/50\n",
            "9/9 [==============================] - 0s 53ms/step - loss: 0.8520 - categorical_accuracy: 0.5669 - val_loss: 0.9977 - val_categorical_accuracy: 0.5188\n",
            "Epoch 38/50\n",
            "9/9 [==============================] - 0s 53ms/step - loss: 0.8404 - categorical_accuracy: 0.5744 - val_loss: 1.1526 - val_categorical_accuracy: 0.4887\n",
            "Epoch 39/50\n",
            "9/9 [==============================] - 1s 57ms/step - loss: 0.8256 - categorical_accuracy: 0.5895 - val_loss: 1.0038 - val_categorical_accuracy: 0.5263\n",
            "Epoch 40/50\n",
            "9/9 [==============================] - 0s 54ms/step - loss: 0.8333 - categorical_accuracy: 0.5782 - val_loss: 1.1642 - val_categorical_accuracy: 0.4662\n",
            "Epoch 41/50\n",
            "9/9 [==============================] - 0s 55ms/step - loss: 0.8193 - categorical_accuracy: 0.5895 - val_loss: 1.0522 - val_categorical_accuracy: 0.5038\n",
            "Epoch 42/50\n",
            "9/9 [==============================] - 0s 54ms/step - loss: 0.8251 - categorical_accuracy: 0.5706 - val_loss: 1.0701 - val_categorical_accuracy: 0.5414\n",
            "Epoch 43/50\n",
            "9/9 [==============================] - 1s 57ms/step - loss: 0.8151 - categorical_accuracy: 0.5951 - val_loss: 1.0987 - val_categorical_accuracy: 0.5113\n",
            "Epoch 44/50\n",
            "9/9 [==============================] - 0s 55ms/step - loss: 0.8664 - categorical_accuracy: 0.5782 - val_loss: 1.0443 - val_categorical_accuracy: 0.5338\n",
            "Epoch 45/50\n",
            "9/9 [==============================] - 1s 58ms/step - loss: 0.8207 - categorical_accuracy: 0.5970 - val_loss: 1.0034 - val_categorical_accuracy: 0.5489\n",
            "Epoch 46/50\n",
            "9/9 [==============================] - 0s 54ms/step - loss: 0.8134 - categorical_accuracy: 0.5951 - val_loss: 1.1383 - val_categorical_accuracy: 0.4662\n",
            "Epoch 47/50\n",
            "9/9 [==============================] - 0s 55ms/step - loss: 0.8195 - categorical_accuracy: 0.6008 - val_loss: 1.1036 - val_categorical_accuracy: 0.4737\n",
            "Epoch 48/50\n",
            "9/9 [==============================] - 0s 55ms/step - loss: 0.8294 - categorical_accuracy: 0.5857 - val_loss: 1.0371 - val_categorical_accuracy: 0.5263\n",
            "Epoch 49/50\n",
            "9/9 [==============================] - 0s 53ms/step - loss: 0.8258 - categorical_accuracy: 0.5951 - val_loss: 1.1372 - val_categorical_accuracy: 0.4962\n",
            "Epoch 50/50\n",
            "9/9 [==============================] - 0s 53ms/step - loss: 0.7639 - categorical_accuracy: 0.6234 - val_loss: 1.1576 - val_categorical_accuracy: 0.5038\n"
          ],
          "name": "stdout"
        }
      ]
    },
    {
      "cell_type": "code",
      "metadata": {
        "id": "njB1jFeu9KlX",
        "outputId": "b122e0e1-cec7-463f-b425-78af8b11872c",
        "colab": {
          "base_uri": "https://localhost:8080/",
          "height": 283
        }
      },
      "source": [
        "plotter(m_histories, ylim=[0.0, 2], metric = 'loss')"
      ],
      "execution_count": 109,
      "outputs": [
        {
          "output_type": "display_data",
          "data": {
            "image/png": "[encoded data removed]",
            "text/plain": [
              "<Figure size 432x288 with 1 Axes>"
            ]
          },
          "metadata": {
            "tags": [],
            "needs_background": "light"
          }
        }
      ]
    },
    {
      "cell_type": "code",
      "metadata": {
        "id": "zDxeiO-J9Kle",
        "outputId": "7719b3fd-d033-4021-b85e-3fa01139bbd3",
        "colab": {
          "base_uri": "https://localhost:8080/",
          "height": 278
        }
      },
      "source": [
        "plotter(m_histories, ylim=[0.0, 1.1], metric = 'categorical_accuracy')"
      ],
      "execution_count": 110,
      "outputs": [
        {
          "output_type": "display_data",
          "data": {
            "image/png": "[encoded data removed]",
            "text/plain": [
              "<Figure size 432x288 with 1 Axes>"
            ]
          },
          "metadata": {
            "tags": [],
            "needs_background": "light"
          }
        }
      ]
    }
  ]
}