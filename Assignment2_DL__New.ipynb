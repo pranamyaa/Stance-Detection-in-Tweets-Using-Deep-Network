{
  "nbformat": 4,
  "nbformat_minor": 0,
  "metadata": {
    "colab": {
      "name": "Assignment2_DL _New.ipynb",
      "provenance": [],
      "collapsed_sections": [
        "xXlnOSPUrF18",
        "EmcvYG6GaZAp"
      ],
      "toc_visible": true
    },
    "kernelspec": {
      "name": "python3",
      "display_name": "Python 3"
    }
  },
  "cells": [
    {
      "cell_type": "markdown",
      "metadata": {
        "id": "N7UPIghEqvMi"
      },
      "source": [
        "# **Assignment 2: Stance Detection in Tweets using Deep Learning on SemEval 2 task 6 data.**"
      ]
    },
    {
      "cell_type": "markdown",
      "metadata": {
        "id": "kfY_1TQrqbp9"
      },
      "source": [
        "# Setting notebook and related packages and methods.\n",
        "\n",
        "\n",
        "\n"
      ]
    },
    {
      "cell_type": "markdown",
      "metadata": {
        "id": "ONRDMNP9xflY"
      },
      "source": [
        "First we mount the google drive so that we can access the data files from the system"
      ]
    },
    {
      "cell_type": "code",
      "metadata": {
        "id": "4etGXG5qBdFD",
        "outputId": "5108f6dc-3493-424a-a8d4-482f4261ad38",
        "colab": {
          "base_uri": "https://localhost:8080/",
          "height": 34
        }
      },
      "source": [
        "from google.colab import drive\n",
        "drive.mount('/content/drive', force_remount=True)"
      ],
      "execution_count": 136,
      "outputs": [
        {
          "output_type": "stream",
          "text": [
            "Mounted at /content/drive\n"
          ],
          "name": "stdout"
        }
      ]
    },
    {
      "cell_type": "code",
      "metadata": {
        "id": "bWHE3jlppGdq",
        "outputId": "2b7ed345-e605-4d81-d687-6f39a7488f5c",
        "colab": {
          "base_uri": "https://localhost:8080/",
          "height": 392
        }
      },
      "source": [
        "!pip install -U spacy"
      ],
      "execution_count": 137,
      "outputs": [
        {
          "output_type": "stream",
          "text": [
            "Requirement already up-to-date: spacy in /usr/local/lib/python3.6/dist-packages (2.3.2)\n",
            "Requirement already satisfied, skipping upgrade: preshed<3.1.0,>=3.0.2 in /usr/local/lib/python3.6/dist-packages (from spacy) (3.0.2)\n",
            "Requirement already satisfied, skipping upgrade: plac<1.2.0,>=0.9.6 in /usr/local/lib/python3.6/dist-packages (from spacy) (1.1.3)\n",
            "Requirement already satisfied, skipping upgrade: catalogue<1.1.0,>=0.0.7 in /usr/local/lib/python3.6/dist-packages (from spacy) (1.0.0)\n",
            "Requirement already satisfied, skipping upgrade: wasabi<1.1.0,>=0.4.0 in /usr/local/lib/python3.6/dist-packages (from spacy) (0.8.0)\n",
            "Requirement already satisfied, skipping upgrade: thinc==7.4.1 in /usr/local/lib/python3.6/dist-packages (from spacy) (7.4.1)\n",
            "Requirement already satisfied, skipping upgrade: blis<0.5.0,>=0.4.0 in /usr/local/lib/python3.6/dist-packages (from spacy) (0.4.1)\n",
            "Requirement already satisfied, skipping upgrade: numpy>=1.15.0 in /usr/local/lib/python3.6/dist-packages (from spacy) (1.18.5)\n",
            "Requirement already satisfied, skipping upgrade: requests<3.0.0,>=2.13.0 in /usr/local/lib/python3.6/dist-packages (from spacy) (2.23.0)\n",
            "Requirement already satisfied, skipping upgrade: srsly<1.1.0,>=1.0.2 in /usr/local/lib/python3.6/dist-packages (from spacy) (1.0.2)\n",
            "Requirement already satisfied, skipping upgrade: tqdm<5.0.0,>=4.38.0 in /usr/local/lib/python3.6/dist-packages (from spacy) (4.41.1)\n",
            "Requirement already satisfied, skipping upgrade: murmurhash<1.1.0,>=0.28.0 in /usr/local/lib/python3.6/dist-packages (from spacy) (1.0.2)\n",
            "Requirement already satisfied, skipping upgrade: cymem<2.1.0,>=2.0.2 in /usr/local/lib/python3.6/dist-packages (from spacy) (2.0.3)\n",
            "Requirement already satisfied, skipping upgrade: setuptools in /usr/local/lib/python3.6/dist-packages (from spacy) (50.3.0)\n",
            "Requirement already satisfied, skipping upgrade: importlib-metadata>=0.20; python_version < \"3.8\" in /usr/local/lib/python3.6/dist-packages (from catalogue<1.1.0,>=0.0.7->spacy) (2.0.0)\n",
            "Requirement already satisfied, skipping upgrade: certifi>=2017.4.17 in /usr/local/lib/python3.6/dist-packages (from requests<3.0.0,>=2.13.0->spacy) (2020.6.20)\n",
            "Requirement already satisfied, skipping upgrade: chardet<4,>=3.0.2 in /usr/local/lib/python3.6/dist-packages (from requests<3.0.0,>=2.13.0->spacy) (3.0.4)\n",
            "Requirement already satisfied, skipping upgrade: idna<3,>=2.5 in /usr/local/lib/python3.6/dist-packages (from requests<3.0.0,>=2.13.0->spacy) (2.10)\n",
            "Requirement already satisfied, skipping upgrade: urllib3!=1.25.0,!=1.25.1,<1.26,>=1.21.1 in /usr/local/lib/python3.6/dist-packages (from requests<3.0.0,>=2.13.0->spacy) (1.24.3)\n",
            "Requirement already satisfied, skipping upgrade: zipp>=0.5 in /usr/local/lib/python3.6/dist-packages (from importlib-metadata>=0.20; python_version < \"3.8\"->catalogue<1.1.0,>=0.0.7->spacy) (3.2.0)\n"
          ],
          "name": "stdout"
        }
      ]
    },
    {
      "cell_type": "code",
      "metadata": {
        "id": "U2K98JlkpGTu",
        "outputId": "9b211944-0425-4699-fadd-32d6b457a235",
        "colab": {
          "base_uri": "https://localhost:8080/",
          "height": 52
        }
      },
      "source": [
        "! pip install -U spacy-Lookups-data"
      ],
      "execution_count": 138,
      "outputs": [
        {
          "output_type": "stream",
          "text": [
            "Requirement already up-to-date: spacy-Lookups-data in /usr/local/lib/python3.6/dist-packages (0.3.2)\n",
            "Requirement already satisfied, skipping upgrade: setuptools in /usr/local/lib/python3.6/dist-packages (from spacy-Lookups-data) (50.3.0)\n"
          ],
          "name": "stdout"
        }
      ]
    },
    {
      "cell_type": "code",
      "metadata": {
        "id": "FzAy-EW1pGFK",
        "outputId": "5a1c85ca-c70d-493d-deb9-362a671ca0bd",
        "colab": {
          "base_uri": "https://localhost:8080/",
          "height": 445
        }
      },
      "source": [
        "!python -m spacy download en_core_web_sm "
      ],
      "execution_count": 139,
      "outputs": [
        {
          "output_type": "stream",
          "text": [
            "Requirement already satisfied: en_core_web_sm==2.3.1 from https://github.com/explosion/spacy-models/releases/download/en_core_web_sm-2.3.1/en_core_web_sm-2.3.1.tar.gz#egg=en_core_web_sm==2.3.1 in /usr/local/lib/python3.6/dist-packages (2.3.1)\n",
            "Requirement already satisfied: spacy<2.4.0,>=2.3.0 in /usr/local/lib/python3.6/dist-packages (from en_core_web_sm==2.3.1) (2.3.2)\n",
            "Requirement already satisfied: thinc==7.4.1 in /usr/local/lib/python3.6/dist-packages (from spacy<2.4.0,>=2.3.0->en_core_web_sm==2.3.1) (7.4.1)\n",
            "Requirement already satisfied: plac<1.2.0,>=0.9.6 in /usr/local/lib/python3.6/dist-packages (from spacy<2.4.0,>=2.3.0->en_core_web_sm==2.3.1) (1.1.3)\n",
            "Requirement already satisfied: setuptools in /usr/local/lib/python3.6/dist-packages (from spacy<2.4.0,>=2.3.0->en_core_web_sm==2.3.1) (50.3.0)\n",
            "Requirement already satisfied: requests<3.0.0,>=2.13.0 in /usr/local/lib/python3.6/dist-packages (from spacy<2.4.0,>=2.3.0->en_core_web_sm==2.3.1) (2.23.0)\n",
            "Requirement already satisfied: preshed<3.1.0,>=3.0.2 in /usr/local/lib/python3.6/dist-packages (from spacy<2.4.0,>=2.3.0->en_core_web_sm==2.3.1) (3.0.2)\n",
            "Requirement already satisfied: tqdm<5.0.0,>=4.38.0 in /usr/local/lib/python3.6/dist-packages (from spacy<2.4.0,>=2.3.0->en_core_web_sm==2.3.1) (4.41.1)\n",
            "Requirement already satisfied: wasabi<1.1.0,>=0.4.0 in /usr/local/lib/python3.6/dist-packages (from spacy<2.4.0,>=2.3.0->en_core_web_sm==2.3.1) (0.8.0)\n",
            "Requirement already satisfied: catalogue<1.1.0,>=0.0.7 in /usr/local/lib/python3.6/dist-packages (from spacy<2.4.0,>=2.3.0->en_core_web_sm==2.3.1) (1.0.0)\n",
            "Requirement already satisfied: cymem<2.1.0,>=2.0.2 in /usr/local/lib/python3.6/dist-packages (from spacy<2.4.0,>=2.3.0->en_core_web_sm==2.3.1) (2.0.3)\n",
            "Requirement already satisfied: murmurhash<1.1.0,>=0.28.0 in /usr/local/lib/python3.6/dist-packages (from spacy<2.4.0,>=2.3.0->en_core_web_sm==2.3.1) (1.0.2)\n",
            "Requirement already satisfied: blis<0.5.0,>=0.4.0 in /usr/local/lib/python3.6/dist-packages (from spacy<2.4.0,>=2.3.0->en_core_web_sm==2.3.1) (0.4.1)\n",
            "Requirement already satisfied: srsly<1.1.0,>=1.0.2 in /usr/local/lib/python3.6/dist-packages (from spacy<2.4.0,>=2.3.0->en_core_web_sm==2.3.1) (1.0.2)\n",
            "Requirement already satisfied: numpy>=1.15.0 in /usr/local/lib/python3.6/dist-packages (from spacy<2.4.0,>=2.3.0->en_core_web_sm==2.3.1) (1.18.5)\n",
            "Requirement already satisfied: idna<3,>=2.5 in /usr/local/lib/python3.6/dist-packages (from requests<3.0.0,>=2.13.0->spacy<2.4.0,>=2.3.0->en_core_web_sm==2.3.1) (2.10)\n",
            "Requirement already satisfied: certifi>=2017.4.17 in /usr/local/lib/python3.6/dist-packages (from requests<3.0.0,>=2.13.0->spacy<2.4.0,>=2.3.0->en_core_web_sm==2.3.1) (2020.6.20)\n",
            "Requirement already satisfied: urllib3!=1.25.0,!=1.25.1,<1.26,>=1.21.1 in /usr/local/lib/python3.6/dist-packages (from requests<3.0.0,>=2.13.0->spacy<2.4.0,>=2.3.0->en_core_web_sm==2.3.1) (1.24.3)\n",
            "Requirement already satisfied: chardet<4,>=3.0.2 in /usr/local/lib/python3.6/dist-packages (from requests<3.0.0,>=2.13.0->spacy<2.4.0,>=2.3.0->en_core_web_sm==2.3.1) (3.0.4)\n",
            "Requirement already satisfied: importlib-metadata>=0.20; python_version < \"3.8\" in /usr/local/lib/python3.6/dist-packages (from catalogue<1.1.0,>=0.0.7->spacy<2.4.0,>=2.3.0->en_core_web_sm==2.3.1) (2.0.0)\n",
            "Requirement already satisfied: zipp>=0.5 in /usr/local/lib/python3.6/dist-packages (from importlib-metadata>=0.20; python_version < \"3.8\"->catalogue<1.1.0,>=0.0.7->spacy<2.4.0,>=2.3.0->en_core_web_sm==2.3.1) (3.2.0)\n",
            "\u001b[38;5;2m✔ Download and installation successful\u001b[0m\n",
            "You can now load the model via spacy.load('en_core_web_sm')\n"
          ],
          "name": "stdout"
        }
      ]
    },
    {
      "cell_type": "code",
      "metadata": {
        "id": "NPLZ3OoRpSVE",
        "outputId": "1ff3a6a5-f478-4bf7-a5f2-6e3c34f6491a",
        "colab": {
          "base_uri": "https://localhost:8080/",
          "height": 445
        }
      },
      "source": [
        "!python -m spacy download en_core_web_md"
      ],
      "execution_count": 140,
      "outputs": [
        {
          "output_type": "stream",
          "text": [
            "Requirement already satisfied: en_core_web_md==2.3.1 from https://github.com/explosion/spacy-models/releases/download/en_core_web_md-2.3.1/en_core_web_md-2.3.1.tar.gz#egg=en_core_web_md==2.3.1 in /usr/local/lib/python3.6/dist-packages (2.3.1)\n",
            "Requirement already satisfied: spacy<2.4.0,>=2.3.0 in /usr/local/lib/python3.6/dist-packages (from en_core_web_md==2.3.1) (2.3.2)\n",
            "Requirement already satisfied: preshed<3.1.0,>=3.0.2 in /usr/local/lib/python3.6/dist-packages (from spacy<2.4.0,>=2.3.0->en_core_web_md==2.3.1) (3.0.2)\n",
            "Requirement already satisfied: wasabi<1.1.0,>=0.4.0 in /usr/local/lib/python3.6/dist-packages (from spacy<2.4.0,>=2.3.0->en_core_web_md==2.3.1) (0.8.0)\n",
            "Requirement already satisfied: srsly<1.1.0,>=1.0.2 in /usr/local/lib/python3.6/dist-packages (from spacy<2.4.0,>=2.3.0->en_core_web_md==2.3.1) (1.0.2)\n",
            "Requirement already satisfied: thinc==7.4.1 in /usr/local/lib/python3.6/dist-packages (from spacy<2.4.0,>=2.3.0->en_core_web_md==2.3.1) (7.4.1)\n",
            "Requirement already satisfied: murmurhash<1.1.0,>=0.28.0 in /usr/local/lib/python3.6/dist-packages (from spacy<2.4.0,>=2.3.0->en_core_web_md==2.3.1) (1.0.2)\n",
            "Requirement already satisfied: catalogue<1.1.0,>=0.0.7 in /usr/local/lib/python3.6/dist-packages (from spacy<2.4.0,>=2.3.0->en_core_web_md==2.3.1) (1.0.0)\n",
            "Requirement already satisfied: setuptools in /usr/local/lib/python3.6/dist-packages (from spacy<2.4.0,>=2.3.0->en_core_web_md==2.3.1) (50.3.0)\n",
            "Requirement already satisfied: blis<0.5.0,>=0.4.0 in /usr/local/lib/python3.6/dist-packages (from spacy<2.4.0,>=2.3.0->en_core_web_md==2.3.1) (0.4.1)\n",
            "Requirement already satisfied: numpy>=1.15.0 in /usr/local/lib/python3.6/dist-packages (from spacy<2.4.0,>=2.3.0->en_core_web_md==2.3.1) (1.18.5)\n",
            "Requirement already satisfied: tqdm<5.0.0,>=4.38.0 in /usr/local/lib/python3.6/dist-packages (from spacy<2.4.0,>=2.3.0->en_core_web_md==2.3.1) (4.41.1)\n",
            "Requirement already satisfied: requests<3.0.0,>=2.13.0 in /usr/local/lib/python3.6/dist-packages (from spacy<2.4.0,>=2.3.0->en_core_web_md==2.3.1) (2.23.0)\n",
            "Requirement already satisfied: cymem<2.1.0,>=2.0.2 in /usr/local/lib/python3.6/dist-packages (from spacy<2.4.0,>=2.3.0->en_core_web_md==2.3.1) (2.0.3)\n",
            "Requirement already satisfied: plac<1.2.0,>=0.9.6 in /usr/local/lib/python3.6/dist-packages (from spacy<2.4.0,>=2.3.0->en_core_web_md==2.3.1) (1.1.3)\n",
            "Requirement already satisfied: importlib-metadata>=0.20; python_version < \"3.8\" in /usr/local/lib/python3.6/dist-packages (from catalogue<1.1.0,>=0.0.7->spacy<2.4.0,>=2.3.0->en_core_web_md==2.3.1) (2.0.0)\n",
            "Requirement already satisfied: certifi>=2017.4.17 in /usr/local/lib/python3.6/dist-packages (from requests<3.0.0,>=2.13.0->spacy<2.4.0,>=2.3.0->en_core_web_md==2.3.1) (2020.6.20)\n",
            "Requirement already satisfied: idna<3,>=2.5 in /usr/local/lib/python3.6/dist-packages (from requests<3.0.0,>=2.13.0->spacy<2.4.0,>=2.3.0->en_core_web_md==2.3.1) (2.10)\n",
            "Requirement already satisfied: urllib3!=1.25.0,!=1.25.1,<1.26,>=1.21.1 in /usr/local/lib/python3.6/dist-packages (from requests<3.0.0,>=2.13.0->spacy<2.4.0,>=2.3.0->en_core_web_md==2.3.1) (1.24.3)\n",
            "Requirement already satisfied: chardet<4,>=3.0.2 in /usr/local/lib/python3.6/dist-packages (from requests<3.0.0,>=2.13.0->spacy<2.4.0,>=2.3.0->en_core_web_md==2.3.1) (3.0.4)\n",
            "Requirement already satisfied: zipp>=0.5 in /usr/local/lib/python3.6/dist-packages (from importlib-metadata>=0.20; python_version < \"3.8\"->catalogue<1.1.0,>=0.0.7->spacy<2.4.0,>=2.3.0->en_core_web_md==2.3.1) (3.2.0)\n",
            "\u001b[38;5;2m✔ Download and installation successful\u001b[0m\n",
            "You can now load the model via spacy.load('en_core_web_md')\n"
          ],
          "name": "stdout"
        }
      ]
    },
    {
      "cell_type": "code",
      "metadata": {
        "id": "XZD-TBcbpSRZ",
        "outputId": "eff37ac0-12eb-462b-ebf3-153bacd2659b",
        "colab": {
          "base_uri": "https://localhost:8080/",
          "height": 445
        }
      },
      "source": [
        "!python -m spacy download en_core_web_lg"
      ],
      "execution_count": 141,
      "outputs": [
        {
          "output_type": "stream",
          "text": [
            "Requirement already satisfied: en_core_web_lg==2.3.1 from https://github.com/explosion/spacy-models/releases/download/en_core_web_lg-2.3.1/en_core_web_lg-2.3.1.tar.gz#egg=en_core_web_lg==2.3.1 in /usr/local/lib/python3.6/dist-packages (2.3.1)\n",
            "Requirement already satisfied: spacy<2.4.0,>=2.3.0 in /usr/local/lib/python3.6/dist-packages (from en_core_web_lg==2.3.1) (2.3.2)\n",
            "Requirement already satisfied: thinc==7.4.1 in /usr/local/lib/python3.6/dist-packages (from spacy<2.4.0,>=2.3.0->en_core_web_lg==2.3.1) (7.4.1)\n",
            "Requirement already satisfied: plac<1.2.0,>=0.9.6 in /usr/local/lib/python3.6/dist-packages (from spacy<2.4.0,>=2.3.0->en_core_web_lg==2.3.1) (1.1.3)\n",
            "Requirement already satisfied: cymem<2.1.0,>=2.0.2 in /usr/local/lib/python3.6/dist-packages (from spacy<2.4.0,>=2.3.0->en_core_web_lg==2.3.1) (2.0.3)\n",
            "Requirement already satisfied: srsly<1.1.0,>=1.0.2 in /usr/local/lib/python3.6/dist-packages (from spacy<2.4.0,>=2.3.0->en_core_web_lg==2.3.1) (1.0.2)\n",
            "Requirement already satisfied: murmurhash<1.1.0,>=0.28.0 in /usr/local/lib/python3.6/dist-packages (from spacy<2.4.0,>=2.3.0->en_core_web_lg==2.3.1) (1.0.2)\n",
            "Requirement already satisfied: catalogue<1.1.0,>=0.0.7 in /usr/local/lib/python3.6/dist-packages (from spacy<2.4.0,>=2.3.0->en_core_web_lg==2.3.1) (1.0.0)\n",
            "Requirement already satisfied: blis<0.5.0,>=0.4.0 in /usr/local/lib/python3.6/dist-packages (from spacy<2.4.0,>=2.3.0->en_core_web_lg==2.3.1) (0.4.1)\n",
            "Requirement already satisfied: wasabi<1.1.0,>=0.4.0 in /usr/local/lib/python3.6/dist-packages (from spacy<2.4.0,>=2.3.0->en_core_web_lg==2.3.1) (0.8.0)\n",
            "Requirement already satisfied: tqdm<5.0.0,>=4.38.0 in /usr/local/lib/python3.6/dist-packages (from spacy<2.4.0,>=2.3.0->en_core_web_lg==2.3.1) (4.41.1)\n",
            "Requirement already satisfied: setuptools in /usr/local/lib/python3.6/dist-packages (from spacy<2.4.0,>=2.3.0->en_core_web_lg==2.3.1) (50.3.0)\n",
            "Requirement already satisfied: numpy>=1.15.0 in /usr/local/lib/python3.6/dist-packages (from spacy<2.4.0,>=2.3.0->en_core_web_lg==2.3.1) (1.18.5)\n",
            "Requirement already satisfied: preshed<3.1.0,>=3.0.2 in /usr/local/lib/python3.6/dist-packages (from spacy<2.4.0,>=2.3.0->en_core_web_lg==2.3.1) (3.0.2)\n",
            "Requirement already satisfied: requests<3.0.0,>=2.13.0 in /usr/local/lib/python3.6/dist-packages (from spacy<2.4.0,>=2.3.0->en_core_web_lg==2.3.1) (2.23.0)\n",
            "Requirement already satisfied: importlib-metadata>=0.20; python_version < \"3.8\" in /usr/local/lib/python3.6/dist-packages (from catalogue<1.1.0,>=0.0.7->spacy<2.4.0,>=2.3.0->en_core_web_lg==2.3.1) (2.0.0)\n",
            "Requirement already satisfied: chardet<4,>=3.0.2 in /usr/local/lib/python3.6/dist-packages (from requests<3.0.0,>=2.13.0->spacy<2.4.0,>=2.3.0->en_core_web_lg==2.3.1) (3.0.4)\n",
            "Requirement already satisfied: urllib3!=1.25.0,!=1.25.1,<1.26,>=1.21.1 in /usr/local/lib/python3.6/dist-packages (from requests<3.0.0,>=2.13.0->spacy<2.4.0,>=2.3.0->en_core_web_lg==2.3.1) (1.24.3)\n",
            "Requirement already satisfied: certifi>=2017.4.17 in /usr/local/lib/python3.6/dist-packages (from requests<3.0.0,>=2.13.0->spacy<2.4.0,>=2.3.0->en_core_web_lg==2.3.1) (2020.6.20)\n",
            "Requirement already satisfied: idna<3,>=2.5 in /usr/local/lib/python3.6/dist-packages (from requests<3.0.0,>=2.13.0->spacy<2.4.0,>=2.3.0->en_core_web_lg==2.3.1) (2.10)\n",
            "Requirement already satisfied: zipp>=0.5 in /usr/local/lib/python3.6/dist-packages (from importlib-metadata>=0.20; python_version < \"3.8\"->catalogue<1.1.0,>=0.0.7->spacy<2.4.0,>=2.3.0->en_core_web_lg==2.3.1) (3.2.0)\n",
            "\u001b[38;5;2m✔ Download and installation successful\u001b[0m\n",
            "You can now load the model via spacy.load('en_core_web_lg')\n"
          ],
          "name": "stdout"
        }
      ]
    },
    {
      "cell_type": "markdown",
      "metadata": {
        "id": "g56Mcbq6xo30"
      },
      "source": [
        "The next step is to do some preliminary steps like importing related packages and setting up tensorboard and plotter function ."
      ]
    },
    {
      "cell_type": "code",
      "metadata": {
        "id": "wAGBdLqcCCK8",
        "outputId": "aeb177e0-2b79-422a-bd61-42cf00aaf2cb",
        "colab": {
          "base_uri": "https://localhost:8080/",
          "height": 87
        }
      },
      "source": [
        "# Importing Related Packages\n",
        "\n",
        "import pandas as pd\n",
        "import numpy as np\n",
        "import matplotlib.pyplot as plt\n",
        "import tensorflow as tf\n",
        "AUTOTUNE = tf.data.experimental.AUTOTUNE\n",
        "import nltk\n",
        "from nltk.tokenize import word_tokenize\n",
        "from nltk.corpus import stopwords\n",
        "from nltk.corpus import stopwords\n",
        "from nltk.tokenize import word_tokenize, TweetTokenizer\n",
        "nltk.download('stopwords')\n",
        "nltk.download('punkt')\n",
        "import string\n",
        "\n",
        "import re\n",
        "from tensorflow.keras.layers import Embedding\n",
        "from tensorflow.keras.preprocessing.sequence import pad_sequences\n",
        "from tensorflow.keras.models import Sequential\n",
        "from tensorflow.keras.preprocessing.text import one_hot\n",
        "from tensorflow.keras.layers import LSTM\n",
        "from tensorflow.keras.layers import Dense\n",
        "import spacy \n",
        "from spacy.lang.en.stop_words import STOP_WORDS\n",
        "\n",
        "\n",
        "import pathlib\n",
        "import shutil\n",
        "import tempfile\n",
        "from  IPython import display\n",
        "\n",
        "\n",
        "result_df = pd.DataFrame(columns = ['model', 'F1_score'])"
      ],
      "execution_count": 142,
      "outputs": [
        {
          "output_type": "stream",
          "text": [
            "[nltk_data] Downloading package stopwords to /root/nltk_data...\n",
            "[nltk_data]   Package stopwords is already up-to-date!\n",
            "[nltk_data] Downloading package punkt to /root/nltk_data...\n",
            "[nltk_data]   Package punkt is already up-to-date!\n"
          ],
          "name": "stdout"
        }
      ]
    },
    {
      "cell_type": "code",
      "metadata": {
        "id": "939jFOCeCCCj"
      },
      "source": [
        "# Loading Tensorboard\n",
        "logdir = pathlib.Path(tempfile.mkdtemp())/\"tensorboard_logs\"\n",
        "shutil.rmtree(logdir, ignore_errors=True)\n",
        "\n",
        "# Load the TensorBoard notebook extension\n",
        "%load_ext tensorboard\n",
        "\n",
        "# Open an embedded TensorBoard viewer\n",
        "%tensorboard --logdir {logdir}/models"
      ],
      "execution_count": null,
      "outputs": []
    },
    {
      "cell_type": "code",
      "metadata": {
        "id": "4k5AbgNRCB-Y"
      },
      "source": [
        "# Plotter Function to plot performance of models\n",
        "\n",
        "from itertools import cycle\n",
        "def plotter(history_hold, metric = 'binary_crossentropy', ylim=[0.0, 1.0]):\n",
        "  cycol = cycle('bgrcmk')\n",
        "  for name, item in history_hold.items():\n",
        "    y_train = item.history[metric]\n",
        "    y_val = item.history['val_' + metric]\n",
        "    x_train = np.arange(0,len(y_val))\n",
        "\n",
        "    c=next(cycol)\n",
        "\n",
        "    plt.plot(x_train, y_train, c+'-', label=name+'_train')\n",
        "    plt.plot(x_train, y_val, c+'--', label=name+'_val')\n",
        "\n",
        "  plt.legend()\n",
        "  plt.xlim([1, max(plt.xlim())])\n",
        "  plt.ylim(ylim)\n",
        "  plt.xlabel('Epoch')\n",
        "  plt.ylabel(metric)\n",
        "  plt.grid(True)"
      ],
      "execution_count": 144,
      "outputs": []
    },
    {
      "cell_type": "markdown",
      "metadata": {
        "id": "xXlnOSPUrF18"
      },
      "source": [
        "# Reading data and exploring related features\n"
      ]
    },
    {
      "cell_type": "markdown",
      "metadata": {
        "id": "vVp8CiXxyfcR"
      },
      "source": [
        "We use simple read_csv function to read the training as well as test data into dataframes.\n",
        "We can see from the below output that, train data has 2914 values of 5 different features while test data has 1956 values of 5 features."
      ]
    },
    {
      "cell_type": "code",
      "metadata": {
        "id": "A4RM46CxCoSJ",
        "outputId": "bc3e9934-2dbb-4335-833d-7fca59984753",
        "colab": {
          "base_uri": "https://localhost:8080/",
          "height": 0
        }
      },
      "source": [
        "# Reading Training and Test datasets\n",
        "#train_data = \"/content/drive/My Drive/Colab Notebooks/TweetsDataset/train.csv\"\n",
        "#test_data = \"/content/drive/My Drive/Colab Notebooks/TweetsDataset/test.csv\"\n",
        "train_data = \"/content/drive/My Drive/ColabNotebooks/DeepLearningLabs/Assignment2/StanceDataset/train.csv\"\n",
        "test_data = \"/content/drive/My Drive/ColabNotebooks/DeepLearningLabs/Assignment2/StanceDataset/test.csv\"\n",
        "\n",
        "traindata = pd.read_csv(train_data, engine='python')\n",
        "testdata = pd.read_csv(test_data, engine='python')\n",
        "print(traindata.shape)\n",
        "print(testdata.shape)"
      ],
      "execution_count": 153,
      "outputs": [
        {
          "output_type": "stream",
          "text": [
            "(2914, 5)\n",
            "(1956, 5)\n"
          ],
          "name": "stdout"
        }
      ]
    },
    {
      "cell_type": "markdown",
      "metadata": {
        "id": "o8jTXRWvy6nr"
      },
      "source": [
        "The features of the dataset are : Tweet, Target, Stance, Opinion_towards and Sentiment. Out of which our main aim is to predict the Stance of a tweet if Tweet and Target is provided. So for our experiment, we dont need fetures like Opinion_towards and Sentiment."
      ]
    },
    {
      "cell_type": "code",
      "metadata": {
        "id": "j9ZArRuxrYkx",
        "outputId": "268724f1-a1be-4cd6-e776-cb37f02190df",
        "colab": {
          "base_uri": "https://localhost:8080/",
          "height": 0
        }
      },
      "source": [
        "traindata.info()"
      ],
      "execution_count": 154,
      "outputs": [
        {
          "output_type": "stream",
          "text": [
            "<class 'pandas.core.frame.DataFrame'>\n",
            "RangeIndex: 2914 entries, 0 to 2913\n",
            "Data columns (total 5 columns):\n",
            " #   Column           Non-Null Count  Dtype \n",
            "---  ------           --------------  ----- \n",
            " 0   Tweet            2914 non-null   object\n",
            " 1   Target           2914 non-null   object\n",
            " 2   Stance           2914 non-null   object\n",
            " 3   Opinion Towards  2914 non-null   object\n",
            " 4   Sentiment        2914 non-null   object\n",
            "dtypes: object(5)\n",
            "memory usage: 114.0+ KB\n"
          ],
          "name": "stdout"
        }
      ]
    },
    {
      "cell_type": "code",
      "metadata": {
        "id": "GmlOzvB_uvps",
        "outputId": "bc6847d5-558b-4a3d-b465-282565e9694a",
        "colab": {
          "base_uri": "https://localhost:8080/",
          "height": 0
        }
      },
      "source": [
        "testdata.info()"
      ],
      "execution_count": 155,
      "outputs": [
        {
          "output_type": "stream",
          "text": [
            "<class 'pandas.core.frame.DataFrame'>\n",
            "RangeIndex: 1956 entries, 0 to 1955\n",
            "Data columns (total 5 columns):\n",
            " #   Column           Non-Null Count  Dtype \n",
            "---  ------           --------------  ----- \n",
            " 0   Tweet            1956 non-null   object\n",
            " 1   Target           1956 non-null   object\n",
            " 2   Stance           1956 non-null   object\n",
            " 3   Opinion Towards  1956 non-null   object\n",
            " 4   Sentiment        1956 non-null   object\n",
            "dtypes: object(5)\n",
            "memory usage: 76.5+ KB\n"
          ],
          "name": "stdout"
        }
      ]
    },
    {
      "cell_type": "markdown",
      "metadata": {
        "id": "QtPBm7yWzYsR"
      },
      "source": [
        "We can see from the below code output that, traindata consists of tweets related to 5 different Target values namely,\n",
        "\n",
        "1.   Hillary Clinton\n",
        "2.   Feminist Movement\n",
        "3.   Legalization of abortion\n",
        "4.   Atheism\n",
        "5.   Climate Change is a Real Concern\n",
        "\n",
        "And the tweets are classified into 3 Stance values namely,\n",
        "\n",
        "1.   tweets that FAVOR the target value\n",
        "2.   Tweets which are AGAINST the target value\n",
        "3.   Tweets which are neither in FAVOR nor AGAINST (i.e. NONE)\n",
        "\n",
        "We can see the number tweets for each target value as well as number of tweets of eah Stance values described below."
      ]
    },
    {
      "cell_type": "code",
      "metadata": {
        "id": "HJY2bxGvCn-J",
        "outputId": "9ce873fc-2f07-4766-a0f1-b10515d1ee2e",
        "colab": {
          "base_uri": "https://localhost:8080/",
          "height": 0
        }
      },
      "source": [
        "# We have to classify the stance of tweets according to the tweet statements as well as the target of the tweet.\n",
        "\n",
        "print(traindata['Target'].value_counts())\n",
        "print(\"----------------------------------------------------------\")\n",
        "print(traindata['Stance'].value_counts())"
      ],
      "execution_count": 156,
      "outputs": [
        {
          "output_type": "stream",
          "text": [
            "Hillary Clinton                     689\n",
            "Feminist Movement                   664\n",
            "Legalization of Abortion            653\n",
            "Atheism                             513\n",
            "Climate Change is a Real Concern    395\n",
            "Name: Target, dtype: int64\n",
            "----------------------------------------------------------\n",
            "AGAINST    1395\n",
            "NONE        766\n",
            "FAVOR       753\n",
            "Name: Stance, dtype: int64\n"
          ],
          "name": "stdout"
        }
      ]
    },
    {
      "cell_type": "code",
      "metadata": {
        "id": "j5ZTvy53u0C2",
        "outputId": "49739c54-56d9-47c3-9e77-63c2a9b9db94",
        "colab": {
          "base_uri": "https://localhost:8080/",
          "height": 0
        }
      },
      "source": [
        "testdata = testdata[testdata['Target'] != \"Donald Trump\"]\n",
        "print(testdata['Target'].value_counts())\n",
        "print(\"----------------------------------------------------------\")\n",
        "print(testdata['Stance'].value_counts())"
      ],
      "execution_count": 157,
      "outputs": [
        {
          "output_type": "stream",
          "text": [
            "Hillary Clinton                     295\n",
            "Feminist Movement                   285\n",
            "Legalization of Abortion            280\n",
            "Atheism                             220\n",
            "Climate Change is a Real Concern    169\n",
            "Name: Target, dtype: int64\n",
            "----------------------------------------------------------\n",
            "AGAINST    715\n",
            "FAVOR      304\n",
            "NONE       230\n",
            "Name: Stance, dtype: int64\n"
          ],
          "name": "stdout"
        }
      ]
    },
    {
      "cell_type": "markdown",
      "metadata": {
        "id": "MQUutoH90mWR"
      },
      "source": [
        "As a next task we try to explore the distribution of tweets as per their Stance values for each target values."
      ]
    },
    {
      "cell_type": "code",
      "metadata": {
        "id": "XjsnLnseCn6s",
        "outputId": "19b696aa-055f-457a-98c3-5c7dfa98e9e5",
        "colab": {
          "base_uri": "https://localhost:8080/",
          "height": 0
        }
      },
      "source": [
        "# The next exploration is to check the distribution of tweets of different stance values across each target.\n",
        "traindata.groupby(['Target'])['Stance'].value_counts()"
      ],
      "execution_count": 158,
      "outputs": [
        {
          "output_type": "execute_result",
          "data": {
            "text/plain": [
              "Target                            Stance \n",
              "Atheism                           AGAINST    304\n",
              "                                  NONE       117\n",
              "                                  FAVOR       92\n",
              "Climate Change is a Real Concern  FAVOR      212\n",
              "                                  NONE       168\n",
              "                                  AGAINST     15\n",
              "Feminist Movement                 AGAINST    328\n",
              "                                  FAVOR      210\n",
              "                                  NONE       126\n",
              "Hillary Clinton                   AGAINST    393\n",
              "                                  NONE       178\n",
              "                                  FAVOR      118\n",
              "Legalization of Abortion          AGAINST    355\n",
              "                                  NONE       177\n",
              "                                  FAVOR      121\n",
              "Name: Stance, dtype: int64"
            ]
          },
          "metadata": {
            "tags": []
          },
          "execution_count": 158
        }
      ]
    },
    {
      "cell_type": "markdown",
      "metadata": {
        "id": "VbjzHf9k09i9"
      },
      "source": [
        "From the above result, we can see that the number of tweets are not evenly distributed amongst each target values. For example, There are in total 1395 tweets which are of Stance AGAINST while only  753 tweets are in FAVOR with their target value.\n",
        "\n",
        "Furthermore, we can see that, in each target value, Tweets are not distributed evenly. For example, there are 393 tweets which are in AGAINST with target 'Hillary Clinton' while there are only 15 tweets which are in AGAINST of 'Climate Change is a Real Concern'.\n",
        "\n",
        "For futher better understanding we try to plot some exploration visualisations of the tweet distribution among each target class."
      ]
    },
    {
      "cell_type": "code",
      "metadata": {
        "id": "hy6FdX2-y34o",
        "outputId": "9f3756f7-ca6c-4adf-cc6e-b7385127bbe6",
        "colab": {
          "base_uri": "https://localhost:8080/",
          "height": 0
        }
      },
      "source": [
        "# Lets try to plot a graph of the above distribution to check whether there is a class imbalance issue in the dataset\n",
        "\n",
        "Target = traindata['Target'].unique().tolist()\n",
        "df = pd.DataFrame(columns=['Target', 'FAVOR', 'AGAINST', 'NONE'])\n",
        "for target in Target:\n",
        "  data = traindata[traindata['Target']==target]\n",
        "  #print(data[data['Stance']=='FAVOR'].shape[0])\n",
        "  df = df.append({'Target': target, 'FAVOR': data[data['Stance']=='FAVOR'].shape[0], 'AGAINST': data[data['Stance']=='AGAINST'].shape[0], 'NONE': data[data['Stance']=='NONE'].shape[0]}, ignore_index= True)\n",
        "df"
      ],
      "execution_count": 159,
      "outputs": [
        {
          "output_type": "execute_result",
          "data": {
            "text/html": [
              "<div>\n",
              "<style scoped>\n",
              "    .dataframe tbody tr th:only-of-type {\n",
              "        vertical-align: middle;\n",
              "    }\n",
              "\n",
              "    .dataframe tbody tr th {\n",
              "        vertical-align: top;\n",
              "    }\n",
              "\n",
              "    .dataframe thead th {\n",
              "        text-align: right;\n",
              "    }\n",
              "</style>\n",
              "<table border=\"1\" class=\"dataframe\">\n",
              "  <thead>\n",
              "    <tr style=\"text-align: right;\">\n",
              "      <th></th>\n",
              "      <th>Target</th>\n",
              "      <th>FAVOR</th>\n",
              "      <th>AGAINST</th>\n",
              "      <th>NONE</th>\n",
              "    </tr>\n",
              "  </thead>\n",
              "  <tbody>\n",
              "    <tr>\n",
              "      <th>0</th>\n",
              "      <td>Hillary Clinton</td>\n",
              "      <td>118</td>\n",
              "      <td>393</td>\n",
              "      <td>178</td>\n",
              "    </tr>\n",
              "    <tr>\n",
              "      <th>1</th>\n",
              "      <td>Legalization of Abortion</td>\n",
              "      <td>121</td>\n",
              "      <td>355</td>\n",
              "      <td>177</td>\n",
              "    </tr>\n",
              "    <tr>\n",
              "      <th>2</th>\n",
              "      <td>Atheism</td>\n",
              "      <td>92</td>\n",
              "      <td>304</td>\n",
              "      <td>117</td>\n",
              "    </tr>\n",
              "    <tr>\n",
              "      <th>3</th>\n",
              "      <td>Climate Change is a Real Concern</td>\n",
              "      <td>212</td>\n",
              "      <td>15</td>\n",
              "      <td>168</td>\n",
              "    </tr>\n",
              "    <tr>\n",
              "      <th>4</th>\n",
              "      <td>Feminist Movement</td>\n",
              "      <td>210</td>\n",
              "      <td>328</td>\n",
              "      <td>126</td>\n",
              "    </tr>\n",
              "  </tbody>\n",
              "</table>\n",
              "</div>"
            ],
            "text/plain": [
              "                             Target FAVOR AGAINST NONE\n",
              "0                   Hillary Clinton   118     393  178\n",
              "1          Legalization of Abortion   121     355  177\n",
              "2                           Atheism    92     304  117\n",
              "3  Climate Change is a Real Concern   212      15  168\n",
              "4                 Feminist Movement   210     328  126"
            ]
          },
          "metadata": {
            "tags": []
          },
          "execution_count": 159
        }
      ]
    },
    {
      "cell_type": "code",
      "metadata": {
        "id": "G3eHwwwP_82t",
        "outputId": "0dbbc88a-2d7b-4fe9-d950-b95eb274ddff",
        "colab": {
          "base_uri": "https://localhost:8080/",
          "height": 0
        }
      },
      "source": [
        "# Grouped bar graph for stance values of each target value.\n",
        "pos = list(range(len(df['FAVOR']))) \n",
        "width = 0.25 \n",
        "fig, ax = plt.subplots(figsize=(20,10))\n",
        "plt.bar(pos, df['FAVOR'], width, alpha=0.5, color='#FF8000', label=df['Target'][0]) \n",
        "plt.bar([p + width for p in pos], df['AGAINST'], width, alpha=0.5, color='#0080FF', label=df['Target'][1]) \n",
        "plt.bar([p + width*2 for p in pos], df['NONE'], width, alpha=0.5, color='#66FF66', label=df['Target'][2]) \n",
        "ax.set_ylabel('Count')\n",
        "ax.set_title('Count of tweets')\n",
        "ax.set_xticks([p + 1.5 * width for p in pos])\n",
        "ax.set_xticklabels(df['Target'])\n",
        "plt.xlim(min(pos)-width, max(pos)+width*4)\n",
        "plt.ylim([0, max(df['FAVOR'] + df['AGAINST'] + df['NONE'])] )\n",
        "plt.legend(['FAVOR', 'AGAINST', 'NONE'], loc='upper right')\n",
        "plt.grid()\n",
        "plt.show()"
      ],
      "execution_count": 160,
      "outputs": [
        {
          "output_type": "display_data",
          "data": {
            "image/png": "[encoded data removed]",
            "text/plain": [
              "<Figure size 1440x720 with 1 Axes>"
            ]
          },
          "metadata": {
            "tags": [],
            "needs_background": "light"
          }
        }
      ]
    },
    {
      "cell_type": "markdown",
      "metadata": {
        "id": "UoSqqoTashRa"
      },
      "source": [
        "We can see from the above exploration that there is a large difference between number of tweets of each target value. We can also find out that there is a class imbalance problem present in the data as number of tweets have large difference between each stance for each target. For example, for target value \"Climate Change is a Real Concern\", there are only 15 tweets with Stance \"AGAINST\" it.\n",
        "\n",
        "\n",
        "So below we are using two different appraches to tackle this problem. In the first approach we are considering the whole dataset as an input to a single model and try to build a deep model to train this data. In the second approach we divide the dataset according to the target values and then try to build a model for each target value to predict its stance so there are 5 different models for 5 different target values.\n"
      ]
    },
    {
      "cell_type": "markdown",
      "metadata": {
        "id": "X9O7hrXxaMGO"
      },
      "source": [
        "# Approach 1 : Building a model which takes whole data as a input."
      ]
    },
    {
      "cell_type": "markdown",
      "metadata": {
        "id": "7fniHrrVx5wp"
      },
      "source": [
        "The main task is to predict the Stance of a particular tweet based on the tweet content and the target it is mentioned for. \n",
        "\n",
        "So for classification purpose we concatenate the tweet statement with its corresponding target value and store it as a complete tweet.\n"
      ]
    },
    {
      "cell_type": "code",
      "metadata": {
        "id": "9D95ZRbdanCp",
        "outputId": "7b83dc70-c3db-4553-e9b9-4e8f678b4cb1",
        "colab": {
          "base_uri": "https://localhost:8080/",
          "height": 0
        }
      },
      "source": [
        "# as we have to use only tweet sentences and Target as an input for detecting the Stance, we concatenate this features into a single feature \n",
        "train_data = traindata[['Tweet','Stance','Target']]\n",
        "train_data[\"Tweet\"] = train_data[\"Tweet\"] + \" \" + train_data[\"Target\"]\n",
        "train_data.shape"
      ],
      "execution_count": 161,
      "outputs": [
        {
          "output_type": "stream",
          "text": [
            "/usr/local/lib/python3.6/dist-packages/ipykernel_launcher.py:3: SettingWithCopyWarning: \n",
            "A value is trying to be set on a copy of a slice from a DataFrame.\n",
            "Try using .loc[row_indexer,col_indexer] = value instead\n",
            "\n",
            "See the caveats in the documentation: https://pandas.pydata.org/pandas-docs/stable/user_guide/indexing.html#returning-a-view-versus-a-copy\n",
            "  This is separate from the ipykernel package so we can avoid doing imports until\n"
          ],
          "name": "stderr"
        },
        {
          "output_type": "execute_result",
          "data": {
            "text/plain": [
              "(2914, 3)"
            ]
          },
          "metadata": {
            "tags": []
          },
          "execution_count": 161
        }
      ]
    },
    {
      "cell_type": "markdown",
      "metadata": {
        "id": "hpJ9ffx6RXe9"
      },
      "source": [
        "***Data Exploration***\n",
        "\n",
        "For futher deep understanding of tweet data we tried some exploration in tweets before preprocessing it. We get a better idea of which kind of preprocessing steps we need to do from it.\n",
        "\n",
        "---\n",
        "\n"
      ]
    },
    {
      "cell_type": "markdown",
      "metadata": {
        "id": "L4b9S5nyyxSh"
      },
      "source": [
        "As a first exploration step, we need to explore the number of words and characters in tweet statements."
      ]
    },
    {
      "cell_type": "code",
      "metadata": {
        "id": "A9pgoOiManJo",
        "outputId": "3a9b55c9-88b2-4e89-961b-b4343fcd6c57",
        "colab": {
          "base_uri": "https://localhost:8080/",
          "height": 0
        }
      },
      "source": [
        "# Some more exloration about the tweets which may helps in preprocessing\n",
        "\n",
        "# Word count in the Tweet column \n",
        "\n",
        "train_data['Word_Count'] = train_data['Tweet'].apply(lambda x: len(str(x).split()))\n",
        "\n",
        "\n",
        "## Character Counts in Tweet column\n",
        "\n",
        "train_data['Character_Count'] = train_data['Tweet'].apply(lambda x: len(x))\n",
        "\n",
        "\n",
        "train_data.head()"
      ],
      "execution_count": 162,
      "outputs": [
        {
          "output_type": "stream",
          "text": [
            "/usr/local/lib/python3.6/dist-packages/ipykernel_launcher.py:5: SettingWithCopyWarning: \n",
            "A value is trying to be set on a copy of a slice from a DataFrame.\n",
            "Try using .loc[row_indexer,col_indexer] = value instead\n",
            "\n",
            "See the caveats in the documentation: https://pandas.pydata.org/pandas-docs/stable/user_guide/indexing.html#returning-a-view-versus-a-copy\n",
            "  \"\"\"\n"
          ],
          "name": "stderr"
        },
        {
          "output_type": "execute_result",
          "data": {
            "text/html": [
              "<div>\n",
              "<style scoped>\n",
              "    .dataframe tbody tr th:only-of-type {\n",
              "        vertical-align: middle;\n",
              "    }\n",
              "\n",
              "    .dataframe tbody tr th {\n",
              "        vertical-align: top;\n",
              "    }\n",
              "\n",
              "    .dataframe thead th {\n",
              "        text-align: right;\n",
              "    }\n",
              "</style>\n",
              "<table border=\"1\" class=\"dataframe\">\n",
              "  <thead>\n",
              "    <tr style=\"text-align: right;\">\n",
              "      <th></th>\n",
              "      <th>Tweet</th>\n",
              "      <th>Stance</th>\n",
              "      <th>Target</th>\n",
              "      <th>Word_Count</th>\n",
              "      <th>Character_Count</th>\n",
              "    </tr>\n",
              "  </thead>\n",
              "  <tbody>\n",
              "    <tr>\n",
              "      <th>0</th>\n",
              "      <td>@tedcruz And, #HandOverTheServer she wiped cle...</td>\n",
              "      <td>AGAINST</td>\n",
              "      <td>Hillary Clinton</td>\n",
              "      <td>19</td>\n",
              "      <td>143</td>\n",
              "    </tr>\n",
              "    <tr>\n",
              "      <th>1</th>\n",
              "      <td>Hillary is our best choice if we truly want to...</td>\n",
              "      <td>FAVOR</td>\n",
              "      <td>Hillary Clinton</td>\n",
              "      <td>18</td>\n",
              "      <td>105</td>\n",
              "    </tr>\n",
              "    <tr>\n",
              "      <th>2</th>\n",
              "      <td>@TheView I think our country is ready for a fe...</td>\n",
              "      <td>AGAINST</td>\n",
              "      <td>Hillary Clinton</td>\n",
              "      <td>18</td>\n",
              "      <td>97</td>\n",
              "    </tr>\n",
              "    <tr>\n",
              "      <th>3</th>\n",
              "      <td>I just gave an unhealthy amount of my hard-ear...</td>\n",
              "      <td>AGAINST</td>\n",
              "      <td>Hillary Clinton</td>\n",
              "      <td>21</td>\n",
              "      <td>140</td>\n",
              "    </tr>\n",
              "    <tr>\n",
              "      <th>4</th>\n",
              "      <td>@PortiaABoulger Thank you for adding me to you...</td>\n",
              "      <td>NONE</td>\n",
              "      <td>Hillary Clinton</td>\n",
              "      <td>11</td>\n",
              "      <td>68</td>\n",
              "    </tr>\n",
              "  </tbody>\n",
              "</table>\n",
              "</div>"
            ],
            "text/plain": [
              "                                               Tweet  ... Character_Count\n",
              "0  @tedcruz And, #HandOverTheServer she wiped cle...  ...             143\n",
              "1  Hillary is our best choice if we truly want to...  ...             105\n",
              "2  @TheView I think our country is ready for a fe...  ...              97\n",
              "3  I just gave an unhealthy amount of my hard-ear...  ...             140\n",
              "4  @PortiaABoulger Thank you for adding me to you...  ...              68\n",
              "\n",
              "[5 rows x 5 columns]"
            ]
          },
          "metadata": {
            "tags": []
          },
          "execution_count": 162
        }
      ]
    },
    {
      "cell_type": "markdown",
      "metadata": {
        "id": "_g951fDh2O4W"
      },
      "source": [
        "In the next step of exploration we checked the number of stop words in the sentence as well as the average word length of the tweet."
      ]
    },
    {
      "cell_type": "code",
      "metadata": {
        "id": "WbOP51w3anhD",
        "outputId": "a39c83b2-bd1a-4600-da05-2b12132d30b0",
        "colab": {
          "base_uri": "https://localhost:8080/",
          "height": 0
        }
      },
      "source": [
        "# Calculating the average word length [calculated using formula =  (Character_Count/Word_Count)]\n",
        "\n",
        "train_data['Average_Word_length'] = train_data['Character_Count']/train_data['Word_Count']\n",
        "\n",
        "# Counting the stop words\n",
        "\n",
        "train_data['Stop_words_count'] = train_data['Tweet'].apply(lambda x: len([t for t in x.split() if t in STOP_WORDS]))\n",
        "\n",
        "train_data.head()"
      ],
      "execution_count": 163,
      "outputs": [
        {
          "output_type": "execute_result",
          "data": {
            "text/html": [
              "<div>\n",
              "<style scoped>\n",
              "    .dataframe tbody tr th:only-of-type {\n",
              "        vertical-align: middle;\n",
              "    }\n",
              "\n",
              "    .dataframe tbody tr th {\n",
              "        vertical-align: top;\n",
              "    }\n",
              "\n",
              "    .dataframe thead th {\n",
              "        text-align: right;\n",
              "    }\n",
              "</style>\n",
              "<table border=\"1\" class=\"dataframe\">\n",
              "  <thead>\n",
              "    <tr style=\"text-align: right;\">\n",
              "      <th></th>\n",
              "      <th>Tweet</th>\n",
              "      <th>Stance</th>\n",
              "      <th>Target</th>\n",
              "      <th>Word_Count</th>\n",
              "      <th>Character_Count</th>\n",
              "      <th>Average_Word_length</th>\n",
              "      <th>Stop_words_count</th>\n",
              "    </tr>\n",
              "  </thead>\n",
              "  <tbody>\n",
              "    <tr>\n",
              "      <th>0</th>\n",
              "      <td>@tedcruz And, #HandOverTheServer she wiped cle...</td>\n",
              "      <td>AGAINST</td>\n",
              "      <td>Hillary Clinton</td>\n",
              "      <td>19</td>\n",
              "      <td>143</td>\n",
              "      <td>7.526316</td>\n",
              "      <td>3</td>\n",
              "    </tr>\n",
              "    <tr>\n",
              "      <th>1</th>\n",
              "      <td>Hillary is our best choice if we truly want to...</td>\n",
              "      <td>FAVOR</td>\n",
              "      <td>Hillary Clinton</td>\n",
              "      <td>18</td>\n",
              "      <td>105</td>\n",
              "      <td>5.833333</td>\n",
              "      <td>7</td>\n",
              "    </tr>\n",
              "    <tr>\n",
              "      <th>2</th>\n",
              "      <td>@TheView I think our country is ready for a fe...</td>\n",
              "      <td>AGAINST</td>\n",
              "      <td>Hillary Clinton</td>\n",
              "      <td>18</td>\n",
              "      <td>97</td>\n",
              "      <td>5.388889</td>\n",
              "      <td>7</td>\n",
              "    </tr>\n",
              "    <tr>\n",
              "      <th>3</th>\n",
              "      <td>I just gave an unhealthy amount of my hard-ear...</td>\n",
              "      <td>AGAINST</td>\n",
              "      <td>Hillary Clinton</td>\n",
              "      <td>21</td>\n",
              "      <td>140</td>\n",
              "      <td>6.666667</td>\n",
              "      <td>7</td>\n",
              "    </tr>\n",
              "    <tr>\n",
              "      <th>4</th>\n",
              "      <td>@PortiaABoulger Thank you for adding me to you...</td>\n",
              "      <td>NONE</td>\n",
              "      <td>Hillary Clinton</td>\n",
              "      <td>11</td>\n",
              "      <td>68</td>\n",
              "      <td>6.181818</td>\n",
              "      <td>5</td>\n",
              "    </tr>\n",
              "  </tbody>\n",
              "</table>\n",
              "</div>"
            ],
            "text/plain": [
              "                                               Tweet  ... Stop_words_count\n",
              "0  @tedcruz And, #HandOverTheServer she wiped cle...  ...                3\n",
              "1  Hillary is our best choice if we truly want to...  ...                7\n",
              "2  @TheView I think our country is ready for a fe...  ...                7\n",
              "3  I just gave an unhealthy amount of my hard-ear...  ...                7\n",
              "4  @PortiaABoulger Thank you for adding me to you...  ...                5\n",
              "\n",
              "[5 rows x 7 columns]"
            ]
          },
          "metadata": {
            "tags": []
          },
          "execution_count": 163
        }
      ]
    },
    {
      "cell_type": "markdown",
      "metadata": {
        "id": "Jly0-mF12cvr"
      },
      "source": [
        "The next step is to explore the hashtags and mentions in the tweet.  We believe gashtags and mentions play an important role during prediction task. During literature survey we came to know that from hashtags we manually extract some decisions regarding the stance of that tweet.\n",
        "\n",
        "For example, tag #NoMoreReligions depicts that the tweet should be in FAVOR with target Atheism. while tag #Godswill states probability of the tweet being AGAINST the Atheism. but some tags like #atheism are ambiguous and we cannot predict Stance manually from them.\n",
        "\n",
        "For this purpose we need to know the number of Hashtags and mentions in the tweet first."
      ]
    },
    {
      "cell_type": "code",
      "metadata": {
        "id": "ikeXBs5Banwv",
        "outputId": "9ba18559-7e16-44a9-f47e-de4c80761337",
        "colab": {
          "base_uri": "https://localhost:8080/",
          "height": 0
        }
      },
      "source": [
        "## Count HashTags -> # and mentions -> @\n",
        "\n",
        "train_data['HashTag_Count'] = train_data['Tweet'].apply(lambda x : len([t for t in x.split() if t.startswith(\"#\")])) \n",
        "\n",
        "train_data['Mention_Count'] = train_data['Tweet'].apply(lambda x : len([t for t in x.split() if t.startswith(\"@\")])) \n",
        "\n",
        "train_data.head()"
      ],
      "execution_count": 164,
      "outputs": [
        {
          "output_type": "execute_result",
          "data": {
            "text/html": [
              "<div>\n",
              "<style scoped>\n",
              "    .dataframe tbody tr th:only-of-type {\n",
              "        vertical-align: middle;\n",
              "    }\n",
              "\n",
              "    .dataframe tbody tr th {\n",
              "        vertical-align: top;\n",
              "    }\n",
              "\n",
              "    .dataframe thead th {\n",
              "        text-align: right;\n",
              "    }\n",
              "</style>\n",
              "<table border=\"1\" class=\"dataframe\">\n",
              "  <thead>\n",
              "    <tr style=\"text-align: right;\">\n",
              "      <th></th>\n",
              "      <th>Tweet</th>\n",
              "      <th>Stance</th>\n",
              "      <th>Target</th>\n",
              "      <th>Word_Count</th>\n",
              "      <th>Character_Count</th>\n",
              "      <th>Average_Word_length</th>\n",
              "      <th>Stop_words_count</th>\n",
              "      <th>HashTag_Count</th>\n",
              "      <th>Mention_Count</th>\n",
              "    </tr>\n",
              "  </thead>\n",
              "  <tbody>\n",
              "    <tr>\n",
              "      <th>0</th>\n",
              "      <td>@tedcruz And, #HandOverTheServer she wiped cle...</td>\n",
              "      <td>AGAINST</td>\n",
              "      <td>Hillary Clinton</td>\n",
              "      <td>19</td>\n",
              "      <td>143</td>\n",
              "      <td>7.526316</td>\n",
              "      <td>3</td>\n",
              "      <td>3</td>\n",
              "      <td>1</td>\n",
              "    </tr>\n",
              "    <tr>\n",
              "      <th>1</th>\n",
              "      <td>Hillary is our best choice if we truly want to...</td>\n",
              "      <td>FAVOR</td>\n",
              "      <td>Hillary Clinton</td>\n",
              "      <td>18</td>\n",
              "      <td>105</td>\n",
              "      <td>5.833333</td>\n",
              "      <td>7</td>\n",
              "      <td>1</td>\n",
              "      <td>0</td>\n",
              "    </tr>\n",
              "    <tr>\n",
              "      <th>2</th>\n",
              "      <td>@TheView I think our country is ready for a fe...</td>\n",
              "      <td>AGAINST</td>\n",
              "      <td>Hillary Clinton</td>\n",
              "      <td>18</td>\n",
              "      <td>97</td>\n",
              "      <td>5.388889</td>\n",
              "      <td>7</td>\n",
              "      <td>0</td>\n",
              "      <td>1</td>\n",
              "    </tr>\n",
              "    <tr>\n",
              "      <th>3</th>\n",
              "      <td>I just gave an unhealthy amount of my hard-ear...</td>\n",
              "      <td>AGAINST</td>\n",
              "      <td>Hillary Clinton</td>\n",
              "      <td>21</td>\n",
              "      <td>140</td>\n",
              "      <td>6.666667</td>\n",
              "      <td>7</td>\n",
              "      <td>1</td>\n",
              "      <td>0</td>\n",
              "    </tr>\n",
              "    <tr>\n",
              "      <th>4</th>\n",
              "      <td>@PortiaABoulger Thank you for adding me to you...</td>\n",
              "      <td>NONE</td>\n",
              "      <td>Hillary Clinton</td>\n",
              "      <td>11</td>\n",
              "      <td>68</td>\n",
              "      <td>6.181818</td>\n",
              "      <td>5</td>\n",
              "      <td>0</td>\n",
              "      <td>1</td>\n",
              "    </tr>\n",
              "  </tbody>\n",
              "</table>\n",
              "</div>"
            ],
            "text/plain": [
              "                                               Tweet  ... Mention_Count\n",
              "0  @tedcruz And, #HandOverTheServer she wiped cle...  ...             1\n",
              "1  Hillary is our best choice if we truly want to...  ...             0\n",
              "2  @TheView I think our country is ready for a fe...  ...             1\n",
              "3  I just gave an unhealthy amount of my hard-ear...  ...             0\n",
              "4  @PortiaABoulger Thank you for adding me to you...  ...             1\n",
              "\n",
              "[5 rows x 9 columns]"
            ]
          },
          "metadata": {
            "tags": []
          },
          "execution_count": 164
        }
      ]
    },
    {
      "cell_type": "markdown",
      "metadata": {
        "id": "U64xah9j3-wh"
      },
      "source": [
        "In the below step we checked the number of digits and Upper case characters in the tweet. That is because we believe, people mostly write in capital letters when they are either highly in FAVOR or in AGAINST with something."
      ]
    },
    {
      "cell_type": "code",
      "metadata": {
        "id": "SSuEHVC5an8q",
        "outputId": "95d3ee74-1add-4396-d6ad-e52981786c7c",
        "colab": {
          "base_uri": "https://localhost:8080/",
          "height": 0
        }
      },
      "source": [
        "## Checking the numeric digits present in the tweets\n",
        "\n",
        "train_data['numeric_digit_Count'] = train_data['Tweet'].apply(lambda x : len([t for t in x.split() if t.isdigit()])) \n",
        "\n",
        "# Checking the count of Upper Case in the tweet (Because mostly people write in capital when they are Happy or Sad)\n",
        "\n",
        "train_data['uppercase_Count'] = train_data['Tweet'].apply(lambda x : len([t for t in x.split() if t.isupper() and len(x)>3])) \n",
        "\n",
        "train_data.head()"
      ],
      "execution_count": 165,
      "outputs": [
        {
          "output_type": "execute_result",
          "data": {
            "text/html": [
              "<div>\n",
              "<style scoped>\n",
              "    .dataframe tbody tr th:only-of-type {\n",
              "        vertical-align: middle;\n",
              "    }\n",
              "\n",
              "    .dataframe tbody tr th {\n",
              "        vertical-align: top;\n",
              "    }\n",
              "\n",
              "    .dataframe thead th {\n",
              "        text-align: right;\n",
              "    }\n",
              "</style>\n",
              "<table border=\"1\" class=\"dataframe\">\n",
              "  <thead>\n",
              "    <tr style=\"text-align: right;\">\n",
              "      <th></th>\n",
              "      <th>Tweet</th>\n",
              "      <th>Stance</th>\n",
              "      <th>Target</th>\n",
              "      <th>Word_Count</th>\n",
              "      <th>Character_Count</th>\n",
              "      <th>Average_Word_length</th>\n",
              "      <th>Stop_words_count</th>\n",
              "      <th>HashTag_Count</th>\n",
              "      <th>Mention_Count</th>\n",
              "      <th>numeric_digit_Count</th>\n",
              "      <th>uppercase_Count</th>\n",
              "    </tr>\n",
              "  </thead>\n",
              "  <tbody>\n",
              "    <tr>\n",
              "      <th>0</th>\n",
              "      <td>@tedcruz And, #HandOverTheServer she wiped cle...</td>\n",
              "      <td>AGAINST</td>\n",
              "      <td>Hillary Clinton</td>\n",
              "      <td>19</td>\n",
              "      <td>143</td>\n",
              "      <td>7.526316</td>\n",
              "      <td>3</td>\n",
              "      <td>3</td>\n",
              "      <td>1</td>\n",
              "      <td>0</td>\n",
              "      <td>0</td>\n",
              "    </tr>\n",
              "    <tr>\n",
              "      <th>1</th>\n",
              "      <td>Hillary is our best choice if we truly want to...</td>\n",
              "      <td>FAVOR</td>\n",
              "      <td>Hillary Clinton</td>\n",
              "      <td>18</td>\n",
              "      <td>105</td>\n",
              "      <td>5.833333</td>\n",
              "      <td>7</td>\n",
              "      <td>1</td>\n",
              "      <td>0</td>\n",
              "      <td>0</td>\n",
              "      <td>0</td>\n",
              "    </tr>\n",
              "    <tr>\n",
              "      <th>2</th>\n",
              "      <td>@TheView I think our country is ready for a fe...</td>\n",
              "      <td>AGAINST</td>\n",
              "      <td>Hillary Clinton</td>\n",
              "      <td>18</td>\n",
              "      <td>97</td>\n",
              "      <td>5.388889</td>\n",
              "      <td>7</td>\n",
              "      <td>0</td>\n",
              "      <td>1</td>\n",
              "      <td>0</td>\n",
              "      <td>1</td>\n",
              "    </tr>\n",
              "    <tr>\n",
              "      <th>3</th>\n",
              "      <td>I just gave an unhealthy amount of my hard-ear...</td>\n",
              "      <td>AGAINST</td>\n",
              "      <td>Hillary Clinton</td>\n",
              "      <td>21</td>\n",
              "      <td>140</td>\n",
              "      <td>6.666667</td>\n",
              "      <td>7</td>\n",
              "      <td>1</td>\n",
              "      <td>0</td>\n",
              "      <td>0</td>\n",
              "      <td>2</td>\n",
              "    </tr>\n",
              "    <tr>\n",
              "      <th>4</th>\n",
              "      <td>@PortiaABoulger Thank you for adding me to you...</td>\n",
              "      <td>NONE</td>\n",
              "      <td>Hillary Clinton</td>\n",
              "      <td>11</td>\n",
              "      <td>68</td>\n",
              "      <td>6.181818</td>\n",
              "      <td>5</td>\n",
              "      <td>0</td>\n",
              "      <td>1</td>\n",
              "      <td>0</td>\n",
              "      <td>0</td>\n",
              "    </tr>\n",
              "  </tbody>\n",
              "</table>\n",
              "</div>"
            ],
            "text/plain": [
              "                                               Tweet  ... uppercase_Count\n",
              "0  @tedcruz And, #HandOverTheServer she wiped cle...  ...               0\n",
              "1  Hillary is our best choice if we truly want to...  ...               0\n",
              "2  @TheView I think our country is ready for a fe...  ...               1\n",
              "3  I just gave an unhealthy amount of my hard-ear...  ...               2\n",
              "4  @PortiaABoulger Thank you for adding me to you...  ...               0\n",
              "\n",
              "[5 rows x 11 columns]"
            ]
          },
          "metadata": {
            "tags": []
          },
          "execution_count": 165
        }
      ]
    },
    {
      "cell_type": "markdown",
      "metadata": {
        "id": "zYNV-2k6hrf4"
      },
      "source": [
        "\n",
        "\n",
        "---\n",
        "\n",
        "**Preprocessing the tweets**\n",
        "\n",
        "After some interesting exploration in Tweet column, we started some basic preprocessing. The first and very basic step is to convert the tweet into lowercase."
      ]
    },
    {
      "cell_type": "code",
      "metadata": {
        "id": "hr-nQaDdannk",
        "outputId": "402751c3-b66f-4d55-c8df-60a9e805bdd7",
        "colab": {
          "base_uri": "https://localhost:8080/",
          "height": 0
        }
      },
      "source": [
        "# Converting to lower case\n",
        "\n",
        "train_data['Tweet'] = train_data['Tweet'].apply(lambda x: x.lower()) \n",
        "\n",
        "train_data['Tweet'].head(2)"
      ],
      "execution_count": 166,
      "outputs": [
        {
          "output_type": "execute_result",
          "data": {
            "text/plain": [
              "0    @tedcruz and, #handovertheserver she wiped cle...\n",
              "1    hillary is our best choice if we truly want to...\n",
              "Name: Tweet, dtype: object"
            ]
          },
          "metadata": {
            "tags": []
          },
          "execution_count": 166
        }
      ]
    },
    {
      "cell_type": "markdown",
      "metadata": {
        "id": "rDra46Rl43xy"
      },
      "source": [
        "the next step is to convert contracted word into their expanded format. This step is needed as we want to seperate the words like 'don't' into 'do not' so that model can understand them clearly."
      ]
    },
    {
      "cell_type": "code",
      "metadata": {
        "id": "6vF9MaUganY7"
      },
      "source": [
        "# Contraction to Expandion [Meaning converting words like \"don't\" to \"do not\"]\n",
        "\n",
        "contractions = { \n",
        "\"ain't\": \"am not\",\n",
        "\"aren't\": \"are not\",\n",
        "\"can't\": \"cannot\",\n",
        "\"can't've\": \"cannot have\",\n",
        "\"cause\": \"because\",\n",
        "\"could've\": \"could have\",\n",
        "\"couldn't\": \"could not\",\n",
        "\"didn't\": \"did not\",\n",
        "\"doesn't\": \"does not\",\n",
        "\"don't\": \"do not\",\n",
        "\"hadn't\": \"had not\",\n",
        "\"hasn't\": \"has not\",\n",
        "\"haven't\": \"have not\",\n",
        "\"he'd\": \"he had\",\n",
        "\"he'll\": \"he will\",\n",
        "\"he's\": \"he is\",\n",
        "\"how'd\": \"how did\",\n",
        "\"how'd'y\": \"how do you\",\n",
        "\"how'll\": \"how will\",\n",
        "\"how's\": \"how is\",\n",
        "\"i'd\": \"i had\",\n",
        "\"i'll\": \"i will\",\n",
        "\"i'm\": \"i am\",\n",
        "\"i've\": \"i have\",\n",
        "\"isn't\": \"is not\",\n",
        "\"it'd\": \"it had\",\n",
        "\"it'll\": \"it will\",\n",
        "\"it's\": \"it is\",\n",
        "\"let's\": \"let us\",\n",
        "\"ma'am\": \"madam\",\n",
        "\"mayn't\": \"may not\",\n",
        "\"might've\": \"might have\",\n",
        "\"mightn't\": \"might not\",\n",
        "\"must've\": \"must have\",\n",
        "\"mustn't\": \"must not\",\n",
        "\"needn't\": \"need not\",\n",
        "\"o'clock\": \"of the clock\",\n",
        "\"oughtn't\": \"ought not\",\n",
        "\"shan't\": \"shall not\",\n",
        "\"sha'n't\": \"shall not\",\n",
        "\"she'd\": \"she had\",\n",
        "\"she'll\": \"she will\",\n",
        "\"she's\": \"she is\",\n",
        "\"should've\": \"should have\",\n",
        "\"shouldn't\": \"should not\",\n",
        "\"so've\": \"so have\",\n",
        "\"so's\": \"so is\",\n",
        "\"that'd\": \"that had\",\n",
        "\"that's\": \"that is\",\n",
        "\"there'd\": \"there had\",\n",
        "\"there's\": \"there is\",\n",
        "\"they'd\": \"they had\",\n",
        "\"they'll\": \"they will\",\n",
        "\"they're\": \"they are\",\n",
        "\"they've\": \"they have\",\n",
        "\"to've\": \"to have\",\n",
        "\"wasn't\": \"was not\",\n",
        "\"we'd\": \"we had\",\n",
        "\"we'll\": \"we will\",\n",
        "\"we're\": \"we are\",\n",
        "\"we've\": \"we have\",\n",
        "\"weren't\": \"were not\",\n",
        "\"what'll\": \"what will\",\n",
        "\"what're\": \"what are\",\n",
        "\"what's\": \"what is\",\n",
        "\"what've\": \"what have\",\n",
        "\"when's\": \"when is\",\n",
        "\"when've\": \"when have\",\n",
        "\"where'd\": \"where did\",\n",
        "\"where's\": \"where is\",\n",
        "\"where've\": \"where have\",\n",
        "\"who'll\": \"who will\",\n",
        "\"who'll've\": \"who will have\",\n",
        "\"who's\": \"who is\",\n",
        "\"who've\": \"who have\",\n",
        "\"why's\": \"why is\",\n",
        "\"why've\": \"why have\",\n",
        "\"will've\": \"will have\",\n",
        "\"won't\": \"will not\",\n",
        "\"won't've\": \"will not have\",\n",
        "\"would've\": \"would have\",\n",
        "\"wouldn't\": \"would not\",\n",
        "\"wouldn't've\": \"would not have\",\n",
        "\"y'all\": \"you all\",\n",
        "\"y'all'd\": \"you all would\",\n",
        "\"y'all'd've\": \"you all would have\",\n",
        "\"y'all're\": \"you all are\",\n",
        "\"y'all've\": \"you all have\",\n",
        "\"you'd\": \"you had\",\n",
        "\"you'll\": \"you will\",\n",
        "\"you're\": \"you are\",\n",
        "\"you've\": \"you have\",\n",
        "\" n \":\"and\",\n",
        "\" u \": \"you\",\n",
        "}\n",
        "\n",
        "def con_to_ext(x):\n",
        "  if type(x) is str:\n",
        "    for key in contractions:\n",
        "      value = contractions[key]\n",
        "      x = x.replace(key, value)\n",
        "    return x\n",
        "  else:\n",
        "    return x"
      ],
      "execution_count": 167,
      "outputs": []
    },
    {
      "cell_type": "code",
      "metadata": {
        "id": "EhfNu43aanGQ",
        "outputId": "59fe5532-05cb-41cc-b3d5-405505c033e8",
        "colab": {
          "base_uri": "https://localhost:8080/",
          "height": 0
        }
      },
      "source": [
        "train_data['Tweet'] = train_data['Tweet'].apply(lambda x: con_to_ext(x))\n",
        "train_data['Tweet'].head(5)"
      ],
      "execution_count": 168,
      "outputs": [
        {
          "output_type": "execute_result",
          "data": {
            "text/plain": [
              "0    @tedcruz and, #handovertheserver she wiped cle...\n",
              "1    hillary is our best choice if we truly want to...\n",
              "2    @theview i think our country is ready for a fe...\n",
              "3    i just gave an unhealthy amount of my hard-ear...\n",
              "4    @portiaaboulger thank you for adding me to you...\n",
              "Name: Tweet, dtype: object"
            ]
          },
          "metadata": {
            "tags": []
          },
          "execution_count": 168
        }
      ]
    },
    {
      "cell_type": "markdown",
      "metadata": {
        "id": "rfGLSMgE6lBE"
      },
      "source": [
        "The next step of preprocessing we done is to remove the email ids from the tweets as they may contain personal data in alphanumeric format which does not make sense towards Stance detection."
      ]
    },
    {
      "cell_type": "code",
      "metadata": {
        "id": "-h1KhlT_am_J"
      },
      "source": [
        "## Count and remove emails from the tweet\n",
        "import re\n",
        "train_data['email'] = train_data['Tweet'].apply(lambda x: re.findall(r'([-a-zA-Z0-9._-]+@[-a-zA-Z0-9._-]+\\.[-a-zA-Z0-9_-]+)',x))"
      ],
      "execution_count": 169,
      "outputs": []
    },
    {
      "cell_type": "code",
      "metadata": {
        "id": "97CTbaaJjKQY",
        "outputId": "ba7545d1-0088-4ff3-a20f-597dc94567a2",
        "colab": {
          "base_uri": "https://localhost:8080/",
          "height": 0
        }
      },
      "source": [
        "# Counting the number of email present in the dataset \n",
        "\n",
        "train_data['email_count'] = train_data['email'].apply(lambda x: len(x))\n",
        "\n",
        "# Checking if the emails are greater that 1\n",
        "\n",
        "train_data[train_data['email_count']>0]"
      ],
      "execution_count": 170,
      "outputs": [
        {
          "output_type": "execute_result",
          "data": {
            "text/html": [
              "<div>\n",
              "<style scoped>\n",
              "    .dataframe tbody tr th:only-of-type {\n",
              "        vertical-align: middle;\n",
              "    }\n",
              "\n",
              "    .dataframe tbody tr th {\n",
              "        vertical-align: top;\n",
              "    }\n",
              "\n",
              "    .dataframe thead th {\n",
              "        text-align: right;\n",
              "    }\n",
              "</style>\n",
              "<table border=\"1\" class=\"dataframe\">\n",
              "  <thead>\n",
              "    <tr style=\"text-align: right;\">\n",
              "      <th></th>\n",
              "      <th>Tweet</th>\n",
              "      <th>Stance</th>\n",
              "      <th>Target</th>\n",
              "      <th>Word_Count</th>\n",
              "      <th>Character_Count</th>\n",
              "      <th>Average_Word_length</th>\n",
              "      <th>Stop_words_count</th>\n",
              "      <th>HashTag_Count</th>\n",
              "      <th>Mention_Count</th>\n",
              "      <th>numeric_digit_Count</th>\n",
              "      <th>uppercase_Count</th>\n",
              "      <th>email</th>\n",
              "      <th>email_count</th>\n",
              "    </tr>\n",
              "  </thead>\n",
              "  <tbody>\n",
              "    <tr>\n",
              "      <th>676</th>\n",
              "      <td>(2/2) 300 words and be sent to climateconferen...</td>\n",
              "      <td>FAVOR</td>\n",
              "      <td>Climate Change is a Real Concern</td>\n",
              "      <td>17</td>\n",
              "      <td>142</td>\n",
              "      <td>8.352941</td>\n",
              "      <td>5</td>\n",
              "      <td>3</td>\n",
              "      <td>0</td>\n",
              "      <td>1</td>\n",
              "      <td>0</td>\n",
              "      <td>[climateconference2015@gmail.com]</td>\n",
              "      <td>1</td>\n",
              "    </tr>\n",
              "    <tr>\n",
              "      <th>2691</th>\n",
              "      <td>worldwide r.e. agents! - support a prolife gro...</td>\n",
              "      <td>AGAINST</td>\n",
              "      <td>Legalization of Abortion</td>\n",
              "      <td>16</td>\n",
              "      <td>129</td>\n",
              "      <td>8.062500</td>\n",
              "      <td>3</td>\n",
              "      <td>1</td>\n",
              "      <td>0</td>\n",
              "      <td>0</td>\n",
              "      <td>2</td>\n",
              "      <td>[proliferealestate@yahoo.com]</td>\n",
              "      <td>1</td>\n",
              "    </tr>\n",
              "  </tbody>\n",
              "</table>\n",
              "</div>"
            ],
            "text/plain": [
              "                                                  Tweet  ... email_count\n",
              "676   (2/2) 300 words and be sent to climateconferen...  ...           1\n",
              "2691  worldwide r.e. agents! - support a prolife gro...  ...           1\n",
              "\n",
              "[2 rows x 13 columns]"
            ]
          },
          "metadata": {
            "tags": []
          },
          "execution_count": 170
        }
      ]
    },
    {
      "cell_type": "code",
      "metadata": {
        "id": "wtBk_1vyjJ8D"
      },
      "source": [
        "## Removing the emails from the Tweet column.\n",
        "\n",
        "train_data['Tweet'] = train_data['Tweet'].apply(lambda x: re.sub(r'([-a-zA-Z0-9._-]+@[-a-zA-Z0-9._-]+\\.[-a-zA-Z0-9_-]+)','',x))"
      ],
      "execution_count": 171,
      "outputs": []
    },
    {
      "cell_type": "markdown",
      "metadata": {
        "id": "RptWUIYd7xys"
      },
      "source": [
        "THe next step of preprocessing is to remove special characters and punctuations from the tweets. we removed all the special characters excluding # and @ from the tweets.\n",
        "\n",
        "After that, we removed extra white spaces from tweets. and removed words which may written in Accented characters.\n",
        "\n",
        "The last step is to remove stop words from the tweet statements.\n"
      ]
    },
    {
      "cell_type": "code",
      "metadata": {
        "id": "8TolLbs8jJbE",
        "outputId": "322a0dd2-f806-411f-c33c-ba822fdcd733",
        "colab": {
          "base_uri": "https://localhost:8080/",
          "height": 0
        }
      },
      "source": [
        "## Removing Special characters and punctuations\n",
        "\n",
        "train_data['Tweet'] = train_data['Tweet'].apply(lambda x: re.sub('[^A-Za-z0-9#@]+',' ',x))\n",
        "\n",
        "## Remove the multiple(extra) spaces\n",
        "\n",
        "train_data['Tweet'] = train_data['Tweet'].apply(lambda x: \" \".join(x.split()))\n",
        "\n",
        "## Remove the Accented characters (e.g. àÿüûâ)\n",
        "import unicodedata\n",
        "\n",
        "def remove_accent(x):\n",
        "  x = unicodedata.normalize('NFKD', x).encode('ascii','ignore').decode('utf-8','ignore')\n",
        "  return x\n",
        "\n",
        "## Applying on tweets\n",
        "train_data['Tweet'] = train_data['Tweet'].apply(lambda x: remove_accent(x))\n",
        "\n",
        "### Removing the stop words\n",
        "\n",
        "train_data['Tweet'] = train_data['Tweet'].apply(lambda x: \" \".join([t for t in x.split() if t not in STOP_WORDS]))\n",
        "\n",
        "\n",
        "train_data['Tweet'].head(5)"
      ],
      "execution_count": 172,
      "outputs": [
        {
          "output_type": "execute_result",
          "data": {
            "text/plain": [
              "0    @tedcruz #handovertheserver wiped clean 30k de...\n",
              "1    hillary best choice truly want continue progre...\n",
              "2    @theview think country ready female pres hilla...\n",
              "3    gave unhealthy hard earned money away big gov ...\n",
              "4    @portiaaboulger thank adding list hillary clinton\n",
              "Name: Tweet, dtype: object"
            ]
          },
          "metadata": {
            "tags": []
          },
          "execution_count": 172
        }
      ]
    },
    {
      "cell_type": "markdown",
      "metadata": {
        "id": "dJkiNwVr9Nw0"
      },
      "source": [
        "The next step is to tokenize (encoding) the preprocessed tweet data and then add padding to the data to make each tweet statement of the same length.\n",
        "\n",
        "for that we copied the Tweet data into a list named 'text'."
      ]
    },
    {
      "cell_type": "code",
      "metadata": {
        "id": "3Zlq3tqta-Et",
        "outputId": "3707e397-12ab-488d-bc80-d1c525e2dd6c",
        "colab": {
          "base_uri": "https://localhost:8080/",
          "height": 0
        }
      },
      "source": [
        "#train_data['Tw'] = train_data['Tweet']\n",
        "#####\n",
        "text = train_data['Tweet'].tolist()\n",
        "text[:3]"
      ],
      "execution_count": 173,
      "outputs": [
        {
          "output_type": "execute_result",
          "data": {
            "text/plain": [
              "['@tedcruz #handovertheserver wiped clean 30k deleted emails explains dereliction duty lies #benghazi etc #tcot hillary clinton',\n",
              " 'hillary best choice truly want continue progressive nation #ohio hillary clinton',\n",
              " '@theview think country ready female pres hillary hillary clinton']"
            ]
          },
          "metadata": {
            "tags": []
          },
          "execution_count": 173
        }
      ]
    },
    {
      "cell_type": "code",
      "metadata": {
        "id": "-0TE5tZAa-tH",
        "outputId": "c1b053cf-a286-49b5-953d-db18c719278c",
        "colab": {
          "base_uri": "https://localhost:8080/",
          "height": 0
        }
      },
      "source": [
        "#####\n",
        "y = train_data['Stance']\n",
        "y = pd.get_dummies(y).values\n",
        "y.shape"
      ],
      "execution_count": 174,
      "outputs": [
        {
          "output_type": "execute_result",
          "data": {
            "text/plain": [
              "(2914, 3)"
            ]
          },
          "metadata": {
            "tags": []
          },
          "execution_count": 174
        }
      ]
    },
    {
      "cell_type": "code",
      "metadata": {
        "id": "Ex9V1b04a-qt",
        "outputId": "45bec769-a4cf-44da-b24a-64b4036ce987",
        "colab": {
          "base_uri": "https://localhost:8080/",
          "height": 0
        }
      },
      "source": [
        "from keras.preprocessing.text import Tokenizer\n",
        "token = Tokenizer()\n",
        "token.fit_on_texts(text)\n",
        "\n",
        "### Calculating the vocabulary size\n",
        "vocab_size = len(token.word_index)+1\n",
        "vocab_size"
      ],
      "execution_count": 175,
      "outputs": [
        {
          "output_type": "execute_result",
          "data": {
            "text/plain": [
              "9021"
            ]
          },
          "metadata": {
            "tags": []
          },
          "execution_count": 175
        }
      ]
    },
    {
      "cell_type": "markdown",
      "metadata": {
        "id": "SIsieoxk-RXy"
      },
      "source": [
        "we used 50 as a max length for the padding to make each sentence of max length 50."
      ]
    },
    {
      "cell_type": "code",
      "metadata": {
        "id": "Xpc2mg7za-B5",
        "outputId": "71c914b1-e4a2-4f22-eaf4-7a99aa8f81a4",
        "colab": {
          "base_uri": "https://localhost:8080/",
          "height": 0
        }
      },
      "source": [
        "## Encoding the text\n",
        "encoded_text = token.texts_to_sequences(text)\n",
        "print(encoded_text[:3])\n",
        "\n",
        "## By default prepadding is done\n",
        "\n",
        "sentence_max_length = 50\n",
        "X = pad_sequences(encoded_text, maxlen=sentence_max_length)\n",
        "print(X.shape)"
      ],
      "execution_count": 176,
      "outputs": [
        {
          "output_type": "stream",
          "text": [
            "[[694, 3155, 3156, 1299, 3157, 819, 124, 1859, 3158, 1022, 130, 151, 435, 51, 2, 5], [2, 53, 68, 436, 24, 311, 1023, 173, 1024, 2, 5], [3159, 34, 99, 152, 153, 1860, 2, 2, 5]]\n",
            "(2914, 50)\n"
          ],
          "name": "stdout"
        }
      ]
    },
    {
      "cell_type": "markdown",
      "metadata": {
        "id": "2pTtyMLI_6TC"
      },
      "source": [
        "\n",
        "\n",
        "---\n",
        "\n",
        "**Word Embedding and Transfer Learning**\n",
        "\n",
        "As we can see from the above that we have very small dataset only with 2914 data points of 5 target values. We can see from above exploration that the data also has class imbalance problem so we are using a pretrained vector weights to use better representation of the vocabulary we have in our data set. \n",
        "\n",
        "We are using Glove Twitter 100 dimensional pretrained vector present on https://nlp.stanford.edu/projects/glove/\n",
        "\n",
        "This pretrained vector is present in various dimentions as 50d, 100d and 200d but we are simply using 100d vector for our task.\n",
        "we make a glove vector dictionary to save all the words from pretrained vector file."
      ]
    },
    {
      "cell_type": "code",
      "metadata": {
        "id": "2JL5Q9xuhRT5"
      },
      "source": [
        "##### Glove Vector\n",
        "# e.g. hello -0.11 0.23 0.333 0.54 0.65\n",
        "glove_vectors = dict()\n",
        "#file = open('/content/drive/My Drive/Colab Notebooks/TweetsDataset/glove.twitter.27B.100d.txt', encoding='utf-8')\n",
        "file = open('/content/drive/My Drive/ColabNotebooks/DeepLearningLabs/Assignment2/glove.twitter.27B.100d.txt', encoding='utf-8')\n",
        "glove_vectors = dict()\n",
        "for line in file:\n",
        "  values = line.split()\n",
        "  word = values[0]\n",
        "  features = np.asarray(values[1:])\n",
        "  glove_vectors[word] = features\n",
        "\n",
        "file.close()"
      ],
      "execution_count": 177,
      "outputs": []
    },
    {
      "cell_type": "markdown",
      "metadata": {
        "id": "n5wXUEA-CAQ2"
      },
      "source": [
        "We can see from the below code that the Glove vector has almost 1.5 million words present with dimension shape of 100."
      ]
    },
    {
      "cell_type": "code",
      "metadata": {
        "id": "nVGwo3zvhRRn",
        "outputId": "3c24a594-5314-4716-ad79-265d6d03307e",
        "colab": {
          "base_uri": "https://localhost:8080/",
          "height": 0
        }
      },
      "source": [
        "### Prints the length of keys in glove vector dictionary\n",
        "print(len(glove_vectors.keys()))\n",
        "\n",
        "#### displaying the shape of the glove vector just for testing purpose\n",
        "print(glove_vectors.get('to').shape)"
      ],
      "execution_count": 178,
      "outputs": [
        {
          "output_type": "stream",
          "text": [
            "1193514\n",
            "(100,)\n"
          ],
          "name": "stdout"
        }
      ]
    },
    {
      "cell_type": "markdown",
      "metadata": {
        "id": "Nvz2WuTpCbLf"
      },
      "source": [
        "The next step is to create an Embedded Matrix by mapping each word in our vocabulary with the same word in the Glove Vector.\n",
        "The words which are not in the Glove vector are added to the list named 'Not_words'."
      ]
    },
    {
      "cell_type": "code",
      "metadata": {
        "id": "eGB6D7DphRMG",
        "outputId": "0b81b281-679a-4fc2-c94e-dea88f7d059e",
        "colab": {
          "base_uri": "https://localhost:8080/",
          "height": 0
        }
      },
      "source": [
        "E_T = np.zeros((vocab_size , 100))\n",
        "Not_words = list()\n",
        "for word, i in token.word_index.items():\n",
        "    embedding_vector = glove_vectors.get(word)\n",
        "    if embedding_vector is not None:  \n",
        "        E_T[i] = embedding_vector\n",
        "    else:\n",
        "      #print(word) # Printing the misspelled words\n",
        "      Not_words.append(word)\n",
        "\n",
        "print(\"Embedding Matrix size: \", E_T.size)\n",
        "print(\"Words which are not in Embedding Matrix: \", len(Not_words))"
      ],
      "execution_count": 179,
      "outputs": [
        {
          "output_type": "stream",
          "text": [
            "Embedding Matrix size:  902100\n",
            "Words which are not in Embedding Matrix:  2449\n"
          ],
          "name": "stdout"
        }
      ]
    },
    {
      "cell_type": "markdown",
      "metadata": {
        "id": "brmZISQuD5vs"
      },
      "source": [
        "The next step is to split the data into Training and Validation datasets. We are using simple train_test_split() function from sklearn to split the data with split size of 0.2 which mean 80% data is used for training the model while remaining 20% data is used for validation purpose to check how well our model is generalizing. "
      ]
    },
    {
      "cell_type": "code",
      "metadata": {
        "id": "dMlOHDfIhRJx",
        "outputId": "f7920bc0-50b7-4238-e479-9cb8e1d84244",
        "colab": {
          "base_uri": "https://localhost:8080/",
          "height": 0
        }
      },
      "source": [
        "from sklearn.model_selection import train_test_split\n",
        "X_train, X_test, y_train, y_test = train_test_split(X, y, test_size=0.2, random_state=42)\n",
        "\n",
        "print(\"X_train shape: \", X_train.shape)\n",
        "print(\"y_train shape: \", y_train.shape)\n",
        "print(\"X_val shape: \", X_test.shape)\n",
        "print(\"y_val shape: \", y_test.shape)"
      ],
      "execution_count": 180,
      "outputs": [
        {
          "output_type": "stream",
          "text": [
            "X_train shape:  (2331, 50)\n",
            "y_train shape:  (2331, 3)\n",
            "X_val shape:  (583, 50)\n",
            "y_val shape:  (583, 3)\n"
          ],
          "name": "stdout"
        }
      ]
    },
    {
      "cell_type": "markdown",
      "metadata": {
        "id": "tNGd_W2lEYNy"
      },
      "source": [
        "We can see from the above code that, 2331 records are used for model training purpose while 583 records are used for validation of the model.\n",
        "\n",
        "---\n",
        " \n",
        "In the next code cell, we created a baseline model with Transfer Learning layer. \n",
        "\n",
        "The model architechture is like encoded input is fed to the Glove pretrained vector to create an Embedding Layer weights. We create an Embedding Layer with the weights generated above and it is our first layer of the model. Output of this layer is given to the LSTM layer with 32 memory units which has dropout rate of 0.5 and recurrent_dropout rate of 0.25. Output of this layer is again passed through the dropout layer of 0.6 value. The output of this dropout layer is fed to the ReLU dense layer of 64 unit for the non-linear activation. This output is again passed though the dropuout layer of 0.6 value and finally fed to the Softmax activation layer with 3 output units which predict the Stance as either 'FAVOR', 'AGAINST' or 'NONE'.\n",
        "\n",
        "We are using 'categorical_crossentropy' as a error metric and 'Categorical_Accuracy' as a performance metric while compiling the model. We have used basic 'adam' optimizer for the training purpose.\n",
        "\n",
        "\n"
      ]
    },
    {
      "cell_type": "code",
      "metadata": {
        "id": "WBywrek8hRGp"
      },
      "source": [
        "from tensorflow.keras.layers import Dense, Embedding, GRU, LSTM, Bidirectional, Dropout\n",
        "from tensorflow.keras.models import Sequential\n",
        "from tensorflow.keras import regularizers, optimizers\n",
        "import keras.backend as K\n",
        "import numpy as np\n",
        " \n",
        "def create_model(embedding_layer):\n",
        "\n",
        "  model_glove = Sequential()\n",
        "  model_glove.add(embedding_layer)\n",
        "  model_glove.add(LSTM(units=32, dropout=0.5, recurrent_dropout= 0.25))\n",
        "  #model_glove.add(LSTM(units=64, kernel_regularizer=regularizers.l2(0.01)))\n",
        "  model_glove.add(Dropout(0.6))\n",
        "  model_glove.add(Dense(64, activation='relu'))\n",
        "  model_glove.add(Dropout(0.4))\n",
        "  model_glove.add(Dense(3, activation='softmax'))\n",
        "\n",
        "  #opt= tf.keras.optimizers.SGD(learning_rate= 0.02, momentum=0.6)\n",
        "  model_glove.compile(loss='categorical_crossentropy', optimizer='adam')\n",
        "\n",
        "  return model_glove  "
      ],
      "execution_count": 181,
      "outputs": []
    },
    {
      "cell_type": "markdown",
      "metadata": {
        "id": "2YbmJtWvKRO0"
      },
      "source": [
        "We dont train the embedding layer as we are using pre-trained vector weights in our embedding layer."
      ]
    },
    {
      "cell_type": "code",
      "metadata": {
        "id": "Matbsx_6hREN",
        "outputId": "faaf4113-a7c0-451f-da06-9ffff90c3c2f",
        "colab": {
          "base_uri": "https://localhost:8080/",
          "height": 0
        }
      },
      "source": [
        "vector_size = 100\n",
        "embedding_layer = Embedding( vocab_size,\n",
        "                     vector_size,\n",
        "                     input_length=50,\n",
        "                     weights=[E_T],\n",
        "                     trainable=False)\n",
        "model = create_model(embedding_layer)\n",
        "print(model.summary())"
      ],
      "execution_count": 182,
      "outputs": [
        {
          "output_type": "stream",
          "text": [
            "Model: \"sequential_11\"\n",
            "_________________________________________________________________\n",
            "Layer (type)                 Output Shape              Param #   \n",
            "=================================================================\n",
            "embedding_11 (Embedding)     (None, 50, 100)           902100    \n",
            "_________________________________________________________________\n",
            "lstm_11 (LSTM)               (None, 32)                17024     \n",
            "_________________________________________________________________\n",
            "dropout_22 (Dropout)         (None, 32)                0         \n",
            "_________________________________________________________________\n",
            "dense_22 (Dense)             (None, 64)                2112      \n",
            "_________________________________________________________________\n",
            "dropout_23 (Dropout)         (None, 64)                0         \n",
            "_________________________________________________________________\n",
            "dense_23 (Dense)             (None, 3)                 195       \n",
            "=================================================================\n",
            "Total params: 921,431\n",
            "Trainable params: 19,331\n",
            "Non-trainable params: 902,100\n",
            "_________________________________________________________________\n",
            "None\n"
          ],
          "name": "stdout"
        }
      ]
    },
    {
      "cell_type": "code",
      "metadata": {
        "id": "__47i84wwctc"
      },
      "source": [
        "def get_callbacks(name):\n",
        "  return [\n",
        "    tf.keras.callbacks.TensorBoard(logdir/name, histogram_freq=1),\n",
        "  ]"
      ],
      "execution_count": 183,
      "outputs": []
    },
    {
      "cell_type": "markdown",
      "metadata": {
        "id": "OVt3nWn7Ke_G"
      },
      "source": [
        "As we have less amount of data available for training, we are using K-fold cross validation technique to train our model for 50 epochs in each of the 3 folds.\n",
        "The batch size is set to 64 and we trained the data for 50 epochs and 3 folds.\n",
        "\n",
        "From the below output we can see that the model achieved categorical accuracy of about 74% on the validation data set.\n",
        "\n",
        "To check the learning curve of the training and validation we plot the grphs using plotter function mentioned above."
      ]
    },
    {
      "cell_type": "code",
      "metadata": {
        "id": "FKScRAqrhRBB",
        "outputId": "3d6c386c-02ee-4e31-c872-612baa5b0474",
        "colab": {
          "base_uri": "https://localhost:8080/",
          "height": 0
        }
      },
      "source": [
        "#from sklearn.model_selection import KFold\n",
        "#num_folds = 3\n",
        "#input = np.concatenate((X_train, X_test), axis= 0)\n",
        "#target = np.concatenate((y_train, y_test), axis= 0)\n",
        "\n",
        "#kfold = KFold(n_splits=num_folds, shuffle=True)\n",
        "#K = 1\n",
        "#for train, test in kfold.split(input, target):\n",
        "#    print(\"fold number: \", K)\n",
        "#    m_histories = {}\n",
        "#    m_histories['with_TL'] = model.fit(input[train], target[train], batch_size=64, epochs=50, validation_data=(input[test], target[test]), callbacks=get_callbacks('models/with_TL'), verbose=1)\n",
        "#    K = K+1\n",
        "\n",
        "m_histories = {}\n",
        "m_histories['with_TL'] = model.fit(X_train, y_train, batch_size=64, epochs=50, validation_data=(X_test, y_test), callbacks=get_callbacks('models/with_TL'), verbose=1)   "
      ],
      "execution_count": 184,
      "outputs": [
        {
          "output_type": "stream",
          "text": [
            "Epoch 1/50\n",
            " 2/37 [>.............................] - ETA: 11s - loss: 1.0927WARNING:tensorflow:Callbacks method `on_train_batch_end` is slow compared to the batch time (batch time: 0.0852s vs `on_train_batch_end` time: 0.5638s). Check your callbacks.\n",
            "37/37 [==============================] - 4s 101ms/step - loss: 1.0756 - val_loss: 1.0224\n",
            "Epoch 2/50\n",
            "37/37 [==============================] - 3s 75ms/step - loss: 1.0339 - val_loss: 1.0031\n",
            "Epoch 3/50\n",
            "37/37 [==============================] - 3s 74ms/step - loss: 1.0294 - val_loss: 0.9934\n",
            "Epoch 4/50\n",
            "37/37 [==============================] - 3s 74ms/step - loss: 1.0087 - val_loss: 0.9803\n",
            "Epoch 5/50\n",
            "37/37 [==============================] - 3s 74ms/step - loss: 1.0094 - val_loss: 0.9695\n",
            "Epoch 6/50\n",
            "37/37 [==============================] - 3s 74ms/step - loss: 0.9888 - val_loss: 0.9572\n",
            "Epoch 7/50\n",
            "37/37 [==============================] - 3s 75ms/step - loss: 0.9778 - val_loss: 0.9453\n",
            "Epoch 8/50\n",
            "37/37 [==============================] - 3s 74ms/step - loss: 0.9638 - val_loss: 0.9363\n",
            "Epoch 9/50\n",
            "37/37 [==============================] - 3s 74ms/step - loss: 0.9651 - val_loss: 0.9294\n",
            "Epoch 10/50\n",
            "37/37 [==============================] - 3s 75ms/step - loss: 0.9509 - val_loss: 0.9393\n",
            "Epoch 11/50\n",
            "37/37 [==============================] - 3s 74ms/step - loss: 0.9392 - val_loss: 0.9203\n",
            "Epoch 12/50\n",
            "37/37 [==============================] - 3s 73ms/step - loss: 0.9480 - val_loss: 0.9155\n",
            "Epoch 13/50\n",
            "37/37 [==============================] - 3s 74ms/step - loss: 0.9441 - val_loss: 0.9136\n",
            "Epoch 14/50\n",
            "37/37 [==============================] - 3s 74ms/step - loss: 0.9265 - val_loss: 0.9134\n",
            "Epoch 15/50\n",
            "37/37 [==============================] - 3s 73ms/step - loss: 0.9169 - val_loss: 0.9105\n",
            "Epoch 16/50\n",
            "37/37 [==============================] - 3s 75ms/step - loss: 0.9182 - val_loss: 0.9074\n",
            "Epoch 17/50\n",
            "37/37 [==============================] - 3s 75ms/step - loss: 0.9281 - val_loss: 0.9060\n",
            "Epoch 18/50\n",
            "37/37 [==============================] - 3s 73ms/step - loss: 0.9122 - val_loss: 0.8999\n",
            "Epoch 19/50\n",
            "37/37 [==============================] - 3s 74ms/step - loss: 0.9049 - val_loss: 0.9034\n",
            "Epoch 20/50\n",
            "37/37 [==============================] - 3s 74ms/step - loss: 0.9036 - val_loss: 0.8969\n",
            "Epoch 21/50\n",
            "37/37 [==============================] - 3s 76ms/step - loss: 0.9007 - val_loss: 0.8962\n",
            "Epoch 22/50\n",
            "37/37 [==============================] - 3s 74ms/step - loss: 0.8920 - val_loss: 0.8878\n",
            "Epoch 23/50\n",
            "37/37 [==============================] - 3s 76ms/step - loss: 0.8897 - val_loss: 0.8874\n",
            "Epoch 24/50\n",
            "37/37 [==============================] - 3s 74ms/step - loss: 0.8933 - val_loss: 0.8885\n",
            "Epoch 25/50\n",
            "37/37 [==============================] - 3s 74ms/step - loss: 0.8896 - val_loss: 0.8804\n",
            "Epoch 26/50\n",
            "37/37 [==============================] - 3s 74ms/step - loss: 0.8747 - val_loss: 0.8734\n",
            "Epoch 27/50\n",
            "37/37 [==============================] - 3s 74ms/step - loss: 0.8683 - val_loss: 0.8764\n",
            "Epoch 28/50\n",
            "37/37 [==============================] - 3s 75ms/step - loss: 0.8707 - val_loss: 0.8705\n",
            "Epoch 29/50\n",
            "37/37 [==============================] - 3s 75ms/step - loss: 0.8522 - val_loss: 0.8686\n",
            "Epoch 30/50\n",
            "37/37 [==============================] - 3s 73ms/step - loss: 0.8588 - val_loss: 0.8704\n",
            "Epoch 31/50\n",
            "37/37 [==============================] - 3s 75ms/step - loss: 0.8507 - val_loss: 0.8693\n",
            "Epoch 32/50\n",
            "37/37 [==============================] - 3s 75ms/step - loss: 0.8596 - val_loss: 0.8623\n",
            "Epoch 33/50\n",
            "37/37 [==============================] - 3s 75ms/step - loss: 0.8473 - val_loss: 0.8688\n",
            "Epoch 34/50\n",
            "37/37 [==============================] - 3s 74ms/step - loss: 0.8281 - val_loss: 0.8695\n",
            "Epoch 35/50\n",
            "37/37 [==============================] - 3s 75ms/step - loss: 0.8439 - val_loss: 0.8535\n",
            "Epoch 36/50\n",
            "37/37 [==============================] - 3s 74ms/step - loss: 0.8329 - val_loss: 0.8585\n",
            "Epoch 37/50\n",
            "37/37 [==============================] - 3s 76ms/step - loss: 0.8249 - val_loss: 0.8610\n",
            "Epoch 38/50\n",
            "37/37 [==============================] - 3s 74ms/step - loss: 0.8219 - val_loss: 0.8547\n",
            "Epoch 39/50\n",
            "37/37 [==============================] - 3s 76ms/step - loss: 0.8119 - val_loss: 0.8687\n",
            "Epoch 40/50\n",
            "37/37 [==============================] - 3s 76ms/step - loss: 0.8021 - val_loss: 0.8687\n",
            "Epoch 41/50\n",
            "37/37 [==============================] - 3s 74ms/step - loss: 0.8054 - val_loss: 0.8566\n",
            "Epoch 42/50\n",
            "37/37 [==============================] - 3s 76ms/step - loss: 0.7989 - val_loss: 0.8599\n",
            "Epoch 43/50\n",
            "37/37 [==============================] - 3s 75ms/step - loss: 0.8047 - val_loss: 0.8596\n",
            "Epoch 44/50\n",
            "37/37 [==============================] - 3s 75ms/step - loss: 0.7994 - val_loss: 0.8591\n",
            "Epoch 45/50\n",
            "37/37 [==============================] - 3s 74ms/step - loss: 0.7874 - val_loss: 0.8569\n",
            "Epoch 46/50\n",
            "37/37 [==============================] - 3s 74ms/step - loss: 0.7730 - val_loss: 0.8745\n",
            "Epoch 47/50\n",
            "37/37 [==============================] - 3s 75ms/step - loss: 0.8004 - val_loss: 0.8489\n",
            "Epoch 48/50\n",
            "37/37 [==============================] - 3s 74ms/step - loss: 0.7857 - val_loss: 0.8604\n",
            "Epoch 49/50\n",
            "37/37 [==============================] - 3s 74ms/step - loss: 0.7758 - val_loss: 0.8810\n",
            "Epoch 50/50\n",
            "37/37 [==============================] - 3s 73ms/step - loss: 0.7684 - val_loss: 0.8657\n"
          ],
          "name": "stdout"
        }
      ]
    },
    {
      "cell_type": "code",
      "metadata": {
        "id": "oeDae0NKpDs9",
        "outputId": "bd48987f-5878-405a-c732-66bbcb79eec7",
        "colab": {
          "base_uri": "https://localhost:8080/",
          "height": 0
        }
      },
      "source": [
        "#from sklearn.metrics import confusion_matrix\n",
        "#from sklearn.metrics import multilabel_confusion_matrix\n",
        "\n",
        "#multilabel_confusion_matrix(rounded_labels, y_pred)\n",
        "\n",
        "def preprocessing(data):\n",
        "   data = data[['Tweet','Stance','Target']]\n",
        "   data[\"Tweet\"] = data[\"Tweet\"] + \" \" +data[\"Target\"]\n",
        "   data['Tweet'] = data['Tweet'].apply(lambda x: x.lower()) \n",
        "   data['Tweet'] = data['Tweet'].apply(lambda x: con_to_ext(x))\n",
        "   data['Tweet'] = data['Tweet'].apply(lambda x: re.sub(r'([-a-zA-Z0-9._-]+@[-a-zA-Z0-9._-]+\\.[-a-zA-Z0-9_-]+)','',x))\n",
        "   data['Tweet'] = data['Tweet'].apply(lambda x: re.sub('[^A-Za-z0-9#@]+',' ',x))\n",
        "   data['Tweet'] = data['Tweet'].apply(lambda x: \" \".join(x.split()))\n",
        "   data['Tweet'] = data['Tweet'].apply(lambda x: remove_accent(x))\n",
        "   data['Tweet'] = data['Tweet'].apply(lambda x: \" \".join([t for t in x.split() if t not in STOP_WORDS]))\n",
        "   text = data['Tweet'].tolist()\n",
        "   return text\n",
        "\n",
        "text = preprocessing(testdata)"
      ],
      "execution_count": 185,
      "outputs": [
        {
          "output_type": "stream",
          "text": [
            "/usr/local/lib/python3.6/dist-packages/ipykernel_launcher.py:8: SettingWithCopyWarning: \n",
            "A value is trying to be set on a copy of a slice from a DataFrame.\n",
            "Try using .loc[row_indexer,col_indexer] = value instead\n",
            "\n",
            "See the caveats in the documentation: https://pandas.pydata.org/pandas-docs/stable/user_guide/indexing.html#returning-a-view-versus-a-copy\n",
            "  \n",
            "/usr/local/lib/python3.6/dist-packages/ipykernel_launcher.py:9: SettingWithCopyWarning: \n",
            "A value is trying to be set on a copy of a slice from a DataFrame.\n",
            "Try using .loc[row_indexer,col_indexer] = value instead\n",
            "\n",
            "See the caveats in the documentation: https://pandas.pydata.org/pandas-docs/stable/user_guide/indexing.html#returning-a-view-versus-a-copy\n",
            "  if __name__ == '__main__':\n",
            "/usr/local/lib/python3.6/dist-packages/ipykernel_launcher.py:10: SettingWithCopyWarning: \n",
            "A value is trying to be set on a copy of a slice from a DataFrame.\n",
            "Try using .loc[row_indexer,col_indexer] = value instead\n",
            "\n",
            "See the caveats in the documentation: https://pandas.pydata.org/pandas-docs/stable/user_guide/indexing.html#returning-a-view-versus-a-copy\n",
            "  # Remove the CWD from sys.path while we load stuff.\n",
            "/usr/local/lib/python3.6/dist-packages/ipykernel_launcher.py:11: SettingWithCopyWarning: \n",
            "A value is trying to be set on a copy of a slice from a DataFrame.\n",
            "Try using .loc[row_indexer,col_indexer] = value instead\n",
            "\n",
            "See the caveats in the documentation: https://pandas.pydata.org/pandas-docs/stable/user_guide/indexing.html#returning-a-view-versus-a-copy\n",
            "  # This is added back by InteractiveShellApp.init_path()\n",
            "/usr/local/lib/python3.6/dist-packages/ipykernel_launcher.py:12: SettingWithCopyWarning: \n",
            "A value is trying to be set on a copy of a slice from a DataFrame.\n",
            "Try using .loc[row_indexer,col_indexer] = value instead\n",
            "\n",
            "See the caveats in the documentation: https://pandas.pydata.org/pandas-docs/stable/user_guide/indexing.html#returning-a-view-versus-a-copy\n",
            "  if sys.path[0] == '':\n",
            "/usr/local/lib/python3.6/dist-packages/ipykernel_launcher.py:13: SettingWithCopyWarning: \n",
            "A value is trying to be set on a copy of a slice from a DataFrame.\n",
            "Try using .loc[row_indexer,col_indexer] = value instead\n",
            "\n",
            "See the caveats in the documentation: https://pandas.pydata.org/pandas-docs/stable/user_guide/indexing.html#returning-a-view-versus-a-copy\n",
            "  del sys.path[0]\n",
            "/usr/local/lib/python3.6/dist-packages/ipykernel_launcher.py:14: SettingWithCopyWarning: \n",
            "A value is trying to be set on a copy of a slice from a DataFrame.\n",
            "Try using .loc[row_indexer,col_indexer] = value instead\n",
            "\n",
            "See the caveats in the documentation: https://pandas.pydata.org/pandas-docs/stable/user_guide/indexing.html#returning-a-view-versus-a-copy\n",
            "  \n",
            "/usr/local/lib/python3.6/dist-packages/ipykernel_launcher.py:15: SettingWithCopyWarning: \n",
            "A value is trying to be set on a copy of a slice from a DataFrame.\n",
            "Try using .loc[row_indexer,col_indexer] = value instead\n",
            "\n",
            "See the caveats in the documentation: https://pandas.pydata.org/pandas-docs/stable/user_guide/indexing.html#returning-a-view-versus-a-copy\n",
            "  from ipykernel import kernelapp as app\n"
          ],
          "name": "stderr"
        }
      ]
    },
    {
      "cell_type": "code",
      "metadata": {
        "id": "cMStB_Bpyi05",
        "outputId": "3d03a09e-d548-4300-b309-e0e8554d93b8",
        "colab": {
          "base_uri": "https://localhost:8080/",
          "height": 0
        }
      },
      "source": [
        "y = testdata['Stance']\n",
        "y = pd.get_dummies(y).values\n",
        "y.shape"
      ],
      "execution_count": 186,
      "outputs": [
        {
          "output_type": "execute_result",
          "data": {
            "text/plain": [
              "(1249, 3)"
            ]
          },
          "metadata": {
            "tags": []
          },
          "execution_count": 186
        }
      ]
    },
    {
      "cell_type": "code",
      "metadata": {
        "id": "WoZVHlcczOjg"
      },
      "source": [
        "from keras.preprocessing.text import Tokenizer\n",
        "token = Tokenizer()\n",
        "token.fit_on_texts(text)\n",
        "encoded_text = token.texts_to_sequences(text)\n",
        "X = pad_sequences(encoded_text, maxlen=sentence_max_length)"
      ],
      "execution_count": 187,
      "outputs": []
    },
    {
      "cell_type": "code",
      "metadata": {
        "id": "Y_s2rLpfzpDu"
      },
      "source": [
        "y_pred_test = model.predict_classes(X) "
      ],
      "execution_count": 188,
      "outputs": []
    },
    {
      "cell_type": "code",
      "metadata": {
        "id": "Ye1vhxBKzzjz",
        "outputId": "2e40351c-1f68-4f68-fdb2-c67de63c03c6",
        "colab": {
          "base_uri": "https://localhost:8080/",
          "height": 0
        }
      },
      "source": [
        "from sklearn.metrics import f1_score\n",
        "y_true = np.argmax(y, axis= 1)\n",
        "\n",
        "f1_score_result = f1_score(y_true, y_pred_test,average='weighted')\n",
        "result_df.loc[len(result_df)] = ['Approach1_All_data_model', f1_score_result]\n",
        "f1_score_result"
      ],
      "execution_count": 189,
      "outputs": [
        {
          "output_type": "execute_result",
          "data": {
            "text/plain": [
              "0.5222921426954421"
            ]
          },
          "metadata": {
            "tags": []
          },
          "execution_count": 189
        }
      ]
    },
    {
      "cell_type": "markdown",
      "metadata": {
        "id": "EmcvYG6GaZAp"
      },
      "source": [
        "\n",
        "\n",
        "---\n",
        "\n",
        "# Approach 2 : Building separate model for each target value. i.e. 5 models for 5 different targets in training data\n",
        "\n",
        "\n",
        "\n",
        "In this approach, we split the whole dataset into 5 subsets each for one Target value and then construct model for each target to predict if the tweet is in FAVOR of that target or AGAINST that target or NONE."
      ]
    },
    {
      "cell_type": "code",
      "metadata": {
        "id": "NeMLkxwkXkZS"
      },
      "source": [
        "## We are dividing the whole training data into subsets according to the target subject value.\n",
        "\n",
        "traindata_HC = traindata[traindata['Target'] == \"Hillary Clinton\"]\n",
        "testdata_HC = testdata[testdata['Target'] == \"Hillary Clinton\"]\n",
        "traindata_AB = traindata[traindata['Target'] == \"Legalization of Abortion\"]\n",
        "testdata_AB = testdata[testdata['Target'] == \"Legalization of Abortion\"]\n",
        "traindata_AT = traindata[traindata['Target'] == \"Atheism\"]\n",
        "testdata_AT = testdata[testdata['Target'] == \"Atheism\"]\n",
        "traindata_CC = traindata[traindata['Target'] == \"Climate Change is a Real Concern\"]\n",
        "testdata_CC = testdata[testdata['Target'] == \"Climate Change is a Real Concern\"]\n",
        "traindata_FM = traindata[traindata['Target'] == \"Feminist Movement\"]\n",
        "testdata_FM = testdata[testdata['Target'] == \"Feminist Movement\"]"
      ],
      "execution_count": 190,
      "outputs": []
    },
    {
      "cell_type": "markdown",
      "metadata": {
        "id": "LYUy_g85O6Kf"
      },
      "source": [
        "From the Approach 1, we now knew the exact preprocessing steps required for the tweets. and hence we used minimum required steps of preprocessing on each subset of training data. \n",
        "\n",
        "We have created one method to preprocess the data provided. This preprocessing involves \n",
        "1. concatenating Tweet and Targets\n",
        "2. converting text into Lowercase\n",
        "3. removing some bad symbols like brackets and other alphanumeric characters except # and @\n",
        "4. We will apply this method on each dataset created above as a preprocessing data"
      ]
    },
    {
      "cell_type": "code",
      "metadata": {
        "id": "Xoz-Yq9tXksi"
      },
      "source": [
        "## We are doing some pre-processing steps prior modelling \n",
        "## 1. concatenating Tweet and Targets\n",
        "## 2. converting text into Lowercase\n",
        "## 3. removing some bad symbols like brackets and other alphanumeric characters except # and @\n",
        "## 4. We will apply this method on each dataset created above as a preprocessing data\n",
        "\n",
        "def TextPreprocessing(traindata):\n",
        "  traindata = traindata.reset_index(drop= True)\n",
        "  REPLACE_BY_SPACE_RE = re.compile('[/(){}\\[\\]\\|,;]')\n",
        "  BAD_SYMBOLS_RE = re.compile('[^a-z #@]')\n",
        "  Tweet_Lines = list()\n",
        "  Tweets = list()\n",
        "  tknzr = TweetTokenizer()\n",
        "\n",
        "  def clean_text(text):\n",
        "      text = text.lower() # lowercase text\n",
        "      text = REPLACE_BY_SPACE_RE.sub(' ', text) # replace REPLACE_BY_SPACE_RE symbols by space in text. substitute the matched string in REPLACE_BY_SPACE_RE with space.\n",
        "      text = BAD_SYMBOLS_RE.sub('', text) # remove symbols which are in BAD_SYMBOLS_RE from text. substitute the matched string in BAD_SYMBOLS_RE with nothing. \n",
        "      text = ''.join(word for word in text.split() if word not in stopwords.words()) # remove stopwords from text\n",
        "      return text\n",
        "\n",
        "  traindata['Tweet'] = traindata.Tweet + ' ' + traindata.Target\n",
        "  lines = traindata['Tweet'].values.tolist()\n",
        "  for line in lines:\n",
        "      tokens = tknzr.tokenize(line)\n",
        "      Tweet_Lines = list()\n",
        "      for token in tokens:\n",
        "        token = clean_text(token)\n",
        "        if token != '' :\n",
        "          Tweet_Lines.append(token)\n",
        "      Tweets.append(Tweet_Lines)\n",
        "          \n",
        "  return Tweets"
      ],
      "execution_count": 191,
      "outputs": []
    },
    {
      "cell_type": "code",
      "metadata": {
        "id": "Gx3Sag7uXkfU"
      },
      "source": [
        "Tweets_HC = TextPreprocessing(traindata_HC)\n",
        "Tweets_AB = TextPreprocessing(traindata_AB)\n",
        "Tweets_AT = TextPreprocessing(traindata_AT)\n",
        "Tweets_CC = TextPreprocessing(traindata_CC)\n",
        "Tweets_FM = TextPreprocessing(traindata_FM)\n",
        "\n",
        "Test_Tweets_HC = TextPreprocessing(testdata_HC)\n",
        "Test_Tweets_AB = TextPreprocessing(testdata_AB)\n",
        "Test_Tweets_AT = TextPreprocessing(testdata_AT)\n",
        "Test_Tweets_CC = TextPreprocessing(testdata_CC)\n",
        "Test_Tweets_FM = TextPreprocessing(testdata_FM)"
      ],
      "execution_count": 192,
      "outputs": []
    },
    {
      "cell_type": "markdown",
      "metadata": {
        "id": "P5nhHtkuPam7"
      },
      "source": [
        "We have to do similar tokenizing and padding task for each of the 5 datasets so we created a generic method which is used to do tokenization and padding.\n",
        "\n",
        "We have used 40 as a max length while padding. "
      ]
    },
    {
      "cell_type": "code",
      "metadata": {
        "id": "oKs7MVplfJW-"
      },
      "source": [
        "## Tokenizing and padding the Tweets data to make it suitable for further modelling.\n",
        "\n",
        "from tensorflow.python.keras.preprocessing.text import Tokenizer\n",
        "from tensorflow.python.keras.preprocessing.sequence import pad_sequences\n",
        "MAX_LENGTH = 40\n",
        "embedding_dim = 100\n",
        "\n",
        "def Padding(Tweets):  \n",
        "  tokenizer = Tokenizer()\n",
        "  tokenizer.fit_on_texts(Tweets)\n",
        "  word_index = tokenizer.word_index\n",
        "  print('Found %s unique tokens.' % len(word_index))\n",
        "\n",
        "  X = tokenizer.texts_to_sequences(Tweets)\n",
        "  X = pad_sequences(X, maxlen=MAX_LENGTH, padding= 'post')\n",
        "  print('Shape of data tensor:', X.shape)\n",
        "\n",
        "  return X, word_index"
      ],
      "execution_count": 193,
      "outputs": []
    },
    {
      "cell_type": "markdown",
      "metadata": {
        "id": "EKOncA-sP_iF"
      },
      "source": [
        "The next step is to split the data for training and validation. We have simply used train_test_split() function from sklearn to split the data with provided split size."
      ]
    },
    {
      "cell_type": "code",
      "metadata": {
        "id": "cLD2-gXytvLO"
      },
      "source": [
        "from sklearn.model_selection import train_test_split\n",
        "\n",
        "def split(X, Y, split_size):\n",
        "    X_train, X_Val, Y_train, Y_Val = train_test_split(X, Y, test_size= split_size, random_state = 42)\n",
        "    return X_train, X_Val, Y_train, Y_Val"
      ],
      "execution_count": 194,
      "outputs": []
    },
    {
      "cell_type": "code",
      "metadata": {
        "id": "11z4YpgTu160"
      },
      "source": [
        "def get_callbacks(name):\n",
        "  return [\n",
        "    tf.keras.callbacks.TensorBoard(logdir/name, histogram_freq=1),\n",
        "  ]"
      ],
      "execution_count": 195,
      "outputs": []
    },
    {
      "cell_type": "markdown",
      "metadata": {
        "id": "eWsGX69fQTjF"
      },
      "source": [
        "**Baseline Model**\n",
        "\n",
        "In the next code cell, we created a baseline model with Transfer Learning layer. \n",
        "\n",
        "The model architechture is like encoded input is fed to the Glove pretrained vector to create an Embedding Layer weights. We create an Embedding Layer with the weights generated above and it is our first layer of the model. Output of this layer is given to the LSTM layer with 32 memory units which has dropout rate of 0.5 and recurrent_dropout rate of 0.25. Output of this layer is again passed through the dropout layer of 0.6 value. The output of this dropout layer is fed to the ReLU dense layer of 64 unit for the non-linear activation. This output is again passed though the dropuout layer of 0.6 value and finally fed to the Softmax activation layer with 3 output units which predict the Stance as either 'FAVOR', 'AGAINST' or 'NONE'.\n",
        "\n",
        "We are using 'categorical_crossentropy' as a error metric and 'Categorical_Accuracy' as a performance metric while compiling the model. We have used basic 'adam' optimizer for the training purpose.\n",
        "\n",
        "Here we are checking the model with and without transfer learning for each of 5 target related models hence we have created a method which will construct a model as per the provided embedding layer."
      ]
    },
    {
      "cell_type": "code",
      "metadata": {
        "id": "nbVybWPDu3f5"
      },
      "source": [
        "from tensorflow.keras.layers import Dense, Embedding, GRU, LSTM, Bidirectional, Dropout\n",
        "from tensorflow.keras.models import Sequential\n",
        "from tensorflow.keras import regularizers, optimizers\n",
        "\n",
        "def create_model(embedding_layer):\n",
        "\n",
        "  model_glove = Sequential()\n",
        "  model_glove.add(embedding_layer)\n",
        "  model_glove.add(LSTM(units=32, dropout= 0.5, recurrent_dropout= 0.25, kernel_regularizer=regularizers.l2(0.001)))\n",
        "  #model_glove.add(tf.keras.layers.Bidirectional(tf.keras.layers.LSTM(32, recurrent_dropout= 0.25)))\n",
        "  #model_glove.add(LSTM(units=64, kernel_regularizer=regularizers.l2(0.01)))\n",
        "  model_glove.add(Dropout(0.4))\n",
        "  model_glove.add(Dense(64, activation='relu'))\n",
        "  model_glove.add(Dropout(0.3))\n",
        "  model_glove.add(Dense(3, activation='softmax'))\n",
        "\n",
        "  #opt= tf.keras.optimizers.SGD(learning_rate= 0.015, momentum= 0.9)\n",
        "  model_glove.compile(loss='categorical_crossentropy', optimizer='adam')\n",
        "\n",
        "  return model_glove  "
      ],
      "execution_count": 196,
      "outputs": []
    },
    {
      "cell_type": "markdown",
      "metadata": {
        "id": "EJlSroDPuctp"
      },
      "source": [
        "**Word Embedding and Transfer Learning**\n",
        "\n",
        "As we can see from the above that we have very small dataset only with 2914 data points of 5 target values. We can see from above exploration that the data also has class imbalance problem so we are using a pretrained vector weights to use better representation of the vocabulary we have in our data set. \n",
        "\n",
        "We are using Glove Twitter 100 dimensional pretrained vector present on https://nlp.stanford.edu/projects/glove/\n",
        "\n",
        "This pretrained vector is present in various dimentions as 50d, 100d and 200d but we are simply using 100d vector for our task.\n",
        "we make a glove vector dictionary to save all the words from pretrained vector file."
      ]
    },
    {
      "cell_type": "code",
      "metadata": {
        "id": "s-rz1hPOuWuF"
      },
      "source": [
        "#file = open('/content/drive/My Drive/Colab Notebooks/TweetsDataset/glove.twitter.27B.100d.txt', encoding='utf-8')\n",
        "file = open('/content/drive/My Drive/ColabNotebooks/DeepLearningLabs/Assignment2/glove.twitter.27B.100d.txt', encoding='utf-8')\n",
        "glove_vectors = dict()\n",
        "for line in file:\n",
        "  values = line.split()\n",
        "  word = values[0]\n",
        "  features = np.asarray(values[1:])\n",
        "  glove_vectors[word] = features\n",
        "\n",
        "file.close()"
      ],
      "execution_count": 197,
      "outputs": []
    },
    {
      "cell_type": "markdown",
      "metadata": {
        "id": "Xh2kj1jcsSBM"
      },
      "source": [
        "# **1. modelling for tweets related to Target : Hillary Clinton**"
      ]
    },
    {
      "cell_type": "markdown",
      "metadata": {
        "id": "ElHeoAt3RK1x"
      },
      "source": [
        "First we check the preprocessed tweet data for target Hillary Clinton"
      ]
    },
    {
      "cell_type": "code",
      "metadata": {
        "id": "hbUZD-AE0JAI",
        "outputId": "d8943843-b711-4d1e-efb7-fb10cefede0c",
        "colab": {
          "base_uri": "https://localhost:8080/",
          "height": 0
        }
      },
      "source": [
        "Tweets_HC[:1]"
      ],
      "execution_count": 198,
      "outputs": [
        {
          "output_type": "execute_result",
          "data": {
            "text/plain": [
              "[['@tedcruz',\n",
              "  '#handovertheserver',\n",
              "  'wiped',\n",
              "  'clean',\n",
              "  'deleted',\n",
              "  'emails',\n",
              "  'explains',\n",
              "  'dereliction',\n",
              "  'duty',\n",
              "  'lies',\n",
              "  '#benghazi',\n",
              "  'etc',\n",
              "  '#tcot',\n",
              "  'hillary',\n",
              "  'clinton']]"
            ]
          },
          "metadata": {
            "tags": []
          },
          "execution_count": 198
        }
      ]
    },
    {
      "cell_type": "markdown",
      "metadata": {
        "id": "jxRy1JBoRScS"
      },
      "source": [
        "The next step is to call method padding which will tokenize the tweets and pad them with max length of 40."
      ]
    },
    {
      "cell_type": "code",
      "metadata": {
        "id": "WXrlCw2QfJPm",
        "outputId": "d1405a98-9a9f-4775-a0ee-76a8171cac97",
        "colab": {
          "base_uri": "https://localhost:8080/",
          "height": 0
        }
      },
      "source": [
        "X, word_index = Padding(Tweets_HC)\n",
        "Y = pd.get_dummies(traindata_HC['Stance']).values\n",
        "print('Shape of label tensor:', Y.shape)"
      ],
      "execution_count": 199,
      "outputs": [
        {
          "output_type": "stream",
          "text": [
            "Found 2966 unique tokens.\n",
            "Shape of data tensor: (689, 40)\n",
            "Shape of label tensor: (689, 3)\n"
          ],
          "name": "stdout"
        }
      ]
    },
    {
      "cell_type": "markdown",
      "metadata": {
        "id": "x275qrnrjtXA"
      },
      "source": [
        "The next step is to split the above data into training and validation. We are using above mentioned split() method by passing 0.2 as a split size which means 20% of the data is reserved for validation and remaining 80% data is used for training the model."
      ]
    },
    {
      "cell_type": "code",
      "metadata": {
        "id": "qiT6k6-ZDvJf",
        "outputId": "b2c97db7-9c1d-4859-a7af-f8f396095cc1",
        "colab": {
          "base_uri": "https://localhost:8080/",
          "height": 0
        }
      },
      "source": [
        "X_train, X_Val, Y_train, Y_Val = split(X, Y, 0.2)\n",
        "print(\"X train shape: \", X_train.shape)\n",
        "print(\"Y train shape: \", Y_train.shape)\n",
        "print(\"X Val shape: \", X_Val.shape)\n",
        "print(\"Y Val shape: \", Y_Val.shape)"
      ],
      "execution_count": 200,
      "outputs": [
        {
          "output_type": "stream",
          "text": [
            "X train shape:  (551, 40)\n",
            "Y train shape:  (551, 3)\n",
            "X Val shape:  (138, 40)\n",
            "Y Val shape:  (138, 3)\n"
          ],
          "name": "stdout"
        }
      ]
    },
    {
      "cell_type": "markdown",
      "metadata": {
        "id": "gDYjJn7mv5W6"
      },
      "source": [
        "**Model without Transfer Learning**\n",
        "\n",
        "First we try to model without transfer learning.\n"
      ]
    },
    {
      "cell_type": "code",
      "metadata": {
        "id": "hirEyLi6wUZ6",
        "outputId": "29d3f77f-daec-4a3f-d96b-d01397b09f08",
        "colab": {
          "base_uri": "https://localhost:8080/",
          "height": 0
        }
      },
      "source": [
        "embedding_layer = Embedding(len(word_index)+1,\n",
        "                                   embedding_dim,\n",
        "                                   input_length=MAX_LENGTH,\n",
        "                                   trainable=True)\n",
        "model = create_model(embedding_layer)\n",
        "print(model.summary())"
      ],
      "execution_count": 201,
      "outputs": [
        {
          "output_type": "stream",
          "text": [
            "Model: \"sequential_12\"\n",
            "_________________________________________________________________\n",
            "Layer (type)                 Output Shape              Param #   \n",
            "=================================================================\n",
            "embedding_12 (Embedding)     (None, 40, 100)           296700    \n",
            "_________________________________________________________________\n",
            "lstm_12 (LSTM)               (None, 32)                17024     \n",
            "_________________________________________________________________\n",
            "dropout_24 (Dropout)         (None, 32)                0         \n",
            "_________________________________________________________________\n",
            "dense_24 (Dense)             (None, 64)                2112      \n",
            "_________________________________________________________________\n",
            "dropout_25 (Dropout)         (None, 64)                0         \n",
            "_________________________________________________________________\n",
            "dense_25 (Dense)             (None, 3)                 195       \n",
            "=================================================================\n",
            "Total params: 316,031\n",
            "Trainable params: 316,031\n",
            "Non-trainable params: 0\n",
            "_________________________________________________________________\n",
            "None\n"
          ],
          "name": "stdout"
        }
      ]
    },
    {
      "cell_type": "markdown",
      "metadata": {
        "id": "aWMm66YgkzHT"
      },
      "source": [
        "As we have less amount of data available for training, we are using K-fold cross validation technique to train our model for 50 epochs in each of the 3 folds.\n",
        "The batch size is set to 64 and we trained the data for 50 epochs and 3 folds.\n",
        "\n",
        "From the below output we can see that the model achieved categorical accuracy of about 74% on the validation data set.\n",
        "\n",
        "To check the learning curve of the training and validation we plot the grphs using plotter function mentioned above."
      ]
    },
    {
      "cell_type": "code",
      "metadata": {
        "id": "AQq9_JExwxag",
        "outputId": "717acea8-2472-4b75-9474-73e5c6db0ba2",
        "colab": {
          "base_uri": "https://localhost:8080/",
          "height": 0
        }
      },
      "source": [
        "from sklearn.model_selection import KFold\n",
        "num_folds = 3\n",
        "input = np.concatenate((X_train, X_Val), axis= 0)\n",
        "target = np.concatenate((Y_train, Y_Val), axis= 0)\n",
        "\n",
        "kfold = KFold(n_splits=num_folds, shuffle=True)\n",
        "K = 1\n",
        "for train, test in kfold.split(input, target):\n",
        "    print(\"fold number: \", K)\n",
        "    m_histories = {}\n",
        "    m_histories['with_TL'] = model.fit(input[train], target[train], batch_size=32, epochs=20, validation_data=(input[test], target[test]), callbacks=get_callbacks('models/with_TL'), verbose=1)\n",
        "    K = K+1"
      ],
      "execution_count": 202,
      "outputs": [
        {
          "output_type": "stream",
          "text": [
            "fold number:  1\n",
            "Epoch 1/20\n",
            " 2/15 [===>..........................] - ETA: 3s - loss: 1.1949WARNING:tensorflow:Callbacks method `on_train_batch_end` is slow compared to the batch time (batch time: 0.0699s vs `on_train_batch_end` time: 0.5170s). Check your callbacks.\n",
            "15/15 [==============================] - 2s 152ms/step - loss: 1.1348 - val_loss: 1.0548\n",
            "Epoch 2/20\n",
            "15/15 [==============================] - 1s 58ms/step - loss: 1.0821 - val_loss: 1.0413\n",
            "Epoch 3/20\n",
            "15/15 [==============================] - 1s 59ms/step - loss: 1.0616 - val_loss: 1.0443\n",
            "Epoch 4/20\n",
            "15/15 [==============================] - 1s 60ms/step - loss: 1.0478 - val_loss: 1.0146\n",
            "Epoch 5/20\n",
            "15/15 [==============================] - 1s 60ms/step - loss: 1.0303 - val_loss: 1.0083\n",
            "Epoch 6/20\n",
            "15/15 [==============================] - 1s 59ms/step - loss: 1.0308 - val_loss: 1.0086\n",
            "Epoch 7/20\n",
            "15/15 [==============================] - 1s 58ms/step - loss: 1.0193 - val_loss: 0.9983\n",
            "Epoch 8/20\n",
            "15/15 [==============================] - 1s 58ms/step - loss: 1.0182 - val_loss: 0.9923\n",
            "Epoch 9/20\n",
            "15/15 [==============================] - 1s 66ms/step - loss: 1.0160 - val_loss: 0.9963\n",
            "Epoch 10/20\n",
            "15/15 [==============================] - 1s 79ms/step - loss: 1.0082 - val_loss: 0.9880\n",
            "Epoch 11/20\n",
            "15/15 [==============================] - 1s 81ms/step - loss: 1.0096 - val_loss: 0.9904\n",
            "Epoch 12/20\n",
            "15/15 [==============================] - 1s 82ms/step - loss: 0.9937 - val_loss: 0.9835\n",
            "Epoch 13/20\n",
            "15/15 [==============================] - 1s 83ms/step - loss: 0.9982 - val_loss: 0.9832\n",
            "Epoch 14/20\n",
            "15/15 [==============================] - 1s 84ms/step - loss: 0.9932 - val_loss: 0.9796\n",
            "Epoch 15/20\n",
            "15/15 [==============================] - 1s 93ms/step - loss: 0.9965 - val_loss: 0.9779\n",
            "Epoch 16/20\n",
            "15/15 [==============================] - 1s 94ms/step - loss: 0.9978 - val_loss: 0.9794\n",
            "Epoch 17/20\n",
            "15/15 [==============================] - 2s 100ms/step - loss: 0.9802 - val_loss: 0.9785\n",
            "Epoch 18/20\n",
            "15/15 [==============================] - 1s 70ms/step - loss: 0.9902 - val_loss: 0.9817\n",
            "Epoch 19/20\n",
            "15/15 [==============================] - 1s 61ms/step - loss: 0.9852 - val_loss: 0.9757\n",
            "Epoch 20/20\n",
            "15/15 [==============================] - 1s 76ms/step - loss: 0.9438 - val_loss: 0.9178\n",
            "fold number:  2\n",
            "Epoch 1/20\n",
            " 2/15 [===>..........................] - ETA: 1s - loss: 0.7634WARNING:tensorflow:Callbacks method `on_train_batch_end` is slow compared to the batch time (batch time: 0.0754s vs `on_train_batch_end` time: 0.1706s). Check your callbacks.\n",
            "15/15 [==============================] - 1s 97ms/step - loss: 0.8125 - val_loss: 0.6266\n",
            "Epoch 2/20\n",
            "15/15 [==============================] - 1s 86ms/step - loss: 0.7287 - val_loss: 0.5696\n",
            "Epoch 3/20\n",
            "15/15 [==============================] - 1s 84ms/step - loss: 0.7675 - val_loss: 0.5874\n",
            "Epoch 4/20\n",
            "15/15 [==============================] - 1s 85ms/step - loss: 0.6270 - val_loss: 0.5896\n",
            "Epoch 5/20\n",
            "15/15 [==============================] - 1s 84ms/step - loss: 0.5264 - val_loss: 0.5312\n",
            "Epoch 6/20\n",
            "15/15 [==============================] - 1s 81ms/step - loss: 0.4836 - val_loss: 0.5335\n",
            "Epoch 7/20\n",
            "15/15 [==============================] - 1s 79ms/step - loss: 0.4672 - val_loss: 0.5256\n",
            "Epoch 8/20\n",
            "15/15 [==============================] - 1s 71ms/step - loss: 0.4536 - val_loss: 0.5326\n",
            "Epoch 9/20\n",
            "15/15 [==============================] - 1s 65ms/step - loss: 0.4742 - val_loss: 0.5346\n",
            "Epoch 10/20\n",
            "15/15 [==============================] - 1s 60ms/step - loss: 0.4330 - val_loss: 0.5282\n",
            "Epoch 11/20\n",
            "15/15 [==============================] - 1s 61ms/step - loss: 0.4555 - val_loss: 0.6079\n",
            "Epoch 12/20\n",
            "15/15 [==============================] - 1s 58ms/step - loss: 0.4238 - val_loss: 0.6045\n",
            "Epoch 13/20\n",
            "15/15 [==============================] - 1s 61ms/step - loss: 0.4104 - val_loss: 0.5911\n",
            "Epoch 14/20\n",
            "15/15 [==============================] - 1s 64ms/step - loss: 0.4025 - val_loss: 0.5898\n",
            "Epoch 15/20\n",
            "15/15 [==============================] - 1s 63ms/step - loss: 0.4057 - val_loss: 0.5831\n",
            "Epoch 16/20\n",
            "15/15 [==============================] - 1s 61ms/step - loss: 0.3867 - val_loss: 0.5847\n",
            "Epoch 17/20\n",
            "15/15 [==============================] - 1s 60ms/step - loss: 0.3687 - val_loss: 0.5928\n",
            "Epoch 18/20\n",
            "15/15 [==============================] - 1s 59ms/step - loss: 0.3727 - val_loss: 0.5723\n",
            "Epoch 19/20\n",
            "15/15 [==============================] - 1s 63ms/step - loss: 0.3917 - val_loss: 0.5273\n",
            "Epoch 20/20\n",
            "15/15 [==============================] - 1s 61ms/step - loss: 0.3564 - val_loss: 0.5292\n",
            "fold number:  3\n",
            "Epoch 1/20\n",
            "15/15 [==============================] - 1s 68ms/step - loss: 0.5351 - val_loss: 0.3423\n",
            "Epoch 2/20\n",
            "15/15 [==============================] - 1s 58ms/step - loss: 0.4297 - val_loss: 0.3653\n",
            "Epoch 3/20\n",
            "15/15 [==============================] - 1s 62ms/step - loss: 0.3910 - val_loss: 0.3466\n",
            "Epoch 4/20\n",
            "15/15 [==============================] - 1s 63ms/step - loss: 0.4275 - val_loss: 0.3643\n",
            "Epoch 5/20\n",
            "15/15 [==============================] - 1s 59ms/step - loss: 0.5173 - val_loss: 0.3785\n",
            "Epoch 6/20\n",
            "15/15 [==============================] - 1s 61ms/step - loss: 0.4818 - val_loss: 0.3956\n",
            "Epoch 7/20\n",
            "15/15 [==============================] - 1s 59ms/step - loss: 0.4794 - val_loss: 0.4068\n",
            "Epoch 8/20\n",
            "15/15 [==============================] - 1s 59ms/step - loss: 0.4736 - val_loss: 0.4020\n",
            "Epoch 9/20\n",
            "15/15 [==============================] - 1s 64ms/step - loss: 0.4847 - val_loss: 0.3876\n",
            "Epoch 10/20\n",
            "15/15 [==============================] - 1s 61ms/step - loss: 0.5195 - val_loss: 0.3931\n",
            "Epoch 11/20\n",
            "15/15 [==============================] - 1s 65ms/step - loss: 0.5082 - val_loss: 0.4148\n",
            "Epoch 12/20\n",
            "15/15 [==============================] - 1s 61ms/step - loss: 0.5004 - val_loss: 0.4310\n",
            "Epoch 13/20\n",
            "15/15 [==============================] - 1s 60ms/step - loss: 0.5145 - val_loss: 0.4480\n",
            "Epoch 14/20\n",
            "15/15 [==============================] - 1s 63ms/step - loss: 0.4855 - val_loss: 0.4367\n",
            "Epoch 15/20\n",
            "15/15 [==============================] - 1s 61ms/step - loss: 0.4735 - val_loss: 0.4427\n",
            "Epoch 16/20\n",
            "15/15 [==============================] - 1s 60ms/step - loss: 0.4711 - val_loss: 0.4502\n",
            "Epoch 17/20\n",
            "15/15 [==============================] - 1s 60ms/step - loss: 0.5165 - val_loss: 0.4889\n",
            "Epoch 18/20\n",
            "15/15 [==============================] - 1s 59ms/step - loss: 0.4892 - val_loss: 0.5051\n",
            "Epoch 19/20\n",
            "15/15 [==============================] - 1s 61ms/step - loss: 0.5100 - val_loss: 0.5328\n",
            "Epoch 20/20\n",
            "15/15 [==============================] - 1s 60ms/step - loss: 0.5178 - val_loss: 0.5388\n"
          ],
          "name": "stdout"
        }
      ]
    },
    {
      "cell_type": "markdown",
      "metadata": {
        "id": "SD5NMWk0lOWL"
      },
      "source": [
        "We tried to plot learning curves for both validation and training data on Catergorical Crossentropy as well as for Catergorical Accuracy."
      ]
    },
    {
      "cell_type": "code",
      "metadata": {
        "id": "0ObT2XJfxELR",
        "outputId": "11ced1cd-7c92-4a71-837e-e02af2f01b1f",
        "colab": {
          "base_uri": "https://localhost:8080/",
          "height": 0
        }
      },
      "source": [
        "plotter(m_histories, ylim=[0.0, 2], metric = 'loss')"
      ],
      "execution_count": 203,
      "outputs": [
        {
          "output_type": "display_data",
          "data": {
            "image/png": "[encoded data removed]",
            "text/plain": [
              "<Figure size 432x288 with 1 Axes>"
            ]
          },
          "metadata": {
            "tags": [],
            "needs_background": "light"
          }
        }
      ]
    },
    {
      "cell_type": "code",
      "metadata": {
        "id": "sUvG0BXKM3ch",
        "outputId": "bf5ae590-d664-4484-9429-e5a9b932f672",
        "colab": {
          "base_uri": "https://localhost:8080/",
          "height": 0
        }
      },
      "source": [
        "X_test, test_word_index = Padding(Test_Tweets_HC)\n",
        "Y_true = pd.get_dummies(testdata_HC['Stance']).values\n",
        "print('Shape of label tensor:', Y_true.shape)"
      ],
      "execution_count": 204,
      "outputs": [
        {
          "output_type": "stream",
          "text": [
            "Found 1600 unique tokens.\n",
            "Shape of data tensor: (295, 40)\n",
            "Shape of label tensor: (295, 3)\n"
          ],
          "name": "stdout"
        }
      ]
    },
    {
      "cell_type": "code",
      "metadata": {
        "id": "pVJAH2oeM3IV",
        "outputId": "8f289861-fb0c-4bdb-f8ad-175fa51d706f",
        "colab": {
          "base_uri": "https://localhost:8080/",
          "height": 0
        }
      },
      "source": [
        "from sklearn.metrics import f1_score\n",
        "\n",
        "Y_pred = model.predict_classes(X_test)\n",
        "\n",
        "Y_true = np.argmax(Y_true, axis= 1)\n",
        "\n",
        "f1_score_result = f1_score(Y_true, Y_pred,average='weighted')\n",
        "result_df.loc[len(result_df)] = ['Approach2_HC_WTF', f1_score_result]\n",
        "f1_score_result"
      ],
      "execution_count": 205,
      "outputs": [
        {
          "output_type": "execute_result",
          "data": {
            "text/plain": [
              "0.462292089989901"
            ]
          },
          "metadata": {
            "tags": []
          },
          "execution_count": 205
        }
      ]
    },
    {
      "cell_type": "markdown",
      "metadata": {
        "id": "f5dx-eGBl3mr"
      },
      "source": [
        "**Model with Transfer Learning**\n",
        "\n",
        "we try to model with transfer learning."
      ]
    },
    {
      "cell_type": "code",
      "metadata": {
        "id": "j_u1IEZrmSlg",
        "outputId": "82d4f20f-3576-4fd0-b911-0eb954a33ca8",
        "colab": {
          "base_uri": "https://localhost:8080/",
          "height": 0
        }
      },
      "source": [
        "E_T = np.zeros((len(word_index)+1, embedding_dim))\n",
        "for word, i in word_index.items():\n",
        "    embedding_vector = glove_vectors.get(word)\n",
        "    if embedding_vector is not None:  \n",
        "        E_T[i] = embedding_vector\n",
        "\n",
        "E_T.size"
      ],
      "execution_count": 206,
      "outputs": [
        {
          "output_type": "execute_result",
          "data": {
            "text/plain": [
              "296700"
            ]
          },
          "metadata": {
            "tags": []
          },
          "execution_count": 206
        }
      ]
    },
    {
      "cell_type": "code",
      "metadata": {
        "id": "tYFvAnzHydbj",
        "outputId": "9b9a5f77-8fc7-4f67-c357-5c621a914d9f",
        "colab": {
          "base_uri": "https://localhost:8080/",
          "height": 0
        }
      },
      "source": [
        "embedding_layer_TL = Embedding(len(word_index)+1,\n",
        "                                embedding_dim,\n",
        "                                weights=[E_T],\n",
        "                                input_length=MAX_LENGTH,\n",
        "                                trainable=False)\n",
        "model = create_model(embedding_layer_TL)\n",
        "print(model.summary())"
      ],
      "execution_count": 207,
      "outputs": [
        {
          "output_type": "stream",
          "text": [
            "Model: \"sequential_13\"\n",
            "_________________________________________________________________\n",
            "Layer (type)                 Output Shape              Param #   \n",
            "=================================================================\n",
            "embedding_13 (Embedding)     (None, 40, 100)           296700    \n",
            "_________________________________________________________________\n",
            "lstm_13 (LSTM)               (None, 32)                17024     \n",
            "_________________________________________________________________\n",
            "dropout_26 (Dropout)         (None, 32)                0         \n",
            "_________________________________________________________________\n",
            "dense_26 (Dense)             (None, 64)                2112      \n",
            "_________________________________________________________________\n",
            "dropout_27 (Dropout)         (None, 64)                0         \n",
            "_________________________________________________________________\n",
            "dense_27 (Dense)             (None, 3)                 195       \n",
            "=================================================================\n",
            "Total params: 316,031\n",
            "Trainable params: 19,331\n",
            "Non-trainable params: 296,700\n",
            "_________________________________________________________________\n",
            "None\n"
          ],
          "name": "stdout"
        }
      ]
    },
    {
      "cell_type": "code",
      "metadata": {
        "id": "48l4e_FTyxVr",
        "outputId": "95387a1a-2537-4d56-a602-0df733fa5172",
        "colab": {
          "base_uri": "https://localhost:8080/",
          "height": 0
        }
      },
      "source": [
        "m_histories['with_TL'] = model.fit(X_train, Y_train, batch_size=32, epochs=50, validation_data=(X_Val, Y_Val), callbacks=get_callbacks('models/with_TL'), verbose=1)   "
      ],
      "execution_count": 208,
      "outputs": [
        {
          "output_type": "stream",
          "text": [
            "Epoch 1/50\n",
            " 2/18 [==>...........................] - ETA: 4s - loss: 1.2087WARNING:tensorflow:Callbacks method `on_train_batch_end` is slow compared to the batch time (batch time: 0.0587s vs `on_train_batch_end` time: 0.4791s). Check your callbacks.\n",
            "18/18 [==============================] - 2s 94ms/step - loss: 1.1767 - val_loss: 1.1327\n",
            "Epoch 2/50\n",
            "18/18 [==============================] - 1s 48ms/step - loss: 1.0900 - val_loss: 1.0447\n",
            "Epoch 3/50\n",
            "18/18 [==============================] - 1s 47ms/step - loss: 1.0318 - val_loss: 1.0268\n",
            "Epoch 4/50\n",
            "18/18 [==============================] - 1s 47ms/step - loss: 1.0122 - val_loss: 1.0128\n",
            "Epoch 5/50\n",
            "18/18 [==============================] - 1s 49ms/step - loss: 0.9985 - val_loss: 0.9999\n",
            "Epoch 6/50\n",
            "18/18 [==============================] - 1s 47ms/step - loss: 0.9881 - val_loss: 0.9790\n",
            "Epoch 7/50\n",
            "18/18 [==============================] - 1s 47ms/step - loss: 0.9586 - val_loss: 0.9762\n",
            "Epoch 8/50\n",
            "18/18 [==============================] - 1s 46ms/step - loss: 0.9543 - val_loss: 0.9628\n",
            "Epoch 9/50\n",
            "18/18 [==============================] - 1s 48ms/step - loss: 0.9153 - val_loss: 1.0096\n",
            "Epoch 10/50\n",
            "18/18 [==============================] - 1s 48ms/step - loss: 0.9426 - val_loss: 0.9478\n",
            "Epoch 11/50\n",
            "18/18 [==============================] - 1s 48ms/step - loss: 0.9108 - val_loss: 0.9805\n",
            "Epoch 12/50\n",
            "18/18 [==============================] - 1s 48ms/step - loss: 0.8961 - val_loss: 0.9445\n",
            "Epoch 13/50\n",
            "18/18 [==============================] - 1s 47ms/step - loss: 0.8935 - val_loss: 0.9523\n",
            "Epoch 14/50\n",
            "18/18 [==============================] - 1s 47ms/step - loss: 0.8998 - val_loss: 0.9524\n",
            "Epoch 15/50\n",
            "18/18 [==============================] - 1s 48ms/step - loss: 0.8679 - val_loss: 0.9582\n",
            "Epoch 16/50\n",
            "18/18 [==============================] - 1s 50ms/step - loss: 0.8847 - val_loss: 0.9342\n",
            "Epoch 17/50\n",
            "18/18 [==============================] - 1s 48ms/step - loss: 0.8747 - val_loss: 0.9443\n",
            "Epoch 18/50\n",
            "18/18 [==============================] - 1s 47ms/step - loss: 0.8755 - val_loss: 0.9544\n",
            "Epoch 19/50\n",
            "18/18 [==============================] - 1s 48ms/step - loss: 0.8757 - val_loss: 0.9584\n",
            "Epoch 20/50\n",
            "18/18 [==============================] - 1s 47ms/step - loss: 0.8805 - val_loss: 0.9477\n",
            "Epoch 21/50\n",
            "18/18 [==============================] - 1s 48ms/step - loss: 0.8710 - val_loss: 0.9607\n",
            "Epoch 22/50\n",
            "18/18 [==============================] - 1s 46ms/step - loss: 0.8501 - val_loss: 0.9535\n",
            "Epoch 23/50\n",
            "18/18 [==============================] - 1s 49ms/step - loss: 0.8502 - val_loss: 0.9222\n",
            "Epoch 24/50\n",
            "18/18 [==============================] - 1s 48ms/step - loss: 0.8582 - val_loss: 0.9235\n",
            "Epoch 25/50\n",
            "18/18 [==============================] - 1s 48ms/step - loss: 0.8519 - val_loss: 0.9388\n",
            "Epoch 26/50\n",
            "18/18 [==============================] - 1s 49ms/step - loss: 0.8395 - val_loss: 0.9667\n",
            "Epoch 27/50\n",
            "18/18 [==============================] - 1s 49ms/step - loss: 0.8504 - val_loss: 0.9307\n",
            "Epoch 28/50\n",
            "18/18 [==============================] - 1s 51ms/step - loss: 0.8269 - val_loss: 0.9786\n",
            "Epoch 29/50\n",
            "18/18 [==============================] - 1s 49ms/step - loss: 0.8665 - val_loss: 0.9096\n",
            "Epoch 30/50\n",
            "18/18 [==============================] - 1s 48ms/step - loss: 0.7921 - val_loss: 0.9625\n",
            "Epoch 31/50\n",
            "18/18 [==============================] - 1s 50ms/step - loss: 0.8149 - val_loss: 0.9633\n",
            "Epoch 32/50\n",
            "18/18 [==============================] - 1s 52ms/step - loss: 0.8134 - val_loss: 0.9434\n",
            "Epoch 33/50\n",
            "18/18 [==============================] - 1s 49ms/step - loss: 0.8201 - val_loss: 0.9276\n",
            "Epoch 34/50\n",
            "18/18 [==============================] - 1s 47ms/step - loss: 0.7814 - val_loss: 0.9906\n",
            "Epoch 35/50\n",
            "18/18 [==============================] - 1s 48ms/step - loss: 0.8229 - val_loss: 0.9583\n",
            "Epoch 36/50\n",
            "18/18 [==============================] - 1s 46ms/step - loss: 0.8071 - val_loss: 0.9839\n",
            "Epoch 37/50\n",
            "18/18 [==============================] - 1s 49ms/step - loss: 0.7944 - val_loss: 0.9121\n",
            "Epoch 38/50\n",
            "18/18 [==============================] - 1s 49ms/step - loss: 0.7769 - val_loss: 0.9544\n",
            "Epoch 39/50\n",
            "18/18 [==============================] - 1s 48ms/step - loss: 0.7818 - val_loss: 0.9490\n",
            "Epoch 40/50\n",
            "18/18 [==============================] - 1s 47ms/step - loss: 0.7587 - val_loss: 0.9386\n",
            "Epoch 41/50\n",
            "18/18 [==============================] - 1s 47ms/step - loss: 0.7625 - val_loss: 0.9291\n",
            "Epoch 42/50\n",
            "18/18 [==============================] - 1s 47ms/step - loss: 0.7391 - val_loss: 0.9239\n",
            "Epoch 43/50\n",
            "18/18 [==============================] - 1s 49ms/step - loss: 0.7731 - val_loss: 0.9959\n",
            "Epoch 44/50\n",
            "18/18 [==============================] - 1s 47ms/step - loss: 0.7504 - val_loss: 1.0216\n",
            "Epoch 45/50\n",
            "18/18 [==============================] - 1s 47ms/step - loss: 0.7610 - val_loss: 0.9691\n",
            "Epoch 46/50\n",
            "18/18 [==============================] - 1s 49ms/step - loss: 0.7301 - val_loss: 1.0112\n",
            "Epoch 47/50\n",
            "18/18 [==============================] - 1s 48ms/step - loss: 0.7442 - val_loss: 1.0290\n",
            "Epoch 48/50\n",
            "18/18 [==============================] - 1s 48ms/step - loss: 0.7460 - val_loss: 1.0157\n",
            "Epoch 49/50\n",
            "18/18 [==============================] - 1s 49ms/step - loss: 0.7210 - val_loss: 1.0417\n",
            "Epoch 50/50\n",
            "18/18 [==============================] - 1s 48ms/step - loss: 0.7445 - val_loss: 0.9338\n"
          ],
          "name": "stdout"
        }
      ]
    },
    {
      "cell_type": "code",
      "metadata": {
        "id": "08-b6AZBy9lr",
        "outputId": "a67a77f3-4b50-437b-f782-e519d81e4b6c",
        "colab": {
          "base_uri": "https://localhost:8080/",
          "height": 0
        }
      },
      "source": [
        "plotter(m_histories, ylim=[0.0, 2], metric = 'loss')"
      ],
      "execution_count": 209,
      "outputs": [
        {
          "output_type": "display_data",
          "data": {
            "image/png": "[encoded data removed]",
            "text/plain": [
              "<Figure size 432x288 with 1 Axes>"
            ]
          },
          "metadata": {
            "tags": [],
            "needs_background": "light"
          }
        }
      ]
    },
    {
      "cell_type": "code",
      "metadata": {
        "id": "Yc5615ZNG_ih"
      },
      "source": [
        "Y_pred = model.predict_classes(X_test)"
      ],
      "execution_count": 210,
      "outputs": []
    },
    {
      "cell_type": "code",
      "metadata": {
        "id": "cnmM3LbiHgiW",
        "outputId": "7b3fabd9-b56c-4cc5-e2e3-75a9bb84de81",
        "colab": {
          "base_uri": "https://localhost:8080/",
          "height": 0
        }
      },
      "source": [
        "from sklearn.metrics import f1_score\n",
        "f1_score_result = f1_score(Y_true, Y_pred,average='weighted')\n",
        "result_df.loc[len(result_df)] = ['Approach2_HC_TF', f1_score_result]\n",
        "f1_score_result"
      ],
      "execution_count": 211,
      "outputs": [
        {
          "output_type": "execute_result",
          "data": {
            "text/plain": [
              "0.4097785574763821"
            ]
          },
          "metadata": {
            "tags": []
          },
          "execution_count": 211
        }
      ]
    },
    {
      "cell_type": "markdown",
      "metadata": {
        "id": "i23Vl8jp3LtE"
      },
      "source": [
        "# **2. modelling for tweets related to Target : Legalization of Abortion**"
      ]
    },
    {
      "cell_type": "markdown",
      "metadata": {
        "id": "-Cd5swpWlmun"
      },
      "source": [
        "First we check the preprocessed tweet data for target Legalization of Abortion"
      ]
    },
    {
      "cell_type": "code",
      "metadata": {
        "id": "p4tvC3aA3YxA",
        "outputId": "e0f6cf80-4a9a-4290-a92c-7fd081c6083c",
        "colab": {
          "base_uri": "https://localhost:8080/",
          "height": 0
        }
      },
      "source": [
        "Tweets_AB[:1]"
      ],
      "execution_count": 212,
      "outputs": [
        {
          "output_type": "execute_result",
          "data": {
            "text/plain": [
              "[['laid',\n",
              "  'law',\n",
              "  'abortion',\n",
              "  'bioethics',\n",
              "  'class',\n",
              "  '#catholic',\n",
              "  'legalization',\n",
              "  'abortion']]"
            ]
          },
          "metadata": {
            "tags": []
          },
          "execution_count": 212
        }
      ]
    },
    {
      "cell_type": "markdown",
      "metadata": {
        "id": "2ZrhJeDOl10M"
      },
      "source": [
        "The next step is to call method padding which will tokenize the tweets and pad them with max length of 40."
      ]
    },
    {
      "cell_type": "code",
      "metadata": {
        "id": "xbKeC8g63k2C",
        "outputId": "36fa720a-9e3d-482f-fc8f-cd516fe5a8e6",
        "colab": {
          "base_uri": "https://localhost:8080/",
          "height": 0
        }
      },
      "source": [
        "X, word_index = Padding(Tweets_AB)\n",
        "Y = pd.get_dummies(traindata_AB['Stance']).values\n",
        "print('Shape of label tensor:', Y.shape)"
      ],
      "execution_count": 213,
      "outputs": [
        {
          "output_type": "stream",
          "text": [
            "Found 2771 unique tokens.\n",
            "Shape of data tensor: (653, 40)\n",
            "Shape of label tensor: (653, 3)\n"
          ],
          "name": "stdout"
        }
      ]
    },
    {
      "cell_type": "markdown",
      "metadata": {
        "id": "Eh6dZVAQl8mY"
      },
      "source": [
        "The next step is to split the above data into training and validation. We are using above mentioned split() method by passing 0.2 as a split size which means 20% of the data is reserved for validation and remaining 80% data is used for training the model."
      ]
    },
    {
      "cell_type": "code",
      "metadata": {
        "id": "fA497Brc3kjS",
        "outputId": "418c92f3-600b-4544-b0a9-05b212d132b9",
        "colab": {
          "base_uri": "https://localhost:8080/",
          "height": 0
        }
      },
      "source": [
        "X_train, X_Val, Y_train, Y_Val = split(X, Y, 0.2)\n",
        "print(\"X train shape: \", X_train.shape)\n",
        "print(\"Y train shape: \", Y_train.shape)\n",
        "print(\"X Val shape: \", X_Val.shape)\n",
        "print(\"Y Val shape: \", Y_Val.shape)"
      ],
      "execution_count": 214,
      "outputs": [
        {
          "output_type": "stream",
          "text": [
            "X train shape:  (522, 40)\n",
            "Y train shape:  (522, 3)\n",
            "X Val shape:  (131, 40)\n",
            "Y Val shape:  (131, 3)\n"
          ],
          "name": "stdout"
        }
      ]
    },
    {
      "cell_type": "markdown",
      "metadata": {
        "id": "DzGMRiWo3xyD"
      },
      "source": [
        "**Without Transfer Learning**"
      ]
    },
    {
      "cell_type": "code",
      "metadata": {
        "id": "NnpgWy0b3kYv",
        "outputId": "40e8eea4-97c6-4dd2-8925-b9c3576718bd",
        "colab": {
          "base_uri": "https://localhost:8080/",
          "height": 0
        }
      },
      "source": [
        "embedding_layer = Embedding(len(word_index)+1,\n",
        "                                   embedding_dim,\n",
        "                                   input_length=MAX_LENGTH,\n",
        "                                   trainable=True)\n",
        "model = create_model(embedding_layer)\n",
        "print(model.summary())"
      ],
      "execution_count": 215,
      "outputs": [
        {
          "output_type": "stream",
          "text": [
            "Model: \"sequential_14\"\n",
            "_________________________________________________________________\n",
            "Layer (type)                 Output Shape              Param #   \n",
            "=================================================================\n",
            "embedding_14 (Embedding)     (None, 40, 100)           277200    \n",
            "_________________________________________________________________\n",
            "lstm_14 (LSTM)               (None, 32)                17024     \n",
            "_________________________________________________________________\n",
            "dropout_28 (Dropout)         (None, 32)                0         \n",
            "_________________________________________________________________\n",
            "dense_28 (Dense)             (None, 64)                2112      \n",
            "_________________________________________________________________\n",
            "dropout_29 (Dropout)         (None, 64)                0         \n",
            "_________________________________________________________________\n",
            "dense_29 (Dense)             (None, 3)                 195       \n",
            "=================================================================\n",
            "Total params: 296,531\n",
            "Trainable params: 296,531\n",
            "Non-trainable params: 0\n",
            "_________________________________________________________________\n",
            "None\n"
          ],
          "name": "stdout"
        }
      ]
    },
    {
      "cell_type": "markdown",
      "metadata": {
        "id": "-TmwyBrOmEAk"
      },
      "source": [
        "As we have less amount of data available for training, we are using K-fold cross validation technique to train our model for 50 epochs in each of the 3 folds.\n",
        "The batch size is set to 64 and we trained the data for 50 epochs and 3 folds.\n",
        "\n",
        "From the below output we can see that the model achieved categorical accuracy of about 74% on the validation data set.\n",
        "\n",
        "To check the learning curve of the training and validation we plot the grphs using plotter function mentioned above."
      ]
    },
    {
      "cell_type": "code",
      "metadata": {
        "id": "DApipPKH39Ve",
        "outputId": "f31fea7b-80c4-4d1a-e361-7e4b9bcac5be",
        "colab": {
          "base_uri": "https://localhost:8080/",
          "height": 0
        }
      },
      "source": [
        "from sklearn.model_selection import KFold\n",
        "num_folds = 3\n",
        "input = np.concatenate((X_train, X_Val), axis= 0)\n",
        "target = np.concatenate((Y_train, Y_Val), axis= 0)\n",
        "\n",
        "kfold = KFold(n_splits=num_folds, shuffle=True)\n",
        "K = 1\n",
        "for train, test in kfold.split(input, target):\n",
        "    print(\"fold number: \", K)\n",
        "    m_histories = {}\n",
        "    m_histories['with_TL'] = model.fit(input[train], target[train], batch_size=32, epochs=20, validation_data=(input[test], target[test]), callbacks=get_callbacks('models/with_TL'), verbose=1)\n",
        "    K = K+1"
      ],
      "execution_count": 216,
      "outputs": [
        {
          "output_type": "stream",
          "text": [
            "fold number:  1\n",
            "Epoch 1/20\n",
            " 2/14 [===>..........................] - ETA: 3s - loss: 1.2158WARNING:tensorflow:Callbacks method `on_train_batch_end` is slow compared to the batch time (batch time: 0.0718s vs `on_train_batch_end` time: 0.5157s). Check your callbacks.\n",
            "14/14 [==============================] - 2s 123ms/step - loss: 1.1834 - val_loss: 1.1241\n",
            "Epoch 2/20\n",
            "14/14 [==============================] - 1s 61ms/step - loss: 1.1172 - val_loss: 1.0506\n",
            "Epoch 3/20\n",
            "14/14 [==============================] - 1s 60ms/step - loss: 1.0853 - val_loss: 1.0410\n",
            "Epoch 4/20\n",
            "14/14 [==============================] - 1s 59ms/step - loss: 1.0648 - val_loss: 1.0319\n",
            "Epoch 5/20\n",
            "14/14 [==============================] - 1s 64ms/step - loss: 1.0621 - val_loss: 1.0194\n",
            "Epoch 6/20\n",
            "14/14 [==============================] - 1s 61ms/step - loss: 1.0630 - val_loss: 1.0212\n",
            "Epoch 7/20\n",
            "14/14 [==============================] - 1s 59ms/step - loss: 1.0462 - val_loss: 1.0103\n",
            "Epoch 8/20\n",
            "14/14 [==============================] - 1s 64ms/step - loss: 1.0488 - val_loss: 1.0054\n",
            "Epoch 9/20\n",
            "14/14 [==============================] - 1s 61ms/step - loss: 1.0398 - val_loss: 1.0009\n",
            "Epoch 10/20\n",
            "14/14 [==============================] - 1s 64ms/step - loss: 1.0227 - val_loss: 0.9971\n",
            "Epoch 11/20\n",
            "14/14 [==============================] - 1s 62ms/step - loss: 1.0302 - val_loss: 0.9930\n",
            "Epoch 12/20\n",
            "14/14 [==============================] - 1s 61ms/step - loss: 0.8866 - val_loss: 0.8852\n",
            "Epoch 13/20\n",
            "14/14 [==============================] - 1s 58ms/step - loss: 0.5867 - val_loss: 1.4225\n",
            "Epoch 14/20\n",
            "14/14 [==============================] - 1s 61ms/step - loss: 0.5199 - val_loss: 1.3478\n",
            "Epoch 15/20\n",
            "14/14 [==============================] - 1s 60ms/step - loss: 0.4891 - val_loss: 1.4189\n",
            "Epoch 16/20\n",
            "14/14 [==============================] - 1s 63ms/step - loss: 0.4492 - val_loss: 1.4652\n",
            "Epoch 17/20\n",
            "14/14 [==============================] - 1s 60ms/step - loss: 0.5191 - val_loss: 1.3437\n",
            "Epoch 18/20\n",
            "14/14 [==============================] - 1s 58ms/step - loss: 0.4390 - val_loss: 1.3375\n",
            "Epoch 19/20\n",
            "14/14 [==============================] - 1s 58ms/step - loss: 0.4436 - val_loss: 1.9341\n",
            "Epoch 20/20\n",
            "14/14 [==============================] - 1s 58ms/step - loss: 0.5350 - val_loss: 1.7273\n",
            "fold number:  2\n",
            "Epoch 1/20\n",
            " 2/14 [===>..........................] - ETA: 1s - loss: 1.3258WARNING:tensorflow:Callbacks method `on_train_batch_end` is slow compared to the batch time (batch time: 0.0595s vs `on_train_batch_end` time: 0.1099s). Check your callbacks.\n",
            "14/14 [==============================] - 1s 70ms/step - loss: 0.9908 - val_loss: 0.6620\n",
            "Epoch 2/20\n",
            "14/14 [==============================] - 1s 59ms/step - loss: 0.8278 - val_loss: 0.6602\n",
            "Epoch 3/20\n",
            "14/14 [==============================] - 1s 58ms/step - loss: 0.8404 - val_loss: 0.6475\n",
            "Epoch 4/20\n",
            "14/14 [==============================] - 1s 59ms/step - loss: 0.8141 - val_loss: 0.6970\n",
            "Epoch 5/20\n",
            "14/14 [==============================] - 1s 59ms/step - loss: 0.8670 - val_loss: 0.8057\n",
            "Epoch 6/20\n",
            "14/14 [==============================] - 1s 60ms/step - loss: 0.8317 - val_loss: 0.7149\n",
            "Epoch 7/20\n",
            "14/14 [==============================] - 1s 60ms/step - loss: 0.8373 - val_loss: 0.6883\n",
            "Epoch 8/20\n",
            "14/14 [==============================] - 1s 59ms/step - loss: 0.8225 - val_loss: 0.6674\n",
            "Epoch 9/20\n",
            "14/14 [==============================] - 1s 60ms/step - loss: 0.8380 - val_loss: 0.6480\n",
            "Epoch 10/20\n",
            "14/14 [==============================] - 1s 59ms/step - loss: 0.8537 - val_loss: 0.6041\n",
            "Epoch 11/20\n",
            "14/14 [==============================] - 1s 59ms/step - loss: 0.8683 - val_loss: 0.6236\n",
            "Epoch 12/20\n",
            "14/14 [==============================] - 1s 62ms/step - loss: 0.7890 - val_loss: 0.6576\n",
            "Epoch 13/20\n",
            "14/14 [==============================] - 1s 59ms/step - loss: 0.7894 - val_loss: 0.6441\n",
            "Epoch 14/20\n",
            "14/14 [==============================] - 1s 60ms/step - loss: 0.7682 - val_loss: 0.6339\n",
            "Epoch 15/20\n",
            "14/14 [==============================] - 1s 61ms/step - loss: 0.7520 - val_loss: 0.6327\n",
            "Epoch 16/20\n",
            "14/14 [==============================] - 1s 60ms/step - loss: 0.7387 - val_loss: 0.6286\n",
            "Epoch 17/20\n",
            "14/14 [==============================] - 1s 59ms/step - loss: 0.7427 - val_loss: 0.6117\n",
            "Epoch 18/20\n",
            "14/14 [==============================] - 1s 59ms/step - loss: 0.7206 - val_loss: 0.6222\n",
            "Epoch 19/20\n",
            "14/14 [==============================] - 1s 61ms/step - loss: 0.7173 - val_loss: 0.6213\n",
            "Epoch 20/20\n",
            "14/14 [==============================] - 1s 59ms/step - loss: 0.6953 - val_loss: 0.6172\n",
            "fold number:  3\n",
            "Epoch 1/20\n",
            "14/14 [==============================] - 1s 67ms/step - loss: 0.6827 - val_loss: 0.5376\n",
            "Epoch 2/20\n",
            "14/14 [==============================] - 1s 59ms/step - loss: 0.6954 - val_loss: 0.5532\n",
            "Epoch 3/20\n",
            "14/14 [==============================] - 1s 60ms/step - loss: 0.6720 - val_loss: 0.5391\n",
            "Epoch 4/20\n",
            "14/14 [==============================] - 1s 58ms/step - loss: 0.6865 - val_loss: 0.5399\n",
            "Epoch 5/20\n",
            "14/14 [==============================] - 1s 60ms/step - loss: 0.6045 - val_loss: 0.5222\n",
            "Epoch 6/20\n",
            "14/14 [==============================] - 1s 60ms/step - loss: 0.5842 - val_loss: 0.5091\n",
            "Epoch 7/20\n",
            "14/14 [==============================] - 1s 61ms/step - loss: 0.5915 - val_loss: 0.4902\n",
            "Epoch 8/20\n",
            "14/14 [==============================] - 1s 61ms/step - loss: 0.5692 - val_loss: 0.4857\n",
            "Epoch 9/20\n",
            "14/14 [==============================] - 1s 59ms/step - loss: 0.5682 - val_loss: 0.4869\n",
            "Epoch 10/20\n",
            "14/14 [==============================] - 1s 62ms/step - loss: 0.5574 - val_loss: 0.4803\n",
            "Epoch 11/20\n",
            "14/14 [==============================] - 1s 60ms/step - loss: 0.5384 - val_loss: 0.4787\n",
            "Epoch 12/20\n",
            "14/14 [==============================] - 1s 59ms/step - loss: 0.5465 - val_loss: 0.4745\n",
            "Epoch 13/20\n",
            "14/14 [==============================] - 1s 59ms/step - loss: 0.5226 - val_loss: 0.4606\n",
            "Epoch 14/20\n",
            "14/14 [==============================] - 1s 62ms/step - loss: 0.5482 - val_loss: 0.5184\n",
            "Epoch 15/20\n",
            "14/14 [==============================] - 1s 60ms/step - loss: 0.5185 - val_loss: 0.5375\n",
            "Epoch 16/20\n",
            "14/14 [==============================] - 1s 60ms/step - loss: 0.5342 - val_loss: 0.5258\n",
            "Epoch 17/20\n",
            "14/14 [==============================] - 1s 61ms/step - loss: 0.5496 - val_loss: 0.5464\n",
            "Epoch 18/20\n",
            "14/14 [==============================] - 1s 58ms/step - loss: 0.5194 - val_loss: 0.5635\n",
            "Epoch 19/20\n",
            "14/14 [==============================] - 1s 60ms/step - loss: 0.5426 - val_loss: 0.5655\n",
            "Epoch 20/20\n",
            "14/14 [==============================] - 1s 61ms/step - loss: 0.5339 - val_loss: 0.5690\n"
          ],
          "name": "stdout"
        }
      ]
    },
    {
      "cell_type": "markdown",
      "metadata": {
        "id": "QlqOvEeFmOlu"
      },
      "source": [
        "We tried to plot learning curves for both validation and training data on Catergorical Crossentropy as well as for Catergorical Accuracy."
      ]
    },
    {
      "cell_type": "code",
      "metadata": {
        "id": "JQIaLyUN4Jbv",
        "outputId": "e76b6e49-cfa6-490e-ebe2-d4063c64ef20",
        "colab": {
          "base_uri": "https://localhost:8080/",
          "height": 0
        }
      },
      "source": [
        "plotter(m_histories, ylim=[0.0, 2], metric = 'loss')"
      ],
      "execution_count": 217,
      "outputs": [
        {
          "output_type": "display_data",
          "data": {
            "image/png": "[encoded data removed]",
            "text/plain": [
              "<Figure size 432x288 with 1 Axes>"
            ]
          },
          "metadata": {
            "tags": [],
            "needs_background": "light"
          }
        }
      ]
    },
    {
      "cell_type": "code",
      "metadata": {
        "id": "EQp1LcfjOk6T",
        "outputId": "0e975570-47e3-48db-b798-ceafc6e92721",
        "colab": {
          "base_uri": "https://localhost:8080/",
          "height": 0
        }
      },
      "source": [
        "X_test, test_word_index = Padding(Test_Tweets_AB)\n",
        "Y_true = pd.get_dummies(testdata_AB['Stance']).values\n",
        "print('Shape of label tensor:', Y_true.shape)"
      ],
      "execution_count": 218,
      "outputs": [
        {
          "output_type": "stream",
          "text": [
            "Found 1526 unique tokens.\n",
            "Shape of data tensor: (280, 40)\n",
            "Shape of label tensor: (280, 3)\n"
          ],
          "name": "stdout"
        }
      ]
    },
    {
      "cell_type": "code",
      "metadata": {
        "id": "id6oSdgMOk6e",
        "outputId": "63aa2520-c9ed-4556-98a6-d51310c046a1",
        "colab": {
          "base_uri": "https://localhost:8080/",
          "height": 0
        }
      },
      "source": [
        "from sklearn.metrics import f1_score\n",
        "\n",
        "Y_pred = model.predict_classes(X_test)\n",
        "\n",
        "Y_true = np.argmax(Y_true, axis= 1)\n",
        "\n",
        "f1_score_result = f1_score(Y_true, Y_pred,average='weighted')\n",
        "result_df.loc[len(result_df)] = ['Approach2_AB_WTF', f1_score_result]\n",
        "f1_score_result"
      ],
      "execution_count": 219,
      "outputs": [
        {
          "output_type": "execute_result",
          "data": {
            "text/plain": [
              "0.5155992445054944"
            ]
          },
          "metadata": {
            "tags": []
          },
          "execution_count": 219
        }
      ]
    },
    {
      "cell_type": "markdown",
      "metadata": {
        "id": "Bi5ybAhb4UZ0"
      },
      "source": [
        "**With Transfer Learning**"
      ]
    },
    {
      "cell_type": "code",
      "metadata": {
        "id": "JOqjWN2H4YRJ",
        "outputId": "8f71d6eb-7b6f-4aec-8334-0195486c4876",
        "colab": {
          "base_uri": "https://localhost:8080/",
          "height": 0
        }
      },
      "source": [
        "E_T = np.zeros((len(word_index)+1, embedding_dim))\n",
        "for word, i in word_index.items():\n",
        "    embedding_vector = glove_vectors.get(word)\n",
        "    if embedding_vector is not None:  \n",
        "        E_T[i] = embedding_vector\n",
        "\n",
        "E_T.size"
      ],
      "execution_count": 220,
      "outputs": [
        {
          "output_type": "execute_result",
          "data": {
            "text/plain": [
              "277200"
            ]
          },
          "metadata": {
            "tags": []
          },
          "execution_count": 220
        }
      ]
    },
    {
      "cell_type": "code",
      "metadata": {
        "id": "4iwgP9hW4eQk",
        "outputId": "78877814-c6f7-48fa-f22c-f2f96e4a646a",
        "colab": {
          "base_uri": "https://localhost:8080/",
          "height": 0
        }
      },
      "source": [
        "embedding_layer_TL = Embedding(len(word_index)+1,\n",
        "                                embedding_dim,\n",
        "                                weights=[E_T],\n",
        "                                input_length=MAX_LENGTH,\n",
        "                                trainable=False)\n",
        "model = create_model(embedding_layer_TL)\n",
        "print(model.summary())"
      ],
      "execution_count": 221,
      "outputs": [
        {
          "output_type": "stream",
          "text": [
            "Model: \"sequential_15\"\n",
            "_________________________________________________________________\n",
            "Layer (type)                 Output Shape              Param #   \n",
            "=================================================================\n",
            "embedding_15 (Embedding)     (None, 40, 100)           277200    \n",
            "_________________________________________________________________\n",
            "lstm_15 (LSTM)               (None, 32)                17024     \n",
            "_________________________________________________________________\n",
            "dropout_30 (Dropout)         (None, 32)                0         \n",
            "_________________________________________________________________\n",
            "dense_30 (Dense)             (None, 64)                2112      \n",
            "_________________________________________________________________\n",
            "dropout_31 (Dropout)         (None, 64)                0         \n",
            "_________________________________________________________________\n",
            "dense_31 (Dense)             (None, 3)                 195       \n",
            "=================================================================\n",
            "Total params: 296,531\n",
            "Trainable params: 19,331\n",
            "Non-trainable params: 277,200\n",
            "_________________________________________________________________\n",
            "None\n"
          ],
          "name": "stdout"
        }
      ]
    },
    {
      "cell_type": "code",
      "metadata": {
        "id": "U9nRejvf4ewR",
        "outputId": "e3d9ceda-4e0e-42ae-cc2d-4cdbb392e049",
        "colab": {
          "base_uri": "https://localhost:8080/",
          "height": 0
        }
      },
      "source": [
        "m_histories['with_TL'] = model.fit(X_train, Y_train, batch_size=32, epochs=50, validation_data=(X_Val, Y_Val), callbacks=get_callbacks('models/with_TL'), verbose=1)   "
      ],
      "execution_count": 222,
      "outputs": [
        {
          "output_type": "stream",
          "text": [
            "Epoch 1/50\n",
            " 2/17 [==>...........................] - ETA: 4s - loss: 1.2083WARNING:tensorflow:Callbacks method `on_train_batch_end` is slow compared to the batch time (batch time: 0.0574s vs `on_train_batch_end` time: 0.4885s). Check your callbacks.\n",
            "17/17 [==============================] - 2s 98ms/step - loss: 1.1796 - val_loss: 1.1199\n",
            "Epoch 2/50\n",
            "17/17 [==============================] - 1s 49ms/step - loss: 1.0923 - val_loss: 1.0163\n",
            "Epoch 3/50\n",
            "17/17 [==============================] - 1s 52ms/step - loss: 1.0805 - val_loss: 1.0219\n",
            "Epoch 4/50\n",
            "17/17 [==============================] - 1s 65ms/step - loss: 1.0501 - val_loss: 0.9908\n",
            "Epoch 5/50\n",
            "17/17 [==============================] - 1s 49ms/step - loss: 1.0355 - val_loss: 0.9854\n",
            "Epoch 6/50\n",
            "17/17 [==============================] - 1s 47ms/step - loss: 1.0219 - val_loss: 0.9364\n",
            "Epoch 7/50\n",
            "17/17 [==============================] - 1s 51ms/step - loss: 0.9975 - val_loss: 0.8814\n",
            "Epoch 8/50\n",
            "17/17 [==============================] - 1s 49ms/step - loss: 0.9524 - val_loss: 0.9100\n",
            "Epoch 9/50\n",
            "17/17 [==============================] - 1s 50ms/step - loss: 0.9421 - val_loss: 0.8839\n",
            "Epoch 10/50\n",
            "17/17 [==============================] - 1s 47ms/step - loss: 0.9318 - val_loss: 0.8875\n",
            "Epoch 11/50\n",
            "17/17 [==============================] - 1s 48ms/step - loss: 0.9408 - val_loss: 0.8620\n",
            "Epoch 12/50\n",
            "17/17 [==============================] - 1s 48ms/step - loss: 0.9230 - val_loss: 0.8592\n",
            "Epoch 13/50\n",
            "17/17 [==============================] - 1s 47ms/step - loss: 0.9127 - val_loss: 0.8634\n",
            "Epoch 14/50\n",
            "17/17 [==============================] - 1s 46ms/step - loss: 0.9368 - val_loss: 0.9405\n",
            "Epoch 15/50\n",
            "17/17 [==============================] - 1s 48ms/step - loss: 0.9263 - val_loss: 0.8494\n",
            "Epoch 16/50\n",
            "17/17 [==============================] - 1s 49ms/step - loss: 0.8978 - val_loss: 0.8497\n",
            "Epoch 17/50\n",
            "17/17 [==============================] - 1s 48ms/step - loss: 0.8885 - val_loss: 0.8519\n",
            "Epoch 18/50\n",
            "17/17 [==============================] - 1s 49ms/step - loss: 0.8687 - val_loss: 0.8599\n",
            "Epoch 19/50\n",
            "17/17 [==============================] - 1s 50ms/step - loss: 0.8996 - val_loss: 0.8457\n",
            "Epoch 20/50\n",
            "17/17 [==============================] - 1s 48ms/step - loss: 0.8931 - val_loss: 0.8456\n",
            "Epoch 21/50\n",
            "17/17 [==============================] - 1s 48ms/step - loss: 0.8643 - val_loss: 0.8816\n",
            "Epoch 22/50\n",
            "17/17 [==============================] - 1s 47ms/step - loss: 0.8843 - val_loss: 0.8923\n",
            "Epoch 23/50\n",
            "17/17 [==============================] - 1s 48ms/step - loss: 0.8715 - val_loss: 0.8579\n",
            "Epoch 24/50\n",
            "17/17 [==============================] - 1s 46ms/step - loss: 0.8834 - val_loss: 0.8696\n",
            "Epoch 25/50\n",
            "17/17 [==============================] - 1s 48ms/step - loss: 0.8813 - val_loss: 0.8892\n",
            "Epoch 26/50\n",
            "17/17 [==============================] - 1s 48ms/step - loss: 0.8768 - val_loss: 0.8665\n",
            "Epoch 27/50\n",
            "17/17 [==============================] - 1s 49ms/step - loss: 0.8496 - val_loss: 0.9371\n",
            "Epoch 28/50\n",
            "17/17 [==============================] - 1s 50ms/step - loss: 0.8355 - val_loss: 0.8724\n",
            "Epoch 29/50\n",
            "17/17 [==============================] - 1s 49ms/step - loss: 0.8463 - val_loss: 0.8580\n",
            "Epoch 30/50\n",
            "17/17 [==============================] - 1s 47ms/step - loss: 0.8401 - val_loss: 0.8510\n",
            "Epoch 31/50\n",
            "17/17 [==============================] - 1s 48ms/step - loss: 0.8689 - val_loss: 0.8463\n",
            "Epoch 32/50\n",
            "17/17 [==============================] - 1s 60ms/step - loss: 0.8602 - val_loss: 0.8432\n",
            "Epoch 33/50\n",
            "17/17 [==============================] - 1s 77ms/step - loss: 0.8473 - val_loss: 0.8542\n",
            "Epoch 34/50\n",
            "17/17 [==============================] - 1s 70ms/step - loss: 0.8117 - val_loss: 0.8915\n",
            "Epoch 35/50\n",
            "17/17 [==============================] - 1s 75ms/step - loss: 0.8836 - val_loss: 0.8916\n",
            "Epoch 36/50\n",
            "17/17 [==============================] - 1s 74ms/step - loss: 0.8483 - val_loss: 0.8386\n",
            "Epoch 37/50\n",
            "17/17 [==============================] - 1s 72ms/step - loss: 0.8462 - val_loss: 0.8532\n",
            "Epoch 38/50\n",
            "17/17 [==============================] - 1s 55ms/step - loss: 0.8276 - val_loss: 0.8612\n",
            "Epoch 39/50\n",
            "17/17 [==============================] - 1s 51ms/step - loss: 0.8550 - val_loss: 0.8721\n",
            "Epoch 40/50\n",
            "17/17 [==============================] - 1s 48ms/step - loss: 0.8388 - val_loss: 0.8917\n",
            "Epoch 41/50\n",
            "17/17 [==============================] - 1s 49ms/step - loss: 0.8030 - val_loss: 0.8878\n",
            "Epoch 42/50\n",
            "17/17 [==============================] - 1s 47ms/step - loss: 0.8421 - val_loss: 0.8475\n",
            "Epoch 43/50\n",
            "17/17 [==============================] - 1s 50ms/step - loss: 0.8185 - val_loss: 0.8797\n",
            "Epoch 44/50\n",
            "17/17 [==============================] - 1s 46ms/step - loss: 0.7939 - val_loss: 0.8851\n",
            "Epoch 45/50\n",
            "17/17 [==============================] - 1s 48ms/step - loss: 0.7864 - val_loss: 0.8642\n",
            "Epoch 46/50\n",
            "17/17 [==============================] - 1s 48ms/step - loss: 0.8185 - val_loss: 0.8556\n",
            "Epoch 47/50\n",
            "17/17 [==============================] - 1s 47ms/step - loss: 0.8053 - val_loss: 0.9037\n",
            "Epoch 48/50\n",
            "17/17 [==============================] - 1s 49ms/step - loss: 0.7967 - val_loss: 0.8757\n",
            "Epoch 49/50\n",
            "17/17 [==============================] - 1s 47ms/step - loss: 0.7475 - val_loss: 0.9589\n",
            "Epoch 50/50\n",
            "17/17 [==============================] - 1s 50ms/step - loss: 0.8074 - val_loss: 0.9016\n"
          ],
          "name": "stdout"
        }
      ]
    },
    {
      "cell_type": "code",
      "metadata": {
        "id": "UeXWGsD64eFY",
        "outputId": "90620ff7-214c-4c26-cd57-1f3441f3de38",
        "colab": {
          "base_uri": "https://localhost:8080/",
          "height": 0
        }
      },
      "source": [
        "plotter(m_histories, ylim=[0.0, 2], metric = 'loss')"
      ],
      "execution_count": 223,
      "outputs": [
        {
          "output_type": "display_data",
          "data": {
            "image/png": "[encoded data removed]",
            "text/plain": [
              "<Figure size 432x288 with 1 Axes>"
            ]
          },
          "metadata": {
            "tags": [],
            "needs_background": "light"
          }
        }
      ]
    },
    {
      "cell_type": "code",
      "metadata": {
        "id": "hA3Ip296PEpq",
        "outputId": "061aed86-38b1-42f1-e5f7-4083dc85aa2e",
        "colab": {
          "base_uri": "https://localhost:8080/",
          "height": 0
        }
      },
      "source": [
        "from sklearn.metrics import f1_score\n",
        "\n",
        "Y_pred = model.predict_classes(X_test)\n",
        "\n",
        "f1_score_result = f1_score(Y_true, Y_pred,average='weighted')\n",
        "result_df.loc[len(result_df)] = ['Approach2_AB_TF', f1_score_result]\n",
        "f1_score_result"
      ],
      "execution_count": 224,
      "outputs": [
        {
          "output_type": "execute_result",
          "data": {
            "text/plain": [
              "0.39930106658047837"
            ]
          },
          "metadata": {
            "tags": []
          },
          "execution_count": 224
        }
      ]
    },
    {
      "cell_type": "markdown",
      "metadata": {
        "id": "MZgZtwUy5UuD"
      },
      "source": [
        "# **3. modelling for tweets related to Target : Atheism**"
      ]
    },
    {
      "cell_type": "markdown",
      "metadata": {
        "id": "AndJglj7mZb6"
      },
      "source": [
        "First we check the preprocessed tweet data for target Atheism"
      ]
    },
    {
      "cell_type": "code",
      "metadata": {
        "id": "x_GO73Wc5ckA",
        "outputId": "535788a2-8b94-43a6-b858-ccca8ea549a2",
        "colab": {
          "base_uri": "https://localhost:8080/",
          "height": 0
        }
      },
      "source": [
        "Tweets_AT[:1]"
      ],
      "execution_count": 225,
      "outputs": [
        {
          "output_type": "execute_result",
          "data": {
            "text/plain": [
              "[['dear',\n",
              "  'lord',\n",
              "  'thank',\n",
              "  'ur',\n",
              "  'blessings',\n",
              "  'forgive',\n",
              "  'sins',\n",
              "  'lord',\n",
              "  'give',\n",
              "  'strength',\n",
              "  'energy',\n",
              "  'busy',\n",
              "  'day',\n",
              "  'ahead',\n",
              "  '#blessed',\n",
              "  '#hope',\n",
              "  '#semst',\n",
              "  'atheism']]"
            ]
          },
          "metadata": {
            "tags": []
          },
          "execution_count": 225
        }
      ]
    },
    {
      "cell_type": "markdown",
      "metadata": {
        "id": "B97j5WeMmkKi"
      },
      "source": [
        "The next step is to call method padding which will tokenize the tweets and pad them with max length of 40."
      ]
    },
    {
      "cell_type": "code",
      "metadata": {
        "id": "ITghyAfU5on9",
        "outputId": "0dac7daf-d540-4a26-985b-c1ceb72ebfbe",
        "colab": {
          "base_uri": "https://localhost:8080/",
          "height": 0
        }
      },
      "source": [
        "X, word_index = Padding(Tweets_AT)\n",
        "Y = pd.get_dummies(traindata_AT['Stance']).values\n",
        "print('Shape of label tensor:', Y.shape)"
      ],
      "execution_count": 226,
      "outputs": [
        {
          "output_type": "stream",
          "text": [
            "Found 2462 unique tokens.\n",
            "Shape of data tensor: (513, 40)\n",
            "Shape of label tensor: (513, 3)\n"
          ],
          "name": "stdout"
        }
      ]
    },
    {
      "cell_type": "markdown",
      "metadata": {
        "id": "q0KouwGhmp2Z"
      },
      "source": [
        "The next step is to split the above data into training and validation. We are using above mentioned split() method by passing 0.2 as a split size which means 20% of the data is reserved for validation and remaining 80% data is used for training the model."
      ]
    },
    {
      "cell_type": "code",
      "metadata": {
        "id": "mZqc9JFU5vUG",
        "outputId": "2ff7a429-9faa-4a65-88d8-f9f0ca86cb16",
        "colab": {
          "base_uri": "https://localhost:8080/",
          "height": 0
        }
      },
      "source": [
        "X_train, X_Val, Y_train, Y_Val = split(X, Y, 0.2)\n",
        "print(\"X train shape: \", X_train.shape)\n",
        "print(\"Y train shape: \", Y_train.shape)\n",
        "print(\"X Val shape: \", X_Val.shape)\n",
        "print(\"Y Val shape: \", Y_Val.shape)"
      ],
      "execution_count": 227,
      "outputs": [
        {
          "output_type": "stream",
          "text": [
            "X train shape:  (410, 40)\n",
            "Y train shape:  (410, 3)\n",
            "X Val shape:  (103, 40)\n",
            "Y Val shape:  (103, 3)\n"
          ],
          "name": "stdout"
        }
      ]
    },
    {
      "cell_type": "markdown",
      "metadata": {
        "id": "1MWxEp6w5364"
      },
      "source": [
        "**Without Transfer Learning**"
      ]
    },
    {
      "cell_type": "code",
      "metadata": {
        "id": "v9u1Ho5o53Q0",
        "outputId": "9efe2f14-1b50-4c9e-9b0b-f0e0bce7b3cb",
        "colab": {
          "base_uri": "https://localhost:8080/",
          "height": 0
        }
      },
      "source": [
        "embedding_layer = Embedding(len(word_index)+1,\n",
        "                                   embedding_dim,\n",
        "                                   input_length=MAX_LENGTH,\n",
        "                                   trainable=True)\n",
        "model = create_model(embedding_layer)\n",
        "print(model.summary())"
      ],
      "execution_count": 228,
      "outputs": [
        {
          "output_type": "stream",
          "text": [
            "Model: \"sequential_16\"\n",
            "_________________________________________________________________\n",
            "Layer (type)                 Output Shape              Param #   \n",
            "=================================================================\n",
            "embedding_16 (Embedding)     (None, 40, 100)           246300    \n",
            "_________________________________________________________________\n",
            "lstm_16 (LSTM)               (None, 32)                17024     \n",
            "_________________________________________________________________\n",
            "dropout_32 (Dropout)         (None, 32)                0         \n",
            "_________________________________________________________________\n",
            "dense_32 (Dense)             (None, 64)                2112      \n",
            "_________________________________________________________________\n",
            "dropout_33 (Dropout)         (None, 64)                0         \n",
            "_________________________________________________________________\n",
            "dense_33 (Dense)             (None, 3)                 195       \n",
            "=================================================================\n",
            "Total params: 265,631\n",
            "Trainable params: 265,631\n",
            "Non-trainable params: 0\n",
            "_________________________________________________________________\n",
            "None\n"
          ],
          "name": "stdout"
        }
      ]
    },
    {
      "cell_type": "markdown",
      "metadata": {
        "id": "Ht3uMDBtm1fY"
      },
      "source": [
        "As we have less amount of data available for training, we are using K-fold cross validation technique to train our model for 50 epochs in each of the 3 folds.\n",
        "The batch size is set to 64 and we trained the data for 50 epochs and 3 folds.\n",
        "\n",
        "From the below output we can see that the model achieved categorical accuracy of about 74% on the validation data set.\n",
        "\n",
        "To check the learning curve of the training and validation we plot the grphs using plotter function mentioned above."
      ]
    },
    {
      "cell_type": "code",
      "metadata": {
        "id": "6fBoq3UT6EuV",
        "outputId": "42cbade6-d0d1-4943-b38a-f97a6c0303d0",
        "colab": {
          "base_uri": "https://localhost:8080/",
          "height": 0
        }
      },
      "source": [
        "from sklearn.model_selection import KFold\n",
        "num_folds = 3\n",
        "input = np.concatenate((X_train, X_Val), axis= 0)\n",
        "target = np.concatenate((Y_train, Y_Val), axis= 0)\n",
        "\n",
        "kfold = KFold(n_splits=num_folds, shuffle=True)\n",
        "K = 1\n",
        "for train, test in kfold.split(input, target):\n",
        "    print(\"fold number: \", K)\n",
        "    m_histories = {}\n",
        "    m_histories['with_TL'] = model.fit(input[train], target[train], batch_size=32, epochs=20, validation_data=(input[test], target[test]), callbacks=get_callbacks('models/with_TL'), verbose=1)\n",
        "    K = K+1"
      ],
      "execution_count": 229,
      "outputs": [
        {
          "output_type": "stream",
          "text": [
            "fold number:  1\n",
            "Epoch 1/20\n",
            " 2/11 [====>.........................] - ETA: 2s - loss: 1.2089WARNING:tensorflow:Callbacks method `on_train_batch_end` is slow compared to the batch time (batch time: 0.0768s vs `on_train_batch_end` time: 0.5182s). Check your callbacks.\n",
            "11/11 [==============================] - 2s 140ms/step - loss: 1.1717 - val_loss: 1.1303\n",
            "Epoch 2/20\n",
            "11/11 [==============================] - 1s 62ms/step - loss: 1.0787 - val_loss: 1.0617\n",
            "Epoch 3/20\n",
            "11/11 [==============================] - 1s 62ms/step - loss: 1.0242 - val_loss: 1.0560\n",
            "Epoch 4/20\n",
            "11/11 [==============================] - 1s 60ms/step - loss: 1.0113 - val_loss: 1.0464\n",
            "Epoch 5/20\n",
            "11/11 [==============================] - 1s 62ms/step - loss: 1.0287 - val_loss: 1.0349\n",
            "Epoch 6/20\n",
            "11/11 [==============================] - 1s 62ms/step - loss: 1.0144 - val_loss: 1.0273\n",
            "Epoch 7/20\n",
            "11/11 [==============================] - 1s 61ms/step - loss: 1.0027 - val_loss: 1.0216\n",
            "Epoch 8/20\n",
            "11/11 [==============================] - 1s 60ms/step - loss: 0.9969 - val_loss: 1.0198\n",
            "Epoch 9/20\n",
            "11/11 [==============================] - 1s 66ms/step - loss: 0.9933 - val_loss: 1.0125\n",
            "Epoch 10/20\n",
            "11/11 [==============================] - 1s 60ms/step - loss: 0.9792 - val_loss: 1.0100\n",
            "Epoch 11/20\n",
            "11/11 [==============================] - 1s 60ms/step - loss: 0.9757 - val_loss: 1.0075\n",
            "Epoch 12/20\n",
            "11/11 [==============================] - 1s 63ms/step - loss: 0.9745 - val_loss: 1.0052\n",
            "Epoch 13/20\n",
            "11/11 [==============================] - 1s 63ms/step - loss: 0.9724 - val_loss: 1.0050\n",
            "Epoch 14/20\n",
            "11/11 [==============================] - 1s 63ms/step - loss: 0.9796 - val_loss: 1.0019\n",
            "Epoch 15/20\n",
            "11/11 [==============================] - 1s 60ms/step - loss: 0.9658 - val_loss: 1.0006\n",
            "Epoch 16/20\n",
            "11/11 [==============================] - 1s 62ms/step - loss: 0.9636 - val_loss: 0.9984\n",
            "Epoch 17/20\n",
            "11/11 [==============================] - 1s 61ms/step - loss: 0.9650 - val_loss: 0.9992\n",
            "Epoch 18/20\n",
            "11/11 [==============================] - 1s 60ms/step - loss: 0.9663 - val_loss: 0.9953\n",
            "Epoch 19/20\n",
            "11/11 [==============================] - 1s 59ms/step - loss: 0.9557 - val_loss: 0.9968\n",
            "Epoch 20/20\n",
            "11/11 [==============================] - 1s 64ms/step - loss: 0.9636 - val_loss: 0.9882\n",
            "fold number:  2\n",
            "Epoch 1/20\n",
            " 2/11 [====>.........................] - ETA: 0s - loss: 0.8815WARNING:tensorflow:Callbacks method `on_train_batch_end` is slow compared to the batch time (batch time: 0.0688s vs `on_train_batch_end` time: 0.1250s). Check your callbacks.\n",
            "11/11 [==============================] - 1s 77ms/step - loss: 0.9267 - val_loss: 0.5496\n",
            "Epoch 2/20\n",
            "11/11 [==============================] - 1s 64ms/step - loss: 0.7135 - val_loss: 0.4540\n",
            "Epoch 3/20\n",
            "11/11 [==============================] - 1s 63ms/step - loss: 0.6344 - val_loss: 0.4876\n",
            "Epoch 4/20\n",
            "11/11 [==============================] - 1s 59ms/step - loss: 0.5836 - val_loss: 0.4127\n",
            "Epoch 5/20\n",
            "11/11 [==============================] - 1s 62ms/step - loss: 0.5418 - val_loss: 0.3830\n",
            "Epoch 6/20\n",
            "11/11 [==============================] - 1s 64ms/step - loss: 0.5012 - val_loss: 0.3802\n",
            "Epoch 7/20\n",
            "11/11 [==============================] - 1s 61ms/step - loss: 0.4509 - val_loss: 0.3488\n",
            "Epoch 8/20\n",
            "11/11 [==============================] - 1s 59ms/step - loss: 0.5116 - val_loss: 0.3661\n",
            "Epoch 9/20\n",
            "11/11 [==============================] - 1s 61ms/step - loss: 0.4070 - val_loss: 0.3915\n",
            "Epoch 10/20\n",
            "11/11 [==============================] - 1s 62ms/step - loss: 0.4209 - val_loss: 0.4115\n",
            "Epoch 11/20\n",
            "11/11 [==============================] - 1s 59ms/step - loss: 0.3724 - val_loss: 0.3664\n",
            "Epoch 12/20\n",
            "11/11 [==============================] - 1s 59ms/step - loss: 0.3363 - val_loss: 0.3447\n",
            "Epoch 13/20\n",
            "11/11 [==============================] - 1s 60ms/step - loss: 0.3590 - val_loss: 0.5709\n",
            "Epoch 14/20\n",
            "11/11 [==============================] - 1s 65ms/step - loss: 0.5059 - val_loss: 0.5298\n",
            "Epoch 15/20\n",
            "11/11 [==============================] - 1s 61ms/step - loss: 0.3728 - val_loss: 0.3624\n",
            "Epoch 16/20\n",
            "11/11 [==============================] - 1s 62ms/step - loss: 0.3972 - val_loss: 0.3390\n",
            "Epoch 17/20\n",
            "11/11 [==============================] - 1s 61ms/step - loss: 0.3846 - val_loss: 0.3203\n",
            "Epoch 18/20\n",
            "11/11 [==============================] - 1s 64ms/step - loss: 0.4068 - val_loss: 0.3211\n",
            "Epoch 19/20\n",
            "11/11 [==============================] - 1s 61ms/step - loss: 0.3655 - val_loss: 0.3440\n",
            "Epoch 20/20\n",
            "11/11 [==============================] - 1s 62ms/step - loss: 0.3633 - val_loss: 0.3814\n",
            "fold number:  3\n",
            "Epoch 1/20\n",
            " 2/11 [====>.........................] - ETA: 0s - loss: 0.3835WARNING:tensorflow:Callbacks method `on_train_batch_end` is slow compared to the batch time (batch time: 0.0549s vs `on_train_batch_end` time: 0.0824s). Check your callbacks.\n",
            "11/11 [==============================] - 1s 70ms/step - loss: 0.3721 - val_loss: 0.3296\n",
            "Epoch 2/20\n",
            "11/11 [==============================] - 1s 61ms/step - loss: 0.3951 - val_loss: 0.3288\n",
            "Epoch 3/20\n",
            "11/11 [==============================] - 1s 62ms/step - loss: 0.3011 - val_loss: 0.3260\n",
            "Epoch 4/20\n",
            "11/11 [==============================] - 1s 61ms/step - loss: 0.3455 - val_loss: 0.3281\n",
            "Epoch 5/20\n",
            "11/11 [==============================] - 1s 63ms/step - loss: 0.3433 - val_loss: 0.3381\n",
            "Epoch 6/20\n",
            "11/11 [==============================] - 1s 60ms/step - loss: 0.3579 - val_loss: 0.3420\n",
            "Epoch 7/20\n",
            "11/11 [==============================] - 1s 62ms/step - loss: 0.3939 - val_loss: 0.3589\n",
            "Epoch 8/20\n",
            "11/11 [==============================] - 1s 60ms/step - loss: 0.3630 - val_loss: 0.3582\n",
            "Epoch 9/20\n",
            "11/11 [==============================] - 1s 60ms/step - loss: 0.3541 - val_loss: 0.3401\n",
            "Epoch 10/20\n",
            "11/11 [==============================] - 1s 65ms/step - loss: 0.3932 - val_loss: 0.3513\n",
            "Epoch 11/20\n",
            "11/11 [==============================] - 1s 61ms/step - loss: 0.4404 - val_loss: 0.4200\n",
            "Epoch 12/20\n",
            "11/11 [==============================] - 1s 63ms/step - loss: 0.4251 - val_loss: 0.3387\n",
            "Epoch 13/20\n",
            "11/11 [==============================] - 1s 60ms/step - loss: 0.3741 - val_loss: 0.3868\n",
            "Epoch 14/20\n",
            "11/11 [==============================] - 1s 61ms/step - loss: 0.3382 - val_loss: 0.3860\n",
            "Epoch 15/20\n",
            "11/11 [==============================] - 1s 59ms/step - loss: 0.3286 - val_loss: 0.3838\n",
            "Epoch 16/20\n",
            "11/11 [==============================] - 1s 60ms/step - loss: 0.3317 - val_loss: 0.3898\n",
            "Epoch 17/20\n",
            "11/11 [==============================] - 1s 61ms/step - loss: 0.3986 - val_loss: 0.3359\n",
            "Epoch 18/20\n",
            "11/11 [==============================] - 1s 62ms/step - loss: 0.3884 - val_loss: 0.3438\n",
            "Epoch 19/20\n",
            "11/11 [==============================] - 1s 66ms/step - loss: 0.4057 - val_loss: 0.3724\n",
            "Epoch 20/20\n",
            "11/11 [==============================] - 1s 61ms/step - loss: 0.4319 - val_loss: 0.3911\n"
          ],
          "name": "stdout"
        }
      ]
    },
    {
      "cell_type": "markdown",
      "metadata": {
        "id": "wXveg7L3m_2B"
      },
      "source": [
        "We tried to plot learning curves for both validation and training data on Catergorical Crossentropy as well as for Catergorical Accuracy."
      ]
    },
    {
      "cell_type": "code",
      "metadata": {
        "id": "yayCOjqC6ipM",
        "outputId": "9d949aa7-f88a-4701-cf2c-023cc76ea4bc",
        "colab": {
          "base_uri": "https://localhost:8080/",
          "height": 0
        }
      },
      "source": [
        "plotter(m_histories, ylim=[0.0, 2], metric = 'loss')"
      ],
      "execution_count": 230,
      "outputs": [
        {
          "output_type": "display_data",
          "data": {
            "image/png": "[encoded data removed]",
            "text/plain": [
              "<Figure size 432x288 with 1 Axes>"
            ]
          },
          "metadata": {
            "tags": [],
            "needs_background": "light"
          }
        }
      ]
    },
    {
      "cell_type": "code",
      "metadata": {
        "id": "Iew-RGPeQcE3",
        "outputId": "3bd975e4-0d3a-40e3-8805-f6812380a914",
        "colab": {
          "base_uri": "https://localhost:8080/",
          "height": 0
        }
      },
      "source": [
        "X_test, test_word_index = Padding(Test_Tweets_AT)\n",
        "Y_true = pd.get_dummies(testdata_AT['Stance']).values\n",
        "print('Shape of label tensor:', Y_true.shape)"
      ],
      "execution_count": 231,
      "outputs": [
        {
          "output_type": "stream",
          "text": [
            "Found 1339 unique tokens.\n",
            "Shape of data tensor: (220, 40)\n",
            "Shape of label tensor: (220, 3)\n"
          ],
          "name": "stdout"
        }
      ]
    },
    {
      "cell_type": "code",
      "metadata": {
        "id": "Jr2ZgpoiQcFN",
        "outputId": "c0439fd8-e1e2-423a-f503-3ac8ae9920d6",
        "colab": {
          "base_uri": "https://localhost:8080/",
          "height": 0
        }
      },
      "source": [
        "from sklearn.metrics import f1_score\n",
        "\n",
        "Y_pred = model.predict_classes(X_test)\n",
        "\n",
        "Y_true = np.argmax(Y_true, axis= 1)\n",
        "\n",
        "f1_score_result = f1_score(Y_true, Y_pred,average='weighted')\n",
        "result_df.loc[len(result_df)] = ['Approach2_AT_WTF', f1_score_result]\n",
        "f1_score_result"
      ],
      "execution_count": 232,
      "outputs": [
        {
          "output_type": "execute_result",
          "data": {
            "text/plain": [
              "0.5305194805194805"
            ]
          },
          "metadata": {
            "tags": []
          },
          "execution_count": 232
        }
      ]
    },
    {
      "cell_type": "markdown",
      "metadata": {
        "id": "QM9mdkHd6uDs"
      },
      "source": [
        "**With Transfer Learning**"
      ]
    },
    {
      "cell_type": "code",
      "metadata": {
        "id": "zDjYRAyu6h0w",
        "outputId": "90cd1935-fa36-46c7-adb1-ff4d2e7bfe6a",
        "colab": {
          "base_uri": "https://localhost:8080/",
          "height": 0
        }
      },
      "source": [
        "E_T = np.zeros((len(word_index)+1, embedding_dim))\n",
        "for word, i in word_index.items():\n",
        "    embedding_vector = glove_vectors.get(word)\n",
        "    if embedding_vector is not None:  \n",
        "        E_T[i] = embedding_vector\n",
        "\n",
        "E_T.size"
      ],
      "execution_count": 233,
      "outputs": [
        {
          "output_type": "execute_result",
          "data": {
            "text/plain": [
              "246300"
            ]
          },
          "metadata": {
            "tags": []
          },
          "execution_count": 233
        }
      ]
    },
    {
      "cell_type": "code",
      "metadata": {
        "id": "ENIvOjGJ6ho9",
        "outputId": "1630e131-de00-4c68-ebf1-038fb9cdca58",
        "colab": {
          "base_uri": "https://localhost:8080/",
          "height": 0
        }
      },
      "source": [
        "embedding_layer_TL = Embedding(len(word_index)+1,\n",
        "                                embedding_dim,\n",
        "                                weights=[E_T],\n",
        "                                input_length=MAX_LENGTH,\n",
        "                                trainable=False)\n",
        "model = create_model(embedding_layer_TL)\n",
        "print(model.summary())"
      ],
      "execution_count": 234,
      "outputs": [
        {
          "output_type": "stream",
          "text": [
            "Model: \"sequential_17\"\n",
            "_________________________________________________________________\n",
            "Layer (type)                 Output Shape              Param #   \n",
            "=================================================================\n",
            "embedding_17 (Embedding)     (None, 40, 100)           246300    \n",
            "_________________________________________________________________\n",
            "lstm_17 (LSTM)               (None, 32)                17024     \n",
            "_________________________________________________________________\n",
            "dropout_34 (Dropout)         (None, 32)                0         \n",
            "_________________________________________________________________\n",
            "dense_34 (Dense)             (None, 64)                2112      \n",
            "_________________________________________________________________\n",
            "dropout_35 (Dropout)         (None, 64)                0         \n",
            "_________________________________________________________________\n",
            "dense_35 (Dense)             (None, 3)                 195       \n",
            "=================================================================\n",
            "Total params: 265,631\n",
            "Trainable params: 19,331\n",
            "Non-trainable params: 246,300\n",
            "_________________________________________________________________\n",
            "None\n"
          ],
          "name": "stdout"
        }
      ]
    },
    {
      "cell_type": "code",
      "metadata": {
        "id": "VZjyXfqX663E",
        "outputId": "c3099790-35f3-4322-ba75-620f01a5e212",
        "colab": {
          "base_uri": "https://localhost:8080/",
          "height": 0
        }
      },
      "source": [
        "m_histories['with_TL'] = model.fit(X_train, Y_train, batch_size=32, epochs=50, validation_data=(X_Val, Y_Val), callbacks=get_callbacks('models/with_TL'), verbose=1)   "
      ],
      "execution_count": 235,
      "outputs": [
        {
          "output_type": "stream",
          "text": [
            "Epoch 1/50\n",
            " 2/13 [===>..........................] - ETA: 3s - loss: 1.2078WARNING:tensorflow:Callbacks method `on_train_batch_end` is slow compared to the batch time (batch time: 0.0605s vs `on_train_batch_end` time: 0.5129s). Check your callbacks.\n",
            "13/13 [==============================] - 2s 118ms/step - loss: 1.1797 - val_loss: 1.1435\n",
            "Epoch 2/50\n",
            "13/13 [==============================] - 1s 48ms/step - loss: 1.0745 - val_loss: 1.1300\n",
            "Epoch 3/50\n",
            "13/13 [==============================] - 1s 52ms/step - loss: 1.0209 - val_loss: 1.0703\n",
            "Epoch 4/50\n",
            "13/13 [==============================] - 1s 49ms/step - loss: 1.0036 - val_loss: 1.0590\n",
            "Epoch 5/50\n",
            "13/13 [==============================] - 1s 50ms/step - loss: 0.9564 - val_loss: 0.9961\n",
            "Epoch 6/50\n",
            "13/13 [==============================] - 1s 49ms/step - loss: 0.8537 - val_loss: 0.9559\n",
            "Epoch 7/50\n",
            "13/13 [==============================] - 1s 50ms/step - loss: 0.8513 - val_loss: 0.9110\n",
            "Epoch 8/50\n",
            "13/13 [==============================] - 1s 48ms/step - loss: 0.8326 - val_loss: 0.9088\n",
            "Epoch 9/50\n",
            "13/13 [==============================] - 1s 51ms/step - loss: 0.8429 - val_loss: 0.8908\n",
            "Epoch 10/50\n",
            "13/13 [==============================] - 1s 51ms/step - loss: 0.7967 - val_loss: 0.9223\n",
            "Epoch 11/50\n",
            "13/13 [==============================] - 1s 52ms/step - loss: 0.8158 - val_loss: 0.8733\n",
            "Epoch 12/50\n",
            "13/13 [==============================] - 1s 50ms/step - loss: 0.7882 - val_loss: 0.8688\n",
            "Epoch 13/50\n",
            "13/13 [==============================] - 1s 51ms/step - loss: 0.7927 - val_loss: 0.9050\n",
            "Epoch 14/50\n",
            "13/13 [==============================] - 1s 48ms/step - loss: 0.7478 - val_loss: 0.8741\n",
            "Epoch 15/50\n",
            "13/13 [==============================] - 1s 48ms/step - loss: 0.7577 - val_loss: 0.8578\n",
            "Epoch 16/50\n",
            "13/13 [==============================] - 1s 52ms/step - loss: 0.8106 - val_loss: 0.8902\n",
            "Epoch 17/50\n",
            "13/13 [==============================] - 1s 48ms/step - loss: 0.7798 - val_loss: 0.8689\n",
            "Epoch 18/50\n",
            "13/13 [==============================] - 1s 47ms/step - loss: 0.7587 - val_loss: 0.9223\n",
            "Epoch 19/50\n",
            "13/13 [==============================] - 1s 51ms/step - loss: 0.7516 - val_loss: 0.8816\n",
            "Epoch 20/50\n",
            "13/13 [==============================] - 1s 52ms/step - loss: 0.7709 - val_loss: 0.9202\n",
            "Epoch 21/50\n",
            "13/13 [==============================] - 1s 49ms/step - loss: 0.7411 - val_loss: 0.9302\n",
            "Epoch 22/50\n",
            "13/13 [==============================] - 1s 49ms/step - loss: 0.7477 - val_loss: 0.8836\n",
            "Epoch 23/50\n",
            "13/13 [==============================] - 1s 51ms/step - loss: 0.7299 - val_loss: 0.9686\n",
            "Epoch 24/50\n",
            "13/13 [==============================] - 1s 49ms/step - loss: 0.6988 - val_loss: 0.9846\n",
            "Epoch 25/50\n",
            "13/13 [==============================] - 1s 52ms/step - loss: 0.7377 - val_loss: 0.9108\n",
            "Epoch 26/50\n",
            "13/13 [==============================] - 1s 50ms/step - loss: 0.7098 - val_loss: 0.8943\n",
            "Epoch 27/50\n",
            "13/13 [==============================] - 1s 56ms/step - loss: 0.7165 - val_loss: 0.9328\n",
            "Epoch 28/50\n",
            "13/13 [==============================] - 1s 47ms/step - loss: 0.7078 - val_loss: 0.8987\n",
            "Epoch 29/50\n",
            "13/13 [==============================] - 1s 50ms/step - loss: 0.7354 - val_loss: 0.9345\n",
            "Epoch 30/50\n",
            "13/13 [==============================] - 1s 51ms/step - loss: 0.7073 - val_loss: 0.9031\n",
            "Epoch 31/50\n",
            "13/13 [==============================] - 1s 48ms/step - loss: 0.6943 - val_loss: 0.9990\n",
            "Epoch 32/50\n",
            "13/13 [==============================] - 1s 50ms/step - loss: 0.7143 - val_loss: 0.9205\n",
            "Epoch 33/50\n",
            "13/13 [==============================] - 1s 53ms/step - loss: 0.7356 - val_loss: 0.9091\n",
            "Epoch 34/50\n",
            "13/13 [==============================] - 1s 52ms/step - loss: 0.6752 - val_loss: 1.0737\n",
            "Epoch 35/50\n",
            "13/13 [==============================] - 1s 52ms/step - loss: 0.7303 - val_loss: 0.9874\n",
            "Epoch 36/50\n",
            "13/13 [==============================] - 1s 50ms/step - loss: 0.7235 - val_loss: 0.9315\n",
            "Epoch 37/50\n",
            "13/13 [==============================] - 1s 50ms/step - loss: 0.6910 - val_loss: 0.9574\n",
            "Epoch 38/50\n",
            "13/13 [==============================] - 1s 48ms/step - loss: 0.7142 - val_loss: 1.0197\n",
            "Epoch 39/50\n",
            "13/13 [==============================] - 1s 48ms/step - loss: 0.6926 - val_loss: 1.0210\n",
            "Epoch 40/50\n",
            "13/13 [==============================] - 1s 51ms/step - loss: 0.6611 - val_loss: 0.9756\n",
            "Epoch 41/50\n",
            "13/13 [==============================] - 1s 49ms/step - loss: 0.6778 - val_loss: 0.9795\n",
            "Epoch 42/50\n",
            "13/13 [==============================] - 1s 49ms/step - loss: 0.6734 - val_loss: 1.0496\n",
            "Epoch 43/50\n",
            "13/13 [==============================] - 1s 51ms/step - loss: 0.6314 - val_loss: 1.0770\n",
            "Epoch 44/50\n",
            "13/13 [==============================] - 1s 48ms/step - loss: 0.6600 - val_loss: 1.0035\n",
            "Epoch 45/50\n",
            "13/13 [==============================] - 1s 49ms/step - loss: 0.6796 - val_loss: 1.1250\n",
            "Epoch 46/50\n",
            "13/13 [==============================] - 1s 48ms/step - loss: 0.6519 - val_loss: 1.1110\n",
            "Epoch 47/50\n",
            "13/13 [==============================] - 1s 48ms/step - loss: 0.6677 - val_loss: 1.1095\n",
            "Epoch 48/50\n",
            "13/13 [==============================] - 1s 51ms/step - loss: 0.6720 - val_loss: 1.0410\n",
            "Epoch 49/50\n",
            "13/13 [==============================] - 1s 50ms/step - loss: 0.6584 - val_loss: 1.0379\n",
            "Epoch 50/50\n",
            "13/13 [==============================] - 1s 49ms/step - loss: 0.6762 - val_loss: 0.9864\n"
          ],
          "name": "stdout"
        }
      ]
    },
    {
      "cell_type": "code",
      "metadata": {
        "id": "VosXxD1c67X5",
        "outputId": "c26a0902-9b95-46c5-dc4f-c7fe72ef2165",
        "colab": {
          "base_uri": "https://localhost:8080/",
          "height": 0
        }
      },
      "source": [
        "plotter(m_histories, ylim=[0.0, 2], metric = 'loss')"
      ],
      "execution_count": 236,
      "outputs": [
        {
          "output_type": "display_data",
          "data": {
            "image/png": "[encoded data removed]",
            "text/plain": [
              "<Figure size 432x288 with 1 Axes>"
            ]
          },
          "metadata": {
            "tags": [],
            "needs_background": "light"
          }
        }
      ]
    },
    {
      "cell_type": "code",
      "metadata": {
        "id": "OFA2rIAgQ83p",
        "outputId": "e7d35d6a-cde7-4ded-d9ef-85ebbe6e15e3",
        "colab": {
          "base_uri": "https://localhost:8080/",
          "height": 0
        }
      },
      "source": [
        "from sklearn.metrics import f1_score\n",
        "\n",
        "Y_pred = model.predict_classes(X_test)\n",
        "\n",
        "f1_score_result = f1_score(Y_true, Y_pred,average='weighted')\n",
        "result_df.loc[len(result_df)] = ['Approach2_AT_TF', f1_score_result]\n",
        "f1_score_result"
      ],
      "execution_count": 237,
      "outputs": [
        {
          "output_type": "execute_result",
          "data": {
            "text/plain": [
              "0.5504132231404959"
            ]
          },
          "metadata": {
            "tags": []
          },
          "execution_count": 237
        }
      ]
    },
    {
      "cell_type": "markdown",
      "metadata": {
        "id": "w9qXKf6B7HR9"
      },
      "source": [
        "# **4. Modelling for tweets related to target: Climate Change is a Real Concern**"
      ]
    },
    {
      "cell_type": "markdown",
      "metadata": {
        "id": "V4Fl0P6KnMoz"
      },
      "source": [
        "First we check the preprocessed tweet data for target Climate Change is a Real Concern"
      ]
    },
    {
      "cell_type": "code",
      "metadata": {
        "id": "d-wCIovY74Y_",
        "outputId": "f91260e2-403c-4f73-b124-ae7c41dec732",
        "colab": {
          "base_uri": "https://localhost:8080/",
          "height": 0
        }
      },
      "source": [
        "Tweets_CC[:1]"
      ],
      "execution_count": 238,
      "outputs": [
        {
          "output_type": "execute_result",
          "data": {
            "text/plain": [
              "[['cant',\n",
              "  'deny',\n",
              "  'really',\n",
              "  'happening',\n",
              "  '#semst',\n",
              "  'climate',\n",
              "  'change',\n",
              "  'real',\n",
              "  'concern']]"
            ]
          },
          "metadata": {
            "tags": []
          },
          "execution_count": 238
        }
      ]
    },
    {
      "cell_type": "markdown",
      "metadata": {
        "id": "gKX4PbJkncix"
      },
      "source": [
        "The next step is to call method padding which will tokenize the tweets and pad them with max length of 40."
      ]
    },
    {
      "cell_type": "code",
      "metadata": {
        "id": "3hWkV61G8EoZ",
        "outputId": "0d48e4a1-eb02-42eb-9f48-d3550deaabc5",
        "colab": {
          "base_uri": "https://localhost:8080/",
          "height": 0
        }
      },
      "source": [
        "X, word_index = Padding(Tweets_CC)\n",
        "Y = pd.get_dummies(traindata_CC['Stance']).values\n",
        "print('Shape of label tensor:', Y.shape)"
      ],
      "execution_count": 239,
      "outputs": [
        {
          "output_type": "stream",
          "text": [
            "Found 2281 unique tokens.\n",
            "Shape of data tensor: (395, 40)\n",
            "Shape of label tensor: (395, 3)\n"
          ],
          "name": "stdout"
        }
      ]
    },
    {
      "cell_type": "markdown",
      "metadata": {
        "id": "84G7kjPynci3"
      },
      "source": [
        "The next step is to split the above data into training and validation. We are using above mentioned split() method by passing 0.2 as a split size which means 20% of the data is reserved for validation and remaining 80% data is used for training the model."
      ]
    },
    {
      "cell_type": "code",
      "metadata": {
        "id": "NIgZmm9c8Mv7",
        "outputId": "004f8d92-ed9c-4b00-ff1e-a40d31f64851",
        "colab": {
          "base_uri": "https://localhost:8080/",
          "height": 0
        }
      },
      "source": [
        "X_train, X_Val, Y_train, Y_Val = split(X, Y, 0.2)\n",
        "print(\"X train shape: \", X_train.shape)\n",
        "print(\"Y train shape: \", Y_train.shape)\n",
        "print(\"X Val shape: \", X_Val.shape)\n",
        "print(\"Y Val shape: \", Y_Val.shape)"
      ],
      "execution_count": 240,
      "outputs": [
        {
          "output_type": "stream",
          "text": [
            "X train shape:  (316, 40)\n",
            "Y train shape:  (316, 3)\n",
            "X Val shape:  (79, 40)\n",
            "Y Val shape:  (79, 3)\n"
          ],
          "name": "stdout"
        }
      ]
    },
    {
      "cell_type": "markdown",
      "metadata": {
        "id": "Z_DxoMYR8bRn"
      },
      "source": [
        "**Without Transfer Learning**"
      ]
    },
    {
      "cell_type": "code",
      "metadata": {
        "id": "w22qYAKN8bRp",
        "outputId": "bab4381d-f853-4174-e17c-2e313f77d918",
        "colab": {
          "base_uri": "https://localhost:8080/",
          "height": 0
        }
      },
      "source": [
        "embedding_layer = Embedding(len(word_index)+1,\n",
        "                                   embedding_dim,\n",
        "                                   input_length=MAX_LENGTH,\n",
        "                                   trainable=True)\n",
        "model = create_model(embedding_layer)\n",
        "print(model.summary())"
      ],
      "execution_count": 241,
      "outputs": [
        {
          "output_type": "stream",
          "text": [
            "Model: \"sequential_18\"\n",
            "_________________________________________________________________\n",
            "Layer (type)                 Output Shape              Param #   \n",
            "=================================================================\n",
            "embedding_18 (Embedding)     (None, 40, 100)           228200    \n",
            "_________________________________________________________________\n",
            "lstm_18 (LSTM)               (None, 32)                17024     \n",
            "_________________________________________________________________\n",
            "dropout_36 (Dropout)         (None, 32)                0         \n",
            "_________________________________________________________________\n",
            "dense_36 (Dense)             (None, 64)                2112      \n",
            "_________________________________________________________________\n",
            "dropout_37 (Dropout)         (None, 64)                0         \n",
            "_________________________________________________________________\n",
            "dense_37 (Dense)             (None, 3)                 195       \n",
            "=================================================================\n",
            "Total params: 247,531\n",
            "Trainable params: 247,531\n",
            "Non-trainable params: 0\n",
            "_________________________________________________________________\n",
            "None\n"
          ],
          "name": "stdout"
        }
      ]
    },
    {
      "cell_type": "markdown",
      "metadata": {
        "id": "qL4ctSrAnci5"
      },
      "source": [
        "As we have less amount of data available for training, we are using K-fold cross validation technique to train our model for 50 epochs in each of the 3 folds.\n",
        "The batch size is set to 64 and we trained the data for 50 epochs and 3 folds.\n",
        "\n",
        "From the below output we can see that the model achieved categorical accuracy of about 74% on the validation data set.\n",
        "\n",
        "To check the learning curve of the training and validation we plot the grphs using plotter function mentioned above."
      ]
    },
    {
      "cell_type": "code",
      "metadata": {
        "id": "RggbRK4P8bRu",
        "outputId": "53a29655-ad9c-4842-ed64-a8937f4e1cfb",
        "colab": {
          "base_uri": "https://localhost:8080/",
          "height": 0
        }
      },
      "source": [
        "from sklearn.model_selection import KFold\n",
        "num_folds = 3\n",
        "input = np.concatenate((X_train, X_Val), axis= 0)\n",
        "target = np.concatenate((Y_train, Y_Val), axis= 0)\n",
        "\n",
        "kfold = KFold(n_splits=num_folds, shuffle=True)\n",
        "K = 1\n",
        "for train, test in kfold.split(input, target):\n",
        "    print(\"fold number: \", K)\n",
        "    m_histories = {}\n",
        "    m_histories['with_TL'] = model.fit(input[train], target[train], batch_size=32, epochs=20, validation_data=(input[test], target[test]), callbacks=get_callbacks('models/with_TL'), verbose=1)\n",
        "    K = K+1"
      ],
      "execution_count": 242,
      "outputs": [
        {
          "output_type": "stream",
          "text": [
            "fold number:  1\n",
            "Epoch 1/20\n",
            "2/9 [=====>........................] - ETA: 2s - loss: 1.2132WARNING:tensorflow:Callbacks method `on_train_batch_end` is slow compared to the batch time (batch time: 0.0776s vs `on_train_batch_end` time: 0.5728s). Check your callbacks.\n",
            "9/9 [==============================] - 1s 161ms/step - loss: 1.1821 - val_loss: 1.1405\n",
            "Epoch 2/20\n",
            "9/9 [==============================] - 0s 54ms/step - loss: 1.0932 - val_loss: 1.0489\n",
            "Epoch 3/20\n",
            "9/9 [==============================] - 1s 58ms/step - loss: 0.9914 - val_loss: 0.9697\n",
            "Epoch 4/20\n",
            "9/9 [==============================] - 1s 57ms/step - loss: 0.9230 - val_loss: 0.9275\n",
            "Epoch 5/20\n",
            "9/9 [==============================] - 1s 58ms/step - loss: 0.8975 - val_loss: 0.9187\n",
            "Epoch 6/20\n",
            "9/9 [==============================] - 1s 57ms/step - loss: 0.8996 - val_loss: 0.9110\n",
            "Epoch 7/20\n",
            "9/9 [==============================] - 1s 57ms/step - loss: 0.8768 - val_loss: 0.9047\n",
            "Epoch 8/20\n",
            "9/9 [==============================] - 1s 59ms/step - loss: 0.8891 - val_loss: 0.9003\n",
            "Epoch 9/20\n",
            "9/9 [==============================] - 1s 57ms/step - loss: 0.8768 - val_loss: 0.9038\n",
            "Epoch 10/20\n",
            "9/9 [==============================] - 1s 57ms/step - loss: 0.8863 - val_loss: 0.8949\n",
            "Epoch 11/20\n",
            "9/9 [==============================] - 1s 56ms/step - loss: 0.8603 - val_loss: 0.8880\n",
            "Epoch 12/20\n",
            "9/9 [==============================] - 1s 58ms/step - loss: 0.8582 - val_loss: 0.8836\n",
            "Epoch 13/20\n",
            "9/9 [==============================] - 1s 58ms/step - loss: 0.8602 - val_loss: 0.8837\n",
            "Epoch 14/20\n",
            "9/9 [==============================] - 1s 56ms/step - loss: 0.8446 - val_loss: 0.8804\n",
            "Epoch 15/20\n",
            "9/9 [==============================] - 1s 57ms/step - loss: 0.8282 - val_loss: 0.8851\n",
            "Epoch 16/20\n",
            "9/9 [==============================] - 1s 56ms/step - loss: 0.8391 - val_loss: 0.8856\n",
            "Epoch 17/20\n",
            "9/9 [==============================] - 1s 60ms/step - loss: 0.8557 - val_loss: 0.8809\n",
            "Epoch 18/20\n",
            "9/9 [==============================] - 1s 59ms/step - loss: 0.8177 - val_loss: 0.8703\n",
            "Epoch 19/20\n",
            "9/9 [==============================] - 1s 56ms/step - loss: 0.8378 - val_loss: 0.8689\n",
            "Epoch 20/20\n",
            "9/9 [==============================] - 1s 58ms/step - loss: 0.8342 - val_loss: 0.8699\n",
            "fold number:  2\n",
            "Epoch 1/20\n",
            "2/9 [=====>........................] - ETA: 0s - loss: 0.8188WARNING:tensorflow:Callbacks method `on_train_batch_end` is slow compared to the batch time (batch time: 0.0633s vs `on_train_batch_end` time: 0.1011s). Check your callbacks.\n",
            "9/9 [==============================] - 1s 74ms/step - loss: 0.8440 - val_loss: 0.8495\n",
            "Epoch 2/20\n",
            "9/9 [==============================] - 1s 56ms/step - loss: 0.8498 - val_loss: 0.8408\n",
            "Epoch 3/20\n",
            "9/9 [==============================] - 1s 56ms/step - loss: 0.8314 - val_loss: 0.8326\n",
            "Epoch 4/20\n",
            "9/9 [==============================] - 1s 62ms/step - loss: 0.8172 - val_loss: 0.7980\n",
            "Epoch 5/20\n",
            "9/9 [==============================] - 1s 56ms/step - loss: 0.7751 - val_loss: 0.6902\n",
            "Epoch 6/20\n",
            "9/9 [==============================] - 1s 58ms/step - loss: 0.6357 - val_loss: 0.5088\n",
            "Epoch 7/20\n",
            "9/9 [==============================] - 1s 57ms/step - loss: 0.4521 - val_loss: 0.4044\n",
            "Epoch 8/20\n",
            "9/9 [==============================] - 1s 59ms/step - loss: 0.3529 - val_loss: 0.6656\n",
            "Epoch 9/20\n",
            "9/9 [==============================] - 1s 57ms/step - loss: 0.2945 - val_loss: 0.4052\n",
            "Epoch 10/20\n",
            "9/9 [==============================] - 1s 57ms/step - loss: 0.2146 - val_loss: 0.3618\n",
            "Epoch 11/20\n",
            "9/9 [==============================] - 1s 57ms/step - loss: 0.1859 - val_loss: 0.3686\n",
            "Epoch 12/20\n",
            "9/9 [==============================] - 0s 55ms/step - loss: 0.2032 - val_loss: 0.3684\n",
            "Epoch 13/20\n",
            "9/9 [==============================] - 1s 61ms/step - loss: 0.1831 - val_loss: 0.3751\n",
            "Epoch 14/20\n",
            "9/9 [==============================] - 1s 56ms/step - loss: 0.1766 - val_loss: 0.3662\n",
            "Epoch 15/20\n",
            "9/9 [==============================] - 1s 61ms/step - loss: 0.2195 - val_loss: 0.4636\n",
            "Epoch 16/20\n",
            "9/9 [==============================] - 1s 57ms/step - loss: 0.1986 - val_loss: 0.4231\n",
            "Epoch 17/20\n",
            "9/9 [==============================] - 0s 55ms/step - loss: 0.1725 - val_loss: 0.4285\n",
            "Epoch 18/20\n",
            "9/9 [==============================] - 1s 59ms/step - loss: 0.1573 - val_loss: 0.4523\n",
            "Epoch 19/20\n",
            "9/9 [==============================] - 1s 59ms/step - loss: 0.1404 - val_loss: 0.5203\n",
            "Epoch 20/20\n",
            "9/9 [==============================] - 1s 60ms/step - loss: 0.1669 - val_loss: 0.5119\n",
            "fold number:  3\n",
            "Epoch 1/20\n",
            "9/9 [==============================] - 1s 72ms/step - loss: 0.3475 - val_loss: 0.0993\n",
            "Epoch 2/20\n",
            "9/9 [==============================] - 1s 57ms/step - loss: 0.2895 - val_loss: 0.2012\n",
            "Epoch 3/20\n",
            "9/9 [==============================] - 0s 55ms/step - loss: 0.2265 - val_loss: 0.1229\n",
            "Epoch 4/20\n",
            "9/9 [==============================] - 1s 59ms/step - loss: 0.2280 - val_loss: 0.1254\n",
            "Epoch 5/20\n",
            "9/9 [==============================] - 1s 57ms/step - loss: 0.2589 - val_loss: 0.1296\n",
            "Epoch 6/20\n",
            "9/9 [==============================] - 1s 57ms/step - loss: 0.4033 - val_loss: 0.3085\n",
            "Epoch 7/20\n",
            "9/9 [==============================] - 1s 58ms/step - loss: 0.4414 - val_loss: 0.3280\n",
            "Epoch 8/20\n",
            "9/9 [==============================] - 1s 58ms/step - loss: 0.4870 - val_loss: 0.3256\n",
            "Epoch 9/20\n",
            "9/9 [==============================] - 1s 62ms/step - loss: 0.4611 - val_loss: 0.3222\n",
            "Epoch 10/20\n",
            "9/9 [==============================] - 1s 58ms/step - loss: 0.4430 - val_loss: 0.3261\n",
            "Epoch 11/20\n",
            "9/9 [==============================] - 1s 57ms/step - loss: 0.4675 - val_loss: 0.3323\n",
            "Epoch 12/20\n",
            "9/9 [==============================] - 1s 59ms/step - loss: 0.4784 - val_loss: 0.3345\n",
            "Epoch 13/20\n",
            "9/9 [==============================] - 1s 59ms/step - loss: 0.4572 - val_loss: 0.3277\n",
            "Epoch 14/20\n",
            "9/9 [==============================] - 1s 57ms/step - loss: 0.5030 - val_loss: 0.3316\n",
            "Epoch 15/20\n",
            "9/9 [==============================] - 1s 59ms/step - loss: 0.4864 - val_loss: 0.3465\n",
            "Epoch 16/20\n",
            "9/9 [==============================] - 1s 59ms/step - loss: 0.5159 - val_loss: 0.3570\n",
            "Epoch 17/20\n",
            "9/9 [==============================] - 1s 57ms/step - loss: 0.5022 - val_loss: 0.3559\n",
            "Epoch 18/20\n",
            "9/9 [==============================] - 1s 61ms/step - loss: 0.5348 - val_loss: 0.3509\n",
            "Epoch 19/20\n",
            "9/9 [==============================] - 1s 59ms/step - loss: 0.5207 - val_loss: 0.3272\n",
            "Epoch 20/20\n",
            "9/9 [==============================] - 1s 61ms/step - loss: 0.5484 - val_loss: 0.3343\n"
          ],
          "name": "stdout"
        }
      ]
    },
    {
      "cell_type": "markdown",
      "metadata": {
        "id": "wJ1XXAYlnci7"
      },
      "source": [
        "We tried to plot learning curves for both validation and training data on Catergorical Crossentropy as well as for Catergorical Accuracy."
      ]
    },
    {
      "cell_type": "code",
      "metadata": {
        "id": "k4UyWMRb8bR0",
        "outputId": "ece7d2f2-d9c4-4ae6-d24a-cea78b5c7341",
        "colab": {
          "base_uri": "https://localhost:8080/",
          "height": 0
        }
      },
      "source": [
        "plotter(m_histories, ylim=[0.0, 2], metric = 'loss')"
      ],
      "execution_count": 243,
      "outputs": [
        {
          "output_type": "display_data",
          "data": {
            "image/png": "[encoded data removed]",
            "text/plain": [
              "<Figure size 432x288 with 1 Axes>"
            ]
          },
          "metadata": {
            "tags": [],
            "needs_background": "light"
          }
        }
      ]
    },
    {
      "cell_type": "code",
      "metadata": {
        "id": "kz0N9II6T3ew",
        "outputId": "fdb82532-1c5a-4366-b723-210839a91c3c",
        "colab": {
          "base_uri": "https://localhost:8080/",
          "height": 0
        }
      },
      "source": [
        "X_test, test_word_index = Padding(Test_Tweets_CC)\n",
        "Y_true = pd.get_dummies(testdata_CC['Stance']).values\n",
        "print('Shape of label tensor:', Y_true.shape)"
      ],
      "execution_count": 244,
      "outputs": [
        {
          "output_type": "stream",
          "text": [
            "Found 1167 unique tokens.\n",
            "Shape of data tensor: (169, 40)\n",
            "Shape of label tensor: (169, 3)\n"
          ],
          "name": "stdout"
        }
      ]
    },
    {
      "cell_type": "code",
      "metadata": {
        "id": "ZndUA2BeT3fE",
        "outputId": "6b38a370-c9ae-4ac6-c7ec-cd141f64c1ab",
        "colab": {
          "base_uri": "https://localhost:8080/",
          "height": 0
        }
      },
      "source": [
        "from sklearn.metrics import f1_score\n",
        "\n",
        "Y_pred = model.predict_classes(X_test)\n",
        "\n",
        "Y_true = np.argmax(Y_true, axis= 1)\n",
        "\n",
        "f1_score_result = f1_score(Y_true, Y_pred,average='weighted')\n",
        "result_df.loc[len(result_df)] = ['Approach2_CC_WTF', f1_score_result]\n",
        "f1_score_result"
      ],
      "execution_count": 245,
      "outputs": [
        {
          "output_type": "execute_result",
          "data": {
            "text/plain": [
              "0.612403873855905"
            ]
          },
          "metadata": {
            "tags": []
          },
          "execution_count": 245
        }
      ]
    },
    {
      "cell_type": "markdown",
      "metadata": {
        "id": "UECckmdJ8bR8"
      },
      "source": [
        "**With Transfer Learning**"
      ]
    },
    {
      "cell_type": "code",
      "metadata": {
        "id": "R1zde7Ff8bR9",
        "outputId": "fad8790f-f268-4ed6-817d-e57ceb1695be",
        "colab": {
          "base_uri": "https://localhost:8080/",
          "height": 0
        }
      },
      "source": [
        "E_T = np.zeros((len(word_index)+1, embedding_dim))\n",
        "for word, i in word_index.items():\n",
        "    embedding_vector = glove_vectors.get(word)\n",
        "    if embedding_vector is not None:  \n",
        "        E_T[i] = embedding_vector\n",
        "\n",
        "E_T.size"
      ],
      "execution_count": 246,
      "outputs": [
        {
          "output_type": "execute_result",
          "data": {
            "text/plain": [
              "228200"
            ]
          },
          "metadata": {
            "tags": []
          },
          "execution_count": 246
        }
      ]
    },
    {
      "cell_type": "code",
      "metadata": {
        "id": "EUUCG7408bSA",
        "outputId": "3c091d5a-e3f7-4619-ef5f-54968b50c813",
        "colab": {
          "base_uri": "https://localhost:8080/",
          "height": 0
        }
      },
      "source": [
        "embedding_layer_TL = Embedding(len(word_index)+1,\n",
        "                                embedding_dim,\n",
        "                                weights=[E_T],\n",
        "                                input_length=MAX_LENGTH,\n",
        "                                trainable=False)\n",
        "model = create_model(embedding_layer_TL)\n",
        "print(model.summary())"
      ],
      "execution_count": 247,
      "outputs": [
        {
          "output_type": "stream",
          "text": [
            "Model: \"sequential_19\"\n",
            "_________________________________________________________________\n",
            "Layer (type)                 Output Shape              Param #   \n",
            "=================================================================\n",
            "embedding_19 (Embedding)     (None, 40, 100)           228200    \n",
            "_________________________________________________________________\n",
            "lstm_19 (LSTM)               (None, 32)                17024     \n",
            "_________________________________________________________________\n",
            "dropout_38 (Dropout)         (None, 32)                0         \n",
            "_________________________________________________________________\n",
            "dense_38 (Dense)             (None, 64)                2112      \n",
            "_________________________________________________________________\n",
            "dropout_39 (Dropout)         (None, 64)                0         \n",
            "_________________________________________________________________\n",
            "dense_39 (Dense)             (None, 3)                 195       \n",
            "=================================================================\n",
            "Total params: 247,531\n",
            "Trainable params: 19,331\n",
            "Non-trainable params: 228,200\n",
            "_________________________________________________________________\n",
            "None\n"
          ],
          "name": "stdout"
        }
      ]
    },
    {
      "cell_type": "code",
      "metadata": {
        "id": "zQ3UShmz8bSG",
        "outputId": "6dfc24cd-d8ea-4bea-ff5d-37526bd0f0c5",
        "colab": {
          "base_uri": "https://localhost:8080/",
          "height": 0
        }
      },
      "source": [
        "m_histories['with_TL'] = model.fit(X_train, Y_train, batch_size=32, epochs=50, validation_data=(X_Val, Y_Val), callbacks=get_callbacks('models/with_TL'), verbose=1)   "
      ],
      "execution_count": 248,
      "outputs": [
        {
          "output_type": "stream",
          "text": [
            "Epoch 1/50\n",
            " 2/10 [=====>........................] - ETA: 2s - loss: 1.2096WARNING:tensorflow:Callbacks method `on_train_batch_end` is slow compared to the batch time (batch time: 0.0664s vs `on_train_batch_end` time: 0.4519s). Check your callbacks.\n",
            "10/10 [==============================] - 1s 130ms/step - loss: 1.1894 - val_loss: 1.1617\n",
            "Epoch 2/50\n",
            "10/10 [==============================] - 0s 47ms/step - loss: 1.1098 - val_loss: 1.0431\n",
            "Epoch 3/50\n",
            "10/10 [==============================] - 0s 47ms/step - loss: 0.9497 - val_loss: 1.0000\n",
            "Epoch 4/50\n",
            "10/10 [==============================] - 0s 48ms/step - loss: 0.9124 - val_loss: 0.9659\n",
            "Epoch 5/50\n",
            "10/10 [==============================] - 0s 49ms/step - loss: 0.8735 - val_loss: 0.9586\n",
            "Epoch 6/50\n",
            "10/10 [==============================] - 0s 46ms/step - loss: 0.9126 - val_loss: 0.9469\n",
            "Epoch 7/50\n",
            "10/10 [==============================] - 0s 50ms/step - loss: 0.8669 - val_loss: 0.9309\n",
            "Epoch 8/50\n",
            "10/10 [==============================] - 0s 47ms/step - loss: 0.8549 - val_loss: 0.9407\n",
            "Epoch 9/50\n",
            "10/10 [==============================] - 0s 48ms/step - loss: 0.8332 - val_loss: 0.9313\n",
            "Epoch 10/50\n",
            "10/10 [==============================] - 0s 46ms/step - loss: 0.8410 - val_loss: 0.9281\n",
            "Epoch 11/50\n",
            "10/10 [==============================] - 0s 48ms/step - loss: 0.8347 - val_loss: 0.9224\n",
            "Epoch 12/50\n",
            "10/10 [==============================] - 0s 48ms/step - loss: 0.8254 - val_loss: 0.9177\n",
            "Epoch 13/50\n",
            "10/10 [==============================] - 0s 46ms/step - loss: 0.8291 - val_loss: 0.9254\n",
            "Epoch 14/50\n",
            "10/10 [==============================] - 0s 48ms/step - loss: 0.8256 - val_loss: 0.9295\n",
            "Epoch 15/50\n",
            "10/10 [==============================] - 0s 47ms/step - loss: 0.8277 - val_loss: 0.9245\n",
            "Epoch 16/50\n",
            "10/10 [==============================] - 0s 46ms/step - loss: 0.8227 - val_loss: 0.9182\n",
            "Epoch 17/50\n",
            "10/10 [==============================] - 0s 47ms/step - loss: 0.8041 - val_loss: 0.9184\n",
            "Epoch 18/50\n",
            "10/10 [==============================] - 0s 47ms/step - loss: 0.8111 - val_loss: 0.9116\n",
            "Epoch 19/50\n",
            "10/10 [==============================] - 0s 49ms/step - loss: 0.8017 - val_loss: 0.9146\n",
            "Epoch 20/50\n",
            "10/10 [==============================] - 0s 45ms/step - loss: 0.7973 - val_loss: 0.9155\n",
            "Epoch 21/50\n",
            "10/10 [==============================] - 0s 49ms/step - loss: 0.7973 - val_loss: 0.9247\n",
            "Epoch 22/50\n",
            "10/10 [==============================] - 0s 49ms/step - loss: 0.7942 - val_loss: 0.9051\n",
            "Epoch 23/50\n",
            "10/10 [==============================] - 1s 60ms/step - loss: 0.8165 - val_loss: 0.9078\n",
            "Epoch 24/50\n",
            "10/10 [==============================] - 1s 67ms/step - loss: 0.7940 - val_loss: 0.9030\n",
            "Epoch 25/50\n",
            "10/10 [==============================] - 1s 70ms/step - loss: 0.7779 - val_loss: 0.9001\n",
            "Epoch 26/50\n",
            "10/10 [==============================] - 1s 59ms/step - loss: 0.7722 - val_loss: 0.9110\n",
            "Epoch 27/50\n",
            "10/10 [==============================] - 1s 64ms/step - loss: 0.7702 - val_loss: 0.9064\n",
            "Epoch 28/50\n",
            "10/10 [==============================] - 1s 63ms/step - loss: 0.7951 - val_loss: 0.9150\n",
            "Epoch 29/50\n",
            "10/10 [==============================] - 1s 65ms/step - loss: 0.7992 - val_loss: 0.8872\n",
            "Epoch 30/50\n",
            "10/10 [==============================] - 1s 59ms/step - loss: 0.7828 - val_loss: 0.8843\n",
            "Epoch 31/50\n",
            "10/10 [==============================] - 1s 66ms/step - loss: 0.7937 - val_loss: 0.9110\n",
            "Epoch 32/50\n",
            "10/10 [==============================] - 1s 59ms/step - loss: 0.7673 - val_loss: 0.8977\n",
            "Epoch 33/50\n",
            "10/10 [==============================] - 0s 47ms/step - loss: 0.7786 - val_loss: 0.9000\n",
            "Epoch 34/50\n",
            "10/10 [==============================] - 0s 45ms/step - loss: 0.7711 - val_loss: 0.9044\n",
            "Epoch 35/50\n",
            "10/10 [==============================] - 0s 47ms/step - loss: 0.7863 - val_loss: 0.8974\n",
            "Epoch 36/50\n",
            "10/10 [==============================] - 0s 48ms/step - loss: 0.7780 - val_loss: 0.9034\n",
            "Epoch 37/50\n",
            "10/10 [==============================] - 1s 50ms/step - loss: 0.7987 - val_loss: 0.8926\n",
            "Epoch 38/50\n",
            "10/10 [==============================] - 0s 46ms/step - loss: 0.7761 - val_loss: 0.8892\n",
            "Epoch 39/50\n",
            "10/10 [==============================] - 0s 47ms/step - loss: 0.7943 - val_loss: 0.8893\n",
            "Epoch 40/50\n",
            "10/10 [==============================] - 0s 45ms/step - loss: 0.8094 - val_loss: 0.8978\n",
            "Epoch 41/50\n",
            "10/10 [==============================] - 0s 48ms/step - loss: 0.7881 - val_loss: 0.8996\n",
            "Epoch 42/50\n",
            "10/10 [==============================] - 0s 49ms/step - loss: 0.8015 - val_loss: 0.8927\n",
            "Epoch 43/50\n",
            "10/10 [==============================] - 0s 48ms/step - loss: 0.7809 - val_loss: 0.8868\n",
            "Epoch 44/50\n",
            "10/10 [==============================] - 0s 45ms/step - loss: 0.8075 - val_loss: 0.8854\n",
            "Epoch 45/50\n",
            "10/10 [==============================] - 0s 48ms/step - loss: 0.7873 - val_loss: 0.8894\n",
            "Epoch 46/50\n",
            "10/10 [==============================] - 0s 47ms/step - loss: 0.7905 - val_loss: 0.8917\n",
            "Epoch 47/50\n",
            "10/10 [==============================] - 0s 47ms/step - loss: 0.7805 - val_loss: 0.9012\n",
            "Epoch 48/50\n",
            "10/10 [==============================] - 0s 45ms/step - loss: 0.7896 - val_loss: 0.9351\n",
            "Epoch 49/50\n",
            "10/10 [==============================] - 0s 47ms/step - loss: 0.7823 - val_loss: 0.8993\n",
            "Epoch 50/50\n",
            "10/10 [==============================] - 0s 46ms/step - loss: 0.7809 - val_loss: 0.8977\n"
          ],
          "name": "stdout"
        }
      ]
    },
    {
      "cell_type": "code",
      "metadata": {
        "id": "WguOykzO8bSJ",
        "outputId": "8cb38b3b-0633-41dc-e12b-2d94426a9ad4",
        "colab": {
          "base_uri": "https://localhost:8080/",
          "height": 0
        }
      },
      "source": [
        "plotter(m_histories, ylim=[0.0, 2], metric = 'loss')"
      ],
      "execution_count": 249,
      "outputs": [
        {
          "output_type": "display_data",
          "data": {
            "image/png": "[encoded data removed]",
            "text/plain": [
              "<Figure size 432x288 with 1 Axes>"
            ]
          },
          "metadata": {
            "tags": [],
            "needs_background": "light"
          }
        }
      ]
    },
    {
      "cell_type": "code",
      "metadata": {
        "id": "VKHrLvBFUB9d",
        "outputId": "a0b15d39-e019-4e8f-a480-8e690e672636",
        "colab": {
          "base_uri": "https://localhost:8080/",
          "height": 0
        }
      },
      "source": [
        "from sklearn.metrics import f1_score\n",
        "\n",
        "Y_pred = model.predict_classes(X_test)\n",
        "\n",
        "f1_score_result = f1_score(Y_true, Y_pred,average='weighted')\n",
        "result_df.loc[len(result_df)] = ['Approach2_CC_TF', f1_score_result]\n",
        "f1_score_result"
      ],
      "execution_count": 250,
      "outputs": [
        {
          "output_type": "execute_result",
          "data": {
            "text/plain": [
              "0.6131555483504905"
            ]
          },
          "metadata": {
            "tags": []
          },
          "execution_count": 250
        }
      ]
    },
    {
      "cell_type": "markdown",
      "metadata": {
        "id": "eHma85Nt9Kky"
      },
      "source": [
        "# **5. Modelling for tweets related to target: Feminist Movement**"
      ]
    },
    {
      "cell_type": "markdown",
      "metadata": {
        "id": "MZJsHUrUn5kE"
      },
      "source": [
        "First we check the preprocessed tweet data for target Feminist Movement"
      ]
    },
    {
      "cell_type": "code",
      "metadata": {
        "id": "FYn6HtDB9Kk1",
        "outputId": "a227f5ac-d80f-47d2-908f-b828ecc11f08",
        "colab": {
          "base_uri": "https://localhost:8080/",
          "height": 318
        }
      },
      "source": [
        "Tweets_FM[:1]"
      ],
      "execution_count": 251,
      "outputs": [
        {
          "output_type": "execute_result",
          "data": {
            "text/plain": [
              "[['always',\n",
              "  'delight',\n",
              "  'see',\n",
              "  'chestdrumming',\n",
              "  'alpha',\n",
              "  'males',\n",
              "  'hiss',\n",
              "  'scuttle',\n",
              "  'backwards',\n",
              "  'wall',\n",
              "  'feminist',\n",
              "  'enters',\n",
              "  'room',\n",
              "  '#manly',\n",
              "  '#semst',\n",
              "  'feminist',\n",
              "  'movement']]"
            ]
          },
          "metadata": {
            "tags": []
          },
          "execution_count": 251
        }
      ]
    },
    {
      "cell_type": "markdown",
      "metadata": {
        "id": "YU47Y2Hcn5kL"
      },
      "source": [
        "The next step is to call method padding which will tokenize the tweets and pad them with max length of 40."
      ]
    },
    {
      "cell_type": "code",
      "metadata": {
        "id": "o9SjnDsq9Kk7",
        "outputId": "8e0eab15-1537-4894-d534-1007b72e2cce",
        "colab": {
          "base_uri": "https://localhost:8080/",
          "height": 70
        }
      },
      "source": [
        "X, word_index = Padding(Tweets_FM)\n",
        "Y = pd.get_dummies(traindata_FM['Stance']).values\n",
        "print('Shape of label tensor:', Y.shape)"
      ],
      "execution_count": 252,
      "outputs": [
        {
          "output_type": "stream",
          "text": [
            "Found 3031 unique tokens.\n",
            "Shape of data tensor: (664, 40)\n",
            "Shape of label tensor: (664, 3)\n"
          ],
          "name": "stdout"
        }
      ]
    },
    {
      "cell_type": "markdown",
      "metadata": {
        "id": "pXakGexWn5kN"
      },
      "source": [
        "The next step is to split the above data into training and validation. We are using above mentioned split() method by passing 0.2 as a split size which means 20% of the data is reserved for validation and remaining 80% data is used for training the model."
      ]
    },
    {
      "cell_type": "code",
      "metadata": {
        "id": "VPEWZ2rc9Kk9",
        "outputId": "25c0462e-ac8a-48ca-bff2-76f2064160c2",
        "colab": {
          "base_uri": "https://localhost:8080/",
          "height": 87
        }
      },
      "source": [
        "X_train, X_Val, Y_train, Y_Val = split(X, Y, 0.2)\n",
        "print(\"X train shape: \", X_train.shape)\n",
        "print(\"Y train shape: \", Y_train.shape)\n",
        "print(\"X Val shape: \", X_Val.shape)\n",
        "print(\"Y Val shape: \", Y_Val.shape)"
      ],
      "execution_count": 253,
      "outputs": [
        {
          "output_type": "stream",
          "text": [
            "X train shape:  (531, 40)\n",
            "Y train shape:  (531, 3)\n",
            "X Val shape:  (133, 40)\n",
            "Y Val shape:  (133, 3)\n"
          ],
          "name": "stdout"
        }
      ]
    },
    {
      "cell_type": "markdown",
      "metadata": {
        "id": "sWfMQLKi9KlA"
      },
      "source": [
        "**Without Transfer Learning**"
      ]
    },
    {
      "cell_type": "code",
      "metadata": {
        "id": "uy4Jr0-H9KlA",
        "outputId": "b63765b0-6aca-476c-c891-a67235f581c6",
        "colab": {
          "base_uri": "https://localhost:8080/",
          "height": 390
        }
      },
      "source": [
        "embedding_layer = Embedding(len(word_index)+1,\n",
        "                                   embedding_dim,\n",
        "                                   input_length=MAX_LENGTH,\n",
        "                                   trainable=True)\n",
        "model = create_model(embedding_layer)\n",
        "print(model.summary())"
      ],
      "execution_count": 254,
      "outputs": [
        {
          "output_type": "stream",
          "text": [
            "Model: \"sequential_20\"\n",
            "_________________________________________________________________\n",
            "Layer (type)                 Output Shape              Param #   \n",
            "=================================================================\n",
            "embedding_20 (Embedding)     (None, 40, 100)           303200    \n",
            "_________________________________________________________________\n",
            "lstm_20 (LSTM)               (None, 32)                17024     \n",
            "_________________________________________________________________\n",
            "dropout_40 (Dropout)         (None, 32)                0         \n",
            "_________________________________________________________________\n",
            "dense_40 (Dense)             (None, 64)                2112      \n",
            "_________________________________________________________________\n",
            "dropout_41 (Dropout)         (None, 64)                0         \n",
            "_________________________________________________________________\n",
            "dense_41 (Dense)             (None, 3)                 195       \n",
            "=================================================================\n",
            "Total params: 322,531\n",
            "Trainable params: 322,531\n",
            "Non-trainable params: 0\n",
            "_________________________________________________________________\n",
            "None\n"
          ],
          "name": "stdout"
        }
      ]
    },
    {
      "cell_type": "markdown",
      "metadata": {
        "id": "ansOZNmNn5kP"
      },
      "source": [
        "As we have less amount of data available for training, we are using K-fold cross validation technique to train our model for 50 epochs in each of the 3 folds.\n",
        "The batch size is set to 64 and we trained the data for 50 epochs and 3 folds.\n",
        "\n",
        "From the below output we can see that the model achieved categorical accuracy of about 74% on the validation data set.\n",
        "\n",
        "To check the learning curve of the training and validation we plot the grphs using plotter function mentioned above."
      ]
    },
    {
      "cell_type": "code",
      "metadata": {
        "id": "kVHihgjs9KlD",
        "outputId": "4af90d43-dc30-45bf-c73d-32db8302df84",
        "colab": {
          "base_uri": "https://localhost:8080/",
          "height": 1000
        }
      },
      "source": [
        "from sklearn.model_selection import KFold\n",
        "num_folds = 3\n",
        "input = np.concatenate((X_train, X_Val), axis= 0)\n",
        "target = np.concatenate((Y_train, Y_Val), axis= 0)\n",
        "\n",
        "kfold = KFold(n_splits=num_folds, shuffle=True)\n",
        "K = 1\n",
        "for train, test in kfold.split(input, target):\n",
        "    print(\"fold number: \", K)\n",
        "    m_histories = {}\n",
        "    m_histories['with_TL'] = model.fit(input[train], target[train], batch_size=32, epochs=20, validation_data=(input[test], target[test]), callbacks=get_callbacks('models/with_TL'), verbose=1)\n",
        "    K = K+1"
      ],
      "execution_count": 255,
      "outputs": [
        {
          "output_type": "stream",
          "text": [
            "fold number:  1\n",
            "Epoch 1/20\n",
            " 2/14 [===>..........................] - ETA: 4s - loss: 1.2037WARNING:tensorflow:Callbacks method `on_train_batch_end` is slow compared to the batch time (batch time: 0.0732s vs `on_train_batch_end` time: 0.6662s). Check your callbacks.\n",
            "14/14 [==============================] - 2s 150ms/step - loss: 1.1835 - val_loss: 1.1216\n",
            "Epoch 2/20\n",
            "14/14 [==============================] - 1s 69ms/step - loss: 1.1341 - val_loss: 1.0877\n",
            "Epoch 3/20\n",
            "14/14 [==============================] - 1s 72ms/step - loss: 1.1084 - val_loss: 1.0669\n",
            "Epoch 4/20\n",
            "14/14 [==============================] - 1s 64ms/step - loss: 1.1068 - val_loss: 1.0572\n",
            "Epoch 5/20\n",
            "14/14 [==============================] - 1s 59ms/step - loss: 1.0996 - val_loss: 1.0543\n",
            "Epoch 6/20\n",
            "14/14 [==============================] - 1s 60ms/step - loss: 1.0902 - val_loss: 1.0444\n",
            "Epoch 7/20\n",
            "14/14 [==============================] - 1s 58ms/step - loss: 1.0824 - val_loss: 1.0478\n",
            "Epoch 8/20\n",
            "14/14 [==============================] - 1s 60ms/step - loss: 1.0766 - val_loss: 1.0395\n",
            "Epoch 9/20\n",
            "14/14 [==============================] - 1s 58ms/step - loss: 1.0699 - val_loss: 1.0358\n",
            "Epoch 10/20\n",
            "14/14 [==============================] - 1s 63ms/step - loss: 1.0662 - val_loss: 1.0262\n",
            "Epoch 11/20\n",
            "14/14 [==============================] - 1s 60ms/step - loss: 1.0678 - val_loss: 1.0275\n",
            "Epoch 12/20\n",
            "14/14 [==============================] - 1s 61ms/step - loss: 1.0558 - val_loss: 1.0223\n",
            "Epoch 13/20\n",
            "14/14 [==============================] - 1s 60ms/step - loss: 1.0654 - val_loss: 1.0255\n",
            "Epoch 14/20\n",
            "14/14 [==============================] - 1s 60ms/step - loss: 1.0654 - val_loss: 1.0268\n",
            "Epoch 15/20\n",
            "14/14 [==============================] - 1s 62ms/step - loss: 1.0561 - val_loss: 1.0230\n",
            "Epoch 16/20\n",
            "14/14 [==============================] - 1s 60ms/step - loss: 1.0582 - val_loss: 1.0181\n",
            "Epoch 17/20\n",
            "14/14 [==============================] - 1s 58ms/step - loss: 1.0494 - val_loss: 1.0150\n",
            "Epoch 18/20\n",
            "14/14 [==============================] - 1s 60ms/step - loss: 1.0570 - val_loss: 1.0196\n",
            "Epoch 19/20\n",
            "14/14 [==============================] - 1s 59ms/step - loss: 1.0458 - val_loss: 1.0117\n",
            "Epoch 20/20\n",
            "14/14 [==============================] - 1s 60ms/step - loss: 0.9327 - val_loss: 1.0102\n",
            "fold number:  2\n",
            "Epoch 1/20\n",
            " 2/14 [===>..........................] - ETA: 1s - loss: 0.8100WARNING:tensorflow:Callbacks method `on_train_batch_end` is slow compared to the batch time (batch time: 0.0692s vs `on_train_batch_end` time: 0.1226s). Check your callbacks.\n",
            "14/14 [==============================] - 1s 73ms/step - loss: 0.8925 - val_loss: 0.7225\n",
            "Epoch 2/20\n",
            "14/14 [==============================] - 1s 60ms/step - loss: 0.7925 - val_loss: 0.6836\n",
            "Epoch 3/20\n",
            "14/14 [==============================] - 1s 59ms/step - loss: 0.7929 - val_loss: 0.8045\n",
            "Epoch 4/20\n",
            "14/14 [==============================] - 1s 61ms/step - loss: 0.7459 - val_loss: 0.6544\n",
            "Epoch 5/20\n",
            "14/14 [==============================] - 1s 60ms/step - loss: 0.7110 - val_loss: 0.6441\n",
            "Epoch 6/20\n",
            "14/14 [==============================] - 1s 61ms/step - loss: 0.6613 - val_loss: 0.6183\n",
            "Epoch 7/20\n",
            "14/14 [==============================] - 1s 61ms/step - loss: 0.8081 - val_loss: 0.6603\n",
            "Epoch 8/20\n",
            "14/14 [==============================] - 1s 60ms/step - loss: 0.7566 - val_loss: 0.7319\n",
            "Epoch 9/20\n",
            "14/14 [==============================] - 1s 60ms/step - loss: 0.7081 - val_loss: 0.6512\n",
            "Epoch 10/20\n",
            "14/14 [==============================] - 1s 60ms/step - loss: 0.6344 - val_loss: 0.6132\n",
            "Epoch 11/20\n",
            "14/14 [==============================] - 1s 62ms/step - loss: 0.5802 - val_loss: 0.6462\n",
            "Epoch 12/20\n",
            "14/14 [==============================] - 1s 62ms/step - loss: 0.5198 - val_loss: 0.6175\n",
            "Epoch 13/20\n",
            "14/14 [==============================] - 1s 60ms/step - loss: 0.5123 - val_loss: 0.6107\n",
            "Epoch 14/20\n",
            "14/14 [==============================] - 1s 59ms/step - loss: 0.4677 - val_loss: 0.6090\n",
            "Epoch 15/20\n",
            "14/14 [==============================] - 1s 59ms/step - loss: 0.4525 - val_loss: 0.6081\n",
            "Epoch 16/20\n",
            "14/14 [==============================] - 1s 60ms/step - loss: 0.4862 - val_loss: 0.6350\n",
            "Epoch 17/20\n",
            "14/14 [==============================] - 1s 63ms/step - loss: 0.4889 - val_loss: 0.5765\n",
            "Epoch 18/20\n",
            "14/14 [==============================] - 1s 61ms/step - loss: 0.4333 - val_loss: 0.5514\n",
            "Epoch 19/20\n",
            "14/14 [==============================] - 1s 60ms/step - loss: 0.4163 - val_loss: 0.7688\n",
            "Epoch 20/20\n",
            "14/14 [==============================] - 1s 60ms/step - loss: 0.5252 - val_loss: 0.6189\n",
            "fold number:  3\n",
            "Epoch 1/20\n",
            "14/14 [==============================] - 1s 70ms/step - loss: 0.5189 - val_loss: 0.4075\n",
            "Epoch 2/20\n",
            "14/14 [==============================] - 1s 62ms/step - loss: 0.4396 - val_loss: 0.4251\n",
            "Epoch 3/20\n",
            "14/14 [==============================] - 1s 64ms/step - loss: 0.4724 - val_loss: 0.4175\n",
            "Epoch 4/20\n",
            "14/14 [==============================] - 1s 61ms/step - loss: 0.4299 - val_loss: 0.4144\n",
            "Epoch 5/20\n",
            "14/14 [==============================] - 1s 61ms/step - loss: 0.4528 - val_loss: 0.3712\n",
            "Epoch 6/20\n",
            "14/14 [==============================] - 1s 61ms/step - loss: 0.4771 - val_loss: 0.3912\n",
            "Epoch 7/20\n",
            "14/14 [==============================] - 1s 61ms/step - loss: 0.4272 - val_loss: 0.4406\n",
            "Epoch 8/20\n",
            "14/14 [==============================] - 1s 60ms/step - loss: 0.4632 - val_loss: 0.4628\n",
            "Epoch 9/20\n",
            "14/14 [==============================] - 1s 59ms/step - loss: 0.4621 - val_loss: 0.4531\n",
            "Epoch 10/20\n",
            "14/14 [==============================] - 1s 61ms/step - loss: 0.4386 - val_loss: 0.4495\n",
            "Epoch 11/20\n",
            "14/14 [==============================] - 1s 61ms/step - loss: 0.4574 - val_loss: 0.4245\n",
            "Epoch 12/20\n",
            "14/14 [==============================] - 1s 66ms/step - loss: 0.4132 - val_loss: 0.4249\n",
            "Epoch 13/20\n",
            "14/14 [==============================] - 1s 61ms/step - loss: 0.4133 - val_loss: 0.4275\n",
            "Epoch 14/20\n",
            "14/14 [==============================] - 1s 61ms/step - loss: 0.3937 - val_loss: 0.4289\n",
            "Epoch 15/20\n",
            "14/14 [==============================] - 1s 60ms/step - loss: 0.4063 - val_loss: 0.4327\n",
            "Epoch 16/20\n",
            "14/14 [==============================] - 1s 62ms/step - loss: 0.4105 - val_loss: 0.4314\n",
            "Epoch 17/20\n",
            "14/14 [==============================] - 1s 59ms/step - loss: 0.3880 - val_loss: 0.4327\n",
            "Epoch 18/20\n",
            "14/14 [==============================] - 1s 61ms/step - loss: 0.3603 - val_loss: 0.4365\n",
            "Epoch 19/20\n",
            "14/14 [==============================] - 1s 59ms/step - loss: 0.3706 - val_loss: 0.4402\n",
            "Epoch 20/20\n",
            "14/14 [==============================] - 1s 60ms/step - loss: 0.3674 - val_loss: 0.4447\n"
          ],
          "name": "stdout"
        }
      ]
    },
    {
      "cell_type": "markdown",
      "metadata": {
        "id": "sYFP3QnVn5kQ"
      },
      "source": [
        "We tried to plot learning curves for both validation and training data on Catergorical Crossentropy as well as for Catergorical Accuracy."
      ]
    },
    {
      "cell_type": "code",
      "metadata": {
        "id": "HVUf2S6n9KlF",
        "outputId": "547e960b-070a-4ba6-c047-1145c483cc76",
        "colab": {
          "base_uri": "https://localhost:8080/",
          "height": 283
        }
      },
      "source": [
        "plotter(m_histories, ylim=[0.0, 2], metric = 'loss')"
      ],
      "execution_count": 256,
      "outputs": [
        {
          "output_type": "display_data",
          "data": {
            "image/png": "[encoded data removed]",
            "text/plain": [
              "<Figure size 432x288 with 1 Axes>"
            ]
          },
          "metadata": {
            "tags": [],
            "needs_background": "light"
          }
        }
      ]
    },
    {
      "cell_type": "code",
      "metadata": {
        "id": "zmbxOOr1UgYd",
        "outputId": "48a2e15d-7de1-4bcd-ce3d-047d46d63b73",
        "colab": {
          "base_uri": "https://localhost:8080/",
          "height": 70
        }
      },
      "source": [
        "X_test, test_word_index = Padding(Test_Tweets_FM)\n",
        "Y_true = pd.get_dummies(testdata_FM['Stance']).values\n",
        "print('Shape of label tensor:', Y_true.shape)"
      ],
      "execution_count": 257,
      "outputs": [
        {
          "output_type": "stream",
          "text": [
            "Found 1609 unique tokens.\n",
            "Shape of data tensor: (285, 40)\n",
            "Shape of label tensor: (285, 3)\n"
          ],
          "name": "stdout"
        }
      ]
    },
    {
      "cell_type": "code",
      "metadata": {
        "id": "CZgl5lPbUgYu",
        "outputId": "be366a0f-a0b6-42aa-bafc-188de00dd5da",
        "colab": {
          "base_uri": "https://localhost:8080/",
          "height": 34
        }
      },
      "source": [
        "from sklearn.metrics import f1_score\n",
        "\n",
        "Y_pred = model.predict_classes(X_test)\n",
        "\n",
        "Y_true = np.argmax(Y_true, axis= 1)\n",
        "\n",
        "f1_score_result = f1_score(Y_true, Y_pred,average='weighted')\n",
        "result_df.loc[len(result_df)] = ['Approach2_FM_WTF', f1_score_result]\n",
        "f1_score_result"
      ],
      "execution_count": 258,
      "outputs": [
        {
          "output_type": "execute_result",
          "data": {
            "text/plain": [
              "0.4250748671108782"
            ]
          },
          "metadata": {
            "tags": []
          },
          "execution_count": 258
        }
      ]
    },
    {
      "cell_type": "markdown",
      "metadata": {
        "id": "yks4widM9KlK"
      },
      "source": [
        "**With Transfer Learning**"
      ]
    },
    {
      "cell_type": "code",
      "metadata": {
        "id": "EBaBIA269KlK",
        "outputId": "a23f3f96-8b8a-4e40-f0a0-9f4eb0c37464",
        "colab": {
          "base_uri": "https://localhost:8080/",
          "height": 34
        }
      },
      "source": [
        "E_T = np.zeros((len(word_index)+1, embedding_dim))\n",
        "for word, i in word_index.items():\n",
        "    embedding_vector = glove_vectors.get(word)\n",
        "    if embedding_vector is not None:  \n",
        "        E_T[i] = embedding_vector\n",
        "\n",
        "E_T.size"
      ],
      "execution_count": 259,
      "outputs": [
        {
          "output_type": "execute_result",
          "data": {
            "text/plain": [
              "303200"
            ]
          },
          "metadata": {
            "tags": []
          },
          "execution_count": 259
        }
      ]
    },
    {
      "cell_type": "code",
      "metadata": {
        "id": "1ey5Mmr39KlN",
        "outputId": "b5bed18b-185a-4b7a-ac6a-d1862df4de9d",
        "colab": {
          "base_uri": "https://localhost:8080/",
          "height": 390
        }
      },
      "source": [
        "embedding_layer_TL = Embedding(len(word_index)+1,\n",
        "                                embedding_dim,\n",
        "                                weights=[E_T],\n",
        "                                input_length=MAX_LENGTH,\n",
        "                                trainable=False)\n",
        "model = create_model(embedding_layer_TL)\n",
        "print(model.summary())"
      ],
      "execution_count": 260,
      "outputs": [
        {
          "output_type": "stream",
          "text": [
            "Model: \"sequential_21\"\n",
            "_________________________________________________________________\n",
            "Layer (type)                 Output Shape              Param #   \n",
            "=================================================================\n",
            "embedding_21 (Embedding)     (None, 40, 100)           303200    \n",
            "_________________________________________________________________\n",
            "lstm_21 (LSTM)               (None, 32)                17024     \n",
            "_________________________________________________________________\n",
            "dropout_42 (Dropout)         (None, 32)                0         \n",
            "_________________________________________________________________\n",
            "dense_42 (Dense)             (None, 64)                2112      \n",
            "_________________________________________________________________\n",
            "dropout_43 (Dropout)         (None, 64)                0         \n",
            "_________________________________________________________________\n",
            "dense_43 (Dense)             (None, 3)                 195       \n",
            "=================================================================\n",
            "Total params: 322,531\n",
            "Trainable params: 19,331\n",
            "Non-trainable params: 303,200\n",
            "_________________________________________________________________\n",
            "None\n"
          ],
          "name": "stdout"
        }
      ]
    },
    {
      "cell_type": "code",
      "metadata": {
        "id": "fvDnzOGQ9KlQ",
        "outputId": "693970f1-ed6a-4741-bb7e-7b31142c277e",
        "colab": {
          "base_uri": "https://localhost:8080/",
          "height": 1000
        }
      },
      "source": [
        "m_histories['with_TL'] = model.fit(X_train, Y_train, batch_size=32, epochs=50, validation_data=(X_Val, Y_Val), callbacks=get_callbacks('models/with_TL'), verbose=1)   "
      ],
      "execution_count": 261,
      "outputs": [
        {
          "output_type": "stream",
          "text": [
            "Epoch 1/50\n",
            " 2/17 [==>...........................] - ETA: 4s - loss: 1.2119WARNING:tensorflow:Callbacks method `on_train_batch_end` is slow compared to the batch time (batch time: 0.0830s vs `on_train_batch_end` time: 0.4907s). Check your callbacks.\n",
            "17/17 [==============================] - 2s 99ms/step - loss: 1.1857 - val_loss: 1.1502\n",
            "Epoch 2/50\n",
            "17/17 [==============================] - 1s 47ms/step - loss: 1.1183 - val_loss: 1.1041\n",
            "Epoch 3/50\n",
            "17/17 [==============================] - 1s 48ms/step - loss: 1.0813 - val_loss: 1.0869\n",
            "Epoch 4/50\n",
            "17/17 [==============================] - 1s 49ms/step - loss: 1.0645 - val_loss: 1.0783\n",
            "Epoch 5/50\n",
            "17/17 [==============================] - 1s 48ms/step - loss: 1.0523 - val_loss: 1.0566\n",
            "Epoch 6/50\n",
            "17/17 [==============================] - 1s 48ms/step - loss: 1.0456 - val_loss: 1.0421\n",
            "Epoch 7/50\n",
            "17/17 [==============================] - 1s 50ms/step - loss: 1.0034 - val_loss: 1.0493\n",
            "Epoch 8/50\n",
            "17/17 [==============================] - 1s 46ms/step - loss: 0.9996 - val_loss: 1.0950\n",
            "Epoch 9/50\n",
            "17/17 [==============================] - 1s 47ms/step - loss: 0.9752 - val_loss: 1.0045\n",
            "Epoch 10/50\n",
            "17/17 [==============================] - 1s 47ms/step - loss: 0.9642 - val_loss: 1.1205\n",
            "Epoch 11/50\n",
            "17/17 [==============================] - 1s 47ms/step - loss: 0.9728 - val_loss: 1.0199\n",
            "Epoch 12/50\n",
            "17/17 [==============================] - 1s 50ms/step - loss: 0.9421 - val_loss: 1.0678\n",
            "Epoch 13/50\n",
            "17/17 [==============================] - 1s 47ms/step - loss: 0.9623 - val_loss: 1.0199\n",
            "Epoch 14/50\n",
            "17/17 [==============================] - 1s 48ms/step - loss: 0.9404 - val_loss: 1.0727\n",
            "Epoch 15/50\n",
            "17/17 [==============================] - 1s 50ms/step - loss: 0.9236 - val_loss: 1.1019\n",
            "Epoch 16/50\n",
            "17/17 [==============================] - 1s 47ms/step - loss: 0.9279 - val_loss: 1.0386\n",
            "Epoch 17/50\n",
            "17/17 [==============================] - 1s 49ms/step - loss: 0.9292 - val_loss: 1.0598\n",
            "Epoch 18/50\n",
            "17/17 [==============================] - 1s 48ms/step - loss: 0.9117 - val_loss: 1.0279\n",
            "Epoch 19/50\n",
            "17/17 [==============================] - 1s 49ms/step - loss: 0.9115 - val_loss: 1.0714\n",
            "Epoch 20/50\n",
            "17/17 [==============================] - 1s 47ms/step - loss: 0.9026 - val_loss: 1.1264\n",
            "Epoch 21/50\n",
            "17/17 [==============================] - 1s 49ms/step - loss: 0.9373 - val_loss: 1.0217\n",
            "Epoch 22/50\n",
            "17/17 [==============================] - 1s 47ms/step - loss: 0.8913 - val_loss: 1.0405\n",
            "Epoch 23/50\n",
            "17/17 [==============================] - 1s 49ms/step - loss: 0.9242 - val_loss: 1.1300\n",
            "Epoch 24/50\n",
            "17/17 [==============================] - 1s 50ms/step - loss: 0.8925 - val_loss: 1.0549\n",
            "Epoch 25/50\n",
            "17/17 [==============================] - 1s 48ms/step - loss: 0.9230 - val_loss: 0.9986\n",
            "Epoch 26/50\n",
            "17/17 [==============================] - 1s 47ms/step - loss: 0.9103 - val_loss: 1.0313\n",
            "Epoch 27/50\n",
            "17/17 [==============================] - 1s 51ms/step - loss: 0.8703 - val_loss: 1.1185\n",
            "Epoch 28/50\n",
            "17/17 [==============================] - 1s 47ms/step - loss: 0.8779 - val_loss: 1.1043\n",
            "Epoch 29/50\n",
            "17/17 [==============================] - 1s 47ms/step - loss: 0.8746 - val_loss: 1.0962\n",
            "Epoch 30/50\n",
            "17/17 [==============================] - 1s 48ms/step - loss: 0.8887 - val_loss: 1.0558\n",
            "Epoch 31/50\n",
            "17/17 [==============================] - 1s 48ms/step - loss: 0.8870 - val_loss: 1.0376\n",
            "Epoch 32/50\n",
            "17/17 [==============================] - 1s 46ms/step - loss: 0.8579 - val_loss: 1.0539\n",
            "Epoch 33/50\n",
            "17/17 [==============================] - 1s 50ms/step - loss: 0.8787 - val_loss: 1.1383\n",
            "Epoch 34/50\n",
            "17/17 [==============================] - 1s 48ms/step - loss: 0.8931 - val_loss: 1.1638\n",
            "Epoch 35/50\n",
            "17/17 [==============================] - 1s 49ms/step - loss: 0.8991 - val_loss: 1.0986\n",
            "Epoch 36/50\n",
            "17/17 [==============================] - 1s 49ms/step - loss: 0.9021 - val_loss: 1.0486\n",
            "Epoch 37/50\n",
            "17/17 [==============================] - 1s 49ms/step - loss: 0.8638 - val_loss: 1.1346\n",
            "Epoch 38/50\n",
            "17/17 [==============================] - 1s 48ms/step - loss: 0.8525 - val_loss: 1.1124\n",
            "Epoch 39/50\n",
            "17/17 [==============================] - 1s 49ms/step - loss: 0.8647 - val_loss: 1.0679\n",
            "Epoch 40/50\n",
            "17/17 [==============================] - 1s 48ms/step - loss: 0.8648 - val_loss: 1.0385\n",
            "Epoch 41/50\n",
            "17/17 [==============================] - 1s 47ms/step - loss: 0.8598 - val_loss: 1.1362\n",
            "Epoch 42/50\n",
            "17/17 [==============================] - 1s 47ms/step - loss: 0.8518 - val_loss: 1.1703\n",
            "Epoch 43/50\n",
            "17/17 [==============================] - 1s 47ms/step - loss: 0.8279 - val_loss: 1.2389\n",
            "Epoch 44/50\n",
            "17/17 [==============================] - 1s 49ms/step - loss: 0.8331 - val_loss: 1.1270\n",
            "Epoch 45/50\n",
            "17/17 [==============================] - 1s 49ms/step - loss: 0.8315 - val_loss: 1.2553\n",
            "Epoch 46/50\n",
            "17/17 [==============================] - 1s 48ms/step - loss: 0.8312 - val_loss: 1.3817\n",
            "Epoch 47/50\n",
            "17/17 [==============================] - 1s 49ms/step - loss: 0.8953 - val_loss: 1.0728\n",
            "Epoch 48/50\n",
            "17/17 [==============================] - 1s 51ms/step - loss: 0.8387 - val_loss: 1.2415\n",
            "Epoch 49/50\n",
            "17/17 [==============================] - 1s 48ms/step - loss: 0.8144 - val_loss: 1.0959\n",
            "Epoch 50/50\n",
            "17/17 [==============================] - 1s 50ms/step - loss: 0.8531 - val_loss: 1.1268\n"
          ],
          "name": "stdout"
        }
      ]
    },
    {
      "cell_type": "code",
      "metadata": {
        "id": "njB1jFeu9KlX",
        "outputId": "9e999ea5-a77f-414b-9409-8661c19fa878",
        "colab": {
          "base_uri": "https://localhost:8080/",
          "height": 283
        }
      },
      "source": [
        "plotter(m_histories, ylim=[0.0, 2], metric = 'loss')"
      ],
      "execution_count": 262,
      "outputs": [
        {
          "output_type": "display_data",
          "data": {
            "image/png": "[encoded data removed]",
            "text/plain": [
              "<Figure size 432x288 with 1 Axes>"
            ]
          },
          "metadata": {
            "tags": [],
            "needs_background": "light"
          }
        }
      ]
    },
    {
      "cell_type": "code",
      "metadata": {
        "id": "NZdN-ZSEUnRt",
        "outputId": "d37ec34a-b96f-446c-e858-aeb4676e3cf2",
        "colab": {
          "base_uri": "https://localhost:8080/",
          "height": 34
        }
      },
      "source": [
        "from sklearn.metrics import f1_score\n",
        "\n",
        "Y_pred = model.predict_classes(X_test)\n",
        "\n",
        "f1_score_result = f1_score(Y_true, Y_pred,average='weighted')\n",
        "result_df.loc[len(result_df)] = ['Approach2_FM_TF', f1_score_result]\n",
        "f1_score_result"
      ],
      "execution_count": 263,
      "outputs": [
        {
          "output_type": "execute_result",
          "data": {
            "text/plain": [
              "0.5426179178301419"
            ]
          },
          "metadata": {
            "tags": []
          },
          "execution_count": 263
        }
      ]
    },
    {
      "cell_type": "code",
      "metadata": {
        "id": "wyjyeG5VHbYj",
        "outputId": "060ac66c-dcaa-4829-e84b-45f977a6519c",
        "colab": {
          "base_uri": "https://localhost:8080/",
          "height": 377
        }
      },
      "source": [
        "result_df"
      ],
      "execution_count": 264,
      "outputs": [
        {
          "output_type": "execute_result",
          "data": {
            "text/html": [
              "<div>\n",
              "<style scoped>\n",
              "    .dataframe tbody tr th:only-of-type {\n",
              "        vertical-align: middle;\n",
              "    }\n",
              "\n",
              "    .dataframe tbody tr th {\n",
              "        vertical-align: top;\n",
              "    }\n",
              "\n",
              "    .dataframe thead th {\n",
              "        text-align: right;\n",
              "    }\n",
              "</style>\n",
              "<table border=\"1\" class=\"dataframe\">\n",
              "  <thead>\n",
              "    <tr style=\"text-align: right;\">\n",
              "      <th></th>\n",
              "      <th>model</th>\n",
              "      <th>F1_score</th>\n",
              "    </tr>\n",
              "  </thead>\n",
              "  <tbody>\n",
              "    <tr>\n",
              "      <th>0</th>\n",
              "      <td>Approach1_All_data_model</td>\n",
              "      <td>0.522292</td>\n",
              "    </tr>\n",
              "    <tr>\n",
              "      <th>1</th>\n",
              "      <td>Approach2_HC_WTF</td>\n",
              "      <td>0.462292</td>\n",
              "    </tr>\n",
              "    <tr>\n",
              "      <th>2</th>\n",
              "      <td>Approach2_HC_TF</td>\n",
              "      <td>0.409779</td>\n",
              "    </tr>\n",
              "    <tr>\n",
              "      <th>3</th>\n",
              "      <td>Approach2_AB_WTF</td>\n",
              "      <td>0.515599</td>\n",
              "    </tr>\n",
              "    <tr>\n",
              "      <th>4</th>\n",
              "      <td>Approach2_AB_TF</td>\n",
              "      <td>0.399301</td>\n",
              "    </tr>\n",
              "    <tr>\n",
              "      <th>5</th>\n",
              "      <td>Approach2_AT_WTF</td>\n",
              "      <td>0.530519</td>\n",
              "    </tr>\n",
              "    <tr>\n",
              "      <th>6</th>\n",
              "      <td>Approach2_AT_TF</td>\n",
              "      <td>0.550413</td>\n",
              "    </tr>\n",
              "    <tr>\n",
              "      <th>7</th>\n",
              "      <td>Approach2_CC_WTF</td>\n",
              "      <td>0.612404</td>\n",
              "    </tr>\n",
              "    <tr>\n",
              "      <th>8</th>\n",
              "      <td>Approach2_CC_TF</td>\n",
              "      <td>0.613156</td>\n",
              "    </tr>\n",
              "    <tr>\n",
              "      <th>9</th>\n",
              "      <td>Approach2_FM_WTF</td>\n",
              "      <td>0.425075</td>\n",
              "    </tr>\n",
              "    <tr>\n",
              "      <th>10</th>\n",
              "      <td>Approach2_FM_TF</td>\n",
              "      <td>0.542618</td>\n",
              "    </tr>\n",
              "  </tbody>\n",
              "</table>\n",
              "</div>"
            ],
            "text/plain": [
              "                       model  F1_score\n",
              "0   Approach1_All_data_model  0.522292\n",
              "1           Approach2_HC_WTF  0.462292\n",
              "2            Approach2_HC_TF  0.409779\n",
              "3           Approach2_AB_WTF  0.515599\n",
              "4            Approach2_AB_TF  0.399301\n",
              "5           Approach2_AT_WTF  0.530519\n",
              "6            Approach2_AT_TF  0.550413\n",
              "7           Approach2_CC_WTF  0.612404\n",
              "8            Approach2_CC_TF  0.613156\n",
              "9           Approach2_FM_WTF  0.425075\n",
              "10           Approach2_FM_TF  0.542618"
            ]
          },
          "metadata": {
            "tags": []
          },
          "execution_count": 264
        }
      ]
    }
  ]
}