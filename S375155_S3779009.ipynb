{
  "nbformat": 4,
  "nbformat_minor": 0,
  "metadata": {
    "colab": {
      "name": "Assignment2_DL__New.ipynb",
      "provenance": [],
      "collapsed_sections": [
        "kfY_1TQrqbp9",
        "xXlnOSPUrF18",
        "X9O7hrXxaMGO"
      ],
      "toc_visible": true
    },
    "kernelspec": {
      "name": "python3",
      "display_name": "Python 3"
    }
  },
  "cells": [
    {
      "cell_type": "markdown",
      "metadata": {
        "id": "N7UPIghEqvMi"
      },
      "source": [
        "# **Assignment 2: Stance Detection in Tweets using Deep Learning on SemEval 2 task 6 data.**"
      ]
    },
    {
      "cell_type": "markdown",
      "metadata": {
        "id": "kfY_1TQrqbp9"
      },
      "source": [
        "# Setting notebook and related packages and methods.\n",
        "\n",
        "\n",
        "\n"
      ]
    },
    {
      "cell_type": "markdown",
      "metadata": {
        "id": "ONRDMNP9xflY"
      },
      "source": [
        "First we mount the google drive so that we can access the data files from the system"
      ]
    },
    {
      "cell_type": "code",
      "metadata": {
        "id": "4etGXG5qBdFD",
        "outputId": "deee5f5c-02a2-4326-894b-5540a27ff38f",
        "colab": {
          "base_uri": "https://localhost:8080/",
          "height": 34
        }
      },
      "source": [
        "from google.colab import drive\n",
        "drive.mount('/content/drive', force_remount=True)"
      ],
      "execution_count": 72,
      "outputs": [
        {
          "output_type": "stream",
          "text": [
            "Mounted at /content/drive\n"
          ],
          "name": "stdout"
        }
      ]
    },
    {
      "cell_type": "code",
      "metadata": {
        "id": "bWHE3jlppGdq",
        "outputId": "7898fe25-3775-42a6-fc69-7a9b2095f530",
        "colab": {
          "base_uri": "https://localhost:8080/",
          "height": 392
        }
      },
      "source": [
        "!pip install -U spacy"
      ],
      "execution_count": 73,
      "outputs": [
        {
          "output_type": "stream",
          "text": [
            "Requirement already up-to-date: spacy in /usr/local/lib/python3.6/dist-packages (2.3.2)\n",
            "Requirement already satisfied, skipping upgrade: thinc==7.4.1 in /usr/local/lib/python3.6/dist-packages (from spacy) (7.4.1)\n",
            "Requirement already satisfied, skipping upgrade: cymem<2.1.0,>=2.0.2 in /usr/local/lib/python3.6/dist-packages (from spacy) (2.0.3)\n",
            "Requirement already satisfied, skipping upgrade: numpy>=1.15.0 in /usr/local/lib/python3.6/dist-packages (from spacy) (1.18.5)\n",
            "Requirement already satisfied, skipping upgrade: murmurhash<1.1.0,>=0.28.0 in /usr/local/lib/python3.6/dist-packages (from spacy) (1.0.2)\n",
            "Requirement already satisfied, skipping upgrade: catalogue<1.1.0,>=0.0.7 in /usr/local/lib/python3.6/dist-packages (from spacy) (1.0.0)\n",
            "Requirement already satisfied, skipping upgrade: requests<3.0.0,>=2.13.0 in /usr/local/lib/python3.6/dist-packages (from spacy) (2.23.0)\n",
            "Requirement already satisfied, skipping upgrade: setuptools in /usr/local/lib/python3.6/dist-packages (from spacy) (50.3.0)\n",
            "Requirement already satisfied, skipping upgrade: wasabi<1.1.0,>=0.4.0 in /usr/local/lib/python3.6/dist-packages (from spacy) (0.8.0)\n",
            "Requirement already satisfied, skipping upgrade: tqdm<5.0.0,>=4.38.0 in /usr/local/lib/python3.6/dist-packages (from spacy) (4.41.1)\n",
            "Requirement already satisfied, skipping upgrade: blis<0.5.0,>=0.4.0 in /usr/local/lib/python3.6/dist-packages (from spacy) (0.4.1)\n",
            "Requirement already satisfied, skipping upgrade: plac<1.2.0,>=0.9.6 in /usr/local/lib/python3.6/dist-packages (from spacy) (1.1.3)\n",
            "Requirement already satisfied, skipping upgrade: preshed<3.1.0,>=3.0.2 in /usr/local/lib/python3.6/dist-packages (from spacy) (3.0.2)\n",
            "Requirement already satisfied, skipping upgrade: srsly<1.1.0,>=1.0.2 in /usr/local/lib/python3.6/dist-packages (from spacy) (1.0.2)\n",
            "Requirement already satisfied, skipping upgrade: importlib-metadata>=0.20; python_version < \"3.8\" in /usr/local/lib/python3.6/dist-packages (from catalogue<1.1.0,>=0.0.7->spacy) (2.0.0)\n",
            "Requirement already satisfied, skipping upgrade: chardet<4,>=3.0.2 in /usr/local/lib/python3.6/dist-packages (from requests<3.0.0,>=2.13.0->spacy) (3.0.4)\n",
            "Requirement already satisfied, skipping upgrade: idna<3,>=2.5 in /usr/local/lib/python3.6/dist-packages (from requests<3.0.0,>=2.13.0->spacy) (2.10)\n",
            "Requirement already satisfied, skipping upgrade: certifi>=2017.4.17 in /usr/local/lib/python3.6/dist-packages (from requests<3.0.0,>=2.13.0->spacy) (2020.6.20)\n",
            "Requirement already satisfied, skipping upgrade: urllib3!=1.25.0,!=1.25.1,<1.26,>=1.21.1 in /usr/local/lib/python3.6/dist-packages (from requests<3.0.0,>=2.13.0->spacy) (1.24.3)\n",
            "Requirement already satisfied, skipping upgrade: zipp>=0.5 in /usr/local/lib/python3.6/dist-packages (from importlib-metadata>=0.20; python_version < \"3.8\"->catalogue<1.1.0,>=0.0.7->spacy) (3.2.0)\n"
          ],
          "name": "stdout"
        }
      ]
    },
    {
      "cell_type": "code",
      "metadata": {
        "id": "U2K98JlkpGTu",
        "outputId": "9dece2d8-262f-4aac-dbe8-9caa54f94613",
        "colab": {
          "base_uri": "https://localhost:8080/",
          "height": 52
        }
      },
      "source": [
        "! pip install -U spacy-Lookups-data"
      ],
      "execution_count": 74,
      "outputs": [
        {
          "output_type": "stream",
          "text": [
            "Requirement already up-to-date: spacy-Lookups-data in /usr/local/lib/python3.6/dist-packages (0.3.2)\n",
            "Requirement already satisfied, skipping upgrade: setuptools in /usr/local/lib/python3.6/dist-packages (from spacy-Lookups-data) (50.3.0)\n"
          ],
          "name": "stdout"
        }
      ]
    },
    {
      "cell_type": "code",
      "metadata": {
        "id": "FzAy-EW1pGFK",
        "outputId": "79b5eef9-276d-4329-a44c-d9cf0313e655",
        "colab": {
          "base_uri": "https://localhost:8080/",
          "height": 445
        }
      },
      "source": [
        "!python -m spacy download en_core_web_sm "
      ],
      "execution_count": 75,
      "outputs": [
        {
          "output_type": "stream",
          "text": [
            "Requirement already satisfied: en_core_web_sm==2.3.1 from https://github.com/explosion/spacy-models/releases/download/en_core_web_sm-2.3.1/en_core_web_sm-2.3.1.tar.gz#egg=en_core_web_sm==2.3.1 in /usr/local/lib/python3.6/dist-packages (2.3.1)\n",
            "Requirement already satisfied: spacy<2.4.0,>=2.3.0 in /usr/local/lib/python3.6/dist-packages (from en_core_web_sm==2.3.1) (2.3.2)\n",
            "Requirement already satisfied: tqdm<5.0.0,>=4.38.0 in /usr/local/lib/python3.6/dist-packages (from spacy<2.4.0,>=2.3.0->en_core_web_sm==2.3.1) (4.41.1)\n",
            "Requirement already satisfied: blis<0.5.0,>=0.4.0 in /usr/local/lib/python3.6/dist-packages (from spacy<2.4.0,>=2.3.0->en_core_web_sm==2.3.1) (0.4.1)\n",
            "Requirement already satisfied: thinc==7.4.1 in /usr/local/lib/python3.6/dist-packages (from spacy<2.4.0,>=2.3.0->en_core_web_sm==2.3.1) (7.4.1)\n",
            "Requirement already satisfied: srsly<1.1.0,>=1.0.2 in /usr/local/lib/python3.6/dist-packages (from spacy<2.4.0,>=2.3.0->en_core_web_sm==2.3.1) (1.0.2)\n",
            "Requirement already satisfied: murmurhash<1.1.0,>=0.28.0 in /usr/local/lib/python3.6/dist-packages (from spacy<2.4.0,>=2.3.0->en_core_web_sm==2.3.1) (1.0.2)\n",
            "Requirement already satisfied: requests<3.0.0,>=2.13.0 in /usr/local/lib/python3.6/dist-packages (from spacy<2.4.0,>=2.3.0->en_core_web_sm==2.3.1) (2.23.0)\n",
            "Requirement already satisfied: numpy>=1.15.0 in /usr/local/lib/python3.6/dist-packages (from spacy<2.4.0,>=2.3.0->en_core_web_sm==2.3.1) (1.18.5)\n",
            "Requirement already satisfied: plac<1.2.0,>=0.9.6 in /usr/local/lib/python3.6/dist-packages (from spacy<2.4.0,>=2.3.0->en_core_web_sm==2.3.1) (1.1.3)\n",
            "Requirement already satisfied: wasabi<1.1.0,>=0.4.0 in /usr/local/lib/python3.6/dist-packages (from spacy<2.4.0,>=2.3.0->en_core_web_sm==2.3.1) (0.8.0)\n",
            "Requirement already satisfied: preshed<3.1.0,>=3.0.2 in /usr/local/lib/python3.6/dist-packages (from spacy<2.4.0,>=2.3.0->en_core_web_sm==2.3.1) (3.0.2)\n",
            "Requirement already satisfied: setuptools in /usr/local/lib/python3.6/dist-packages (from spacy<2.4.0,>=2.3.0->en_core_web_sm==2.3.1) (50.3.0)\n",
            "Requirement already satisfied: catalogue<1.1.0,>=0.0.7 in /usr/local/lib/python3.6/dist-packages (from spacy<2.4.0,>=2.3.0->en_core_web_sm==2.3.1) (1.0.0)\n",
            "Requirement already satisfied: cymem<2.1.0,>=2.0.2 in /usr/local/lib/python3.6/dist-packages (from spacy<2.4.0,>=2.3.0->en_core_web_sm==2.3.1) (2.0.3)\n",
            "Requirement already satisfied: certifi>=2017.4.17 in /usr/local/lib/python3.6/dist-packages (from requests<3.0.0,>=2.13.0->spacy<2.4.0,>=2.3.0->en_core_web_sm==2.3.1) (2020.6.20)\n",
            "Requirement already satisfied: idna<3,>=2.5 in /usr/local/lib/python3.6/dist-packages (from requests<3.0.0,>=2.13.0->spacy<2.4.0,>=2.3.0->en_core_web_sm==2.3.1) (2.10)\n",
            "Requirement already satisfied: urllib3!=1.25.0,!=1.25.1,<1.26,>=1.21.1 in /usr/local/lib/python3.6/dist-packages (from requests<3.0.0,>=2.13.0->spacy<2.4.0,>=2.3.0->en_core_web_sm==2.3.1) (1.24.3)\n",
            "Requirement already satisfied: chardet<4,>=3.0.2 in /usr/local/lib/python3.6/dist-packages (from requests<3.0.0,>=2.13.0->spacy<2.4.0,>=2.3.0->en_core_web_sm==2.3.1) (3.0.4)\n",
            "Requirement already satisfied: importlib-metadata>=0.20; python_version < \"3.8\" in /usr/local/lib/python3.6/dist-packages (from catalogue<1.1.0,>=0.0.7->spacy<2.4.0,>=2.3.0->en_core_web_sm==2.3.1) (2.0.0)\n",
            "Requirement already satisfied: zipp>=0.5 in /usr/local/lib/python3.6/dist-packages (from importlib-metadata>=0.20; python_version < \"3.8\"->catalogue<1.1.0,>=0.0.7->spacy<2.4.0,>=2.3.0->en_core_web_sm==2.3.1) (3.2.0)\n",
            "\u001b[38;5;2m✔ Download and installation successful\u001b[0m\n",
            "You can now load the model via spacy.load('en_core_web_sm')\n"
          ],
          "name": "stdout"
        }
      ]
    },
    {
      "cell_type": "code",
      "metadata": {
        "id": "NPLZ3OoRpSVE",
        "outputId": "1922ae3c-03bb-4392-9abc-f4608b1abcd3",
        "colab": {
          "base_uri": "https://localhost:8080/",
          "height": 445
        }
      },
      "source": [
        "!python -m spacy download en_core_web_md"
      ],
      "execution_count": 76,
      "outputs": [
        {
          "output_type": "stream",
          "text": [
            "Requirement already satisfied: en_core_web_md==2.3.1 from https://github.com/explosion/spacy-models/releases/download/en_core_web_md-2.3.1/en_core_web_md-2.3.1.tar.gz#egg=en_core_web_md==2.3.1 in /usr/local/lib/python3.6/dist-packages (2.3.1)\n",
            "Requirement already satisfied: spacy<2.4.0,>=2.3.0 in /usr/local/lib/python3.6/dist-packages (from en_core_web_md==2.3.1) (2.3.2)\n",
            "Requirement already satisfied: numpy>=1.15.0 in /usr/local/lib/python3.6/dist-packages (from spacy<2.4.0,>=2.3.0->en_core_web_md==2.3.1) (1.18.5)\n",
            "Requirement already satisfied: srsly<1.1.0,>=1.0.2 in /usr/local/lib/python3.6/dist-packages (from spacy<2.4.0,>=2.3.0->en_core_web_md==2.3.1) (1.0.2)\n",
            "Requirement already satisfied: cymem<2.1.0,>=2.0.2 in /usr/local/lib/python3.6/dist-packages (from spacy<2.4.0,>=2.3.0->en_core_web_md==2.3.1) (2.0.3)\n",
            "Requirement already satisfied: murmurhash<1.1.0,>=0.28.0 in /usr/local/lib/python3.6/dist-packages (from spacy<2.4.0,>=2.3.0->en_core_web_md==2.3.1) (1.0.2)\n",
            "Requirement already satisfied: blis<0.5.0,>=0.4.0 in /usr/local/lib/python3.6/dist-packages (from spacy<2.4.0,>=2.3.0->en_core_web_md==2.3.1) (0.4.1)\n",
            "Requirement already satisfied: preshed<3.1.0,>=3.0.2 in /usr/local/lib/python3.6/dist-packages (from spacy<2.4.0,>=2.3.0->en_core_web_md==2.3.1) (3.0.2)\n",
            "Requirement already satisfied: wasabi<1.1.0,>=0.4.0 in /usr/local/lib/python3.6/dist-packages (from spacy<2.4.0,>=2.3.0->en_core_web_md==2.3.1) (0.8.0)\n",
            "Requirement already satisfied: tqdm<5.0.0,>=4.38.0 in /usr/local/lib/python3.6/dist-packages (from spacy<2.4.0,>=2.3.0->en_core_web_md==2.3.1) (4.41.1)\n",
            "Requirement already satisfied: setuptools in /usr/local/lib/python3.6/dist-packages (from spacy<2.4.0,>=2.3.0->en_core_web_md==2.3.1) (50.3.0)\n",
            "Requirement already satisfied: catalogue<1.1.0,>=0.0.7 in /usr/local/lib/python3.6/dist-packages (from spacy<2.4.0,>=2.3.0->en_core_web_md==2.3.1) (1.0.0)\n",
            "Requirement already satisfied: thinc==7.4.1 in /usr/local/lib/python3.6/dist-packages (from spacy<2.4.0,>=2.3.0->en_core_web_md==2.3.1) (7.4.1)\n",
            "Requirement already satisfied: plac<1.2.0,>=0.9.6 in /usr/local/lib/python3.6/dist-packages (from spacy<2.4.0,>=2.3.0->en_core_web_md==2.3.1) (1.1.3)\n",
            "Requirement already satisfied: requests<3.0.0,>=2.13.0 in /usr/local/lib/python3.6/dist-packages (from spacy<2.4.0,>=2.3.0->en_core_web_md==2.3.1) (2.23.0)\n",
            "Requirement already satisfied: importlib-metadata>=0.20; python_version < \"3.8\" in /usr/local/lib/python3.6/dist-packages (from catalogue<1.1.0,>=0.0.7->spacy<2.4.0,>=2.3.0->en_core_web_md==2.3.1) (2.0.0)\n",
            "Requirement already satisfied: chardet<4,>=3.0.2 in /usr/local/lib/python3.6/dist-packages (from requests<3.0.0,>=2.13.0->spacy<2.4.0,>=2.3.0->en_core_web_md==2.3.1) (3.0.4)\n",
            "Requirement already satisfied: urllib3!=1.25.0,!=1.25.1,<1.26,>=1.21.1 in /usr/local/lib/python3.6/dist-packages (from requests<3.0.0,>=2.13.0->spacy<2.4.0,>=2.3.0->en_core_web_md==2.3.1) (1.24.3)\n",
            "Requirement already satisfied: certifi>=2017.4.17 in /usr/local/lib/python3.6/dist-packages (from requests<3.0.0,>=2.13.0->spacy<2.4.0,>=2.3.0->en_core_web_md==2.3.1) (2020.6.20)\n",
            "Requirement already satisfied: idna<3,>=2.5 in /usr/local/lib/python3.6/dist-packages (from requests<3.0.0,>=2.13.0->spacy<2.4.0,>=2.3.0->en_core_web_md==2.3.1) (2.10)\n",
            "Requirement already satisfied: zipp>=0.5 in /usr/local/lib/python3.6/dist-packages (from importlib-metadata>=0.20; python_version < \"3.8\"->catalogue<1.1.0,>=0.0.7->spacy<2.4.0,>=2.3.0->en_core_web_md==2.3.1) (3.2.0)\n",
            "\u001b[38;5;2m✔ Download and installation successful\u001b[0m\n",
            "You can now load the model via spacy.load('en_core_web_md')\n"
          ],
          "name": "stdout"
        }
      ]
    },
    {
      "cell_type": "code",
      "metadata": {
        "id": "XZD-TBcbpSRZ",
        "outputId": "269e5618-c2ba-4b24-e9a9-591ee50b12f8",
        "colab": {
          "base_uri": "https://localhost:8080/",
          "height": 445
        }
      },
      "source": [
        "!python -m spacy download en_core_web_lg"
      ],
      "execution_count": 77,
      "outputs": [
        {
          "output_type": "stream",
          "text": [
            "Requirement already satisfied: en_core_web_lg==2.3.1 from https://github.com/explosion/spacy-models/releases/download/en_core_web_lg-2.3.1/en_core_web_lg-2.3.1.tar.gz#egg=en_core_web_lg==2.3.1 in /usr/local/lib/python3.6/dist-packages (2.3.1)\n",
            "Requirement already satisfied: spacy<2.4.0,>=2.3.0 in /usr/local/lib/python3.6/dist-packages (from en_core_web_lg==2.3.1) (2.3.2)\n",
            "Requirement already satisfied: requests<3.0.0,>=2.13.0 in /usr/local/lib/python3.6/dist-packages (from spacy<2.4.0,>=2.3.0->en_core_web_lg==2.3.1) (2.23.0)\n",
            "Requirement already satisfied: thinc==7.4.1 in /usr/local/lib/python3.6/dist-packages (from spacy<2.4.0,>=2.3.0->en_core_web_lg==2.3.1) (7.4.1)\n",
            "Requirement already satisfied: srsly<1.1.0,>=1.0.2 in /usr/local/lib/python3.6/dist-packages (from spacy<2.4.0,>=2.3.0->en_core_web_lg==2.3.1) (1.0.2)\n",
            "Requirement already satisfied: murmurhash<1.1.0,>=0.28.0 in /usr/local/lib/python3.6/dist-packages (from spacy<2.4.0,>=2.3.0->en_core_web_lg==2.3.1) (1.0.2)\n",
            "Requirement already satisfied: wasabi<1.1.0,>=0.4.0 in /usr/local/lib/python3.6/dist-packages (from spacy<2.4.0,>=2.3.0->en_core_web_lg==2.3.1) (0.8.0)\n",
            "Requirement already satisfied: setuptools in /usr/local/lib/python3.6/dist-packages (from spacy<2.4.0,>=2.3.0->en_core_web_lg==2.3.1) (50.3.0)\n",
            "Requirement already satisfied: plac<1.2.0,>=0.9.6 in /usr/local/lib/python3.6/dist-packages (from spacy<2.4.0,>=2.3.0->en_core_web_lg==2.3.1) (1.1.3)\n",
            "Requirement already satisfied: cymem<2.1.0,>=2.0.2 in /usr/local/lib/python3.6/dist-packages (from spacy<2.4.0,>=2.3.0->en_core_web_lg==2.3.1) (2.0.3)\n",
            "Requirement already satisfied: catalogue<1.1.0,>=0.0.7 in /usr/local/lib/python3.6/dist-packages (from spacy<2.4.0,>=2.3.0->en_core_web_lg==2.3.1) (1.0.0)\n",
            "Requirement already satisfied: numpy>=1.15.0 in /usr/local/lib/python3.6/dist-packages (from spacy<2.4.0,>=2.3.0->en_core_web_lg==2.3.1) (1.18.5)\n",
            "Requirement already satisfied: preshed<3.1.0,>=3.0.2 in /usr/local/lib/python3.6/dist-packages (from spacy<2.4.0,>=2.3.0->en_core_web_lg==2.3.1) (3.0.2)\n",
            "Requirement already satisfied: blis<0.5.0,>=0.4.0 in /usr/local/lib/python3.6/dist-packages (from spacy<2.4.0,>=2.3.0->en_core_web_lg==2.3.1) (0.4.1)\n",
            "Requirement already satisfied: tqdm<5.0.0,>=4.38.0 in /usr/local/lib/python3.6/dist-packages (from spacy<2.4.0,>=2.3.0->en_core_web_lg==2.3.1) (4.41.1)\n",
            "Requirement already satisfied: urllib3!=1.25.0,!=1.25.1,<1.26,>=1.21.1 in /usr/local/lib/python3.6/dist-packages (from requests<3.0.0,>=2.13.0->spacy<2.4.0,>=2.3.0->en_core_web_lg==2.3.1) (1.24.3)\n",
            "Requirement already satisfied: chardet<4,>=3.0.2 in /usr/local/lib/python3.6/dist-packages (from requests<3.0.0,>=2.13.0->spacy<2.4.0,>=2.3.0->en_core_web_lg==2.3.1) (3.0.4)\n",
            "Requirement already satisfied: idna<3,>=2.5 in /usr/local/lib/python3.6/dist-packages (from requests<3.0.0,>=2.13.0->spacy<2.4.0,>=2.3.0->en_core_web_lg==2.3.1) (2.10)\n",
            "Requirement already satisfied: certifi>=2017.4.17 in /usr/local/lib/python3.6/dist-packages (from requests<3.0.0,>=2.13.0->spacy<2.4.0,>=2.3.0->en_core_web_lg==2.3.1) (2020.6.20)\n",
            "Requirement already satisfied: importlib-metadata>=0.20; python_version < \"3.8\" in /usr/local/lib/python3.6/dist-packages (from catalogue<1.1.0,>=0.0.7->spacy<2.4.0,>=2.3.0->en_core_web_lg==2.3.1) (2.0.0)\n",
            "Requirement already satisfied: zipp>=0.5 in /usr/local/lib/python3.6/dist-packages (from importlib-metadata>=0.20; python_version < \"3.8\"->catalogue<1.1.0,>=0.0.7->spacy<2.4.0,>=2.3.0->en_core_web_lg==2.3.1) (3.2.0)\n",
            "\u001b[38;5;2m✔ Download and installation successful\u001b[0m\n",
            "You can now load the model via spacy.load('en_core_web_lg')\n"
          ],
          "name": "stdout"
        }
      ]
    },
    {
      "cell_type": "markdown",
      "metadata": {
        "id": "g56Mcbq6xo30"
      },
      "source": [
        "The next step is to do some preliminary steps like importing related packages and setting up tensorboard and plotter function ."
      ]
    },
    {
      "cell_type": "code",
      "metadata": {
        "id": "wAGBdLqcCCK8",
        "outputId": "ccf0e93e-c0f4-404c-aefc-f11019ba639b",
        "colab": {
          "base_uri": "https://localhost:8080/",
          "height": 87
        }
      },
      "source": [
        "# Importing Related Packages\n",
        "\n",
        "import pandas as pd\n",
        "import numpy as np\n",
        "import matplotlib.pyplot as plt\n",
        "import tensorflow as tf\n",
        "AUTOTUNE = tf.data.experimental.AUTOTUNE\n",
        "import nltk\n",
        "from nltk.tokenize import word_tokenize\n",
        "from nltk.corpus import stopwords\n",
        "from nltk.corpus import stopwords\n",
        "from nltk.tokenize import word_tokenize, TweetTokenizer\n",
        "nltk.download('stopwords')\n",
        "nltk.download('punkt')\n",
        "import string\n",
        "\n",
        "import re\n",
        "from tensorflow.keras.layers import Embedding\n",
        "from tensorflow.keras.preprocessing.sequence import pad_sequences\n",
        "from tensorflow.keras.models import Sequential\n",
        "from tensorflow.keras.preprocessing.text import one_hot\n",
        "from tensorflow.keras.layers import LSTM\n",
        "from tensorflow.keras.layers import Dense\n",
        "import spacy \n",
        "from spacy.lang.en.stop_words import STOP_WORDS\n",
        "\n",
        "\n",
        "import pathlib\n",
        "import shutil\n",
        "import tempfile\n",
        "from  IPython import display\n",
        "\n",
        "\n",
        "result_df = pd.DataFrame(columns = ['model', 'F1_score'])"
      ],
      "execution_count": 265,
      "outputs": [
        {
          "output_type": "stream",
          "text": [
            "[nltk_data] Downloading package stopwords to /root/nltk_data...\n",
            "[nltk_data]   Package stopwords is already up-to-date!\n",
            "[nltk_data] Downloading package punkt to /root/nltk_data...\n",
            "[nltk_data]   Package punkt is already up-to-date!\n"
          ],
          "name": "stdout"
        }
      ]
    },
    {
      "cell_type": "code",
      "metadata": {
        "id": "939jFOCeCCCj"
      },
      "source": [
        "# Loading Tensorboard\n",
        "logdir = pathlib.Path(tempfile.mkdtemp())/\"tensorboard_logs\"\n",
        "shutil.rmtree(logdir, ignore_errors=True)\n",
        "\n",
        "# Load the TensorBoard notebook extension\n",
        "%load_ext tensorboard\n",
        "\n",
        "# Open an embedded TensorBoard viewer\n",
        "%tensorboard --logdir {logdir}/models"
      ],
      "execution_count": null,
      "outputs": []
    },
    {
      "cell_type": "code",
      "metadata": {
        "id": "4k5AbgNRCB-Y"
      },
      "source": [
        "# Plotter Function to plot performance of models\n",
        "\n",
        "from itertools import cycle\n",
        "def plotter(history_hold, metric = 'binary_crossentropy', ylim=[0.0, 1.0]):\n",
        "  cycol = cycle('bgrcmk')\n",
        "  for name, item in history_hold.items():\n",
        "    y_train = item.history[metric]\n",
        "    y_val = item.history['val_' + metric]\n",
        "    x_train = np.arange(0,len(y_val))\n",
        "\n",
        "    c=next(cycol)\n",
        "\n",
        "    plt.plot(x_train, y_train, c+'-', label=name+'_train')\n",
        "    plt.plot(x_train, y_val, c+'--', label=name+'_val')\n",
        "\n",
        "  plt.legend()\n",
        "  plt.xlim([1, max(plt.xlim())])\n",
        "  plt.ylim(ylim)\n",
        "  plt.xlabel('Epoch')\n",
        "  plt.ylabel(metric)\n",
        "  plt.grid(True)"
      ],
      "execution_count": 80,
      "outputs": []
    },
    {
      "cell_type": "markdown",
      "metadata": {
        "id": "xXlnOSPUrF18"
      },
      "source": [
        "# Reading data and exploring related features\n"
      ]
    },
    {
      "cell_type": "markdown",
      "metadata": {
        "id": "vVp8CiXxyfcR"
      },
      "source": [
        "We use simple read_csv function to read the training as well as test data into dataframes.\n",
        "We can see from the below output that, train data has 2914 values of 5 different features while test data has 1956 values of 5 features."
      ]
    },
    {
      "cell_type": "code",
      "metadata": {
        "id": "A4RM46CxCoSJ",
        "outputId": "9b34c38e-43cc-405d-e7b0-a9d65e6f2d14",
        "colab": {
          "base_uri": "https://localhost:8080/",
          "height": 0
        }
      },
      "source": [
        "# Reading Training and Test datasets\n",
        "train_data = \"/content/drive/My Drive/ColabNotebooks/DeepLearningLabs/Assignment2/StanceDataset/train.csv\"\n",
        "test_data = \"/content/drive/My Drive/ColabNotebooks/DeepLearningLabs/Assignment2/StanceDataset/test.csv\"\n",
        "#train_data = \"/content/drive/My Drive/Colab Notebooks/TweetsDataset/train.csv\"\n",
        "#test_data = \"/content/drive/My Drive/Colab Notebooks/TweetsDataset/test.csv\"\n",
        "\n",
        "traindata = pd.read_csv(train_data, engine='python')\n",
        "testdata = pd.read_csv(test_data, engine='python')\n",
        "print(traindata.shape)\n",
        "print(testdata.shape)"
      ],
      "execution_count": 81,
      "outputs": [
        {
          "output_type": "stream",
          "text": [
            "(2914, 5)\n",
            "(1956, 5)\n"
          ],
          "name": "stdout"
        }
      ]
    },
    {
      "cell_type": "markdown",
      "metadata": {
        "id": "o8jTXRWvy6nr"
      },
      "source": [
        "The features of the dataset are : Tweet, Target, Stance, Opinion_towards and Sentiment. Out of which our main aim is to predict the Stance of a tweet if Tweet and Target is provided. So for our experiment, we dont need fetures like Opinion_towards and Sentiment."
      ]
    },
    {
      "cell_type": "code",
      "metadata": {
        "id": "j9ZArRuxrYkx",
        "outputId": "7733e4a4-a0c1-48af-8fbb-0fc6e61e100b",
        "colab": {
          "base_uri": "https://localhost:8080/",
          "height": 0
        }
      },
      "source": [
        "traindata.info()"
      ],
      "execution_count": 82,
      "outputs": [
        {
          "output_type": "stream",
          "text": [
            "<class 'pandas.core.frame.DataFrame'>\n",
            "RangeIndex: 2914 entries, 0 to 2913\n",
            "Data columns (total 5 columns):\n",
            " #   Column           Non-Null Count  Dtype \n",
            "---  ------           --------------  ----- \n",
            " 0   Tweet            2914 non-null   object\n",
            " 1   Target           2914 non-null   object\n",
            " 2   Stance           2914 non-null   object\n",
            " 3   Opinion Towards  2914 non-null   object\n",
            " 4   Sentiment        2914 non-null   object\n",
            "dtypes: object(5)\n",
            "memory usage: 114.0+ KB\n"
          ],
          "name": "stdout"
        }
      ]
    },
    {
      "cell_type": "code",
      "metadata": {
        "id": "GmlOzvB_uvps",
        "outputId": "0309a8f4-df2d-4813-83f8-9931485d8a31",
        "colab": {
          "base_uri": "https://localhost:8080/",
          "height": 0
        }
      },
      "source": [
        "testdata.info()"
      ],
      "execution_count": 83,
      "outputs": [
        {
          "output_type": "stream",
          "text": [
            "<class 'pandas.core.frame.DataFrame'>\n",
            "RangeIndex: 1956 entries, 0 to 1955\n",
            "Data columns (total 5 columns):\n",
            " #   Column           Non-Null Count  Dtype \n",
            "---  ------           --------------  ----- \n",
            " 0   Tweet            1956 non-null   object\n",
            " 1   Target           1956 non-null   object\n",
            " 2   Stance           1956 non-null   object\n",
            " 3   Opinion Towards  1956 non-null   object\n",
            " 4   Sentiment        1956 non-null   object\n",
            "dtypes: object(5)\n",
            "memory usage: 76.5+ KB\n"
          ],
          "name": "stdout"
        }
      ]
    },
    {
      "cell_type": "markdown",
      "metadata": {
        "id": "QtPBm7yWzYsR"
      },
      "source": [
        "We can see from the below code output that, traindata consists of tweets related to 5 different Target values namely,\n",
        "\n",
        "1.   Hillary Clinton\n",
        "2.   Feminist Movement\n",
        "3.   Legalization of abortion\n",
        "4.   Atheism\n",
        "5.   Climate Change is a Real Concern\n",
        "\n",
        "And the tweets are classified into 3 Stance values namely,\n",
        "\n",
        "1.   tweets that FAVOR the target value\n",
        "2.   Tweets which are AGAINST the target value\n",
        "3.   Tweets which are neither in FAVOR nor AGAINST (i.e. NONE)\n",
        "\n",
        "We can see the number tweets for each target value as well as number of tweets of eah Stance values described below."
      ]
    },
    {
      "cell_type": "code",
      "metadata": {
        "id": "HJY2bxGvCn-J",
        "outputId": "0058ca28-42ab-4a77-ab73-6c24bac0a124",
        "colab": {
          "base_uri": "https://localhost:8080/",
          "height": 0
        }
      },
      "source": [
        "# We have to classify the stance of tweets according to the tweet statements as well as the target of the tweet.\n",
        "\n",
        "print(traindata['Target'].value_counts())\n",
        "print(\"----------------------------------------------------------\")\n",
        "print(traindata['Stance'].value_counts())"
      ],
      "execution_count": 84,
      "outputs": [
        {
          "output_type": "stream",
          "text": [
            "Hillary Clinton                     689\n",
            "Feminist Movement                   664\n",
            "Legalization of Abortion            653\n",
            "Atheism                             513\n",
            "Climate Change is a Real Concern    395\n",
            "Name: Target, dtype: int64\n",
            "----------------------------------------------------------\n",
            "AGAINST    1395\n",
            "NONE        766\n",
            "FAVOR       753\n",
            "Name: Stance, dtype: int64\n"
          ],
          "name": "stdout"
        }
      ]
    },
    {
      "cell_type": "code",
      "metadata": {
        "id": "j5ZTvy53u0C2",
        "outputId": "8350e5bf-8602-4dd0-a1ed-958edd0161d6",
        "colab": {
          "base_uri": "https://localhost:8080/",
          "height": 0
        }
      },
      "source": [
        "testdata = testdata[testdata['Target'] != \"Donald Trump\"]\n",
        "print(testdata['Target'].value_counts())\n",
        "print(\"----------------------------------------------------------\")\n",
        "print(testdata['Stance'].value_counts())"
      ],
      "execution_count": 85,
      "outputs": [
        {
          "output_type": "stream",
          "text": [
            "Hillary Clinton                     295\n",
            "Feminist Movement                   285\n",
            "Legalization of Abortion            280\n",
            "Atheism                             220\n",
            "Climate Change is a Real Concern    169\n",
            "Name: Target, dtype: int64\n",
            "----------------------------------------------------------\n",
            "AGAINST    715\n",
            "FAVOR      304\n",
            "NONE       230\n",
            "Name: Stance, dtype: int64\n"
          ],
          "name": "stdout"
        }
      ]
    },
    {
      "cell_type": "markdown",
      "metadata": {
        "id": "MQUutoH90mWR"
      },
      "source": [
        "As a next task we try to explore the distribution of tweets as per their Stance values for each target values."
      ]
    },
    {
      "cell_type": "code",
      "metadata": {
        "id": "XjsnLnseCn6s",
        "outputId": "38f3a617-1325-49ae-ba7c-0f857f43f1a4",
        "colab": {
          "base_uri": "https://localhost:8080/",
          "height": 0
        }
      },
      "source": [
        "# The next exploration is to check the distribution of tweets of different stance values across each target.\n",
        "traindata.groupby(['Target'])['Stance'].value_counts()"
      ],
      "execution_count": 86,
      "outputs": [
        {
          "output_type": "execute_result",
          "data": {
            "text/plain": [
              "Target                            Stance \n",
              "Atheism                           AGAINST    304\n",
              "                                  NONE       117\n",
              "                                  FAVOR       92\n",
              "Climate Change is a Real Concern  FAVOR      212\n",
              "                                  NONE       168\n",
              "                                  AGAINST     15\n",
              "Feminist Movement                 AGAINST    328\n",
              "                                  FAVOR      210\n",
              "                                  NONE       126\n",
              "Hillary Clinton                   AGAINST    393\n",
              "                                  NONE       178\n",
              "                                  FAVOR      118\n",
              "Legalization of Abortion          AGAINST    355\n",
              "                                  NONE       177\n",
              "                                  FAVOR      121\n",
              "Name: Stance, dtype: int64"
            ]
          },
          "metadata": {
            "tags": []
          },
          "execution_count": 86
        }
      ]
    },
    {
      "cell_type": "markdown",
      "metadata": {
        "id": "VbjzHf9k09i9"
      },
      "source": [
        "From the above result, we can see that the number of tweets are not evenly distributed amongst each target values. For example, There are in total 1395 tweets which are of Stance AGAINST while only  753 tweets are in FAVOR with their target value.\n",
        "\n",
        "Furthermore, we can see that, in each target value, Tweets are not distributed evenly. For example, there are 393 tweets which are in AGAINST with target 'Hillary Clinton' while there are only 15 tweets which are in AGAINST of 'Climate Change is a Real Concern'.\n",
        "\n",
        "For futher better understanding we try to plot some exploration visualisations of the tweet distribution among each target class."
      ]
    },
    {
      "cell_type": "code",
      "metadata": {
        "id": "hy6FdX2-y34o",
        "outputId": "51697578-ef4c-4509-8172-f2cd281eaedf",
        "colab": {
          "base_uri": "https://localhost:8080/",
          "height": 0
        }
      },
      "source": [
        "# Lets try to plot a graph of the above distribution to check whether there is a class imbalance issue in the dataset\n",
        "\n",
        "Target = traindata['Target'].unique().tolist()\n",
        "df = pd.DataFrame(columns=['Target', 'FAVOR', 'AGAINST', 'NONE'])\n",
        "for target in Target:\n",
        "  data = traindata[traindata['Target']==target]\n",
        "  #print(data[data['Stance']=='FAVOR'].shape[0])\n",
        "  df = df.append({'Target': target, 'FAVOR': data[data['Stance']=='FAVOR'].shape[0], 'AGAINST': data[data['Stance']=='AGAINST'].shape[0], 'NONE': data[data['Stance']=='NONE'].shape[0]}, ignore_index= True)\n",
        "df"
      ],
      "execution_count": 87,
      "outputs": [
        {
          "output_type": "execute_result",
          "data": {
            "text/html": [
              "<div>\n",
              "<style scoped>\n",
              "    .dataframe tbody tr th:only-of-type {\n",
              "        vertical-align: middle;\n",
              "    }\n",
              "\n",
              "    .dataframe tbody tr th {\n",
              "        vertical-align: top;\n",
              "    }\n",
              "\n",
              "    .dataframe thead th {\n",
              "        text-align: right;\n",
              "    }\n",
              "</style>\n",
              "<table border=\"1\" class=\"dataframe\">\n",
              "  <thead>\n",
              "    <tr style=\"text-align: right;\">\n",
              "      <th></th>\n",
              "      <th>Target</th>\n",
              "      <th>FAVOR</th>\n",
              "      <th>AGAINST</th>\n",
              "      <th>NONE</th>\n",
              "    </tr>\n",
              "  </thead>\n",
              "  <tbody>\n",
              "    <tr>\n",
              "      <th>0</th>\n",
              "      <td>Hillary Clinton</td>\n",
              "      <td>118</td>\n",
              "      <td>393</td>\n",
              "      <td>178</td>\n",
              "    </tr>\n",
              "    <tr>\n",
              "      <th>1</th>\n",
              "      <td>Legalization of Abortion</td>\n",
              "      <td>121</td>\n",
              "      <td>355</td>\n",
              "      <td>177</td>\n",
              "    </tr>\n",
              "    <tr>\n",
              "      <th>2</th>\n",
              "      <td>Atheism</td>\n",
              "      <td>92</td>\n",
              "      <td>304</td>\n",
              "      <td>117</td>\n",
              "    </tr>\n",
              "    <tr>\n",
              "      <th>3</th>\n",
              "      <td>Climate Change is a Real Concern</td>\n",
              "      <td>212</td>\n",
              "      <td>15</td>\n",
              "      <td>168</td>\n",
              "    </tr>\n",
              "    <tr>\n",
              "      <th>4</th>\n",
              "      <td>Feminist Movement</td>\n",
              "      <td>210</td>\n",
              "      <td>328</td>\n",
              "      <td>126</td>\n",
              "    </tr>\n",
              "  </tbody>\n",
              "</table>\n",
              "</div>"
            ],
            "text/plain": [
              "                             Target FAVOR AGAINST NONE\n",
              "0                   Hillary Clinton   118     393  178\n",
              "1          Legalization of Abortion   121     355  177\n",
              "2                           Atheism    92     304  117\n",
              "3  Climate Change is a Real Concern   212      15  168\n",
              "4                 Feminist Movement   210     328  126"
            ]
          },
          "metadata": {
            "tags": []
          },
          "execution_count": 87
        }
      ]
    },
    {
      "cell_type": "code",
      "metadata": {
        "id": "G3eHwwwP_82t",
        "outputId": "3559583c-c225-4954-d00f-15089be760f6",
        "colab": {
          "base_uri": "https://localhost:8080/",
          "height": 0
        }
      },
      "source": [
        "# Grouped bar graph for stance values of each target value.\n",
        "pos = list(range(len(df['FAVOR']))) \n",
        "width = 0.25 \n",
        "fig, ax = plt.subplots(figsize=(20,10))\n",
        "plt.bar(pos, df['FAVOR'], width, alpha=0.5, color='#FF8000', label=df['Target'][0]) \n",
        "plt.bar([p + width for p in pos], df['AGAINST'], width, alpha=0.5, color='#0080FF', label=df['Target'][1]) \n",
        "plt.bar([p + width*2 for p in pos], df['NONE'], width, alpha=0.5, color='#66FF66', label=df['Target'][2]) \n",
        "ax.set_ylabel('Count')\n",
        "ax.set_title('Count of tweets')\n",
        "ax.set_xticks([p + 1.5 * width for p in pos])\n",
        "ax.set_xticklabels(df['Target'])\n",
        "plt.xlim(min(pos)-width, max(pos)+width*4)\n",
        "plt.ylim([0, max(df['FAVOR'] + df['AGAINST'] + df['NONE'])] )\n",
        "plt.legend(['FAVOR', 'AGAINST', 'NONE'], loc='upper right')\n",
        "plt.grid()\n",
        "plt.show()"
      ],
      "execution_count": 88,
      "outputs": [
        {
          "output_type": "display_data",
          "data": {
            "image/png": "[encoded data removed]",
            "text/plain": [
              "<Figure size 1440x720 with 1 Axes>"
            ]
          },
          "metadata": {
            "tags": [],
            "needs_background": "light"
          }
        }
      ]
    },
    {
      "cell_type": "markdown",
      "metadata": {
        "id": "UoSqqoTashRa"
      },
      "source": [
        "We can see from the above exploration that there is a large difference between number of tweets of each target value. We can also find out that there is a class imbalance problem present in the data as number of tweets have large difference between each stance for each target. For example, for target value \"Climate Change is a Real Concern\", there are only 15 tweets with Stance \"AGAINST\" it.\n",
        "\n",
        "\n",
        "So below we are using two different appraches to tackle this problem. In the first approach we are considering the whole dataset as an input to a single model and try to build a deep model to train this data. In the second approach we divide the dataset according to the target values and then try to build a model for each target value to predict its stance so there are 5 different models for 5 different target values.\n"
      ]
    },
    {
      "cell_type": "markdown",
      "metadata": {
        "id": "X9O7hrXxaMGO"
      },
      "source": [
        "# Approach 1 : Building a model which takes whole data as a input."
      ]
    },
    {
      "cell_type": "markdown",
      "metadata": {
        "id": "7fniHrrVx5wp"
      },
      "source": [
        "The main task is to predict the Stance of a particular tweet based on the tweet content and the target it is mentioned for. \n",
        "\n",
        "So for classification purpose we concatenate the tweet statement with its corresponding target value and store it as a complete tweet.\n"
      ]
    },
    {
      "cell_type": "code",
      "metadata": {
        "id": "9D95ZRbdanCp",
        "outputId": "880e2e9e-a31b-4baf-9246-41f735865bce",
        "colab": {
          "base_uri": "https://localhost:8080/",
          "height": 141
        }
      },
      "source": [
        "# as we have to use only tweet sentences and Target as an input for detecting the Stance, we concatenate this features into a single feature \n",
        "train_data = traindata[['Tweet','Stance','Target']]\n",
        "train_data[\"Tweet\"] = train_data[\"Tweet\"] + \" \" + train_data[\"Target\"]\n",
        "train_data.shape"
      ],
      "execution_count": 213,
      "outputs": [
        {
          "output_type": "stream",
          "text": [
            "/usr/local/lib/python3.6/dist-packages/ipykernel_launcher.py:3: SettingWithCopyWarning: \n",
            "A value is trying to be set on a copy of a slice from a DataFrame.\n",
            "Try using .loc[row_indexer,col_indexer] = value instead\n",
            "\n",
            "See the caveats in the documentation: https://pandas.pydata.org/pandas-docs/stable/user_guide/indexing.html#returning-a-view-versus-a-copy\n",
            "  This is separate from the ipykernel package so we can avoid doing imports until\n"
          ],
          "name": "stderr"
        },
        {
          "output_type": "execute_result",
          "data": {
            "text/plain": [
              "(2914, 3)"
            ]
          },
          "metadata": {
            "tags": []
          },
          "execution_count": 213
        }
      ]
    },
    {
      "cell_type": "markdown",
      "metadata": {
        "id": "hpJ9ffx6RXe9"
      },
      "source": [
        "***Data Exploration***\n",
        "\n",
        "For futher deep understanding of tweet data we tried some exploration in tweets before preprocessing it. We get a better idea of which kind of preprocessing steps we need to do from it.\n",
        "\n",
        "---\n",
        "\n"
      ]
    },
    {
      "cell_type": "markdown",
      "metadata": {
        "id": "L4b9S5nyyxSh"
      },
      "source": [
        "As a first exploration step, we need to explore the number of words and characters in tweet statements."
      ]
    },
    {
      "cell_type": "code",
      "metadata": {
        "id": "A9pgoOiManJo",
        "outputId": "c0133b20-6ad0-4e03-e13f-c1db91fd87a6",
        "colab": {
          "base_uri": "https://localhost:8080/",
          "height": 304
        }
      },
      "source": [
        "# Some more exloration about the tweets which may helps in preprocessing\n",
        "\n",
        "# Word count in the Tweet column \n",
        "\n",
        "train_data['Word_Count'] = train_data['Tweet'].apply(lambda x: len(str(x).split()))\n",
        "\n",
        "\n",
        "## Character Counts in Tweet column\n",
        "\n",
        "train_data['Character_Count'] = train_data['Tweet'].apply(lambda x: len(x))\n",
        "\n",
        "\n",
        "train_data.head()"
      ],
      "execution_count": 214,
      "outputs": [
        {
          "output_type": "stream",
          "text": [
            "/usr/local/lib/python3.6/dist-packages/ipykernel_launcher.py:5: SettingWithCopyWarning: \n",
            "A value is trying to be set on a copy of a slice from a DataFrame.\n",
            "Try using .loc[row_indexer,col_indexer] = value instead\n",
            "\n",
            "See the caveats in the documentation: https://pandas.pydata.org/pandas-docs/stable/user_guide/indexing.html#returning-a-view-versus-a-copy\n",
            "  \"\"\"\n"
          ],
          "name": "stderr"
        },
        {
          "output_type": "execute_result",
          "data": {
            "text/html": [
              "<div>\n",
              "<style scoped>\n",
              "    .dataframe tbody tr th:only-of-type {\n",
              "        vertical-align: middle;\n",
              "    }\n",
              "\n",
              "    .dataframe tbody tr th {\n",
              "        vertical-align: top;\n",
              "    }\n",
              "\n",
              "    .dataframe thead th {\n",
              "        text-align: right;\n",
              "    }\n",
              "</style>\n",
              "<table border=\"1\" class=\"dataframe\">\n",
              "  <thead>\n",
              "    <tr style=\"text-align: right;\">\n",
              "      <th></th>\n",
              "      <th>Tweet</th>\n",
              "      <th>Stance</th>\n",
              "      <th>Target</th>\n",
              "      <th>Word_Count</th>\n",
              "      <th>Character_Count</th>\n",
              "    </tr>\n",
              "  </thead>\n",
              "  <tbody>\n",
              "    <tr>\n",
              "      <th>0</th>\n",
              "      <td>@tedcruz And, #HandOverTheServer she wiped cle...</td>\n",
              "      <td>AGAINST</td>\n",
              "      <td>Hillary Clinton</td>\n",
              "      <td>19</td>\n",
              "      <td>143</td>\n",
              "    </tr>\n",
              "    <tr>\n",
              "      <th>1</th>\n",
              "      <td>Hillary is our best choice if we truly want to...</td>\n",
              "      <td>FAVOR</td>\n",
              "      <td>Hillary Clinton</td>\n",
              "      <td>18</td>\n",
              "      <td>105</td>\n",
              "    </tr>\n",
              "    <tr>\n",
              "      <th>2</th>\n",
              "      <td>@TheView I think our country is ready for a fe...</td>\n",
              "      <td>AGAINST</td>\n",
              "      <td>Hillary Clinton</td>\n",
              "      <td>18</td>\n",
              "      <td>97</td>\n",
              "    </tr>\n",
              "    <tr>\n",
              "      <th>3</th>\n",
              "      <td>I just gave an unhealthy amount of my hard-ear...</td>\n",
              "      <td>AGAINST</td>\n",
              "      <td>Hillary Clinton</td>\n",
              "      <td>21</td>\n",
              "      <td>140</td>\n",
              "    </tr>\n",
              "    <tr>\n",
              "      <th>4</th>\n",
              "      <td>@PortiaABoulger Thank you for adding me to you...</td>\n",
              "      <td>NONE</td>\n",
              "      <td>Hillary Clinton</td>\n",
              "      <td>11</td>\n",
              "      <td>68</td>\n",
              "    </tr>\n",
              "  </tbody>\n",
              "</table>\n",
              "</div>"
            ],
            "text/plain": [
              "                                               Tweet  ... Character_Count\n",
              "0  @tedcruz And, #HandOverTheServer she wiped cle...  ...             143\n",
              "1  Hillary is our best choice if we truly want to...  ...             105\n",
              "2  @TheView I think our country is ready for a fe...  ...              97\n",
              "3  I just gave an unhealthy amount of my hard-ear...  ...             140\n",
              "4  @PortiaABoulger Thank you for adding me to you...  ...              68\n",
              "\n",
              "[5 rows x 5 columns]"
            ]
          },
          "metadata": {
            "tags": []
          },
          "execution_count": 214
        }
      ]
    },
    {
      "cell_type": "markdown",
      "metadata": {
        "id": "_g951fDh2O4W"
      },
      "source": [
        "In the next step of exploration we checked the number of stop words in the sentence as well as the average word length of the tweet."
      ]
    },
    {
      "cell_type": "code",
      "metadata": {
        "id": "WbOP51w3anhD",
        "outputId": "fb485d51-b8a3-44ce-de5a-147c7b044480",
        "colab": {
          "base_uri": "https://localhost:8080/",
          "height": 197
        }
      },
      "source": [
        "# Calculating the average word length [calculated using formula =  (Character_Count/Word_Count)]\n",
        "\n",
        "train_data['Average_Word_length'] = train_data['Character_Count']/train_data['Word_Count']\n",
        "\n",
        "# Counting the stop words\n",
        "\n",
        "train_data['Stop_words_count'] = train_data['Tweet'].apply(lambda x: len([t for t in x.split() if t in STOP_WORDS]))\n",
        "\n",
        "train_data.head()"
      ],
      "execution_count": 215,
      "outputs": [
        {
          "output_type": "execute_result",
          "data": {
            "text/html": [
              "<div>\n",
              "<style scoped>\n",
              "    .dataframe tbody tr th:only-of-type {\n",
              "        vertical-align: middle;\n",
              "    }\n",
              "\n",
              "    .dataframe tbody tr th {\n",
              "        vertical-align: top;\n",
              "    }\n",
              "\n",
              "    .dataframe thead th {\n",
              "        text-align: right;\n",
              "    }\n",
              "</style>\n",
              "<table border=\"1\" class=\"dataframe\">\n",
              "  <thead>\n",
              "    <tr style=\"text-align: right;\">\n",
              "      <th></th>\n",
              "      <th>Tweet</th>\n",
              "      <th>Stance</th>\n",
              "      <th>Target</th>\n",
              "      <th>Word_Count</th>\n",
              "      <th>Character_Count</th>\n",
              "      <th>Average_Word_length</th>\n",
              "      <th>Stop_words_count</th>\n",
              "    </tr>\n",
              "  </thead>\n",
              "  <tbody>\n",
              "    <tr>\n",
              "      <th>0</th>\n",
              "      <td>@tedcruz And, #HandOverTheServer she wiped cle...</td>\n",
              "      <td>AGAINST</td>\n",
              "      <td>Hillary Clinton</td>\n",
              "      <td>19</td>\n",
              "      <td>143</td>\n",
              "      <td>7.526316</td>\n",
              "      <td>3</td>\n",
              "    </tr>\n",
              "    <tr>\n",
              "      <th>1</th>\n",
              "      <td>Hillary is our best choice if we truly want to...</td>\n",
              "      <td>FAVOR</td>\n",
              "      <td>Hillary Clinton</td>\n",
              "      <td>18</td>\n",
              "      <td>105</td>\n",
              "      <td>5.833333</td>\n",
              "      <td>7</td>\n",
              "    </tr>\n",
              "    <tr>\n",
              "      <th>2</th>\n",
              "      <td>@TheView I think our country is ready for a fe...</td>\n",
              "      <td>AGAINST</td>\n",
              "      <td>Hillary Clinton</td>\n",
              "      <td>18</td>\n",
              "      <td>97</td>\n",
              "      <td>5.388889</td>\n",
              "      <td>7</td>\n",
              "    </tr>\n",
              "    <tr>\n",
              "      <th>3</th>\n",
              "      <td>I just gave an unhealthy amount of my hard-ear...</td>\n",
              "      <td>AGAINST</td>\n",
              "      <td>Hillary Clinton</td>\n",
              "      <td>21</td>\n",
              "      <td>140</td>\n",
              "      <td>6.666667</td>\n",
              "      <td>7</td>\n",
              "    </tr>\n",
              "    <tr>\n",
              "      <th>4</th>\n",
              "      <td>@PortiaABoulger Thank you for adding me to you...</td>\n",
              "      <td>NONE</td>\n",
              "      <td>Hillary Clinton</td>\n",
              "      <td>11</td>\n",
              "      <td>68</td>\n",
              "      <td>6.181818</td>\n",
              "      <td>5</td>\n",
              "    </tr>\n",
              "  </tbody>\n",
              "</table>\n",
              "</div>"
            ],
            "text/plain": [
              "                                               Tweet  ... Stop_words_count\n",
              "0  @tedcruz And, #HandOverTheServer she wiped cle...  ...                3\n",
              "1  Hillary is our best choice if we truly want to...  ...                7\n",
              "2  @TheView I think our country is ready for a fe...  ...                7\n",
              "3  I just gave an unhealthy amount of my hard-ear...  ...                7\n",
              "4  @PortiaABoulger Thank you for adding me to you...  ...                5\n",
              "\n",
              "[5 rows x 7 columns]"
            ]
          },
          "metadata": {
            "tags": []
          },
          "execution_count": 215
        }
      ]
    },
    {
      "cell_type": "markdown",
      "metadata": {
        "id": "Jly0-mF12cvr"
      },
      "source": [
        "The next step is to explore the hashtags and mentions in the tweet.  We believe gashtags and mentions play an important role during prediction task. During literature survey we came to know that from hashtags we manually extract some decisions regarding the stance of that tweet.\n",
        "\n",
        "For example, tag #NoMoreReligions depicts that the tweet should be in FAVOR with target Atheism. while tag #Godswill states probability of the tweet being AGAINST the Atheism. but some tags like #atheism are ambiguous and we cannot predict Stance manually from them.\n",
        "\n",
        "For this purpose we need to know the number of Hashtags and mentions in the tweet first."
      ]
    },
    {
      "cell_type": "code",
      "metadata": {
        "id": "ikeXBs5Banwv",
        "outputId": "3a819cdd-561e-46e1-8d65-23e4f8f20d33",
        "colab": {
          "base_uri": "https://localhost:8080/",
          "height": 297
        }
      },
      "source": [
        "## Count HashTags -> # and mentions -> @\n",
        "\n",
        "train_data['HashTag_Count'] = train_data['Tweet'].apply(lambda x : len([t for t in x.split() if t.startswith(\"#\")])) \n",
        "\n",
        "train_data['Mention_Count'] = train_data['Tweet'].apply(lambda x : len([t for t in x.split() if t.startswith(\"@\")])) \n",
        "\n",
        "train_data.head()"
      ],
      "execution_count": 216,
      "outputs": [
        {
          "output_type": "execute_result",
          "data": {
            "text/html": [
              "<div>\n",
              "<style scoped>\n",
              "    .dataframe tbody tr th:only-of-type {\n",
              "        vertical-align: middle;\n",
              "    }\n",
              "\n",
              "    .dataframe tbody tr th {\n",
              "        vertical-align: top;\n",
              "    }\n",
              "\n",
              "    .dataframe thead th {\n",
              "        text-align: right;\n",
              "    }\n",
              "</style>\n",
              "<table border=\"1\" class=\"dataframe\">\n",
              "  <thead>\n",
              "    <tr style=\"text-align: right;\">\n",
              "      <th></th>\n",
              "      <th>Tweet</th>\n",
              "      <th>Stance</th>\n",
              "      <th>Target</th>\n",
              "      <th>Word_Count</th>\n",
              "      <th>Character_Count</th>\n",
              "      <th>Average_Word_length</th>\n",
              "      <th>Stop_words_count</th>\n",
              "      <th>HashTag_Count</th>\n",
              "      <th>Mention_Count</th>\n",
              "    </tr>\n",
              "  </thead>\n",
              "  <tbody>\n",
              "    <tr>\n",
              "      <th>0</th>\n",
              "      <td>@tedcruz And, #HandOverTheServer she wiped cle...</td>\n",
              "      <td>AGAINST</td>\n",
              "      <td>Hillary Clinton</td>\n",
              "      <td>19</td>\n",
              "      <td>143</td>\n",
              "      <td>7.526316</td>\n",
              "      <td>3</td>\n",
              "      <td>3</td>\n",
              "      <td>1</td>\n",
              "    </tr>\n",
              "    <tr>\n",
              "      <th>1</th>\n",
              "      <td>Hillary is our best choice if we truly want to...</td>\n",
              "      <td>FAVOR</td>\n",
              "      <td>Hillary Clinton</td>\n",
              "      <td>18</td>\n",
              "      <td>105</td>\n",
              "      <td>5.833333</td>\n",
              "      <td>7</td>\n",
              "      <td>1</td>\n",
              "      <td>0</td>\n",
              "    </tr>\n",
              "    <tr>\n",
              "      <th>2</th>\n",
              "      <td>@TheView I think our country is ready for a fe...</td>\n",
              "      <td>AGAINST</td>\n",
              "      <td>Hillary Clinton</td>\n",
              "      <td>18</td>\n",
              "      <td>97</td>\n",
              "      <td>5.388889</td>\n",
              "      <td>7</td>\n",
              "      <td>0</td>\n",
              "      <td>1</td>\n",
              "    </tr>\n",
              "    <tr>\n",
              "      <th>3</th>\n",
              "      <td>I just gave an unhealthy amount of my hard-ear...</td>\n",
              "      <td>AGAINST</td>\n",
              "      <td>Hillary Clinton</td>\n",
              "      <td>21</td>\n",
              "      <td>140</td>\n",
              "      <td>6.666667</td>\n",
              "      <td>7</td>\n",
              "      <td>1</td>\n",
              "      <td>0</td>\n",
              "    </tr>\n",
              "    <tr>\n",
              "      <th>4</th>\n",
              "      <td>@PortiaABoulger Thank you for adding me to you...</td>\n",
              "      <td>NONE</td>\n",
              "      <td>Hillary Clinton</td>\n",
              "      <td>11</td>\n",
              "      <td>68</td>\n",
              "      <td>6.181818</td>\n",
              "      <td>5</td>\n",
              "      <td>0</td>\n",
              "      <td>1</td>\n",
              "    </tr>\n",
              "  </tbody>\n",
              "</table>\n",
              "</div>"
            ],
            "text/plain": [
              "                                               Tweet  ... Mention_Count\n",
              "0  @tedcruz And, #HandOverTheServer she wiped cle...  ...             1\n",
              "1  Hillary is our best choice if we truly want to...  ...             0\n",
              "2  @TheView I think our country is ready for a fe...  ...             1\n",
              "3  I just gave an unhealthy amount of my hard-ear...  ...             0\n",
              "4  @PortiaABoulger Thank you for adding me to you...  ...             1\n",
              "\n",
              "[5 rows x 9 columns]"
            ]
          },
          "metadata": {
            "tags": []
          },
          "execution_count": 216
        }
      ]
    },
    {
      "cell_type": "markdown",
      "metadata": {
        "id": "U64xah9j3-wh"
      },
      "source": [
        "In the below step we checked the number of digits and Upper case characters in the tweet. That is because we believe, people mostly write in capital letters when they are either highly in FAVOR or in AGAINST with something."
      ]
    },
    {
      "cell_type": "code",
      "metadata": {
        "id": "SSuEHVC5an8q",
        "outputId": "a09d3a2a-3081-4398-c752-5127b82205fe",
        "colab": {
          "base_uri": "https://localhost:8080/",
          "height": 384
        }
      },
      "source": [
        "## Checking the numeric digits present in the tweets\n",
        "\n",
        "train_data['numeric_digit_Count'] = train_data['Tweet'].apply(lambda x : len([t for t in x.split() if t.isdigit()])) \n",
        "\n",
        "# Checking the count of Upper Case in the tweet (Because mostly people write in capital when they are Happy or Sad)\n",
        "\n",
        "train_data['uppercase_Count'] = train_data['Tweet'].apply(lambda x : len([t for t in x.split() if t.isupper() and len(x)>3])) \n",
        "\n",
        "train_data.head()"
      ],
      "execution_count": 217,
      "outputs": [
        {
          "output_type": "execute_result",
          "data": {
            "text/html": [
              "<div>\n",
              "<style scoped>\n",
              "    .dataframe tbody tr th:only-of-type {\n",
              "        vertical-align: middle;\n",
              "    }\n",
              "\n",
              "    .dataframe tbody tr th {\n",
              "        vertical-align: top;\n",
              "    }\n",
              "\n",
              "    .dataframe thead th {\n",
              "        text-align: right;\n",
              "    }\n",
              "</style>\n",
              "<table border=\"1\" class=\"dataframe\">\n",
              "  <thead>\n",
              "    <tr style=\"text-align: right;\">\n",
              "      <th></th>\n",
              "      <th>Tweet</th>\n",
              "      <th>Stance</th>\n",
              "      <th>Target</th>\n",
              "      <th>Word_Count</th>\n",
              "      <th>Character_Count</th>\n",
              "      <th>Average_Word_length</th>\n",
              "      <th>Stop_words_count</th>\n",
              "      <th>HashTag_Count</th>\n",
              "      <th>Mention_Count</th>\n",
              "      <th>numeric_digit_Count</th>\n",
              "      <th>uppercase_Count</th>\n",
              "    </tr>\n",
              "  </thead>\n",
              "  <tbody>\n",
              "    <tr>\n",
              "      <th>0</th>\n",
              "      <td>@tedcruz And, #HandOverTheServer she wiped cle...</td>\n",
              "      <td>AGAINST</td>\n",
              "      <td>Hillary Clinton</td>\n",
              "      <td>19</td>\n",
              "      <td>143</td>\n",
              "      <td>7.526316</td>\n",
              "      <td>3</td>\n",
              "      <td>3</td>\n",
              "      <td>1</td>\n",
              "      <td>0</td>\n",
              "      <td>0</td>\n",
              "    </tr>\n",
              "    <tr>\n",
              "      <th>1</th>\n",
              "      <td>Hillary is our best choice if we truly want to...</td>\n",
              "      <td>FAVOR</td>\n",
              "      <td>Hillary Clinton</td>\n",
              "      <td>18</td>\n",
              "      <td>105</td>\n",
              "      <td>5.833333</td>\n",
              "      <td>7</td>\n",
              "      <td>1</td>\n",
              "      <td>0</td>\n",
              "      <td>0</td>\n",
              "      <td>0</td>\n",
              "    </tr>\n",
              "    <tr>\n",
              "      <th>2</th>\n",
              "      <td>@TheView I think our country is ready for a fe...</td>\n",
              "      <td>AGAINST</td>\n",
              "      <td>Hillary Clinton</td>\n",
              "      <td>18</td>\n",
              "      <td>97</td>\n",
              "      <td>5.388889</td>\n",
              "      <td>7</td>\n",
              "      <td>0</td>\n",
              "      <td>1</td>\n",
              "      <td>0</td>\n",
              "      <td>1</td>\n",
              "    </tr>\n",
              "    <tr>\n",
              "      <th>3</th>\n",
              "      <td>I just gave an unhealthy amount of my hard-ear...</td>\n",
              "      <td>AGAINST</td>\n",
              "      <td>Hillary Clinton</td>\n",
              "      <td>21</td>\n",
              "      <td>140</td>\n",
              "      <td>6.666667</td>\n",
              "      <td>7</td>\n",
              "      <td>1</td>\n",
              "      <td>0</td>\n",
              "      <td>0</td>\n",
              "      <td>2</td>\n",
              "    </tr>\n",
              "    <tr>\n",
              "      <th>4</th>\n",
              "      <td>@PortiaABoulger Thank you for adding me to you...</td>\n",
              "      <td>NONE</td>\n",
              "      <td>Hillary Clinton</td>\n",
              "      <td>11</td>\n",
              "      <td>68</td>\n",
              "      <td>6.181818</td>\n",
              "      <td>5</td>\n",
              "      <td>0</td>\n",
              "      <td>1</td>\n",
              "      <td>0</td>\n",
              "      <td>0</td>\n",
              "    </tr>\n",
              "  </tbody>\n",
              "</table>\n",
              "</div>"
            ],
            "text/plain": [
              "                                               Tweet  ... uppercase_Count\n",
              "0  @tedcruz And, #HandOverTheServer she wiped cle...  ...               0\n",
              "1  Hillary is our best choice if we truly want to...  ...               0\n",
              "2  @TheView I think our country is ready for a fe...  ...               1\n",
              "3  I just gave an unhealthy amount of my hard-ear...  ...               2\n",
              "4  @PortiaABoulger Thank you for adding me to you...  ...               0\n",
              "\n",
              "[5 rows x 11 columns]"
            ]
          },
          "metadata": {
            "tags": []
          },
          "execution_count": 217
        }
      ]
    },
    {
      "cell_type": "markdown",
      "metadata": {
        "id": "zYNV-2k6hrf4"
      },
      "source": [
        "\n",
        "\n",
        "---\n",
        "\n",
        "**Preprocessing the tweets**\n",
        "\n",
        "After some interesting exploration in Tweet column, we started some basic preprocessing. The first and very basic step is to convert the tweet into lowercase."
      ]
    },
    {
      "cell_type": "code",
      "metadata": {
        "id": "hr-nQaDdannk",
        "outputId": "417f2ef5-b0b1-4373-c036-84b0cfbf0fca",
        "colab": {
          "base_uri": "https://localhost:8080/",
          "height": 70
        }
      },
      "source": [
        "# Converting to lower case\n",
        "\n",
        "train_data['Tweet'] = train_data['Tweet'].apply(lambda x: x.lower()) \n",
        "\n",
        "train_data['Tweet'].head(2)"
      ],
      "execution_count": 218,
      "outputs": [
        {
          "output_type": "execute_result",
          "data": {
            "text/plain": [
              "0    @tedcruz and, #handovertheserver she wiped cle...\n",
              "1    hillary is our best choice if we truly want to...\n",
              "Name: Tweet, dtype: object"
            ]
          },
          "metadata": {
            "tags": []
          },
          "execution_count": 218
        }
      ]
    },
    {
      "cell_type": "markdown",
      "metadata": {
        "id": "rDra46Rl43xy"
      },
      "source": [
        "the next step is to convert contracted word into their expanded format. This step is needed as we want to seperate the words like 'don't' into 'do not' so that model can understand them clearly."
      ]
    },
    {
      "cell_type": "code",
      "metadata": {
        "id": "6vF9MaUganY7"
      },
      "source": [
        "# Contraction to Expandion [Meaning converting words like \"don't\" to \"do not\"]\n",
        "\n",
        "contractions = { \n",
        "\"ain't\": \"am not\",\n",
        "\"aren't\": \"are not\",\n",
        "\"can't\": \"cannot\",\n",
        "\"can't've\": \"cannot have\",\n",
        "\"cause\": \"because\",\n",
        "\"could've\": \"could have\",\n",
        "\"couldn't\": \"could not\",\n",
        "\"didn't\": \"did not\",\n",
        "\"doesn't\": \"does not\",\n",
        "\"don't\": \"do not\",\n",
        "\"hadn't\": \"had not\",\n",
        "\"hasn't\": \"has not\",\n",
        "\"haven't\": \"have not\",\n",
        "\"he'd\": \"he had\",\n",
        "\"he'll\": \"he will\",\n",
        "\"he's\": \"he is\",\n",
        "\"how'd\": \"how did\",\n",
        "\"how'd'y\": \"how do you\",\n",
        "\"how'll\": \"how will\",\n",
        "\"how's\": \"how is\",\n",
        "\"i'd\": \"i had\",\n",
        "\"i'll\": \"i will\",\n",
        "\"i'm\": \"i am\",\n",
        "\"i've\": \"i have\",\n",
        "\"isn't\": \"is not\",\n",
        "\"it'd\": \"it had\",\n",
        "\"it'll\": \"it will\",\n",
        "\"it's\": \"it is\",\n",
        "\"let's\": \"let us\",\n",
        "\"ma'am\": \"madam\",\n",
        "\"mayn't\": \"may not\",\n",
        "\"might've\": \"might have\",\n",
        "\"mightn't\": \"might not\",\n",
        "\"must've\": \"must have\",\n",
        "\"mustn't\": \"must not\",\n",
        "\"needn't\": \"need not\",\n",
        "\"o'clock\": \"of the clock\",\n",
        "\"oughtn't\": \"ought not\",\n",
        "\"shan't\": \"shall not\",\n",
        "\"sha'n't\": \"shall not\",\n",
        "\"she'd\": \"she had\",\n",
        "\"she'll\": \"she will\",\n",
        "\"she's\": \"she is\",\n",
        "\"should've\": \"should have\",\n",
        "\"shouldn't\": \"should not\",\n",
        "\"so've\": \"so have\",\n",
        "\"so's\": \"so is\",\n",
        "\"that'd\": \"that had\",\n",
        "\"that's\": \"that is\",\n",
        "\"there'd\": \"there had\",\n",
        "\"there's\": \"there is\",\n",
        "\"they'd\": \"they had\",\n",
        "\"they'll\": \"they will\",\n",
        "\"they're\": \"they are\",\n",
        "\"they've\": \"they have\",\n",
        "\"to've\": \"to have\",\n",
        "\"wasn't\": \"was not\",\n",
        "\"we'd\": \"we had\",\n",
        "\"we'll\": \"we will\",\n",
        "\"we're\": \"we are\",\n",
        "\"we've\": \"we have\",\n",
        "\"weren't\": \"were not\",\n",
        "\"what'll\": \"what will\",\n",
        "\"what're\": \"what are\",\n",
        "\"what's\": \"what is\",\n",
        "\"what've\": \"what have\",\n",
        "\"when's\": \"when is\",\n",
        "\"when've\": \"when have\",\n",
        "\"where'd\": \"where did\",\n",
        "\"where's\": \"where is\",\n",
        "\"where've\": \"where have\",\n",
        "\"who'll\": \"who will\",\n",
        "\"who'll've\": \"who will have\",\n",
        "\"who's\": \"who is\",\n",
        "\"who've\": \"who have\",\n",
        "\"why's\": \"why is\",\n",
        "\"why've\": \"why have\",\n",
        "\"will've\": \"will have\",\n",
        "\"won't\": \"will not\",\n",
        "\"won't've\": \"will not have\",\n",
        "\"would've\": \"would have\",\n",
        "\"wouldn't\": \"would not\",\n",
        "\"wouldn't've\": \"would not have\",\n",
        "\"y'all\": \"you all\",\n",
        "\"y'all'd\": \"you all would\",\n",
        "\"y'all'd've\": \"you all would have\",\n",
        "\"y'all're\": \"you all are\",\n",
        "\"y'all've\": \"you all have\",\n",
        "\"you'd\": \"you had\",\n",
        "\"you'll\": \"you will\",\n",
        "\"you're\": \"you are\",\n",
        "\"you've\": \"you have\",\n",
        "\" n \":\"and\",\n",
        "\" u \": \"you\",\n",
        "}\n",
        "\n",
        "def con_to_ext(x):\n",
        "  if type(x) is str:\n",
        "    for key in contractions:\n",
        "      value = contractions[key]\n",
        "      x = x.replace(key, value)\n",
        "    return x\n",
        "  else:\n",
        "    return x"
      ],
      "execution_count": 219,
      "outputs": []
    },
    {
      "cell_type": "code",
      "metadata": {
        "id": "EhfNu43aanGQ",
        "outputId": "396240d2-6557-4da7-b1f5-de6381c41eb8",
        "colab": {
          "base_uri": "https://localhost:8080/",
          "height": 123
        }
      },
      "source": [
        "train_data['Tweet'] = train_data['Tweet'].apply(lambda x: con_to_ext(x))\n",
        "train_data['Tweet'].head(5)"
      ],
      "execution_count": 220,
      "outputs": [
        {
          "output_type": "execute_result",
          "data": {
            "text/plain": [
              "0    @tedcruz and, #handovertheserver she wiped cle...\n",
              "1    hillary is our best choice if we truly want to...\n",
              "2    @theview i think our country is ready for a fe...\n",
              "3    i just gave an unhealthy amount of my hard-ear...\n",
              "4    @portiaaboulger thank you for adding me to you...\n",
              "Name: Tweet, dtype: object"
            ]
          },
          "metadata": {
            "tags": []
          },
          "execution_count": 220
        }
      ]
    },
    {
      "cell_type": "markdown",
      "metadata": {
        "id": "rfGLSMgE6lBE"
      },
      "source": [
        "The next step of preprocessing we done is to remove the email ids from the tweets as they may contain personal data in alphanumeric format which does not make sense towards Stance detection."
      ]
    },
    {
      "cell_type": "code",
      "metadata": {
        "id": "-h1KhlT_am_J"
      },
      "source": [
        "## Count and remove emails from the tweet\n",
        "import re\n",
        "train_data['email'] = train_data['Tweet'].apply(lambda x: re.findall(r'([-a-zA-Z0-9._-]+@[-a-zA-Z0-9._-]+\\.[-a-zA-Z0-9_-]+)',x))"
      ],
      "execution_count": 221,
      "outputs": []
    },
    {
      "cell_type": "code",
      "metadata": {
        "id": "97CTbaaJjKQY",
        "outputId": "1d0dd6a8-d667-41bc-9eaf-3dbab2601ccf",
        "colab": {
          "base_uri": "https://localhost:8080/",
          "height": 211
        }
      },
      "source": [
        "# Counting the number of email present in the dataset \n",
        "\n",
        "train_data['email_count'] = train_data['email'].apply(lambda x: len(x))\n",
        "\n",
        "# Checking if the emails are greater that 1\n",
        "\n",
        "train_data[train_data['email_count']>0]"
      ],
      "execution_count": 222,
      "outputs": [
        {
          "output_type": "execute_result",
          "data": {
            "text/html": [
              "<div>\n",
              "<style scoped>\n",
              "    .dataframe tbody tr th:only-of-type {\n",
              "        vertical-align: middle;\n",
              "    }\n",
              "\n",
              "    .dataframe tbody tr th {\n",
              "        vertical-align: top;\n",
              "    }\n",
              "\n",
              "    .dataframe thead th {\n",
              "        text-align: right;\n",
              "    }\n",
              "</style>\n",
              "<table border=\"1\" class=\"dataframe\">\n",
              "  <thead>\n",
              "    <tr style=\"text-align: right;\">\n",
              "      <th></th>\n",
              "      <th>Tweet</th>\n",
              "      <th>Stance</th>\n",
              "      <th>Target</th>\n",
              "      <th>Word_Count</th>\n",
              "      <th>Character_Count</th>\n",
              "      <th>Average_Word_length</th>\n",
              "      <th>Stop_words_count</th>\n",
              "      <th>HashTag_Count</th>\n",
              "      <th>Mention_Count</th>\n",
              "      <th>numeric_digit_Count</th>\n",
              "      <th>uppercase_Count</th>\n",
              "      <th>email</th>\n",
              "      <th>email_count</th>\n",
              "    </tr>\n",
              "  </thead>\n",
              "  <tbody>\n",
              "    <tr>\n",
              "      <th>676</th>\n",
              "      <td>(2/2) 300 words and be sent to climateconferen...</td>\n",
              "      <td>FAVOR</td>\n",
              "      <td>Climate Change is a Real Concern</td>\n",
              "      <td>17</td>\n",
              "      <td>142</td>\n",
              "      <td>8.352941</td>\n",
              "      <td>5</td>\n",
              "      <td>3</td>\n",
              "      <td>0</td>\n",
              "      <td>1</td>\n",
              "      <td>0</td>\n",
              "      <td>[climateconference2015@gmail.com]</td>\n",
              "      <td>1</td>\n",
              "    </tr>\n",
              "    <tr>\n",
              "      <th>2691</th>\n",
              "      <td>worldwide r.e. agents! - support a prolife gro...</td>\n",
              "      <td>AGAINST</td>\n",
              "      <td>Legalization of Abortion</td>\n",
              "      <td>16</td>\n",
              "      <td>129</td>\n",
              "      <td>8.062500</td>\n",
              "      <td>3</td>\n",
              "      <td>1</td>\n",
              "      <td>0</td>\n",
              "      <td>0</td>\n",
              "      <td>2</td>\n",
              "      <td>[proliferealestate@yahoo.com]</td>\n",
              "      <td>1</td>\n",
              "    </tr>\n",
              "  </tbody>\n",
              "</table>\n",
              "</div>"
            ],
            "text/plain": [
              "                                                  Tweet  ... email_count\n",
              "676   (2/2) 300 words and be sent to climateconferen...  ...           1\n",
              "2691  worldwide r.e. agents! - support a prolife gro...  ...           1\n",
              "\n",
              "[2 rows x 13 columns]"
            ]
          },
          "metadata": {
            "tags": []
          },
          "execution_count": 222
        }
      ]
    },
    {
      "cell_type": "code",
      "metadata": {
        "id": "wtBk_1vyjJ8D"
      },
      "source": [
        "## Removing the emails from the Tweet column.\n",
        "\n",
        "train_data['Tweet'] = train_data['Tweet'].apply(lambda x: re.sub(r'([-a-zA-Z0-9._-]+@[-a-zA-Z0-9._-]+\\.[-a-zA-Z0-9_-]+)','',x))"
      ],
      "execution_count": 223,
      "outputs": []
    },
    {
      "cell_type": "markdown",
      "metadata": {
        "id": "RptWUIYd7xys"
      },
      "source": [
        "THe next step of preprocessing is to remove special characters and punctuations from the tweets. we removed all the special characters excluding # and @ from the tweets.\n",
        "\n",
        "After that, we removed extra white spaces from tweets. and removed words which may written in Accented characters.\n",
        "\n",
        "The last step is to remove stop words from the tweet statements.\n"
      ]
    },
    {
      "cell_type": "code",
      "metadata": {
        "id": "8TolLbs8jJbE",
        "outputId": "e25c23ba-35ee-48c1-eb39-f265a2418b8a",
        "colab": {
          "base_uri": "https://localhost:8080/",
          "height": 123
        }
      },
      "source": [
        "## Removing Special characters and punctuations\n",
        "\n",
        "train_data['Tweet'] = train_data['Tweet'].apply(lambda x: re.sub('[^A-Za-z0-9#@]+',' ',x))\n",
        "\n",
        "## Remove the multiple(extra) spaces\n",
        "\n",
        "train_data['Tweet'] = train_data['Tweet'].apply(lambda x: \" \".join(x.split()))\n",
        "\n",
        "## Remove the Accented characters (e.g. àÿüûâ)\n",
        "import unicodedata\n",
        "\n",
        "def remove_accent(x):\n",
        "  x = unicodedata.normalize('NFKD', x).encode('ascii','ignore').decode('utf-8','ignore')\n",
        "  return x\n",
        "\n",
        "## Applying on tweets\n",
        "train_data['Tweet'] = train_data['Tweet'].apply(lambda x: remove_accent(x))\n",
        "\n",
        "### Removing the stop words\n",
        "\n",
        "train_data['Tweet'] = train_data['Tweet'].apply(lambda x: \" \".join([t for t in x.split() if t not in STOP_WORDS]))\n",
        "\n",
        "\n",
        "train_data['Tweet'].head(5)"
      ],
      "execution_count": 224,
      "outputs": [
        {
          "output_type": "execute_result",
          "data": {
            "text/plain": [
              "0    @tedcruz #handovertheserver wiped clean 30k de...\n",
              "1    hillary best choice truly want continue progre...\n",
              "2    @theview think country ready female pres hilla...\n",
              "3    gave unhealthy hard earned money away big gov ...\n",
              "4    @portiaaboulger thank adding list hillary clinton\n",
              "Name: Tweet, dtype: object"
            ]
          },
          "metadata": {
            "tags": []
          },
          "execution_count": 224
        }
      ]
    },
    {
      "cell_type": "markdown",
      "metadata": {
        "id": "dJkiNwVr9Nw0"
      },
      "source": [
        "The next step is to tokenize (encoding) the preprocessed tweet data and then add padding to the data to make each tweet statement of the same length.\n",
        "\n",
        "for that we copied the Tweet data into a list named 'text'."
      ]
    },
    {
      "cell_type": "code",
      "metadata": {
        "id": "3Zlq3tqta-Et",
        "outputId": "de01909e-01c9-4042-d7be-f4580d97c824",
        "colab": {
          "base_uri": "https://localhost:8080/",
          "height": 70
        }
      },
      "source": [
        "#train_data['Tw'] = train_data['Tweet']\n",
        "#####\n",
        "text = train_data['Tweet'].tolist()\n",
        "text[:3]"
      ],
      "execution_count": 225,
      "outputs": [
        {
          "output_type": "execute_result",
          "data": {
            "text/plain": [
              "['@tedcruz #handovertheserver wiped clean 30k deleted emails explains dereliction duty lies #benghazi etc #tcot hillary clinton',\n",
              " 'hillary best choice truly want continue progressive nation #ohio hillary clinton',\n",
              " '@theview think country ready female pres hillary hillary clinton']"
            ]
          },
          "metadata": {
            "tags": []
          },
          "execution_count": 225
        }
      ]
    },
    {
      "cell_type": "code",
      "metadata": {
        "id": "-0TE5tZAa-tH",
        "outputId": "f54c693e-9dc9-466a-a165-7c708ec34e57",
        "colab": {
          "base_uri": "https://localhost:8080/",
          "height": 34
        }
      },
      "source": [
        "#####\n",
        "y = train_data['Stance']\n",
        "y = pd.get_dummies(y).values\n",
        "y.shape"
      ],
      "execution_count": 226,
      "outputs": [
        {
          "output_type": "execute_result",
          "data": {
            "text/plain": [
              "(2914, 3)"
            ]
          },
          "metadata": {
            "tags": []
          },
          "execution_count": 226
        }
      ]
    },
    {
      "cell_type": "code",
      "metadata": {
        "id": "Ex9V1b04a-qt",
        "outputId": "1c0f19f4-7e21-4964-bf15-e7a247dfcc48",
        "colab": {
          "base_uri": "https://localhost:8080/",
          "height": 34
        }
      },
      "source": [
        "from keras.preprocessing.text import Tokenizer\n",
        "token = Tokenizer()\n",
        "token.fit_on_texts(text)\n",
        "\n",
        "### Calculating the vocabulary size\n",
        "vocab_size = len(token.word_index)+1\n",
        "vocab_size"
      ],
      "execution_count": 227,
      "outputs": [
        {
          "output_type": "execute_result",
          "data": {
            "text/plain": [
              "9021"
            ]
          },
          "metadata": {
            "tags": []
          },
          "execution_count": 227
        }
      ]
    },
    {
      "cell_type": "markdown",
      "metadata": {
        "id": "SIsieoxk-RXy"
      },
      "source": [
        "we used 50 as a max length for the padding to make each sentence of max length 50."
      ]
    },
    {
      "cell_type": "code",
      "metadata": {
        "id": "Xpc2mg7za-B5",
        "outputId": "b011fa33-94c3-476e-caeb-d69831c32707",
        "colab": {
          "base_uri": "https://localhost:8080/",
          "height": 72
        }
      },
      "source": [
        "## Encoding the text\n",
        "encoded_text = token.texts_to_sequences(text)\n",
        "print(encoded_text[:3])\n",
        "\n",
        "## By default prepadding is done\n",
        "\n",
        "sentence_max_length = 50\n",
        "X = pad_sequences(encoded_text, maxlen=sentence_max_length)\n",
        "print(X.shape)"
      ],
      "execution_count": 228,
      "outputs": [
        {
          "output_type": "stream",
          "text": [
            "[[694, 3155, 3156, 1299, 3157, 819, 124, 1859, 3158, 1022, 130, 151, 435, 51, 2, 5], [2, 53, 68, 436, 24, 311, 1023, 173, 1024, 2, 5], [3159, 34, 99, 152, 153, 1860, 2, 2, 5]]\n",
            "(2914, 50)\n"
          ],
          "name": "stdout"
        }
      ]
    },
    {
      "cell_type": "markdown",
      "metadata": {
        "id": "2pTtyMLI_6TC"
      },
      "source": [
        "\n",
        "\n",
        "---\n",
        "\n",
        "**Word Embedding and Transfer Learning**\n",
        "\n",
        "As we can see from the above that we have very small dataset only with 2914 data points of 5 target values. We can see from above exploration that the data also has class imbalance problem so we are using a pretrained vector weights to use better representation of the vocabulary we have in our data set. \n",
        "\n",
        "We are using Glove Twitter 100 dimensional pretrained vector present on https://nlp.stanford.edu/projects/glove/\n",
        "\n",
        "This pretrained vector is present in various dimentions as 50d, 100d and 200d but we are simply using 100d vector for our task.\n",
        "we make a glove vector dictionary to save all the words from pretrained vector file."
      ]
    },
    {
      "cell_type": "code",
      "metadata": {
        "id": "2JL5Q9xuhRT5"
      },
      "source": [
        "##### Glove Vector\n",
        "# e.g. hello -0.11 0.23 0.333 0.54 0.65\n",
        "glove_vectors = dict()\n",
        "#file = open('/content/drive/My Drive/Colab Notebooks/TweetsDataset/glove.twitter.27B.100d.txt', encoding='utf-8')\n",
        "file = open('/content/drive/My Drive/ColabNotebooks/DeepLearningLabs/Assignment2/glove.twitter.27B.100d.txt', encoding='utf-8')\n",
        "glove_vectors = dict()\n",
        "for line in file:\n",
        "  values = line.split()\n",
        "  word = values[0]\n",
        "  features = np.asarray(values[1:])\n",
        "  glove_vectors[word] = features\n",
        "\n",
        "file.close()"
      ],
      "execution_count": 229,
      "outputs": []
    },
    {
      "cell_type": "markdown",
      "metadata": {
        "id": "n5wXUEA-CAQ2"
      },
      "source": [
        "We can see from the below code that the Glove vector has almost 1.5 million words present with dimension shape of 100."
      ]
    },
    {
      "cell_type": "code",
      "metadata": {
        "id": "nVGwo3zvhRRn",
        "outputId": "2646419d-4da5-4aef-f5ed-c63c1111e47f",
        "colab": {
          "base_uri": "https://localhost:8080/",
          "height": 52
        }
      },
      "source": [
        "### Prints the length of keys in glove vector dictionary\n",
        "print(len(glove_vectors.keys()))\n",
        "\n",
        "#### displaying the shape of the glove vector just for testing purpose\n",
        "print(glove_vectors.get('to').shape)"
      ],
      "execution_count": 230,
      "outputs": [
        {
          "output_type": "stream",
          "text": [
            "1193514\n",
            "(100,)\n"
          ],
          "name": "stdout"
        }
      ]
    },
    {
      "cell_type": "markdown",
      "metadata": {
        "id": "Nvz2WuTpCbLf"
      },
      "source": [
        "The next step is to create an Embedded Matrix by mapping each word in our vocabulary with the same word in the Glove Vector.\n",
        "The words which are not in the Glove vector are added to the list named 'Not_words'."
      ]
    },
    {
      "cell_type": "code",
      "metadata": {
        "id": "eGB6D7DphRMG",
        "outputId": "d3cb6ee9-1341-4453-eb94-38d8c8af7bfa",
        "colab": {
          "base_uri": "https://localhost:8080/",
          "height": 52
        }
      },
      "source": [
        "E_T = np.zeros((vocab_size , 100))\n",
        "Not_words = list()\n",
        "for word, i in token.word_index.items():\n",
        "    embedding_vector = glove_vectors.get(word)\n",
        "    if embedding_vector is not None:  \n",
        "        E_T[i] = embedding_vector\n",
        "    else:\n",
        "      #print(word) # Printing the misspelled words\n",
        "      Not_words.append(word)\n",
        "\n",
        "print(\"Embedding Matrix size: \", E_T.size)\n",
        "print(\"Words which are not in Embedding Matrix: \", len(Not_words))"
      ],
      "execution_count": 231,
      "outputs": [
        {
          "output_type": "stream",
          "text": [
            "Embedding Matrix size:  902100\n",
            "Words which are not in Embedding Matrix:  2449\n"
          ],
          "name": "stdout"
        }
      ]
    },
    {
      "cell_type": "markdown",
      "metadata": {
        "id": "brmZISQuD5vs"
      },
      "source": [
        "The next step is to split the data into Training and Validation datasets. We are using simple train_test_split() function from sklearn to split the data with split size of 0.2 which mean 80% data is used for training the model while remaining 20% data is used for validation purpose to check how well our model is generalizing. "
      ]
    },
    {
      "cell_type": "code",
      "metadata": {
        "id": "dMlOHDfIhRJx",
        "outputId": "66629d95-c72e-4f57-8023-f36a3023217e",
        "colab": {
          "base_uri": "https://localhost:8080/",
          "height": 87
        }
      },
      "source": [
        "from sklearn.model_selection import train_test_split\n",
        "X_train, X_test, y_train, y_test = train_test_split(X, y, test_size=0.2, random_state=42)\n",
        "\n",
        "print(\"X_train shape: \", X_train.shape)\n",
        "print(\"y_train shape: \", y_train.shape)\n",
        "print(\"X_val shape: \", X_test.shape)\n",
        "print(\"y_val shape: \", y_test.shape)"
      ],
      "execution_count": 232,
      "outputs": [
        {
          "output_type": "stream",
          "text": [
            "X_train shape:  (2331, 50)\n",
            "y_train shape:  (2331, 3)\n",
            "X_val shape:  (583, 50)\n",
            "y_val shape:  (583, 3)\n"
          ],
          "name": "stdout"
        }
      ]
    },
    {
      "cell_type": "markdown",
      "metadata": {
        "id": "tNGd_W2lEYNy"
      },
      "source": [
        "We can see from the above code that, 2331 records are used for model training purpose while 583 records are used for validation of the model.\n",
        "\n",
        "---\n",
        " \n",
        "In the next code cell, we created a baseline model with Transfer Learning layer. \n",
        "\n",
        "The model architechture is like encoded input is fed to the Glove pretrained vector to create an Embedding Layer weights. We create an Embedding Layer with the weights generated above and it is our first layer of the model. Output of this layer is given to the LSTM layer with 32 memory units which has dropout rate of 0.5 and recurrent_dropout rate of 0.25. Output of this layer is again passed through the dropout layer of 0.6 value. The output of this dropout layer is fed to the ReLU dense layer of 64 unit for the non-linear activation. This output is again passed though the dropuout layer of 0.6 value and finally fed to the Softmax activation layer with 3 output units which predict the Stance as either 'FAVOR', 'AGAINST' or 'NONE'.\n",
        "\n",
        "We are using 'categorical_crossentropy' as a error metric and 'Categorical_Accuracy' as a performance metric while compiling the model. We have used basic 'adam' optimizer for the training purpose.\n",
        "\n",
        "\n"
      ]
    },
    {
      "cell_type": "code",
      "metadata": {
        "id": "WBywrek8hRGp"
      },
      "source": [
        "from tensorflow.keras.layers import Dense, Embedding, GRU, LSTM, Bidirectional, Dropout\n",
        "from tensorflow.keras.models import Sequential\n",
        "from tensorflow.keras import regularizers, optimizers\n",
        "import keras.backend as K\n",
        "import numpy as np\n",
        " \n",
        "def create_model(embedding_layer):\n",
        "\n",
        "  model_glove = Sequential()\n",
        "  model_glove.add(embedding_layer)\n",
        "  model_glove.add(LSTM(units=32, dropout=0.5, recurrent_dropout= 0.25))\n",
        "  #model_glove.add(LSTM(units=64, kernel_regularizer=regularizers.l2(0.01)))\n",
        "  model_glove.add(Dropout(0.6))\n",
        "  model_glove.add(Dense(64, activation='relu'))\n",
        "  model_glove.add(Dropout(0.4))\n",
        "  model_glove.add(Dense(3, activation='softmax'))\n",
        "\n",
        "  #opt= tf.keras.optimizers.SGD(learning_rate= 0.02, momentum=0.6)\n",
        "  model_glove.compile(loss='categorical_crossentropy', optimizer='adam')\n",
        "\n",
        "  return model_glove  "
      ],
      "execution_count": 233,
      "outputs": []
    },
    {
      "cell_type": "markdown",
      "metadata": {
        "id": "2YbmJtWvKRO0"
      },
      "source": [
        "We dont train the embedding layer as we are using pre-trained vector weights in our embedding layer."
      ]
    },
    {
      "cell_type": "code",
      "metadata": {
        "id": "Matbsx_6hREN",
        "outputId": "8951f428-1da5-4494-dc0d-33656680b25c",
        "colab": {
          "base_uri": "https://localhost:8080/",
          "height": 390
        }
      },
      "source": [
        "vector_size = 100\n",
        "embedding_layer = Embedding( vocab_size,\n",
        "                     vector_size,\n",
        "                     input_length=50,\n",
        "                     weights=[E_T],\n",
        "                     trainable=False)\n",
        "model1 = create_model(embedding_layer)\n",
        "print(model1.summary())"
      ],
      "execution_count": 234,
      "outputs": [
        {
          "output_type": "stream",
          "text": [
            "Model: \"sequential_13\"\n",
            "_________________________________________________________________\n",
            "Layer (type)                 Output Shape              Param #   \n",
            "=================================================================\n",
            "embedding_13 (Embedding)     (None, 50, 100)           902100    \n",
            "_________________________________________________________________\n",
            "lstm_13 (LSTM)               (None, 32)                17024     \n",
            "_________________________________________________________________\n",
            "dropout_26 (Dropout)         (None, 32)                0         \n",
            "_________________________________________________________________\n",
            "dense_26 (Dense)             (None, 64)                2112      \n",
            "_________________________________________________________________\n",
            "dropout_27 (Dropout)         (None, 64)                0         \n",
            "_________________________________________________________________\n",
            "dense_27 (Dense)             (None, 3)                 195       \n",
            "=================================================================\n",
            "Total params: 921,431\n",
            "Trainable params: 19,331\n",
            "Non-trainable params: 902,100\n",
            "_________________________________________________________________\n",
            "None\n"
          ],
          "name": "stdout"
        }
      ]
    },
    {
      "cell_type": "code",
      "metadata": {
        "id": "__47i84wwctc"
      },
      "source": [
        "def get_callbacks(name):\n",
        "  return [\n",
        "    tf.keras.callbacks.TensorBoard(logdir/name, histogram_freq=1),\n",
        "  ]"
      ],
      "execution_count": 235,
      "outputs": []
    },
    {
      "cell_type": "markdown",
      "metadata": {
        "id": "OVt3nWn7Ke_G"
      },
      "source": [
        "As we have less amount of data available for training, we are using K-fold cross validation technique to train our model for 50 epochs in each of the 3 folds.\n",
        "The batch size is set to 64 and we trained the data for 50 epochs and 3 folds.\n",
        "To check the learning curve of the training and validation we plot the grphs using plotter function mentioned above."
      ]
    },
    {
      "cell_type": "code",
      "metadata": {
        "id": "FKScRAqrhRBB",
        "outputId": "7306e2de-78b0-49b4-8840-c46776902b5a",
        "colab": {
          "base_uri": "https://localhost:8080/",
          "height": 1000
        }
      },
      "source": [
        "#from sklearn.model_selection import KFold\n",
        "#num_folds = 3\n",
        "#input = np.concatenate((X_train, X_test), axis= 0)\n",
        "#target = np.concatenate((y_train, y_test), axis= 0)\n",
        "\n",
        "#kfold = KFold(n_splits=num_folds, shuffle=True)\n",
        "#K = 1\n",
        "#for train, test in kfold.split(input, target):\n",
        "#    print(\"fold number: \", K)\n",
        "#    m_histories = {}\n",
        "#    m_histories['with_TL'] = model.fit(input[train], target[train], batch_size=64, epochs=50, validation_data=(input[test], target[test]), callbacks=get_callbacks('models/with_TL'), verbose=1)\n",
        "#    K = K+1\n",
        "\n",
        "m_histories = {}\n",
        "m_histories['with_TL'] = model1.fit(X_train, y_train, batch_size=64, epochs=50, validation_data=(X_test, y_test), callbacks=get_callbacks('models/with_TL'), verbose=1)   "
      ],
      "execution_count": 236,
      "outputs": [
        {
          "output_type": "stream",
          "text": [
            "Epoch 1/50\n",
            " 2/37 [>.............................] - ETA: 12s - loss: 1.1067WARNING:tensorflow:Callbacks method `on_train_batch_end` is slow compared to the batch time (batch time: 0.0883s vs `on_train_batch_end` time: 0.5979s). Check your callbacks.\n",
            "37/37 [==============================] - 4s 98ms/step - loss: 1.0819 - val_loss: 1.0153\n",
            "Epoch 2/50\n",
            "37/37 [==============================] - 3s 71ms/step - loss: 1.0355 - val_loss: 1.0006\n",
            "Epoch 3/50\n",
            "37/37 [==============================] - 3s 72ms/step - loss: 1.0236 - val_loss: 0.9887\n",
            "Epoch 4/50\n",
            "37/37 [==============================] - 3s 73ms/step - loss: 1.0090 - val_loss: 0.9805\n",
            "Epoch 5/50\n",
            "37/37 [==============================] - 3s 72ms/step - loss: 1.0037 - val_loss: 0.9734\n",
            "Epoch 6/50\n",
            "37/37 [==============================] - 3s 72ms/step - loss: 0.9810 - val_loss: 0.9658\n",
            "Epoch 7/50\n",
            "37/37 [==============================] - 3s 72ms/step - loss: 0.9848 - val_loss: 0.9624\n",
            "Epoch 8/50\n",
            "37/37 [==============================] - 3s 72ms/step - loss: 0.9874 - val_loss: 0.9534\n",
            "Epoch 9/50\n",
            "37/37 [==============================] - 3s 73ms/step - loss: 0.9697 - val_loss: 0.9469\n",
            "Epoch 10/50\n",
            "37/37 [==============================] - 3s 72ms/step - loss: 0.9613 - val_loss: 0.9336\n",
            "Epoch 11/50\n",
            "37/37 [==============================] - 3s 72ms/step - loss: 0.9552 - val_loss: 0.9320\n",
            "Epoch 12/50\n",
            "37/37 [==============================] - 3s 73ms/step - loss: 0.9476 - val_loss: 0.9231\n",
            "Epoch 13/50\n",
            "37/37 [==============================] - 3s 72ms/step - loss: 0.9341 - val_loss: 0.9249\n",
            "Epoch 14/50\n",
            "37/37 [==============================] - 3s 73ms/step - loss: 0.9326 - val_loss: 0.9161\n",
            "Epoch 15/50\n",
            "37/37 [==============================] - 3s 74ms/step - loss: 0.9300 - val_loss: 0.9136\n",
            "Epoch 16/50\n",
            "37/37 [==============================] - 3s 73ms/step - loss: 0.9169 - val_loss: 0.9115\n",
            "Epoch 17/50\n",
            "37/37 [==============================] - 3s 71ms/step - loss: 0.9101 - val_loss: 0.9090\n",
            "Epoch 18/50\n",
            "37/37 [==============================] - 3s 72ms/step - loss: 0.9174 - val_loss: 0.9108\n",
            "Epoch 19/50\n",
            "37/37 [==============================] - 3s 71ms/step - loss: 0.9111 - val_loss: 0.9035\n",
            "Epoch 20/50\n",
            "37/37 [==============================] - 3s 73ms/step - loss: 0.8959 - val_loss: 0.9040\n",
            "Epoch 21/50\n",
            "37/37 [==============================] - 3s 75ms/step - loss: 0.9009 - val_loss: 0.9032\n",
            "Epoch 22/50\n",
            "37/37 [==============================] - 3s 73ms/step - loss: 0.8912 - val_loss: 0.9099\n",
            "Epoch 23/50\n",
            "37/37 [==============================] - 3s 72ms/step - loss: 0.8840 - val_loss: 0.8953\n",
            "Epoch 24/50\n",
            "37/37 [==============================] - 3s 71ms/step - loss: 0.8767 - val_loss: 0.8873\n",
            "Epoch 25/50\n",
            "37/37 [==============================] - 3s 73ms/step - loss: 0.8768 - val_loss: 0.8800\n",
            "Epoch 26/50\n",
            "37/37 [==============================] - 3s 73ms/step - loss: 0.8675 - val_loss: 0.8892\n",
            "Epoch 27/50\n",
            "37/37 [==============================] - 3s 72ms/step - loss: 0.8600 - val_loss: 0.8813\n",
            "Epoch 28/50\n",
            "37/37 [==============================] - 3s 73ms/step - loss: 0.8589 - val_loss: 0.8834\n",
            "Epoch 29/50\n",
            "37/37 [==============================] - 3s 73ms/step - loss: 0.8583 - val_loss: 0.8730\n",
            "Epoch 30/50\n",
            "37/37 [==============================] - 3s 71ms/step - loss: 0.8399 - val_loss: 0.8745\n",
            "Epoch 31/50\n",
            "37/37 [==============================] - 3s 73ms/step - loss: 0.8434 - val_loss: 0.8708\n",
            "Epoch 32/50\n",
            "37/37 [==============================] - 3s 73ms/step - loss: 0.8288 - val_loss: 0.8638\n",
            "Epoch 33/50\n",
            "37/37 [==============================] - 3s 73ms/step - loss: 0.8388 - val_loss: 0.8620\n",
            "Epoch 34/50\n",
            "37/37 [==============================] - 3s 72ms/step - loss: 0.8373 - val_loss: 0.8670\n",
            "Epoch 35/50\n",
            "37/37 [==============================] - 3s 72ms/step - loss: 0.8205 - val_loss: 0.8634\n",
            "Epoch 36/50\n",
            "37/37 [==============================] - 3s 75ms/step - loss: 0.8292 - val_loss: 0.8567\n",
            "Epoch 37/50\n",
            "37/37 [==============================] - 3s 74ms/step - loss: 0.8156 - val_loss: 0.8654\n",
            "Epoch 38/50\n",
            "37/37 [==============================] - 3s 72ms/step - loss: 0.8019 - val_loss: 0.8728\n",
            "Epoch 39/50\n",
            "37/37 [==============================] - 3s 73ms/step - loss: 0.8117 - val_loss: 0.8689\n",
            "Epoch 40/50\n",
            "37/37 [==============================] - 3s 74ms/step - loss: 0.8115 - val_loss: 0.8683\n",
            "Epoch 41/50\n",
            "37/37 [==============================] - 3s 72ms/step - loss: 0.8076 - val_loss: 0.8505\n",
            "Epoch 42/50\n",
            "37/37 [==============================] - 3s 72ms/step - loss: 0.7862 - val_loss: 0.8791\n",
            "Epoch 43/50\n",
            "37/37 [==============================] - 3s 74ms/step - loss: 0.7890 - val_loss: 0.8587\n",
            "Epoch 44/50\n",
            "37/37 [==============================] - 3s 73ms/step - loss: 0.7917 - val_loss: 0.8620\n",
            "Epoch 45/50\n",
            "37/37 [==============================] - 3s 72ms/step - loss: 0.7709 - val_loss: 0.8730\n",
            "Epoch 46/50\n",
            "37/37 [==============================] - 3s 72ms/step - loss: 0.7973 - val_loss: 0.8579\n",
            "Epoch 47/50\n",
            "37/37 [==============================] - 3s 74ms/step - loss: 0.7611 - val_loss: 0.8728\n",
            "Epoch 48/50\n",
            "37/37 [==============================] - 3s 72ms/step - loss: 0.7740 - val_loss: 0.8587\n",
            "Epoch 49/50\n",
            "37/37 [==============================] - 3s 73ms/step - loss: 0.7821 - val_loss: 0.8577\n",
            "Epoch 50/50\n",
            "37/37 [==============================] - 3s 73ms/step - loss: 0.7610 - val_loss: 0.8660\n"
          ],
          "name": "stdout"
        }
      ]
    },
    {
      "cell_type": "code",
      "metadata": {
        "id": "9EsEfx51klRv",
        "outputId": "09f83339-2449-44e4-ee58-2766fc6819f3",
        "colab": {
          "base_uri": "https://localhost:8080/",
          "height": 283
        }
      },
      "source": [
        "plotter(m_histories, ylim=[0.0, 2], metric = 'loss')"
      ],
      "execution_count": 237,
      "outputs": [
        {
          "output_type": "display_data",
          "data": {
            "image/png": "[encoded data removed]",
            "text/plain": [
              "<Figure size 432x288 with 1 Axes>"
            ]
          },
          "metadata": {
            "tags": [],
            "needs_background": "light"
          }
        }
      ]
    },
    {
      "cell_type": "markdown",
      "metadata": {
        "id": "190IQVmlRb06"
      },
      "source": [
        "**Evaluating on test data.**\n",
        "\n",
        "After training the model on training data we are going to predict the data mentioned in the test data set.\n",
        "But before that, we have preprocess the test data same as the training data."
      ]
    },
    {
      "cell_type": "code",
      "metadata": {
        "id": "oeDae0NKpDs9",
        "outputId": "42d329b6-a9cb-495d-f3c4-4b9abd5dcc4a",
        "colab": {
          "base_uri": "https://localhost:8080/",
          "height": 870
        }
      },
      "source": [
        "def preprocessing(data):\n",
        "   data = data[['Tweet','Stance','Target']]\n",
        "   data[\"Tweet\"] = data[\"Tweet\"] + \" \" +data[\"Target\"]\n",
        "   data['Tweet'] = data['Tweet'].apply(lambda x: x.lower()) \n",
        "   data['Tweet'] = data['Tweet'].apply(lambda x: con_to_ext(x))\n",
        "   data['Tweet'] = data['Tweet'].apply(lambda x: re.sub(r'([-a-zA-Z0-9._-]+@[-a-zA-Z0-9._-]+\\.[-a-zA-Z0-9_-]+)','',x))\n",
        "   data['Tweet'] = data['Tweet'].apply(lambda x: re.sub('[^A-Za-z0-9#@]+',' ',x))\n",
        "   data['Tweet'] = data['Tweet'].apply(lambda x: \" \".join(x.split()))\n",
        "   data['Tweet'] = data['Tweet'].apply(lambda x: remove_accent(x))\n",
        "   data['Tweet'] = data['Tweet'].apply(lambda x: \" \".join([t for t in x.split() if t not in STOP_WORDS]))\n",
        "   text = data['Tweet'].tolist()\n",
        "   return text\n",
        "\n",
        "text = preprocessing(testdata)"
      ],
      "execution_count": 238,
      "outputs": [
        {
          "output_type": "stream",
          "text": [
            "/usr/local/lib/python3.6/dist-packages/ipykernel_launcher.py:3: SettingWithCopyWarning: \n",
            "A value is trying to be set on a copy of a slice from a DataFrame.\n",
            "Try using .loc[row_indexer,col_indexer] = value instead\n",
            "\n",
            "See the caveats in the documentation: https://pandas.pydata.org/pandas-docs/stable/user_guide/indexing.html#returning-a-view-versus-a-copy\n",
            "  This is separate from the ipykernel package so we can avoid doing imports until\n",
            "/usr/local/lib/python3.6/dist-packages/ipykernel_launcher.py:4: SettingWithCopyWarning: \n",
            "A value is trying to be set on a copy of a slice from a DataFrame.\n",
            "Try using .loc[row_indexer,col_indexer] = value instead\n",
            "\n",
            "See the caveats in the documentation: https://pandas.pydata.org/pandas-docs/stable/user_guide/indexing.html#returning-a-view-versus-a-copy\n",
            "  after removing the cwd from sys.path.\n",
            "/usr/local/lib/python3.6/dist-packages/ipykernel_launcher.py:5: SettingWithCopyWarning: \n",
            "A value is trying to be set on a copy of a slice from a DataFrame.\n",
            "Try using .loc[row_indexer,col_indexer] = value instead\n",
            "\n",
            "See the caveats in the documentation: https://pandas.pydata.org/pandas-docs/stable/user_guide/indexing.html#returning-a-view-versus-a-copy\n",
            "  \"\"\"\n",
            "/usr/local/lib/python3.6/dist-packages/ipykernel_launcher.py:6: SettingWithCopyWarning: \n",
            "A value is trying to be set on a copy of a slice from a DataFrame.\n",
            "Try using .loc[row_indexer,col_indexer] = value instead\n",
            "\n",
            "See the caveats in the documentation: https://pandas.pydata.org/pandas-docs/stable/user_guide/indexing.html#returning-a-view-versus-a-copy\n",
            "  \n",
            "/usr/local/lib/python3.6/dist-packages/ipykernel_launcher.py:7: SettingWithCopyWarning: \n",
            "A value is trying to be set on a copy of a slice from a DataFrame.\n",
            "Try using .loc[row_indexer,col_indexer] = value instead\n",
            "\n",
            "See the caveats in the documentation: https://pandas.pydata.org/pandas-docs/stable/user_guide/indexing.html#returning-a-view-versus-a-copy\n",
            "  import sys\n",
            "/usr/local/lib/python3.6/dist-packages/ipykernel_launcher.py:8: SettingWithCopyWarning: \n",
            "A value is trying to be set on a copy of a slice from a DataFrame.\n",
            "Try using .loc[row_indexer,col_indexer] = value instead\n",
            "\n",
            "See the caveats in the documentation: https://pandas.pydata.org/pandas-docs/stable/user_guide/indexing.html#returning-a-view-versus-a-copy\n",
            "  \n",
            "/usr/local/lib/python3.6/dist-packages/ipykernel_launcher.py:9: SettingWithCopyWarning: \n",
            "A value is trying to be set on a copy of a slice from a DataFrame.\n",
            "Try using .loc[row_indexer,col_indexer] = value instead\n",
            "\n",
            "See the caveats in the documentation: https://pandas.pydata.org/pandas-docs/stable/user_guide/indexing.html#returning-a-view-versus-a-copy\n",
            "  if __name__ == '__main__':\n",
            "/usr/local/lib/python3.6/dist-packages/ipykernel_launcher.py:10: SettingWithCopyWarning: \n",
            "A value is trying to be set on a copy of a slice from a DataFrame.\n",
            "Try using .loc[row_indexer,col_indexer] = value instead\n",
            "\n",
            "See the caveats in the documentation: https://pandas.pydata.org/pandas-docs/stable/user_guide/indexing.html#returning-a-view-versus-a-copy\n",
            "  # Remove the CWD from sys.path while we load stuff.\n"
          ],
          "name": "stderr"
        }
      ]
    },
    {
      "cell_type": "code",
      "metadata": {
        "id": "cMStB_Bpyi05",
        "outputId": "fd56b1bf-4e91-437f-d5a3-ec395edbc6ad",
        "colab": {
          "base_uri": "https://localhost:8080/",
          "height": 34
        }
      },
      "source": [
        "y = testdata['Stance']\n",
        "y = pd.get_dummies(y).values\n",
        "y.shape"
      ],
      "execution_count": 239,
      "outputs": [
        {
          "output_type": "execute_result",
          "data": {
            "text/plain": [
              "(1249, 3)"
            ]
          },
          "metadata": {
            "tags": []
          },
          "execution_count": 239
        }
      ]
    },
    {
      "cell_type": "code",
      "metadata": {
        "id": "WoZVHlcczOjg"
      },
      "source": [
        "from keras.preprocessing.text import Tokenizer\n",
        "token = Tokenizer()\n",
        "token.fit_on_texts(text)\n",
        "encoded_text = token.texts_to_sequences(text)\n",
        "X = pad_sequences(encoded_text, maxlen=sentence_max_length)"
      ],
      "execution_count": 240,
      "outputs": []
    },
    {
      "cell_type": "code",
      "metadata": {
        "id": "Y_s2rLpfzpDu"
      },
      "source": [
        "y_pred_test = model1.predict_classes(X) "
      ],
      "execution_count": 241,
      "outputs": []
    },
    {
      "cell_type": "code",
      "metadata": {
        "id": "Ye1vhxBKzzjz",
        "outputId": "32decae8-6f8f-4c1e-8759-fe187edf01bf",
        "colab": {
          "base_uri": "https://localhost:8080/",
          "height": 34
        }
      },
      "source": [
        "from sklearn.metrics import f1_score\n",
        "y_true = np.argmax(y, axis= 1)\n",
        "\n",
        "f1_score_result = f1_score(y_true, y_pred_test,average='weighted')\n",
        "result_df.loc[len(result_df)] = ['Approach1_All_data_model', f1_score_result]\n",
        "f1_score_result"
      ],
      "execution_count": 266,
      "outputs": [
        {
          "output_type": "execute_result",
          "data": {
            "text/plain": [
              "0.4929876235139486"
            ]
          },
          "metadata": {
            "tags": []
          },
          "execution_count": 266
        }
      ]
    },
    {
      "cell_type": "markdown",
      "metadata": {
        "id": "EmcvYG6GaZAp"
      },
      "source": [
        "\n",
        "\n",
        "---\n",
        "\n",
        "# Approach 2 : Building separate model for each target value. i.e. 5 models for 5 different targets in training data\n",
        "\n",
        "\n",
        "\n",
        "In this approach, we split the whole dataset into 5 subsets each for one Target value and then construct model for each target to predict if the tweet is in FAVOR of that target or AGAINST that target or NONE."
      ]
    },
    {
      "cell_type": "code",
      "metadata": {
        "id": "NeMLkxwkXkZS"
      },
      "source": [
        "## We are dividing the whole training data into subsets according to the target subject value.\n",
        "\n",
        "traindata_HC = traindata[traindata['Target'] == \"Hillary Clinton\"]\n",
        "testdata_HC = testdata[testdata['Target'] == \"Hillary Clinton\"]\n",
        "traindata_AB = traindata[traindata['Target'] == \"Legalization of Abortion\"]\n",
        "testdata_AB = testdata[testdata['Target'] == \"Legalization of Abortion\"]\n",
        "traindata_AT = traindata[traindata['Target'] == \"Atheism\"]\n",
        "testdata_AT = testdata[testdata['Target'] == \"Atheism\"]\n",
        "traindata_CC = traindata[traindata['Target'] == \"Climate Change is a Real Concern\"]\n",
        "testdata_CC = testdata[testdata['Target'] == \"Climate Change is a Real Concern\"]\n",
        "traindata_FM = traindata[traindata['Target'] == \"Feminist Movement\"]\n",
        "testdata_FM = testdata[testdata['Target'] == \"Feminist Movement\"]"
      ],
      "execution_count": 243,
      "outputs": []
    },
    {
      "cell_type": "markdown",
      "metadata": {
        "id": "LYUy_g85O6Kf"
      },
      "source": [
        "From the Approach 1, we now knew the exact preprocessing steps required for the tweets. and hence we used minimum required steps of preprocessing on each subset of training data. \n",
        "\n",
        "We have created one method to preprocess the data provided. This preprocessing involves \n",
        "1. concatenating Tweet and Targets\n",
        "2. converting text into Lowercase\n",
        "3. removing some bad symbols like brackets and other alphanumeric characters except # and @\n",
        "4. We will apply this method on each dataset created above as a preprocessing data"
      ]
    },
    {
      "cell_type": "code",
      "metadata": {
        "id": "Xoz-Yq9tXksi"
      },
      "source": [
        "## We are doing some pre-processing steps prior modelling \n",
        "## 1. concatenating Tweet and Targets\n",
        "## 2. converting text into Lowercase\n",
        "## 3. removing some bad symbols like brackets and other alphanumeric characters except # and @\n",
        "## 4. We will apply this method on each dataset created above as a preprocessing data\n",
        "\n",
        "def TextPreprocessing(traindata):\n",
        "  traindata = traindata.reset_index(drop= True)\n",
        "  REPLACE_BY_SPACE_RE = re.compile('[/(){}\\[\\]\\|,;]')\n",
        "  BAD_SYMBOLS_RE = re.compile('[^a-z #@]')\n",
        "  Tweet_Lines = list()\n",
        "  Tweets = list()\n",
        "  tknzr = TweetTokenizer()\n",
        "\n",
        "  def clean_text(text):\n",
        "      text = text.lower() # lowercase text\n",
        "      text = REPLACE_BY_SPACE_RE.sub(' ', text) # replace REPLACE_BY_SPACE_RE symbols by space in text. substitute the matched string in REPLACE_BY_SPACE_RE with space.\n",
        "      text = BAD_SYMBOLS_RE.sub('', text) # remove symbols which are in BAD_SYMBOLS_RE from text. substitute the matched string in BAD_SYMBOLS_RE with nothing. \n",
        "      text = ''.join(word for word in text.split() if word not in stopwords.words()) # remove stopwords from text\n",
        "      return text\n",
        "\n",
        "  traindata['Tweet'] = traindata.Tweet + ' ' + traindata.Target\n",
        "  lines = traindata['Tweet'].values.tolist()\n",
        "  for line in lines:\n",
        "      tokens = tknzr.tokenize(line)\n",
        "      Tweet_Lines = list()\n",
        "      for token in tokens:\n",
        "        token = clean_text(token)\n",
        "        if token != '' :\n",
        "          Tweet_Lines.append(token)\n",
        "      Tweets.append(Tweet_Lines)\n",
        "          \n",
        "  return Tweets"
      ],
      "execution_count": 244,
      "outputs": []
    },
    {
      "cell_type": "code",
      "metadata": {
        "id": "Gx3Sag7uXkfU"
      },
      "source": [
        "Tweets_HC = TextPreprocessing(traindata_HC)\n",
        "Tweets_AB = TextPreprocessing(traindata_AB)\n",
        "Tweets_AT = TextPreprocessing(traindata_AT)\n",
        "Tweets_CC = TextPreprocessing(traindata_CC)\n",
        "Tweets_FM = TextPreprocessing(traindata_FM)\n",
        "\n",
        "Test_Tweets_HC = TextPreprocessing(testdata_HC)\n",
        "Test_Tweets_AB = TextPreprocessing(testdata_AB)\n",
        "Test_Tweets_AT = TextPreprocessing(testdata_AT)\n",
        "Test_Tweets_CC = TextPreprocessing(testdata_CC)\n",
        "Test_Tweets_FM = TextPreprocessing(testdata_FM)"
      ],
      "execution_count": 245,
      "outputs": []
    },
    {
      "cell_type": "markdown",
      "metadata": {
        "id": "P5nhHtkuPam7"
      },
      "source": [
        "We have to do similar tokenizing and padding task for each of the 5 datasets so we created a generic method which is used to do tokenization and padding.\n",
        "\n",
        "We have used 40 as a max length while padding. "
      ]
    },
    {
      "cell_type": "code",
      "metadata": {
        "id": "oKs7MVplfJW-"
      },
      "source": [
        "## Tokenizing and padding the Tweets data to make it suitable for further modelling.\n",
        "\n",
        "from tensorflow.python.keras.preprocessing.text import Tokenizer\n",
        "from tensorflow.python.keras.preprocessing.sequence import pad_sequences\n",
        "MAX_LENGTH = 40\n",
        "embedding_dim = 100\n",
        "\n",
        "def Padding(Tweets):  \n",
        "  tokenizer = Tokenizer()\n",
        "  tokenizer.fit_on_texts(Tweets)\n",
        "  word_index = tokenizer.word_index\n",
        "  print('Found %s unique tokens.' % len(word_index))\n",
        "\n",
        "  X = tokenizer.texts_to_sequences(Tweets)\n",
        "  X = pad_sequences(X, maxlen=MAX_LENGTH, padding= 'post')\n",
        "  print('Shape of data tensor:', X.shape)\n",
        "\n",
        "  return X, word_index"
      ],
      "execution_count": 246,
      "outputs": []
    },
    {
      "cell_type": "markdown",
      "metadata": {
        "id": "EKOncA-sP_iF"
      },
      "source": [
        "The next step is to split the data for training and validation. We have simply used train_test_split() function from sklearn to split the data with provided split size."
      ]
    },
    {
      "cell_type": "code",
      "metadata": {
        "id": "cLD2-gXytvLO"
      },
      "source": [
        "from sklearn.model_selection import train_test_split\n",
        "\n",
        "def split(X, Y, split_size):\n",
        "    X_train, X_Val, Y_train, Y_Val = train_test_split(X, Y, test_size= split_size, random_state = 42)\n",
        "    return X_train, X_Val, Y_train, Y_Val"
      ],
      "execution_count": 247,
      "outputs": []
    },
    {
      "cell_type": "code",
      "metadata": {
        "id": "11z4YpgTu160"
      },
      "source": [
        "def get_callbacks(name):\n",
        "  return [\n",
        "    tf.keras.callbacks.TensorBoard(logdir/name, histogram_freq=1),\n",
        "  ]"
      ],
      "execution_count": 248,
      "outputs": []
    },
    {
      "cell_type": "markdown",
      "metadata": {
        "id": "eWsGX69fQTjF"
      },
      "source": [
        "**Baseline Model**\n",
        "\n",
        "In the next code cell, we created a baseline model with Transfer Learning layer. \n",
        "\n",
        "The model architechture is like encoded input is fed to the Glove pretrained vector to create an Embedding Layer weights. We create an Embedding Layer with the weights generated above and it is our first layer of the model. Output of this layer is given to the LSTM layer with 32 memory units which has dropout rate of 0.5 and recurrent_dropout rate of 0.25. Output of this layer is again passed through the dropout layer of 0.6 value. The output of this dropout layer is fed to the ReLU dense layer of 64 unit for the non-linear activation. This output is again passed though the dropuout layer of 0.6 value and finally fed to the Softmax activation layer with 3 output units which predict the Stance as either 'FAVOR', 'AGAINST' or 'NONE'.\n",
        "\n",
        "We are using 'categorical_crossentropy' as a error metric and 'Categorical_Accuracy' as a performance metric while compiling the model. We have used basic 'adam' optimizer for the training purpose.\n",
        "\n",
        "Here we are checking the model with and without transfer learning for each of 5 target related models hence we have created a method which will construct a model as per the provided embedding layer."
      ]
    },
    {
      "cell_type": "code",
      "metadata": {
        "id": "nbVybWPDu3f5"
      },
      "source": [
        "from tensorflow.keras.layers import Dense, Embedding, GRU, LSTM, Bidirectional, Dropout\n",
        "from tensorflow.keras.models import Sequential\n",
        "from tensorflow.keras import regularizers, optimizers\n",
        "\n",
        "def create_model(embedding_layer):\n",
        "\n",
        "  model_glove = Sequential()\n",
        "  model_glove.add(embedding_layer)\n",
        "  model_glove.add(LSTM(units=32, dropout= 0.5, recurrent_dropout= 0.25, kernel_regularizer=regularizers.l2(0.001)))\n",
        "  #model_glove.add(tf.keras.layers.Bidirectional(tf.keras.layers.LSTM(32, recurrent_dropout= 0.25)))\n",
        "  #model_glove.add(LSTM(units=64, kernel_regularizer=regularizers.l2(0.01)))\n",
        "  model_glove.add(Dropout(0.4))\n",
        "  model_glove.add(Dense(64, activation='relu'))\n",
        "  model_glove.add(Dropout(0.3))\n",
        "  model_glove.add(Dense(3, activation='softmax'))\n",
        "\n",
        "  #opt= tf.keras.optimizers.SGD(learning_rate= 0.015, momentum= 0.9)\n",
        "  model_glove.compile(loss='categorical_crossentropy', optimizer='adam')\n",
        "\n",
        "  return model_glove  "
      ],
      "execution_count": 249,
      "outputs": []
    },
    {
      "cell_type": "markdown",
      "metadata": {
        "id": "EJlSroDPuctp"
      },
      "source": [
        "**Word Embedding and Transfer Learning**\n",
        "\n",
        "As we can see from the above that we have very small dataset only with 2914 data points of 5 target values. We can see from above exploration that the data also has class imbalance problem so we are using a pretrained vector weights to use better representation of the vocabulary we have in our data set. \n",
        "\n",
        "We are using Glove Twitter 100 dimensional pretrained vector present on https://nlp.stanford.edu/projects/glove/\n",
        "\n",
        "This pretrained vector is present in various dimentions as 50d, 100d and 200d but we are simply using 100d vector for our task.\n",
        "we make a glove vector dictionary to save all the words from pretrained vector file."
      ]
    },
    {
      "cell_type": "code",
      "metadata": {
        "id": "s-rz1hPOuWuF"
      },
      "source": [
        "#file = open('/content/drive/My Drive/Colab Notebooks/TweetsDataset/glove.twitter.27B.100d.txt', encoding='utf-8')\n",
        "file = open('/content/drive/My Drive/ColabNotebooks/DeepLearningLabs/Assignment2/glove.twitter.27B.100d.txt', encoding='utf-8')\n",
        "glove_vectors = dict()\n",
        "for line in file:\n",
        "  values = line.split()\n",
        "  word = values[0]\n",
        "  features = np.asarray(values[1:])\n",
        "  glove_vectors[word] = features\n",
        "\n",
        "file.close()"
      ],
      "execution_count": 250,
      "outputs": []
    },
    {
      "cell_type": "markdown",
      "metadata": {
        "id": "Xh2kj1jcsSBM"
      },
      "source": [
        "# **1. modelling for tweets related to Target : Hillary Clinton**"
      ]
    },
    {
      "cell_type": "markdown",
      "metadata": {
        "id": "ElHeoAt3RK1x"
      },
      "source": [
        "First we check the preprocessed tweet data for target Hillary Clinton"
      ]
    },
    {
      "cell_type": "code",
      "metadata": {
        "id": "hbUZD-AE0JAI",
        "outputId": "5592b443-cb73-4557-adc9-556d9bf622b0",
        "colab": {
          "base_uri": "https://localhost:8080/",
          "height": 0
        }
      },
      "source": [
        "Tweets_HC[:1]"
      ],
      "execution_count": 268,
      "outputs": [
        {
          "output_type": "execute_result",
          "data": {
            "text/plain": [
              "[['@tedcruz',\n",
              "  '#handovertheserver',\n",
              "  'wiped',\n",
              "  'clean',\n",
              "  'deleted',\n",
              "  'emails',\n",
              "  'explains',\n",
              "  'dereliction',\n",
              "  'duty',\n",
              "  'lies',\n",
              "  '#benghazi',\n",
              "  'etc',\n",
              "  '#tcot',\n",
              "  'hillary',\n",
              "  'clinton']]"
            ]
          },
          "metadata": {
            "tags": []
          },
          "execution_count": 268
        }
      ]
    },
    {
      "cell_type": "markdown",
      "metadata": {
        "id": "jxRy1JBoRScS"
      },
      "source": [
        "The next step is to call method padding which will tokenize the tweets and pad them with max length of 40."
      ]
    },
    {
      "cell_type": "code",
      "metadata": {
        "id": "WXrlCw2QfJPm",
        "outputId": "472952fd-8537-4269-e1d9-1d6d38ff005c",
        "colab": {
          "base_uri": "https://localhost:8080/",
          "height": 0
        }
      },
      "source": [
        "X, word_index = Padding(Tweets_HC)\n",
        "Y = pd.get_dummies(traindata_HC['Stance']).values\n",
        "print('Shape of label tensor:', Y.shape)"
      ],
      "execution_count": 269,
      "outputs": [
        {
          "output_type": "stream",
          "text": [
            "Found 2966 unique tokens.\n",
            "Shape of data tensor: (689, 40)\n",
            "Shape of label tensor: (689, 3)\n"
          ],
          "name": "stdout"
        }
      ]
    },
    {
      "cell_type": "markdown",
      "metadata": {
        "id": "x275qrnrjtXA"
      },
      "source": [
        "The next step is to split the above data into training and validation. We are using above mentioned split() method by passing 0.2 as a split size which means 20% of the data is reserved for validation and remaining 80% data is used for training the model."
      ]
    },
    {
      "cell_type": "code",
      "metadata": {
        "id": "qiT6k6-ZDvJf",
        "outputId": "0520d3d9-3332-461b-8425-ff34a8300d5d",
        "colab": {
          "base_uri": "https://localhost:8080/",
          "height": 0
        }
      },
      "source": [
        "X_train, X_Val, Y_train, Y_Val = split(X, Y, 0.2)\n",
        "print(\"X train shape: \", X_train.shape)\n",
        "print(\"Y train shape: \", Y_train.shape)\n",
        "print(\"X Val shape: \", X_Val.shape)\n",
        "print(\"Y Val shape: \", Y_Val.shape)"
      ],
      "execution_count": 270,
      "outputs": [
        {
          "output_type": "stream",
          "text": [
            "X train shape:  (551, 40)\n",
            "Y train shape:  (551, 3)\n",
            "X Val shape:  (138, 40)\n",
            "Y Val shape:  (138, 3)\n"
          ],
          "name": "stdout"
        }
      ]
    },
    {
      "cell_type": "markdown",
      "metadata": {
        "id": "gDYjJn7mv5W6"
      },
      "source": [
        "**Model without Transfer Learning**\n",
        "\n",
        "First we try to model without transfer learning.\n"
      ]
    },
    {
      "cell_type": "code",
      "metadata": {
        "id": "hirEyLi6wUZ6",
        "outputId": "a8713a09-bd8d-4d2b-c1df-fa49a7deba6e",
        "colab": {
          "base_uri": "https://localhost:8080/",
          "height": 0
        }
      },
      "source": [
        "embedding_layer = Embedding(len(word_index)+1,\n",
        "                                   embedding_dim,\n",
        "                                   input_length=MAX_LENGTH,\n",
        "                                   trainable=True)\n",
        "model2 = create_model(embedding_layer)\n",
        "print(model2.summary())"
      ],
      "execution_count": 271,
      "outputs": [
        {
          "output_type": "stream",
          "text": [
            "Model: \"sequential_16\"\n",
            "_________________________________________________________________\n",
            "Layer (type)                 Output Shape              Param #   \n",
            "=================================================================\n",
            "embedding_16 (Embedding)     (None, 40, 100)           296700    \n",
            "_________________________________________________________________\n",
            "lstm_16 (LSTM)               (None, 32)                17024     \n",
            "_________________________________________________________________\n",
            "dropout_32 (Dropout)         (None, 32)                0         \n",
            "_________________________________________________________________\n",
            "dense_32 (Dense)             (None, 64)                2112      \n",
            "_________________________________________________________________\n",
            "dropout_33 (Dropout)         (None, 64)                0         \n",
            "_________________________________________________________________\n",
            "dense_33 (Dense)             (None, 3)                 195       \n",
            "=================================================================\n",
            "Total params: 316,031\n",
            "Trainable params: 316,031\n",
            "Non-trainable params: 0\n",
            "_________________________________________________________________\n",
            "None\n"
          ],
          "name": "stdout"
        }
      ]
    },
    {
      "cell_type": "markdown",
      "metadata": {
        "id": "aWMm66YgkzHT"
      },
      "source": [
        "As we have less amount of data available for training, we are using K-fold cross validation technique to train our model for 20 epochs in each of the 3 folds.\n",
        "The batch size is set to 32 and we trained the data for 20 epochs and 3 folds.\n",
        "\n",
        "To check the learning curve of the training and validation we plot the grphs using plotter function mentioned above."
      ]
    },
    {
      "cell_type": "code",
      "metadata": {
        "id": "AQq9_JExwxag",
        "outputId": "8fdb86e8-eac0-461b-aca9-ed2e9dcc2a14",
        "colab": {
          "base_uri": "https://localhost:8080/",
          "height": 0
        }
      },
      "source": [
        "from sklearn.model_selection import KFold\n",
        "num_folds = 3\n",
        "input = np.concatenate((X_train, X_Val), axis= 0)\n",
        "target = np.concatenate((Y_train, Y_Val), axis= 0)\n",
        "\n",
        "kfold = KFold(n_splits=num_folds, shuffle=True)\n",
        "K = 1\n",
        "for train, test in kfold.split(input, target):\n",
        "    print(\"fold number: \", K)\n",
        "    m_histories = {}\n",
        "    m_histories['with_TL'] = model2.fit(input[train], target[train], batch_size=32, epochs=20, validation_data=(input[test], target[test]), callbacks=get_callbacks('models/with_TL'), verbose=1)\n",
        "    K = K+1"
      ],
      "execution_count": 272,
      "outputs": [
        {
          "output_type": "stream",
          "text": [
            "fold number:  1\n",
            "Epoch 1/20\n",
            " 2/15 [===>..........................] - ETA: 4s - loss: 1.1955WARNING:tensorflow:Callbacks method `on_train_batch_end` is slow compared to the batch time (batch time: 0.0703s vs `on_train_batch_end` time: 0.5754s). Check your callbacks.\n",
            "15/15 [==============================] - 2s 120ms/step - loss: 1.1546 - val_loss: 1.0937\n",
            "Epoch 2/20\n",
            "15/15 [==============================] - 1s 59ms/step - loss: 1.0801 - val_loss: 1.0722\n",
            "Epoch 3/20\n",
            "15/15 [==============================] - 1s 58ms/step - loss: 1.0341 - val_loss: 1.0538\n",
            "Epoch 4/20\n",
            "15/15 [==============================] - 1s 58ms/step - loss: 1.0301 - val_loss: 1.0454\n",
            "Epoch 5/20\n",
            "15/15 [==============================] - 1s 61ms/step - loss: 1.0086 - val_loss: 1.0350\n",
            "Epoch 6/20\n",
            "15/15 [==============================] - 1s 65ms/step - loss: 1.0246 - val_loss: 1.0291\n",
            "Epoch 7/20\n",
            "15/15 [==============================] - 1s 85ms/step - loss: 1.0015 - val_loss: 1.0266\n",
            "Epoch 8/20\n",
            "15/15 [==============================] - 1s 90ms/step - loss: 1.0243 - val_loss: 1.0191\n",
            "Epoch 9/20\n",
            "15/15 [==============================] - 1s 94ms/step - loss: 0.9920 - val_loss: 1.0161\n",
            "Epoch 10/20\n",
            "15/15 [==============================] - 1s 85ms/step - loss: 0.9995 - val_loss: 1.0129\n",
            "Epoch 11/20\n",
            "15/15 [==============================] - 1s 94ms/step - loss: 0.9912 - val_loss: 1.0100\n",
            "Epoch 12/20\n",
            "15/15 [==============================] - 1s 62ms/step - loss: 0.9981 - val_loss: 1.0084\n",
            "Epoch 13/20\n",
            "15/15 [==============================] - 1s 62ms/step - loss: 0.9791 - val_loss: 1.0099\n",
            "Epoch 14/20\n",
            "15/15 [==============================] - 1s 58ms/step - loss: 0.9814 - val_loss: 1.0090\n",
            "Epoch 15/20\n",
            "15/15 [==============================] - 1s 62ms/step - loss: 0.9904 - val_loss: 1.0036\n",
            "Epoch 16/20\n",
            "15/15 [==============================] - 1s 59ms/step - loss: 0.9849 - val_loss: 1.0052\n",
            "Epoch 17/20\n",
            "15/15 [==============================] - 1s 59ms/step - loss: 0.9802 - val_loss: 1.0032\n",
            "Epoch 18/20\n",
            "15/15 [==============================] - 1s 60ms/step - loss: 0.9821 - val_loss: 1.0051\n",
            "Epoch 19/20\n",
            "15/15 [==============================] - 1s 60ms/step - loss: 0.9868 - val_loss: 1.0023\n",
            "Epoch 20/20\n",
            "15/15 [==============================] - 1s 61ms/step - loss: 0.9770 - val_loss: 1.0027\n",
            "fold number:  2\n",
            "Epoch 1/20\n",
            "15/15 [==============================] - 1s 69ms/step - loss: 0.9893 - val_loss: 0.9666\n",
            "Epoch 2/20\n",
            "15/15 [==============================] - 1s 60ms/step - loss: 0.9936 - val_loss: 0.9671\n",
            "Epoch 3/20\n",
            "15/15 [==============================] - 1s 61ms/step - loss: 0.9924 - val_loss: 0.9683\n",
            "Epoch 4/20\n",
            "15/15 [==============================] - 1s 61ms/step - loss: 0.9970 - val_loss: 0.9686\n",
            "Epoch 5/20\n",
            "15/15 [==============================] - 1s 62ms/step - loss: 0.9937 - val_loss: 0.9657\n",
            "Epoch 6/20\n",
            "15/15 [==============================] - 1s 61ms/step - loss: 0.9888 - val_loss: 0.9596\n",
            "Epoch 7/20\n",
            "15/15 [==============================] - 1s 62ms/step - loss: 0.9572 - val_loss: 0.8276\n",
            "Epoch 8/20\n",
            "15/15 [==============================] - 1s 78ms/step - loss: 0.6604 - val_loss: 0.6392\n",
            "Epoch 9/20\n",
            "15/15 [==============================] - 1s 84ms/step - loss: 0.5596 - val_loss: 0.7503\n",
            "Epoch 10/20\n",
            "15/15 [==============================] - 1s 80ms/step - loss: 0.5002 - val_loss: 0.7077\n",
            "Epoch 11/20\n",
            "15/15 [==============================] - 1s 68ms/step - loss: 0.4588 - val_loss: 0.7993\n",
            "Epoch 12/20\n",
            "15/15 [==============================] - 1s 76ms/step - loss: 0.6061 - val_loss: 1.0926\n",
            "Epoch 13/20\n",
            "15/15 [==============================] - 1s 69ms/step - loss: 0.4700 - val_loss: 0.7499\n",
            "Epoch 14/20\n",
            "15/15 [==============================] - 1s 86ms/step - loss: 0.4720 - val_loss: 0.8170\n",
            "Epoch 15/20\n",
            "15/15 [==============================] - 1s 80ms/step - loss: 0.4664 - val_loss: 1.2481\n",
            "Epoch 16/20\n",
            "15/15 [==============================] - 1s 68ms/step - loss: 0.5499 - val_loss: 0.9554\n",
            "Epoch 17/20\n",
            "15/15 [==============================] - 1s 62ms/step - loss: 0.4660 - val_loss: 0.9000\n",
            "Epoch 18/20\n",
            "15/15 [==============================] - 1s 73ms/step - loss: 0.4950 - val_loss: 0.9722\n",
            "Epoch 19/20\n",
            "15/15 [==============================] - 1s 75ms/step - loss: 0.4761 - val_loss: 0.9528\n",
            "Epoch 20/20\n",
            "15/15 [==============================] - 1s 74ms/step - loss: 0.4721 - val_loss: 0.9300\n",
            "fold number:  3\n",
            "Epoch 1/20\n",
            "15/15 [==============================] - 1s 77ms/step - loss: 0.6742 - val_loss: 0.4660\n",
            "Epoch 2/20\n",
            "15/15 [==============================] - 1s 73ms/step - loss: 0.7358 - val_loss: 0.4369\n",
            "Epoch 3/20\n",
            "15/15 [==============================] - 1s 71ms/step - loss: 0.6809 - val_loss: 0.4487\n",
            "Epoch 4/20\n",
            "15/15 [==============================] - 1s 72ms/step - loss: 0.6534 - val_loss: 0.4691\n",
            "Epoch 5/20\n",
            "15/15 [==============================] - 1s 75ms/step - loss: 0.5938 - val_loss: 0.4659\n",
            "Epoch 6/20\n",
            "15/15 [==============================] - 1s 76ms/step - loss: 0.6200 - val_loss: 0.4555\n",
            "Epoch 7/20\n",
            "15/15 [==============================] - 1s 63ms/step - loss: 0.5990 - val_loss: 0.4497\n",
            "Epoch 8/20\n",
            "15/15 [==============================] - 1s 61ms/step - loss: 0.5731 - val_loss: 0.4462\n",
            "Epoch 9/20\n",
            "15/15 [==============================] - 1s 60ms/step - loss: 0.5504 - val_loss: 0.4301\n",
            "Epoch 10/20\n",
            "15/15 [==============================] - 1s 59ms/step - loss: 0.5395 - val_loss: 0.4211\n",
            "Epoch 11/20\n",
            "15/15 [==============================] - 1s 60ms/step - loss: 0.5403 - val_loss: 0.4249\n",
            "Epoch 12/20\n",
            "15/15 [==============================] - 1s 61ms/step - loss: 0.5138 - val_loss: 0.4230\n",
            "Epoch 13/20\n",
            "15/15 [==============================] - 1s 61ms/step - loss: 0.5309 - val_loss: 0.4193\n",
            "Epoch 14/20\n",
            "15/15 [==============================] - 1s 64ms/step - loss: 0.5152 - val_loss: 0.4186\n",
            "Epoch 15/20\n",
            "15/15 [==============================] - 1s 61ms/step - loss: 0.4931 - val_loss: 0.4129\n",
            "Epoch 16/20\n",
            "15/15 [==============================] - 1s 58ms/step - loss: 0.4578 - val_loss: 0.4058\n",
            "Epoch 17/20\n",
            "15/15 [==============================] - 1s 62ms/step - loss: 0.4839 - val_loss: 0.4096\n",
            "Epoch 18/20\n",
            "15/15 [==============================] - 1s 60ms/step - loss: 0.4444 - val_loss: 0.4090\n",
            "Epoch 19/20\n",
            "15/15 [==============================] - 1s 62ms/step - loss: 0.4492 - val_loss: 0.4132\n",
            "Epoch 20/20\n",
            "15/15 [==============================] - 1s 60ms/step - loss: 0.4441 - val_loss: 0.4071\n"
          ],
          "name": "stdout"
        }
      ]
    },
    {
      "cell_type": "markdown",
      "metadata": {
        "id": "SD5NMWk0lOWL"
      },
      "source": [
        "We tried to plot learning curves for both validation and training data on Catergorical Crossentropy.\n"
      ]
    },
    {
      "cell_type": "code",
      "metadata": {
        "id": "0ObT2XJfxELR",
        "outputId": "f535f04a-337f-4ec6-eecc-9e6f0764312a",
        "colab": {
          "base_uri": "https://localhost:8080/",
          "height": 0
        }
      },
      "source": [
        "plotter(m_histories, ylim=[0.0, 2], metric = 'loss')"
      ],
      "execution_count": 273,
      "outputs": [
        {
          "output_type": "display_data",
          "data": {
            "image/png": "[encoded data removed]",
            "text/plain": [
              "<Figure size 432x288 with 1 Axes>"
            ]
          },
          "metadata": {
            "tags": [],
            "needs_background": "light"
          }
        }
      ]
    },
    {
      "cell_type": "code",
      "metadata": {
        "id": "sUvG0BXKM3ch",
        "outputId": "7f5a75e1-dc14-4ee1-9f0d-53646e2da1dc",
        "colab": {
          "base_uri": "https://localhost:8080/",
          "height": 0
        }
      },
      "source": [
        "X_test, test_word_index = Padding(Test_Tweets_HC)\n",
        "Y_true = pd.get_dummies(testdata_HC['Stance']).values\n",
        "print('Shape of label tensor:', Y_true.shape)"
      ],
      "execution_count": 274,
      "outputs": [
        {
          "output_type": "stream",
          "text": [
            "Found 1600 unique tokens.\n",
            "Shape of data tensor: (295, 40)\n",
            "Shape of label tensor: (295, 3)\n"
          ],
          "name": "stdout"
        }
      ]
    },
    {
      "cell_type": "code",
      "metadata": {
        "id": "pVJAH2oeM3IV",
        "outputId": "d5850634-9b6f-428c-b852-8f31b15ede57",
        "colab": {
          "base_uri": "https://localhost:8080/",
          "height": 0
        }
      },
      "source": [
        "from sklearn.metrics import f1_score\n",
        "\n",
        "Y_pred = model2.predict_classes(X_test)\n",
        "\n",
        "Y_true = np.argmax(Y_true, axis= 1)\n",
        "\n",
        "f1_score_result = f1_score(Y_true, Y_pred,labels = [0,1], average='micro')\n",
        "result_df.loc[len(result_df)] = ['Approach2_HC_WTF', f1_score_result]\n",
        "f1_score_result"
      ],
      "execution_count": 275,
      "outputs": [
        {
          "output_type": "execute_result",
          "data": {
            "text/plain": [
              "0.5317073170731706"
            ]
          },
          "metadata": {
            "tags": []
          },
          "execution_count": 275
        }
      ]
    },
    {
      "cell_type": "markdown",
      "metadata": {
        "id": "f5dx-eGBl3mr"
      },
      "source": [
        "**Model with Transfer Learning**\n",
        "\n",
        "we try to model with transfer learning."
      ]
    },
    {
      "cell_type": "code",
      "metadata": {
        "id": "j_u1IEZrmSlg",
        "outputId": "bf4e8d22-b346-43e5-d0ee-1265a34a4797",
        "colab": {
          "base_uri": "https://localhost:8080/",
          "height": 0
        }
      },
      "source": [
        "E_T = np.zeros((len(word_index)+1, embedding_dim))\n",
        "for word, i in word_index.items():\n",
        "    embedding_vector = glove_vectors.get(word)\n",
        "    if embedding_vector is not None:  \n",
        "        E_T[i] = embedding_vector\n",
        "\n",
        "E_T.size"
      ],
      "execution_count": 276,
      "outputs": [
        {
          "output_type": "execute_result",
          "data": {
            "text/plain": [
              "296700"
            ]
          },
          "metadata": {
            "tags": []
          },
          "execution_count": 276
        }
      ]
    },
    {
      "cell_type": "code",
      "metadata": {
        "id": "tYFvAnzHydbj",
        "outputId": "27bbc6bd-2cfb-4179-cec4-63906d1a07a3",
        "colab": {
          "base_uri": "https://localhost:8080/",
          "height": 0
        }
      },
      "source": [
        "embedding_layer_TL = Embedding(len(word_index)+1,\n",
        "                                embedding_dim,\n",
        "                                weights=[E_T],\n",
        "                                input_length=MAX_LENGTH,\n",
        "                                trainable=False)\n",
        "model2 = create_model(embedding_layer_TL)\n",
        "print(model2.summary())"
      ],
      "execution_count": 277,
      "outputs": [
        {
          "output_type": "stream",
          "text": [
            "Model: \"sequential_17\"\n",
            "_________________________________________________________________\n",
            "Layer (type)                 Output Shape              Param #   \n",
            "=================================================================\n",
            "embedding_17 (Embedding)     (None, 40, 100)           296700    \n",
            "_________________________________________________________________\n",
            "lstm_17 (LSTM)               (None, 32)                17024     \n",
            "_________________________________________________________________\n",
            "dropout_34 (Dropout)         (None, 32)                0         \n",
            "_________________________________________________________________\n",
            "dense_34 (Dense)             (None, 64)                2112      \n",
            "_________________________________________________________________\n",
            "dropout_35 (Dropout)         (None, 64)                0         \n",
            "_________________________________________________________________\n",
            "dense_35 (Dense)             (None, 3)                 195       \n",
            "=================================================================\n",
            "Total params: 316,031\n",
            "Trainable params: 19,331\n",
            "Non-trainable params: 296,700\n",
            "_________________________________________________________________\n",
            "None\n"
          ],
          "name": "stdout"
        }
      ]
    },
    {
      "cell_type": "code",
      "metadata": {
        "id": "48l4e_FTyxVr",
        "outputId": "a25d9570-ad70-404f-953a-4008fe80ec22",
        "colab": {
          "base_uri": "https://localhost:8080/",
          "height": 0
        }
      },
      "source": [
        "m_histories['with_TL'] = model2.fit(X_train, Y_train, batch_size=32, epochs=50, validation_data=(X_Val, Y_Val), callbacks=get_callbacks('models/with_TL'), verbose=1)   "
      ],
      "execution_count": 278,
      "outputs": [
        {
          "output_type": "stream",
          "text": [
            "Epoch 1/50\n",
            " 2/18 [==>...........................] - ETA: 4s - loss: 1.2104WARNING:tensorflow:Callbacks method `on_train_batch_end` is slow compared to the batch time (batch time: 0.0545s vs `on_train_batch_end` time: 0.4752s). Check your callbacks.\n",
            "18/18 [==============================] - 2s 94ms/step - loss: 1.1714 - val_loss: 1.1139\n",
            "Epoch 2/50\n",
            "18/18 [==============================] - 1s 48ms/step - loss: 1.0719 - val_loss: 1.0478\n",
            "Epoch 3/50\n",
            "18/18 [==============================] - 1s 47ms/step - loss: 1.0306 - val_loss: 1.0259\n",
            "Epoch 4/50\n",
            "18/18 [==============================] - 1s 48ms/step - loss: 1.0141 - val_loss: 1.0154\n",
            "Epoch 5/50\n",
            "18/18 [==============================] - 1s 47ms/step - loss: 0.9993 - val_loss: 1.0021\n",
            "Epoch 6/50\n",
            "18/18 [==============================] - 1s 47ms/step - loss: 0.9998 - val_loss: 0.9981\n",
            "Epoch 7/50\n",
            "18/18 [==============================] - 1s 47ms/step - loss: 0.9832 - val_loss: 0.9900\n",
            "Epoch 8/50\n",
            "18/18 [==============================] - 1s 48ms/step - loss: 0.9700 - val_loss: 0.9819\n",
            "Epoch 9/50\n",
            "18/18 [==============================] - 1s 47ms/step - loss: 0.9557 - val_loss: 0.9542\n",
            "Epoch 10/50\n",
            "18/18 [==============================] - 1s 48ms/step - loss: 0.9449 - val_loss: 0.9419\n",
            "Epoch 11/50\n",
            "18/18 [==============================] - 1s 47ms/step - loss: 0.9303 - val_loss: 0.9389\n",
            "Epoch 12/50\n",
            "18/18 [==============================] - 1s 49ms/step - loss: 0.9284 - val_loss: 0.9434\n",
            "Epoch 13/50\n",
            "18/18 [==============================] - 1s 49ms/step - loss: 0.8851 - val_loss: 0.9601\n",
            "Epoch 14/50\n",
            "18/18 [==============================] - 1s 48ms/step - loss: 0.9126 - val_loss: 1.0036\n",
            "Epoch 15/50\n",
            "18/18 [==============================] - 1s 49ms/step - loss: 0.9282 - val_loss: 0.9440\n",
            "Epoch 16/50\n",
            "18/18 [==============================] - 1s 49ms/step - loss: 0.8959 - val_loss: 0.9575\n",
            "Epoch 17/50\n",
            "18/18 [==============================] - 1s 49ms/step - loss: 0.8811 - val_loss: 0.9404\n",
            "Epoch 18/50\n",
            "18/18 [==============================] - 1s 46ms/step - loss: 0.8871 - val_loss: 0.9670\n",
            "Epoch 19/50\n",
            "18/18 [==============================] - 1s 46ms/step - loss: 0.8699 - val_loss: 0.9569\n",
            "Epoch 20/50\n",
            "18/18 [==============================] - 1s 48ms/step - loss: 0.8558 - val_loss: 0.9555\n",
            "Epoch 21/50\n",
            "18/18 [==============================] - 1s 50ms/step - loss: 0.8906 - val_loss: 0.9750\n",
            "Epoch 22/50\n",
            "18/18 [==============================] - 1s 48ms/step - loss: 0.8641 - val_loss: 0.9159\n",
            "Epoch 23/50\n",
            "18/18 [==============================] - 1s 48ms/step - loss: 0.8721 - val_loss: 0.9742\n",
            "Epoch 24/50\n",
            "18/18 [==============================] - 1s 48ms/step - loss: 0.8558 - val_loss: 0.9441\n",
            "Epoch 25/50\n",
            "18/18 [==============================] - 1s 48ms/step - loss: 0.8584 - val_loss: 1.0096\n",
            "Epoch 26/50\n",
            "18/18 [==============================] - 1s 49ms/step - loss: 0.8326 - val_loss: 0.9289\n",
            "Epoch 27/50\n",
            "18/18 [==============================] - 1s 48ms/step - loss: 0.8491 - val_loss: 0.9367\n",
            "Epoch 28/50\n",
            "18/18 [==============================] - 1s 50ms/step - loss: 0.8519 - val_loss: 0.9283\n",
            "Epoch 29/50\n",
            "18/18 [==============================] - 1s 47ms/step - loss: 0.8582 - val_loss: 0.9656\n",
            "Epoch 30/50\n",
            "18/18 [==============================] - 1s 47ms/step - loss: 0.8341 - val_loss: 0.9453\n",
            "Epoch 31/50\n",
            "18/18 [==============================] - 1s 50ms/step - loss: 0.8370 - val_loss: 0.9417\n",
            "Epoch 32/50\n",
            "18/18 [==============================] - 1s 51ms/step - loss: 0.8490 - val_loss: 0.9475\n",
            "Epoch 33/50\n",
            "18/18 [==============================] - 1s 48ms/step - loss: 0.8384 - val_loss: 0.9365\n",
            "Epoch 34/50\n",
            "18/18 [==============================] - 1s 49ms/step - loss: 0.8337 - val_loss: 0.9468\n",
            "Epoch 35/50\n",
            "18/18 [==============================] - 1s 50ms/step - loss: 0.8331 - val_loss: 0.9580\n",
            "Epoch 36/50\n",
            "18/18 [==============================] - 1s 48ms/step - loss: 0.8361 - val_loss: 0.9993\n",
            "Epoch 37/50\n",
            "18/18 [==============================] - 1s 50ms/step - loss: 0.8218 - val_loss: 0.9790\n",
            "Epoch 38/50\n",
            "18/18 [==============================] - 1s 48ms/step - loss: 0.8247 - val_loss: 0.9625\n",
            "Epoch 39/50\n",
            "18/18 [==============================] - 1s 48ms/step - loss: 0.8122 - val_loss: 0.9761\n",
            "Epoch 40/50\n",
            "18/18 [==============================] - 1s 48ms/step - loss: 0.8225 - val_loss: 0.9628\n",
            "Epoch 41/50\n",
            "18/18 [==============================] - 1s 47ms/step - loss: 0.8151 - val_loss: 0.9523\n",
            "Epoch 42/50\n",
            "18/18 [==============================] - 1s 48ms/step - loss: 0.8094 - val_loss: 0.9372\n",
            "Epoch 43/50\n",
            "18/18 [==============================] - 1s 50ms/step - loss: 0.8208 - val_loss: 1.0028\n",
            "Epoch 44/50\n",
            "18/18 [==============================] - 1s 47ms/step - loss: 0.8163 - val_loss: 0.9436\n",
            "Epoch 45/50\n",
            "18/18 [==============================] - 1s 49ms/step - loss: 0.8220 - val_loss: 1.0156\n",
            "Epoch 46/50\n",
            "18/18 [==============================] - 1s 49ms/step - loss: 0.8016 - val_loss: 0.9524\n",
            "Epoch 47/50\n",
            "18/18 [==============================] - 1s 48ms/step - loss: 0.7930 - val_loss: 0.9425\n",
            "Epoch 48/50\n",
            "18/18 [==============================] - 1s 47ms/step - loss: 0.7769 - val_loss: 1.0184\n",
            "Epoch 49/50\n",
            "18/18 [==============================] - 1s 52ms/step - loss: 0.8066 - val_loss: 0.9427\n",
            "Epoch 50/50\n",
            "18/18 [==============================] - 1s 49ms/step - loss: 0.7743 - val_loss: 0.9671\n"
          ],
          "name": "stdout"
        }
      ]
    },
    {
      "cell_type": "code",
      "metadata": {
        "id": "08-b6AZBy9lr",
        "outputId": "ae455cf8-3067-4ab5-d32b-40cd9e19c1c2",
        "colab": {
          "base_uri": "https://localhost:8080/",
          "height": 0
        }
      },
      "source": [
        "plotter(m_histories, ylim=[0.0, 2], metric = 'loss')"
      ],
      "execution_count": 279,
      "outputs": [
        {
          "output_type": "display_data",
          "data": {
            "image/png": "[encoded data removed]",
            "text/plain": [
              "<Figure size 432x288 with 1 Axes>"
            ]
          },
          "metadata": {
            "tags": [],
            "needs_background": "light"
          }
        }
      ]
    },
    {
      "cell_type": "code",
      "metadata": {
        "id": "Yc5615ZNG_ih"
      },
      "source": [
        "Y_pred = model2.predict_classes(X_test)"
      ],
      "execution_count": 280,
      "outputs": []
    },
    {
      "cell_type": "code",
      "metadata": {
        "id": "cnmM3LbiHgiW",
        "outputId": "c66c1530-eebe-447a-c9c3-f54827c69930",
        "colab": {
          "base_uri": "https://localhost:8080/",
          "height": 0
        }
      },
      "source": [
        "from sklearn.metrics import f1_score\n",
        "f1_score_result = f1_score(Y_true, Y_pred,labels = [0,1], average='micro')\n",
        "result_df.loc[len(result_df)] = ['Approach2_HC_TF', f1_score_result]\n",
        "f1_score_result"
      ],
      "execution_count": 281,
      "outputs": [
        {
          "output_type": "execute_result",
          "data": {
            "text/plain": [
              "0.6245059288537549"
            ]
          },
          "metadata": {
            "tags": []
          },
          "execution_count": 281
        }
      ]
    },
    {
      "cell_type": "markdown",
      "metadata": {
        "id": "i23Vl8jp3LtE"
      },
      "source": [
        "# **2. modelling for tweets related to Target : Legalization of Abortion**"
      ]
    },
    {
      "cell_type": "markdown",
      "metadata": {
        "id": "-Cd5swpWlmun"
      },
      "source": [
        "First we check the preprocessed tweet data for target Legalization of Abortion"
      ]
    },
    {
      "cell_type": "code",
      "metadata": {
        "id": "p4tvC3aA3YxA",
        "outputId": "5cd3a14d-fb12-4dab-d8b4-b43c2175a833",
        "colab": {
          "base_uri": "https://localhost:8080/",
          "height": 0
        }
      },
      "source": [
        "Tweets_AB[:1]"
      ],
      "execution_count": 282,
      "outputs": [
        {
          "output_type": "execute_result",
          "data": {
            "text/plain": [
              "[['laid',\n",
              "  'law',\n",
              "  'abortion',\n",
              "  'bioethics',\n",
              "  'class',\n",
              "  '#catholic',\n",
              "  'legalization',\n",
              "  'abortion']]"
            ]
          },
          "metadata": {
            "tags": []
          },
          "execution_count": 282
        }
      ]
    },
    {
      "cell_type": "markdown",
      "metadata": {
        "id": "2ZrhJeDOl10M"
      },
      "source": [
        "The next step is to call method padding which will tokenize the tweets and pad them with max length of 40."
      ]
    },
    {
      "cell_type": "code",
      "metadata": {
        "id": "xbKeC8g63k2C",
        "outputId": "1c81881f-16d8-41ef-90bf-c686cc0d6f2e",
        "colab": {
          "base_uri": "https://localhost:8080/",
          "height": 0
        }
      },
      "source": [
        "X, word_index = Padding(Tweets_AB)\n",
        "Y = pd.get_dummies(traindata_AB['Stance']).values\n",
        "print('Shape of label tensor:', Y.shape)"
      ],
      "execution_count": 283,
      "outputs": [
        {
          "output_type": "stream",
          "text": [
            "Found 2771 unique tokens.\n",
            "Shape of data tensor: (653, 40)\n",
            "Shape of label tensor: (653, 3)\n"
          ],
          "name": "stdout"
        }
      ]
    },
    {
      "cell_type": "markdown",
      "metadata": {
        "id": "Eh6dZVAQl8mY"
      },
      "source": [
        "The next step is to split the above data into training and validation. We are using above mentioned split() method by passing 0.2 as a split size which means 20% of the data is reserved for validation and remaining 80% data is used for training the model."
      ]
    },
    {
      "cell_type": "code",
      "metadata": {
        "id": "fA497Brc3kjS",
        "outputId": "263f7809-47c0-47ca-be8f-9f3974a03ec7",
        "colab": {
          "base_uri": "https://localhost:8080/",
          "height": 0
        }
      },
      "source": [
        "X_train, X_Val, Y_train, Y_Val = split(X, Y, 0.2)\n",
        "print(\"X train shape: \", X_train.shape)\n",
        "print(\"Y train shape: \", Y_train.shape)\n",
        "print(\"X Val shape: \", X_Val.shape)\n",
        "print(\"Y Val shape: \", Y_Val.shape)"
      ],
      "execution_count": 284,
      "outputs": [
        {
          "output_type": "stream",
          "text": [
            "X train shape:  (522, 40)\n",
            "Y train shape:  (522, 3)\n",
            "X Val shape:  (131, 40)\n",
            "Y Val shape:  (131, 3)\n"
          ],
          "name": "stdout"
        }
      ]
    },
    {
      "cell_type": "markdown",
      "metadata": {
        "id": "DzGMRiWo3xyD"
      },
      "source": [
        "**Without Transfer Learning**"
      ]
    },
    {
      "cell_type": "code",
      "metadata": {
        "id": "NnpgWy0b3kYv",
        "outputId": "a2bad779-d45f-499a-c84c-2098d8ef4d4b",
        "colab": {
          "base_uri": "https://localhost:8080/",
          "height": 0
        }
      },
      "source": [
        "embedding_layer = Embedding(len(word_index)+1,\n",
        "                                   embedding_dim,\n",
        "                                   input_length=MAX_LENGTH,\n",
        "                                   trainable=True)\n",
        "model2 = create_model(embedding_layer)\n",
        "print(model2.summary())"
      ],
      "execution_count": 285,
      "outputs": [
        {
          "output_type": "stream",
          "text": [
            "Model: \"sequential_18\"\n",
            "_________________________________________________________________\n",
            "Layer (type)                 Output Shape              Param #   \n",
            "=================================================================\n",
            "embedding_18 (Embedding)     (None, 40, 100)           277200    \n",
            "_________________________________________________________________\n",
            "lstm_18 (LSTM)               (None, 32)                17024     \n",
            "_________________________________________________________________\n",
            "dropout_36 (Dropout)         (None, 32)                0         \n",
            "_________________________________________________________________\n",
            "dense_36 (Dense)             (None, 64)                2112      \n",
            "_________________________________________________________________\n",
            "dropout_37 (Dropout)         (None, 64)                0         \n",
            "_________________________________________________________________\n",
            "dense_37 (Dense)             (None, 3)                 195       \n",
            "=================================================================\n",
            "Total params: 296,531\n",
            "Trainable params: 296,531\n",
            "Non-trainable params: 0\n",
            "_________________________________________________________________\n",
            "None\n"
          ],
          "name": "stdout"
        }
      ]
    },
    {
      "cell_type": "markdown",
      "metadata": {
        "id": "-TmwyBrOmEAk"
      },
      "source": [
        "As we have less amount of data available for training, we are using K-fold cross validation technique to train our model for 20 epochs in each of the 3 folds.\n",
        "The batch size is set to 32 and we trained the data for 20 epochs and 3 folds.\n",
        "\n",
        "To check the learning curve of the training and validation we plot the grphs using plotter function mentioned above."
      ]
    },
    {
      "cell_type": "code",
      "metadata": {
        "id": "DApipPKH39Ve",
        "outputId": "2fd7ab54-ceae-4d47-f4a7-5cd98c22c486",
        "colab": {
          "base_uri": "https://localhost:8080/",
          "height": 0
        }
      },
      "source": [
        "from sklearn.model_selection import KFold\n",
        "num_folds = 3\n",
        "input = np.concatenate((X_train, X_Val), axis= 0)\n",
        "target = np.concatenate((Y_train, Y_Val), axis= 0)\n",
        "\n",
        "kfold = KFold(n_splits=num_folds, shuffle=True)\n",
        "K = 1\n",
        "for train, test in kfold.split(input, target):\n",
        "    print(\"fold number: \", K)\n",
        "    m_histories = {}\n",
        "    m_histories['with_TL'] = model2.fit(input[train], target[train], batch_size=32, epochs=20, validation_data=(input[test], target[test]), callbacks=get_callbacks('models/with_TL'), verbose=1)\n",
        "    K = K+1"
      ],
      "execution_count": 286,
      "outputs": [
        {
          "output_type": "stream",
          "text": [
            "fold number:  1\n",
            "Epoch 1/20\n",
            " 2/14 [===>..........................] - ETA: 4s - loss: 1.2094WARNING:tensorflow:Callbacks method `on_train_batch_end` is slow compared to the batch time (batch time: 0.0700s vs `on_train_batch_end` time: 0.5998s). Check your callbacks.\n",
            "14/14 [==============================] - 2s 129ms/step - loss: 1.1508 - val_loss: 1.1187\n",
            "Epoch 2/20\n",
            "14/14 [==============================] - 1s 59ms/step - loss: 1.0825 - val_loss: 1.1028\n",
            "Epoch 3/20\n",
            "14/14 [==============================] - 1s 58ms/step - loss: 1.0655 - val_loss: 1.0901\n",
            "Epoch 4/20\n",
            "14/14 [==============================] - 1s 59ms/step - loss: 1.0372 - val_loss: 1.0880\n",
            "Epoch 5/20\n",
            "14/14 [==============================] - 1s 59ms/step - loss: 1.0514 - val_loss: 1.0705\n",
            "Epoch 6/20\n",
            "14/14 [==============================] - 1s 61ms/step - loss: 1.0360 - val_loss: 1.0636\n",
            "Epoch 7/20\n",
            "14/14 [==============================] - 1s 59ms/step - loss: 1.0254 - val_loss: 1.0664\n",
            "Epoch 8/20\n",
            "14/14 [==============================] - 1s 57ms/step - loss: 1.0269 - val_loss: 1.0534\n",
            "Epoch 9/20\n",
            "14/14 [==============================] - 1s 58ms/step - loss: 1.0078 - val_loss: 1.0530\n",
            "Epoch 10/20\n",
            "14/14 [==============================] - 1s 60ms/step - loss: 1.0079 - val_loss: 1.0501\n",
            "Epoch 11/20\n",
            "14/14 [==============================] - 1s 59ms/step - loss: 1.0149 - val_loss: 1.0448\n",
            "Epoch 12/20\n",
            "14/14 [==============================] - 1s 61ms/step - loss: 1.0011 - val_loss: 1.0439\n",
            "Epoch 13/20\n",
            "14/14 [==============================] - 1s 60ms/step - loss: 0.9331 - val_loss: 0.9358\n",
            "Epoch 14/20\n",
            "14/14 [==============================] - 1s 60ms/step - loss: 0.6174 - val_loss: 1.2761\n",
            "Epoch 15/20\n",
            "14/14 [==============================] - 1s 60ms/step - loss: 0.5219 - val_loss: 1.3121\n",
            "Epoch 16/20\n",
            "14/14 [==============================] - 1s 59ms/step - loss: 0.5100 - val_loss: 1.8540\n",
            "Epoch 17/20\n",
            "14/14 [==============================] - 1s 59ms/step - loss: 0.4111 - val_loss: 1.9687\n",
            "Epoch 18/20\n",
            "14/14 [==============================] - 1s 64ms/step - loss: 0.4104 - val_loss: 2.1129\n",
            "Epoch 19/20\n",
            "14/14 [==============================] - 1s 60ms/step - loss: 0.4025 - val_loss: 2.1333\n",
            "Epoch 20/20\n",
            "14/14 [==============================] - 1s 59ms/step - loss: 0.4017 - val_loss: 2.1094\n",
            "fold number:  2\n",
            "Epoch 1/20\n",
            " 2/14 [===>..........................] - ETA: 1s - loss: 0.9091WARNING:tensorflow:Callbacks method `on_train_batch_end` is slow compared to the batch time (batch time: 0.0629s vs `on_train_batch_end` time: 0.1158s). Check your callbacks.\n",
            "14/14 [==============================] - 1s 71ms/step - loss: 1.0663 - val_loss: 0.4436\n",
            "Epoch 2/20\n",
            "14/14 [==============================] - 1s 60ms/step - loss: 0.8237 - val_loss: 0.5367\n",
            "Epoch 3/20\n",
            "14/14 [==============================] - 1s 64ms/step - loss: 0.7260 - val_loss: 0.4541\n",
            "Epoch 4/20\n",
            "14/14 [==============================] - 1s 61ms/step - loss: 0.6254 - val_loss: 0.4306\n",
            "Epoch 5/20\n",
            "14/14 [==============================] - 1s 60ms/step - loss: 0.5777 - val_loss: 0.4167\n",
            "Epoch 6/20\n",
            "14/14 [==============================] - 1s 59ms/step - loss: 0.5394 - val_loss: 0.4373\n",
            "Epoch 7/20\n",
            "14/14 [==============================] - 1s 63ms/step - loss: 0.5049 - val_loss: 0.4353\n",
            "Epoch 8/20\n",
            "14/14 [==============================] - 1s 65ms/step - loss: 0.5030 - val_loss: 0.4915\n",
            "Epoch 9/20\n",
            "14/14 [==============================] - 1s 59ms/step - loss: 0.4930 - val_loss: 0.4696\n",
            "Epoch 10/20\n",
            "14/14 [==============================] - 1s 61ms/step - loss: 0.4538 - val_loss: 0.4452\n",
            "Epoch 11/20\n",
            "14/14 [==============================] - 1s 62ms/step - loss: 0.4623 - val_loss: 0.4506\n",
            "Epoch 12/20\n",
            "14/14 [==============================] - 1s 59ms/step - loss: 0.4122 - val_loss: 0.4534\n",
            "Epoch 13/20\n",
            "14/14 [==============================] - 1s 61ms/step - loss: 0.4163 - val_loss: 0.4573\n",
            "Epoch 14/20\n",
            "14/14 [==============================] - 1s 62ms/step - loss: 0.4302 - val_loss: 0.4566\n",
            "Epoch 15/20\n",
            "14/14 [==============================] - 1s 59ms/step - loss: 0.3988 - val_loss: 0.4605\n",
            "Epoch 16/20\n",
            "14/14 [==============================] - 1s 59ms/step - loss: 0.3859 - val_loss: 0.4451\n",
            "Epoch 17/20\n",
            "14/14 [==============================] - 1s 61ms/step - loss: 0.4158 - val_loss: 0.4478\n",
            "Epoch 18/20\n",
            "14/14 [==============================] - 1s 59ms/step - loss: 0.6604 - val_loss: 0.6717\n",
            "Epoch 19/20\n",
            "14/14 [==============================] - 1s 60ms/step - loss: 0.4347 - val_loss: 0.5140\n",
            "Epoch 20/20\n",
            "14/14 [==============================] - 1s 63ms/step - loss: 0.3890 - val_loss: 0.5021\n",
            "fold number:  3\n",
            "Epoch 1/20\n",
            "14/14 [==============================] - 1s 67ms/step - loss: 0.4581 - val_loss: 0.3705\n",
            "Epoch 2/20\n",
            "14/14 [==============================] - 1s 61ms/step - loss: 0.4367 - val_loss: 0.3468\n",
            "Epoch 3/20\n",
            "14/14 [==============================] - 1s 59ms/step - loss: 0.4147 - val_loss: 0.3571\n",
            "Epoch 4/20\n",
            "14/14 [==============================] - 1s 61ms/step - loss: 0.3871 - val_loss: 0.3531\n",
            "Epoch 5/20\n",
            "14/14 [==============================] - 1s 61ms/step - loss: 0.4159 - val_loss: 0.3472\n",
            "Epoch 6/20\n",
            "14/14 [==============================] - 1s 60ms/step - loss: 0.4019 - val_loss: 0.3446\n",
            "Epoch 7/20\n",
            "14/14 [==============================] - 1s 64ms/step - loss: 0.3982 - val_loss: 0.3420\n",
            "Epoch 8/20\n",
            "14/14 [==============================] - 1s 61ms/step - loss: 0.4110 - val_loss: 0.3386\n",
            "Epoch 9/20\n",
            "14/14 [==============================] - 1s 62ms/step - loss: 0.3953 - val_loss: 0.3377\n",
            "Epoch 10/20\n",
            "14/14 [==============================] - 1s 61ms/step - loss: 0.3553 - val_loss: 0.3363\n",
            "Epoch 11/20\n",
            "14/14 [==============================] - 1s 62ms/step - loss: 0.3953 - val_loss: 0.3346\n",
            "Epoch 12/20\n",
            "14/14 [==============================] - 1s 62ms/step - loss: 0.3769 - val_loss: 0.3341\n",
            "Epoch 13/20\n",
            "14/14 [==============================] - 1s 60ms/step - loss: 0.3807 - val_loss: 0.3333\n",
            "Epoch 14/20\n",
            "14/14 [==============================] - 1s 60ms/step - loss: 0.3677 - val_loss: 0.3323\n",
            "Epoch 15/20\n",
            "14/14 [==============================] - 1s 63ms/step - loss: 0.3464 - val_loss: 0.3326\n",
            "Epoch 16/20\n",
            "14/14 [==============================] - 1s 60ms/step - loss: 0.3465 - val_loss: 0.3302\n",
            "Epoch 17/20\n",
            "14/14 [==============================] - 1s 61ms/step - loss: 0.3913 - val_loss: 0.3300\n",
            "Epoch 18/20\n",
            "14/14 [==============================] - 1s 57ms/step - loss: 0.3652 - val_loss: 0.3296\n",
            "Epoch 19/20\n",
            "14/14 [==============================] - 1s 60ms/step - loss: 0.3378 - val_loss: 0.3296\n",
            "Epoch 20/20\n",
            "14/14 [==============================] - 1s 60ms/step - loss: 0.3687 - val_loss: 0.3290\n"
          ],
          "name": "stdout"
        }
      ]
    },
    {
      "cell_type": "markdown",
      "metadata": {
        "id": "QlqOvEeFmOlu"
      },
      "source": [
        "We tried to plot learning curves for both validation and training data on Catergorical Crossentropy as well as for Catergorical Accuracy."
      ]
    },
    {
      "cell_type": "code",
      "metadata": {
        "id": "JQIaLyUN4Jbv",
        "outputId": "903f8405-8616-4606-e497-fae894d8e9c0",
        "colab": {
          "base_uri": "https://localhost:8080/",
          "height": 0
        }
      },
      "source": [
        "plotter(m_histories, ylim=[0.0, 2], metric = 'loss')"
      ],
      "execution_count": 287,
      "outputs": [
        {
          "output_type": "display_data",
          "data": {
            "image/png": "[encoded data removed]",
            "text/plain": [
              "<Figure size 432x288 with 1 Axes>"
            ]
          },
          "metadata": {
            "tags": [],
            "needs_background": "light"
          }
        }
      ]
    },
    {
      "cell_type": "code",
      "metadata": {
        "id": "EQp1LcfjOk6T",
        "outputId": "ba268d07-d476-4d12-f87c-08c6ec5ab699",
        "colab": {
          "base_uri": "https://localhost:8080/",
          "height": 0
        }
      },
      "source": [
        "X_test, test_word_index = Padding(Test_Tweets_AB)\n",
        "Y_true = pd.get_dummies(testdata_AB['Stance']).values\n",
        "print('Shape of label tensor:', Y_true.shape)"
      ],
      "execution_count": 288,
      "outputs": [
        {
          "output_type": "stream",
          "text": [
            "Found 1526 unique tokens.\n",
            "Shape of data tensor: (280, 40)\n",
            "Shape of label tensor: (280, 3)\n"
          ],
          "name": "stdout"
        }
      ]
    },
    {
      "cell_type": "code",
      "metadata": {
        "id": "id6oSdgMOk6e",
        "outputId": "1a4790cb-8df9-4df9-b0c2-25600a58e084",
        "colab": {
          "base_uri": "https://localhost:8080/",
          "height": 0
        }
      },
      "source": [
        "from sklearn.metrics import f1_score\n",
        "\n",
        "Y_pred = model2.predict_classes(X_test)\n",
        "\n",
        "Y_true = np.argmax(Y_true, axis= 1)\n",
        "\n",
        "f1_score_result = f1_score(Y_true, Y_pred,labels = [0,1], average='micro')\n",
        "result_df.loc[len(result_df)] = ['Approach2_AB_WTF', f1_score_result]\n",
        "f1_score_result"
      ],
      "execution_count": 289,
      "outputs": [
        {
          "output_type": "execute_result",
          "data": {
            "text/plain": [
              "0.544041450777202"
            ]
          },
          "metadata": {
            "tags": []
          },
          "execution_count": 289
        }
      ]
    },
    {
      "cell_type": "markdown",
      "metadata": {
        "id": "Bi5ybAhb4UZ0"
      },
      "source": [
        "**With Transfer Learning**"
      ]
    },
    {
      "cell_type": "code",
      "metadata": {
        "id": "JOqjWN2H4YRJ",
        "outputId": "d08330f7-104d-43ce-d240-687b2eca9c5c",
        "colab": {
          "base_uri": "https://localhost:8080/",
          "height": 0
        }
      },
      "source": [
        "E_T = np.zeros((len(word_index)+1, embedding_dim))\n",
        "for word, i in word_index.items():\n",
        "    embedding_vector = glove_vectors.get(word)\n",
        "    if embedding_vector is not None:  \n",
        "        E_T[i] = embedding_vector\n",
        "\n",
        "E_T.size"
      ],
      "execution_count": 290,
      "outputs": [
        {
          "output_type": "execute_result",
          "data": {
            "text/plain": [
              "277200"
            ]
          },
          "metadata": {
            "tags": []
          },
          "execution_count": 290
        }
      ]
    },
    {
      "cell_type": "code",
      "metadata": {
        "id": "4iwgP9hW4eQk",
        "outputId": "27a273e2-eada-4457-8422-2d3d8e21f724",
        "colab": {
          "base_uri": "https://localhost:8080/",
          "height": 0
        }
      },
      "source": [
        "embedding_layer_TL = Embedding(len(word_index)+1,\n",
        "                                embedding_dim,\n",
        "                                weights=[E_T],\n",
        "                                input_length=MAX_LENGTH,\n",
        "                                trainable=False)\n",
        "model2 = create_model(embedding_layer_TL)\n",
        "print(model2.summary())"
      ],
      "execution_count": 291,
      "outputs": [
        {
          "output_type": "stream",
          "text": [
            "Model: \"sequential_19\"\n",
            "_________________________________________________________________\n",
            "Layer (type)                 Output Shape              Param #   \n",
            "=================================================================\n",
            "embedding_19 (Embedding)     (None, 40, 100)           277200    \n",
            "_________________________________________________________________\n",
            "lstm_19 (LSTM)               (None, 32)                17024     \n",
            "_________________________________________________________________\n",
            "dropout_38 (Dropout)         (None, 32)                0         \n",
            "_________________________________________________________________\n",
            "dense_38 (Dense)             (None, 64)                2112      \n",
            "_________________________________________________________________\n",
            "dropout_39 (Dropout)         (None, 64)                0         \n",
            "_________________________________________________________________\n",
            "dense_39 (Dense)             (None, 3)                 195       \n",
            "=================================================================\n",
            "Total params: 296,531\n",
            "Trainable params: 19,331\n",
            "Non-trainable params: 277,200\n",
            "_________________________________________________________________\n",
            "None\n"
          ],
          "name": "stdout"
        }
      ]
    },
    {
      "cell_type": "code",
      "metadata": {
        "id": "U9nRejvf4ewR",
        "outputId": "342508ec-045e-46f5-ba9c-5dda8b1c7c46",
        "colab": {
          "base_uri": "https://localhost:8080/",
          "height": 0
        }
      },
      "source": [
        "m_histories['with_TL'] = model2.fit(X_train, Y_train, batch_size=32, epochs=50, validation_data=(X_Val, Y_Val), callbacks=get_callbacks('models/with_TL'), verbose=1)   "
      ],
      "execution_count": 292,
      "outputs": [
        {
          "output_type": "stream",
          "text": [
            "Epoch 1/50\n",
            " 2/17 [==>...........................] - ETA: 4s - loss: 1.2078WARNING:tensorflow:Callbacks method `on_train_batch_end` is slow compared to the batch time (batch time: 0.0574s vs `on_train_batch_end` time: 0.4753s). Check your callbacks.\n",
            "17/17 [==============================] - 2s 98ms/step - loss: 1.1817 - val_loss: 1.1335\n",
            "Epoch 2/50\n",
            "17/17 [==============================] - 1s 46ms/step - loss: 1.1147 - val_loss: 1.0243\n",
            "Epoch 3/50\n",
            "17/17 [==============================] - 1s 46ms/step - loss: 1.0634 - val_loss: 1.0015\n",
            "Epoch 4/50\n",
            "17/17 [==============================] - 1s 49ms/step - loss: 1.0563 - val_loss: 1.0061\n",
            "Epoch 5/50\n",
            "17/17 [==============================] - 1s 49ms/step - loss: 1.0389 - val_loss: 0.9713\n",
            "Epoch 6/50\n",
            "17/17 [==============================] - 1s 50ms/step - loss: 1.0082 - val_loss: 0.9358\n",
            "Epoch 7/50\n",
            "17/17 [==============================] - 1s 48ms/step - loss: 0.9708 - val_loss: 0.8833\n",
            "Epoch 8/50\n",
            "17/17 [==============================] - 1s 49ms/step - loss: 0.9507 - val_loss: 0.9068\n",
            "Epoch 9/50\n",
            "17/17 [==============================] - 1s 46ms/step - loss: 0.9319 - val_loss: 0.9146\n",
            "Epoch 10/50\n",
            "17/17 [==============================] - 1s 47ms/step - loss: 0.9365 - val_loss: 0.8806\n",
            "Epoch 11/50\n",
            "17/17 [==============================] - 1s 49ms/step - loss: 0.9554 - val_loss: 0.8922\n",
            "Epoch 12/50\n",
            "17/17 [==============================] - 1s 50ms/step - loss: 0.9238 - val_loss: 0.8890\n",
            "Epoch 13/50\n",
            "17/17 [==============================] - 1s 49ms/step - loss: 0.8977 - val_loss: 0.8858\n",
            "Epoch 14/50\n",
            "17/17 [==============================] - 1s 49ms/step - loss: 0.9485 - val_loss: 0.8763\n",
            "Epoch 15/50\n",
            "17/17 [==============================] - 1s 47ms/step - loss: 0.8998 - val_loss: 0.8777\n",
            "Epoch 16/50\n",
            "17/17 [==============================] - 1s 49ms/step - loss: 0.9307 - val_loss: 0.8966\n",
            "Epoch 17/50\n",
            "17/17 [==============================] - 1s 47ms/step - loss: 0.8997 - val_loss: 0.8890\n",
            "Epoch 18/50\n",
            "17/17 [==============================] - 1s 51ms/step - loss: 0.8853 - val_loss: 0.8811\n",
            "Epoch 19/50\n",
            "17/17 [==============================] - 1s 47ms/step - loss: 0.8957 - val_loss: 0.8639\n",
            "Epoch 20/50\n",
            "17/17 [==============================] - 1s 50ms/step - loss: 0.8899 - val_loss: 0.9212\n",
            "Epoch 21/50\n",
            "17/17 [==============================] - 1s 55ms/step - loss: 0.8920 - val_loss: 0.8775\n",
            "Epoch 22/50\n",
            "17/17 [==============================] - 1s 47ms/step - loss: 0.8769 - val_loss: 0.9128\n",
            "Epoch 23/50\n",
            "17/17 [==============================] - 1s 57ms/step - loss: 0.8831 - val_loss: 0.8710\n",
            "Epoch 24/50\n",
            "17/17 [==============================] - 1s 59ms/step - loss: 0.8721 - val_loss: 0.8837\n",
            "Epoch 25/50\n",
            "17/17 [==============================] - 1s 60ms/step - loss: 0.8773 - val_loss: 0.9030\n",
            "Epoch 26/50\n",
            "17/17 [==============================] - 1s 61ms/step - loss: 0.9001 - val_loss: 0.8741\n",
            "Epoch 27/50\n",
            "17/17 [==============================] - 1s 68ms/step - loss: 0.8719 - val_loss: 0.8601\n",
            "Epoch 28/50\n",
            "17/17 [==============================] - 1s 81ms/step - loss: 0.8702 - val_loss: 0.8809\n",
            "Epoch 29/50\n",
            "17/17 [==============================] - 1s 61ms/step - loss: 0.8671 - val_loss: 0.9139\n",
            "Epoch 30/50\n",
            "17/17 [==============================] - 1s 49ms/step - loss: 0.8847 - val_loss: 0.8513\n",
            "Epoch 31/50\n",
            "17/17 [==============================] - 1s 48ms/step - loss: 0.8738 - val_loss: 0.8521\n",
            "Epoch 32/50\n",
            "17/17 [==============================] - 1s 49ms/step - loss: 0.8311 - val_loss: 0.8882\n",
            "Epoch 33/50\n",
            "17/17 [==============================] - 1s 48ms/step - loss: 0.8422 - val_loss: 0.8776\n",
            "Epoch 34/50\n",
            "17/17 [==============================] - 1s 50ms/step - loss: 0.8822 - val_loss: 0.9064\n",
            "Epoch 35/50\n",
            "17/17 [==============================] - 1s 48ms/step - loss: 0.8438 - val_loss: 0.8669\n",
            "Epoch 36/50\n",
            "17/17 [==============================] - 1s 47ms/step - loss: 0.8574 - val_loss: 0.8616\n",
            "Epoch 37/50\n",
            "17/17 [==============================] - 1s 45ms/step - loss: 0.8245 - val_loss: 0.8579\n",
            "Epoch 38/50\n",
            "17/17 [==============================] - 1s 48ms/step - loss: 0.8489 - val_loss: 0.8644\n",
            "Epoch 39/50\n",
            "17/17 [==============================] - 1s 50ms/step - loss: 0.8421 - val_loss: 0.8683\n",
            "Epoch 40/50\n",
            "17/17 [==============================] - 1s 48ms/step - loss: 0.8262 - val_loss: 0.9090\n",
            "Epoch 41/50\n",
            "17/17 [==============================] - 1s 45ms/step - loss: 0.8284 - val_loss: 0.8816\n",
            "Epoch 42/50\n",
            "17/17 [==============================] - 1s 45ms/step - loss: 0.7984 - val_loss: 0.8467\n",
            "Epoch 43/50\n",
            "17/17 [==============================] - 1s 48ms/step - loss: 0.8176 - val_loss: 0.8558\n",
            "Epoch 44/50\n",
            "17/17 [==============================] - 1s 48ms/step - loss: 0.7661 - val_loss: 0.8936\n",
            "Epoch 45/50\n",
            "17/17 [==============================] - 1s 50ms/step - loss: 0.7901 - val_loss: 0.8593\n",
            "Epoch 46/50\n",
            "17/17 [==============================] - 1s 48ms/step - loss: 0.8003 - val_loss: 0.8837\n",
            "Epoch 47/50\n",
            "17/17 [==============================] - 1s 49ms/step - loss: 0.7691 - val_loss: 0.8412\n",
            "Epoch 48/50\n",
            "17/17 [==============================] - 1s 49ms/step - loss: 0.7851 - val_loss: 0.8631\n",
            "Epoch 49/50\n",
            "17/17 [==============================] - 1s 47ms/step - loss: 0.8372 - val_loss: 0.8643\n",
            "Epoch 50/50\n",
            "17/17 [==============================] - 1s 50ms/step - loss: 0.8019 - val_loss: 0.8342\n"
          ],
          "name": "stdout"
        }
      ]
    },
    {
      "cell_type": "code",
      "metadata": {
        "id": "UeXWGsD64eFY",
        "outputId": "74b349d7-afcb-4432-c2cb-20b42dfc4c9d",
        "colab": {
          "base_uri": "https://localhost:8080/",
          "height": 0
        }
      },
      "source": [
        "plotter(m_histories, ylim=[0.0, 2], metric = 'loss')"
      ],
      "execution_count": 293,
      "outputs": [
        {
          "output_type": "display_data",
          "data": {
            "image/png": "[encoded data removed]",
            "text/plain": [
              "<Figure size 432x288 with 1 Axes>"
            ]
          },
          "metadata": {
            "tags": [],
            "needs_background": "light"
          }
        }
      ]
    },
    {
      "cell_type": "code",
      "metadata": {
        "id": "hA3Ip296PEpq",
        "outputId": "b737c6bf-16f1-4fac-832c-5b78a4ec0ea2",
        "colab": {
          "base_uri": "https://localhost:8080/",
          "height": 0
        }
      },
      "source": [
        "from sklearn.metrics import f1_score\n",
        "\n",
        "Y_pred = model2.predict_classes(X_test)\n",
        "\n",
        "f1_score_result = f1_score(Y_true, Y_pred,labels = [0,1], average='micro')\n",
        "result_df.loc[len(result_df)] = ['Approach2_AB_TF', f1_score_result]\n",
        "f1_score_result"
      ],
      "execution_count": 294,
      "outputs": [
        {
          "output_type": "execute_result",
          "data": {
            "text/plain": [
              "0.5545454545454545"
            ]
          },
          "metadata": {
            "tags": []
          },
          "execution_count": 294
        }
      ]
    },
    {
      "cell_type": "markdown",
      "metadata": {
        "id": "MZgZtwUy5UuD"
      },
      "source": [
        "# **3. modelling for tweets related to Target : Atheism**"
      ]
    },
    {
      "cell_type": "markdown",
      "metadata": {
        "id": "AndJglj7mZb6"
      },
      "source": [
        "First we check the preprocessed tweet data for target Atheism"
      ]
    },
    {
      "cell_type": "code",
      "metadata": {
        "id": "x_GO73Wc5ckA",
        "outputId": "77dbfca3-cde1-4cd9-a1dc-affe067e582f",
        "colab": {
          "base_uri": "https://localhost:8080/",
          "height": 0
        }
      },
      "source": [
        "Tweets_AT[:1]"
      ],
      "execution_count": 295,
      "outputs": [
        {
          "output_type": "execute_result",
          "data": {
            "text/plain": [
              "[['dear',\n",
              "  'lord',\n",
              "  'thank',\n",
              "  'ur',\n",
              "  'blessings',\n",
              "  'forgive',\n",
              "  'sins',\n",
              "  'lord',\n",
              "  'give',\n",
              "  'strength',\n",
              "  'energy',\n",
              "  'busy',\n",
              "  'day',\n",
              "  'ahead',\n",
              "  '#blessed',\n",
              "  '#hope',\n",
              "  '#semst',\n",
              "  'atheism']]"
            ]
          },
          "metadata": {
            "tags": []
          },
          "execution_count": 295
        }
      ]
    },
    {
      "cell_type": "markdown",
      "metadata": {
        "id": "B97j5WeMmkKi"
      },
      "source": [
        "The next step is to call method padding which will tokenize the tweets and pad them with max length of 40."
      ]
    },
    {
      "cell_type": "code",
      "metadata": {
        "id": "ITghyAfU5on9",
        "outputId": "5e93fb03-4173-4989-ef2c-32dab7cdd2e4",
        "colab": {
          "base_uri": "https://localhost:8080/",
          "height": 0
        }
      },
      "source": [
        "X, word_index = Padding(Tweets_AT)\n",
        "Y = pd.get_dummies(traindata_AT['Stance']).values\n",
        "print('Shape of label tensor:', Y.shape)"
      ],
      "execution_count": 296,
      "outputs": [
        {
          "output_type": "stream",
          "text": [
            "Found 2462 unique tokens.\n",
            "Shape of data tensor: (513, 40)\n",
            "Shape of label tensor: (513, 3)\n"
          ],
          "name": "stdout"
        }
      ]
    },
    {
      "cell_type": "markdown",
      "metadata": {
        "id": "q0KouwGhmp2Z"
      },
      "source": [
        "The next step is to split the above data into training and validation. We are using above mentioned split() method by passing 0.2 as a split size which means 20% of the data is reserved for validation and remaining 80% data is used for training the model."
      ]
    },
    {
      "cell_type": "code",
      "metadata": {
        "id": "mZqc9JFU5vUG",
        "outputId": "6d2f4320-43f7-4fb1-c216-511a5873910c",
        "colab": {
          "base_uri": "https://localhost:8080/",
          "height": 0
        }
      },
      "source": [
        "X_train, X_Val, Y_train, Y_Val = split(X, Y, 0.2)\n",
        "print(\"X train shape: \", X_train.shape)\n",
        "print(\"Y train shape: \", Y_train.shape)\n",
        "print(\"X Val shape: \", X_Val.shape)\n",
        "print(\"Y Val shape: \", Y_Val.shape)"
      ],
      "execution_count": 297,
      "outputs": [
        {
          "output_type": "stream",
          "text": [
            "X train shape:  (410, 40)\n",
            "Y train shape:  (410, 3)\n",
            "X Val shape:  (103, 40)\n",
            "Y Val shape:  (103, 3)\n"
          ],
          "name": "stdout"
        }
      ]
    },
    {
      "cell_type": "markdown",
      "metadata": {
        "id": "1MWxEp6w5364"
      },
      "source": [
        "**Without Transfer Learning**"
      ]
    },
    {
      "cell_type": "code",
      "metadata": {
        "id": "v9u1Ho5o53Q0",
        "outputId": "4d1991c6-240c-4fa2-abb5-132106c4f5af",
        "colab": {
          "base_uri": "https://localhost:8080/",
          "height": 0
        }
      },
      "source": [
        "embedding_layer = Embedding(len(word_index)+1,\n",
        "                                   embedding_dim,\n",
        "                                   input_length=MAX_LENGTH,\n",
        "                                   trainable=True)\n",
        "model2 = create_model(embedding_layer)\n",
        "print(model2.summary())"
      ],
      "execution_count": 298,
      "outputs": [
        {
          "output_type": "stream",
          "text": [
            "Model: \"sequential_20\"\n",
            "_________________________________________________________________\n",
            "Layer (type)                 Output Shape              Param #   \n",
            "=================================================================\n",
            "embedding_20 (Embedding)     (None, 40, 100)           246300    \n",
            "_________________________________________________________________\n",
            "lstm_20 (LSTM)               (None, 32)                17024     \n",
            "_________________________________________________________________\n",
            "dropout_40 (Dropout)         (None, 32)                0         \n",
            "_________________________________________________________________\n",
            "dense_40 (Dense)             (None, 64)                2112      \n",
            "_________________________________________________________________\n",
            "dropout_41 (Dropout)         (None, 64)                0         \n",
            "_________________________________________________________________\n",
            "dense_41 (Dense)             (None, 3)                 195       \n",
            "=================================================================\n",
            "Total params: 265,631\n",
            "Trainable params: 265,631\n",
            "Non-trainable params: 0\n",
            "_________________________________________________________________\n",
            "None\n"
          ],
          "name": "stdout"
        }
      ]
    },
    {
      "cell_type": "markdown",
      "metadata": {
        "id": "Ht3uMDBtm1fY"
      },
      "source": [
        "As we have less amount of data available for training, we are using K-fold cross validation technique to train our model for 20 epochs in each of the 3 folds.\n",
        "The batch size is set to 32 and we trained the data for 20 epochs and 3 folds.\n",
        "\n",
        "To check the learning curve of the training and validation we plot the grphs using plotter function mentioned above.\n"
      ]
    },
    {
      "cell_type": "code",
      "metadata": {
        "id": "6fBoq3UT6EuV",
        "outputId": "924461fa-4576-4e54-8ee5-c4c0cbd86eba",
        "colab": {
          "base_uri": "https://localhost:8080/",
          "height": 0
        }
      },
      "source": [
        "from sklearn.model_selection import KFold\n",
        "num_folds = 3\n",
        "input = np.concatenate((X_train, X_Val), axis= 0)\n",
        "target = np.concatenate((Y_train, Y_Val), axis= 0)\n",
        "\n",
        "kfold = KFold(n_splits=num_folds, shuffle=True)\n",
        "K = 1\n",
        "for train, test in kfold.split(input, target):\n",
        "    print(\"fold number: \", K)\n",
        "    m_histories = {}\n",
        "    m_histories['with_TL'] = model2.fit(input[train], target[train], batch_size=32, epochs=20, validation_data=(input[test], target[test]), callbacks=get_callbacks('models/with_TL'), verbose=1)\n",
        "    K = K+1"
      ],
      "execution_count": 299,
      "outputs": [
        {
          "output_type": "stream",
          "text": [
            "fold number:  1\n",
            "Epoch 1/20\n",
            " 2/11 [====>.........................] - ETA: 2s - loss: 1.1955WARNING:tensorflow:Callbacks method `on_train_batch_end` is slow compared to the batch time (batch time: 0.0628s vs `on_train_batch_end` time: 0.4929s). Check your callbacks.\n",
            "11/11 [==============================] - 2s 160ms/step - loss: 1.1561 - val_loss: 1.0966\n",
            "Epoch 2/20\n",
            "11/11 [==============================] - 1s 80ms/step - loss: 1.0624 - val_loss: 1.0491\n",
            "Epoch 3/20\n",
            "11/11 [==============================] - 1s 70ms/step - loss: 1.0400 - val_loss: 1.0320\n",
            "Epoch 4/20\n",
            "11/11 [==============================] - 1s 66ms/step - loss: 1.0349 - val_loss: 1.0232\n",
            "Epoch 5/20\n",
            "11/11 [==============================] - 1s 74ms/step - loss: 1.0261 - val_loss: 1.0145\n",
            "Epoch 6/20\n",
            "11/11 [==============================] - 1s 64ms/step - loss: 1.0120 - val_loss: 1.0073\n",
            "Epoch 7/20\n",
            "11/11 [==============================] - 1s 66ms/step - loss: 1.0175 - val_loss: 1.0032\n",
            "Epoch 8/20\n",
            "11/11 [==============================] - 1s 72ms/step - loss: 0.9983 - val_loss: 0.9983\n",
            "Epoch 9/20\n",
            "11/11 [==============================] - 1s 66ms/step - loss: 0.9949 - val_loss: 0.9944\n",
            "Epoch 10/20\n",
            "11/11 [==============================] - 1s 78ms/step - loss: 0.9911 - val_loss: 0.9903\n",
            "Epoch 11/20\n",
            "11/11 [==============================] - 1s 68ms/step - loss: 0.9950 - val_loss: 0.9877\n",
            "Epoch 12/20\n",
            "11/11 [==============================] - 1s 66ms/step - loss: 0.9773 - val_loss: 0.9856\n",
            "Epoch 13/20\n",
            "11/11 [==============================] - 1s 66ms/step - loss: 0.9755 - val_loss: 0.9807\n",
            "Epoch 14/20\n",
            "11/11 [==============================] - 1s 58ms/step - loss: 0.9399 - val_loss: 0.9401\n",
            "Epoch 15/20\n",
            "11/11 [==============================] - 1s 56ms/step - loss: 0.6248 - val_loss: 1.2638\n",
            "Epoch 16/20\n",
            "11/11 [==============================] - 1s 55ms/step - loss: 0.4408 - val_loss: 1.2237\n",
            "Epoch 17/20\n",
            "11/11 [==============================] - 1s 58ms/step - loss: 0.3686 - val_loss: 1.6899\n",
            "Epoch 18/20\n",
            "11/11 [==============================] - 1s 58ms/step - loss: 0.3591 - val_loss: 1.8148\n",
            "Epoch 19/20\n",
            "11/11 [==============================] - 1s 55ms/step - loss: 0.3520 - val_loss: 1.9277\n",
            "Epoch 20/20\n",
            "11/11 [==============================] - 1s 57ms/step - loss: 0.3370 - val_loss: 1.9154\n",
            "fold number:  2\n",
            "Epoch 1/20\n",
            " 2/11 [====>.........................] - ETA: 0s - loss: 0.9322WARNING:tensorflow:Callbacks method `on_train_batch_end` is slow compared to the batch time (batch time: 0.0570s vs `on_train_batch_end` time: 0.1037s). Check your callbacks.\n",
            "11/11 [==============================] - 1s 70ms/step - loss: 1.0364 - val_loss: 0.3532\n",
            "Epoch 2/20\n",
            "11/11 [==============================] - 1s 59ms/step - loss: 0.6665 - val_loss: 0.5535\n",
            "Epoch 3/20\n",
            "11/11 [==============================] - 1s 59ms/step - loss: 0.8224 - val_loss: 0.5273\n",
            "Epoch 4/20\n",
            "11/11 [==============================] - 1s 57ms/step - loss: 0.5342 - val_loss: 0.4645\n",
            "Epoch 5/20\n",
            "11/11 [==============================] - 1s 58ms/step - loss: 0.5335 - val_loss: 0.4490\n",
            "Epoch 6/20\n",
            "11/11 [==============================] - 1s 58ms/step - loss: 0.4488 - val_loss: 0.4284\n",
            "Epoch 7/20\n",
            "11/11 [==============================] - 1s 60ms/step - loss: 0.4047 - val_loss: 0.4046\n",
            "Epoch 8/20\n",
            "11/11 [==============================] - 1s 56ms/step - loss: 0.4039 - val_loss: 0.4071\n",
            "Epoch 9/20\n",
            "11/11 [==============================] - 1s 57ms/step - loss: 0.4069 - val_loss: 0.3698\n",
            "Epoch 10/20\n",
            "11/11 [==============================] - 1s 57ms/step - loss: 0.3853 - val_loss: 0.3594\n",
            "Epoch 11/20\n",
            "11/11 [==============================] - 1s 56ms/step - loss: 0.3512 - val_loss: 0.3528\n",
            "Epoch 12/20\n",
            "11/11 [==============================] - 1s 57ms/step - loss: 0.3565 - val_loss: 0.3437\n",
            "Epoch 13/20\n",
            "11/11 [==============================] - 1s 58ms/step - loss: 0.3367 - val_loss: 0.3379\n",
            "Epoch 14/20\n",
            "11/11 [==============================] - 1s 57ms/step - loss: 0.3431 - val_loss: 0.4013\n",
            "Epoch 15/20\n",
            "11/11 [==============================] - 1s 57ms/step - loss: 0.4680 - val_loss: 0.5254\n",
            "Epoch 16/20\n",
            "11/11 [==============================] - 1s 54ms/step - loss: 0.4651 - val_loss: 0.5049\n",
            "Epoch 17/20\n",
            "11/11 [==============================] - 1s 58ms/step - loss: 0.4338 - val_loss: 0.4615\n",
            "Epoch 18/20\n",
            "11/11 [==============================] - 1s 58ms/step - loss: 0.3781 - val_loss: 0.4464\n",
            "Epoch 19/20\n",
            "11/11 [==============================] - 1s 57ms/step - loss: 0.3660 - val_loss: 0.4476\n",
            "Epoch 20/20\n",
            "11/11 [==============================] - 1s 59ms/step - loss: 0.3639 - val_loss: 0.4489\n",
            "fold number:  3\n",
            "Epoch 1/20\n",
            "11/11 [==============================] - 1s 71ms/step - loss: 0.4055 - val_loss: 0.2877\n",
            "Epoch 2/20\n",
            "11/11 [==============================] - 1s 58ms/step - loss: 0.4078 - val_loss: 0.2874\n",
            "Epoch 3/20\n",
            "11/11 [==============================] - 1s 59ms/step - loss: 0.3732 - val_loss: 0.2853\n",
            "Epoch 4/20\n",
            "11/11 [==============================] - 1s 55ms/step - loss: 0.3569 - val_loss: 0.2833\n",
            "Epoch 5/20\n",
            "11/11 [==============================] - 1s 56ms/step - loss: 0.3551 - val_loss: 0.2813\n",
            "Epoch 6/20\n",
            "11/11 [==============================] - 1s 56ms/step - loss: 0.3288 - val_loss: 0.2789\n",
            "Epoch 7/20\n",
            "11/11 [==============================] - 1s 57ms/step - loss: 0.3617 - val_loss: 0.2771\n",
            "Epoch 8/20\n",
            "11/11 [==============================] - 1s 60ms/step - loss: 0.3296 - val_loss: 0.2754\n",
            "Epoch 9/20\n",
            "11/11 [==============================] - 1s 58ms/step - loss: 0.3474 - val_loss: 0.2745\n",
            "Epoch 10/20\n",
            "11/11 [==============================] - 1s 57ms/step - loss: 0.3416 - val_loss: 0.2737\n",
            "Epoch 11/20\n",
            "11/11 [==============================] - 1s 58ms/step - loss: 0.3352 - val_loss: 0.2734\n",
            "Epoch 12/20\n",
            "11/11 [==============================] - 1s 55ms/step - loss: 0.3630 - val_loss: 0.2740\n",
            "Epoch 13/20\n",
            "11/11 [==============================] - 1s 58ms/step - loss: 0.7407 - val_loss: 0.5040\n",
            "Epoch 14/20\n",
            "11/11 [==============================] - 1s 60ms/step - loss: 0.5071 - val_loss: 0.3216\n",
            "Epoch 15/20\n",
            "11/11 [==============================] - 1s 60ms/step - loss: 0.3597 - val_loss: 0.3120\n",
            "Epoch 16/20\n",
            "11/11 [==============================] - 1s 63ms/step - loss: 0.3835 - val_loss: 0.3053\n",
            "Epoch 17/20\n",
            "11/11 [==============================] - 1s 58ms/step - loss: 0.3488 - val_loss: 0.2981\n",
            "Epoch 18/20\n",
            "11/11 [==============================] - 1s 58ms/step - loss: 0.3776 - val_loss: 0.2925\n",
            "Epoch 19/20\n",
            "11/11 [==============================] - 1s 58ms/step - loss: 0.3456 - val_loss: 0.2884\n",
            "Epoch 20/20\n",
            "11/11 [==============================] - 1s 60ms/step - loss: 0.3309 - val_loss: 0.2852\n"
          ],
          "name": "stdout"
        }
      ]
    },
    {
      "cell_type": "markdown",
      "metadata": {
        "id": "wXveg7L3m_2B"
      },
      "source": [
        "We tried to plot learning curves for both validation and training data on Catergorical Crossentropy ."
      ]
    },
    {
      "cell_type": "code",
      "metadata": {
        "id": "yayCOjqC6ipM",
        "outputId": "7e0cb1f2-af32-4c23-fbef-8c78a0227763",
        "colab": {
          "base_uri": "https://localhost:8080/",
          "height": 0
        }
      },
      "source": [
        "plotter(m_histories, ylim=[0.0, 2], metric = 'loss')"
      ],
      "execution_count": 300,
      "outputs": [
        {
          "output_type": "display_data",
          "data": {
            "image/png": "[encoded data removed]",
            "text/plain": [
              "<Figure size 432x288 with 1 Axes>"
            ]
          },
          "metadata": {
            "tags": [],
            "needs_background": "light"
          }
        }
      ]
    },
    {
      "cell_type": "code",
      "metadata": {
        "id": "Iew-RGPeQcE3",
        "outputId": "dfe451a7-e4b7-40bb-fab3-a08efcf699e5",
        "colab": {
          "base_uri": "https://localhost:8080/",
          "height": 0
        }
      },
      "source": [
        "X_test, test_word_index = Padding(Test_Tweets_AT)\n",
        "Y_true = pd.get_dummies(testdata_AT['Stance']).values\n",
        "print('Shape of label tensor:', Y_true.shape)"
      ],
      "execution_count": 301,
      "outputs": [
        {
          "output_type": "stream",
          "text": [
            "Found 1339 unique tokens.\n",
            "Shape of data tensor: (220, 40)\n",
            "Shape of label tensor: (220, 3)\n"
          ],
          "name": "stdout"
        }
      ]
    },
    {
      "cell_type": "code",
      "metadata": {
        "id": "Jr2ZgpoiQcFN",
        "outputId": "5a6a1219-7fa8-4d76-b64c-dab1a6059149",
        "colab": {
          "base_uri": "https://localhost:8080/",
          "height": 0
        }
      },
      "source": [
        "from sklearn.metrics import f1_score\n",
        "\n",
        "Y_pred = model2.predict_classes(X_test)\n",
        "\n",
        "Y_true = np.argmax(Y_true, axis= 1)\n",
        "\n",
        "f1_score_result = f1_score(Y_true, Y_pred,labels = [0,1], average='micro')\n",
        "result_df.loc[len(result_df)] = ['Approach2_AT_WTF', f1_score_result]\n",
        "f1_score_result"
      ],
      "execution_count": 302,
      "outputs": [
        {
          "output_type": "execute_result",
          "data": {
            "text/plain": [
              "0.6006389776357827"
            ]
          },
          "metadata": {
            "tags": []
          },
          "execution_count": 302
        }
      ]
    },
    {
      "cell_type": "markdown",
      "metadata": {
        "id": "QM9mdkHd6uDs"
      },
      "source": [
        "**With Transfer Learning**"
      ]
    },
    {
      "cell_type": "code",
      "metadata": {
        "id": "zDjYRAyu6h0w",
        "outputId": "e5aca783-c1f9-42ef-f7da-48c3277c8099",
        "colab": {
          "base_uri": "https://localhost:8080/",
          "height": 0
        }
      },
      "source": [
        "E_T = np.zeros((len(word_index)+1, embedding_dim))\n",
        "for word, i in word_index.items():\n",
        "    embedding_vector = glove_vectors.get(word)\n",
        "    if embedding_vector is not None:  \n",
        "        E_T[i] = embedding_vector\n",
        "\n",
        "E_T.size"
      ],
      "execution_count": 303,
      "outputs": [
        {
          "output_type": "execute_result",
          "data": {
            "text/plain": [
              "246300"
            ]
          },
          "metadata": {
            "tags": []
          },
          "execution_count": 303
        }
      ]
    },
    {
      "cell_type": "code",
      "metadata": {
        "id": "ENIvOjGJ6ho9",
        "outputId": "ab12f50d-f8ff-4476-f870-66a946531ad9",
        "colab": {
          "base_uri": "https://localhost:8080/",
          "height": 0
        }
      },
      "source": [
        "embedding_layer_TL = Embedding(len(word_index)+1,\n",
        "                                embedding_dim,\n",
        "                                weights=[E_T],\n",
        "                                input_length=MAX_LENGTH,\n",
        "                                trainable=False)\n",
        "model2 = create_model(embedding_layer_TL)\n",
        "print(model2.summary())"
      ],
      "execution_count": 304,
      "outputs": [
        {
          "output_type": "stream",
          "text": [
            "Model: \"sequential_21\"\n",
            "_________________________________________________________________\n",
            "Layer (type)                 Output Shape              Param #   \n",
            "=================================================================\n",
            "embedding_21 (Embedding)     (None, 40, 100)           246300    \n",
            "_________________________________________________________________\n",
            "lstm_21 (LSTM)               (None, 32)                17024     \n",
            "_________________________________________________________________\n",
            "dropout_42 (Dropout)         (None, 32)                0         \n",
            "_________________________________________________________________\n",
            "dense_42 (Dense)             (None, 64)                2112      \n",
            "_________________________________________________________________\n",
            "dropout_43 (Dropout)         (None, 64)                0         \n",
            "_________________________________________________________________\n",
            "dense_43 (Dense)             (None, 3)                 195       \n",
            "=================================================================\n",
            "Total params: 265,631\n",
            "Trainable params: 19,331\n",
            "Non-trainable params: 246,300\n",
            "_________________________________________________________________\n",
            "None\n"
          ],
          "name": "stdout"
        }
      ]
    },
    {
      "cell_type": "code",
      "metadata": {
        "id": "VZjyXfqX663E",
        "outputId": "bdf035c2-49d3-40b1-be22-f22c40ed6be2",
        "colab": {
          "base_uri": "https://localhost:8080/",
          "height": 0
        }
      },
      "source": [
        "m_histories['with_TL'] = model2.fit(X_train, Y_train, batch_size=32, epochs=50, validation_data=(X_Val, Y_Val), callbacks=get_callbacks('models/with_TL'), verbose=1)   "
      ],
      "execution_count": 305,
      "outputs": [
        {
          "output_type": "stream",
          "text": [
            "Epoch 1/50\n",
            " 2/13 [===>..........................] - ETA: 3s - loss: 1.2071WARNING:tensorflow:Callbacks method `on_train_batch_end` is slow compared to the batch time (batch time: 0.0532s vs `on_train_batch_end` time: 0.5054s). Check your callbacks.\n",
            "13/13 [==============================] - 1s 114ms/step - loss: 1.1826 - val_loss: 1.1559\n",
            "Epoch 2/50\n",
            "13/13 [==============================] - 1s 49ms/step - loss: 1.0992 - val_loss: 1.0884\n",
            "Epoch 3/50\n",
            "13/13 [==============================] - 1s 48ms/step - loss: 1.0316 - val_loss: 1.0746\n",
            "Epoch 4/50\n",
            "13/13 [==============================] - 1s 48ms/step - loss: 0.9901 - val_loss: 1.0578\n",
            "Epoch 5/50\n",
            "13/13 [==============================] - 1s 45ms/step - loss: 0.9697 - val_loss: 1.0335\n",
            "Epoch 6/50\n",
            "13/13 [==============================] - 1s 45ms/step - loss: 0.9065 - val_loss: 0.8976\n",
            "Epoch 7/50\n",
            "13/13 [==============================] - 1s 46ms/step - loss: 0.8393 - val_loss: 0.8640\n",
            "Epoch 8/50\n",
            "13/13 [==============================] - 1s 46ms/step - loss: 0.8224 - val_loss: 0.8611\n",
            "Epoch 9/50\n",
            "13/13 [==============================] - 1s 47ms/step - loss: 0.8010 - val_loss: 0.8655\n",
            "Epoch 10/50\n",
            "13/13 [==============================] - 1s 45ms/step - loss: 0.7954 - val_loss: 0.8758\n",
            "Epoch 11/50\n",
            "13/13 [==============================] - 1s 45ms/step - loss: 0.7887 - val_loss: 0.8938\n",
            "Epoch 12/50\n",
            "13/13 [==============================] - 1s 46ms/step - loss: 0.7818 - val_loss: 0.8761\n",
            "Epoch 13/50\n",
            "13/13 [==============================] - 1s 48ms/step - loss: 0.7755 - val_loss: 0.8797\n",
            "Epoch 14/50\n",
            "13/13 [==============================] - 1s 45ms/step - loss: 0.7641 - val_loss: 0.8759\n",
            "Epoch 15/50\n",
            "13/13 [==============================] - 1s 47ms/step - loss: 0.7849 - val_loss: 0.9170\n",
            "Epoch 16/50\n",
            "13/13 [==============================] - 1s 46ms/step - loss: 0.7849 - val_loss: 0.8700\n",
            "Epoch 17/50\n",
            "13/13 [==============================] - 1s 46ms/step - loss: 0.7574 - val_loss: 0.9445\n",
            "Epoch 18/50\n",
            "13/13 [==============================] - 1s 47ms/step - loss: 0.7577 - val_loss: 0.8689\n",
            "Epoch 19/50\n",
            "13/13 [==============================] - 1s 49ms/step - loss: 0.7443 - val_loss: 0.8923\n",
            "Epoch 20/50\n",
            "13/13 [==============================] - 1s 46ms/step - loss: 0.7262 - val_loss: 0.9135\n",
            "Epoch 21/50\n",
            "13/13 [==============================] - 1s 48ms/step - loss: 0.7175 - val_loss: 0.9039\n",
            "Epoch 22/50\n",
            "13/13 [==============================] - 1s 46ms/step - loss: 0.7481 - val_loss: 0.8866\n",
            "Epoch 23/50\n",
            "13/13 [==============================] - 1s 46ms/step - loss: 0.7256 - val_loss: 0.9284\n",
            "Epoch 24/50\n",
            "13/13 [==============================] - 1s 46ms/step - loss: 0.7198 - val_loss: 0.9691\n",
            "Epoch 25/50\n",
            "13/13 [==============================] - 1s 49ms/step - loss: 0.6979 - val_loss: 0.9076\n",
            "Epoch 26/50\n",
            "13/13 [==============================] - 1s 46ms/step - loss: 0.7356 - val_loss: 0.9395\n",
            "Epoch 27/50\n",
            "13/13 [==============================] - 1s 47ms/step - loss: 0.7360 - val_loss: 0.8888\n",
            "Epoch 28/50\n",
            "13/13 [==============================] - 1s 45ms/step - loss: 0.7418 - val_loss: 0.9628\n",
            "Epoch 29/50\n",
            "13/13 [==============================] - 1s 46ms/step - loss: 0.7428 - val_loss: 0.8966\n",
            "Epoch 30/50\n",
            "13/13 [==============================] - 1s 48ms/step - loss: 0.7346 - val_loss: 0.9110\n",
            "Epoch 31/50\n",
            "13/13 [==============================] - 1s 46ms/step - loss: 0.6866 - val_loss: 0.9525\n",
            "Epoch 32/50\n",
            "13/13 [==============================] - 1s 48ms/step - loss: 0.6804 - val_loss: 0.9187\n",
            "Epoch 33/50\n",
            "13/13 [==============================] - 1s 47ms/step - loss: 0.6771 - val_loss: 0.9065\n",
            "Epoch 34/50\n",
            "13/13 [==============================] - 1s 45ms/step - loss: 0.6931 - val_loss: 1.0344\n",
            "Epoch 35/50\n",
            "13/13 [==============================] - 1s 52ms/step - loss: 0.6931 - val_loss: 0.9478\n",
            "Epoch 36/50\n",
            "13/13 [==============================] - 1s 47ms/step - loss: 0.6637 - val_loss: 0.9346\n",
            "Epoch 37/50\n",
            "13/13 [==============================] - 1s 45ms/step - loss: 0.6596 - val_loss: 1.0291\n",
            "Epoch 38/50\n",
            "13/13 [==============================] - 1s 48ms/step - loss: 0.6609 - val_loss: 0.9462\n",
            "Epoch 39/50\n",
            "13/13 [==============================] - 1s 47ms/step - loss: 0.6789 - val_loss: 0.9318\n",
            "Epoch 40/50\n",
            "13/13 [==============================] - 1s 50ms/step - loss: 0.6582 - val_loss: 1.1124\n",
            "Epoch 41/50\n",
            "13/13 [==============================] - 1s 47ms/step - loss: 0.6892 - val_loss: 0.9241\n",
            "Epoch 42/50\n",
            "13/13 [==============================] - 1s 46ms/step - loss: 0.6322 - val_loss: 1.0988\n",
            "Epoch 43/50\n",
            "13/13 [==============================] - 1s 46ms/step - loss: 0.6490 - val_loss: 0.9827\n",
            "Epoch 44/50\n",
            "13/13 [==============================] - 1s 48ms/step - loss: 0.6516 - val_loss: 0.9904\n",
            "Epoch 45/50\n",
            "13/13 [==============================] - 1s 49ms/step - loss: 0.6965 - val_loss: 1.0172\n",
            "Epoch 46/50\n",
            "13/13 [==============================] - 1s 48ms/step - loss: 0.6567 - val_loss: 1.1162\n",
            "Epoch 47/50\n",
            "13/13 [==============================] - 1s 47ms/step - loss: 0.6283 - val_loss: 1.0708\n",
            "Epoch 48/50\n",
            "13/13 [==============================] - 1s 49ms/step - loss: 0.6247 - val_loss: 1.0620\n",
            "Epoch 49/50\n",
            "13/13 [==============================] - 1s 48ms/step - loss: 0.6342 - val_loss: 1.1078\n",
            "Epoch 50/50\n",
            "13/13 [==============================] - 1s 48ms/step - loss: 0.6343 - val_loss: 1.1792\n"
          ],
          "name": "stdout"
        }
      ]
    },
    {
      "cell_type": "code",
      "metadata": {
        "id": "VosXxD1c67X5",
        "outputId": "11e14329-5e0a-4263-cea4-70c82072080e",
        "colab": {
          "base_uri": "https://localhost:8080/",
          "height": 0
        }
      },
      "source": [
        "plotter(m_histories, ylim=[0.0, 2], metric = 'loss')"
      ],
      "execution_count": 306,
      "outputs": [
        {
          "output_type": "display_data",
          "data": {
            "image/png": "[encoded data removed]",
            "text/plain": [
              "<Figure size 432x288 with 1 Axes>"
            ]
          },
          "metadata": {
            "tags": [],
            "needs_background": "light"
          }
        }
      ]
    },
    {
      "cell_type": "code",
      "metadata": {
        "id": "OFA2rIAgQ83p",
        "outputId": "3c1fe944-6aab-486a-f16b-f644f13ed1b8",
        "colab": {
          "base_uri": "https://localhost:8080/",
          "height": 0
        }
      },
      "source": [
        "from sklearn.metrics import f1_score\n",
        "\n",
        "Y_pred = model2.predict_classes(X_test)\n",
        "\n",
        "f1_score_result = f1_score(Y_true, Y_pred,labels = [0,1], average='micro')\n",
        "result_df.loc[len(result_df)] = ['Approach2_AT_TF', f1_score_result]\n",
        "f1_score_result"
      ],
      "execution_count": 307,
      "outputs": [
        {
          "output_type": "execute_result",
          "data": {
            "text/plain": [
              "0.7157894736842105"
            ]
          },
          "metadata": {
            "tags": []
          },
          "execution_count": 307
        }
      ]
    },
    {
      "cell_type": "markdown",
      "metadata": {
        "id": "w9qXKf6B7HR9"
      },
      "source": [
        "# **4. Modelling for tweets related to target: Climate Change is a Real Concern**"
      ]
    },
    {
      "cell_type": "markdown",
      "metadata": {
        "id": "V4Fl0P6KnMoz"
      },
      "source": [
        "First we check the preprocessed tweet data for target Climate Change is a Real Concern"
      ]
    },
    {
      "cell_type": "code",
      "metadata": {
        "id": "d-wCIovY74Y_",
        "outputId": "01de428f-c4a3-49ec-f949-79028c6c3f64",
        "colab": {
          "base_uri": "https://localhost:8080/",
          "height": 0
        }
      },
      "source": [
        "Tweets_CC[:1]"
      ],
      "execution_count": 308,
      "outputs": [
        {
          "output_type": "execute_result",
          "data": {
            "text/plain": [
              "[['cant',\n",
              "  'deny',\n",
              "  'really',\n",
              "  'happening',\n",
              "  '#semst',\n",
              "  'climate',\n",
              "  'change',\n",
              "  'real',\n",
              "  'concern']]"
            ]
          },
          "metadata": {
            "tags": []
          },
          "execution_count": 308
        }
      ]
    },
    {
      "cell_type": "markdown",
      "metadata": {
        "id": "gKX4PbJkncix"
      },
      "source": [
        "The next step is to call method padding which will tokenize the tweets and pad them with max length of 40."
      ]
    },
    {
      "cell_type": "code",
      "metadata": {
        "id": "3hWkV61G8EoZ",
        "outputId": "5a7bd001-7fd3-4797-9fb8-52e22e44e765",
        "colab": {
          "base_uri": "https://localhost:8080/",
          "height": 0
        }
      },
      "source": [
        "X, word_index = Padding(Tweets_CC)\n",
        "Y = pd.get_dummies(traindata_CC['Stance']).values\n",
        "print('Shape of label tensor:', Y.shape)"
      ],
      "execution_count": 309,
      "outputs": [
        {
          "output_type": "stream",
          "text": [
            "Found 2281 unique tokens.\n",
            "Shape of data tensor: (395, 40)\n",
            "Shape of label tensor: (395, 3)\n"
          ],
          "name": "stdout"
        }
      ]
    },
    {
      "cell_type": "markdown",
      "metadata": {
        "id": "84G7kjPynci3"
      },
      "source": [
        "The next step is to split the above data into training and validation. We are using above mentioned split() method by passing 0.2 as a split size which means 20% of the data is reserved for validation and remaining 80% data is used for training the model."
      ]
    },
    {
      "cell_type": "code",
      "metadata": {
        "id": "NIgZmm9c8Mv7",
        "outputId": "f831201d-9477-432e-abd2-815d4961796c",
        "colab": {
          "base_uri": "https://localhost:8080/",
          "height": 0
        }
      },
      "source": [
        "X_train, X_Val, Y_train, Y_Val = split(X, Y, 0.2)\n",
        "print(\"X train shape: \", X_train.shape)\n",
        "print(\"Y train shape: \", Y_train.shape)\n",
        "print(\"X Val shape: \", X_Val.shape)\n",
        "print(\"Y Val shape: \", Y_Val.shape)"
      ],
      "execution_count": 310,
      "outputs": [
        {
          "output_type": "stream",
          "text": [
            "X train shape:  (316, 40)\n",
            "Y train shape:  (316, 3)\n",
            "X Val shape:  (79, 40)\n",
            "Y Val shape:  (79, 3)\n"
          ],
          "name": "stdout"
        }
      ]
    },
    {
      "cell_type": "markdown",
      "metadata": {
        "id": "Z_DxoMYR8bRn"
      },
      "source": [
        "**Without Transfer Learning**"
      ]
    },
    {
      "cell_type": "code",
      "metadata": {
        "id": "w22qYAKN8bRp",
        "outputId": "d46580b3-7149-47e2-cc9d-36cdcad919ab",
        "colab": {
          "base_uri": "https://localhost:8080/",
          "height": 0
        }
      },
      "source": [
        "embedding_layer = Embedding(len(word_index)+1,\n",
        "                                   embedding_dim,\n",
        "                                   input_length=MAX_LENGTH,\n",
        "                                   trainable=True)\n",
        "model2 = create_model(embedding_layer)\n",
        "print(model2.summary())"
      ],
      "execution_count": 311,
      "outputs": [
        {
          "output_type": "stream",
          "text": [
            "Model: \"sequential_22\"\n",
            "_________________________________________________________________\n",
            "Layer (type)                 Output Shape              Param #   \n",
            "=================================================================\n",
            "embedding_22 (Embedding)     (None, 40, 100)           228200    \n",
            "_________________________________________________________________\n",
            "lstm_22 (LSTM)               (None, 32)                17024     \n",
            "_________________________________________________________________\n",
            "dropout_44 (Dropout)         (None, 32)                0         \n",
            "_________________________________________________________________\n",
            "dense_44 (Dense)             (None, 64)                2112      \n",
            "_________________________________________________________________\n",
            "dropout_45 (Dropout)         (None, 64)                0         \n",
            "_________________________________________________________________\n",
            "dense_45 (Dense)             (None, 3)                 195       \n",
            "=================================================================\n",
            "Total params: 247,531\n",
            "Trainable params: 247,531\n",
            "Non-trainable params: 0\n",
            "_________________________________________________________________\n",
            "None\n"
          ],
          "name": "stdout"
        }
      ]
    },
    {
      "cell_type": "markdown",
      "metadata": {
        "id": "qL4ctSrAnci5"
      },
      "source": [
        "As we have less amount of data available for training, we are using K-fold cross validation technique to train our model for 20 epochs in each of the 3 folds.\n",
        "The batch size is set to 32 and we trained the data for 20 epochs and 3 folds.\n",
        "\n",
        "To check the learning curve of the training and validation we plot the grphs using plotter function mentioned above."
      ]
    },
    {
      "cell_type": "code",
      "metadata": {
        "id": "RggbRK4P8bRu",
        "outputId": "b7138dae-2400-468f-8187-41cd9276f54c",
        "colab": {
          "base_uri": "https://localhost:8080/",
          "height": 0
        }
      },
      "source": [
        "from sklearn.model_selection import KFold\n",
        "num_folds = 3\n",
        "input = np.concatenate((X_train, X_Val), axis= 0)\n",
        "target = np.concatenate((Y_train, Y_Val), axis= 0)\n",
        "\n",
        "kfold = KFold(n_splits=num_folds, shuffle=True)\n",
        "K = 1\n",
        "for train, test in kfold.split(input, target):\n",
        "    print(\"fold number: \", K)\n",
        "    m_histories = {}\n",
        "    m_histories['with_TL'] = model2.fit(input[train], target[train], batch_size=32, epochs=20, validation_data=(input[test], target[test]), callbacks=get_callbacks('models/with_TL'), verbose=1)\n",
        "    K = K+1"
      ],
      "execution_count": 312,
      "outputs": [
        {
          "output_type": "stream",
          "text": [
            "fold number:  1\n",
            "Epoch 1/20\n",
            "2/9 [=====>........................] - ETA: 2s - loss: 1.2056WARNING:tensorflow:Callbacks method `on_train_batch_end` is slow compared to the batch time (batch time: 0.0673s vs `on_train_batch_end` time: 0.5291s). Check your callbacks.\n",
            "9/9 [==============================] - 1s 158ms/step - loss: 1.1797 - val_loss: 1.1293\n",
            "Epoch 2/20\n",
            "9/9 [==============================] - 0s 55ms/step - loss: 1.0849 - val_loss: 1.0119\n",
            "Epoch 3/20\n",
            "9/9 [==============================] - 0s 54ms/step - loss: 0.9462 - val_loss: 0.9153\n",
            "Epoch 4/20\n",
            "9/9 [==============================] - 1s 58ms/step - loss: 0.9381 - val_loss: 0.9172\n",
            "Epoch 5/20\n",
            "9/9 [==============================] - 0s 54ms/step - loss: 0.9155 - val_loss: 0.9054\n",
            "Epoch 6/20\n",
            "9/9 [==============================] - 0s 55ms/step - loss: 0.8763 - val_loss: 0.8990\n",
            "Epoch 7/20\n",
            "9/9 [==============================] - 1s 57ms/step - loss: 0.8787 - val_loss: 0.8896\n",
            "Epoch 8/20\n",
            "9/9 [==============================] - 0s 55ms/step - loss: 0.8792 - val_loss: 0.8843\n",
            "Epoch 9/20\n",
            "9/9 [==============================] - 0s 54ms/step - loss: 0.8709 - val_loss: 0.8785\n",
            "Epoch 10/20\n",
            "9/9 [==============================] - 1s 61ms/step - loss: 0.8688 - val_loss: 0.8757\n",
            "Epoch 11/20\n",
            "9/9 [==============================] - 1s 56ms/step - loss: 0.8808 - val_loss: 0.8726\n",
            "Epoch 12/20\n",
            "9/9 [==============================] - 0s 56ms/step - loss: 0.8625 - val_loss: 0.8703\n",
            "Epoch 13/20\n",
            "9/9 [==============================] - 1s 57ms/step - loss: 0.8353 - val_loss: 0.8666\n",
            "Epoch 14/20\n",
            "9/9 [==============================] - 1s 58ms/step - loss: 0.8452 - val_loss: 0.8659\n",
            "Epoch 15/20\n",
            "9/9 [==============================] - 0s 55ms/step - loss: 0.8481 - val_loss: 0.8626\n",
            "Epoch 16/20\n",
            "9/9 [==============================] - 1s 57ms/step - loss: 0.8413 - val_loss: 0.8604\n",
            "Epoch 17/20\n",
            "9/9 [==============================] - 1s 57ms/step - loss: 0.8349 - val_loss: 0.8604\n",
            "Epoch 18/20\n",
            "9/9 [==============================] - 1s 57ms/step - loss: 0.8169 - val_loss: 0.8451\n",
            "Epoch 19/20\n",
            "9/9 [==============================] - 1s 57ms/step - loss: 0.7821 - val_loss: 0.8246\n",
            "Epoch 20/20\n",
            "9/9 [==============================] - 1s 56ms/step - loss: 0.7058 - val_loss: 0.8430\n",
            "fold number:  2\n",
            "Epoch 1/20\n",
            "9/9 [==============================] - 1s 70ms/step - loss: 0.7432 - val_loss: 0.5977\n",
            "Epoch 2/20\n",
            "9/9 [==============================] - 1s 58ms/step - loss: 0.6930 - val_loss: 0.5106\n",
            "Epoch 3/20\n",
            "9/9 [==============================] - 0s 56ms/step - loss: 0.5940 - val_loss: 0.4764\n",
            "Epoch 4/20\n",
            "9/9 [==============================] - 1s 58ms/step - loss: 0.5039 - val_loss: 0.4318\n",
            "Epoch 5/20\n",
            "9/9 [==============================] - 1s 56ms/step - loss: 0.4041 - val_loss: 0.3615\n",
            "Epoch 6/20\n",
            "9/9 [==============================] - 1s 61ms/step - loss: 0.3204 - val_loss: 0.2839\n",
            "Epoch 7/20\n",
            "9/9 [==============================] - 1s 58ms/step - loss: 0.2635 - val_loss: 0.3699\n",
            "Epoch 8/20\n",
            "9/9 [==============================] - 1s 56ms/step - loss: 0.2704 - val_loss: 0.3538\n",
            "Epoch 9/20\n",
            "9/9 [==============================] - 0s 55ms/step - loss: 0.2307 - val_loss: 0.3586\n",
            "Epoch 10/20\n",
            "9/9 [==============================] - 1s 56ms/step - loss: 0.2041 - val_loss: 0.3619\n",
            "Epoch 11/20\n",
            "9/9 [==============================] - 1s 61ms/step - loss: 0.2106 - val_loss: 0.2814\n",
            "Epoch 12/20\n",
            "9/9 [==============================] - 1s 56ms/step - loss: 0.2564 - val_loss: 0.3355\n",
            "Epoch 13/20\n",
            "9/9 [==============================] - 1s 57ms/step - loss: 0.2027 - val_loss: 0.2691\n",
            "Epoch 14/20\n",
            "9/9 [==============================] - 1s 56ms/step - loss: 0.1937 - val_loss: 0.3041\n",
            "Epoch 15/20\n",
            "9/9 [==============================] - 1s 58ms/step - loss: 0.2228 - val_loss: 0.3021\n",
            "Epoch 16/20\n",
            "9/9 [==============================] - 0s 55ms/step - loss: 0.1847 - val_loss: 0.2600\n",
            "Epoch 17/20\n",
            "9/9 [==============================] - 1s 57ms/step - loss: 0.2127 - val_loss: 0.1670\n",
            "Epoch 18/20\n",
            "9/9 [==============================] - 1s 57ms/step - loss: 0.1775 - val_loss: 0.2106\n",
            "Epoch 19/20\n",
            "9/9 [==============================] - 0s 54ms/step - loss: 0.1656 - val_loss: 0.2451\n",
            "Epoch 20/20\n",
            "9/9 [==============================] - 1s 58ms/step - loss: 0.1621 - val_loss: 0.2060\n",
            "fold number:  3\n",
            "Epoch 1/20\n",
            "9/9 [==============================] - 1s 70ms/step - loss: 0.2261 - val_loss: 0.1204\n",
            "Epoch 2/20\n",
            "9/9 [==============================] - 1s 59ms/step - loss: 0.2158 - val_loss: 0.2605\n",
            "Epoch 3/20\n",
            "9/9 [==============================] - 1s 59ms/step - loss: 0.2100 - val_loss: 0.1256\n",
            "Epoch 4/20\n",
            "9/9 [==============================] - 1s 58ms/step - loss: 0.1518 - val_loss: 0.1245\n",
            "Epoch 5/20\n",
            "9/9 [==============================] - 0s 55ms/step - loss: 0.1602 - val_loss: 0.1676\n",
            "Epoch 6/20\n",
            "9/9 [==============================] - 1s 58ms/step - loss: 0.1483 - val_loss: 0.1050\n",
            "Epoch 7/20\n",
            "9/9 [==============================] - 1s 59ms/step - loss: 0.1128 - val_loss: 0.1313\n",
            "Epoch 8/20\n",
            "9/9 [==============================] - 1s 56ms/step - loss: 0.0887 - val_loss: 0.1618\n",
            "Epoch 9/20\n",
            "9/9 [==============================] - 1s 57ms/step - loss: 0.0752 - val_loss: 0.0855\n",
            "Epoch 10/20\n",
            "9/9 [==============================] - 1s 57ms/step - loss: 0.0593 - val_loss: 0.0846\n",
            "Epoch 11/20\n",
            "9/9 [==============================] - 1s 62ms/step - loss: 0.0416 - val_loss: 0.1383\n",
            "Epoch 12/20\n",
            "9/9 [==============================] - 1s 59ms/step - loss: 0.0433 - val_loss: 0.1739\n",
            "Epoch 13/20\n",
            "9/9 [==============================] - 0s 55ms/step - loss: 0.0446 - val_loss: 0.1152\n",
            "Epoch 14/20\n",
            "9/9 [==============================] - 1s 57ms/step - loss: 0.2135 - val_loss: 0.0834\n",
            "Epoch 15/20\n",
            "9/9 [==============================] - 1s 57ms/step - loss: 0.0320 - val_loss: 0.1702\n",
            "Epoch 16/20\n",
            "9/9 [==============================] - 1s 56ms/step - loss: 0.0418 - val_loss: 0.1997\n",
            "Epoch 17/20\n",
            "9/9 [==============================] - 1s 56ms/step - loss: 0.0547 - val_loss: 0.1110\n",
            "Epoch 18/20\n",
            "9/9 [==============================] - 1s 60ms/step - loss: 0.0317 - val_loss: 0.0900\n",
            "Epoch 19/20\n",
            "9/9 [==============================] - 0s 55ms/step - loss: 0.0536 - val_loss: 0.1091\n",
            "Epoch 20/20\n",
            "9/9 [==============================] - 1s 56ms/step - loss: 0.0649 - val_loss: 0.1129\n"
          ],
          "name": "stdout"
        }
      ]
    },
    {
      "cell_type": "markdown",
      "metadata": {
        "id": "wJ1XXAYlnci7"
      },
      "source": [
        "We tried to plot learning curves for both validation and training data on Catergorical Crossentropy."
      ]
    },
    {
      "cell_type": "code",
      "metadata": {
        "id": "k4UyWMRb8bR0",
        "outputId": "8527ab55-21c7-4173-98ea-449c4fb76a1b",
        "colab": {
          "base_uri": "https://localhost:8080/",
          "height": 0
        }
      },
      "source": [
        "plotter(m_histories, ylim=[0.0, 2], metric = 'loss')"
      ],
      "execution_count": 313,
      "outputs": [
        {
          "output_type": "display_data",
          "data": {
            "image/png": "[encoded data removed]",
            "text/plain": [
              "<Figure size 432x288 with 1 Axes>"
            ]
          },
          "metadata": {
            "tags": [],
            "needs_background": "light"
          }
        }
      ]
    },
    {
      "cell_type": "code",
      "metadata": {
        "id": "kz0N9II6T3ew",
        "outputId": "18a5133c-4336-4b2c-88a0-eb956e14c0c5",
        "colab": {
          "base_uri": "https://localhost:8080/",
          "height": 0
        }
      },
      "source": [
        "X_test, test_word_index = Padding(Test_Tweets_CC)\n",
        "Y_true = pd.get_dummies(testdata_CC['Stance']).values\n",
        "print('Shape of label tensor:', Y_true.shape)"
      ],
      "execution_count": 314,
      "outputs": [
        {
          "output_type": "stream",
          "text": [
            "Found 1167 unique tokens.\n",
            "Shape of data tensor: (169, 40)\n",
            "Shape of label tensor: (169, 3)\n"
          ],
          "name": "stdout"
        }
      ]
    },
    {
      "cell_type": "code",
      "metadata": {
        "id": "ZndUA2BeT3fE",
        "outputId": "4d3aa893-b9e2-4036-aea4-6edef7b5e85a",
        "colab": {
          "base_uri": "https://localhost:8080/",
          "height": 0
        }
      },
      "source": [
        "from sklearn.metrics import f1_score\n",
        "\n",
        "Y_pred = model2.predict_classes(X_test)\n",
        "\n",
        "Y_true = np.argmax(Y_true, axis= 1)\n",
        "\n",
        "f1_score_result = f1_score(Y_true, Y_pred,labels = [0,1], average='micro')\n",
        "result_df.loc[len(result_df)] = ['Approach2_CC_WTF', f1_score_result]\n",
        "f1_score_result"
      ],
      "execution_count": 315,
      "outputs": [
        {
          "output_type": "execute_result",
          "data": {
            "text/plain": [
              "0.6167400881057269"
            ]
          },
          "metadata": {
            "tags": []
          },
          "execution_count": 315
        }
      ]
    },
    {
      "cell_type": "markdown",
      "metadata": {
        "id": "UECckmdJ8bR8"
      },
      "source": [
        "**With Transfer Learning**"
      ]
    },
    {
      "cell_type": "code",
      "metadata": {
        "id": "R1zde7Ff8bR9",
        "outputId": "f4d690e7-21bf-4dae-9b89-a68efca8c39b",
        "colab": {
          "base_uri": "https://localhost:8080/",
          "height": 0
        }
      },
      "source": [
        "E_T = np.zeros((len(word_index)+1, embedding_dim))\n",
        "for word, i in word_index.items():\n",
        "    embedding_vector = glove_vectors.get(word)\n",
        "    if embedding_vector is not None:  \n",
        "        E_T[i] = embedding_vector\n",
        "\n",
        "E_T.size"
      ],
      "execution_count": 316,
      "outputs": [
        {
          "output_type": "execute_result",
          "data": {
            "text/plain": [
              "228200"
            ]
          },
          "metadata": {
            "tags": []
          },
          "execution_count": 316
        }
      ]
    },
    {
      "cell_type": "code",
      "metadata": {
        "id": "EUUCG7408bSA",
        "outputId": "46351d9e-1595-4040-90aa-13c53e9418ae",
        "colab": {
          "base_uri": "https://localhost:8080/",
          "height": 0
        }
      },
      "source": [
        "embedding_layer_TL = Embedding(len(word_index)+1,\n",
        "                                embedding_dim,\n",
        "                                weights=[E_T],\n",
        "                                input_length=MAX_LENGTH,\n",
        "                                trainable=False)\n",
        "model2 = create_model(embedding_layer_TL)\n",
        "print(model2.summary())"
      ],
      "execution_count": 317,
      "outputs": [
        {
          "output_type": "stream",
          "text": [
            "Model: \"sequential_23\"\n",
            "_________________________________________________________________\n",
            "Layer (type)                 Output Shape              Param #   \n",
            "=================================================================\n",
            "embedding_23 (Embedding)     (None, 40, 100)           228200    \n",
            "_________________________________________________________________\n",
            "lstm_23 (LSTM)               (None, 32)                17024     \n",
            "_________________________________________________________________\n",
            "dropout_46 (Dropout)         (None, 32)                0         \n",
            "_________________________________________________________________\n",
            "dense_46 (Dense)             (None, 64)                2112      \n",
            "_________________________________________________________________\n",
            "dropout_47 (Dropout)         (None, 64)                0         \n",
            "_________________________________________________________________\n",
            "dense_47 (Dense)             (None, 3)                 195       \n",
            "=================================================================\n",
            "Total params: 247,531\n",
            "Trainable params: 19,331\n",
            "Non-trainable params: 228,200\n",
            "_________________________________________________________________\n",
            "None\n"
          ],
          "name": "stdout"
        }
      ]
    },
    {
      "cell_type": "code",
      "metadata": {
        "id": "zQ3UShmz8bSG",
        "outputId": "ddd16dea-042e-4e66-d3ed-8ce98558f3bb",
        "colab": {
          "base_uri": "https://localhost:8080/",
          "height": 0
        }
      },
      "source": [
        "m_histories['with_TL'] = model2.fit(X_train, Y_train, batch_size=32, epochs=50, validation_data=(X_Val, Y_Val), callbacks=get_callbacks('models/with_TL'), verbose=1)   "
      ],
      "execution_count": 318,
      "outputs": [
        {
          "output_type": "stream",
          "text": [
            "Epoch 1/50\n",
            " 2/10 [=====>........................] - ETA: 2s - loss: 1.2078WARNING:tensorflow:Callbacks method `on_train_batch_end` is slow compared to the batch time (batch time: 0.0600s vs `on_train_batch_end` time: 0.4469s). Check your callbacks.\n",
            "10/10 [==============================] - 1s 129ms/step - loss: 1.1816 - val_loss: 1.1478\n",
            "Epoch 2/50\n",
            "10/10 [==============================] - 0s 45ms/step - loss: 1.0765 - val_loss: 1.0296\n",
            "Epoch 3/50\n",
            "10/10 [==============================] - 0s 50ms/step - loss: 0.9418 - val_loss: 1.0231\n",
            "Epoch 4/50\n",
            "10/10 [==============================] - 0s 45ms/step - loss: 0.9003 - val_loss: 0.9596\n",
            "Epoch 5/50\n",
            "10/10 [==============================] - 0s 46ms/step - loss: 0.8780 - val_loss: 0.9607\n",
            "Epoch 6/50\n",
            "10/10 [==============================] - 0s 44ms/step - loss: 0.8713 - val_loss: 0.9520\n",
            "Epoch 7/50\n",
            "10/10 [==============================] - 0s 47ms/step - loss: 0.8541 - val_loss: 0.9504\n",
            "Epoch 8/50\n",
            "10/10 [==============================] - 0s 45ms/step - loss: 0.8578 - val_loss: 0.9490\n",
            "Epoch 9/50\n",
            "10/10 [==============================] - 0s 47ms/step - loss: 0.8399 - val_loss: 0.9319\n",
            "Epoch 10/50\n",
            "10/10 [==============================] - 0s 50ms/step - loss: 0.8320 - val_loss: 0.9523\n",
            "Epoch 11/50\n",
            "10/10 [==============================] - 0s 48ms/step - loss: 0.8486 - val_loss: 0.9323\n",
            "Epoch 12/50\n",
            "10/10 [==============================] - 0s 46ms/step - loss: 0.8411 - val_loss: 0.9239\n",
            "Epoch 13/50\n",
            "10/10 [==============================] - 0s 47ms/step - loss: 0.8337 - val_loss: 0.9283\n",
            "Epoch 14/50\n",
            "10/10 [==============================] - 0s 48ms/step - loss: 0.8352 - val_loss: 0.9321\n",
            "Epoch 15/50\n",
            "10/10 [==============================] - 0s 47ms/step - loss: 0.8143 - val_loss: 0.9287\n",
            "Epoch 16/50\n",
            "10/10 [==============================] - 0s 50ms/step - loss: 0.8186 - val_loss: 0.9218\n",
            "Epoch 17/50\n",
            "10/10 [==============================] - 0s 47ms/step - loss: 0.8156 - val_loss: 0.9257\n",
            "Epoch 18/50\n",
            "10/10 [==============================] - 0s 46ms/step - loss: 0.8212 - val_loss: 0.9153\n",
            "Epoch 19/50\n",
            "10/10 [==============================] - 0s 47ms/step - loss: 0.7969 - val_loss: 0.9238\n",
            "Epoch 20/50\n",
            "10/10 [==============================] - 0s 50ms/step - loss: 0.8015 - val_loss: 0.9252\n",
            "Epoch 21/50\n",
            "10/10 [==============================] - 0s 44ms/step - loss: 0.7926 - val_loss: 0.9133\n",
            "Epoch 22/50\n",
            "10/10 [==============================] - 0s 46ms/step - loss: 0.7724 - val_loss: 0.9160\n",
            "Epoch 23/50\n",
            "10/10 [==============================] - 0s 48ms/step - loss: 0.7251 - val_loss: 0.9711\n",
            "Epoch 24/50\n",
            "10/10 [==============================] - 0s 47ms/step - loss: 0.7367 - val_loss: 0.8771\n",
            "Epoch 25/50\n",
            "10/10 [==============================] - 0s 48ms/step - loss: 0.7122 - val_loss: 0.9600\n",
            "Epoch 26/50\n",
            "10/10 [==============================] - 0s 47ms/step - loss: 0.7533 - val_loss: 0.8273\n",
            "Epoch 27/50\n",
            "10/10 [==============================] - 0s 47ms/step - loss: 0.6944 - val_loss: 0.8979\n",
            "Epoch 28/50\n",
            "10/10 [==============================] - 0s 48ms/step - loss: 0.6792 - val_loss: 0.8325\n",
            "Epoch 29/50\n",
            "10/10 [==============================] - 1s 51ms/step - loss: 0.7276 - val_loss: 0.8034\n",
            "Epoch 30/50\n",
            "10/10 [==============================] - 0s 46ms/step - loss: 0.7141 - val_loss: 0.8327\n",
            "Epoch 31/50\n",
            "10/10 [==============================] - 0s 47ms/step - loss: 0.6521 - val_loss: 0.7954\n",
            "Epoch 32/50\n",
            "10/10 [==============================] - 0s 47ms/step - loss: 0.6650 - val_loss: 0.8629\n",
            "Epoch 33/50\n",
            "10/10 [==============================] - 0s 47ms/step - loss: 0.6323 - val_loss: 0.7675\n",
            "Epoch 34/50\n",
            "10/10 [==============================] - 0s 46ms/step - loss: 0.6149 - val_loss: 0.8347\n",
            "Epoch 35/50\n",
            "10/10 [==============================] - 0s 48ms/step - loss: 0.6108 - val_loss: 0.8009\n",
            "Epoch 36/50\n",
            "10/10 [==============================] - 0s 48ms/step - loss: 0.5979 - val_loss: 0.7825\n",
            "Epoch 37/50\n",
            "10/10 [==============================] - 0s 48ms/step - loss: 0.5973 - val_loss: 0.9528\n",
            "Epoch 38/50\n",
            "10/10 [==============================] - 0s 47ms/step - loss: 0.6135 - val_loss: 0.7902\n",
            "Epoch 39/50\n",
            "10/10 [==============================] - 0s 49ms/step - loss: 0.6225 - val_loss: 0.8394\n",
            "Epoch 40/50\n",
            "10/10 [==============================] - 0s 45ms/step - loss: 0.6615 - val_loss: 0.7826\n",
            "Epoch 41/50\n",
            "10/10 [==============================] - 0s 48ms/step - loss: 0.6056 - val_loss: 0.7990\n",
            "Epoch 42/50\n",
            "10/10 [==============================] - 0s 46ms/step - loss: 0.6127 - val_loss: 0.7682\n",
            "Epoch 43/50\n",
            "10/10 [==============================] - 0s 48ms/step - loss: 0.5764 - val_loss: 0.8205\n",
            "Epoch 44/50\n",
            "10/10 [==============================] - 0s 45ms/step - loss: 0.5795 - val_loss: 0.7696\n",
            "Epoch 45/50\n",
            "10/10 [==============================] - 0s 50ms/step - loss: 0.5948 - val_loss: 0.8300\n",
            "Epoch 46/50\n",
            "10/10 [==============================] - 0s 46ms/step - loss: 0.6031 - val_loss: 0.7979\n",
            "Epoch 47/50\n",
            "10/10 [==============================] - 0s 46ms/step - loss: 0.5941 - val_loss: 0.7970\n",
            "Epoch 48/50\n",
            "10/10 [==============================] - 0s 47ms/step - loss: 0.5687 - val_loss: 0.7680\n",
            "Epoch 49/50\n",
            "10/10 [==============================] - 0s 49ms/step - loss: 0.6013 - val_loss: 0.8188\n",
            "Epoch 50/50\n",
            "10/10 [==============================] - 0s 46ms/step - loss: 0.5309 - val_loss: 0.8070\n"
          ],
          "name": "stdout"
        }
      ]
    },
    {
      "cell_type": "code",
      "metadata": {
        "id": "WguOykzO8bSJ",
        "outputId": "08b001f9-029f-415e-83b0-858800a1ff41",
        "colab": {
          "base_uri": "https://localhost:8080/",
          "height": 0
        }
      },
      "source": [
        "plotter(m_histories, ylim=[0.0, 2], metric = 'loss')"
      ],
      "execution_count": 319,
      "outputs": [
        {
          "output_type": "display_data",
          "data": {
            "image/png": "[encoded data removed]",
            "text/plain": [
              "<Figure size 432x288 with 1 Axes>"
            ]
          },
          "metadata": {
            "tags": [],
            "needs_background": "light"
          }
        }
      ]
    },
    {
      "cell_type": "code",
      "metadata": {
        "id": "VKHrLvBFUB9d",
        "outputId": "5423c4b1-9c7a-4e48-ddb0-1f2cc39b4f46",
        "colab": {
          "base_uri": "https://localhost:8080/",
          "height": 0
        }
      },
      "source": [
        "from sklearn.metrics import f1_score\n",
        "\n",
        "Y_pred = model2.predict_classes(X_test)\n",
        "\n",
        "f1_score_result = f1_score(Y_true, Y_pred,labels = [0,1], average='micro')\n",
        "result_df.loc[len(result_df)] = ['Approach2_CC_TF', f1_score_result]\n",
        "f1_score_result"
      ],
      "execution_count": 320,
      "outputs": [
        {
          "output_type": "execute_result",
          "data": {
            "text/plain": [
              "0.6375545851528384"
            ]
          },
          "metadata": {
            "tags": []
          },
          "execution_count": 320
        }
      ]
    },
    {
      "cell_type": "markdown",
      "metadata": {
        "id": "eHma85Nt9Kky"
      },
      "source": [
        "# **5. Modelling for tweets related to target: Feminist Movement**"
      ]
    },
    {
      "cell_type": "markdown",
      "metadata": {
        "id": "MZJsHUrUn5kE"
      },
      "source": [
        "First we check the preprocessed tweet data for target Feminist Movement"
      ]
    },
    {
      "cell_type": "code",
      "metadata": {
        "id": "FYn6HtDB9Kk1",
        "outputId": "1b4504fd-802b-424a-afca-ae700c04d159",
        "colab": {
          "base_uri": "https://localhost:8080/",
          "height": 318
        }
      },
      "source": [
        "Tweets_FM[:1]"
      ],
      "execution_count": 321,
      "outputs": [
        {
          "output_type": "execute_result",
          "data": {
            "text/plain": [
              "[['always',\n",
              "  'delight',\n",
              "  'see',\n",
              "  'chestdrumming',\n",
              "  'alpha',\n",
              "  'males',\n",
              "  'hiss',\n",
              "  'scuttle',\n",
              "  'backwards',\n",
              "  'wall',\n",
              "  'feminist',\n",
              "  'enters',\n",
              "  'room',\n",
              "  '#manly',\n",
              "  '#semst',\n",
              "  'feminist',\n",
              "  'movement']]"
            ]
          },
          "metadata": {
            "tags": []
          },
          "execution_count": 321
        }
      ]
    },
    {
      "cell_type": "markdown",
      "metadata": {
        "id": "YU47Y2Hcn5kL"
      },
      "source": [
        "The next step is to call method padding which will tokenize the tweets and pad them with max length of 40."
      ]
    },
    {
      "cell_type": "code",
      "metadata": {
        "id": "o9SjnDsq9Kk7",
        "outputId": "03dc465e-08ab-4eee-a3da-0b327c1da727",
        "colab": {
          "base_uri": "https://localhost:8080/",
          "height": 70
        }
      },
      "source": [
        "X, word_index = Padding(Tweets_FM)\n",
        "Y = pd.get_dummies(traindata_FM['Stance']).values\n",
        "print('Shape of label tensor:', Y.shape)"
      ],
      "execution_count": 322,
      "outputs": [
        {
          "output_type": "stream",
          "text": [
            "Found 3031 unique tokens.\n",
            "Shape of data tensor: (664, 40)\n",
            "Shape of label tensor: (664, 3)\n"
          ],
          "name": "stdout"
        }
      ]
    },
    {
      "cell_type": "markdown",
      "metadata": {
        "id": "pXakGexWn5kN"
      },
      "source": [
        "The next step is to split the above data into training and validation. We are using above mentioned split() method by passing 0.2 as a split size which means 20% of the data is reserved for validation and remaining 80% data is used for training the model."
      ]
    },
    {
      "cell_type": "code",
      "metadata": {
        "id": "VPEWZ2rc9Kk9",
        "outputId": "d3d76049-da84-45f9-c24d-9d78632e0956",
        "colab": {
          "base_uri": "https://localhost:8080/",
          "height": 87
        }
      },
      "source": [
        "X_train, X_Val, Y_train, Y_Val = split(X, Y, 0.2)\n",
        "print(\"X train shape: \", X_train.shape)\n",
        "print(\"Y train shape: \", Y_train.shape)\n",
        "print(\"X Val shape: \", X_Val.shape)\n",
        "print(\"Y Val shape: \", Y_Val.shape)"
      ],
      "execution_count": 323,
      "outputs": [
        {
          "output_type": "stream",
          "text": [
            "X train shape:  (531, 40)\n",
            "Y train shape:  (531, 3)\n",
            "X Val shape:  (133, 40)\n",
            "Y Val shape:  (133, 3)\n"
          ],
          "name": "stdout"
        }
      ]
    },
    {
      "cell_type": "markdown",
      "metadata": {
        "id": "sWfMQLKi9KlA"
      },
      "source": [
        "**Without Transfer Learning**"
      ]
    },
    {
      "cell_type": "code",
      "metadata": {
        "id": "uy4Jr0-H9KlA",
        "outputId": "4bdc8ae4-9f29-4999-e577-497b2507ba21",
        "colab": {
          "base_uri": "https://localhost:8080/",
          "height": 390
        }
      },
      "source": [
        "embedding_layer = Embedding(len(word_index)+1,\n",
        "                                   embedding_dim,\n",
        "                                   input_length=MAX_LENGTH,\n",
        "                                   trainable=True)\n",
        "model2 = create_model(embedding_layer)\n",
        "print(model2.summary())"
      ],
      "execution_count": 324,
      "outputs": [
        {
          "output_type": "stream",
          "text": [
            "Model: \"sequential_24\"\n",
            "_________________________________________________________________\n",
            "Layer (type)                 Output Shape              Param #   \n",
            "=================================================================\n",
            "embedding_24 (Embedding)     (None, 40, 100)           303200    \n",
            "_________________________________________________________________\n",
            "lstm_24 (LSTM)               (None, 32)                17024     \n",
            "_________________________________________________________________\n",
            "dropout_48 (Dropout)         (None, 32)                0         \n",
            "_________________________________________________________________\n",
            "dense_48 (Dense)             (None, 64)                2112      \n",
            "_________________________________________________________________\n",
            "dropout_49 (Dropout)         (None, 64)                0         \n",
            "_________________________________________________________________\n",
            "dense_49 (Dense)             (None, 3)                 195       \n",
            "=================================================================\n",
            "Total params: 322,531\n",
            "Trainable params: 322,531\n",
            "Non-trainable params: 0\n",
            "_________________________________________________________________\n",
            "None\n"
          ],
          "name": "stdout"
        }
      ]
    },
    {
      "cell_type": "markdown",
      "metadata": {
        "id": "ansOZNmNn5kP"
      },
      "source": [
        "As we have less amount of data available for training, we are using K-fold cross validation technique to train our model for 50 epochs in each of the 3 folds.\n",
        "The batch size is set to 64 and we trained the data for 50 epochs and 3 folds.\n",
        "\n",
        "From the below output we can see that the model achieved categorical accuracy of about 74% on the validation data set.\n",
        "\n",
        "To check the learning curve of the training and validation we plot the grphs using plotter function mentioned above."
      ]
    },
    {
      "cell_type": "code",
      "metadata": {
        "id": "kVHihgjs9KlD",
        "outputId": "f053f94d-2278-4346-a4ef-a34de785acb1",
        "colab": {
          "base_uri": "https://localhost:8080/",
          "height": 1000
        }
      },
      "source": [
        "from sklearn.model_selection import KFold\n",
        "num_folds = 3\n",
        "input = np.concatenate((X_train, X_Val), axis= 0)\n",
        "target = np.concatenate((Y_train, Y_Val), axis= 0)\n",
        "\n",
        "kfold = KFold(n_splits=num_folds, shuffle=True)\n",
        "K = 1\n",
        "for train, test in kfold.split(input, target):\n",
        "    print(\"fold number: \", K)\n",
        "    m_histories = {}\n",
        "    m_histories['with_TL'] = model2.fit(input[train], target[train], batch_size=32, epochs=20, validation_data=(input[test], target[test]), callbacks=get_callbacks('models/with_TL'), verbose=1)\n",
        "    K = K+1"
      ],
      "execution_count": 325,
      "outputs": [
        {
          "output_type": "stream",
          "text": [
            "fold number:  1\n",
            "Epoch 1/20\n",
            " 2/14 [===>..........................] - ETA: 3s - loss: 1.2146WARNING:tensorflow:Callbacks method `on_train_batch_end` is slow compared to the batch time (batch time: 0.0732s vs `on_train_batch_end` time: 0.5926s). Check your callbacks.\n",
            "14/14 [==============================] - 2s 129ms/step - loss: 1.1897 - val_loss: 1.1553\n",
            "Epoch 2/20\n",
            "14/14 [==============================] - 1s 60ms/step - loss: 1.1229 - val_loss: 1.1182\n",
            "Epoch 3/20\n",
            "14/14 [==============================] - 1s 63ms/step - loss: 1.1138 - val_loss: 1.1054\n",
            "Epoch 4/20\n",
            "14/14 [==============================] - 1s 61ms/step - loss: 1.0808 - val_loss: 1.0955\n",
            "Epoch 5/20\n",
            "14/14 [==============================] - 1s 62ms/step - loss: 1.0773 - val_loss: 1.0858\n",
            "Epoch 6/20\n",
            "14/14 [==============================] - 1s 60ms/step - loss: 1.0692 - val_loss: 1.0798\n",
            "Epoch 7/20\n",
            "14/14 [==============================] - 1s 60ms/step - loss: 1.0572 - val_loss: 1.0751\n",
            "Epoch 8/20\n",
            "14/14 [==============================] - 1s 65ms/step - loss: 1.0497 - val_loss: 1.0740\n",
            "Epoch 9/20\n",
            "14/14 [==============================] - 1s 62ms/step - loss: 1.0502 - val_loss: 1.0683\n",
            "Epoch 10/20\n",
            "14/14 [==============================] - 1s 61ms/step - loss: 1.0424 - val_loss: 1.0643\n",
            "Epoch 11/20\n",
            "14/14 [==============================] - 1s 60ms/step - loss: 1.0465 - val_loss: 1.0664\n",
            "Epoch 12/20\n",
            "14/14 [==============================] - 1s 62ms/step - loss: 1.0445 - val_loss: 1.0608\n",
            "Epoch 13/20\n",
            "14/14 [==============================] - 1s 58ms/step - loss: 1.0369 - val_loss: 1.0595\n",
            "Epoch 14/20\n",
            "14/14 [==============================] - 1s 61ms/step - loss: 1.0392 - val_loss: 1.0580\n",
            "Epoch 15/20\n",
            "14/14 [==============================] - 1s 60ms/step - loss: 0.9836 - val_loss: 1.0365\n",
            "Epoch 16/20\n",
            "14/14 [==============================] - 1s 59ms/step - loss: 0.7596 - val_loss: 1.4889\n",
            "Epoch 17/20\n",
            "14/14 [==============================] - 1s 61ms/step - loss: 0.7132 - val_loss: 1.3032\n",
            "Epoch 18/20\n",
            "14/14 [==============================] - 1s 62ms/step - loss: 0.6222 - val_loss: 1.4755\n",
            "Epoch 19/20\n",
            "14/14 [==============================] - 1s 63ms/step - loss: 0.5272 - val_loss: 1.8229\n",
            "Epoch 20/20\n",
            "14/14 [==============================] - 1s 63ms/step - loss: 0.4713 - val_loss: 1.8421\n",
            "fold number:  2\n",
            "Epoch 1/20\n",
            " 2/14 [===>..........................] - ETA: 1s - loss: 0.9632WARNING:tensorflow:Callbacks method `on_train_batch_end` is slow compared to the batch time (batch time: 0.0575s vs `on_train_batch_end` time: 0.1197s). Check your callbacks.\n",
            "14/14 [==============================] - 1s 74ms/step - loss: 1.0795 - val_loss: 0.4640\n",
            "Epoch 2/20\n",
            "14/14 [==============================] - 1s 60ms/step - loss: 0.7522 - val_loss: 0.5055\n",
            "Epoch 3/20\n",
            "14/14 [==============================] - 1s 61ms/step - loss: 0.8090 - val_loss: 0.5471\n",
            "Epoch 4/20\n",
            "14/14 [==============================] - 1s 59ms/step - loss: 0.7530 - val_loss: 0.5374\n",
            "Epoch 5/20\n",
            "14/14 [==============================] - 1s 61ms/step - loss: 0.7250 - val_loss: 0.4871\n",
            "Epoch 6/20\n",
            "14/14 [==============================] - 1s 60ms/step - loss: 0.7057 - val_loss: 0.4642\n",
            "Epoch 7/20\n",
            "14/14 [==============================] - 1s 61ms/step - loss: 0.6906 - val_loss: 0.4687\n",
            "Epoch 8/20\n",
            "14/14 [==============================] - 1s 61ms/step - loss: 0.6655 - val_loss: 0.4658\n",
            "Epoch 9/20\n",
            "14/14 [==============================] - 1s 58ms/step - loss: 0.6468 - val_loss: 0.4527\n",
            "Epoch 10/20\n",
            "14/14 [==============================] - 1s 65ms/step - loss: 0.7367 - val_loss: 0.4674\n",
            "Epoch 11/20\n",
            "14/14 [==============================] - 1s 61ms/step - loss: 0.7405 - val_loss: 0.5138\n",
            "Epoch 12/20\n",
            "14/14 [==============================] - 1s 63ms/step - loss: 0.6724 - val_loss: 0.5040\n",
            "Epoch 13/20\n",
            "14/14 [==============================] - 1s 62ms/step - loss: 0.6412 - val_loss: 0.4659\n",
            "Epoch 14/20\n",
            "14/14 [==============================] - 1s 62ms/step - loss: 0.7289 - val_loss: 0.6397\n",
            "Epoch 15/20\n",
            "14/14 [==============================] - 1s 61ms/step - loss: 0.7740 - val_loss: 0.6498\n",
            "Epoch 16/20\n",
            "14/14 [==============================] - 1s 62ms/step - loss: 0.7080 - val_loss: 0.6331\n",
            "Epoch 17/20\n",
            "14/14 [==============================] - 1s 63ms/step - loss: 0.6574 - val_loss: 0.6148\n",
            "Epoch 18/20\n",
            "14/14 [==============================] - 1s 62ms/step - loss: 0.6852 - val_loss: 0.6165\n",
            "Epoch 19/20\n",
            "14/14 [==============================] - 1s 63ms/step - loss: 0.6920 - val_loss: 0.5729\n",
            "Epoch 20/20\n",
            "14/14 [==============================] - 1s 61ms/step - loss: 0.6283 - val_loss: 0.5142\n",
            "fold number:  3\n",
            "Epoch 1/20\n",
            "14/14 [==============================] - 1s 70ms/step - loss: 0.5747 - val_loss: 0.5403\n",
            "Epoch 2/20\n",
            "14/14 [==============================] - 1s 60ms/step - loss: 0.5867 - val_loss: 0.5007\n",
            "Epoch 3/20\n",
            "14/14 [==============================] - 1s 63ms/step - loss: 0.5809 - val_loss: 0.5052\n",
            "Epoch 4/20\n",
            "14/14 [==============================] - 1s 61ms/step - loss: 0.5737 - val_loss: 0.4782\n",
            "Epoch 5/20\n",
            "14/14 [==============================] - 1s 61ms/step - loss: 0.5330 - val_loss: 0.4740\n",
            "Epoch 6/20\n",
            "14/14 [==============================] - 1s 60ms/step - loss: 0.5393 - val_loss: 0.4725\n",
            "Epoch 7/20\n",
            "14/14 [==============================] - 1s 62ms/step - loss: 0.5338 - val_loss: 0.5414\n",
            "Epoch 8/20\n",
            "14/14 [==============================] - 1s 63ms/step - loss: 0.4895 - val_loss: 0.5038\n",
            "Epoch 9/20\n",
            "14/14 [==============================] - 1s 61ms/step - loss: 0.5543 - val_loss: 0.5001\n",
            "Epoch 10/20\n",
            "14/14 [==============================] - 1s 62ms/step - loss: 0.5439 - val_loss: 0.5143\n",
            "Epoch 11/20\n",
            "14/14 [==============================] - 1s 65ms/step - loss: 0.5248 - val_loss: 0.4653\n",
            "Epoch 12/20\n",
            "14/14 [==============================] - 1s 64ms/step - loss: 0.4905 - val_loss: 0.4499\n",
            "Epoch 13/20\n",
            "14/14 [==============================] - 1s 60ms/step - loss: 0.5228 - val_loss: 0.4494\n",
            "Epoch 14/20\n",
            "14/14 [==============================] - 1s 61ms/step - loss: 0.4665 - val_loss: 0.5365\n",
            "Epoch 15/20\n",
            "14/14 [==============================] - 1s 64ms/step - loss: 0.4965 - val_loss: 0.5626\n",
            "Epoch 16/20\n",
            "14/14 [==============================] - 1s 65ms/step - loss: 0.4147 - val_loss: 0.3631\n",
            "Epoch 17/20\n",
            "14/14 [==============================] - 1s 60ms/step - loss: 0.3750 - val_loss: 0.3302\n",
            "Epoch 18/20\n",
            "14/14 [==============================] - 1s 62ms/step - loss: 0.3651 - val_loss: 0.3336\n",
            "Epoch 19/20\n",
            "14/14 [==============================] - 1s 64ms/step - loss: 0.3082 - val_loss: 0.3918\n",
            "Epoch 20/20\n",
            "14/14 [==============================] - 1s 62ms/step - loss: 0.3231 - val_loss: 0.5643\n"
          ],
          "name": "stdout"
        }
      ]
    },
    {
      "cell_type": "markdown",
      "metadata": {
        "id": "sYFP3QnVn5kQ"
      },
      "source": [
        "We tried to plot learning curves for both validation and training data on Catergorical Crossentropy as well as for Catergorical Accuracy."
      ]
    },
    {
      "cell_type": "code",
      "metadata": {
        "id": "HVUf2S6n9KlF",
        "outputId": "32239b0c-e9f5-4818-a36f-2fdfca4199e0",
        "colab": {
          "base_uri": "https://localhost:8080/",
          "height": 283
        }
      },
      "source": [
        "plotter(m_histories, ylim=[0.0, 2], metric = 'loss')"
      ],
      "execution_count": 326,
      "outputs": [
        {
          "output_type": "display_data",
          "data": {
            "image/png": "[encoded data removed]",
            "text/plain": [
              "<Figure size 432x288 with 1 Axes>"
            ]
          },
          "metadata": {
            "tags": [],
            "needs_background": "light"
          }
        }
      ]
    },
    {
      "cell_type": "code",
      "metadata": {
        "id": "zmbxOOr1UgYd",
        "outputId": "636e3ac2-8ecf-4470-f8d1-bf58c80b1ff3",
        "colab": {
          "base_uri": "https://localhost:8080/",
          "height": 70
        }
      },
      "source": [
        "X_test, test_word_index = Padding(Test_Tweets_FM)\n",
        "Y_true = pd.get_dummies(testdata_FM['Stance']).values\n",
        "print('Shape of label tensor:', Y_true.shape)"
      ],
      "execution_count": 327,
      "outputs": [
        {
          "output_type": "stream",
          "text": [
            "Found 1609 unique tokens.\n",
            "Shape of data tensor: (285, 40)\n",
            "Shape of label tensor: (285, 3)\n"
          ],
          "name": "stdout"
        }
      ]
    },
    {
      "cell_type": "code",
      "metadata": {
        "id": "CZgl5lPbUgYu",
        "outputId": "b8ed579e-e604-4353-8fc5-f675e6c8cd6e",
        "colab": {
          "base_uri": "https://localhost:8080/",
          "height": 34
        }
      },
      "source": [
        "from sklearn.metrics import f1_score\n",
        "\n",
        "Y_pred = model2.predict_classes(X_test)\n",
        "\n",
        "Y_true = np.argmax(Y_true, axis= 1)\n",
        "\n",
        "f1_score_result = f1_score(Y_true, Y_pred,labels = [0,1], average='micro')\n",
        "result_df.loc[len(result_df)] = ['Approach2_FM_WTF', f1_score_result]\n",
        "f1_score_result"
      ],
      "execution_count": 328,
      "outputs": [
        {
          "output_type": "execute_result",
          "data": {
            "text/plain": [
              "0.43737574552683894"
            ]
          },
          "metadata": {
            "tags": []
          },
          "execution_count": 328
        }
      ]
    },
    {
      "cell_type": "markdown",
      "metadata": {
        "id": "yks4widM9KlK"
      },
      "source": [
        "**With Transfer Learning**"
      ]
    },
    {
      "cell_type": "code",
      "metadata": {
        "id": "EBaBIA269KlK",
        "outputId": "aae0bfed-6710-47da-854d-41a019032de3",
        "colab": {
          "base_uri": "https://localhost:8080/",
          "height": 34
        }
      },
      "source": [
        "E_T = np.zeros((len(word_index)+1, embedding_dim))\n",
        "for word, i in word_index.items():\n",
        "    embedding_vector = glove_vectors.get(word)\n",
        "    if embedding_vector is not None:  \n",
        "        E_T[i] = embedding_vector\n",
        "\n",
        "E_T.size"
      ],
      "execution_count": 329,
      "outputs": [
        {
          "output_type": "execute_result",
          "data": {
            "text/plain": [
              "303200"
            ]
          },
          "metadata": {
            "tags": []
          },
          "execution_count": 329
        }
      ]
    },
    {
      "cell_type": "code",
      "metadata": {
        "id": "1ey5Mmr39KlN",
        "outputId": "b64ef1fa-6e9d-47f9-fb9c-ef040d1b94ac",
        "colab": {
          "base_uri": "https://localhost:8080/",
          "height": 390
        }
      },
      "source": [
        "embedding_layer_TL = Embedding(len(word_index)+1,\n",
        "                                embedding_dim,\n",
        "                                weights=[E_T],\n",
        "                                input_length=MAX_LENGTH,\n",
        "                                trainable=False)\n",
        "model2 = create_model(embedding_layer_TL)\n",
        "print(model2.summary())"
      ],
      "execution_count": 330,
      "outputs": [
        {
          "output_type": "stream",
          "text": [
            "Model: \"sequential_25\"\n",
            "_________________________________________________________________\n",
            "Layer (type)                 Output Shape              Param #   \n",
            "=================================================================\n",
            "embedding_25 (Embedding)     (None, 40, 100)           303200    \n",
            "_________________________________________________________________\n",
            "lstm_25 (LSTM)               (None, 32)                17024     \n",
            "_________________________________________________________________\n",
            "dropout_50 (Dropout)         (None, 32)                0         \n",
            "_________________________________________________________________\n",
            "dense_50 (Dense)             (None, 64)                2112      \n",
            "_________________________________________________________________\n",
            "dropout_51 (Dropout)         (None, 64)                0         \n",
            "_________________________________________________________________\n",
            "dense_51 (Dense)             (None, 3)                 195       \n",
            "=================================================================\n",
            "Total params: 322,531\n",
            "Trainable params: 19,331\n",
            "Non-trainable params: 303,200\n",
            "_________________________________________________________________\n",
            "None\n"
          ],
          "name": "stdout"
        }
      ]
    },
    {
      "cell_type": "code",
      "metadata": {
        "id": "fvDnzOGQ9KlQ",
        "outputId": "6576c86c-5e29-4ecc-832f-d22ee1e58e7c",
        "colab": {
          "base_uri": "https://localhost:8080/",
          "height": 1000
        }
      },
      "source": [
        "m_histories['with_TL'] = model2.fit(X_train, Y_train, batch_size=32, epochs=50, validation_data=(X_Val, Y_Val), callbacks=get_callbacks('models/with_TL'), verbose=1)   "
      ],
      "execution_count": 331,
      "outputs": [
        {
          "output_type": "stream",
          "text": [
            "Epoch 1/50\n",
            " 2/17 [==>...........................] - ETA: 3s - loss: 1.2107WARNING:tensorflow:Callbacks method `on_train_batch_end` is slow compared to the batch time (batch time: 0.0611s vs `on_train_batch_end` time: 0.4686s). Check your callbacks.\n",
            "17/17 [==============================] - 2s 99ms/step - loss: 1.1853 - val_loss: 1.1562\n",
            "Epoch 2/50\n",
            "17/17 [==============================] - 1s 50ms/step - loss: 1.1166 - val_loss: 1.1023\n",
            "Epoch 3/50\n",
            "17/17 [==============================] - 1s 48ms/step - loss: 1.0762 - val_loss: 1.0850\n",
            "Epoch 4/50\n",
            "17/17 [==============================] - 1s 48ms/step - loss: 1.0627 - val_loss: 1.0732\n",
            "Epoch 5/50\n",
            "17/17 [==============================] - 1s 52ms/step - loss: 1.0539 - val_loss: 1.0639\n",
            "Epoch 6/50\n",
            "17/17 [==============================] - 1s 49ms/step - loss: 1.0292 - val_loss: 1.0295\n",
            "Epoch 7/50\n",
            "17/17 [==============================] - 1s 50ms/step - loss: 1.0208 - val_loss: 1.0494\n",
            "Epoch 8/50\n",
            "17/17 [==============================] - 1s 51ms/step - loss: 1.0297 - val_loss: 1.0585\n",
            "Epoch 9/50\n",
            "17/17 [==============================] - 1s 46ms/step - loss: 0.9866 - val_loss: 1.0284\n",
            "Epoch 10/50\n",
            "17/17 [==============================] - 1s 46ms/step - loss: 0.9909 - val_loss: 1.0142\n",
            "Epoch 11/50\n",
            "17/17 [==============================] - 1s 48ms/step - loss: 0.9854 - val_loss: 1.0135\n",
            "Epoch 12/50\n",
            "17/17 [==============================] - 1s 49ms/step - loss: 0.9478 - val_loss: 1.0951\n",
            "Epoch 13/50\n",
            "17/17 [==============================] - 1s 52ms/step - loss: 0.9375 - val_loss: 1.0699\n",
            "Epoch 14/50\n",
            "17/17 [==============================] - 1s 50ms/step - loss: 0.9391 - val_loss: 1.0797\n",
            "Epoch 15/50\n",
            "17/17 [==============================] - 1s 50ms/step - loss: 0.9434 - val_loss: 1.0362\n",
            "Epoch 16/50\n",
            "17/17 [==============================] - 1s 50ms/step - loss: 0.9293 - val_loss: 1.0039\n",
            "Epoch 17/50\n",
            "17/17 [==============================] - 1s 50ms/step - loss: 0.9115 - val_loss: 1.0429\n",
            "Epoch 18/50\n",
            "17/17 [==============================] - 1s 51ms/step - loss: 0.9029 - val_loss: 1.1174\n",
            "Epoch 19/50\n",
            "17/17 [==============================] - 1s 54ms/step - loss: 0.9287 - val_loss: 1.0046\n",
            "Epoch 20/50\n",
            "17/17 [==============================] - 1s 63ms/step - loss: 0.9373 - val_loss: 1.0185\n",
            "Epoch 21/50\n",
            "17/17 [==============================] - 1s 77ms/step - loss: 0.8882 - val_loss: 1.1612\n",
            "Epoch 22/50\n",
            "17/17 [==============================] - 1s 78ms/step - loss: 0.9081 - val_loss: 1.0253\n",
            "Epoch 23/50\n",
            "17/17 [==============================] - 1s 75ms/step - loss: 0.9019 - val_loss: 1.0920\n",
            "Epoch 24/50\n",
            "17/17 [==============================] - 1s 68ms/step - loss: 0.9057 - val_loss: 1.0479\n",
            "Epoch 25/50\n",
            "17/17 [==============================] - 1s 57ms/step - loss: 0.8836 - val_loss: 1.1503\n",
            "Epoch 26/50\n",
            "17/17 [==============================] - 1s 48ms/step - loss: 0.9316 - val_loss: 0.9985\n",
            "Epoch 27/50\n",
            "17/17 [==============================] - 1s 49ms/step - loss: 0.9324 - val_loss: 1.0044\n",
            "Epoch 28/50\n",
            "17/17 [==============================] - 1s 49ms/step - loss: 0.9068 - val_loss: 1.0742\n",
            "Epoch 29/50\n",
            "17/17 [==============================] - 1s 50ms/step - loss: 0.8982 - val_loss: 1.0467\n",
            "Epoch 30/50\n",
            "17/17 [==============================] - 1s 49ms/step - loss: 0.9148 - val_loss: 1.1052\n",
            "Epoch 31/50\n",
            "17/17 [==============================] - 1s 50ms/step - loss: 0.8758 - val_loss: 1.3831\n",
            "Epoch 32/50\n",
            "17/17 [==============================] - 1s 50ms/step - loss: 0.9587 - val_loss: 1.0251\n",
            "Epoch 33/50\n",
            "17/17 [==============================] - 1s 51ms/step - loss: 0.8973 - val_loss: 1.0966\n",
            "Epoch 34/50\n",
            "17/17 [==============================] - 1s 49ms/step - loss: 0.8767 - val_loss: 1.1362\n",
            "Epoch 35/50\n",
            "17/17 [==============================] - 1s 49ms/step - loss: 0.8763 - val_loss: 1.1402\n",
            "Epoch 36/50\n",
            "17/17 [==============================] - 1s 49ms/step - loss: 0.8754 - val_loss: 1.0912\n",
            "Epoch 37/50\n",
            "17/17 [==============================] - 1s 50ms/step - loss: 0.8826 - val_loss: 1.0604\n",
            "Epoch 38/50\n",
            "17/17 [==============================] - 1s 49ms/step - loss: 0.9026 - val_loss: 1.0786\n",
            "Epoch 39/50\n",
            "17/17 [==============================] - 1s 49ms/step - loss: 0.8813 - val_loss: 1.0959\n",
            "Epoch 40/50\n",
            "17/17 [==============================] - 1s 49ms/step - loss: 0.8631 - val_loss: 1.0650\n",
            "Epoch 41/50\n",
            "17/17 [==============================] - 1s 52ms/step - loss: 0.8759 - val_loss: 1.1179\n",
            "Epoch 42/50\n",
            "17/17 [==============================] - 1s 48ms/step - loss: 0.8399 - val_loss: 1.1463\n",
            "Epoch 43/50\n",
            "17/17 [==============================] - 1s 49ms/step - loss: 0.8561 - val_loss: 1.1220\n",
            "Epoch 44/50\n",
            "17/17 [==============================] - 1s 51ms/step - loss: 0.8432 - val_loss: 1.0776\n",
            "Epoch 45/50\n",
            "17/17 [==============================] - 1s 49ms/step - loss: 0.8574 - val_loss: 1.2116\n",
            "Epoch 46/50\n",
            "17/17 [==============================] - 1s 50ms/step - loss: 0.8783 - val_loss: 1.1330\n",
            "Epoch 47/50\n",
            "17/17 [==============================] - 1s 50ms/step - loss: 0.8385 - val_loss: 1.2052\n",
            "Epoch 48/50\n",
            "17/17 [==============================] - 1s 48ms/step - loss: 0.8405 - val_loss: 1.1671\n",
            "Epoch 49/50\n",
            "17/17 [==============================] - 1s 48ms/step - loss: 0.8526 - val_loss: 1.1741\n",
            "Epoch 50/50\n",
            "17/17 [==============================] - 1s 50ms/step - loss: 0.8152 - val_loss: 1.2240\n"
          ],
          "name": "stdout"
        }
      ]
    },
    {
      "cell_type": "code",
      "metadata": {
        "id": "njB1jFeu9KlX",
        "outputId": "d7a472ba-d41d-4e2f-fd80-c7b6510d4e7d",
        "colab": {
          "base_uri": "https://localhost:8080/",
          "height": 283
        }
      },
      "source": [
        "plotter(m_histories, ylim=[0.0, 2], metric = 'loss')"
      ],
      "execution_count": 332,
      "outputs": [
        {
          "output_type": "display_data",
          "data": {
            "image/png": "[encoded data removed]",
            "text/plain": [
              "<Figure size 432x288 with 1 Axes>"
            ]
          },
          "metadata": {
            "tags": [],
            "needs_background": "light"
          }
        }
      ]
    },
    {
      "cell_type": "code",
      "metadata": {
        "id": "NZdN-ZSEUnRt",
        "outputId": "396fbc36-ee6a-4853-d384-9687030c25a9",
        "colab": {
          "base_uri": "https://localhost:8080/",
          "height": 34
        }
      },
      "source": [
        "from sklearn.metrics import f1_score\n",
        "\n",
        "Y_pred = model2.predict_classes(X_test)\n",
        "\n",
        "f1_score_result = f1_score(Y_true, Y_pred,labels = [0,1], average='micro')\n",
        "result_df.loc[len(result_df)] = ['Approach2_FM_TF', f1_score_result]\n",
        "f1_score_result"
      ],
      "execution_count": 333,
      "outputs": [
        {
          "output_type": "execute_result",
          "data": {
            "text/plain": [
              "0.6611226611226612"
            ]
          },
          "metadata": {
            "tags": []
          },
          "execution_count": 333
        }
      ]
    },
    {
      "cell_type": "code",
      "metadata": {
        "id": "wyjyeG5VHbYj",
        "outputId": "02523ca4-6d41-4752-dd84-bf93e3203abf",
        "colab": {
          "base_uri": "https://localhost:8080/",
          "height": 377
        }
      },
      "source": [
        "result_df"
      ],
      "execution_count": 334,
      "outputs": [
        {
          "output_type": "execute_result",
          "data": {
            "text/html": [
              "<div>\n",
              "<style scoped>\n",
              "    .dataframe tbody tr th:only-of-type {\n",
              "        vertical-align: middle;\n",
              "    }\n",
              "\n",
              "    .dataframe tbody tr th {\n",
              "        vertical-align: top;\n",
              "    }\n",
              "\n",
              "    .dataframe thead th {\n",
              "        text-align: right;\n",
              "    }\n",
              "</style>\n",
              "<table border=\"1\" class=\"dataframe\">\n",
              "  <thead>\n",
              "    <tr style=\"text-align: right;\">\n",
              "      <th></th>\n",
              "      <th>model</th>\n",
              "      <th>F1_score</th>\n",
              "    </tr>\n",
              "  </thead>\n",
              "  <tbody>\n",
              "    <tr>\n",
              "      <th>0</th>\n",
              "      <td>Approach1_All_data_model</td>\n",
              "      <td>0.492988</td>\n",
              "    </tr>\n",
              "    <tr>\n",
              "      <th>1</th>\n",
              "      <td>Approach2_HC_WTF</td>\n",
              "      <td>0.531707</td>\n",
              "    </tr>\n",
              "    <tr>\n",
              "      <th>2</th>\n",
              "      <td>Approach2_HC_TF</td>\n",
              "      <td>0.624506</td>\n",
              "    </tr>\n",
              "    <tr>\n",
              "      <th>3</th>\n",
              "      <td>Approach2_AB_WTF</td>\n",
              "      <td>0.544041</td>\n",
              "    </tr>\n",
              "    <tr>\n",
              "      <th>4</th>\n",
              "      <td>Approach2_AB_TF</td>\n",
              "      <td>0.554545</td>\n",
              "    </tr>\n",
              "    <tr>\n",
              "      <th>5</th>\n",
              "      <td>Approach2_AT_WTF</td>\n",
              "      <td>0.600639</td>\n",
              "    </tr>\n",
              "    <tr>\n",
              "      <th>6</th>\n",
              "      <td>Approach2_AT_TF</td>\n",
              "      <td>0.715789</td>\n",
              "    </tr>\n",
              "    <tr>\n",
              "      <th>7</th>\n",
              "      <td>Approach2_CC_WTF</td>\n",
              "      <td>0.616740</td>\n",
              "    </tr>\n",
              "    <tr>\n",
              "      <th>8</th>\n",
              "      <td>Approach2_CC_TF</td>\n",
              "      <td>0.637555</td>\n",
              "    </tr>\n",
              "    <tr>\n",
              "      <th>9</th>\n",
              "      <td>Approach2_FM_WTF</td>\n",
              "      <td>0.437376</td>\n",
              "    </tr>\n",
              "    <tr>\n",
              "      <th>10</th>\n",
              "      <td>Approach2_FM_TF</td>\n",
              "      <td>0.661123</td>\n",
              "    </tr>\n",
              "  </tbody>\n",
              "</table>\n",
              "</div>"
            ],
            "text/plain": [
              "                       model  F1_score\n",
              "0   Approach1_All_data_model  0.492988\n",
              "1           Approach2_HC_WTF  0.531707\n",
              "2            Approach2_HC_TF  0.624506\n",
              "3           Approach2_AB_WTF  0.544041\n",
              "4            Approach2_AB_TF  0.554545\n",
              "5           Approach2_AT_WTF  0.600639\n",
              "6            Approach2_AT_TF  0.715789\n",
              "7           Approach2_CC_WTF  0.616740\n",
              "8            Approach2_CC_TF  0.637555\n",
              "9           Approach2_FM_WTF  0.437376\n",
              "10           Approach2_FM_TF  0.661123"
            ]
          },
          "metadata": {
            "tags": []
          },
          "execution_count": 334
        }
      ]
    },
    {
      "cell_type": "markdown",
      "metadata": {
        "id": "59PbXBkzv4CY"
      },
      "source": [
        "#Independent Evaluation on sample sunseen data"
      ]
    },
    {
      "cell_type": "markdown",
      "metadata": {
        "id": "F9ZiIrxDxje-"
      },
      "source": [
        "**Reading the dataset for independent evaluation**\n",
        "\n",
        "We have sampled a small dataset consisting of 11 tweets along with their Topic and Stance values. Our aim to check if our model is performing as expected on this data.\n",
        "But for that, we have to preprocess and tokenize the data same as that for training process."
      ]
    },
    {
      "cell_type": "code",
      "metadata": {
        "id": "vA_kW7y_v1uZ"
      },
      "source": [
        "ide = pd.read_csv(\"/content/drive/My Drive/ColabNotebooks/DeepLearningLabs/Assignment2/IndependentEvaluation .csv\")"
      ],
      "execution_count": 335,
      "outputs": []
    },
    {
      "cell_type": "code",
      "metadata": {
        "id": "fGLSVWFvv1sA",
        "outputId": "00beedb5-da6a-45f2-ed8e-6a6fc748a1b5",
        "colab": {
          "base_uri": "https://localhost:8080/",
          "height": 197
        }
      },
      "source": [
        "ide.head()"
      ],
      "execution_count": 336,
      "outputs": [
        {
          "output_type": "execute_result",
          "data": {
            "text/html": [
              "<div>\n",
              "<style scoped>\n",
              "    .dataframe tbody tr th:only-of-type {\n",
              "        vertical-align: middle;\n",
              "    }\n",
              "\n",
              "    .dataframe tbody tr th {\n",
              "        vertical-align: top;\n",
              "    }\n",
              "\n",
              "    .dataframe thead th {\n",
              "        text-align: right;\n",
              "    }\n",
              "</style>\n",
              "<table border=\"1\" class=\"dataframe\">\n",
              "  <thead>\n",
              "    <tr style=\"text-align: right;\">\n",
              "      <th></th>\n",
              "      <th>Tweet</th>\n",
              "      <th>Target</th>\n",
              "      <th>Stance</th>\n",
              "    </tr>\n",
              "  </thead>\n",
              "  <tbody>\n",
              "    <tr>\n",
              "      <th>0</th>\n",
              "      <td>Crooked Hillary clinton deleted 33,000 emails ...</td>\n",
              "      <td>Hillary Clinton</td>\n",
              "      <td>Against</td>\n",
              "    </tr>\n",
              "    <tr>\n",
              "      <th>1</th>\n",
              "      <td>HillaryClinton when you go to prison for defra...</td>\n",
              "      <td>Hillary Clinton</td>\n",
              "      <td>Favor</td>\n",
              "    </tr>\n",
              "    <tr>\n",
              "      <th>2</th>\n",
              "      <td>HillaryClinton is Calling for love and Kindness</td>\n",
              "      <td>Hillary Clinton</td>\n",
              "      <td>Favor</td>\n",
              "    </tr>\n",
              "    <tr>\n",
              "      <th>3</th>\n",
              "      <td>There is no such thing as #Abortion upto the p...</td>\n",
              "      <td>Legalization of Abortion</td>\n",
              "      <td>Against</td>\n",
              "    </tr>\n",
              "    <tr>\n",
              "      <th>4</th>\n",
              "      <td>The Left really needs to reclaim atheism</td>\n",
              "      <td>Atheism</td>\n",
              "      <td>Favor</td>\n",
              "    </tr>\n",
              "  </tbody>\n",
              "</table>\n",
              "</div>"
            ],
            "text/plain": [
              "                                               Tweet  ...   Stance\n",
              "0  Crooked Hillary clinton deleted 33,000 emails ...  ...  Against\n",
              "1  HillaryClinton when you go to prison for defra...  ...    Favor\n",
              "2    HillaryClinton is Calling for love and Kindness  ...    Favor\n",
              "3  There is no such thing as #Abortion upto the p...  ...  Against\n",
              "4           The Left really needs to reclaim atheism  ...    Favor\n",
              "\n",
              "[5 rows x 3 columns]"
            ]
          },
          "metadata": {
            "tags": []
          },
          "execution_count": 336
        }
      ]
    },
    {
      "cell_type": "code",
      "metadata": {
        "id": "hTNTYshvv1pX",
        "outputId": "c2eeb560-70eb-460c-fc97-ec1f09b3f3c1",
        "colab": {
          "base_uri": "https://localhost:8080/",
          "height": 34
        }
      },
      "source": [
        "# as we have to use only tweet sentences and Target as an input for detecting the Stance, we concatenate this features into a single feature \n",
        "ide[\"Tweet\"] = ide[\"Tweet\"] + \" \" + ide[\"Target\"]\n",
        "ide.shape"
      ],
      "execution_count": 337,
      "outputs": [
        {
          "output_type": "execute_result",
          "data": {
            "text/plain": [
              "(11, 3)"
            ]
          },
          "metadata": {
            "tags": []
          },
          "execution_count": 337
        }
      ]
    },
    {
      "cell_type": "markdown",
      "metadata": {
        "id": "cTo2sgTy12wP"
      },
      "source": [
        "**Preprocessing the independent evaluation dataset**"
      ]
    },
    {
      "cell_type": "code",
      "metadata": {
        "id": "u-NstsQj1-UX",
        "outputId": "d22c57fd-2bb4-4429-f4da-2889fb9da665",
        "colab": {
          "base_uri": "https://localhost:8080/",
          "height": 70
        }
      },
      "source": [
        "# Converting to lower case\n",
        "\n",
        "ide['Tweet'] = ide['Tweet'].apply(lambda x: x.lower()) \n",
        "\n",
        "ide['Tweet'].head(2)"
      ],
      "execution_count": 338,
      "outputs": [
        {
          "output_type": "execute_result",
          "data": {
            "text/plain": [
              "0    crooked hillary clinton deleted 33,000 emails ...\n",
              "1    hillaryclinton when you go to prison for defra...\n",
              "Name: Tweet, dtype: object"
            ]
          },
          "metadata": {
            "tags": []
          },
          "execution_count": 338
        }
      ]
    },
    {
      "cell_type": "code",
      "metadata": {
        "id": "-GDcqRqT1-SI"
      },
      "source": [
        "# Contraction to Expandion [Meaning converting words like \"don't\" to \"do not\"]\n",
        "\n",
        "contractions = { \n",
        "\"ain't\": \"am not\",\n",
        "\"aren't\": \"are not\",\n",
        "\"can't\": \"cannot\",\n",
        "\"can't've\": \"cannot have\",\n",
        "\"cause\": \"because\",\n",
        "\"could've\": \"could have\",\n",
        "\"couldn't\": \"could not\",\n",
        "\"didn't\": \"did not\",\n",
        "\"doesn't\": \"does not\",\n",
        "\"don't\": \"do not\",\n",
        "\"hadn't\": \"had not\",\n",
        "\"hasn't\": \"has not\",\n",
        "\"haven't\": \"have not\",\n",
        "\"he'd\": \"he had\",\n",
        "\"he'll\": \"he will\",\n",
        "\"he's\": \"he is\",\n",
        "\"how'd\": \"how did\",\n",
        "\"how'd'y\": \"how do you\",\n",
        "\"how'll\": \"how will\",\n",
        "\"how's\": \"how is\",\n",
        "\"i'd\": \"i had\",\n",
        "\"i'll\": \"i will\",\n",
        "\"i'm\": \"i am\",\n",
        "\"i've\": \"i have\",\n",
        "\"isn't\": \"is not\",\n",
        "\"it'd\": \"it had\",\n",
        "\"it'll\": \"it will\",\n",
        "\"it's\": \"it is\",\n",
        "\"let's\": \"let us\",\n",
        "\"ma'am\": \"madam\",\n",
        "\"mayn't\": \"may not\",\n",
        "\"might've\": \"might have\",\n",
        "\"mightn't\": \"might not\",\n",
        "\"must've\": \"must have\",\n",
        "\"mustn't\": \"must not\",\n",
        "\"needn't\": \"need not\",\n",
        "\"o'clock\": \"of the clock\",\n",
        "\"oughtn't\": \"ought not\",\n",
        "\"shan't\": \"shall not\",\n",
        "\"sha'n't\": \"shall not\",\n",
        "\"she'd\": \"she had\",\n",
        "\"she'll\": \"she will\",\n",
        "\"she's\": \"she is\",\n",
        "\"should've\": \"should have\",\n",
        "\"shouldn't\": \"should not\",\n",
        "\"so've\": \"so have\",\n",
        "\"so's\": \"so is\",\n",
        "\"that'd\": \"that had\",\n",
        "\"that's\": \"that is\",\n",
        "\"there'd\": \"there had\",\n",
        "\"there's\": \"there is\",\n",
        "\"they'd\": \"they had\",\n",
        "\"they'll\": \"they will\",\n",
        "\"they're\": \"they are\",\n",
        "\"they've\": \"they have\",\n",
        "\"to've\": \"to have\",\n",
        "\"wasn't\": \"was not\",\n",
        "\"we'd\": \"we had\",\n",
        "\"we'll\": \"we will\",\n",
        "\"we're\": \"we are\",\n",
        "\"we've\": \"we have\",\n",
        "\"weren't\": \"were not\",\n",
        "\"what'll\": \"what will\",\n",
        "\"what're\": \"what are\",\n",
        "\"what's\": \"what is\",\n",
        "\"what've\": \"what have\",\n",
        "\"when's\": \"when is\",\n",
        "\"when've\": \"when have\",\n",
        "\"where'd\": \"where did\",\n",
        "\"where's\": \"where is\",\n",
        "\"where've\": \"where have\",\n",
        "\"who'll\": \"who will\",\n",
        "\"who'll've\": \"who will have\",\n",
        "\"who's\": \"who is\",\n",
        "\"who've\": \"who have\",\n",
        "\"why's\": \"why is\",\n",
        "\"why've\": \"why have\",\n",
        "\"will've\": \"will have\",\n",
        "\"won't\": \"will not\",\n",
        "\"won't've\": \"will not have\",\n",
        "\"would've\": \"would have\",\n",
        "\"wouldn't\": \"would not\",\n",
        "\"wouldn't've\": \"would not have\",\n",
        "\"y'all\": \"you all\",\n",
        "\"y'all'd\": \"you all would\",\n",
        "\"y'all'd've\": \"you all would have\",\n",
        "\"y'all're\": \"you all are\",\n",
        "\"y'all've\": \"you all have\",\n",
        "\"you'd\": \"you had\",\n",
        "\"you'll\": \"you will\",\n",
        "\"you're\": \"you are\",\n",
        "\"you've\": \"you have\",\n",
        "\" n \":\"and\",\n",
        "\" u \": \"you\",\n",
        "}\n",
        "\n",
        "def con_to_ext(x):\n",
        "  if type(x) is str:\n",
        "    for key in contractions:\n",
        "      value = contractions[key]\n",
        "      x = x.replace(key, value)\n",
        "    return x\n",
        "  else:\n",
        "    return x"
      ],
      "execution_count": 339,
      "outputs": []
    },
    {
      "cell_type": "code",
      "metadata": {
        "id": "493wIUGq1-QC",
        "outputId": "33aa128c-c3e4-4cab-d621-c81c09e2cc7f",
        "colab": {
          "base_uri": "https://localhost:8080/",
          "height": 123
        }
      },
      "source": [
        "ide['Tweet'] = ide['Tweet'].apply(lambda x: con_to_ext(x))\n",
        "ide['Tweet'].head(5)"
      ],
      "execution_count": 340,
      "outputs": [
        {
          "output_type": "execute_result",
          "data": {
            "text/plain": [
              "0    crooked hillary clinton deleted 33,000 emails ...\n",
              "1    hillaryclinton when you go to prison for defra...\n",
              "2    hillaryclinton is calling for love and kindnes...\n",
              "3    there is no such thing as #abortion upto the p...\n",
              "4     the left really needs to reclaim atheism atheism\n",
              "Name: Tweet, dtype: object"
            ]
          },
          "metadata": {
            "tags": []
          },
          "execution_count": 340
        }
      ]
    },
    {
      "cell_type": "code",
      "metadata": {
        "id": "BDVZEq501-Nx"
      },
      "source": [
        "## Removing the emails from the Tweet column.\n",
        "\n",
        "ide['Tweet'] = ide['Tweet'].apply(lambda x: re.sub(r'([-a-zA-Z0-9._-]+@[-a-zA-Z0-9._-]+\\.[-a-zA-Z0-9_-]+)','',x))"
      ],
      "execution_count": 341,
      "outputs": []
    },
    {
      "cell_type": "code",
      "metadata": {
        "id": "_yel2du01-LP",
        "outputId": "ef97e564-7e4b-43d5-c6fb-c90e8094c222",
        "colab": {
          "base_uri": "https://localhost:8080/",
          "height": 123
        }
      },
      "source": [
        "## Removing Special characters and punctuations\n",
        "\n",
        "ide['Tweet'] = ide['Tweet'].apply(lambda x: re.sub('[^A-Za-z0-9#@]+',' ',x))\n",
        "\n",
        "## Remove the multiple(extra) spaces\n",
        "\n",
        "ide['Tweet'] = ide['Tweet'].apply(lambda x: \" \".join(x.split()))\n",
        "\n",
        "## Remove the Accented characters (e.g. àÿüûâ)\n",
        "import unicodedata\n",
        "\n",
        "def remove_accent(x):\n",
        "  x = unicodedata.normalize('NFKD', x).encode('ascii','ignore').decode('utf-8','ignore')\n",
        "  return x\n",
        "\n",
        "## Applying on tweets\n",
        "ide['Tweet'] = ide['Tweet'].apply(lambda x: remove_accent(x))\n",
        "\n",
        "### Removing the stop words\n",
        "\n",
        "ide['Tweet'] = ide['Tweet'].apply(lambda x: \" \".join([t for t in x.split() if t not in STOP_WORDS]))\n",
        "\n",
        "\n",
        "ide['Tweet'].head(5)"
      ],
      "execution_count": 342,
      "outputs": [
        {
          "output_type": "execute_result",
          "data": {
            "text/plain": [
              "0    crooked hillary clinton deleted 33 000 emails ...\n",
              "1    hillaryclinton prison defrauding america perju...\n",
              "2    hillaryclinton calling love kindness hillary c...\n",
              "3    thing #abortion upto point birth legalization ...\n",
              "4                   left needs reclaim atheism atheism\n",
              "Name: Tweet, dtype: object"
            ]
          },
          "metadata": {
            "tags": []
          },
          "execution_count": 342
        }
      ]
    },
    {
      "cell_type": "code",
      "metadata": {
        "id": "LK0qdnnQ2yWn",
        "outputId": "66d55e1e-4c3a-4119-ac42-0d56fcfdfac5",
        "colab": {
          "base_uri": "https://localhost:8080/",
          "height": 70
        }
      },
      "source": [
        "# Converting the Tweet text to list\n",
        "text = ide['Tweet'].tolist()\n",
        "text[:3]"
      ],
      "execution_count": 343,
      "outputs": [
        {
          "output_type": "execute_result",
          "data": {
            "text/plain": [
              "['crooked hillary clinton deleted 33 000 emails subpoenaed united states congress guilty run rigged system hillary clinton',\n",
              " 'hillaryclinton prison defrauding america perjury room board free hillary clinton',\n",
              " 'hillaryclinton calling love kindness hillary clinton']"
            ]
          },
          "metadata": {
            "tags": []
          },
          "execution_count": 343
        }
      ]
    },
    {
      "cell_type": "code",
      "metadata": {
        "id": "v3K3pxkf2yiT",
        "outputId": "1b0fd51c-652b-49da-f7a6-84d5bc1943da",
        "colab": {
          "base_uri": "https://localhost:8080/",
          "height": 34
        }
      },
      "source": [
        "##### Converting categorical variable into dummy/indicator variables.\n",
        "y = ide['Stance']\n",
        "y = pd.get_dummies(y).values\n",
        "y.shape"
      ],
      "execution_count": 344,
      "outputs": [
        {
          "output_type": "execute_result",
          "data": {
            "text/plain": [
              "(11, 3)"
            ]
          },
          "metadata": {
            "tags": []
          },
          "execution_count": 344
        }
      ]
    },
    {
      "cell_type": "code",
      "metadata": {
        "id": "JtVmSvOe2ycU",
        "outputId": "24e8786b-e56b-42e5-ceb0-3d7f5d860579",
        "colab": {
          "base_uri": "https://localhost:8080/",
          "height": 34
        }
      },
      "source": [
        "# Tokenizing the text\n",
        "\n",
        "from keras.preprocessing.text import Tokenizer\n",
        "token = Tokenizer()\n",
        "token.fit_on_texts(text)\n",
        "\n",
        "### Calculating the vocabulary size\n",
        "vocab_size = len(token.word_index)+1\n",
        "vocab_size"
      ],
      "execution_count": 345,
      "outputs": [
        {
          "output_type": "execute_result",
          "data": {
            "text/plain": [
              "92"
            ]
          },
          "metadata": {
            "tags": []
          },
          "execution_count": 345
        }
      ]
    },
    {
      "cell_type": "code",
      "metadata": {
        "id": "A0jrk2qP2yT2",
        "outputId": "9e4b1366-c405-4464-8a58-5ef913bc7390",
        "colab": {
          "base_uri": "https://localhost:8080/",
          "height": 52
        }
      },
      "source": [
        "## Encoding the text\n",
        "encoded_text = token.texts_to_sequences(text)\n",
        "print(encoded_text[:3])\n",
        "\n",
        "## prepadding is done with the maxlength 50\n",
        "\n",
        "sentence_max_length = 50\n",
        "X = pad_sequences(encoded_text, maxlen=sentence_max_length)\n",
        "print(X.shape)"
      ],
      "execution_count": 346,
      "outputs": [
        {
          "output_type": "stream",
          "text": [
            "[[10, 3, 4, 11, 12, 13, 14, 15, 16, 17, 18, 19, 20, 21, 22, 3, 4], [7, 23, 24, 25, 26, 27, 28, 29, 3, 4], [7, 30, 31, 32, 3, 4]]\n",
            "(11, 50)\n"
          ],
          "name": "stdout"
        }
      ]
    },
    {
      "cell_type": "code",
      "metadata": {
        "id": "S1NSz-v71-Iz",
        "outputId": "04a08aee-58f0-453e-9af7-3f104789048e",
        "colab": {
          "base_uri": "https://localhost:8080/",
          "height": 34
        }
      },
      "source": [
        "# Checking the shape of X features variable\n",
        "X.shape"
      ],
      "execution_count": 347,
      "outputs": [
        {
          "output_type": "execute_result",
          "data": {
            "text/plain": [
              "(11, 50)"
            ]
          },
          "metadata": {
            "tags": []
          },
          "execution_count": 347
        }
      ]
    },
    {
      "cell_type": "code",
      "metadata": {
        "id": "UEfpP9cn1-Gd",
        "outputId": "4279c649-bb5a-42d4-eb63-266adb558ca8",
        "colab": {
          "base_uri": "https://localhost:8080/",
          "height": 34
        }
      },
      "source": [
        "# Checking the shape of y variable\n",
        "y.shape"
      ],
      "execution_count": 348,
      "outputs": [
        {
          "output_type": "execute_result",
          "data": {
            "text/plain": [
              "(11, 3)"
            ]
          },
          "metadata": {
            "tags": []
          },
          "execution_count": 348
        }
      ]
    },
    {
      "cell_type": "code",
      "metadata": {
        "id": "T_loQAbqv1m2"
      },
      "source": [
        "y_train = X\n",
        "y_val = y"
      ],
      "execution_count": 349,
      "outputs": []
    },
    {
      "cell_type": "code",
      "metadata": {
        "id": "oQ_nTZJB4q5G"
      },
      "source": [
        "# Predicting the features given in the independent evaluation metric \n",
        "y_pred_test = model1.predict_classes(y_train)"
      ],
      "execution_count": 350,
      "outputs": []
    },
    {
      "cell_type": "code",
      "metadata": {
        "id": "0p9EO7JC4rGL",
        "outputId": "dc3bb667-657e-4f6d-fc9a-9af4862ec9ec",
        "colab": {
          "base_uri": "https://localhost:8080/",
          "height": 34
        }
      },
      "source": [
        "# Converting the np array to original form\n",
        "\n",
        "from sklearn.metrics import f1_score\n",
        "y_val = np.argmax(y, axis= 1)\n",
        "\n",
        "# Calculating the f1-score of the predicted output and actual output.\n",
        "\n",
        "f1_score_result = f1_score(y_val, y_pred_test,average='weighted')\n",
        "#result_df.loc[len(result_df)] = ['Approach1_All_data_model', f1_score_result]\n",
        "f1_score_result"
      ],
      "execution_count": 351,
      "outputs": [
        {
          "output_type": "execute_result",
          "data": {
            "text/plain": [
              "0.5714285714285715"
            ]
          },
          "metadata": {
            "tags": []
          },
          "execution_count": 351
        }
      ]
    }
  ]
}