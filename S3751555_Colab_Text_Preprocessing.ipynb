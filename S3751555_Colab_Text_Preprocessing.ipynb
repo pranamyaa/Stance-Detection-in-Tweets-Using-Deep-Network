{
  "nbformat": 4,
  "nbformat_minor": 0,
  "metadata": {
    "colab": {
      "name": "S3751555_Colab_Text_Preprocessing.ipynb",
      "provenance": []
    },
    "kernelspec": {
      "name": "python3",
      "display_name": "Python 3"
    }
  },
  "cells": [
    {
      "cell_type": "code",
      "metadata": {
        "id": "XMmTdeEvOhWA"
      },
      "source": [
        "#importing the packages\n",
        "\n",
        "import pandas as pd\n",
        "import numpy as np\n",
        "import matplotlib.pyplot as plt\n",
        "import nltk\n",
        "from nltk.tokenize import word_tokenize\n",
        "from nltk.corpus import stopwords\n",
        "import tensorflow as tf\n",
        "import re\n",
        "from tensorflow.keras.layers import Embedding\n",
        "from tensorflow.keras.preprocessing.sequence import pad_sequences\n",
        "from tensorflow.keras.models import Sequential\n",
        "from tensorflow.keras.preprocessing.text import one_hot\n",
        "from tensorflow.keras.layers import LSTM\n",
        "from tensorflow.keras.layers import Dense\n",
        "import spacy \n",
        "from spacy.lang.en.stop_words import STOP_WORDS"
      ],
      "execution_count": 1,
      "outputs": []
    },
    {
      "cell_type": "code",
      "metadata": {
        "id": "NpAW7Xgf4Emk",
        "outputId": "ec592093-ec87-439e-949d-c7f071e80c03",
        "colab": {
          "resources": {
            "http://localhost:8080/nbextensions/google.colab/files.js": {
              "data": "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",
              "ok": true,
              "headers": [
                [
                  "content-type",
                  "application/javascript"
                ]
              ],
              "status": 200,
              "status_text": ""
            }
          },
          "base_uri": "https://localhost:8080/",
          "height": 72
        }
      },
      "source": [
        "from google.colab import files\n",
        "uploaded = files.upload()"
      ],
      "execution_count": 2,
      "outputs": [
        {
          "output_type": "display_data",
          "data": {
            "text/html": [
              "\n",
              "     <input type=\"file\" id=\"files-7056593c-d6ed-4926-8092-46216e35a7d6\" name=\"files[]\" multiple disabled\n",
              "        style=\"border:none\" />\n",
              "     <output id=\"result-7056593c-d6ed-4926-8092-46216e35a7d6\">\n",
              "      Upload widget is only available when the cell has been executed in the\n",
              "      current browser session. Please rerun this cell to enable.\n",
              "      </output>\n",
              "      <script src=\"/nbextensions/google.colab/files.js\"></script> "
            ],
            "text/plain": [
              "<IPython.core.display.HTML object>"
            ]
          },
          "metadata": {
            "tags": []
          }
        },
        {
          "output_type": "stream",
          "text": [
            "Saving train.csv to train.csv\n"
          ],
          "name": "stdout"
        }
      ]
    },
    {
      "cell_type": "code",
      "metadata": {
        "id": "rygtuY_54Epd"
      },
      "source": [
        "# Reading the data from the train.csv file\n",
        "\n",
        "train_data = pd.read_csv(\"train.csv\", index_col=None, header=0, engine='python' )"
      ],
      "execution_count": 2,
      "outputs": []
    },
    {
      "cell_type": "code",
      "metadata": {
        "id": "rtT3MY7q4Er0",
        "outputId": "f0c96803-4020-47a6-9f54-22aaa60ceff5",
        "colab": {
          "base_uri": "https://localhost:8080/",
          "height": 204
        }
      },
      "source": [
        "# displaying the data using head() function\n",
        "\n",
        "train_data.head()"
      ],
      "execution_count": 3,
      "outputs": [
        {
          "output_type": "execute_result",
          "data": {
            "text/html": [
              "<div>\n",
              "<style scoped>\n",
              "    .dataframe tbody tr th:only-of-type {\n",
              "        vertical-align: middle;\n",
              "    }\n",
              "\n",
              "    .dataframe tbody tr th {\n",
              "        vertical-align: top;\n",
              "    }\n",
              "\n",
              "    .dataframe thead th {\n",
              "        text-align: right;\n",
              "    }\n",
              "</style>\n",
              "<table border=\"1\" class=\"dataframe\">\n",
              "  <thead>\n",
              "    <tr style=\"text-align: right;\">\n",
              "      <th></th>\n",
              "      <th>Tweet</th>\n",
              "      <th>Target</th>\n",
              "      <th>Stance</th>\n",
              "      <th>Opinion Towards</th>\n",
              "      <th>Sentiment</th>\n",
              "    </tr>\n",
              "  </thead>\n",
              "  <tbody>\n",
              "    <tr>\n",
              "      <th>0</th>\n",
              "      <td>@tedcruz And, #HandOverTheServer she wiped cle...</td>\n",
              "      <td>Hillary Clinton</td>\n",
              "      <td>AGAINST</td>\n",
              "      <td>1.  The tweet explicitly expresses opinion abo...</td>\n",
              "      <td>neg</td>\n",
              "    </tr>\n",
              "    <tr>\n",
              "      <th>1</th>\n",
              "      <td>Hillary is our best choice if we truly want to...</td>\n",
              "      <td>Hillary Clinton</td>\n",
              "      <td>FAVOR</td>\n",
              "      <td>1.  The tweet explicitly expresses opinion abo...</td>\n",
              "      <td>pos</td>\n",
              "    </tr>\n",
              "    <tr>\n",
              "      <th>2</th>\n",
              "      <td>@TheView I think our country is ready for a fe...</td>\n",
              "      <td>Hillary Clinton</td>\n",
              "      <td>AGAINST</td>\n",
              "      <td>1.  The tweet explicitly expresses opinion abo...</td>\n",
              "      <td>neg</td>\n",
              "    </tr>\n",
              "    <tr>\n",
              "      <th>3</th>\n",
              "      <td>I just gave an unhealthy amount of my hard-ear...</td>\n",
              "      <td>Hillary Clinton</td>\n",
              "      <td>AGAINST</td>\n",
              "      <td>1.  The tweet explicitly expresses opinion abo...</td>\n",
              "      <td>neg</td>\n",
              "    </tr>\n",
              "    <tr>\n",
              "      <th>4</th>\n",
              "      <td>@PortiaABoulger Thank you for adding me to you...</td>\n",
              "      <td>Hillary Clinton</td>\n",
              "      <td>NONE</td>\n",
              "      <td>3.  The tweet is not explicitly expressing opi...</td>\n",
              "      <td>pos</td>\n",
              "    </tr>\n",
              "  </tbody>\n",
              "</table>\n",
              "</div>"
            ],
            "text/plain": [
              "                                               Tweet  ... Sentiment\n",
              "0  @tedcruz And, #HandOverTheServer she wiped cle...  ...       neg\n",
              "1  Hillary is our best choice if we truly want to...  ...       pos\n",
              "2  @TheView I think our country is ready for a fe...  ...       neg\n",
              "3  I just gave an unhealthy amount of my hard-ear...  ...       neg\n",
              "4  @PortiaABoulger Thank you for adding me to you...  ...       pos\n",
              "\n",
              "[5 rows x 5 columns]"
            ]
          },
          "metadata": {
            "tags": []
          },
          "execution_count": 3
        }
      ]
    },
    {
      "cell_type": "code",
      "metadata": {
        "id": "FhKW0fPq4EuX",
        "outputId": "3381b20e-53f1-4479-9fb1-7dd35a77653e",
        "colab": {
          "base_uri": "https://localhost:8080/",
          "height": 221
        }
      },
      "source": [
        "# Checking the description , datatypes and null values of the dataset\n",
        "\n",
        "train_data.info()"
      ],
      "execution_count": 4,
      "outputs": [
        {
          "output_type": "stream",
          "text": [
            "<class 'pandas.core.frame.DataFrame'>\n",
            "RangeIndex: 2914 entries, 0 to 2913\n",
            "Data columns (total 5 columns):\n",
            " #   Column           Non-Null Count  Dtype \n",
            "---  ------           --------------  ----- \n",
            " 0   Tweet            2914 non-null   object\n",
            " 1   Target           2914 non-null   object\n",
            " 2   Stance           2914 non-null   object\n",
            " 3   Opinion Towards  2914 non-null   object\n",
            " 4   Sentiment        2914 non-null   object\n",
            "dtypes: object(5)\n",
            "memory usage: 114.0+ KB\n"
          ],
          "name": "stdout"
        }
      ]
    },
    {
      "cell_type": "code",
      "metadata": {
        "id": "1PnQXYAP4Ewq",
        "outputId": "0cec66a2-41d7-4665-b5d7-7b9030aac13e",
        "colab": {
          "base_uri": "https://localhost:8080/",
          "height": 119
        }
      },
      "source": [
        "# Checking all the nan values\n",
        "\n",
        "train_data.isna().sum()"
      ],
      "execution_count": 5,
      "outputs": [
        {
          "output_type": "execute_result",
          "data": {
            "text/plain": [
              "Tweet              0\n",
              "Target             0\n",
              "Stance             0\n",
              "Opinion Towards    0\n",
              "Sentiment          0\n",
              "dtype: int64"
            ]
          },
          "metadata": {
            "tags": []
          },
          "execution_count": 5
        }
      ]
    },
    {
      "cell_type": "code",
      "metadata": {
        "id": "ZVufr8mf5rLm"
      },
      "source": [
        "## Combining the two columns of \"Tweet\" and \"Target\"\n",
        "\n",
        "train_data[\"Tweet\"] = train_data[\"Tweet\"] + \" \" + train_data[\"Target\"]"
      ],
      "execution_count": 6,
      "outputs": []
    },
    {
      "cell_type": "code",
      "metadata": {
        "id": "zVXWzAzV5rOW",
        "outputId": "2b387f0b-9d2d-408b-adf9-ce5c3708f561",
        "colab": {
          "base_uri": "https://localhost:8080/",
          "height": 52
        }
      },
      "source": [
        "## displaying the 1st row after concatenation\n",
        "\n",
        "train_data['Tweet'][0]"
      ],
      "execution_count": 7,
      "outputs": [
        {
          "output_type": "execute_result",
          "data": {
            "application/vnd.google.colaboratory.intrinsic+json": {
              "type": "string"
            },
            "text/plain": [
              "'@tedcruz And, #HandOverTheServer she wiped clean + 30k deleted emails, explains dereliction of duty/lies re #Benghazi,etc #tcot Hillary Clinton'"
            ]
          },
          "metadata": {
            "tags": []
          },
          "execution_count": 7
        }
      ]
    },
    {
      "cell_type": "code",
      "metadata": {
        "id": "uzyzSds75rRG",
        "outputId": "45342520-37a2-47e5-a116-4295fd1e33b7",
        "colab": {
          "base_uri": "https://localhost:8080/",
          "height": 85
        }
      },
      "source": [
        "train_data['Stance'].value_counts()"
      ],
      "execution_count": 8,
      "outputs": [
        {
          "output_type": "execute_result",
          "data": {
            "text/plain": [
              "AGAINST    1395\n",
              "NONE        766\n",
              "FAVOR       753\n",
              "Name: Stance, dtype: int64"
            ]
          },
          "metadata": {
            "tags": []
          },
          "execution_count": 8
        }
      ]
    },
    {
      "cell_type": "code",
      "metadata": {
        "id": "UL37Nxcd5rTX",
        "outputId": "f1990b66-f798-4a2c-803c-2bc9edeb6376",
        "colab": {
          "base_uri": "https://localhost:8080/",
          "height": 204
        }
      },
      "source": [
        "# Performing Label Encoding\n",
        "\n",
        "#train_data[\"Stance\"] = train_data[\"Stance\"].cat.codes\n",
        "\n",
        "encode = {\n",
        "    \"AGAINST\" : 0,\n",
        "    \"FAVOR\"  : 1,       \n",
        "    \"NONE\" : 2,    \n",
        "}\n",
        "\n",
        "train_data[\"Stance\"] = train_data[\"Stance\"].apply(lambda x: encode[x])\n",
        "train_data.head()"
      ],
      "execution_count": 9,
      "outputs": [
        {
          "output_type": "execute_result",
          "data": {
            "text/html": [
              "<div>\n",
              "<style scoped>\n",
              "    .dataframe tbody tr th:only-of-type {\n",
              "        vertical-align: middle;\n",
              "    }\n",
              "\n",
              "    .dataframe tbody tr th {\n",
              "        vertical-align: top;\n",
              "    }\n",
              "\n",
              "    .dataframe thead th {\n",
              "        text-align: right;\n",
              "    }\n",
              "</style>\n",
              "<table border=\"1\" class=\"dataframe\">\n",
              "  <thead>\n",
              "    <tr style=\"text-align: right;\">\n",
              "      <th></th>\n",
              "      <th>Tweet</th>\n",
              "      <th>Target</th>\n",
              "      <th>Stance</th>\n",
              "      <th>Opinion Towards</th>\n",
              "      <th>Sentiment</th>\n",
              "    </tr>\n",
              "  </thead>\n",
              "  <tbody>\n",
              "    <tr>\n",
              "      <th>0</th>\n",
              "      <td>@tedcruz And, #HandOverTheServer she wiped cle...</td>\n",
              "      <td>Hillary Clinton</td>\n",
              "      <td>0</td>\n",
              "      <td>1.  The tweet explicitly expresses opinion abo...</td>\n",
              "      <td>neg</td>\n",
              "    </tr>\n",
              "    <tr>\n",
              "      <th>1</th>\n",
              "      <td>Hillary is our best choice if we truly want to...</td>\n",
              "      <td>Hillary Clinton</td>\n",
              "      <td>1</td>\n",
              "      <td>1.  The tweet explicitly expresses opinion abo...</td>\n",
              "      <td>pos</td>\n",
              "    </tr>\n",
              "    <tr>\n",
              "      <th>2</th>\n",
              "      <td>@TheView I think our country is ready for a fe...</td>\n",
              "      <td>Hillary Clinton</td>\n",
              "      <td>0</td>\n",
              "      <td>1.  The tweet explicitly expresses opinion abo...</td>\n",
              "      <td>neg</td>\n",
              "    </tr>\n",
              "    <tr>\n",
              "      <th>3</th>\n",
              "      <td>I just gave an unhealthy amount of my hard-ear...</td>\n",
              "      <td>Hillary Clinton</td>\n",
              "      <td>0</td>\n",
              "      <td>1.  The tweet explicitly expresses opinion abo...</td>\n",
              "      <td>neg</td>\n",
              "    </tr>\n",
              "    <tr>\n",
              "      <th>4</th>\n",
              "      <td>@PortiaABoulger Thank you for adding me to you...</td>\n",
              "      <td>Hillary Clinton</td>\n",
              "      <td>2</td>\n",
              "      <td>3.  The tweet is not explicitly expressing opi...</td>\n",
              "      <td>pos</td>\n",
              "    </tr>\n",
              "  </tbody>\n",
              "</table>\n",
              "</div>"
            ],
            "text/plain": [
              "                                               Tweet  ... Sentiment\n",
              "0  @tedcruz And, #HandOverTheServer she wiped cle...  ...       neg\n",
              "1  Hillary is our best choice if we truly want to...  ...       pos\n",
              "2  @TheView I think our country is ready for a fe...  ...       neg\n",
              "3  I just gave an unhealthy amount of my hard-ear...  ...       neg\n",
              "4  @PortiaABoulger Thank you for adding me to you...  ...       pos\n",
              "\n",
              "[5 rows x 5 columns]"
            ]
          },
          "metadata": {
            "tags": []
          },
          "execution_count": 9
        }
      ]
    },
    {
      "cell_type": "code",
      "metadata": {
        "id": "Z5q8TTiJ5rWS",
        "outputId": "9af7dc3f-deb1-4f8b-fc25-0b8b6bcad598",
        "colab": {
          "base_uri": "https://localhost:8080/",
          "height": 221
        }
      },
      "source": [
        "# Displaying the label encoder values\n",
        "\n",
        "train_data['Stance']"
      ],
      "execution_count": 10,
      "outputs": [
        {
          "output_type": "execute_result",
          "data": {
            "text/plain": [
              "0       0\n",
              "1       1\n",
              "2       0\n",
              "3       0\n",
              "4       2\n",
              "       ..\n",
              "2909    0\n",
              "2910    0\n",
              "2911    0\n",
              "2912    0\n",
              "2913    0\n",
              "Name: Stance, Length: 2914, dtype: int64"
            ]
          },
          "metadata": {
            "tags": []
          },
          "execution_count": 10
        }
      ]
    },
    {
      "cell_type": "code",
      "metadata": {
        "id": "F1ht_ALf5510"
      },
      "source": [
        "#Installing spacy library"
      ],
      "execution_count": null,
      "outputs": []
    },
    {
      "cell_type": "code",
      "metadata": {
        "id": "9I9U1mza554f",
        "outputId": "c38c5e38-cae4-4a1f-e6b3-9f013db03516",
        "colab": {
          "base_uri": "https://localhost:8080/",
          "height": 581
        }
      },
      "source": [
        "!pip install -U spacy"
      ],
      "execution_count": 12,
      "outputs": [
        {
          "output_type": "stream",
          "text": [
            "Collecting spacy\n",
            "\u001b[?25l  Downloading https://files.pythonhosted.org/packages/10/b5/c7a92c7ce5d4b353b70b4b5b4385687206c8b230ddfe08746ab0fd310a3a/spacy-2.3.2-cp36-cp36m-manylinux1_x86_64.whl (9.9MB)\n",
            "\u001b[K     |████████████████████████████████| 10.0MB 4.3MB/s \n",
            "\u001b[?25hRequirement already satisfied, skipping upgrade: catalogue<1.1.0,>=0.0.7 in /usr/local/lib/python3.6/dist-packages (from spacy) (1.0.0)\n",
            "Requirement already satisfied, skipping upgrade: srsly<1.1.0,>=1.0.2 in /usr/local/lib/python3.6/dist-packages (from spacy) (1.0.2)\n",
            "Requirement already satisfied, skipping upgrade: blis<0.5.0,>=0.4.0 in /usr/local/lib/python3.6/dist-packages (from spacy) (0.4.1)\n",
            "Collecting thinc==7.4.1\n",
            "\u001b[?25l  Downloading https://files.pythonhosted.org/packages/10/ae/ef3ae5e93639c0ef8e3eb32e3c18341e511b3c515fcfc603f4b808087651/thinc-7.4.1-cp36-cp36m-manylinux1_x86_64.whl (2.1MB)\n",
            "\u001b[K     |████████████████████████████████| 2.1MB 30.3MB/s \n",
            "\u001b[?25hRequirement already satisfied, skipping upgrade: numpy>=1.15.0 in /usr/local/lib/python3.6/dist-packages (from spacy) (1.18.5)\n",
            "Requirement already satisfied, skipping upgrade: wasabi<1.1.0,>=0.4.0 in /usr/local/lib/python3.6/dist-packages (from spacy) (0.8.0)\n",
            "Requirement already satisfied, skipping upgrade: tqdm<5.0.0,>=4.38.0 in /usr/local/lib/python3.6/dist-packages (from spacy) (4.41.1)\n",
            "Requirement already satisfied, skipping upgrade: murmurhash<1.1.0,>=0.28.0 in /usr/local/lib/python3.6/dist-packages (from spacy) (1.0.2)\n",
            "Requirement already satisfied, skipping upgrade: plac<1.2.0,>=0.9.6 in /usr/local/lib/python3.6/dist-packages (from spacy) (1.1.3)\n",
            "Requirement already satisfied, skipping upgrade: requests<3.0.0,>=2.13.0 in /usr/local/lib/python3.6/dist-packages (from spacy) (2.23.0)\n",
            "Requirement already satisfied, skipping upgrade: cymem<2.1.0,>=2.0.2 in /usr/local/lib/python3.6/dist-packages (from spacy) (2.0.3)\n",
            "Requirement already satisfied, skipping upgrade: setuptools in /usr/local/lib/python3.6/dist-packages (from spacy) (50.3.0)\n",
            "Requirement already satisfied, skipping upgrade: preshed<3.1.0,>=3.0.2 in /usr/local/lib/python3.6/dist-packages (from spacy) (3.0.2)\n",
            "Requirement already satisfied, skipping upgrade: importlib-metadata>=0.20; python_version < \"3.8\" in /usr/local/lib/python3.6/dist-packages (from catalogue<1.1.0,>=0.0.7->spacy) (2.0.0)\n",
            "Requirement already satisfied, skipping upgrade: chardet<4,>=3.0.2 in /usr/local/lib/python3.6/dist-packages (from requests<3.0.0,>=2.13.0->spacy) (3.0.4)\n",
            "Requirement already satisfied, skipping upgrade: idna<3,>=2.5 in /usr/local/lib/python3.6/dist-packages (from requests<3.0.0,>=2.13.0->spacy) (2.10)\n",
            "Requirement already satisfied, skipping upgrade: certifi>=2017.4.17 in /usr/local/lib/python3.6/dist-packages (from requests<3.0.0,>=2.13.0->spacy) (2020.6.20)\n",
            "Requirement already satisfied, skipping upgrade: urllib3!=1.25.0,!=1.25.1,<1.26,>=1.21.1 in /usr/local/lib/python3.6/dist-packages (from requests<3.0.0,>=2.13.0->spacy) (1.24.3)\n",
            "Requirement already satisfied, skipping upgrade: zipp>=0.5 in /usr/local/lib/python3.6/dist-packages (from importlib-metadata>=0.20; python_version < \"3.8\"->catalogue<1.1.0,>=0.0.7->spacy) (3.2.0)\n",
            "Installing collected packages: thinc, spacy\n",
            "  Found existing installation: thinc 7.4.0\n",
            "    Uninstalling thinc-7.4.0:\n",
            "      Successfully uninstalled thinc-7.4.0\n",
            "  Found existing installation: spacy 2.2.4\n",
            "    Uninstalling spacy-2.2.4:\n",
            "      Successfully uninstalled spacy-2.2.4\n",
            "Successfully installed spacy-2.3.2 thinc-7.4.1\n"
          ],
          "name": "stdout"
        }
      ]
    },
    {
      "cell_type": "code",
      "metadata": {
        "id": "NAfIRWj7557O",
        "outputId": "4558647a-3720-4467-ffcf-21a56abfa68d",
        "colab": {
          "base_uri": "https://localhost:8080/",
          "height": 224
        }
      },
      "source": [
        "! pip install -U spacy-Lookups-data"
      ],
      "execution_count": 13,
      "outputs": [
        {
          "output_type": "stream",
          "text": [
            "Collecting spacy-Lookups-data\n",
            "\u001b[?25l  Downloading https://files.pythonhosted.org/packages/41/b7/d5c635e51718c874606fb08249c0fab710286240d54847dc60bad3dfceac/spacy_lookups_data-0.3.2.tar.gz (93.8MB)\n",
            "\u001b[K     |████████████████████████████████| 93.8MB 57kB/s \n",
            "\u001b[?25hRequirement already satisfied, skipping upgrade: setuptools in /usr/local/lib/python3.6/dist-packages (from spacy-Lookups-data) (50.3.0)\n",
            "Building wheels for collected packages: spacy-Lookups-data\n",
            "  Building wheel for spacy-Lookups-data (setup.py) ... \u001b[?25l\u001b[?25hdone\n",
            "  Created wheel for spacy-Lookups-data: filename=spacy_lookups_data-0.3.2-py2.py3-none-any.whl size=93807573 sha256=4dc29fd5c3defd5e8929f3110ca5646650eb9f740017782fdc18ee5357074d09\n",
            "  Stored in directory: /root/.cache/pip/wheels/5b/f4/d0/bf720a06127c95d9be2a81d197a3f1998ee5fc63410944e28f\n",
            "Successfully built spacy-Lookups-data\n",
            "Installing collected packages: spacy-Lookups-data\n",
            "Successfully installed spacy-Lookups-data-0.3.2\n"
          ],
          "name": "stdout"
        }
      ]
    },
    {
      "cell_type": "code",
      "metadata": {
        "id": "4pFY024k559u",
        "outputId": "2245d645-8d08-490f-fbc2-ba2abb88ba48",
        "colab": {
          "base_uri": "https://localhost:8080/",
          "height": 632
        }
      },
      "source": [
        "!python -m spacy download en_core_web_sm "
      ],
      "execution_count": 15,
      "outputs": [
        {
          "output_type": "stream",
          "text": [
            "Collecting en_core_web_sm==2.3.1\n",
            "\u001b[?25l  Downloading https://github.com/explosion/spacy-models/releases/download/en_core_web_sm-2.3.1/en_core_web_sm-2.3.1.tar.gz (12.0MB)\n",
            "\u001b[K     |████████████████████████████████| 12.1MB 529kB/s \n",
            "\u001b[?25hRequirement already satisfied: spacy<2.4.0,>=2.3.0 in /usr/local/lib/python3.6/dist-packages (from en_core_web_sm==2.3.1) (2.3.2)\n",
            "Requirement already satisfied: preshed<3.1.0,>=3.0.2 in /usr/local/lib/python3.6/dist-packages (from spacy<2.4.0,>=2.3.0->en_core_web_sm==2.3.1) (3.0.2)\n",
            "Requirement already satisfied: blis<0.5.0,>=0.4.0 in /usr/local/lib/python3.6/dist-packages (from spacy<2.4.0,>=2.3.0->en_core_web_sm==2.3.1) (0.4.1)\n",
            "Requirement already satisfied: srsly<1.1.0,>=1.0.2 in /usr/local/lib/python3.6/dist-packages (from spacy<2.4.0,>=2.3.0->en_core_web_sm==2.3.1) (1.0.2)\n",
            "Requirement already satisfied: catalogue<1.1.0,>=0.0.7 in /usr/local/lib/python3.6/dist-packages (from spacy<2.4.0,>=2.3.0->en_core_web_sm==2.3.1) (1.0.0)\n",
            "Requirement already satisfied: murmurhash<1.1.0,>=0.28.0 in /usr/local/lib/python3.6/dist-packages (from spacy<2.4.0,>=2.3.0->en_core_web_sm==2.3.1) (1.0.2)\n",
            "Requirement already satisfied: tqdm<5.0.0,>=4.38.0 in /usr/local/lib/python3.6/dist-packages (from spacy<2.4.0,>=2.3.0->en_core_web_sm==2.3.1) (4.41.1)\n",
            "Requirement already satisfied: wasabi<1.1.0,>=0.4.0 in /usr/local/lib/python3.6/dist-packages (from spacy<2.4.0,>=2.3.0->en_core_web_sm==2.3.1) (0.8.0)\n",
            "Requirement already satisfied: numpy>=1.15.0 in /usr/local/lib/python3.6/dist-packages (from spacy<2.4.0,>=2.3.0->en_core_web_sm==2.3.1) (1.18.5)\n",
            "Requirement already satisfied: cymem<2.1.0,>=2.0.2 in /usr/local/lib/python3.6/dist-packages (from spacy<2.4.0,>=2.3.0->en_core_web_sm==2.3.1) (2.0.3)\n",
            "Requirement already satisfied: requests<3.0.0,>=2.13.0 in /usr/local/lib/python3.6/dist-packages (from spacy<2.4.0,>=2.3.0->en_core_web_sm==2.3.1) (2.23.0)\n",
            "Requirement already satisfied: plac<1.2.0,>=0.9.6 in /usr/local/lib/python3.6/dist-packages (from spacy<2.4.0,>=2.3.0->en_core_web_sm==2.3.1) (1.1.3)\n",
            "Requirement already satisfied: setuptools in /usr/local/lib/python3.6/dist-packages (from spacy<2.4.0,>=2.3.0->en_core_web_sm==2.3.1) (50.3.0)\n",
            "Requirement already satisfied: thinc==7.4.1 in /usr/local/lib/python3.6/dist-packages (from spacy<2.4.0,>=2.3.0->en_core_web_sm==2.3.1) (7.4.1)\n",
            "Requirement already satisfied: importlib-metadata>=0.20; python_version < \"3.8\" in /usr/local/lib/python3.6/dist-packages (from catalogue<1.1.0,>=0.0.7->spacy<2.4.0,>=2.3.0->en_core_web_sm==2.3.1) (2.0.0)\n",
            "Requirement already satisfied: certifi>=2017.4.17 in /usr/local/lib/python3.6/dist-packages (from requests<3.0.0,>=2.13.0->spacy<2.4.0,>=2.3.0->en_core_web_sm==2.3.1) (2020.6.20)\n",
            "Requirement already satisfied: chardet<4,>=3.0.2 in /usr/local/lib/python3.6/dist-packages (from requests<3.0.0,>=2.13.0->spacy<2.4.0,>=2.3.0->en_core_web_sm==2.3.1) (3.0.4)\n",
            "Requirement already satisfied: urllib3!=1.25.0,!=1.25.1,<1.26,>=1.21.1 in /usr/local/lib/python3.6/dist-packages (from requests<3.0.0,>=2.13.0->spacy<2.4.0,>=2.3.0->en_core_web_sm==2.3.1) (1.24.3)\n",
            "Requirement already satisfied: idna<3,>=2.5 in /usr/local/lib/python3.6/dist-packages (from requests<3.0.0,>=2.13.0->spacy<2.4.0,>=2.3.0->en_core_web_sm==2.3.1) (2.10)\n",
            "Requirement already satisfied: zipp>=0.5 in /usr/local/lib/python3.6/dist-packages (from importlib-metadata>=0.20; python_version < \"3.8\"->catalogue<1.1.0,>=0.0.7->spacy<2.4.0,>=2.3.0->en_core_web_sm==2.3.1) (3.2.0)\n",
            "Building wheels for collected packages: en-core-web-sm\n",
            "  Building wheel for en-core-web-sm (setup.py) ... \u001b[?25l\u001b[?25hdone\n",
            "  Created wheel for en-core-web-sm: filename=en_core_web_sm-2.3.1-cp36-none-any.whl size=12047109 sha256=471f1733d009b2c033f7e2cecf61ffa2f49ae452d2554e935e53e5b5d99991c1\n",
            "  Stored in directory: /tmp/pip-ephem-wheel-cache-uec_yk1m/wheels/2b/3f/41/f0b92863355c3ba34bb32b37d8a0c662959da0058202094f46\n",
            "Successfully built en-core-web-sm\n",
            "Installing collected packages: en-core-web-sm\n",
            "  Found existing installation: en-core-web-sm 2.2.5\n",
            "    Uninstalling en-core-web-sm-2.2.5:\n",
            "      Successfully uninstalled en-core-web-sm-2.2.5\n",
            "Successfully installed en-core-web-sm-2.3.1\n",
            "\u001b[38;5;2m✔ Download and installation successful\u001b[0m\n",
            "You can now load the model via spacy.load('en_core_web_sm')\n"
          ],
          "name": "stdout"
        }
      ]
    },
    {
      "cell_type": "code",
      "metadata": {
        "id": "0BndU4c756AF",
        "outputId": "735a252a-a0c5-4aac-91cc-c622a2f7e814",
        "colab": {
          "base_uri": "https://localhost:8080/",
          "height": 581
        }
      },
      "source": [
        "!python -m spacy download en_core_web_md"
      ],
      "execution_count": 16,
      "outputs": [
        {
          "output_type": "stream",
          "text": [
            "Collecting en_core_web_md==2.3.1\n",
            "\u001b[?25l  Downloading https://github.com/explosion/spacy-models/releases/download/en_core_web_md-2.3.1/en_core_web_md-2.3.1.tar.gz (50.8MB)\n",
            "\u001b[K     |████████████████████████████████| 50.8MB 1.2MB/s \n",
            "\u001b[?25hRequirement already satisfied: spacy<2.4.0,>=2.3.0 in /usr/local/lib/python3.6/dist-packages (from en_core_web_md==2.3.1) (2.3.2)\n",
            "Requirement already satisfied: blis<0.5.0,>=0.4.0 in /usr/local/lib/python3.6/dist-packages (from spacy<2.4.0,>=2.3.0->en_core_web_md==2.3.1) (0.4.1)\n",
            "Requirement already satisfied: plac<1.2.0,>=0.9.6 in /usr/local/lib/python3.6/dist-packages (from spacy<2.4.0,>=2.3.0->en_core_web_md==2.3.1) (1.1.3)\n",
            "Requirement already satisfied: requests<3.0.0,>=2.13.0 in /usr/local/lib/python3.6/dist-packages (from spacy<2.4.0,>=2.3.0->en_core_web_md==2.3.1) (2.23.0)\n",
            "Requirement already satisfied: wasabi<1.1.0,>=0.4.0 in /usr/local/lib/python3.6/dist-packages (from spacy<2.4.0,>=2.3.0->en_core_web_md==2.3.1) (0.8.0)\n",
            "Requirement already satisfied: tqdm<5.0.0,>=4.38.0 in /usr/local/lib/python3.6/dist-packages (from spacy<2.4.0,>=2.3.0->en_core_web_md==2.3.1) (4.41.1)\n",
            "Requirement already satisfied: cymem<2.1.0,>=2.0.2 in /usr/local/lib/python3.6/dist-packages (from spacy<2.4.0,>=2.3.0->en_core_web_md==2.3.1) (2.0.3)\n",
            "Requirement already satisfied: srsly<1.1.0,>=1.0.2 in /usr/local/lib/python3.6/dist-packages (from spacy<2.4.0,>=2.3.0->en_core_web_md==2.3.1) (1.0.2)\n",
            "Requirement already satisfied: numpy>=1.15.0 in /usr/local/lib/python3.6/dist-packages (from spacy<2.4.0,>=2.3.0->en_core_web_md==2.3.1) (1.18.5)\n",
            "Requirement already satisfied: thinc==7.4.1 in /usr/local/lib/python3.6/dist-packages (from spacy<2.4.0,>=2.3.0->en_core_web_md==2.3.1) (7.4.1)\n",
            "Requirement already satisfied: preshed<3.1.0,>=3.0.2 in /usr/local/lib/python3.6/dist-packages (from spacy<2.4.0,>=2.3.0->en_core_web_md==2.3.1) (3.0.2)\n",
            "Requirement already satisfied: catalogue<1.1.0,>=0.0.7 in /usr/local/lib/python3.6/dist-packages (from spacy<2.4.0,>=2.3.0->en_core_web_md==2.3.1) (1.0.0)\n",
            "Requirement already satisfied: murmurhash<1.1.0,>=0.28.0 in /usr/local/lib/python3.6/dist-packages (from spacy<2.4.0,>=2.3.0->en_core_web_md==2.3.1) (1.0.2)\n",
            "Requirement already satisfied: setuptools in /usr/local/lib/python3.6/dist-packages (from spacy<2.4.0,>=2.3.0->en_core_web_md==2.3.1) (50.3.0)\n",
            "Requirement already satisfied: certifi>=2017.4.17 in /usr/local/lib/python3.6/dist-packages (from requests<3.0.0,>=2.13.0->spacy<2.4.0,>=2.3.0->en_core_web_md==2.3.1) (2020.6.20)\n",
            "Requirement already satisfied: urllib3!=1.25.0,!=1.25.1,<1.26,>=1.21.1 in /usr/local/lib/python3.6/dist-packages (from requests<3.0.0,>=2.13.0->spacy<2.4.0,>=2.3.0->en_core_web_md==2.3.1) (1.24.3)\n",
            "Requirement already satisfied: chardet<4,>=3.0.2 in /usr/local/lib/python3.6/dist-packages (from requests<3.0.0,>=2.13.0->spacy<2.4.0,>=2.3.0->en_core_web_md==2.3.1) (3.0.4)\n",
            "Requirement already satisfied: idna<3,>=2.5 in /usr/local/lib/python3.6/dist-packages (from requests<3.0.0,>=2.13.0->spacy<2.4.0,>=2.3.0->en_core_web_md==2.3.1) (2.10)\n",
            "Requirement already satisfied: importlib-metadata>=0.20; python_version < \"3.8\" in /usr/local/lib/python3.6/dist-packages (from catalogue<1.1.0,>=0.0.7->spacy<2.4.0,>=2.3.0->en_core_web_md==2.3.1) (2.0.0)\n",
            "Requirement already satisfied: zipp>=0.5 in /usr/local/lib/python3.6/dist-packages (from importlib-metadata>=0.20; python_version < \"3.8\"->catalogue<1.1.0,>=0.0.7->spacy<2.4.0,>=2.3.0->en_core_web_md==2.3.1) (3.2.0)\n",
            "Building wheels for collected packages: en-core-web-md\n",
            "  Building wheel for en-core-web-md (setup.py) ... \u001b[?25l\u001b[?25hdone\n",
            "  Created wheel for en-core-web-md: filename=en_core_web_md-2.3.1-cp36-none-any.whl size=50916643 sha256=405a3d556a1a633b623aefa9360d4025e2d4e7813015376f12c449ca9006a25f\n",
            "  Stored in directory: /tmp/pip-ephem-wheel-cache-n0kn_a8_/wheels/6e/65/3a/34cdc26d4084d1d1f1e2ec9914964759ea17aa382c53a57d9f\n",
            "Successfully built en-core-web-md\n",
            "Installing collected packages: en-core-web-md\n",
            "Successfully installed en-core-web-md-2.3.1\n",
            "\u001b[38;5;2m✔ Download and installation successful\u001b[0m\n",
            "You can now load the model via spacy.load('en_core_web_md')\n"
          ],
          "name": "stdout"
        }
      ]
    },
    {
      "cell_type": "code",
      "metadata": {
        "id": "mFtlvk_f56Cp",
        "outputId": "43622643-33eb-4288-b0da-0a6ac8117cd4",
        "colab": {
          "base_uri": "https://localhost:8080/",
          "height": 581
        }
      },
      "source": [
        "!python -m spacy download en_core_web_lg"
      ],
      "execution_count": 17,
      "outputs": [
        {
          "output_type": "stream",
          "text": [
            "Collecting en_core_web_lg==2.3.1\n",
            "\u001b[?25l  Downloading https://github.com/explosion/spacy-models/releases/download/en_core_web_lg-2.3.1/en_core_web_lg-2.3.1.tar.gz (782.7MB)\n",
            "\u001b[K     |████████████████████████████████| 782.7MB 1.2MB/s \n",
            "\u001b[?25hRequirement already satisfied: spacy<2.4.0,>=2.3.0 in /usr/local/lib/python3.6/dist-packages (from en_core_web_lg==2.3.1) (2.3.2)\n",
            "Requirement already satisfied: plac<1.2.0,>=0.9.6 in /usr/local/lib/python3.6/dist-packages (from spacy<2.4.0,>=2.3.0->en_core_web_lg==2.3.1) (1.1.3)\n",
            "Requirement already satisfied: wasabi<1.1.0,>=0.4.0 in /usr/local/lib/python3.6/dist-packages (from spacy<2.4.0,>=2.3.0->en_core_web_lg==2.3.1) (0.8.0)\n",
            "Requirement already satisfied: catalogue<1.1.0,>=0.0.7 in /usr/local/lib/python3.6/dist-packages (from spacy<2.4.0,>=2.3.0->en_core_web_lg==2.3.1) (1.0.0)\n",
            "Requirement already satisfied: srsly<1.1.0,>=1.0.2 in /usr/local/lib/python3.6/dist-packages (from spacy<2.4.0,>=2.3.0->en_core_web_lg==2.3.1) (1.0.2)\n",
            "Requirement already satisfied: murmurhash<1.1.0,>=0.28.0 in /usr/local/lib/python3.6/dist-packages (from spacy<2.4.0,>=2.3.0->en_core_web_lg==2.3.1) (1.0.2)\n",
            "Requirement already satisfied: cymem<2.1.0,>=2.0.2 in /usr/local/lib/python3.6/dist-packages (from spacy<2.4.0,>=2.3.0->en_core_web_lg==2.3.1) (2.0.3)\n",
            "Requirement already satisfied: numpy>=1.15.0 in /usr/local/lib/python3.6/dist-packages (from spacy<2.4.0,>=2.3.0->en_core_web_lg==2.3.1) (1.18.5)\n",
            "Requirement already satisfied: requests<3.0.0,>=2.13.0 in /usr/local/lib/python3.6/dist-packages (from spacy<2.4.0,>=2.3.0->en_core_web_lg==2.3.1) (2.23.0)\n",
            "Requirement already satisfied: preshed<3.1.0,>=3.0.2 in /usr/local/lib/python3.6/dist-packages (from spacy<2.4.0,>=2.3.0->en_core_web_lg==2.3.1) (3.0.2)\n",
            "Requirement already satisfied: setuptools in /usr/local/lib/python3.6/dist-packages (from spacy<2.4.0,>=2.3.0->en_core_web_lg==2.3.1) (50.3.0)\n",
            "Requirement already satisfied: thinc==7.4.1 in /usr/local/lib/python3.6/dist-packages (from spacy<2.4.0,>=2.3.0->en_core_web_lg==2.3.1) (7.4.1)\n",
            "Requirement already satisfied: tqdm<5.0.0,>=4.38.0 in /usr/local/lib/python3.6/dist-packages (from spacy<2.4.0,>=2.3.0->en_core_web_lg==2.3.1) (4.41.1)\n",
            "Requirement already satisfied: blis<0.5.0,>=0.4.0 in /usr/local/lib/python3.6/dist-packages (from spacy<2.4.0,>=2.3.0->en_core_web_lg==2.3.1) (0.4.1)\n",
            "Requirement already satisfied: importlib-metadata>=0.20; python_version < \"3.8\" in /usr/local/lib/python3.6/dist-packages (from catalogue<1.1.0,>=0.0.7->spacy<2.4.0,>=2.3.0->en_core_web_lg==2.3.1) (2.0.0)\n",
            "Requirement already satisfied: chardet<4,>=3.0.2 in /usr/local/lib/python3.6/dist-packages (from requests<3.0.0,>=2.13.0->spacy<2.4.0,>=2.3.0->en_core_web_lg==2.3.1) (3.0.4)\n",
            "Requirement already satisfied: idna<3,>=2.5 in /usr/local/lib/python3.6/dist-packages (from requests<3.0.0,>=2.13.0->spacy<2.4.0,>=2.3.0->en_core_web_lg==2.3.1) (2.10)\n",
            "Requirement already satisfied: certifi>=2017.4.17 in /usr/local/lib/python3.6/dist-packages (from requests<3.0.0,>=2.13.0->spacy<2.4.0,>=2.3.0->en_core_web_lg==2.3.1) (2020.6.20)\n",
            "Requirement already satisfied: urllib3!=1.25.0,!=1.25.1,<1.26,>=1.21.1 in /usr/local/lib/python3.6/dist-packages (from requests<3.0.0,>=2.13.0->spacy<2.4.0,>=2.3.0->en_core_web_lg==2.3.1) (1.24.3)\n",
            "Requirement already satisfied: zipp>=0.5 in /usr/local/lib/python3.6/dist-packages (from importlib-metadata>=0.20; python_version < \"3.8\"->catalogue<1.1.0,>=0.0.7->spacy<2.4.0,>=2.3.0->en_core_web_lg==2.3.1) (3.2.0)\n",
            "Building wheels for collected packages: en-core-web-lg\n",
            "  Building wheel for en-core-web-lg (setup.py) ... \u001b[?25l\u001b[?25hdone\n",
            "  Created wheel for en-core-web-lg: filename=en_core_web_lg-2.3.1-cp36-none-any.whl size=782936125 sha256=3d37ebf583433e832766d0f34bc6acf786d37d7edec7dba417bf7603f7d4703f\n",
            "  Stored in directory: /tmp/pip-ephem-wheel-cache-avg3mn03/wheels/ce/4d/1b/bc6cabb6df139c5f0318927be3ae9e51363fb44d6ea328d3f4\n",
            "Successfully built en-core-web-lg\n",
            "Installing collected packages: en-core-web-lg\n",
            "Successfully installed en-core-web-lg-2.3.1\n",
            "\u001b[38;5;2m✔ Download and installation successful\u001b[0m\n",
            "You can now load the model via spacy.load('en_core_web_lg')\n"
          ],
          "name": "stdout"
        }
      ]
    },
    {
      "cell_type": "code",
      "metadata": {
        "id": "qPMhDEGK56Hf"
      },
      "source": [
        "train_data = train_data[['Tweet','Stance']]"
      ],
      "execution_count": 11,
      "outputs": []
    },
    {
      "cell_type": "code",
      "metadata": {
        "id": "yVy08S0h8flx",
        "outputId": "bbe76e16-d09d-49b0-d8ec-90f3c1bf718c",
        "colab": {
          "base_uri": "https://localhost:8080/",
          "height": 85
        }
      },
      "source": [
        "train_data['Stance'].value_counts()"
      ],
      "execution_count": 12,
      "outputs": [
        {
          "output_type": "execute_result",
          "data": {
            "text/plain": [
              "0    1395\n",
              "2     766\n",
              "1     753\n",
              "Name: Stance, dtype: int64"
            ]
          },
          "metadata": {
            "tags": []
          },
          "execution_count": 12
        }
      ]
    },
    {
      "cell_type": "code",
      "metadata": {
        "id": "eB39nhye8f6X"
      },
      "source": [
        "# Word count in the Tweet column \n",
        "\n",
        "train_data['Word_Count'] = train_data['Tweet'].apply(lambda x: len(str(x).split()))"
      ],
      "execution_count": 13,
      "outputs": []
    },
    {
      "cell_type": "code",
      "metadata": {
        "id": "XsDh4vAZ8gAq"
      },
      "source": [
        "## Character Counts in Tweet column\n",
        "\n",
        "train_data['Character_Count'] = train_data['Tweet'].apply(lambda x: len(x))"
      ],
      "execution_count": 14,
      "outputs": []
    },
    {
      "cell_type": "code",
      "metadata": {
        "id": "aRdBJzCz8gDK",
        "outputId": "823c3f94-2424-482b-9520-da2934f1c914",
        "colab": {
          "base_uri": "https://localhost:8080/",
          "height": 204
        }
      },
      "source": [
        "train_data.head()"
      ],
      "execution_count": 15,
      "outputs": [
        {
          "output_type": "execute_result",
          "data": {
            "text/html": [
              "<div>\n",
              "<style scoped>\n",
              "    .dataframe tbody tr th:only-of-type {\n",
              "        vertical-align: middle;\n",
              "    }\n",
              "\n",
              "    .dataframe tbody tr th {\n",
              "        vertical-align: top;\n",
              "    }\n",
              "\n",
              "    .dataframe thead th {\n",
              "        text-align: right;\n",
              "    }\n",
              "</style>\n",
              "<table border=\"1\" class=\"dataframe\">\n",
              "  <thead>\n",
              "    <tr style=\"text-align: right;\">\n",
              "      <th></th>\n",
              "      <th>Tweet</th>\n",
              "      <th>Stance</th>\n",
              "      <th>Word_Count</th>\n",
              "      <th>Character_Count</th>\n",
              "    </tr>\n",
              "  </thead>\n",
              "  <tbody>\n",
              "    <tr>\n",
              "      <th>0</th>\n",
              "      <td>@tedcruz And, #HandOverTheServer she wiped cle...</td>\n",
              "      <td>0</td>\n",
              "      <td>19</td>\n",
              "      <td>143</td>\n",
              "    </tr>\n",
              "    <tr>\n",
              "      <th>1</th>\n",
              "      <td>Hillary is our best choice if we truly want to...</td>\n",
              "      <td>1</td>\n",
              "      <td>18</td>\n",
              "      <td>105</td>\n",
              "    </tr>\n",
              "    <tr>\n",
              "      <th>2</th>\n",
              "      <td>@TheView I think our country is ready for a fe...</td>\n",
              "      <td>0</td>\n",
              "      <td>18</td>\n",
              "      <td>97</td>\n",
              "    </tr>\n",
              "    <tr>\n",
              "      <th>3</th>\n",
              "      <td>I just gave an unhealthy amount of my hard-ear...</td>\n",
              "      <td>0</td>\n",
              "      <td>21</td>\n",
              "      <td>140</td>\n",
              "    </tr>\n",
              "    <tr>\n",
              "      <th>4</th>\n",
              "      <td>@PortiaABoulger Thank you for adding me to you...</td>\n",
              "      <td>2</td>\n",
              "      <td>11</td>\n",
              "      <td>68</td>\n",
              "    </tr>\n",
              "  </tbody>\n",
              "</table>\n",
              "</div>"
            ],
            "text/plain": [
              "                                               Tweet  ...  Character_Count\n",
              "0  @tedcruz And, #HandOverTheServer she wiped cle...  ...              143\n",
              "1  Hillary is our best choice if we truly want to...  ...              105\n",
              "2  @TheView I think our country is ready for a fe...  ...               97\n",
              "3  I just gave an unhealthy amount of my hard-ear...  ...              140\n",
              "4  @PortiaABoulger Thank you for adding me to you...  ...               68\n",
              "\n",
              "[5 rows x 4 columns]"
            ]
          },
          "metadata": {
            "tags": []
          },
          "execution_count": 15
        }
      ]
    },
    {
      "cell_type": "code",
      "metadata": {
        "id": "wHG99sRX8gGG"
      },
      "source": [
        "# Calculating the average word length [calculated using formula =  (Character_Count/Word_Count)]\n",
        "\n",
        "train_data['Average_Word_length'] = train_data['Character_Count']/train_data['Word_Count']"
      ],
      "execution_count": 16,
      "outputs": []
    },
    {
      "cell_type": "code",
      "metadata": {
        "id": "r5XDPx8DEA7B",
        "outputId": "db437ebc-8ae1-412f-8747-8994ed2d3b2f",
        "colab": {
          "base_uri": "https://localhost:8080/",
          "height": 204
        }
      },
      "source": [
        "train_data.head()"
      ],
      "execution_count": 17,
      "outputs": [
        {
          "output_type": "execute_result",
          "data": {
            "text/html": [
              "<div>\n",
              "<style scoped>\n",
              "    .dataframe tbody tr th:only-of-type {\n",
              "        vertical-align: middle;\n",
              "    }\n",
              "\n",
              "    .dataframe tbody tr th {\n",
              "        vertical-align: top;\n",
              "    }\n",
              "\n",
              "    .dataframe thead th {\n",
              "        text-align: right;\n",
              "    }\n",
              "</style>\n",
              "<table border=\"1\" class=\"dataframe\">\n",
              "  <thead>\n",
              "    <tr style=\"text-align: right;\">\n",
              "      <th></th>\n",
              "      <th>Tweet</th>\n",
              "      <th>Stance</th>\n",
              "      <th>Word_Count</th>\n",
              "      <th>Character_Count</th>\n",
              "      <th>Average_Word_length</th>\n",
              "    </tr>\n",
              "  </thead>\n",
              "  <tbody>\n",
              "    <tr>\n",
              "      <th>0</th>\n",
              "      <td>@tedcruz And, #HandOverTheServer she wiped cle...</td>\n",
              "      <td>0</td>\n",
              "      <td>19</td>\n",
              "      <td>143</td>\n",
              "      <td>7.526316</td>\n",
              "    </tr>\n",
              "    <tr>\n",
              "      <th>1</th>\n",
              "      <td>Hillary is our best choice if we truly want to...</td>\n",
              "      <td>1</td>\n",
              "      <td>18</td>\n",
              "      <td>105</td>\n",
              "      <td>5.833333</td>\n",
              "    </tr>\n",
              "    <tr>\n",
              "      <th>2</th>\n",
              "      <td>@TheView I think our country is ready for a fe...</td>\n",
              "      <td>0</td>\n",
              "      <td>18</td>\n",
              "      <td>97</td>\n",
              "      <td>5.388889</td>\n",
              "    </tr>\n",
              "    <tr>\n",
              "      <th>3</th>\n",
              "      <td>I just gave an unhealthy amount of my hard-ear...</td>\n",
              "      <td>0</td>\n",
              "      <td>21</td>\n",
              "      <td>140</td>\n",
              "      <td>6.666667</td>\n",
              "    </tr>\n",
              "    <tr>\n",
              "      <th>4</th>\n",
              "      <td>@PortiaABoulger Thank you for adding me to you...</td>\n",
              "      <td>2</td>\n",
              "      <td>11</td>\n",
              "      <td>68</td>\n",
              "      <td>6.181818</td>\n",
              "    </tr>\n",
              "  </tbody>\n",
              "</table>\n",
              "</div>"
            ],
            "text/plain": [
              "                                               Tweet  ...  Average_Word_length\n",
              "0  @tedcruz And, #HandOverTheServer she wiped cle...  ...             7.526316\n",
              "1  Hillary is our best choice if we truly want to...  ...             5.833333\n",
              "2  @TheView I think our country is ready for a fe...  ...             5.388889\n",
              "3  I just gave an unhealthy amount of my hard-ear...  ...             6.666667\n",
              "4  @PortiaABoulger Thank you for adding me to you...  ...             6.181818\n",
              "\n",
              "[5 rows x 5 columns]"
            ]
          },
          "metadata": {
            "tags": []
          },
          "execution_count": 17
        }
      ]
    },
    {
      "cell_type": "code",
      "metadata": {
        "id": "_Gh01EVjEQzn"
      },
      "source": [
        "# Counting the stop words\n",
        "\n",
        "train_data['Stop_words_count'] = train_data['Tweet'].apply(lambda x: len([t for t in x.split() if t in STOP_WORDS]))"
      ],
      "execution_count": 18,
      "outputs": []
    },
    {
      "cell_type": "code",
      "metadata": {
        "id": "vPBW7F8TEQ2N",
        "outputId": "60fa58a5-71a6-4061-f0e9-dd671592e07e",
        "colab": {
          "base_uri": "https://localhost:8080/",
          "height": 204
        }
      },
      "source": [
        "train_data.head()"
      ],
      "execution_count": 19,
      "outputs": [
        {
          "output_type": "execute_result",
          "data": {
            "text/html": [
              "<div>\n",
              "<style scoped>\n",
              "    .dataframe tbody tr th:only-of-type {\n",
              "        vertical-align: middle;\n",
              "    }\n",
              "\n",
              "    .dataframe tbody tr th {\n",
              "        vertical-align: top;\n",
              "    }\n",
              "\n",
              "    .dataframe thead th {\n",
              "        text-align: right;\n",
              "    }\n",
              "</style>\n",
              "<table border=\"1\" class=\"dataframe\">\n",
              "  <thead>\n",
              "    <tr style=\"text-align: right;\">\n",
              "      <th></th>\n",
              "      <th>Tweet</th>\n",
              "      <th>Stance</th>\n",
              "      <th>Word_Count</th>\n",
              "      <th>Character_Count</th>\n",
              "      <th>Average_Word_length</th>\n",
              "      <th>Stop_words_count</th>\n",
              "    </tr>\n",
              "  </thead>\n",
              "  <tbody>\n",
              "    <tr>\n",
              "      <th>0</th>\n",
              "      <td>@tedcruz And, #HandOverTheServer she wiped cle...</td>\n",
              "      <td>0</td>\n",
              "      <td>19</td>\n",
              "      <td>143</td>\n",
              "      <td>7.526316</td>\n",
              "      <td>3</td>\n",
              "    </tr>\n",
              "    <tr>\n",
              "      <th>1</th>\n",
              "      <td>Hillary is our best choice if we truly want to...</td>\n",
              "      <td>1</td>\n",
              "      <td>18</td>\n",
              "      <td>105</td>\n",
              "      <td>5.833333</td>\n",
              "      <td>7</td>\n",
              "    </tr>\n",
              "    <tr>\n",
              "      <th>2</th>\n",
              "      <td>@TheView I think our country is ready for a fe...</td>\n",
              "      <td>0</td>\n",
              "      <td>18</td>\n",
              "      <td>97</td>\n",
              "      <td>5.388889</td>\n",
              "      <td>7</td>\n",
              "    </tr>\n",
              "    <tr>\n",
              "      <th>3</th>\n",
              "      <td>I just gave an unhealthy amount of my hard-ear...</td>\n",
              "      <td>0</td>\n",
              "      <td>21</td>\n",
              "      <td>140</td>\n",
              "      <td>6.666667</td>\n",
              "      <td>7</td>\n",
              "    </tr>\n",
              "    <tr>\n",
              "      <th>4</th>\n",
              "      <td>@PortiaABoulger Thank you for adding me to you...</td>\n",
              "      <td>2</td>\n",
              "      <td>11</td>\n",
              "      <td>68</td>\n",
              "      <td>6.181818</td>\n",
              "      <td>5</td>\n",
              "    </tr>\n",
              "  </tbody>\n",
              "</table>\n",
              "</div>"
            ],
            "text/plain": [
              "                                               Tweet  ...  Stop_words_count\n",
              "0  @tedcruz And, #HandOverTheServer she wiped cle...  ...                 3\n",
              "1  Hillary is our best choice if we truly want to...  ...                 7\n",
              "2  @TheView I think our country is ready for a fe...  ...                 7\n",
              "3  I just gave an unhealthy amount of my hard-ear...  ...                 7\n",
              "4  @PortiaABoulger Thank you for adding me to you...  ...                 5\n",
              "\n",
              "[5 rows x 6 columns]"
            ]
          },
          "metadata": {
            "tags": []
          },
          "execution_count": 19
        }
      ]
    },
    {
      "cell_type": "code",
      "metadata": {
        "id": "gCgW29v7EQ4r"
      },
      "source": [
        "## Count HashTags -> # and mentions -> @\n",
        "\n",
        "train_data['HashTage_Count'] = train_data['Tweet'].apply(lambda x : len([t for t in x.split() if t.startswith(\"#\")])) \n",
        "\n",
        "\n",
        "train_data['Mention_Count'] = train_data['Tweet'].apply(lambda x : len([t for t in x.split() if t.startswith(\"@\")])) "
      ],
      "execution_count": 20,
      "outputs": []
    },
    {
      "cell_type": "code",
      "metadata": {
        "id": "yoDO9P4dEQ7s",
        "outputId": "59c03abd-6806-4463-b1a7-6f89a3e0a415",
        "colab": {
          "base_uri": "https://localhost:8080/",
          "height": 394
        }
      },
      "source": [
        "train_data.head()"
      ],
      "execution_count": 21,
      "outputs": [
        {
          "output_type": "execute_result",
          "data": {
            "text/html": [
              "<div>\n",
              "<style scoped>\n",
              "    .dataframe tbody tr th:only-of-type {\n",
              "        vertical-align: middle;\n",
              "    }\n",
              "\n",
              "    .dataframe tbody tr th {\n",
              "        vertical-align: top;\n",
              "    }\n",
              "\n",
              "    .dataframe thead th {\n",
              "        text-align: right;\n",
              "    }\n",
              "</style>\n",
              "<table border=\"1\" class=\"dataframe\">\n",
              "  <thead>\n",
              "    <tr style=\"text-align: right;\">\n",
              "      <th></th>\n",
              "      <th>Tweet</th>\n",
              "      <th>Stance</th>\n",
              "      <th>Word_Count</th>\n",
              "      <th>Character_Count</th>\n",
              "      <th>Average_Word_length</th>\n",
              "      <th>Stop_words_count</th>\n",
              "      <th>HashTage_Count</th>\n",
              "      <th>Mention_Count</th>\n",
              "    </tr>\n",
              "  </thead>\n",
              "  <tbody>\n",
              "    <tr>\n",
              "      <th>0</th>\n",
              "      <td>@tedcruz And, #HandOverTheServer she wiped cle...</td>\n",
              "      <td>0</td>\n",
              "      <td>19</td>\n",
              "      <td>143</td>\n",
              "      <td>7.526316</td>\n",
              "      <td>3</td>\n",
              "      <td>3</td>\n",
              "      <td>1</td>\n",
              "    </tr>\n",
              "    <tr>\n",
              "      <th>1</th>\n",
              "      <td>Hillary is our best choice if we truly want to...</td>\n",
              "      <td>1</td>\n",
              "      <td>18</td>\n",
              "      <td>105</td>\n",
              "      <td>5.833333</td>\n",
              "      <td>7</td>\n",
              "      <td>1</td>\n",
              "      <td>0</td>\n",
              "    </tr>\n",
              "    <tr>\n",
              "      <th>2</th>\n",
              "      <td>@TheView I think our country is ready for a fe...</td>\n",
              "      <td>0</td>\n",
              "      <td>18</td>\n",
              "      <td>97</td>\n",
              "      <td>5.388889</td>\n",
              "      <td>7</td>\n",
              "      <td>0</td>\n",
              "      <td>1</td>\n",
              "    </tr>\n",
              "    <tr>\n",
              "      <th>3</th>\n",
              "      <td>I just gave an unhealthy amount of my hard-ear...</td>\n",
              "      <td>0</td>\n",
              "      <td>21</td>\n",
              "      <td>140</td>\n",
              "      <td>6.666667</td>\n",
              "      <td>7</td>\n",
              "      <td>1</td>\n",
              "      <td>0</td>\n",
              "    </tr>\n",
              "    <tr>\n",
              "      <th>4</th>\n",
              "      <td>@PortiaABoulger Thank you for adding me to you...</td>\n",
              "      <td>2</td>\n",
              "      <td>11</td>\n",
              "      <td>68</td>\n",
              "      <td>6.181818</td>\n",
              "      <td>5</td>\n",
              "      <td>0</td>\n",
              "      <td>1</td>\n",
              "    </tr>\n",
              "  </tbody>\n",
              "</table>\n",
              "</div>"
            ],
            "text/plain": [
              "                                               Tweet  ...  Mention_Count\n",
              "0  @tedcruz And, #HandOverTheServer she wiped cle...  ...              1\n",
              "1  Hillary is our best choice if we truly want to...  ...              0\n",
              "2  @TheView I think our country is ready for a fe...  ...              1\n",
              "3  I just gave an unhealthy amount of my hard-ear...  ...              0\n",
              "4  @PortiaABoulger Thank you for adding me to you...  ...              1\n",
              "\n",
              "[5 rows x 8 columns]"
            ]
          },
          "metadata": {
            "tags": []
          },
          "execution_count": 21
        }
      ]
    },
    {
      "cell_type": "code",
      "metadata": {
        "id": "xmE42s9oEQ-B"
      },
      "source": [
        "## Checking the numeric digits present in the tweets\n",
        "\n",
        "train_data['numeric_digit_Count'] = train_data['Tweet'].apply(lambda x : len([t for t in x.split() if t.isdigit()])) "
      ],
      "execution_count": 22,
      "outputs": []
    },
    {
      "cell_type": "code",
      "metadata": {
        "id": "mKd-napAERDi"
      },
      "source": [
        "# Checking the count of Upper Case in the tweet (Because mostly people write in capital when they are Happy or Sad)\n",
        "\n",
        "train_data['uppercase_Count'] = train_data['Tweet'].apply(lambda x : len([t for t in x.split() if t.isupper() and len(x)>3])) "
      ],
      "execution_count": 23,
      "outputs": []
    },
    {
      "cell_type": "code",
      "metadata": {
        "id": "bQhSjMwvRPsi",
        "outputId": "4e14e321-658e-4b54-8b11-306fee5cd5f4",
        "colab": {
          "base_uri": "https://localhost:8080/",
          "height": 394
        }
      },
      "source": [
        "train_data.head()"
      ],
      "execution_count": 24,
      "outputs": [
        {
          "output_type": "execute_result",
          "data": {
            "text/html": [
              "<div>\n",
              "<style scoped>\n",
              "    .dataframe tbody tr th:only-of-type {\n",
              "        vertical-align: middle;\n",
              "    }\n",
              "\n",
              "    .dataframe tbody tr th {\n",
              "        vertical-align: top;\n",
              "    }\n",
              "\n",
              "    .dataframe thead th {\n",
              "        text-align: right;\n",
              "    }\n",
              "</style>\n",
              "<table border=\"1\" class=\"dataframe\">\n",
              "  <thead>\n",
              "    <tr style=\"text-align: right;\">\n",
              "      <th></th>\n",
              "      <th>Tweet</th>\n",
              "      <th>Stance</th>\n",
              "      <th>Word_Count</th>\n",
              "      <th>Character_Count</th>\n",
              "      <th>Average_Word_length</th>\n",
              "      <th>Stop_words_count</th>\n",
              "      <th>HashTage_Count</th>\n",
              "      <th>Mention_Count</th>\n",
              "      <th>numeric_digit_Count</th>\n",
              "      <th>uppercase_Count</th>\n",
              "    </tr>\n",
              "  </thead>\n",
              "  <tbody>\n",
              "    <tr>\n",
              "      <th>0</th>\n",
              "      <td>@tedcruz And, #HandOverTheServer she wiped cle...</td>\n",
              "      <td>0</td>\n",
              "      <td>19</td>\n",
              "      <td>143</td>\n",
              "      <td>7.526316</td>\n",
              "      <td>3</td>\n",
              "      <td>3</td>\n",
              "      <td>1</td>\n",
              "      <td>0</td>\n",
              "      <td>0</td>\n",
              "    </tr>\n",
              "    <tr>\n",
              "      <th>1</th>\n",
              "      <td>Hillary is our best choice if we truly want to...</td>\n",
              "      <td>1</td>\n",
              "      <td>18</td>\n",
              "      <td>105</td>\n",
              "      <td>5.833333</td>\n",
              "      <td>7</td>\n",
              "      <td>1</td>\n",
              "      <td>0</td>\n",
              "      <td>0</td>\n",
              "      <td>0</td>\n",
              "    </tr>\n",
              "    <tr>\n",
              "      <th>2</th>\n",
              "      <td>@TheView I think our country is ready for a fe...</td>\n",
              "      <td>0</td>\n",
              "      <td>18</td>\n",
              "      <td>97</td>\n",
              "      <td>5.388889</td>\n",
              "      <td>7</td>\n",
              "      <td>0</td>\n",
              "      <td>1</td>\n",
              "      <td>0</td>\n",
              "      <td>1</td>\n",
              "    </tr>\n",
              "    <tr>\n",
              "      <th>3</th>\n",
              "      <td>I just gave an unhealthy amount of my hard-ear...</td>\n",
              "      <td>0</td>\n",
              "      <td>21</td>\n",
              "      <td>140</td>\n",
              "      <td>6.666667</td>\n",
              "      <td>7</td>\n",
              "      <td>1</td>\n",
              "      <td>0</td>\n",
              "      <td>0</td>\n",
              "      <td>2</td>\n",
              "    </tr>\n",
              "    <tr>\n",
              "      <th>4</th>\n",
              "      <td>@PortiaABoulger Thank you for adding me to you...</td>\n",
              "      <td>2</td>\n",
              "      <td>11</td>\n",
              "      <td>68</td>\n",
              "      <td>6.181818</td>\n",
              "      <td>5</td>\n",
              "      <td>0</td>\n",
              "      <td>1</td>\n",
              "      <td>0</td>\n",
              "      <td>0</td>\n",
              "    </tr>\n",
              "  </tbody>\n",
              "</table>\n",
              "</div>"
            ],
            "text/plain": [
              "                                               Tweet  ...  uppercase_Count\n",
              "0  @tedcruz And, #HandOverTheServer she wiped cle...  ...                0\n",
              "1  Hillary is our best choice if we truly want to...  ...                0\n",
              "2  @TheView I think our country is ready for a fe...  ...                1\n",
              "3  I just gave an unhealthy amount of my hard-ear...  ...                2\n",
              "4  @PortiaABoulger Thank you for adding me to you...  ...                0\n",
              "\n",
              "[5 rows x 10 columns]"
            ]
          },
          "metadata": {
            "tags": []
          },
          "execution_count": 24
        }
      ]
    },
    {
      "cell_type": "code",
      "metadata": {
        "id": "D6xTp80vRU5O"
      },
      "source": [
        ""
      ],
      "execution_count": null,
      "outputs": []
    },
    {
      "cell_type": "markdown",
      "metadata": {
        "id": "u01RCVwhT9KY"
      },
      "source": [
        "*Preprocessing and cleaning the data*"
      ]
    },
    {
      "cell_type": "code",
      "metadata": {
        "id": "jilI5JZNRg-o"
      },
      "source": [
        "# Converting to lower case\n",
        "\n",
        "train_data['Tweet'] = train_data['Tweet'].apply(lambda x: x.lower()) "
      ],
      "execution_count": 25,
      "outputs": []
    },
    {
      "cell_type": "code",
      "metadata": {
        "id": "bSr4FEqIRhB0",
        "outputId": "dd1cd174-a312-491a-9f40-cf6d9f1a0e0a",
        "colab": {
          "base_uri": "https://localhost:8080/",
          "height": 68
        }
      },
      "source": [
        "train_data['Tweet'].head(2)"
      ],
      "execution_count": 26,
      "outputs": [
        {
          "output_type": "execute_result",
          "data": {
            "text/plain": [
              "0    @tedcruz and, #handovertheserver she wiped cle...\n",
              "1    hillary is our best choice if we truly want to...\n",
              "Name: Tweet, dtype: object"
            ]
          },
          "metadata": {
            "tags": []
          },
          "execution_count": 26
        }
      ]
    },
    {
      "cell_type": "code",
      "metadata": {
        "id": "l5fuqoa1RhG-"
      },
      "source": [
        "# Contraction to Expandion [Meaning converting words like \"don't\" to \"do not\"]\n",
        "\n",
        "contractions = { \n",
        "\"ain't\": \"am not\",\n",
        "\"aren't\": \"are not\",\n",
        "\"can't\": \"cannot\",\n",
        "\"can't've\": \"cannot have\",\n",
        "\"cause\": \"because\",\n",
        "\"could've\": \"could have\",\n",
        "\"couldn't\": \"could not\",\n",
        "\"didn't\": \"did not\",\n",
        "\"doesn't\": \"does not\",\n",
        "\"don't\": \"do not\",\n",
        "\"hadn't\": \"had not\",\n",
        "\"hasn't\": \"has not\",\n",
        "\"haven't\": \"have not\",\n",
        "\"he'd\": \"he had\",\n",
        "\"he'll\": \"he will\",\n",
        "\"he's\": \"he is\",\n",
        "\"how'd\": \"how did\",\n",
        "\"how'd'y\": \"how do you\",\n",
        "\"how'll\": \"how will\",\n",
        "\"how's\": \"how is\",\n",
        "\"i'd\": \"i had\",\n",
        "\"i'll\": \"i will\",\n",
        "\"i'm\": \"i am\",\n",
        "\"i've\": \"i have\",\n",
        "\"isn't\": \"is not\",\n",
        "\"it'd\": \"it had\",\n",
        "\"it'll\": \"it will\",\n",
        "\"it's\": \"it is\",\n",
        "\"let's\": \"let us\",\n",
        "\"ma'am\": \"madam\",\n",
        "\"mayn't\": \"may not\",\n",
        "\"might've\": \"might have\",\n",
        "\"mightn't\": \"might not\",\n",
        "\"must've\": \"must have\",\n",
        "\"mustn't\": \"must not\",\n",
        "\"needn't\": \"need not\",\n",
        "\"o'clock\": \"of the clock\",\n",
        "\"oughtn't\": \"ought not\",\n",
        "\"shan't\": \"shall not\",\n",
        "\"sha'n't\": \"shall not\",\n",
        "\"she'd\": \"she had\",\n",
        "\"she'll\": \"she will\",\n",
        "\"she's\": \"she is\",\n",
        "\"should've\": \"should have\",\n",
        "\"shouldn't\": \"should not\",\n",
        "\"so've\": \"so have\",\n",
        "\"so's\": \"so is\",\n",
        "\"that'd\": \"that had\",\n",
        "\"that's\": \"that is\",\n",
        "\"there'd\": \"there had\",\n",
        "\"there's\": \"there is\",\n",
        "\"they'd\": \"they had\",\n",
        "\"they'll\": \"they will\",\n",
        "\"they're\": \"they are\",\n",
        "\"they've\": \"they have\",\n",
        "\"to've\": \"to have\",\n",
        "\"wasn't\": \"was not\",\n",
        "\"we'd\": \"we had\",\n",
        "\"we'll\": \"we will\",\n",
        "\"we're\": \"we are\",\n",
        "\"we've\": \"we have\",\n",
        "\"weren't\": \"were not\",\n",
        "\"what'll\": \"what will\",\n",
        "\"what're\": \"what are\",\n",
        "\"what's\": \"what is\",\n",
        "\"what've\": \"what have\",\n",
        "\"when's\": \"when is\",\n",
        "\"when've\": \"when have\",\n",
        "\"where'd\": \"where did\",\n",
        "\"where's\": \"where is\",\n",
        "\"where've\": \"where have\",\n",
        "\"who'll\": \"who will\",\n",
        "\"who'll've\": \"who will have\",\n",
        "\"who's\": \"who is\",\n",
        "\"who've\": \"who have\",\n",
        "\"why's\": \"why is\",\n",
        "\"why've\": \"why have\",\n",
        "\"will've\": \"will have\",\n",
        "\"won't\": \"will not\",\n",
        "\"won't've\": \"will not have\",\n",
        "\"would've\": \"would have\",\n",
        "\"wouldn't\": \"would not\",\n",
        "\"wouldn't've\": \"would not have\",\n",
        "\"y'all\": \"you all\",\n",
        "\"y'all'd\": \"you all would\",\n",
        "\"y'all'd've\": \"you all would have\",\n",
        "\"y'all're\": \"you all are\",\n",
        "\"y'all've\": \"you all have\",\n",
        "\"you'd\": \"you had\",\n",
        "\"you'll\": \"you will\",\n",
        "\"you're\": \"you are\",\n",
        "\"you've\": \"you have\",\n",
        "\" n \":\"and\",\n",
        "\" u \": \"you\",\n",
        "}"
      ],
      "execution_count": 27,
      "outputs": []
    },
    {
      "cell_type": "code",
      "metadata": {
        "id": "Elh-ArXIRhJ6"
      },
      "source": [
        "def con_to_ext(x):\n",
        "  if type(x) is str:\n",
        "    for key in contractions:\n",
        "      value = contractions[key]\n",
        "      x = x.replace(key, value)\n",
        "    return x\n",
        "  else:\n",
        "    return x"
      ],
      "execution_count": 28,
      "outputs": []
    },
    {
      "cell_type": "code",
      "metadata": {
        "id": "AkYM9AAWdeWv",
        "outputId": "c141d808-22c2-42cd-8356-4ef7ef36182e",
        "colab": {
          "base_uri": "https://localhost:8080/",
          "height": 51
        }
      },
      "source": [
        "%%time\n",
        "train_data['Tweet'] = train_data['Tweet'].apply(lambda x: con_to_ext(x))"
      ],
      "execution_count": 29,
      "outputs": [
        {
          "output_type": "stream",
          "text": [
            "CPU times: user 87.3 ms, sys: 0 ns, total: 87.3 ms\n",
            "Wall time: 93.9 ms\n"
          ],
          "name": "stdout"
        }
      ]
    },
    {
      "cell_type": "code",
      "metadata": {
        "id": "kvKt5sJpdeZw",
        "outputId": "12beb51e-ccc2-4f06-b48b-cc2e03fc1844",
        "colab": {
          "base_uri": "https://localhost:8080/",
          "height": 796
        }
      },
      "source": [
        "train_data"
      ],
      "execution_count": 30,
      "outputs": [
        {
          "output_type": "execute_result",
          "data": {
            "text/html": [
              "<div>\n",
              "<style scoped>\n",
              "    .dataframe tbody tr th:only-of-type {\n",
              "        vertical-align: middle;\n",
              "    }\n",
              "\n",
              "    .dataframe tbody tr th {\n",
              "        vertical-align: top;\n",
              "    }\n",
              "\n",
              "    .dataframe thead th {\n",
              "        text-align: right;\n",
              "    }\n",
              "</style>\n",
              "<table border=\"1\" class=\"dataframe\">\n",
              "  <thead>\n",
              "    <tr style=\"text-align: right;\">\n",
              "      <th></th>\n",
              "      <th>Tweet</th>\n",
              "      <th>Stance</th>\n",
              "      <th>Word_Count</th>\n",
              "      <th>Character_Count</th>\n",
              "      <th>Average_Word_length</th>\n",
              "      <th>Stop_words_count</th>\n",
              "      <th>HashTage_Count</th>\n",
              "      <th>Mention_Count</th>\n",
              "      <th>numeric_digit_Count</th>\n",
              "      <th>uppercase_Count</th>\n",
              "    </tr>\n",
              "  </thead>\n",
              "  <tbody>\n",
              "    <tr>\n",
              "      <th>0</th>\n",
              "      <td>@tedcruz and, #handovertheserver she wiped cle...</td>\n",
              "      <td>0</td>\n",
              "      <td>19</td>\n",
              "      <td>143</td>\n",
              "      <td>7.526316</td>\n",
              "      <td>3</td>\n",
              "      <td>3</td>\n",
              "      <td>1</td>\n",
              "      <td>0</td>\n",
              "      <td>0</td>\n",
              "    </tr>\n",
              "    <tr>\n",
              "      <th>1</th>\n",
              "      <td>hillary is our best choice if we truly want to...</td>\n",
              "      <td>1</td>\n",
              "      <td>18</td>\n",
              "      <td>105</td>\n",
              "      <td>5.833333</td>\n",
              "      <td>7</td>\n",
              "      <td>1</td>\n",
              "      <td>0</td>\n",
              "      <td>0</td>\n",
              "      <td>0</td>\n",
              "    </tr>\n",
              "    <tr>\n",
              "      <th>2</th>\n",
              "      <td>@theview i think our country is ready for a fe...</td>\n",
              "      <td>0</td>\n",
              "      <td>18</td>\n",
              "      <td>97</td>\n",
              "      <td>5.388889</td>\n",
              "      <td>7</td>\n",
              "      <td>0</td>\n",
              "      <td>1</td>\n",
              "      <td>0</td>\n",
              "      <td>1</td>\n",
              "    </tr>\n",
              "    <tr>\n",
              "      <th>3</th>\n",
              "      <td>i just gave an unhealthy amount of my hard-ear...</td>\n",
              "      <td>0</td>\n",
              "      <td>21</td>\n",
              "      <td>140</td>\n",
              "      <td>6.666667</td>\n",
              "      <td>7</td>\n",
              "      <td>1</td>\n",
              "      <td>0</td>\n",
              "      <td>0</td>\n",
              "      <td>2</td>\n",
              "    </tr>\n",
              "    <tr>\n",
              "      <th>4</th>\n",
              "      <td>@portiaaboulger thank you for adding me to you...</td>\n",
              "      <td>2</td>\n",
              "      <td>11</td>\n",
              "      <td>68</td>\n",
              "      <td>6.181818</td>\n",
              "      <td>5</td>\n",
              "      <td>0</td>\n",
              "      <td>1</td>\n",
              "      <td>0</td>\n",
              "      <td>0</td>\n",
              "    </tr>\n",
              "    <tr>\n",
              "      <th>...</th>\n",
              "      <td>...</td>\n",
              "      <td>...</td>\n",
              "      <td>...</td>\n",
              "      <td>...</td>\n",
              "      <td>...</td>\n",
              "      <td>...</td>\n",
              "      <td>...</td>\n",
              "      <td>...</td>\n",
              "      <td>...</td>\n",
              "      <td>...</td>\n",
              "    </tr>\n",
              "    <tr>\n",
              "      <th>2909</th>\n",
              "      <td>there is a law protecting unborn eagles, but n...</td>\n",
              "      <td>0</td>\n",
              "      <td>25</td>\n",
              "      <td>156</td>\n",
              "      <td>6.240000</td>\n",
              "      <td>7</td>\n",
              "      <td>1</td>\n",
              "      <td>0</td>\n",
              "      <td>1</td>\n",
              "      <td>0</td>\n",
              "    </tr>\n",
              "    <tr>\n",
              "      <th>2910</th>\n",
              "      <td>i am 1 in 3... i have had an abortion #abortio...</td>\n",
              "      <td>0</td>\n",
              "      <td>16</td>\n",
              "      <td>108</td>\n",
              "      <td>6.750000</td>\n",
              "      <td>6</td>\n",
              "      <td>3</td>\n",
              "      <td>0</td>\n",
              "      <td>1</td>\n",
              "      <td>2</td>\n",
              "    </tr>\n",
              "    <tr>\n",
              "      <th>2911</th>\n",
              "      <td>how dare you say my sexual preference is a cho...</td>\n",
              "      <td>0</td>\n",
              "      <td>23</td>\n",
              "      <td>142</td>\n",
              "      <td>6.173913</td>\n",
              "      <td>10</td>\n",
              "      <td>2</td>\n",
              "      <td>0</td>\n",
              "      <td>0</td>\n",
              "      <td>0</td>\n",
              "    </tr>\n",
              "    <tr>\n",
              "      <th>2912</th>\n",
              "      <td>equal rights for those 'born that way', no rig...</td>\n",
              "      <td>0</td>\n",
              "      <td>21</td>\n",
              "      <td>137</td>\n",
              "      <td>6.523810</td>\n",
              "      <td>9</td>\n",
              "      <td>4</td>\n",
              "      <td>0</td>\n",
              "      <td>0</td>\n",
              "      <td>0</td>\n",
              "    </tr>\n",
              "    <tr>\n",
              "      <th>2913</th>\n",
              "      <td>#potus seals his legacy w/ 1/2 doz wins. the #...</td>\n",
              "      <td>0</td>\n",
              "      <td>26</td>\n",
              "      <td>162</td>\n",
              "      <td>6.230769</td>\n",
              "      <td>2</td>\n",
              "      <td>7</td>\n",
              "      <td>0</td>\n",
              "      <td>1</td>\n",
              "      <td>3</td>\n",
              "    </tr>\n",
              "  </tbody>\n",
              "</table>\n",
              "<p>2914 rows × 10 columns</p>\n",
              "</div>"
            ],
            "text/plain": [
              "                                                  Tweet  ...  uppercase_Count\n",
              "0     @tedcruz and, #handovertheserver she wiped cle...  ...                0\n",
              "1     hillary is our best choice if we truly want to...  ...                0\n",
              "2     @theview i think our country is ready for a fe...  ...                1\n",
              "3     i just gave an unhealthy amount of my hard-ear...  ...                2\n",
              "4     @portiaaboulger thank you for adding me to you...  ...                0\n",
              "...                                                 ...  ...              ...\n",
              "2909  there is a law protecting unborn eagles, but n...  ...                0\n",
              "2910  i am 1 in 3... i have had an abortion #abortio...  ...                2\n",
              "2911  how dare you say my sexual preference is a cho...  ...                0\n",
              "2912  equal rights for those 'born that way', no rig...  ...                0\n",
              "2913  #potus seals his legacy w/ 1/2 doz wins. the #...  ...                3\n",
              "\n",
              "[2914 rows x 10 columns]"
            ]
          },
          "metadata": {
            "tags": []
          },
          "execution_count": 30
        }
      ]
    },
    {
      "cell_type": "code",
      "metadata": {
        "id": "uoAsA24XdefR"
      },
      "source": [
        "## Count and remove emails from the tweet\n",
        "\n",
        "import re\n",
        "\n",
        "train_data['email'] = train_data['Tweet'].apply(lambda x: re.findall(r'([-a-zA-Z0-9._-]+@[-a-zA-Z0-9._-]+\\.[-a-zA-Z0-9_-]+)',x))\n"
      ],
      "execution_count": 31,
      "outputs": []
    },
    {
      "cell_type": "code",
      "metadata": {
        "id": "cBMpGYYmdeqa"
      },
      "source": [
        "# Counting the number of email present in the dataset \n",
        "\n",
        "train_data['email_count'] = train_data['email'].apply(lambda x: len(x))"
      ],
      "execution_count": 32,
      "outputs": []
    },
    {
      "cell_type": "code",
      "metadata": {
        "id": "aQdZleJJdetW",
        "outputId": "4dffc4a9-b530-4f47-b4b2-ef459d521de7",
        "colab": {
          "base_uri": "https://localhost:8080/",
          "height": 199
        }
      },
      "source": [
        "# Checking if the emails are greater that 1\n",
        "\n",
        "train_data[train_data['email_count']>0]"
      ],
      "execution_count": 33,
      "outputs": [
        {
          "output_type": "execute_result",
          "data": {
            "text/html": [
              "<div>\n",
              "<style scoped>\n",
              "    .dataframe tbody tr th:only-of-type {\n",
              "        vertical-align: middle;\n",
              "    }\n",
              "\n",
              "    .dataframe tbody tr th {\n",
              "        vertical-align: top;\n",
              "    }\n",
              "\n",
              "    .dataframe thead th {\n",
              "        text-align: right;\n",
              "    }\n",
              "</style>\n",
              "<table border=\"1\" class=\"dataframe\">\n",
              "  <thead>\n",
              "    <tr style=\"text-align: right;\">\n",
              "      <th></th>\n",
              "      <th>Tweet</th>\n",
              "      <th>Stance</th>\n",
              "      <th>Word_Count</th>\n",
              "      <th>Character_Count</th>\n",
              "      <th>Average_Word_length</th>\n",
              "      <th>Stop_words_count</th>\n",
              "      <th>HashTage_Count</th>\n",
              "      <th>Mention_Count</th>\n",
              "      <th>numeric_digit_Count</th>\n",
              "      <th>uppercase_Count</th>\n",
              "      <th>email</th>\n",
              "      <th>email_count</th>\n",
              "    </tr>\n",
              "  </thead>\n",
              "  <tbody>\n",
              "    <tr>\n",
              "      <th>676</th>\n",
              "      <td>(2/2) 300 words and be sent to climateconferen...</td>\n",
              "      <td>1</td>\n",
              "      <td>17</td>\n",
              "      <td>142</td>\n",
              "      <td>8.352941</td>\n",
              "      <td>5</td>\n",
              "      <td>3</td>\n",
              "      <td>0</td>\n",
              "      <td>1</td>\n",
              "      <td>0</td>\n",
              "      <td>[climateconference2015@gmail.com]</td>\n",
              "      <td>1</td>\n",
              "    </tr>\n",
              "    <tr>\n",
              "      <th>2691</th>\n",
              "      <td>worldwide r.e. agents! - support a prolife gro...</td>\n",
              "      <td>0</td>\n",
              "      <td>16</td>\n",
              "      <td>129</td>\n",
              "      <td>8.062500</td>\n",
              "      <td>3</td>\n",
              "      <td>1</td>\n",
              "      <td>0</td>\n",
              "      <td>0</td>\n",
              "      <td>2</td>\n",
              "      <td>[proliferealestate@yahoo.com]</td>\n",
              "      <td>1</td>\n",
              "    </tr>\n",
              "  </tbody>\n",
              "</table>\n",
              "</div>"
            ],
            "text/plain": [
              "                                                  Tweet  ...  email_count\n",
              "676   (2/2) 300 words and be sent to climateconferen...  ...            1\n",
              "2691  worldwide r.e. agents! - support a prolife gro...  ...            1\n",
              "\n",
              "[2 rows x 12 columns]"
            ]
          },
          "metadata": {
            "tags": []
          },
          "execution_count": 33
        }
      ]
    },
    {
      "cell_type": "code",
      "metadata": {
        "id": "HkWucl1mkJQ6"
      },
      "source": [
        "## Removing the emails from the Tweet column.\n",
        "\n",
        "train_data['Tweet'] = train_data['Tweet'].apply(lambda x: re.sub(r'([-a-zA-Z0-9._-]+@[-a-zA-Z0-9._-]+\\.[-a-zA-Z0-9_-]+)','',x))"
      ],
      "execution_count": 34,
      "outputs": []
    },
    {
      "cell_type": "code",
      "metadata": {
        "id": "dHfgsXtJlFbK"
      },
      "source": [
        "# Counting the url link in the tweet column\n",
        "\n",
        "train_data['url_count'] = train_data['Tweet'].apply(lambda x: len(re.findall(r'(http|ftp|https)://([\\w_-]+(?:(?:\\.[\\w_-]+)+))([\\w.,@?^=%&:/~+#-]*[\\w@?^=%&/~+#-])?',x)))"
      ],
      "execution_count": 35,
      "outputs": []
    },
    {
      "cell_type": "code",
      "metadata": {
        "id": "FWB25fEqlFft",
        "outputId": "f5cb4587-1ffe-4284-80eb-cdef85d816ce",
        "colab": {
          "base_uri": "https://localhost:8080/",
          "height": 69
        }
      },
      "source": [
        "# Checking the url in the dataset\n",
        "\n",
        "train_data[train_data['url_count']>0]"
      ],
      "execution_count": 36,
      "outputs": [
        {
          "output_type": "execute_result",
          "data": {
            "text/html": [
              "<div>\n",
              "<style scoped>\n",
              "    .dataframe tbody tr th:only-of-type {\n",
              "        vertical-align: middle;\n",
              "    }\n",
              "\n",
              "    .dataframe tbody tr th {\n",
              "        vertical-align: top;\n",
              "    }\n",
              "\n",
              "    .dataframe thead th {\n",
              "        text-align: right;\n",
              "    }\n",
              "</style>\n",
              "<table border=\"1\" class=\"dataframe\">\n",
              "  <thead>\n",
              "    <tr style=\"text-align: right;\">\n",
              "      <th></th>\n",
              "      <th>Tweet</th>\n",
              "      <th>Stance</th>\n",
              "      <th>Word_Count</th>\n",
              "      <th>Character_Count</th>\n",
              "      <th>Average_Word_length</th>\n",
              "      <th>Stop_words_count</th>\n",
              "      <th>HashTage_Count</th>\n",
              "      <th>Mention_Count</th>\n",
              "      <th>numeric_digit_Count</th>\n",
              "      <th>uppercase_Count</th>\n",
              "      <th>email</th>\n",
              "      <th>email_count</th>\n",
              "      <th>url_count</th>\n",
              "    </tr>\n",
              "  </thead>\n",
              "  <tbody>\n",
              "  </tbody>\n",
              "</table>\n",
              "</div>"
            ],
            "text/plain": [
              "Empty DataFrame\n",
              "Columns: [Tweet, Stance, Word_Count, Character_Count, Average_Word_length, Stop_words_count, HashTage_Count, Mention_Count, numeric_digit_Count, uppercase_Count, email, email_count, url_count]\n",
              "Index: []"
            ]
          },
          "metadata": {
            "tags": []
          },
          "execution_count": 36
        }
      ]
    },
    {
      "cell_type": "code",
      "metadata": {
        "id": "GpkHP-5GlFj6"
      },
      "source": [
        "### Removing the RT [RT -> Retweet]\n",
        "\n",
        "train_data['Tweet'] = train_data['Tweet'].apply(lambda x : re.sub('RT', \"\", x))"
      ],
      "execution_count": 37,
      "outputs": []
    },
    {
      "cell_type": "code",
      "metadata": {
        "id": "yx9ZB2ODlFmf",
        "outputId": "81a1cdab-642b-4c7e-ae31-634dee4169c6",
        "colab": {
          "base_uri": "https://localhost:8080/",
          "height": 221
        }
      },
      "source": [
        "train_data['Tweet']"
      ],
      "execution_count": 38,
      "outputs": [
        {
          "output_type": "execute_result",
          "data": {
            "text/plain": [
              "0       @tedcruz and, #handovertheserver she wiped cle...\n",
              "1       hillary is our best choice if we truly want to...\n",
              "2       @theview i think our country is ready for a fe...\n",
              "3       i just gave an unhealthy amount of my hard-ear...\n",
              "4       @portiaaboulger thank you for adding me to you...\n",
              "                              ...                        \n",
              "2909    there is a law protecting unborn eagles, but n...\n",
              "2910    i am 1 in 3... i have had an abortion #abortio...\n",
              "2911    how dare you say my sexual preference is a cho...\n",
              "2912    equal rights for those 'born that way', no rig...\n",
              "2913    #potus seals his legacy w/ 1/2 doz wins. the #...\n",
              "Name: Tweet, Length: 2914, dtype: object"
            ]
          },
          "metadata": {
            "tags": []
          },
          "execution_count": 38
        }
      ]
    },
    {
      "cell_type": "code",
      "metadata": {
        "id": "xEmb2BPElFiX"
      },
      "source": [
        "### Removing Special characters and punctuations\n",
        "\n",
        "train_data['Tweet'] = train_data['Tweet'].apply(lambda x: re.sub('[^A-Za-z0-9]+',' ',x))"
      ],
      "execution_count": 39,
      "outputs": []
    },
    {
      "cell_type": "code",
      "metadata": {
        "id": "pO6XU_iDoATn"
      },
      "source": [
        "### Remove the multiple(extra) spaces\n",
        "\n",
        "train_data['Tweet'] = train_data['Tweet'].apply(lambda x: \" \".join(x.split()))"
      ],
      "execution_count": 40,
      "outputs": []
    },
    {
      "cell_type": "code",
      "metadata": {
        "id": "zDYOicDIoAWN"
      },
      "source": [
        "### Remove the HTML tags [e.g. <h1> hello <h1>]\n",
        "\n",
        "from bs4 import BeautifulSoup\n",
        "\n",
        "train_data['Tweet'] = train_data['Tweet'].apply(lambda x: BeautifulSoup(x, 'lxml').get_text())"
      ],
      "execution_count": 41,
      "outputs": []
    },
    {
      "cell_type": "code",
      "metadata": {
        "id": "6909zGdSqj4Y"
      },
      "source": [
        "### Remove the Accented characters (e.g. àÿüûâ)\n",
        "import unicodedata\n",
        "\n",
        "def remove_accent(x):\n",
        "  x = unicodedata.normalize('NFKD', x).encode('ascii','ignore').decode('utf-8','ignore')\n",
        "  return x\n",
        "\n",
        "## Applying on tweets\n",
        "train_data['Tweet'] = train_data['Tweet'].apply(lambda x: remove_accent(x)) "
      ],
      "execution_count": 42,
      "outputs": []
    },
    {
      "cell_type": "code",
      "metadata": {
        "id": "HyLDbfh8oAbz"
      },
      "source": [
        "### Removing the stop words\n",
        "\n",
        "train_data['Tweet'] = train_data['Tweet'].apply(lambda x: \" \".join([t for t in x.split() if t not in STOP_WORDS]))"
      ],
      "execution_count": 43,
      "outputs": []
    },
    {
      "cell_type": "code",
      "metadata": {
        "id": "tcIFdzm5oAjU",
        "outputId": "a2ad501d-d03c-47d1-87c0-c3317f291941",
        "colab": {
          "base_uri": "https://localhost:8080/",
          "height": 221
        }
      },
      "source": [
        " ## Removed the stop words\n",
        " \n",
        " train_data['Tweet']"
      ],
      "execution_count": 44,
      "outputs": [
        {
          "output_type": "execute_result",
          "data": {
            "text/plain": [
              "0       tedcruz handovertheserver wiped clean 30k dele...\n",
              "1       hillary best choice truly want continue progre...\n",
              "2       theview think country ready female pres hillar...\n",
              "3       gave unhealthy hard earned money away big gov ...\n",
              "4        portiaaboulger thank adding list hillary clinton\n",
              "                              ...                        \n",
              "2909    law protecting unborn eagles humans uh idk not...\n",
              "2910    1 3 abortion abortionondemand menstruationmatt...\n",
              "2911    dare sexual preference choice dare dismemberin...\n",
              "2912    equal rights born way rights born liberallogic...\n",
              "2913    potus seals legacy w 1 2 doz wins gop agenda r...\n",
              "Name: Tweet, Length: 2914, dtype: object"
            ]
          },
          "metadata": {
            "tags": []
          },
          "execution_count": 44
        }
      ]
    },
    {
      "cell_type": "code",
      "metadata": {
        "id": "n3XTMeURtahl",
        "outputId": "7fa29cbb-445d-4e07-856b-c401220950d7",
        "colab": {
          "base_uri": "https://localhost:8080/",
          "height": 51
        }
      },
      "source": [
        "## Converting words into its Root/Base form (Lemmatization)\n",
        "\n",
        "import nltk\n",
        "nltk.download('wordnet')\n",
        "w_tokenizer = nltk.tokenize.WhitespaceTokenizer()\n",
        "lemmatizer = nltk.stem.WordNetLemmatizer()\n",
        "\n",
        "def lemmatize_text(text):\n",
        "    return [lemmatizer.lemmatize(w) for w in w_tokenizer.tokenize(text)]\n",
        "\n",
        "train_data['Tweet'] = train_data.Tweet.apply(lemmatize_text)"
      ],
      "execution_count": 45,
      "outputs": [
        {
          "output_type": "stream",
          "text": [
            "[nltk_data] Downloading package wordnet to /root/nltk_data...\n",
            "[nltk_data]   Package wordnet is already up-to-date!\n"
          ],
          "name": "stdout"
        }
      ]
    },
    {
      "cell_type": "code",
      "metadata": {
        "id": "IADegz2_tath",
        "outputId": "4689cf3c-12ce-4a83-c1eb-321c131dab4f",
        "colab": {
          "base_uri": "https://localhost:8080/",
          "height": 221
        }
      },
      "source": [
        "train_data['Tweet']"
      ],
      "execution_count": 46,
      "outputs": [
        {
          "output_type": "execute_result",
          "data": {
            "text/plain": [
              "0       [tedcruz, handovertheserver, wiped, clean, 30k...\n",
              "1       [hillary, best, choice, truly, want, continue,...\n",
              "2       [theview, think, country, ready, female, pres,...\n",
              "3       [gave, unhealthy, hard, earned, money, away, b...\n",
              "4       [portiaaboulger, thank, adding, list, hillary,...\n",
              "                              ...                        \n",
              "2909    [law, protecting, unborn, eagle, human, uh, id...\n",
              "2910    [1, 3, abortion, abortionondemand, menstruatio...\n",
              "2911    [dare, sexual, preference, choice, dare, disme...\n",
              "2912    [equal, right, born, way, right, born, liberal...\n",
              "2913    [potus, seal, legacy, w, 1, 2, doz, win, gop, ...\n",
              "Name: Tweet, Length: 2914, dtype: object"
            ]
          },
          "metadata": {
            "tags": []
          },
          "execution_count": 46
        }
      ]
    },
    {
      "cell_type": "code",
      "metadata": {
        "id": "C-tnPcHEtawm"
      },
      "source": [
        "## convert the list to string\n",
        "\n",
        "train_data['Tweet'] = train_data.Tweet.apply(' '.join)"
      ],
      "execution_count": 47,
      "outputs": []
    },
    {
      "cell_type": "code",
      "metadata": {
        "id": "ZWzflIFmtarj",
        "outputId": "1c9f0ea0-e74e-4b07-f845-8ee7bbdee385",
        "colab": {
          "base_uri": "https://localhost:8080/",
          "height": 221
        }
      },
      "source": [
        "train_data['Tweet']"
      ],
      "execution_count": 274,
      "outputs": [
        {
          "output_type": "execute_result",
          "data": {
            "text/plain": [
              "0       tedcruz handovertheserver wiped clean 30k dele...\n",
              "1       hillary best choice truly want continue progre...\n",
              "2       theview think country ready female pres hillar...\n",
              "3       gave unhealthy hard earned money away big gov ...\n",
              "4        portiaaboulger thank adding list hillary clinton\n",
              "                              ...                        \n",
              "2909    law protecting unborn eagle human uh idk notic...\n",
              "2910    1 3 abortion abortionondemand menstruationmatt...\n",
              "2911    dare sexual preference choice dare dismemberin...\n",
              "2912    equal right born way right born liberallogic l...\n",
              "2913    potus seal legacy w 1 2 doz win gop agenda rep...\n",
              "Name: Tweet, Length: 2914, dtype: object"
            ]
          },
          "metadata": {
            "tags": []
          },
          "execution_count": 274
        }
      ]
    },
    {
      "cell_type": "code",
      "metadata": {
        "id": "0alA-PJFtanc"
      },
      "source": [
        "### Common word removal. [[DOUBT]] Do we need to remove this frequently(top 20 ) occuring words\n",
        "\n",
        "text = \" \".join(train_data['Tweet'])\n",
        "text = text.split()\n",
        "freq_com = pd.Series(text).value_counts()"
      ],
      "execution_count": 48,
      "outputs": []
    },
    {
      "cell_type": "code",
      "metadata": {
        "id": "eTjkcdfjoAeu"
      },
      "source": [
        "### Common word removal. [[DOUBT]] Do we need to remove this frequently occuring words\n",
        "\n",
        "top_f_20 = freq_com[:20]\n",
        "\n",
        "rare_f_20 = freq_com[-20:]"
      ],
      "execution_count": 49,
      "outputs": []
    },
    {
      "cell_type": "code",
      "metadata": {
        "id": "jL4E-wJxBwy2",
        "outputId": "c9c7f397-9d13-4816-ac48-6e1f80e5e05a",
        "colab": {
          "base_uri": "https://localhost:8080/",
          "height": 374
        }
      },
      "source": [
        "rare_f_20"
      ],
      "execution_count": 280,
      "outputs": [
        {
          "output_type": "execute_result",
          "data": {
            "text/plain": [
              "antibibles           1\n",
              "dnt                  1\n",
              "doodisgirl           1\n",
              "togodbetheglory      1\n",
              "popupincubator       1\n",
              "scenario             1\n",
              "sunscreen            1\n",
              "lordoflords          1\n",
              "estab                1\n",
              "rodeo                1\n",
              "ndnstyl              1\n",
              "egregious            1\n",
              "tasty                1\n",
              "accountable          1\n",
              "inspiredbyhillary    1\n",
              "commodity            1\n",
              "circumstance         1\n",
              "inching              1\n",
              "basing               1\n",
              "ancient              1\n",
              "dtype: int64"
            ]
          },
          "metadata": {
            "tags": []
          },
          "execution_count": 280
        }
      ]
    },
    {
      "cell_type": "code",
      "metadata": {
        "id": "RSVUpSHhA40y"
      },
      "source": [
        "### Common word removal. [[DOUBT]] Do we need to remove this frequently occuring words\n",
        "\n",
        "#### train_data['Tweet'] = train_data['Tweet'].apply(lambda x: \" \".join([t for t in x.split() if t not in top_f_20]))"
      ],
      "execution_count": null,
      "outputs": []
    },
    {
      "cell_type": "code",
      "metadata": {
        "id": "0rBVxjIhA455"
      },
      "source": [
        "## Removing least frequently occuring words [[DOUBT]] Do we need to remove this less frequently occuring words\n",
        "\n",
        "#### train_data['Tweet'] = train_data['Tweet'].apply(lambda x: \" \".join([t for t in x.split() if t not in rare_f_20 ]))"
      ],
      "execution_count": null,
      "outputs": []
    },
    {
      "cell_type": "code",
      "metadata": {
        "id": "-3vcwuQqA5B0",
        "outputId": "83c105e7-745e-4413-d4bd-f2dcf7108dc0",
        "colab": {
          "base_uri": "https://localhost:8080/",
          "height": 221
        }
      },
      "source": [
        "## checking displaying rarely occuring words for whole dataset\n",
        "\n",
        "freq_com[freq_com == 1]"
      ],
      "execution_count": 50,
      "outputs": [
        {
          "output_type": "execute_result",
          "data": {
            "text/plain": [
              "chels              1\n",
              "ecstatic           1\n",
              "formidable         1\n",
              "profeminist        1\n",
              "oppose             1\n",
              "                  ..\n",
              "cocaine            1\n",
              "autobailout        1\n",
              "thegoodgodabove    1\n",
              "agonist            1\n",
              "blackkids          1\n",
              "Length: 5390, dtype: int64"
            ]
          },
          "metadata": {
            "tags": []
          },
          "execution_count": 50
        }
      ]
    },
    {
      "cell_type": "code",
      "metadata": {
        "id": "Bdxnc5g9A5Gk",
        "outputId": "7b29ece5-d884-4ac4-b92a-b206af3f0b77",
        "colab": {
          "base_uri": "https://localhost:8080/",
          "height": 68
        }
      },
      "source": [
        "!pip install wordcloud"
      ],
      "execution_count": 282,
      "outputs": [
        {
          "output_type": "stream",
          "text": [
            "Requirement already satisfied: wordcloud in /usr/local/lib/python3.6/dist-packages (1.5.0)\n",
            "Requirement already satisfied: pillow in /usr/local/lib/python3.6/dist-packages (from wordcloud) (7.0.0)\n",
            "Requirement already satisfied: numpy>=1.6.1 in /usr/local/lib/python3.6/dist-packages (from wordcloud) (1.18.5)\n"
          ],
          "name": "stdout"
        }
      ]
    },
    {
      "cell_type": "code",
      "metadata": {
        "id": "RSFOXcYYA5Lw"
      },
      "source": [
        "from wordcloud import WordCloud\n",
        "import matplotlib.pyplot as plt\n",
        "%matplotlib inline"
      ],
      "execution_count": 51,
      "outputs": []
    },
    {
      "cell_type": "code",
      "metadata": {
        "id": "_hYaVaTiDnrh"
      },
      "source": [
        "words = ''.join(text[:3000])"
      ],
      "execution_count": 52,
      "outputs": []
    },
    {
      "cell_type": "code",
      "metadata": {
        "id": "rbKPcVL2A5JR"
      },
      "source": [
        "### Code to show the images using wordcloud.\n",
        "\n",
        "# wordcloud = WordCloud(width=100, height=400).generate(words)\n",
        "# plt.imshow(words)\n",
        "# plt.axis('off')\n",
        "# plt.show()"
      ],
      "execution_count": 54,
      "outputs": []
    },
    {
      "cell_type": "code",
      "metadata": {
        "id": "4OBHW0VtA5AP",
        "outputId": "912a2b4e-00b0-45c7-c992-1daedbba22ad",
        "colab": {
          "base_uri": "https://localhost:8080/",
          "height": 255
        }
      },
      "source": [
        "####  installing packages and corpus for spelling correction\n",
        "\n",
        "#!pip install -U textblob\n",
        "#!python -m textblob.download_corpora"
      ],
      "execution_count": 56,
      "outputs": [
        {
          "output_type": "stream",
          "text": [
            "[nltk_data] Downloading package brown to /root/nltk_data...\n",
            "[nltk_data]   Unzipping corpora/brown.zip.\n",
            "[nltk_data] Downloading package punkt to /root/nltk_data...\n",
            "[nltk_data]   Unzipping tokenizers/punkt.zip.\n",
            "[nltk_data] Downloading package wordnet to /root/nltk_data...\n",
            "[nltk_data]   Package wordnet is already up-to-date!\n",
            "[nltk_data] Downloading package averaged_perceptron_tagger to\n",
            "[nltk_data]     /root/nltk_data...\n",
            "[nltk_data]   Unzipping taggers/averaged_perceptron_tagger.zip.\n",
            "[nltk_data] Downloading package conll2000 to /root/nltk_data...\n",
            "[nltk_data]   Unzipping corpora/conll2000.zip.\n",
            "[nltk_data] Downloading package movie_reviews to /root/nltk_data...\n",
            "[nltk_data]   Unzipping corpora/movie_reviews.zip.\n",
            "Finished.\n"
          ],
          "name": "stdout"
        }
      ]
    },
    {
      "cell_type": "code",
      "metadata": {
        "id": "VPoekBlSGEuJ"
      },
      "source": [
        "### Spelling Correction\n",
        "\n",
        "from textblob import TextBlob\n",
        " \n",
        "train_data['Tweet'] = train_data['Tweet'].apply(lambda x: TextBlob(x).correct()))"
      ],
      "execution_count": null,
      "outputs": []
    },
    {
      "cell_type": "code",
      "metadata": {
        "id": "vTR0tLRhIEus"
      },
      "source": [
        "### Lemmatization using spacy\n",
        "\n",
        "# def tok_lemma(x):\n",
        "#   doc = nlp()\n",
        "#   for token in doc:\n",
        "#     token.lemma_"
      ],
      "execution_count": null,
      "outputs": []
    },
    {
      "cell_type": "code",
      "metadata": {
        "id": "KdKD3TvuGEzh"
      },
      "source": [
        "### Lemmatization using Spacy\n",
        "# train_data['Tweet'] = train_data['Tweet'].apply(lambda x: tok_lemma(x)) "
      ],
      "execution_count": null,
      "outputs": []
    },
    {
      "cell_type": "code",
      "metadata": {
        "id": "q30okaQUGE6w",
        "outputId": "3054e900-763e-4c33-f20f-d3657ca9452c",
        "colab": {
          "base_uri": "https://localhost:8080/",
          "height": 847
        }
      },
      "source": [
        "train_data"
      ],
      "execution_count": 57,
      "outputs": [
        {
          "output_type": "execute_result",
          "data": {
            "text/html": [
              "<div>\n",
              "<style scoped>\n",
              "    .dataframe tbody tr th:only-of-type {\n",
              "        vertical-align: middle;\n",
              "    }\n",
              "\n",
              "    .dataframe tbody tr th {\n",
              "        vertical-align: top;\n",
              "    }\n",
              "\n",
              "    .dataframe thead th {\n",
              "        text-align: right;\n",
              "    }\n",
              "</style>\n",
              "<table border=\"1\" class=\"dataframe\">\n",
              "  <thead>\n",
              "    <tr style=\"text-align: right;\">\n",
              "      <th></th>\n",
              "      <th>Tweet</th>\n",
              "      <th>Stance</th>\n",
              "      <th>Word_Count</th>\n",
              "      <th>Character_Count</th>\n",
              "      <th>Average_Word_length</th>\n",
              "      <th>Stop_words_count</th>\n",
              "      <th>HashTage_Count</th>\n",
              "      <th>Mention_Count</th>\n",
              "      <th>numeric_digit_Count</th>\n",
              "      <th>uppercase_Count</th>\n",
              "      <th>email</th>\n",
              "      <th>email_count</th>\n",
              "      <th>url_count</th>\n",
              "    </tr>\n",
              "  </thead>\n",
              "  <tbody>\n",
              "    <tr>\n",
              "      <th>0</th>\n",
              "      <td>tedcruz handovertheserver wiped clean 30k dele...</td>\n",
              "      <td>0</td>\n",
              "      <td>19</td>\n",
              "      <td>143</td>\n",
              "      <td>7.526316</td>\n",
              "      <td>3</td>\n",
              "      <td>3</td>\n",
              "      <td>1</td>\n",
              "      <td>0</td>\n",
              "      <td>0</td>\n",
              "      <td>[]</td>\n",
              "      <td>0</td>\n",
              "      <td>0</td>\n",
              "    </tr>\n",
              "    <tr>\n",
              "      <th>1</th>\n",
              "      <td>hillary best choice truly want continue progre...</td>\n",
              "      <td>1</td>\n",
              "      <td>18</td>\n",
              "      <td>105</td>\n",
              "      <td>5.833333</td>\n",
              "      <td>7</td>\n",
              "      <td>1</td>\n",
              "      <td>0</td>\n",
              "      <td>0</td>\n",
              "      <td>0</td>\n",
              "      <td>[]</td>\n",
              "      <td>0</td>\n",
              "      <td>0</td>\n",
              "    </tr>\n",
              "    <tr>\n",
              "      <th>2</th>\n",
              "      <td>theview think country ready female pres hillar...</td>\n",
              "      <td>0</td>\n",
              "      <td>18</td>\n",
              "      <td>97</td>\n",
              "      <td>5.388889</td>\n",
              "      <td>7</td>\n",
              "      <td>0</td>\n",
              "      <td>1</td>\n",
              "      <td>0</td>\n",
              "      <td>1</td>\n",
              "      <td>[]</td>\n",
              "      <td>0</td>\n",
              "      <td>0</td>\n",
              "    </tr>\n",
              "    <tr>\n",
              "      <th>3</th>\n",
              "      <td>gave unhealthy hard earned money away big gov ...</td>\n",
              "      <td>0</td>\n",
              "      <td>21</td>\n",
              "      <td>140</td>\n",
              "      <td>6.666667</td>\n",
              "      <td>7</td>\n",
              "      <td>1</td>\n",
              "      <td>0</td>\n",
              "      <td>0</td>\n",
              "      <td>2</td>\n",
              "      <td>[]</td>\n",
              "      <td>0</td>\n",
              "      <td>0</td>\n",
              "    </tr>\n",
              "    <tr>\n",
              "      <th>4</th>\n",
              "      <td>portiaaboulger thank adding list hillary clinton</td>\n",
              "      <td>2</td>\n",
              "      <td>11</td>\n",
              "      <td>68</td>\n",
              "      <td>6.181818</td>\n",
              "      <td>5</td>\n",
              "      <td>0</td>\n",
              "      <td>1</td>\n",
              "      <td>0</td>\n",
              "      <td>0</td>\n",
              "      <td>[]</td>\n",
              "      <td>0</td>\n",
              "      <td>0</td>\n",
              "    </tr>\n",
              "    <tr>\n",
              "      <th>...</th>\n",
              "      <td>...</td>\n",
              "      <td>...</td>\n",
              "      <td>...</td>\n",
              "      <td>...</td>\n",
              "      <td>...</td>\n",
              "      <td>...</td>\n",
              "      <td>...</td>\n",
              "      <td>...</td>\n",
              "      <td>...</td>\n",
              "      <td>...</td>\n",
              "      <td>...</td>\n",
              "      <td>...</td>\n",
              "      <td>...</td>\n",
              "    </tr>\n",
              "    <tr>\n",
              "      <th>2909</th>\n",
              "      <td>law protecting unborn eagle human uh idk notic...</td>\n",
              "      <td>0</td>\n",
              "      <td>25</td>\n",
              "      <td>156</td>\n",
              "      <td>6.240000</td>\n",
              "      <td>7</td>\n",
              "      <td>1</td>\n",
              "      <td>0</td>\n",
              "      <td>1</td>\n",
              "      <td>0</td>\n",
              "      <td>[]</td>\n",
              "      <td>0</td>\n",
              "      <td>0</td>\n",
              "    </tr>\n",
              "    <tr>\n",
              "      <th>2910</th>\n",
              "      <td>1 3 abortion abortionondemand menstruationmatt...</td>\n",
              "      <td>0</td>\n",
              "      <td>16</td>\n",
              "      <td>108</td>\n",
              "      <td>6.750000</td>\n",
              "      <td>6</td>\n",
              "      <td>3</td>\n",
              "      <td>0</td>\n",
              "      <td>1</td>\n",
              "      <td>2</td>\n",
              "      <td>[]</td>\n",
              "      <td>0</td>\n",
              "      <td>0</td>\n",
              "    </tr>\n",
              "    <tr>\n",
              "      <th>2911</th>\n",
              "      <td>dare sexual preference choice dare dismemberin...</td>\n",
              "      <td>0</td>\n",
              "      <td>23</td>\n",
              "      <td>142</td>\n",
              "      <td>6.173913</td>\n",
              "      <td>10</td>\n",
              "      <td>2</td>\n",
              "      <td>0</td>\n",
              "      <td>0</td>\n",
              "      <td>0</td>\n",
              "      <td>[]</td>\n",
              "      <td>0</td>\n",
              "      <td>0</td>\n",
              "    </tr>\n",
              "    <tr>\n",
              "      <th>2912</th>\n",
              "      <td>equal right born way right born liberallogic l...</td>\n",
              "      <td>0</td>\n",
              "      <td>21</td>\n",
              "      <td>137</td>\n",
              "      <td>6.523810</td>\n",
              "      <td>9</td>\n",
              "      <td>4</td>\n",
              "      <td>0</td>\n",
              "      <td>0</td>\n",
              "      <td>0</td>\n",
              "      <td>[]</td>\n",
              "      <td>0</td>\n",
              "      <td>0</td>\n",
              "    </tr>\n",
              "    <tr>\n",
              "      <th>2913</th>\n",
              "      <td>potus seal legacy w 1 2 doz win gop agenda rep...</td>\n",
              "      <td>0</td>\n",
              "      <td>26</td>\n",
              "      <td>162</td>\n",
              "      <td>6.230769</td>\n",
              "      <td>2</td>\n",
              "      <td>7</td>\n",
              "      <td>0</td>\n",
              "      <td>1</td>\n",
              "      <td>3</td>\n",
              "      <td>[]</td>\n",
              "      <td>0</td>\n",
              "      <td>0</td>\n",
              "    </tr>\n",
              "  </tbody>\n",
              "</table>\n",
              "<p>2914 rows × 13 columns</p>\n",
              "</div>"
            ],
            "text/plain": [
              "                                                  Tweet  ...  url_count\n",
              "0     tedcruz handovertheserver wiped clean 30k dele...  ...          0\n",
              "1     hillary best choice truly want continue progre...  ...          0\n",
              "2     theview think country ready female pres hillar...  ...          0\n",
              "3     gave unhealthy hard earned money away big gov ...  ...          0\n",
              "4      portiaaboulger thank adding list hillary clinton  ...          0\n",
              "...                                                 ...  ...        ...\n",
              "2909  law protecting unborn eagle human uh idk notic...  ...          0\n",
              "2910  1 3 abortion abortionondemand menstruationmatt...  ...          0\n",
              "2911  dare sexual preference choice dare dismemberin...  ...          0\n",
              "2912  equal right born way right born liberallogic l...  ...          0\n",
              "2913  potus seal legacy w 1 2 doz win gop agenda rep...  ...          0\n",
              "\n",
              "[2914 rows x 13 columns]"
            ]
          },
          "metadata": {
            "tags": []
          },
          "execution_count": 57
        }
      ]
    },
    {
      "cell_type": "code",
      "metadata": {
        "id": "EUh9huRCGFBh"
      },
      "source": [
        "# Dividing the dataset into train and test set\n",
        "\n",
        "X = train_data['Tweet']"
      ],
      "execution_count": 59,
      "outputs": []
    },
    {
      "cell_type": "code",
      "metadata": {
        "id": "egj8x3_eOT3t"
      },
      "source": [
        "### Preprocessed words\n",
        "\n",
        "preprocessed_words = []\n",
        "for i in X:\n",
        "  preprocessed_words.append(i)"
      ],
      "execution_count": 66,
      "outputs": []
    },
    {
      "cell_type": "code",
      "metadata": {
        "id": "ZCHGVxNDOiUg",
        "outputId": "bd792ccc-3bef-4f23-8f49-9095f42627a8",
        "colab": {
          "base_uri": "https://localhost:8080/",
          "height": 54
        }
      },
      "source": [
        "print(preprocessed_words)"
      ],
      "execution_count": 67,
      "outputs": [
        {
          "output_type": "stream",
          "text": [
            "['tedcruz handovertheserver wiped clean 30k deleted email explains dereliction duty lie benghazi etc tcot hillary clinton', 'hillary best choice truly want continue progressive nation ohio hillary clinton', 'theview think country ready female pres hillary hillary clinton', 'gave unhealthy hard earned money away big gov t untrustworthy irs whyimnotvotingforhillary hillary clinton', 'portiaaboulger thank adding list hillary clinton', 'hillary win s hoping dems offer real candidate like warren warren2016 hillary clinton', 'respect law respect law yes needed desperately baltimoreriots hillary clinton', 'want appointed ambassador post hillary clinton', 'stophillary2016 hillaryclinton woman integrity honesty vote woman president hillary clinton', 'hillaryclinton end lawless clintonfoundation jail butcher benghazi arrest rapist billclinton hillaryclinton hillary clinton', 'use brain hillary white house clinton2016 hillary clinton', 'hillaryclinton hillary pandering logo clintonfoundationscandal clintoncash hillary clinton', 'readyforhrc hillaryclinton hillaryclinton presidency testament success woman role world hillary clinton', 'ciaraantaya cuz know feminist hillary clinton', '2 million bogus follower twitter hillaryclinton whyimnotvotingforhillary hillary clinton', 'lindasuhler rebecca grandmother immigrated sunnybrook farm twitchyteam hillary clinton', 'campaign store real question ready buy hillary gear hillary clinton', 'miracle suddenly democrat mind having voted war hillary clinton', 'smileitsalicia greekgummybear2 live peace hillary clinton', 'hillary want prison anymore obviously worried future hillary clinton', 'way support hillary elizabeth warren ran karl marx running 2016 clinton2016 hillary clinton', 'homeofunclesam scotsfyre rwnutjob1 sa hartdegen old understand internet fact checked hillary clinton', 'bebecause communist breadline thing nohillary whyimnotvotingforhillary hillary clinton', 'hillaryclinton bad wife bad role model woman bad lawyer bad lady bad senator horrible secretary state hillary clinton', 'hillary touch end scam lie cover failure william l want president hillary clinton', 'yes hrc subject 2 dbl standard smh come billclinton hillaryclintonyouknew clintonfdn donation b scrutinized spun hillary clinton', 'hillary stop pizza today garner italian vote msm worthless libertynothillary hillno hillary clinton', 'want america great whyimnotvotingforhillary hillary clinton', 'march 8 2016 ohio holding primary date subject change ohio ourchampion hillary clinton', 'rightzone wethepeoplepets let hope voter remember hillno hillary clinton', 'hillary clinton driven car 1996 clintonfakerealityshow hillary clinton', 'naughtybeyotch therealmadman23 care fiorina taking sexist gut punch medium msm hillary clinton', 'foxnews marthamaccallum billhemmer opportunist nohillary2016 hillary clinton', 'hillaryclinton womenintheworld need establish global system dominated love affection moral humane rt hillary clinton', 'hillary transparent brick wall libertynothillary hillary clinton', 'wsj clinton foundation accepting bribe foreign government whyimnotvotingforhillary hillary clinton', 'josephbenning agree better like severe cold better pneumonia good luck hillary clinton', 'afraid hillaryclinton answer question press want potus hillary clinton', 'sorry hillary s new normal folk image away behgnazi 0 foreign policy success secretary state hillary clinton', 'ceo pay target 2016 election make ceo s drank kool aid hillary clinton', 'nbcnews including repealing amendment way hillary clinton', 'nbcnews stop promoting hillaryclinton liar like impeached husband wakeupamerica hillary clinton', 'let country who democrat 2016 hillary clinton', 'rt anthonycumia hillary elected transition team smoothly racist sexist hillary clinton', 'thatchampion got kicked watergate team misconduct tcot hillary clinton', 'hillaryclinton droid s programmed thing think work win hillary clinton', 'jvollmer08 hillaryforia freedom justice equality education innovation development happy life utopia hillary clinton', 'probably perfect think great beginning conversation hillary clinton', 'edge seat start volunteering hillaryclinton s presidential campaign excited cantwait hillary clinton', 'rt futuretxleader elpaso texas ready president marcorubio utep newamericancentury 2016 future rub hillary clinton', 'laid law abortion bioethics class catholic legalization abortion', 'tooprettyclub ok gop male telling body legalization abortion', 'want kid adoption sorrynotsorry legalization abortion', 'redalert stigma butchering pre born child horrendous crime humanity murder legalization abortion', 'problem faith gaystapo socialism legalization abortion', 'life basic human right legalization abortion', 'rise shine new day alive thank god 4 day precious life christian catholic teamjesus legalization abortion', 'lmao school think giving woman right abortion feminism know feminism wtf legalization abortion', 'asasoltan putting abortion choice woman won heart yaaaaaas shah legalization abortion', 'meeting year tonight 7 00 pm case hall room 334a come come pizza pop provided legalization abortion', 'fact 17 today s population equivalent resident new york florida pennsylvania outrage legalization abortion', 'god listening look radar today prayfornepal legalization abortion', 'believe power pray nepal baltimore isi kenya genderchange injustice slavery racism middleeast legalization abortion', 'planned parenthood line pocket sacrificing woman child need altar abortion legalization abortion', 'progressive try resolve problem eliminating human life popefrancis legalization abortion', 'rt thekeyisprayer law right wrong abraham lincoln legalization abortion', 'live world people care religious right consent reproductive right legalization abortion', 'remind love mean willing hurt mother teresa legalization abortion', 'life beautiful choice adoption abortion legalization abortion', 'teacher today basically said embroyo s skin blood abortion fine smartlady legalization abortion', 'showtruth keeping pregnant people safe great reason abortion legalization abortion', 'rosaryrevival praytherosary lest forget prayforpersecutedchurch prayforisrael prayforukraine legalization abortion', 'cogar refcom ie question d ballott ireland s dail stuck help drugswar landwar etc tank legalization abortion', 'yep rt defunding pp mean fewer abortion mean dead woman prochoice 1in3 legalization abortion', 'mrprolife force woman risk health sanity life continue doomed pregnancy legalization abortion', 'want child completely person carrying pregnancy legalization abortion', 'agree gay marriage agree pro life adopt baby aborted legalization abortion', 'manila tv monday pacquiao appeal indonesiapresident execute maryjaneveloso deathrow drugtrafficking christian legalization abortion', 'far sorry legalization abortion', 'watched aftertiller gave new perspective woman s right choose womensrights legalization abortion', 'explicit0ceans want people kid esp prepared make sense legalization abortion', 'true progressive work greater inclusion protection marginalized standing unborn progressive legalization abortion', 'mt prolifepolitics senate vote sc pain capable unborn child protection act come early wed contact senator legalization abortion', 'equal pay equal work yes freedom fear rape sexual objectification yes right abort legalization abortion', 'explicit0ceans whoa whoa whoa care having sex pregnant life involved legalization abortion', 'today grateful right control body govt influence antichoice leader want stop abvote legalization abortion', 'sadly health insurance plan cover abortion price high legalization abortion', 'britt ghiroli mboyle1 mayor baltimore said rioter rioter blacklivesmatter except2democrats sanger legalization abortion', 'fun having younger friend expecting baby beentheredonethat chooselife legalization abortion', 'illegal kill unhatched eagle egg legal kill unborn human baby isright legalization abortion', 'refuse let people like shame insult woman accessing healthcare sorry legalization abortion', 'pro life pro birth baby support makesnosense prowomen legalization abortion', 'u know funny male politician deciding woman body s legalization abortion', 'born 4 month premature perfectly fine killing baby legal country legalization abortion', 'kill claim mistake true jail killing spouse legalization abortion', 'corey frizzell peiliberalparty islander different definition timely access irony peipoli peivotes legalization abortion', 'docjp pressure job failing miserably keeping promise gop pjnet amnesty obamacare legalization abortion', 'love liberal accuse conservative war woman want fund legalization abortion', 'help friend figure going stay need spend night legalization abortion', 'jimddaniels1 plenty reason christian support hillary mind stand w dems legalization abortion', 'dear lord thankyoufor ur blessing forgive sin lord strength energy busy day ahead blessed hope semst atheism', 'blessed peacemaker shall called child god matthew 5 9 scripture peace semst atheism', 'conformed world transformed renewing mind ispeaklife god 2014 semst atheism', 'salah prayed focus understanding allah warns lazy prayer surah al maoon 107 4 6 semst atheism', 'stay house display like time ignorance quran 33 33 islam semst atheism', 'unsure halal haram leave safeguard deen rule semst atheism', 'papa god pray shower patience worththewait semst atheism', 'scoc ruled canadian freedom religion tell harper dummy god bless canada cdnpoli semst atheism', 'wow unsubstantiated claim spook remember whe said gullible people jvx242 semst atheism', 'rt kind modesty arrogant christopher hitchens 2 2 funny semst atheism', 'able believe want freedom semst atheism', 'best best treat woman best people woman prophet mohammad pbuh islam semst atheism', 'rt prayerbullets let righteousness peace joy kingdom established life rom 14 17 semst atheism', 'stop hold peace allow powerful god time fight battle win believe truth hope butgod semst atheism', 'faith see invisible belief incredible receives impossible god semst atheism', 'prophet muhammad said exchange gift increase love islam world quran semst atheism', 'ax2n38 halcyondon tag65 good luck separationofchurchandstate ting gwg gfyh semst atheism', 'celebrity atheism beginning irk initforthemoney semst atheism', 'leaving christianity enables love people rejected freethinker christianity semst atheism', 'clear thought look sky looking god islam semst atheism', 'heaven earth connected entity separated havemade water living thing quran 21 30 semst atheism', 'believe god leave meeting continue grown ups semst atheism', 'pop throw towel second half semst atheism', 'devil enemy mind battleground play josh ricketson rush rushswag semst atheism', 'odds stacked favor believe lord savior semst atheism', 'come scientific discovery religious bullshit text knew semst atheism', 'look envy look god focus calling dream kingdom sized dream focus semst atheism', 'purpose life wealthy purpose wealthy islam semst atheism', 'feel need god love desire god truth love semst atheism', 'making definite mark stop think semst atheism', '6 holy mary mother god pray sinner hour death amen rosary teamjesus god semst atheism', '9 holy mary mother god pray sinner hour death amen rosary teamjesus god semst atheism', 'natural stop god getting ready release supernatual semst atheism', 'religion stopped credible minute dinosaur fossil found semst atheism', 'faithreei love kind dog carry baby home dump photo hero semst atheism', 'absence god accident arrangement molecule bible semst atheism', 'better ball semst atheism', 'save people lord bless shepherd care forever psalm 28 9 gnt semst atheism', 'life question islam answe islam allah quran semst atheism', 'rt jeremysumpter thank lord beautiful sunday truly blessed blessed church jeremysumpter love happines semst atheism', 'remove bitterness heart lord amen semst atheism', 'god protecting thing way want trust wisdom semst atheism', 'faith perseverance hardwork separate dreamer achiever godfirst actorslife dancer letswork vision work semst atheism', 'god comprehensive selective ask 1 thing lovemyjesus holycrapthatsgoodnews semst atheism', 'love show mercy matter darkness semst atheism', 'answering question today reddit r atheism askanatheistday 2 5pm est ama semst atheism', 'ask atheist day question askanatheist semst atheism', 'kingdom particular culture way thing ed welch semst atheism', 'matter face end day know okay bebecause know maker day happynote semst atheism', 'way free atheist literature pas upcoming protest planning ffrf semst atheism', 'evidence based thought work better superstition based thought freethinker semst atheism', 'bible study unt make kinda wanna seminary school unt meangreen gospel semst atheism', 'musical seizure cool evidence god implying semst atheism', 'soul connected creator matter hard tried disconnect islam semst atheism', '1 5 heaven created expander quran 51 47 semst atheism', 'worst day life far setting nan rest physicist time like wonder semst atheism', 'shout almighty god claim proof semst atheism', 'atheistrepublic morality come innate sense response suffering atheist humanrights semst atheism', 'matter going assure world somebody 10x worse bethankful hope semst atheism', 'dear believer prove book read book regard semst atheism', 'lord spirit spirit lord freedom 2 corinthian 3 17 nlt freedom semst atheism', 'true community able disagree love roadtolife semst atheism', 'true education free mind best weapon obstacle sahd freethinker homeschooling semst atheism', 'watched scfeatured segment life manny pacquiao teampacquiao respect semst atheism', 'look find fear look father find faith togodbetheglory semst atheism', 'strength life lord semst atheism', 'plan gotta willing work hard seek semst atheism', 'god give handle victory lesson amazing day inspiration believe semst atheism', 'run thing till run king semst atheism', 'god invest anointing life going bless gotfaith sayyes semst atheism', 'latikia seangillies yeah right lol wink wink nudge nudge greatest god s playing religiondoesharm semst atheism', 'god given spirit fear timidity power love self discipline 2 timothy 1 7 fearless conqueror god semst atheism', 'sexiest thing carry right bible accessory christian semst atheism', 'scientist iron earth sorry quran 57 25 outranyouby 1400 year s semst atheism', 'dw english death truth prevails sorrowful reality freethinker semst atheism', 'allow accuser accuse washed cleansed blood lamb rev 1 5 7 14 semst atheism', 'india urge wealthy temple bolster economy gold worldnews economics commodity semst atheism', 'religion sex music sting semst atheism', 'richarddawkins likely real bigfoot loch ness monster god semst atheism', 'alot angry people world peace love semst atheism', 'want steadfast religion ponder qur best mean acquire steadfastness semst atheism', 'rt rosaryrevival 3 holy mary mother god pray sinner hour death amen rosary semst atheism', 'dhiggins63 true god fiction incapable killing pvtfraser semst atheism', 'breaking911 police hooligan challenge police right frustration criminal face black white semst atheism', 'life station destination islam semst atheism', 'cover girl lack deficiency foundation blend perfectly semst atheism', 'alpharomeo223 mistaken dhiggins63 pvtfraser semst atheism', 'time arrive home amandconstant awe god love family better ur love life blessed semst atheism', 'crucified christ longer live christ life galatian 2 20 holybible teamjesus semst atheism', 'created heaven earth mere play quran 44 38 athiest semst atheism', 'time posturing pretending pontificating time baltimore baltimoreriots semst atheism', 'jesus know bring far leave semst atheism', 'appreciate almighty god waking diz beautiful day giving brilliant idea grow hustle semst atheism', 'kip laughing shed tear bt know gonna hpn d end childofgod semst atheism', 'spirit today o thee lil faith slapped face lol helives love semst atheism', 'allow life potter iamtheclay iamisthepotter god belief christianity semst atheism', 'doctrine created christian save face truth theology semst atheism', 'love sahaba sign faith hating sahaba sign hypocrisy let respect sahaba love hypocrisy semst atheism', '10 holy mary mother god pray sinner hour death amen rosary teamjesus semst atheism', 'evidence based thought foot planted ground superstition based thought freethinker semst atheism', 'calling angel angel sing innocent god bless maryjaneveloso semst atheism', 'god gap evidence semst atheism', 'think life believe god add semst atheism', 'kind people earth believe magic miracle myth oh rational regard semst atheism', 'esteem abandon esteem given jesus scott saul evangelistmatt esteem semst atheism', 'purpose life islam providing clear concise answer question islam semst atheism', 'know god listening answering maybe way hoped way know best prayerworks semst atheism', 'framer constitution meant freedom religion freedom religion billy graham quote semst atheism', 'neiltyson afraid wrong stronger fight avoid facing fact belief based fear compound semst atheism', '8 year ago today son taken god fuck fuck semst atheism', 'tree known fruit thorn men gather fig bramble bush gather grape luke 6 44 semst atheism', 'imagine living life credit got blame wrong semst atheism', 'laur guuurl alittle cup yougotit semst atheism', 'god care concern feel free talk semst atheism', 'necessity mother innovation deen complete need innovation islam semst atheism', 'heart prayer city baltimore hope clarity resolution people city semst atheism', 'bind rebuke demon jihad jesus semst atheism', 'mind denied god soul islam semst atheism', 'bebecause god way literally answer curiosity alive semst atheism', 'nagging doubt having god god testing u intellect trying tell belief bullshit semst atheism', 'lk 6 37 kjv judge ye shall judged condemn ye shall condemned semst atheism', 'eternal life know true god jesus christ sent john 17 3 god semst atheism', 'believe bible word god believe book mormon word god joseph smith prophet semst atheism', 'discouraged thing dont happen like planned god better store pressing forward teamperserverance semst atheism', 'tonymiano thecorruptorr scam people money selling word fear claim interesting semst atheism', 'dangerous existence republic introduce religion politics robert green ingersoll semst atheism', 'son god man god athanasius semst atheism', 'trebor12566 wish eliminate culture new semst atheism', 'today s verse hears hears reject reject jesus luke 10 16 bornagain teamcogic bible holyspirit semst atheism', 'god miraculous miracle impossible god impossible logic reason science rt semst atheism', 'faithful god pray learn trust uncertainty mystery walking water semst atheism', 'let heart find strength presence semst atheism', 'god step islam semst atheism', 'matter thing look know god control stay peace knowing semst atheism', 'kind younger one respect elder nation prophet muhammad pbuh islam semst atheism', 'people leave god islam semst atheism', 'stand equality fairness humanrights logic rational thought freedom freedomofspeech care semst atheism', 'fool dy want wisdom word mouth feed prov 10 21 semst atheism', 'christ righteous practice conformed image chip ingram quote fb teamjesus semst atheism', 'power jesus jesus people north india mission semst atheism', 'rt followdms ask given seek find knock door opened matt 7 7 semst atheism', 'davidpakmanshow liberalbias hell existed bush line christian morality transcends religion semst atheism', 'stand god judged world stand world judged god godsnotdead truth semst atheism', 'sikhism better finish religion saimarani13 beinghu62727983 maheshhindu po st swamy39 semst atheism', 'think jesus said best said cum peter bible semst atheism', 'theist big mountain evidence god think fucking hear word faith bible god semst atheism', 'want government spying want god bible god tcot p2 semst atheism', 'equal men make morally superior fuckfeminism equalityforall semst atheism', 'god ensures justice orphan widow god love stranger providing food clothing deut 10 18 giving semst atheism', 'rt goldanuli god interested bible semst atheism', 'ali al amin lebanon shia leader 70 rejected iran regime s conduct w semst atheism', 'god turn situation trust semst atheism', 'ha ha ha ha varun gandhi great grand son nehru love hindu brahmin ancestry chameleon swamy39 semst atheism', 'regularly base thought superstition able think freethinker semst atheism', 'skepticpedi trust performing science based medicine child think science reiterate semst atheism', 'expect walk supernatural supernatural lethimin dontdoministryalone waterwalker boom semst atheism', 'day gonna thing right right alwaysoptimistic semst atheism', 'zubair ibn awwam accepted islam age 15 dedicated life protecting promoting blessedten semst atheism', 'robeddy24 nurseratchets athe1stp0wer certainly matthew john eyewitness liar lyingforjesus semst atheism', 'favorite quote time change thought change world norman vincent peale positivity semst atheism', 'connection2013 word impossible walking king glory semst atheism', 'god wonderful way turning negative positive semst atheism', 'seek god right place right time semst atheism', 'fatima ze ginestarros delight abomination isaiah 66 3 jadehelm15 science revelation21 8 semst atheism', 'know redeemer life end stand earth god christian christianity love mercy semst atheism', 'humanity deeper race gender religion love love inv life humanity race sex gender semst atheism', 'adore woman lord making wow forevergrateful beingme thisiswhoiwasmeanttobeallalong free semst atheism', 'struggling identity real christian need look christ identity destiny tweeter semst atheism', 'bad look chaos reek havoc dark day grow god forever control phn semst atheism', 'rt prayerbullets let scepter kingdom released heb 1 8 semst atheism', 'rt prayerbullets let gate life city opened king glory come p 24 7 semst atheism', 'let offer jesus continual sacrafice praise god proclaiming allegiance hebrews13 15nlt god semst atheism', 'beware prosperity doctrine greed vanity deception greed vanity truth wisdom semst atheism', 'pontifex think s scandalous woman men work woman priest catholic vatican semst atheism', 'jesus want love persecute bring violence love love theword truth love peace semst atheism', 'god gave mind expects christian use led decision truth semst atheism', 'religious people people bigoted genitalia mutilating angry gullible people semst atheism', 'desire reach star ambitious desire reach heart wise maya angelou wisdom truth semst atheism', 'potus sweet congratulation rational decision semst atheism', 'confess sin pray healed james 5 16 men accountability god semst atheism', 'indifferent child starving desert connected semst atheism', 'tried bury know seed mexicanproverb tolerance coexistence peace liberty oneworld semst atheism', 'rt whatchristsaid pray depended god work depended love grace semst atheism', 'criticise religion path pretentious throne peace worldpeace semst atheism', 'push pain feel today dream worth powerthrough nodaysoff semst atheism', 'busy making living forget life life semst atheism', 'religious leader like political leader think people want hear freethinker semst atheism', 'satan busy god control god spiritual motivation relax noworries strength semst atheism', 'mary sorrowful mother christian pray catholic semst atheism', 'greater world 1john 4 4 god bible semst atheism', 'questiontime amber rudd joke trying espouse thatcherism greece band aid help human semst atheism', 'prayertime 7am friday 605 475 3220 access code 685783 prayforcharleston prayforusa atlprayer thelifeline semst atheism', 'rt prayerbullets lord bless end beginning job 42 12 semst atheism', 'rt smarfreedom pray orphan northkorea year found homeless teamjesustweeters semst atheism', 'rt prayerbullets command spirit addiction come appetite jesus semst atheism', 'god bebecause hold close courage let need semst atheism', 'oppression poor sighing needy arise psalm 12 5 bible god semst atheism', 'michaelshermer praying ignorance god loving matter requires honesty conserve h20 drought semst atheism', 'rt chasenme01 ye light world city set hill hid matthew 5 14 shine belight semst atheism', 'thou shall think one self freethought freethinker reality semst atheism', 'julievila end homeschool curriculum semst atheism', 'lay foundation laid foundation christ semst atheism', 'current trend constitution making continues indigenous people madhesis hachhethu identity inclusion semst atheism', 'indigenous lose madhesi da current trend constitution making continues hachhethu identity federalism semst atheism', 'looking seed stand identity forever hachhethu federalism identity semst atheism', 'dwell peaceful habitation secure dwelling quiet resting place isa 32 18 semst atheism', 'given way fact living dare wear face lyrictweet semst atheism', 'wordsporns thecomedyhumor hell worship image created white semst atheism', 'bought world sold heart traded heaven semst atheism', 'rozrothstein answer israel palestine problem singlesecularstate huge emphasis semst atheism', 'iwilllook unto thelord iwill wait god salvation godwillhear micah 7 7 tcot pjnet ccot semst atheism', 'rt nikeadeyemi faithfulness actually mean faith service commitment heart shld faith rwatl semst atheism', 'bind cast spirit desert owl fox dragon hyena vulture jesus isa 34 1115 semst atheism', 'countless die race die self inflicted genocide kuwait shunpoliticalislam semst atheism', 'rt maggieardiente humanist love 100aeuassembly celebrating ethicalunion 100th anniversary amazing ethicalcu semst atheism', 'happened world attack france tunisia kuwait kill dozen ramadan shameless semst atheism', 'dismayed future america today forgotten begin freedom semst atheism', 'bad week bigot lgbt equality nondiscrimination semst atheism', 'far right wing imploding understand funny scotusmarriage pot healthcare semst atheism', 'small step eradicating bigotry remove confederate flag healthcare legalize gay marriage semst atheism', 'know surprised usa ireland action gay right lgbt usa ireland semst atheism', 'world better place today small scale small step forward semst atheism', 'news week foxnews lost half viewer heart attack obamacare unitebiue semst atheism', 'terrible day president obama s beautiful inspiring word gay marriage welcome equality hope semst atheism', 'whitehouse potus imagine religion god loving unconditionally matter wtg usa lovewins semst atheism', 'newsalert heaven effort minimize workload god decides answer gay prayer criticalthinking semst atheism', 'country finally moving outdated religious definition marriage royspeckhardt americnhumanist marriage semst atheism', 'let scotus rule god currency violates establishment clause freethinker semst atheism', 'country legal act ve illegal according god s law eye service real judge semst atheism', 'idc bible say constitution say shove right came theocracy semst atheism', 'today day finally join free nation celebrating equality long overdue lovewins semst atheism', 'win health care win love good day semst atheism', 'wolfblitzer ryougoing ball stand insanity god worship fuckreligion fuckjesus semst atheism', 'wolfblitzer ryougoing stand stupidity faith belief w o evidence fuckreligion fuckjesus semst atheism', 'defining moment u s yes human specie continue march forward proudtolove lovewins semst atheism', 'fruity pebble perfect breakfast today lovewins loveislove scotusmarriage loveneverfails pride2015 semst atheism', 'big muah america lovewins marriageequality semst atheism', 'proud u s let momentum going progress lovewins semst atheism', 'god human freethinker lovewins semst atheism', 'end come diversity semst atheism', 'today make happy bebecause step closer equality america semst atheism', 'know given audience event god talk president obama s speech jar lot semst atheism', 'strong bebecause wise knowledge prov 24 5 semst atheism', 'graveyard owned local authority available people religion semst atheism', 'dragonflyjonez gkjill yeah fan gay marriage year ago let go ok semst atheism', 'defend rise p 59 1 semst atheism', 'atheism involves person believe agnosticism involves person know waterford semst atheism', 'kill old one newly born life humanity semst atheism', 'govmikehuckabee read article 11 tripoli treaty pres john adam make clear america christian nation semst atheism', 'bodd deleted lol lovewins reasonoverreligion semst atheism', 'bebecause supreme court grant equal equality like matter heart semst atheism', 'today glad reason proud country live lovewins lgbt scotus freedom semst atheism', 'frmatthewlc maybe random shit happens regardless believe friend semst atheism', 'choosetobfree xfranman nbcnews thomas jefferson george washington believe afterlife thomas paine atheist semst atheism', 'imagine amazing world religion war hate religion wise extremist semst atheism', 'choosetobfree xfranman read book burning bush maybe learn lovewins semst atheism', 'xfranman old age wiser mature shame semst atheism', 'people need love acceptance lot need advice bob goff inspiring quote lovedoes love christian semst atheism', 'sensed summons journey spirituality semst atheism', 'sagar wadekar spirituality sensed summons journey spirituality semst atheism', 'wbcsaysrepent feel evil hompohobic hypocritical lying bunch lunatic lost god lost love won semst atheism', 'come circle limitation affliction jesus solutionnight goodthing semst atheism', 'thebriefcase ignorant fanatical piece shit glorified television disgusting semst atheism', 'excited scotus ruled favor marriageequaility lovewins semst atheism', 'humanist canada stand supreme court ruling favor marriage equality lovewins loveislove marriageequaility semst atheism', 'columbiahonraasrisri country bharat value srisri s contribution co semst atheism', 'came today god plan trust godisgood semst atheism', 'job charlotte good semst atheism', 'look like soon homosexuality illegal islamic state semst atheism', 'irenesconcierge doubt day libyan soldier raped guy england training mission semst atheism', '1 holy mary mother god pray sinner hour death amen rosary teamjesus semst atheism', 'thankful day awesome life god given peace thankful goodfather abundant joy life goodness semst atheism', 'stick postcode want god set satnav onhow davegilpin hopecity destiny semst atheism', 'football game religion howard cosell semst atheism', 'gregabbott tx god oh wait lovewins semst atheism', 'fear suspected deliver jesus catholic semst atheism', 'jesus christ yesterday today forever constant failed anybody faithful friend father semst atheism', 'need root closer nature simplelife liveeasy foodforall goslow semst atheism', 'beautiful fucker optimism motivationaldemotivational semst atheism', 'exodus 20 3 4 shall god shall image form semst atheism', 'mercy lifted broken road live greater purpose semst atheism', 'rt introvertangry minorityappeasement india room semst atheism', 'patrickclare1 alberta receive abstinence misinfo shame public school forced pray abed semst atheism', 'fear lord strong confidence child place refuge proverb 14 26 semst atheism', 'look like lost follower yesterday lol bye lovewins semst atheism', 'reason crazy crazy trying damn guess crazy human semst atheism', 'remeber difference stumbling block stepping stone use servantleader leadership semst atheism', 'god good praise semst atheism', 'happy camper competency autonomy mastery purpose engagement relationship create meaning 100aeuassembly semst atheism', 'christian defined absence sin presence repentance gospel project gospel semst atheism', 'lie reach prayer lie outside god unknown quote teamjesus semst atheism', 'destiny hand people place hand god semst atheism', 'people asking going vicar scared actually happen christianvocations theology help semst atheism', 'fallacy cease fallacy bebecause fashion g k chesterton trend fad fashion temporal semst atheism', 'religious leader s pay depends convincing pile superstition actually true freethinker semst atheism', 'old hear christian lead ultimate love hope disciple share gospel jesuschangeseverything semst atheism', 'people day question god s work thing believe question semst atheism', 'st philomena invincible champion chastity pray catholic semst atheism', 'day lord let rejoice glad sunday semst atheism', 'look enraptured awake spirituality semst atheism', 'faith amazing thing life tend happen right moment hope semst atheism', 'terrybrown5367 possibly craig stephen hick chapelhillshooting semst atheism', 'god change people job called share gospel semst atheism', 'god faithful gospel powerful spirit transforming church sunday semst atheism', 'filled holy spirit began speak foreign tongue holy spirit prompted speak semst atheism', 'reading mother fucking book bebecause human wrote religiousfreedom humanslie semst atheism', 'amymek establishment clause set country apart prevents radical religious zealot taking charge respect semst atheism', 'moealqadi buddhism work r judgement mexican american socialjustice worldpeace happy freedom semst atheism', 'lot fun hearing sethandrewstta talk new book sacredcows thinkingatheist godlessgala semst atheism', 'shout mountain top scream praise christian church worship semst atheism', 'rt letha hughes belief cruel god make cruel man thomas paine christianity islam sacrilegesu semst atheism', 'lavenderpurpleg hour need buy better weed l1ght3n weed semst atheism', 'happy sun s day friend find god sit breathe deeply count 10 having delusion pas semst atheism', 'proud multi colour profile picture seeing social medium past 3 day awesome view lgbtrights semst atheism', 'religion bebecause teach satisfied understanding world richarddawkins semst atheism', 'verily verily unto servant greater lord john 13 16 kjv lordoflords kingofkings semst atheism', 'pair hand working 2gether far better thousand hand clasped prayer freedomfromreligion semst atheism', 'oh jesus write song praise songwriter wewrite song praiseyou semst atheism', 'religion recognition duty divine command immanuel kant semst atheism', 'prayer useless wasted unheard powerofprayer semst atheism', 'good morning praise lord mercy endures forever repent usa jesusislord hallelujah praisethelord homosexuality semst atheism', 'think message offend people tell truth god s word power change life semst atheism', 'like banned ffaf freedom atheism foundation facebook guess harsh comment semst atheism', 'thought family lose tunisia shooting glad shot spot terrorist tunisia semst atheism', 'happy sundayfunday mortal lovewins govmikehuckabee loses honestly icouldusealittlemorecowbell fsm atheist semst atheism', '74 aspiring warrior joined chat moral scotusmarriage decision featured heavily topic lovewins semst atheism', 'balance religion harm good freethinker semst atheism', 'blind amazing moment time celebrated religious zealot lovewins semst atheism', 'moral landscape age 7 billion reflection 7 billion personal idea 7 billion pleasure 7 billion comfort bankrupt semst atheism', 'african american go church realize believe god supported slavery semst atheism', 'going church african american realize believe god supported slavery confed2015 semst atheism', 'hold authority christ enemy stolen authority life calling semst atheism', 'lord jesus altogether lovely o lord jesus altogether lovely lifeandbuildingasportrayedinthesongofsongs semst atheism', 'saw chembros essential festival brighton khole semst atheism', 'growing watching david attenborough reason feel way planet despising religion semst atheism', 'hate try create new shut old syfy creative life semst atheism', 'religion like booger face earth atheist tissue church god pray semst atheism', 'lack favor life favor lord surround shield p 5 12 semst atheism', 'u2ietour wish lad matured past christianity like got science education sotheyr stuck semst atheism', 'light called light called darkness fear christ leading chicago newyork miami semst atheism', 'kissmysassyass support equality bebecause myth got messed semst atheism', 'abbswinston charlesfrith religion bloody man becauses mankind hateful control semst atheism', 'love finding perfect person learning imperfect person perfectly love semst atheism', 'blessed come lord house lord bless psalm 118 26 semst atheism', 'bible expo truthcaster com come thanks bible expo truth semst atheism', 'dominance islam evident smartphone type ramayana ramadan allah hu akbar semst atheism', 'daily time god s word yield lasting freedom assurance semst atheism', 'hijabismile nainfidels captain pick pinchey1964 utterly stupid useless liberalism democracy semst atheism', 'swiss proud announce shelleysegal guest honor year s halloween party hunger task force food drive semst atheism', 'narrowwaychurch ifyoudiscriminate based ur religion ready discriminated having religion pookstahr semst atheism', 'rt marlamccarthy know god s hand leave god s hand rest peace rest semst atheism', 'jesus performed great miracle people believe bebecause believe faith belief semst atheism', 'shivaji maharaj 700 pathan 35 muslim soldier muslim bodyguard stop glorifying anti muslimyouidiot bhakts semst atheism', 'dumb politician u s obligated sprinkle religious language talking constituent semst atheism', 'peace leave peace john 14 27a semst atheism', 'faithful faithful semst atheism', 'today help god remember let good day god joy love amen god semst atheism', 'enemy threatened faith decide live semst atheism', 'took trouble lord cried answered prayer psalm 120 1 signpost powerofprayer semst atheism', '2 2 adequate number pls consider estab volunteer fire picket whoisburningblackchurches semst atheism', 'night watcheasy set staggered picket google work best whoisburningblackchurches semst atheism', 'believe god control mean need stressed worried semst atheism', 'god religion folk antiquity help explain thing freethinker semst atheism', '1 corinthian 13 13 faith hope love abide greatest love god love hope bible semst atheism', 'god named god god freethinker semst atheism', 'choice truly far ability albus dumbledore harry potter humanist semst atheism', 'sane person advocate positive change world religion easy damage semst atheism', 'thou shalt boil kid mother s milkexodus23 19 thank god atheist fundamentia bibleverses god christianity semst atheism', 'bebecause inclined ear long live p 116 2 semst atheism', 'whatiknowaboutislam helped 2 find truth religion christianity buddhism judaism semst atheism', 'antgerrard86 faith mean believing evidence justify scary semst atheism', '1 cor 15 58 stand firm fully work lord labor lord vain god semst atheism', 'happiness pursuit life liberty thelupol theism futurism semst atheism', 'raosahab everybody know presstitutes semst atheism', 'rt prayerbullets man god humble spirit retains honor prov 29 23 semst atheism', 'restore joy salvation grant willing spirit sustain psalm 51 12 niv wordoflife semst atheism', 'crucifixion christ lead world salvation thing started darkages skepticism semst atheism', 'catholic proud 4 god fearing bible believing justice defended faith nation scotus tcot semst atheism', 'fucked george michael circa 1989 flashbackfuck semst atheism', 'god blessed 100 dollar aid ebola ripping kid africa yo black as pay cable bill gawd semst atheism', 'rt prayerbullets lord let prosper like abraham gen 24 35 semst atheism', 'weeping endure night joy come morning going midnight hour morning coming god semst atheism', 'judge humane ask feel happening beagoodfuckingperson semst atheism', 'gonna worth gonna work semst atheism', 'wait time right thoughtoftheday justdoit semst atheism', 'religion lie collective apophenia need certain condition disappearing semst atheism', 'religion becauses arrested social development stopped having sense century ago semst atheism', 'yes beautiful mammal world better universalloveandalsotacos semst atheism', 'sake o lord revive righteousness bring soul trouble p 143 11 revival semst atheism', 'god rejoices manifest faith hold word smith wigglesworth devotional semst atheism', 'hallelujah overcome overcome jesus overcome world darlenezschech victor heart day semst atheism', 'angel god pray direct step protect evil strive god s daily life semst atheism', 'away hatred people men faith eric hoffer semst atheism', 'jesus worth encouraged semst atheism', 'true faith belief reality absolute value william ralph inge semst atheism', 'pain setback life stay faith question mark god period semst atheism', 'rt prayerbullets jesus peace semst atheism', 'rt prayerbullets allow enemy abort plan god life semst atheism', 'jerrybrowngov shameonyou putting politician physician parentalrights sb277 semst atheism', 'lord hope trust semst atheism', 'time forgot release bind historical fiction semst atheism', 'dream end religion ap666 atheistrollcall teamatheist freethinker freedom semst atheism', 'hand working thousand clasped prayer madalyn murray o hair semst atheism', 'man ideology flawed man s limitation bias muslimssalvageyourselves semst atheism', 'know 2nd amendment place politician ignore constitution pjnet sot tcot bcot ccot 2ndamendment semst atheism', 'faith impossibility believe happen semst atheism', 'anitalea1 amen amen hallelujah lamb god worthy praised praisethelord christian church semst atheism', 'bigoted rt rockymtsunshine doubt pink tights matching feather saw non thing semst atheism', 'feel ache think stronger know semst atheism', 'sentence postcard future version hello spirituality semst atheism', 'fail win quits god believe semst atheism', 'drjohnstl good know disagree spirituality asit take away frm realizing human condition focus reality semst atheism', 'fooled prayer wicked useless user semst atheism', 'rt behold thelamb worry trusted jesus christ savior sin friendofsi semst atheism', 'rt paula white invisible impossible seethegrapes semst atheism', 'leedanielsent come waiting discover suppertalented dreamer gold empirefox humble motivation semst atheism', 'mathew 8 3 jesus reached hand touched leper willing love unlovable christ semst atheism', 'bible study started mercy triumph bethmoorelpm tonight feeling 7 week amazing brother believer semst atheism', 'jahservant9 sinner need savior semst atheism', 'follow lead path newness way imagined jesus calling semst atheism', 'water life freely rev 22 17 semst atheism', 'hope hurt whoisburningblackchurches endracism lovewins semst atheism', 'break curse death spoken america people nation jesus semst atheism', 'fill church holy fascination man christ jesus need worthy onething magnificent obsession semst atheism', 'zmanoj sanghparivarorg school served soya bean milk school instead egg outrage semst atheism', 'credit rating debtor pay dead semst atheism', 'like green olive tree house god trust mercy god forever p 52 8 semst atheism', 'askbobby president institute christian version sharia law semst atheism', 'alomshaha bhahumanists friend looking forward semst atheism', 'life long pleasing god void heart semst atheism', 'whilst attempted distract continued quest succeeded antisatan antibibles semst atheism', 'got mind going trust god guide matter look like semst atheism', 'christianprivilege knowing prayer promoted abed public school like taber glendon ftsask semst atheism', 'bdutt lalitkmodi mohdasim1 ohh think ryouseculr nice friend semst atheism', 'instead let quick word prayer start try let quick pray start undefeated fca semst atheism', 'pray hedge protection mind body finance possession family jesus semst atheism', 'spend time god s presence burden carry transferred shoulder capable one semst atheism', 'important thing world important family pleasing god test produce undeniable faith semst atheism', 'ktumulty reason people believe bible koran talmud etc ignorance lack education poverty intelligence semst atheism', 'bha conference bristol great success 470 member attendance bha2015 semst atheism', 'great meet staff bhahumanists better understand role help local group bha2015 semst atheism', 'draliceroberts awarded humanist year gala dinner signed book bha2015 semst atheism', 'look forward birmingham 2016 bha2015 bha2016 semst atheism', 'jeff hollander bless almighty god almighty holy spirit messiah semst atheism', 'brasilmagic ignorance people gotta love learn love endracism loveyourneighbor peace semst atheism', 'nytopinion hope begin face reality god loving eo unconditionally matter wakeupamerica peace semst atheism', 'maher comedian unfortunately good comedian islam semst atheism', 'reason 847 believe god attacked waterbug shudder semst atheism', 'control confront self problem pastor merritt christian church semst atheism', 'humble mighty hand god exalt time 1 peter 5 6 kjv holybible semst atheism', 'secularism secularism gonna time secularism learn religiousfreedom freedomfromreligion semst atheism', 'hand heart true life apart laymedown semst atheism', 'idea religion seriously joyce carol oates semst atheism', 'rt greatest mind faith activates god fear activates enemy joel osteen quote semst atheism', 'father art heaven hallowed thy thy kingdom come thy earth heaven rosary teamjesus semst atheism', 'seek genuine truth listen wisdom speaks catch heart beat abide reside semst atheism', 'prayer gift trusting walking blessing yeshua gettoknowhim relationshipiskey keepwalkingbyfaith semst atheism', 'ambedkarperiyar ndtv bdutt problem sensationalising news crazy people forgotten semst atheism', 'atheist believe satan satanist sacrifice beer beer semst atheism', 'interestingly burning wife alive suspecting chastity great justice ram style ramay brf madhukishwar authoramish semst atheism', 'donkey elephant lamb lamb slain resurrected save america behold lamb semst atheism', 'work ending domination bell hook 2 2 feminism civilrights semst atheism', 'today idea facing god christ supplied need semst atheism', 'intrigued god angel nowadays everybody working cloud semst atheism', 'day sense trust god let lead semst atheism', 'ajenglish left real spiritual material devastation country grafted installed ummah hadith semst atheism', 'need prayer encouragement 24 7 prayerline 772 324 9040 god bless prayerchangesthings semst atheism', 'america law based religion semst atheism', 'personally know christian agnostic john simms spirituality stlouis truth reality semst atheism', 'humanist mean trying behave decently expectation reward punishment dead kurt vonnegut semst atheism', 'dear asadowaisi real issue maha govt decision court let decide semst atheism', 'dear asadowaisi r concerned maha govt decision court let decide semst atheism', 'karaikudy sai swaroopa ranaayyub suggesting narendramodi best way 2 fight lalitgate advocate semst atheism', 'gamenight w bostonoasis hughoneillspubandmalden 2night 730 geekswhodrink freethought humanist community semst atheism', 'heart firmly fixed trusting lord shall falter fail breath guide sail semst atheism', 'believe god worst moment god trust semst atheism', 'believe religious people good reason non religious undo credit faith semst atheism', 'allow enemy control appetite yield appetite control holy spirit semst atheism', 'secularism sure way prevent nightmare religious boot stamping human face forever freedom semst atheism', 'hate love end day god judge love semst atheism', 'yes islam mother load bad idea christianity far athiest semst atheism', 'thing fall apart big opportunity change anipemachodron consciousness awareness semst atheism', 'listened inspirational speech bonya ahmed bhsvoltaire intellectualthursday fightthepower semst atheism', 'receive lovingkindness morning p 143 8 semst atheism', 'connection god allows create good live semst atheism', 'patient watch let god work semst atheism', 'feel ancient root look brother sister spirituality semst atheism', 'question atheist libertarian right exist god christianlibertarian semst atheism', 'getting good biting tongue totally brainwashed xtian family tiring annoying time semst atheism', 'bind rebuke angel light jesus 2 cor 11 14 semst atheism', 'tomorrow promised cherish people god placed life today semst atheism', 'day daily bread forgive sin forgive sin rosary god teamjesus semst atheism', 'religion proud evidence story freethinker semst atheism', 'guy know hang wrong people like care reputation semst atheism', 'w living outdated guideline suppression insecurity capable making informed decision semst atheism', 'folly deny religious impulse consider marxism s reliance prophet holy book promise future heaven semst atheism', 'think 2 000 year found person want tell thing nope god semst atheism', 'impressed nice tunisian impressed religion major heartache death remembertunisia semst atheism', 'matter going matter priority process semst atheism', 'ibrahim order play suprabatha loud kukkesubramanya temple come ordered mosque thr rant semst atheism', 'greatest act faith day simply face day semst atheism', 'roman 15 1 powerful need patient weakness power ceb semst atheism', 'singlebebecause mortal high maintenance whiny as little bitch earthshatteringmicdrop fsm semst atheism', 'happy 4th july weekend remember justice liberty tribal inclusive 4thofjuly actorslife america semst atheism', 'gospelbeat rt thekurtcarr like god greatest power semst atheism', 'child religiously indoctrinated reaching age reason living completely different world semst atheism', 'spirituality semst atheism', 'tell secret know god love love told world love semst atheism', 'amazed real unicorn narwhal semst atheism', '4thjuly 1776 saw independence oppression england july4th 2015 free oppression religion semst atheism', 'thy kingdom come thy earth heaven matthew 6 10 comequickly semst atheism', 'aamir khan say pk tht fasting god superstition fasting ramadan mecca semst atheism', 'atheistq men commit evil fully joyfully religious conviction blaise pascal semst atheism', 'cant deny happening semst climate change real concern', 'rt cderworiz timeline short strategy place climate change conference paris december ableg semst climate change real concern', 'exciting meaningful climate change action way abpoli ghg semst climate change real concern', 'delivering good job albertans maintaining stable economy meeting climate change strategy good goal abpoli ghg semst climate change real concern', 'davidswann say want carbon fund spent public transportation renewable energy ejlive ableg semst climate change real concern', 'question lancetgh report asklancet tweet chat happening actonclimate climatehealth semst climate change real concern', 'working elect climate friendly government north america feelthebern ndp lpc gpc bq harperpac semst climate change real concern', 'chrisleinberger change drivable walkable 1 benefit 4 apane2015 semst climate change real concern', 'amazing ess15 panel gkremen suffolkbuilds maxfieldweiss oakland prepare protect bayarea region semst climate change real concern', 'climate change people disgusting asshole money transfer scheme elite rot semst climate change real concern', 'srsly weird wear sunscreen morning dogwalk getting tan 9am wtf semst climate change real concern', 'rt greenlivinggb earthhour look like great event green way forward semst climate change real concern', 'use glacier equator semst climate change real concern', 'pathtopositive la region s green leader united find local solution lacityhall semst climate change real concern', 'monstermarcia kudos young people generation activist onlyoneearth semst climate change real concern', 'macro problem face people focus micro problem bebecause immediate power fix semst climate change real concern', 'drought effect spreading western noram bc gov t destroy prime farmland enable lng sitec bcpoli semst climate change real concern', 'regimechangebc ndnstyl sad generation change auspol semst climate change real concern', 'netherlands taught rest world important lesson semst climate change real concern', 'confession state world getting lately deathsincustody everydayracism semst climate change real concern', 'dutch new meaning citizen government court act climate promise hague hope cop21 semst climate change real concern', 'thank greenpeacenz getting yesterday highlighting important issue facing semst climate change real concern', 'great hear dannyksfun kdeleon remind diversity needed best innovation ess15 americaknowshow semst climate change real concern', 'co2 impact warming logarithmic current level 390 ppm incremental impact negligible ndp semst climate change real concern', 'new pahiatua plant going primarily coalfired large company like fonterra taking lead semst climate change real concern', 'mission climate home buy drinking water soda big bottle tip semst climate change real concern', 'remaining doubt climate change watch chasingice netflix proceed shitting pant semst climate change real concern', 'alharbif bomb hand especially christian graham2016 gop semst climate change real concern', 'debunking climate myth fight sticky myth stickier fact mention myth explain fallacy semst climate change real concern', 'stand catholic church think crush popefrancis shhhh tell animalrights semst climate change real concern', 'wait watch attenborough met obama fascinating potus sirdavidattenborough lovemydavid hero semst climate change real concern', 'markruffalo flea333 kellyslater unfortunate usa refuse seriously damage responsible savetheearth semst climate change real concern', 'people intellect make great scientist wrong character albert einstein semst climate change real concern', 'cbcnews nationalpost human mind incapable dealing experience semst climate change real concern', 'rt victoriaswatson whitehouse potus wonderful exchange world s greatest men touching semst climate change real concern', 'love pope care religion guy awesome semst climate change real concern', 'appropriate watch futurama episode crime hot hottest weekend far summer futurama semst climate change real concern', 'talk rainforest 1 6 world russia important doctorcarbon advocate sustainability semst climate change real concern', 'lot damage day going win yrcannes canneslions semst climate change real concern', 'u s coal dead al gore cannes lion canneslions semst climate change real concern', 'worldfarmersorg congress bartolinimatteo dutch way reducing greenhouse gas agriculture excellent example combat semst climate change real concern', 'rt transitionlouth bp plc need degrowth stop destroying planet bp semst climate change real concern', 'parvasaeua worry real enemy obama semst climate change real concern', 'taking stand preserve traditional sea level semst climate change real concern', 'big decayeah happy smackoff eichelday anthonysalerno eagthedeuce valkilmer bust semst climate change real concern', 'envreddit surprise blindspotting idea holistic approach circulareconomy semst climate change real concern', 'breaking ocean wave broke inch beach normal semst climate change real concern', 'rain 5 day driest june santiago de chile morden history semst climate change real concern', 'senwhitehouse dr david legate university delaware explain higher temperature lead higher level co2 semst climate change real concern', 'politics religion race busy killing hurting earth dry die drought semst climate change real concern', 'shalyn67 religion race disproven reason science wonder politics drought semst climate change real concern', 'great week social issue scotus let work environment semst climate change real concern', 'islamist kill france tunisia syria let remember greatest threat hoax known semst climate change real concern', 'christian s beach god going sand people risingsealevel semst climate change real concern', 'jimrome daytripper20 yea yea yea yea smackoff valkilmer seeingwonder bumsmack semst climate change real concern', 'want guy climate change denier marriage illegal marriageequaility idea semst climate change real concern', 'seriously time republican wrong aca lgbtrights governmentshutdown autobailout stimulusspending semst climate change real concern', 'dear seattleweather stay exactly right thismorning okaythanksbye semst climate change real concern', 'ncregister peaceischrist diocesefwsb catholicvote semst climate change real concern', 'jimrome think 5k got gripping romey smackoff valkilmer seeingwonder semst climate change real concern', 'best matt cleveland kirstieallie valkilmer semst climate change real concern', 'flyingfree333 wow certainly extreme prognostication gop libertarian semst climate change real concern', 'let stop saying people believe climate change matter faith understand semst climate change real concern', '2 2 300 word sent sustainability sustainabledevelopment semst climate change real concern', 'l think people karachi r dying bebecause care environment semst climate change real concern', 'semst climate change real concern', 'warm soon number10gov want money panel misselling 45minutes dodgydata drtker semst climate change real concern', 'news flash hater earth round lovewins scotus semst climate change real concern', 'lstygal plenty follower environment greenvegans plugging semst climate change real concern', 'eating cow 9x worse eating chicken term co2 emission semst climate change real concern', 'tree cut fish eaten stream poisoned realize eat money semst climate change real concern', 'australia leading way backwards marriageequaility auspol semst climate change real concern', 'climatecentral christinemilne people r guilt free semst climate change real concern', 'america changing faster like speed light confederatetakedown lovewins semst climate change real concern', 'climate change explain definition climate change fraud ccot liberty cruzcrew semst climate change real concern', 'washingtonpost insane delusional quote seen tcot tlot semst climate change real concern', 'got canvassed hope join supporting vpirg summer solar peoplepower semst climate change real concern', 'whenyouthink gop position marriageequality equalpay gun marijuana surprise believe semst climate change real concern', 'annbritton nicolleflint guinnipig time prove right disease drought obesity semst climate change real concern', 'time checked al gore politician scientist wcs15 semst climate change real concern', 'default scientific position skepticism tcot semst climate change real concern', 'day clear changed opinion 2 tweet holding breath semst climate change real concern', 'btw barackobama potus ve losing fight semst climate change real concern', 'considering moving yo antarctica thats way possibly chill semst climate change real concern', 'ff yebsano alex verbeek aboutrenergy climatething recycle2print work green energy future semst climate change real concern', 'ff carbontaxcenter protectheplanet wcsmyanmar climatewise2015 pragmactivist99 work green energy future semst climate change real concern', 'republican primary debate topic wore better lovewins marriageequaility obamacare semst climate change real concern', 'mission climate home wrap water heater insulation blanket tip actonclimate semst climate change real concern', 'cschultzwx ton lightning day past week lolz semst climate change real concern', 'droakley1689 phxapologetics maybe misused resource society collapsed deforestation semst climate change real concern', 'logixliving lawn burnt day rain yeg semst climate change real concern', 'hotter oregon california right semst climate change real concern', 'negative time negative equal positive wonder applies emotion manthoughts sustainablehumans semst climate change real concern', 'karachiheatwave death toll climb 1210 death 5 day carbonemissions semst climate change real concern', 'theresa beh happy telling gop wise semst climate change real concern', 'hell feel fiery tip insidious flame swiftly sauntering room maybe ac semst climate change real concern', 'captainplanet movie rt ifyouwant environment planet earth semst climate change real concern', 'billmoyershq congratulation dutch good work change semst climate change real concern', 'sunny rainy bipolar weather wow real quick ma nigga semst climate change real concern', 'msimire say child woman elderly people especially risk health impact climatereporting2015 semst climate change real concern', 'notabarrister scrufflove pfft getting week standard semst climate change real concern', 'observation atmosphere ocean reflect human influence climate change dr dimitra founda rengreece semst climate change real concern', 'mission climate home opt reusable bag instead plastic bag gaiam tip actonclimate semst climate change real concern', 'irish0831 good grief feel desperation seeping page good got em rope semst climate change real concern', 'rt zerofootprint rt climatereality climatefact india stand lose 1 8 annual gdp 2050 semst climate change real concern', 'v queennoor v guardian biggest story world podcast whitehouse algore thehill gop stupidity ignorance semst climate change real concern', 'fact clear numbered day climate change humanity s fault facing extinction semst climate change real concern', 'aman pasha higher sea level temperature glacial retreat warmer ocean extreme weather event plenty evidence semst climate change real concern', 'ozone science ignored dad jebbush dire strait right thank semst climate change real concern', 'working artist culture key weave effort grassroots semst climate change real concern', 'brasfildtsb hit nail head hopefully edge paradigm shift semst climate change real concern', 'ocean acidification important scientific crisis face today donna robert cambioclimatico semst climate change real concern', 'today june 27th 66 degree wtf takeme2thecarribean anywhereneartheequator semst climate change real concern', 'hot take coming lovewins single significant thanksobama semst climate change real concern', '2c increase expecting 20 30 specie risk extinction rosina bierbaum cambioclimtico semst climate change real concern', 'mercianrockyrex suspect danhannanmep prefer stick erm principle semst climate change real concern', 'putin chap extremely confused stuck 2 old ideology regard d peace semst climate change real concern', 'like learning depth nutrition health tedtalks netflixuk disease westerndiet health agriculture semst climate change real concern', 'oh lord hot humid day canyoustop cutting tree cut ur emission world savetheworld semst climate change real concern', 'didyouknow th scotus 2 decide coal plant emitting unlimited mercury 2 r atmosphere potus gop justice semst climate change real concern', 'hmmm bucketlist wonder peace democratic manner peace democracy goal semst climate change real concern', 'breeze catch lakefront die heat stroke heatstroke semst climate change real concern', 'fossil fuel divestment necessarily stop climate change step right direction keepitintheground semst climate change real concern', 'government trust listen narrative let proof semst climate change real concern', 'speakerboehner jebbush tedcruz denial river egypt gop strategy racism semst climate change real concern', 'thx susanbowenphoto omaniblog fun home county later summer castellscarmen catching 4 semst climate change real concern', 'loud as thunder second rain thanksobama semst climate change real concern', 'wearing sweater summer semst climate change real concern', 'watching ideology capitalism work like watching train wreck progress democracy goal future semst climate change real concern', 'technology sign far come ideology capitalism sign far methodology semst climate change real concern', '1 democratic dip deeper water regard dion peace democracy goal future semst climate change real concern', 'millennials come apocalypticals thanks breeder overpopulation semst climate change real concern', 'changing planet 4 place climate change taking toll semst climate change real concern', 'thank 300 follower helping raise awareness humanrights soseurope prisonersofconscience torture semst climate change real concern', 'blowing ac middle night oregon semst climate change real concern', 'great challenge 4 leadershhip globslopportunity 2search synergetic effort w fellow engaged semst climate change real concern', 'seattle 72 degree trying sleep industrial fan sound like chopper circling house heatwave semst climate change real concern', 'un pray way day online important know regard dion peace future semst climate change real concern', 'listen conviction action dali lama glasto2015 semst climate change real concern', 'brilliant talk georgemonbiot dali lama guardian divestment key action glasto2015 semst climate change real concern', 'burnin baby whereyouat hangin hanginpls semst climate change real concern', 'rt varunkr842 save tree survival fight saveourplanet semst climate change real concern', 'pope swear tempt wayward as church love justice semst climate change real concern', 'mission climate road car break epa tip semst climate change real concern', 'raining im sure wi suddenly warm right semst climate change real concern', 'touch wood tomorrow democratically way s d peace gone democracy semst climate change real concern', 'wearing sweater end june itfeelslikespring semst climate change real concern', 'blisstabitha sure eco friendly pope remember turn light way lastpope popeforplanet semst climate change real concern', 'spacex looking like major litterbug clean debris 1500 litter hi way space x semst climate change real concern', 'realdonaldtrump smart donald semst climate change real concern', 'mission climate home thermostat 2c winter 2c summer tip doyourpart semst climate change real concern', 'rileyroder james inhofe tell global warming real semst climate change real concern', 'quinn43 thanks follow check ccl solution solution citizensclimatelobby2015 semst climate change real concern', 'republican party history book party stood way gayrights initiative reverse semst climate change real concern', 'bought medium advertising earned medium socialmedia real becauses botfollowers environment crueltyfree semst climate change real concern', 'carol holman heifer109 said democrat tax weather semst climate change real concern', 'chelseamagop perfect encyclical semst climate change real concern', '5 6 inch rain day day rain temperature reach 39 c ahmedabad environment semst climate change real concern', 'ga aiw support strong compass global climate agreement passed uuaga semst climate change real concern', 'thing australia world need 2 vast earth destroying coal mine let real fight auspol semst climate change real concern', 'barack obama meet david attenborough ready wait 89 year s old form legend semst climate change real concern', 'enjoying watching sir david attenborough obama talk climate change mitigation lovenature semst climate change real concern', 'attenborough real problem global e semst climate change real concern', 'planet live got got protect obama attenborough semst climate change real concern', 'natural world inheritance protect sir attenboroug potus bbc earth semst climate change real concern', 'amazing interview potus david attenborough semst climate change real concern', 'vatican destroyed vile creature creator islam sodomising child fakestine semst climate change real concern', 'thewest com au pammieoz way everybody gaymarriage asylumseekers semst climate change real concern', 'regard dion peace including future clearly known finiteinnatureplanet outta gone semst climate change real concern', 'oh watching news greece currently relative s d peace gm democracy goal semst climate change real concern', 'tonyabbottmhr boasting international stage removing price carbon refers toxic tax auspol semst climate change real concern', 'support australia s climate roundtable providing framework sensible debate ahead paris cop21 semst climate change real concern', 'climate change myth want fantasy author live alternate reality semst climate change real concern', 'rt abhinav khanal 700 people dead pakistan heatwave semst climate change real concern', 'glad million life improved week let set sight helping million immigrationaction semst climate change real concern', 'point rename summer rainy season cdnpoli semst climate change real concern', 'barackobama use 866 615 jet fuel earthday trip florida yes mao potus fail semst climate change real concern', 'honestly understand like california bad heat semst climate change real concern', 'inland cal hot humid day summer muggy strange semst climate change real concern', 'building renovation turn 10mm 1mmm time business money wallstreet enterprise entrepreneur engineering semst climate change real concern', 'mission climate home purchase green power available epa tip semst climate change real concern', 'annapurnavancheswaran say took 2 year cut bureaucracy speak indian government pivotal15 semst climate change real concern', 'dutch court ruled gov cut emission human right law interesting climatejustice2015 semst climate change real concern', 'good luck solarimpulse flight8 andreborschberg solar solarimpulse actonclimate semst climate change real concern', 'population growth problem bebecause human treat earth like shit govegan environment semst climate change real concern', 'kca votejkt48id engiegroup engie 9 new cop21 solution semst climate change real concern', 'side discussion stopmotionsolo semst climate change real concern', 'john watterson attending ippc meeting help shape future international greenhouse gas emission estimation method semst climate change real concern', 'davidattenborough meet barackobama tvnzone interview life effect semst climate change real concern', 'abcnews tonyabbottmhr advise need act auspol semst climate change real concern', 'popupincubator innovation super converter fishing boat w use fossil fuel looking funding scheme semst climate change real concern', 'qt barackobama patience denies challenge real 1 2 semst climate change real concern', 'sa played instrumental role rallying basic country strengthen south south cooperation matter semst climate change real concern', 'catholic follow god s word pope s ramblings semst climate change real concern', 'dallas hit 100 year semst climate change real concern', 'ppl think paul spoke god denouncing gay think current pope speak god semst climate change real concern', 'agree switch concrete new snazzy self lit road netherlands electricitysaving autobahn semst climate change real concern', 'eye china report climatenexus plan building agreement emission expected soon cop21 ghg semst climate change real concern', 'reading whale supercomputer northern climate change charles wohlforth arctic semst climate change real concern', 'mission climate home wash laundry cold water etpowerlines tip doyourpart semst climate change real concern', 'today kingdom bahrain participates high level event climate change un un70 semst climate change real concern', 'president tong tell story vulnerability resilience kiribati maldives low lying state sids action2015 semst climate change real concern', 'monsignor sanchez sorondo earth sick need heal semst climate change real concern', 'need work confidence transparence guided consensus manupulgarvidal un pga event action2015 semst climate change real concern', 'road paris2015 adp2015 co chair new tool presented july 24th manupulgarvidal un pga event semst climate change real concern', 'equity financial solidarity transparency 2015text need say fabius un ga semst climate change real concern', 'build thorium lftr 200 degree summer myacsucks semst climate change real concern', 'stake survival generation indigenous people youth unga action2015 cop21 semst climate change real concern', 'stress water resource threatens life livelihood anthropoceneage sustainability semst climate change real concern', 'minister manupulgarvidal importance indcs build momentum paris2015 press conference un semst climate change real concern', 'pope upset huffpostcomedy unzippedtruth popefrancis semst climate change real concern', 'janezpotocnik22 eu spending 300 billion collected environmental tax fossil fuel subsidy almedalen semst climate change real concern', 'day know implemented year ago simply walked away know regard dion peace democracy goal semst climate change real concern', 'scotus need force power plant cut emission mercury air pollutant asap potus epa justice semst climate change real concern', 'ruling scotus major setback epa environment dirtycoal semst climate change real concern', 'nzstuffbusiness time change government fracking c02 methane pollution cancer health earthquake water leak semst climate change real concern', 'sebamm seb2015 prtner explains work ipcc semst climate change real concern', 'suzyji climatedepot great news arrest regulatory agency s flagrant reach pathetic little epa know semst climate change real concern', 'literally sense global warming semst climate change real concern', 'stingo100 weather pattern evolving differently year semst climate change real concern', 'coldest wettest summer memory mosquito mowtwiceaweek brrrr semst climate change real concern', 'pope francis makin round popefrancis semst climate change real concern', 'bendicoot shit set supreme court evil semst climate change real concern', 'ballot paper posted timfarron vote leader liberal voice heard humanrightsact affordablehousing semst climate change real concern', 'thinking turning central heating semst climate change real concern', 'like felt voiceless listen timfarron libdemfightback fighting humanrightsact affordablehousing semst climate change real concern', 'engaged mom mean voting 4 climate 2 supporting candidate plan 2 act playin4climate semst climate change real concern', 'question say paulrehrlich sustainability semst climate change real concern', '20 degree celcius mendoza argentina beginning winter mendoza semst climate change real concern', 'simply rain houston anymore storm semst climate change real concern', 'care globe warming want stop irreparable harm fuckpolitics sciencerules semst climate change real concern', 'world future council man fsds15 point absurdity cost benefit analysis discounting future life sustainability semst climate change real concern', 'thursday lake mead largest u s reservoir lowest water level reported 1937 historyinthemaking semst climate change real concern', '56 environmental deterioration human ethical degradation closely linked laudatosi environment semst climate change real concern', 'mission climate home defrost old fridge freezer regularly tip loveourplanet semst climate change real concern', 'obamacare doctor warn global warmin cud patient health worse obama presidentobama whitehouse semst climate change real concern', 'china plan work thing today rude euchina semst climate change real concern', 'went run feel leg brain feel like boiling semst climate change real concern', 'disappointed basing decision real planet man currency system scotus epa semst climate change real concern', 'askrobertredford national level individual level mitigate effect semst climate change real concern', 'dalydegagne 2010redmittens canada need 2 invest 60 billion year paid efficiency cdnpoli environment semst climate change real concern', 'cop21 succeed fail humankind want survive nature human simple semst climate change real concern', 'ecowatch robertredford pope time greennh3 ready roll want machine holdup pollution semst climate change real concern', 'sir david attenborough barackobama dissgussing planet future room better semst climate change real concern', 'rbjron fedupofpollys jolly57la worry state going leave australia nbn fraudband refugee semst climate change real concern', 'need separate natural disaster man disaster emphasise polluter pay need loss damage tuvalupm semst climate change real concern', 'un crew trashis4tossers semst climate change real concern', 'eilonwya10 item need come semst climate change real concern', 'rosalind peterson addressing un aerosol spraying chemtrails affecting agriculture notadebate geoengineering semst climate change real concern', 'icicle167 ok yeah bad vancouver literally hot laudatosi semst climate change real concern', 'feeling like scotus got right right right wrong sigh climatedenial semst climate change real concern', 'northwest heatwave continues time tomato plant fruit june oregon organic semst climate change real concern', 'good news scotus confirmed un zero authority u s property enforcement care elite cop21 semst climate change real concern', 'robsilver chance irbrodie kyoto cpc cdnpoli semst climate change real concern', 'heidtjj djrmewzique mikeh 6 marklindesr fatherjonathan think found dangerous america semst climate change real concern', 'human commits original sin outbreath co2 mankind fallen bible semst climate change real concern', 'repent emission co2 end hell bible semst climate change real concern', 'onan cast co2 atmosphere committed sin emission bible semst climate change real concern', 'world emitted co2 water vapour built atmosphere becaused lord send flood retribution bible semst climate change real concern', 'mission climate home pas magazine friend hospital library nursing home gaiam tip semst climate change real concern', 'lancet climatehealth report say need ambitious programme like marshall plan apollo mission tackle climate change semst climate change real concern', 'naughtybeyotch psychic 2 huh semst climate change real concern', 'night like fond long hair wanna chop heatwave pnwgirl semst climate change real concern', 'dinosaur asteroid earth extinction semst climate change real concern', 'mission climate road drive greengoddess892 tip impactisreal semst climate change real concern', 'look hashtag ukclimate2015 news today uk reducing emission adapting semst climate change real concern', 'pupil p5 7 lincluden primary participating carbon buster project 2015 2016 learningforsustainability semst climate change real concern', '1500 new home built year england area high risk flood adding risk ukclimate2015 semst climate change real concern', 'approach solution global government act global community semst climate change real concern', 'australia turn watch obama attenborough abcenvironment semst climate change real concern', 'tonyabbott hope watching president obama talking semst climate change real concern', 'greatbarrierreef look compared dived 60 year ago potus attenborough foreignofficial semst climate change real concern', 'mindblowing watch sirdavidattenborough semst climate change real concern', 'david attenborough interviewed president obama brilliant fascinating viewing foreigncorrespondent abc tunein semst climate change real concern', 'mission climate home simplify bezerowaste tip doyourpart semst climate change real concern', 'clean technology moment innovation technology davidattenboroughismyhero semst climate change real concern', 'attenborough d state medium need promote damage climate change bout bolt foreigncorrespondent semst climate change real concern', 'water temperature atlantic coast 80 june like proverbial frog boiling water climate semst climate change real concern', 'greatman barackobama met greatman david attenborough change possible attainable listen attenborobama semst climate change real concern', 'obama attenborough brilliant heart felt honest discussion oz renewables abc auspol semst climate change real concern', 'scary stat day 7 area urban greenspace england lost 2001 thecccuk semst climate change real concern', 'young people climate change changeagentsa gen earth ellabellac missearth sa youth semst climate change real concern', 'metaceptive jmgamerorus gutted missed loved hear talk africa represented semst climate change real concern', 'look moderate weather going extinct robertredford un semst climate change real concern', 'rupertmurdoch feel bin upload newer mix day version like better s d peace semst climate change real concern', 'ginaepa yes silica dust emission little state level effect semst climate change real concern', 'tolerance wonder mother earth methodology level capitalistic ideology semst climate change real concern', 'mexonu greenclimatefund project long lasting lay groundwork low carbon development economic model semst climate change real concern', 'justintrudeau rethinkfusion terrybeech adamjpankratz jonathanwnv engineeringinnovation future green tech deal semst climate change real concern', 'sick celebrity think known actor make authority robertredford un semst climate change real concern', 'man change climate country add new element soil charles darwin anthropocene semst climate change real concern', 'redscarebot simple malarkey rt gingerdr global warming climate change hoax communist agenda control sustainabil semst climate change real concern', 'artic ice highest 10 year month june headline scam semst climate change real concern', 'better time heck california vaccine science gmo bee autism gmo sb277 semst climate change real concern', 'noted climatologist marine biologist oceanographer ted danson told 27 yr ago ocean dead 10 yr semst climate change real concern', 'bet specie man fart today soda carbonated beverage fast food recorded era semst climate change real concern', 'general rule mandatory thing kind refused vaccine gmo science bee fitness sb277 nutrition semst climate change real concern', 'deanleh earthguardianz excellent speech showed ur video birdie ready change rise semst climate change real concern', 'jodybland real question feel safe driving prius harrison semst climate change real concern', 'transpregnancy transgender major reason scientist find cure cancer aid semst climate change real concern', 'heat killing wanna know poor polar bear going right semst climate change real concern', 'dry know value water ben franklin actonclimate epa semst climate change real concern', 'yo live united state right believe global climate change fucking idiot fact semst climate change real concern', 'thanks marclevine ilike mike supporting legislation semst climate change real concern', 'heatstroke sind rajasthan temperature incresng frozen area earthquake rain shower reduced massive climate change semst climate change real concern', 'unfortunate systematic destruction planet merely seen political issue semst climate change real concern', 'people bar bitching heat drought utters word fossilfuel becaused elephantintheroom denial semst climate change real concern', 'fireuntildawn chriskkenny let guess lying rabid leftist warmist twisting fact agenda semst climate change real concern', 'heartlandinst french mean nation build tank rear view mirror gear reverse semst climate change real concern', 'dog panting beat music semst climate change real concern', 'high emission scenario disaster marine life dr williamson semst climate change real concern', 'lot thing need changing mindset watermanagement semst climate change real concern', 'hot af seattle normal hotaf semst climate change real concern', 'osteomath capitalweather funny sudden refer weatherman climatechange weather semst climate change real concern', 'worry sediment core prove shellfish coral recover 160 000 year oilandgas rbe tvp semst climate change real concern', 'outrageously grateful slight cool breeze drifting body future nakedtimes semst climate change real concern', 'hey dranthonylynham reject adani carmichael coal abbot point reef climate risk gbr semst climate change real concern', 'tornado warning uk weekend government chooses ignore global warming ukweather semst climate change real concern', 'mainaudeclaration2015 watch guy huge lindaunobel semst climate change real concern', 'mainaudeclaration2015 let push agenga worldwide fear climatejustice2015 semst climate change real concern', 'mainaudeclaration2015 60 year later lino15 laureate young scientist time act semst climate change real concern', 'psaintamans designed tax policy help fix number environmental issue itdconf cop21 semst climate change real concern', 'read scalia s idiotic opinion overturning epa s carbon emission limit planning spend day seething rage semst climate change real concern', 'act planet live cop21 semst climate change real concern', 'reince gopclowncar shame gop considers hrc email disconcerting job infrastructure education semst climate change real concern', '1 2 poisoning biosphere dealt free market economics taxwallstreet environment gmo semst climate change real concern', 'solarimpulse pick rwy follow andr sign way round semst climate change real concern', 'busy building bank account day paper help massive natural calamity semst climate change real concern', 'u s hold referendum prior paris talk gauge american support dealing hopefully leading semst climate change real concern', 'audio world look new sheriff town audio music world entrepreneur love life semst climate change real concern', 'second heatwave hit na nw popping flood record wildfire canada mess time semst climate change real concern', 'global warming global warming global warming oh wait summer semst climate change real concern', 'glblwarmingnews tooth fairy causing kid lose teeth carbontaxscam chemtrails semst climate change real concern', 'tsgtalexander glblwarmingnews tooth fairy causing kid lose teeth carbontaxscam chemtrails semst climate change real concern', 'brettgarrot brettgarrot glblwarmingnews tooth fairy causing kid lose teeth carbontaxscam chemtrails semst climate change real concern', 'co2 dangerous pollutant curtailed exhale iwantanswers semst climate change real concern', 'growing vegetable home tell friend follower climate mychangeforclimate semst climate change real concern', 'led light water saving toilet showerhead appliance etc renovate choose efficient mychangeforclimate semst climate change real concern', 'evening algore democratic thought bored easy politics hop hop regard d peace gm semst climate change real concern', 'ther clmate change alarmist come sept year tell hottest winter record ill postal semst climate change real concern', 'creeclayton wonderful find twitter meet masroora canadian working semst climate change real concern', 'potus defeat isi defeat semst climate change real concern', 'mission climate home reduce reuse recycle replenish restore scrapcatalytics tip earthrightnow semst climate change real concern', 'place feeding mating giving birth future polar bear semst climate change real concern', 'bc continues burn wake vancouver bcwildfires semst climate change real concern', 'pittsburgh regatta boat river debris swift current dangerous semst climate change real concern', 'un decline 50 crop yield developing country rice wheat corn 35 year especially tropic semst climate change real concern', 'great meeting balboalice ctwigg1 today discus future city uk expertise shared applied china semst climate change real concern', 'reptommarino priority address semst climate change real concern', 'rt mediarage brilliant b story created man subjugate leftistliesisbs semst climate change real concern', 'need world economic power true climate change funding world need action rhetoric semst climate change real concern', 'cop un conference board room meeting till shall continue innocent life livelihood lost semst climate change real concern', 'scorching summer uk end century thank rock suffer semst climate change real concern', 'try create world want live dalailama withcompassion semst climate change real concern', 'sea level rise end century 1 2 meter drown sf airport la port ivelicogna withcompassion semst climate change real concern', 'climate change emergency stop denial start taking step climatehealth semst climate change real concern', 'rt fadoben60 rate utilisation exceeds rate regeneration call degradation michachallen semst climate change real concern', 'climate change solvable problem need start today hhdl80 semst climate change real concern', 'dalailama suggests school politician educate critical issue withcompassion hhdl80 semst climate change real concern', 'shalomshuli guessing lot humidity time moses semst climate change real concern', 'ominous yellow vancouver sky making dread climate future wildfire semst climate change real concern', 'effect dry condition wildfire preventable humanbecaused semst climate change real concern', 'savingmytomorrow hbo guy promoting like crazy hbo semst climate change real concern', 'greenland s ice melting faster summer dome high pressure semst climate change real concern', 'davidakin lraitt installing new forestfire navigation system nokindermorgan notarsands cdnpoli semst climate change real concern', 'kyjl89 crazy oklahoma bracing flooding rain 4th cycle year canada burning semst climate change real concern', 'awkward moment pro coal pr campaign 100k follower advancedenergy greenwashing semst climate change real concern', 'gonna smart educated folk guy semst climate change real concern', 'climate change financing cc adaptation cc resilience green economy lot semantics community waitforsolutions semst climate change real concern', 'assaadrazzouk theearthnetwork wynnandreid usa idiocy semst climate change real concern', 'tonight academy science talk tech solution climate change prof barry brook cantorandballtowers canberra semst climate change real concern', 'revelation1217 erotao snow melting tcot semst climate change real concern', 'wsj image like fearful epidemic coming soon overpopulation semst climate change real concern', 'muskoka247 muskoka411 proud shoallake boilwater fortchip cancer vanuatu balafalls landscapingissues semst climate change real concern', 'mntwins game going fast tonight proof semst climate change real concern', 'noel kck tomsteyer billnye potus proof semst climate change real concern', 'porterthereport let win loyal reader support semst climate change real concern', 'wish pale season suntan babyoil thebachelorette semst climate change real concern', 'national announces plan fire pantry rest house burn baby burn sameoldshit semst climate change real concern', 'rent theatre movie chasingice friend family spread message global warming my1500 semst climate change real concern', 'rt easyprintitja rt firstkingtre freak rain kingston jamaica sudden skuii876 semst climate change real concern', 'stormiest 2014 2014 ireland uk 143 year saying newsclimate wattsupwiththat semst climate change real concern', 'liberalaus wrong century ipccreport involved methodology regard dion peace ideology semst climate change real concern', 'takedowntheflag lovewins represent tectonic cultural shift thanks small 2 twitter facebook imagine 4 semst climate change real concern', 'expected new zealand s called leader leadership instead weak minded ignorance laggardship semst climate change real concern', '11 reduction joke govt concerned flag change semst climate change real concern', 'newyork london frankfurt knee deep sea water happen unfccc cop21 co95 free party annaborgeryd semst climate change real concern', 'climatparis2015 climate science forum begin today follow progress cfcc15 sustainabledevelopment semst climate change real concern', 'need integrated science indigenous knowledge understand adapt cfcc15 semst climate change real concern', 'whelan60 debate go time wasted thedrum semst climate change real concern', 'sea level higher flooding lowland dire semst climate change real concern', 'sad generation opportunity act cfcc15 journey2015 semst climate change real concern', 'vallaud belkacem generation knew happen wakeup cfcc15 semst climate change real concern', 'act generation knew najatvb cfcc15 semst climate change real concern', 'carbon clock ticking carbonbubble surplusgas carbon gas semst climate change real concern', 'delight chest drumming alpha male hiss scuttle backwards wall feminist enters room manly semst feminist movement', 'overheat want shirt bebecause social expectation people breast n semst feminist movement', 'feminist spent 1 2 time reading paper tumblr real people ignorant sexist bigot semst feminist movement', 'stupid feminist civilization granted built labour blood sweat tear men semst feminist movement', 'girl sex drive slut feminist semst feminist movement', 'sun dress streetharassment daily life yesallwomen everydaysexism semst feminist movement', 'woman s right humanrights join cpdvoices twitter rally 3pm et agree cpd48 semst feminist movement', 'support unequal pricing based gender camillebogrand normally sexism equalpayday semst feminist movement', 'pic pornstars makeup perpetuating myth woman need makeup considered pretty semst feminist movement', 'yesallwomen know protect carry gun republicanvalues semst feminist movement', 'link sauga gotta stop chincing girl taking away extra bit iknowyoudoit equality semst feminist movement', 'rt isocynic support team buck support truefan socceroos bodypositive semst feminist movement', 'tired anti womanist respectability politics need safe space woman look like club interview semst feminist movement', 'feminist hate men kill semst feminist movement', 'woman 75 men job woman average men look feminazis equalpayday semst feminist movement', 'lucyblakeman12 need feminism need life survive speak w o semst feminist movement', 'mras tried enlighten went flight hindenburg semst feminist movement', 'girl woman spend time pretty attractive complain reduced sex symbol semst feminist movement', 'randomtweetor hate break toyoubruh woman pretty pretty woman feminist semst feminist movement', 'job best candidate regardless gender gender matter anymore 2015 paulhenry semst feminist movement', 'woman black eye told twice semst feminist movement', 'know gender stereotype know developed beginning 18 century gender semst feminist movement', 'time gender equality semst feminist movement', 'chip kidd announces reader asks hold applause audience cant hold gloriasteinem poetry semst feminist movement', 'woman paid far men appear pornography come talking blatant sexism amazingatheist semst feminist movement', 'know patriarchy woman one blamed prostitution whatisjustice inequality semst feminist movement', 'ok married 49 year old ceo use power influence shag 22 year old intern askhillary semst feminist movement', 'love girl ericwynalda meganrapinoe 15 hell foxsports1 way diminish woman s soccer uswnt semst feminist movement', 'men right talk voice important goddess deserve silenced semst feminist movement', 'finally woman running president semst feminist movement', 'pissed got talked semst feminist movement', 'sirwilliamvalen insulting thinking switch like written semst feminist movement', 'yaahnemba thought maybe blue jean hate world semst feminist movement', 'believe woman right semst feminist movement', 'theruies xdirtydianna clearly squad female guy looked hoe semst feminist movement', 'upset people narrow minded come feminism stereotyping men semst feminist movement', 'obsessed woman comfortable skin sandra cisneros latinx woc semst feminist movement', 'yelled boyfriend trying let win mortal kombat x semst feminist movement', 'extinction insect dangerous herb gigolo service religious fanaticism fake beercans y malaysia radio medium fail2discuss semst feminist movement', 'rt wgsndsu let demand cat calling cat ndsufeminist feminist cat dogscancometoo semst feminist movement', 'find funny feminist use takeitlikeaman want understand mean semst feminist movement', 'myrainbowninja notallbhas farm fucking disgusting semst feminist movement', 'rt rossansguil like dude joking molesting right face semst feminist movement', 'reading gg tweet getting angrier fuuuuuuuuuuuck men privileged time bed feminismisawfullygreat semst feminist movement', 'fudgieebuddiee saying girl sensitive bebecause gender role sexist swine semst feminist movement', 'danibchristen yes greater understanding bebecause ur s superior 2 lol idontneedfeminism semst feminist movement', 'gotta fuck feel like gotta fuck somebody semst feminist movement', 'men look woman like piece meat mean want cook eat yesallwomen semst feminist movement', 'starting compile evidence blog post modern feminism share trait nazi propaganda antifeminism semst feminist movement', 'love twitter semst feminist movement', 'hope raped apparently misogynist dare bend yesallwomen semst feminist movement', 'radical feminist feminist start rethinking position feminism semst feminist movement', 'honoured followed truly inspirational kon k founder asrc1 realaustralianssaywelcome thethingsthatmatter semst feminist movement', 'feminist understand feminism semst feminist movement', 'thanks work people like everydaysexism helping woman helping society semst feminist movement', 'wanna stay home raise family cool choice s semst feminist movement', 'suicidaljac3 eat pu somethin lozer semst feminist movement', 'woman superior men aspect feminist semst feminist movement', 'bruiseaurora advocating men stop loving woman sex everydaysexism semst feminist movement', 'need feminism bebecause man room woman ecstatic woman room men terrified semst feminist movement', 'paul elam hated men alive right feminist semst feminist movement', 'yes woman fair men staying home shamed society change ppl additudes everydaysexism semst feminist movement', 'watching missrepresentation change world womenrule change beauty semst feminist movement', 'complain equal rep girl gaming princess peach zelda kick as woman samus beast hello gaming semst feminist movement', 'woman sex object person truth wisdom womensrights medium life humanity love society semst feminist movement', 'umrao jaan ada story life prostitute poise poesy womanpower semst feminist movement', 'lol ugly wanting equal semst feminist movement', 'want hear ugly 1 5 woman sexually assaulted time college misogynyisugly semst feminist movement', 'amin86660132 justsoshelby nice work happy hear autistic friend able express way semst feminist movement', 'wtf literal fuck evan sseing thing semst feminist movement', 'radio r filled feminist rape propaganda feminism aliveandwell malaysia rape guilt tactic silence semst feminist movement', 'solace knowing mean know useless hack thehiredmind semst feminist movement', 'feminist ugly fact equal right men woman feministsarebeautiful semst feminist movement', 'meredith giving don crap great holy crap peggy spoiler damn great scene peggy madman semst feminist movement', 'guess new definition ugly believing equal right let ugly semst feminist movement', 'strict gender role context true marriage devoted raising child ideal substitute tcot semst feminist movement', 'ok armchair feminist got panty wet social justice warrior tumblr semst feminist movement', 'believe reason people need feminism need dog half reason antifeminist semst feminist movement', 'starsthomas dear god fat semst feminist movement', 'feminist ugly people calling ugly vile semst feminist movement', 'im sorry going woman like im cadigory ill probably boot door semst feminist movement', 'jest man s world y know kaitlyn blow world semst feminist movement', 'awyee707 respect truck suck respect girl innate chosen doll love semst feminist movement', 'awyee707 tigerclaud compared playing doll violent disposition different thing gamergate semst feminist movement', 'optimist216 load crap dressing appropriately office sexist grow yesallwomen semst feminist movement', 'sure schadenfreude stand tickling mt8 9 prettysing semst feminist movement', 'diistantecho wee sister belief santa claus feminism think harder mean semst feminist movement', 'dancerlwt considered changing twitter handle vagina monologue semst feminist movement', 'attention gave extremerules nepalearthquake freddiegray rhoareunion semst feminist movement', 'nycinterlude worry honey intelligence roadblock unquestioning faith feminism bleated semst feminist movement', 'feminist female long time stupid maya angelou feminist humanist semst feminist movement', 'feminismvibes men admit raped readily woman question feminist bullshit semst feminist movement', 'vote4pedro lied idiot fact reason acknowledge fact reason semst feminist movement', 'ananddaranand stopping foe ur tl ifyounotice encouragingyouto post topic interested tl vaw semst feminist movement', 'courting patriarchal approval condemns sister abuse physical appearance patriarchyisugly semst feminist movement', 'skynews eamonnholmes skyjacquie guy beach body ready advert interviewed conclusion arrogant male chauvinist idiot semst feminist movement', 'rsiereilly pretty enjoyed response semst feminist movement', 'contempo qiwaamah longer paid maternity leave flexi working hour site childcare breastfeeding breastpumping room equal pay semst feminist movement', 'mrmikecalta proud listen fat crossed eyed mj semst feminist movement', 'reason stopped entrance walkingstreet lawofattraction viewpoint dailydevotional semst feminist movement', 'rimmedlarry actually tag feminist narcissistically post selfies prove ugly semst feminist movement', 'noticed beautiful feminist wonder semst feminist movement', 'james wtf saying inconvenient truth hurt narrative semst feminist movement', 'draumkunta sorry busy gorgeous feminist shit beauty standard semst feminist movement', 'bethany jaynew cool got greenlight ur semst feminist movement', 'sarcasmspasm mt8 9 added level irony chosen figurehead body positive amirite semst feminist movement', 'physical appearance define worth people heard theyre conventionally attractive semst feminist movement', 'feminist block bebecause speak true semst feminist movement', 'going walk helen a13 bebecause feminist idea saying bristolben semst feminist movement', 'msluuna woman need shave semst feminist movement', 'thing ugly god damn opinion idiotic people started tag semst feminist movement', 'wife dislike cooking mk husband diet saying stay fit actually want avoid cooking mcp womensprogress2015 semst feminist movement', 'sjws homogenous blur like dealing giant rainbow headed monster gamergate semst feminist movement', 'feminist prove wage gap lawsuit come forward woman paid maybe exist semst feminist movement', 'feminist ugly lol laugh hypocritical people planet semst feminist movement', 'wonder like wear dress sexually harassed yesallwomen semst feminist movement', 'lehi high school favorite school cltnroberts p yo gleaves hit mondaymotivation whatareyouafraidof semst feminist movement', 'want empower woman need disempower warlord zahara langhi libya wilpf100 wsw2015 ikff peace war semst feminist movement', 'hey jcdfitness stop teiggering ur man gap bus fight patriarchy ur jail ty equality2015 semst feminist movement', 'wrong people woman self respect coveted listening rush semst feminist movement', 'hey world country white woman bitching gender inequality going fine killallmen semst feminist movement', 'hey prolife er socrates born mortal mother doomed die murderer semst feminist movement', 'rt weneedfeminism want choose having family having career semst feminist movement', 'emwallbank listen ready tell need deny hsmsong semst feminist movement', 'evelynlns jes chastain agree 100 radiates beauty inside role model semst feminist movement', 'starting notice general demographic feminist like fucking high schoolers semst feminist movement', 'sexism power plus prejudice anita sexist definition bebecause new title time anitasarkeesian semst feminist movement', 'woman strong woman smart woman bold feministsarebeautifulisalovemovement semst feminist movement', 'want revenge slut cry rape lie world carry mattress rape uglyfeminist semst feminist movement', 'people actually brag dank shatter wax shit instagram pls kill lol dab wax 420 semst feminist movement', 'gotta love respect feminist wanna feminist note sarcasm idontneedfeminism semst feminist movement', 'krewellajahan feminism equal woman s right feminism vaulting gender equality semst feminist movement', 'guess wanting trying world better place make ugly feminist semst feminist movement', 'bebecause heckling yesallwomen screaming look day excellent way individual semst feminist movement', 'feminist say woman treated equal human being asshole ugly wow nice okay lmao semst feminist movement', 'rod mccallum 55yrs date thought interesting old news bored bye semst feminist movement', 'everydaysexism rod mccallum dinosaur fool rising antiquated rhetoric bye semst feminist movement', 'foreigncorrespo bored ppl easily bored like profess generally boring weak wimp semst feminist movement', 'foreigncorrespo bebecause quote simone mean understand modern femmie nism whining semst feminist movement', 'length time bath directly relates happening twitter mondaymotivation worlds2015 semst feminist movement', 'need life sin girlfriend semst feminist movement', 'fact people think woman need appealing attractive heard seen equal need feminism semst feminist movement', 'want equality overpowering men feminazi semst feminist movement', 'saying alllivesmatter instead blacklivesmatter like saying equal right instead semst feminist movement', 'met radical feminist today holy shit amazing wrong brain wtf semst feminist movement', 'thefemaleboook meninisttweet lmao fact use bunch airbrushed fake as celebrity semst feminist movement', 'cooimemegirl feminist reject ignore fight equality hurt woman equality duh semst feminist movement', 'cooimemegirl damn wage gap sneaky men work longer hour dangerous job paid semst feminist movement', 'cooimemegirl feminist believe mother father s body job money semst feminist movement', 'know ugly going short skirt judged semst feminist movement', 'johnny nimble heyheather cooimemegirl equality term feminist poorly hide supremacist agenda semst feminist movement', 'feminist support gender equality bebecause people believe woman s value lie physical beauty semst feminist movement', 'claim feminist understand feminism huge societal problem semst feminist movement', 'elizabeth cady stanton die upset fuckbois text semst feminist movement', 'piddy x nero cyberstalin attempt godfreyelfwick parody proteinworld baltimoreriots socialism semst feminist movement', 'woman hollywood getting paid 2015 semst feminist movement', 'mit5 anders paraphrase friedan drive deprived data data expand fill space 1960s semst feminist movement', 'watching baltimoreriots fox news obvious feminist goony beardman following reporter attention semst feminist movement', 'removed term feminist bio bebecause racist transphobic white feminist fucked semst feminist movement', 'beeeatles list real god better joke man woman pay attention shit pissed semst feminist movement', 'harry arguing dead girl s father job kill rapemurdering villain horn semst feminist movement', 'sammikluber stating fact semst feminist movement', 'female feminist like care right woman semst feminist movement', 'wonder happen riot started breaking globe bebecause poorly woman treated men semst feminist movement', 'rt weneedfeminism bad bitch compliment semst feminist movement', 'cooimemegirl tc stompa woman understand men s plight force men fatherhood w o consent semst feminist movement', 'cooimemegirl tc stompa man s choice want breast feed child semst feminist movement', 'cooimemegirl tc stompa respect real equality lie claim feminist want semst feminist movement', 'oh equality shall stop feminist asap semst feminist movement', 'theactualsarah uk considering abolishing prison woman completely bebecause crime man s fault semst feminist movement', 'vivvyyy wrong getting dick come guy praised sexist semst feminist movement', 'moment know won wife get sandwich winning yvrmoms funny joke semst feminist movement', 'anti men pro woman shequotes quote woman men semst feminist movement', 'jahmmarastafari vosnic incredibly bigoted rape homosexuality mensrights semst feminist movement', 'narcissism self loathing lot woman like got sod wrightstuff wolfwhistling semst feminist movement', 'demias20 misogynist patriarchy rapist neckbeard harasser evil mansplain manspread woman hater born rapist etc etc etc semst feminist movement', 'brigadam klarajoelsson abortion suffering woman think hate abortion feminist semst feminist movement', 'woman s place feel uncomfortable walking street poppysmart semst feminist movement', 'brigadam klarajoelsson child seized adoption prolife couple raised mom semst feminist movement', 'brigadam klarajoelsson best case feminist equality fuck feminism semst feminist movement', 'following rgay s lead embracing term badfeminist far perfect learning semst feminist movement', 'read good article female perceived imposed limit education system work place semst feminist movement', 'people male female female upset told achieve boy man semst feminist movement', 'time told bossy assertive took compliment semst feminist movement', 'upsetting greeted shock disgust fact ambition semst feminist movement', 'wanted pursue career settle start family 20 s people tell time ticking semst feminist movement', 'infuriates male asked question stereotyped bitch cold hearted semst feminist movement', 'refuse accept unbreakable glass ceiling hit glass hard shatter glassceiling semst feminist movement', 'carly senatore im assuming claim called idiot dont know nice semst feminist movement', 'virginradioto mauragrierson maura tucker morning equality seniority semst feminist movement', 'understand concept male feminist people head equality feminist semst feminist movement', 'mike charmander mslatina right come law called equal right equal law semst feminist movement', 'today watch united state supreme court semst feminist movement', 'live world bitch doormat semst feminist movement', 'jowilliams293 feminist gym lose weight stop blame society semst feminist movement', 'spectator exactly woman weak incapable sight slim skin giving attack vapour semst feminist movement', 'men want credit woman feminist feminist men wanting privilege vaw p2 semst feminist movement', 'oakleyftgaga nice anyways nicerinternet semst feminist movement', 'actually watching video radical feminism history funniest movie ive seen semst feminist movement', 'opened blender vhs girl bathroom today themoreyouknow semst feminist movement', 'thought go mind regular basis said man semst feminist movement', 'real life get controversial scroll social medium faster baltimoreriots nepalearthquake kyliejennerchallenge semst feminist movement', 'people beautiful ugliest deep edgy philosophy baltimoreriots baltimore semst feminist movement', 'apps happens girl hackforgirlsrights autostraddle girlsintechht buff ly 1hhhm18 semst feminist movement', 'hey guyz talking baltimore social issue super smart super current event semst feminist movement', 'putting finishing touch feminist themed cryptic crossword standard crossword semst feminist movement', 'mrramsbottom instruct madebyreformat studiodbd luketonge stop tweeting joewellmade want tea making semst feminist movement', 'powsimian vegan diet immortal way gonna die semst feminist movement', 'moonsmuke wow threat violence feminist polite report semst feminist movement', 'walking neighborhood saw 5 different father taking care toddler woman nearby househusband semst feminist movement', 'foxtrotjames kind femalepower yolo semst feminist movement', 'oliviajeniferx guy job equality semst feminist movement', 'eating bagel rocking man feel like woman ponytail freedom semst feminist movement', 'maybe men learned answer woman fnm231 semst feminist movement', 'weneedfeminism bebecause yesallwomen simply level respect man heforshe semst feminist movement', 'fsurhet protip maybe familiarize recent trending topic meninist blacklivesmatter baltimoreriots semst feminist movement', 'florencesmith woman equal right feminist woman equal men read animal farm semst feminist movement', 'guy called gentleman holding door open corrected said sorry gentlewoman semst feminist movement', 'excited hear author leoratanenbaum slut shaming age ofthe internet slutshaming semst feminist movement', 'let s perception define belief feel justify worth semst feminist movement', 'u feminist w o bein bitch youcan embrace ur sexuality w o having loose moral empowerallbodies empoweringwomen semst feminist movement', 'doesnt miracle take signature kind people know kill innocent woman maryjanelives semst feminist movement', 'personally people dog toni girl semst feminist movement', 'queen won royalty race king prince semst feminist movement', 'nailed black feminist banged hard shit wife ended cleaning shit baltimoreriots semst feminist movement', 'teach young rubbernormative message use condom rawdogging wrong teamnocondom semst feminist movement', 'rt patsymaureen female turn man hating feminist bebecause man fancy s dyke lesbian as s semst feminist movement', 'let fight woman s equality read blog join woman s right gender equality semst feminist movement', 'rt wearefemstrong wonder like wear dress sexually harassed yesallwomen semst feminist movement', 'enews tell terrencej stop speaking woman belittling manner lie woman equality asshole semst feminist movement', 'label feminist think important address equal right taylor swift semst feminist movement', 'weneedfeminism bebecause nomeansno doesnt mean yes doesnt mean try harder yesallwomen yesallwomen rt semst feminist movement', 'thanks laugh tonight amyschumer social commentary bad equalpay girlyoudontneedmakeup semst feminist movement', 'v wait semst feminist movement', 'victoriacoren article woman politics month elleuk read generalelection politics woman semst feminist movement', 'wonderful interview blakelively stylistmagazine refreshing feminist view semst feminist movement', 'daily feminism follow feminist semst feminist movement', 'contrary stereotype feminist social medium championing becauses benefit men yesallwomen heforshe semst feminist movement', 'time hashtag crazy folklore uktourism britain storytelling myth legend equality multicultural folk semst feminist movement', 'ukip policy removing feminist entirety thanks help voteukip semst feminist movement', 'm feminist need growa sense humor w okay sip male tear mug m aaigh misandreeeeeeeeeee yesallwomen semst feminist movement', 'resist feminism 2016 election killed raped death uselections semst feminist movement', 'feminism woman letting people lead fuller life janefonda life semst feminist movement', 'find woman attractive objectifying pig find attractive shallow pig semst feminist movement', 'agratha feminist logic awesome piece shit nice learn patriarchy mean dumb shit semst feminist movement', 'wonder feminism gonna arrive need bit happiness stress studying collegelife semst feminist movement', 'pope francis christian support equal pay equal work popefrancis worldnews society woman semst feminist movement', 'whenindoubtdo trigger level 9000 semst feminist movement', 'andybud o mito eve model explicit prove 1 ancestor narrow similarity matter degree semst feminist movement', 'kristen stewart hollywood disgustingly sexist kristenstewart cloudsofsilsmaria culture woman semst feminist movement', 'hook say continue hard becauses pain bebecause people look whatawoman bellhooks love semst feminist movement', 'male rape reported crime male rape survivor served crime victim semst feminist movement', 'statistic male victim rape likely straight gay semst feminist movement', 'maritalrape law misused dont scope men prove innocence honest men trapped slaughtered semst feminist movement', 'rt weneedfeminism school taught penis mentioned clitoris semst feminist movement', 'feminist stop whining internet step game guy baltimore riot shit semst feminist movement', 'proteinworld worry feminist press good press ordering product soon semst feminist movement', 'body mind sjws prove people perfectly capable acting metaphysically given reality gamergate semst feminist movement', 'fashionopolis gained new follower misogynist maritalrapedebate view got outraged semst feminist movement', 'fxckyoustagramyouhave reason need feminism 1st world u equal stop trying case victimhood semst feminist movement', 'thomas ral feminist know fighting ego maniac s want 15 minute fame c4news semst feminist movement', 'upload sexually provocative pic attracted look harassment right semst feminist movement', 'time said girl like called slut guy said speak semst feminist movement', 'men accused rape immediately castrated question asked rapeculture heforshe semst feminist movement', 'riotchildarmy know gender superior semst feminist movement', 'dear feminist expel man hater poisoning feminism admire gamergate noty semst feminist movement', 'brandileighhhhh called sexual coercion rape rapeculture semst feminist movement', 'free woman unfree shackle different audre lorde feminist semst feminist movement', 'wanna hear funniest word english language right feminist fellowship geddit fell ow ship semst feminist movement', 'pop culture hate woman semst feminist movement', 'bebecause young girl told raped instead telling boy rape semst feminist movement', 'bebecause united state country paid maternity leave semst feminist movement', 'bebecause woman seen soft weak emotional eye male politician semst feminist movement', 'bebecause human being created equally nature semst feminist movement', 'un woman womenundrsiege osce rfom considered hate crime make threat woman semst feminist movement', 'woman falsely accuse men rape care exploting suffering real rape victim gamergate semst feminist movement', 'olympics 100 feminist men s division erradicated equality gamergate semst feminist movement', 'woman sex object atm semst feminist movement', 'njaniboy99 omercayir1 sahil handa need man yesallwomen semst feminist movement', 'dateoffcampus regular lineup spankafeminist feminazi mra fak semst feminist movement', 'kwink884 thewtfmagazine gamers fatophobes notice morbidly obese character video game gamergate semst feminist movement', 'toasterhead blueeyedgagal soxmom47 babbsgirl2 mind business cunt battery bob die semst feminist movement', 'woman come money guarantee work bebecause dumb bitch money semst feminist movement', 'petition journalist stop man mean demonstrate resilience mental toughness semst feminist movement', 'frustrating awful voice getting access wider audience voice hate confederateflag race semst feminist movement', 'pls h8 tweet obviously joke luv rightsforall semst feminist movement', 'clifford virginia stophidingit semst feminist movement', 'jordanelliott slut word degrade woman degrade body s like semst feminist movement', 'luisaomielan amazing leicester tonight best comedy seen incredible upgradeyourself semst feminist movement', 'share road man pulled nighter blew 2 sober rested woman equality semst feminist movement', 'like rape reported crime unreported incident usually female raping male hey semst feminist movement', 'gladly accept face bill neversatisfied semst feminist movement', 'wish people understand true feminist want equality men girl semst feminist movement', 'confederate flag offends good stop making thing politicallycorrect semst feminist movement', 'pleasant world disagree feminist fear life freedom semst feminist movement', 'stop male animator want female animator semst feminist movement', 'feminist gave woman right vote feministsareliars nevermind 2 3 men voted right semst feminist movement', 'rt viviennedenue code hack evil destroy time work kick as gamedev femaleprotagonist cybe semst feminist movement', 'crime show making rape father instead victim semst feminist movement', 'men empathize picture daughter going thing semst feminist movement', 'mrrepzion lady yt right radical feminist loudest voice normal logical feminist outspoken semst feminist movement', 'equalforwomen ryouon twitter kitchen feminist feminazi powertowomen equality semst feminist movement', 'everfetching wanna chat feminist feminazi moment hear side ya know feminist feminazi semst feminist movement', 'rt lzats know woman stop wearing age 30 woman wear want matter old semst feminist movement', 'dear feminist problem abortion rape fucking condom gamergate semst feminist movement', 'multiple abortion mean feminist contraceptive demanded gamergate semst feminist movement', 'multiple abortion mistake life expected learn welcome feminism semst feminist movement', 'feminist honest want learn skill want work gamergate semst feminist movement', 'contemplate getting fired feminist fired mercurial891 mgtowknight gamergate semst feminist movement', 'gender research help develop nursing research theoretical framework concept methodology genderanded research semst feminist movement', 'meritocracy myth pushed people skill trying buddy buddy way hmm semst feminist movement', 'hillary s lead sander narrowing long bernie accused misogyny tcot semst feminist movement', 'thosegoodvlbes wtf single father semst feminist movement', 'meritocracy oppressive incompetent believe sexist sexist therealkind semst feminist movement', 'matildas paid male counterpart woman s sport fact woman semst feminist movement', 'hate girl turn bitch bebecause guy tell look good thats compliment semst feminist movement', 'aimless friend enemy pizza delivery guy vegan blessed semst feminist movement', 'anti gamergate people gg zoe quinn defending domestic abuse notyourshield womenagainstfeminis semst feminist movement', 'glad able raise kidsanda time educated mothering decision family vilified nonvaxxerhere semst feminist movement', 'problem liberal tolerance extended agree tcot semst feminist movement', 'feminist spread misandry try create gender conflict feminismiscruelty dontmancriminate semst feminist movement', 'meaning peace absence opposition socialism gamergate semst feminist movement', 'recenter world captain ship author life story semst feminist movement', 'holding man s hand left street catcalling streetharassment equality semst feminist movement', 'fight going justice community lgbtrights blacklivesmatter justiceformuslims hispanicgirlsunited semst feminist movement', 'ricky vaughn99 called history herstory semst feminist movement', 'funny government want fix gay problem straight people problem semst feminist movement', 'mother laughed grader bebecause mother threw bug screamed ran away strongwomen semst feminist movement', 'gloriasteinem said woman going equal outside home men equal agree antifeminism semst feminist movement', 'natee909 victoria abii nah abi gonna married rich white guy gonna half money divorced semst feminist movement', 'camerongreen22 young man stop wearing sister s clothes makeup look ridiculous spankafeminist semst feminist movement', 'let raise pay female equal men payed eaquality semst feminist movement', 'cb printer adamnick nick victorymonk feminist want special right equal right b feminist feministcruelty semst feminist movement', 'prolifeaction nope adultery 100 year ago 600 year ago sorry fact fit narrative prochoice semst feminist movement', 'curlychloe psst anymore equal joke spankafeminist dontmancriminate feminist semst feminist movement', 'occupycourt family court court inquisition feminazis semst feminist movement', 'meninisttweet white woman pretend ne black lie aboit dad family instead going mental hospital semst feminist movement', 'gr8 day equality think girl pose danbilzerian setting female equality 40yr gaymarriage semst feminist movement', 'arristotlee thank progressive minded pursuer familial societal dystopia democrat liberal semst feminist movement', 'im strong independent black woman need daddy lol girlpower semst feminist movement', 'think australia female pmandfemale majority mp marriageequaility legal auspol semst feminist movement', 'charlotte church interviewing pussy riot glasto2015 fuckyeahglasto semst feminist movement', 'congratulation america overcoming 1 battle equality let woman race treated equally alllivesmatter semst feminist movement', 'lucypalmreports need feminism bebecause pretty semst feminist movement', 'win trying h1z1game trying hard help winning bebecause guy seriously f semst feminist movement', 'need feminism bebecause walk block getting cat called man asking car semst feminist movement', 'wow gay marriage legal lesbian marriage fuck potus fix semst feminist movement', 'feminism built hatred equality humanitarian ground notmancriminate semst feminist movement', '70kha scroll pas judgement offer advice issue like hijab belong subaltern culture semst feminist movement', 'feminist calling people bad name turn feminist shooting foot sexism antisjw semst feminist movement', 'friendly reminder gender pay gap myth semst feminist movement', 'ruth blane anavgjoe rt ruth blane ruth blane ruth blane ruth blane reversedowry rt manojmane feminazi sc semst feminist movement', 'anavgjoe rt ruth blane bansalsatnam rt ruth blane reversedowry rt ruth blane manojmane feminazi scrap498a semst feminist movement', 'rt kennywarner look latest indiegogo campaign coming soon help turn young girl great leader womensrights semst feminist movement', 'gelijkis hat seriously beijing breakthrough thank womensrights semst feminist movement', 'rt mrkrusader attorneybharti timesnow ndtv abpnewstv typical example misandry scrap498a 498a fakecases semst feminist movement', 'making woman stronger woman strong changing way world perceives strength semst feminist movement', 'love taylorswift13 s music fan brilliant young woman semst feminist movement', 'single biggest stimulus economy equal pay gloria steinem alaac15 semst feminist movement', 'pop quiz whats greatest fear oppressor humanrights blacklivesmatter semst feminist movement', 'jayalessandra yeah need feminism like boyfriend chip food shop pretty obvs semst feminist movement', 'buy dress completely zip fasten semst feminist movement', 'dfoxtrot15 feminismislies labeling womne omg sexism labeling men men like semst feminist movement', 'men want woman marriage male pride bebecause female pride matter genderequality semst feminist movement', 'think okay woman man want genderequality semst feminist movement', 'equality woman expected submit tradition marriage genderequality semst feminist movement', 'watch color code red show newly wedded wife con s family con bride color scrap498a semst feminist movement', 'downvoting youtube video hateful sexist gamergate femfreq radicalbytes videogame gaming semst feminist movement', 'tumblr slightly transphobic misogynistic tumblr semst feminist movement', 'womenspowerhub alessandrocynic fact asked blocked happy spankafeminist semst feminist movement', 'dont need white privillaged men coming telling belief fashion unacceptable furry feminist semst feminist movement', 'tesco tescomedia tescofood disgusted selling dvd shade grey chillingham road branch semst feminist movement', 'sas unicorn lol young male child semst feminist movement', 'communist relate feel communist faith karlmarx semst feminist movement', 'rt leexxxw spankafeminist sooooo horrible killallmen perfectly fine semst feminist movement', 'week man ayouturn drove wrong way way street tell body catcalling streetharassment semst feminist movement', 'brace onslaught anytime walk man street catcalling streetharassment equality sexism semst feminist movement', 'sehri time turning let dad woke racepolitics ableism ramadan semst feminist movement', 'gay straight male female friendship equality friend semst feminist movement', 'great accomplishment marriageequality bad suck black woman america racism truthbomb semst feminist movement', 'fdghtp54 lemaign kungfuman316 said friend sex appeal semst feminist movement', 'need feminism bebecause broken idealogies need defending functioning one cryingalready deathnote semst feminist movement', 'cutting mutilation daughter genitals expression semst feminist movement', 'rt viviennedenue bittergourd themarysue thank game going knock sock femaleprotagonist gamersunite semst feminist movement', 'son slut shame female having nude jerk nude night right smh semst feminist movement', 'hate feminism reason feminist notallmen heforshe semst feminist movement', 'wish woman power men milan knockknock pak army ptifamily semst feminist movement', 'sexist saying woman deal bad joke going suffer come adv math semst feminist movement', 'great singer turned activist charlottechurch stage interview pussyrrriot glastonbury glasto charlottechurch semst feminist movement', 'staying silent raped charged adultery expression semst feminist movement', 'fucking feminist sir tim hunt fired lie following joke praised woman science semst feminist movement', 'dear feminist supporter people like endless concession feminist prevent accountability semst feminist movement', 'dear feminist evidence closeted hate refusal address man hate feminism gamergate semst feminist movement', 'feminism fashionable form narcissism bebecause personal trauma personal retribution drive feminist semst feminist movement', 'dear feminist complete version feminism dictionary definition man hate gamergate semst feminist movement', 'responsibility feminism admits ornamental intelligence average feminist onlyrights semst feminist movement', 'strong feminist twitter measured type thinking delete gamergate semst feminist movement', 'best way spot religion offended idea crticism feminism rank high semst feminist movement', 'feminist honest know men right kind thought gamergate semst feminist movement', 'ceo apologizing feminist pressure award feminism sought intellectual immunity gamergate semst feminist movement', 'penetrating vagina engulfing penis insideamyschumer semst feminist movement', 'old insecure female forcing hatred men younger generation woman semst feminist movement', 'e strobel rsmccain instapundit chsommers cathyyoung63 asheschow mensrightsrdt anneeliz1 right sex rape semst feminist movement', 'like feminism gender ignorant toad semst feminist movement', 'fazenikan dzncosta men woman misogynistic pig semst feminist movement', 'watched mad max fury road amazing woman watching film amazed madmaxfuryroad semst feminist movement', 'video game form art censorship comparable practice fascist germany wwii gamergate semst feminist movement', 'feminist heart angry right wish scream hate inequality right lung semst feminist movement', 'femaskanks gender study degree valuable s t e m degree semst feminist movement', 'silviumajor tweet cast towie mate semst feminist movement', 'wow fernemccann beautiful free girlpower semst feminist movement', 'cosmopolitanuk create female festival celebrating woman surely brainer art music history semst feminist movement', 'autocorrect switched smh dnt needyouim independent semst feminist movement', 'rt gamergatenews rt capthaddock83 ha ha hilarious feminist desending spankafeminist like mad harpy sjws game semst feminist movement', 'towie catchup totally agree ferne towie semst feminist movement', 'traplordalec bold radical 10 realize actually symbol semst feminist movement', 'dollar feminist wanted kick shin retire shitpost twitter day semst feminist movement', 'marieclaire grown 21st century woman plea especially fashion body semst feminist movement', 'feminist want human male female equal political economic social right equality semst feminist movement', 'woman going equal outside home men equal gloria steinem woman men semst feminist movement', 'course ugly feminist hate sexy porn star rhino hate fact unicorn gamergate semst feminist movement', 'fckh8 poster child identity politics suck semst feminist movement', 'dear anti porn feminist eaten popcorn watching porn missing life gamergate semst feminist movement', 'people bit young politics honestly stand believe marriageequaility coexist semst feminist movement', 'history story need story semst feminist movement', 'feminist tend upset leave comedy club bebecause humor form intelligence lack gamergate semst feminist movement', 'men contact woman thinking owed response patriarchy semst feminist movement', 'shhhh bayonethics monikarmoore bragging feminist right bitch gamergate semst feminist movement', 'pennyred realise painted men brush wilfully ignorant describe fail semst feminist movement', 'pennyred realise painted men brush wilfully ignorant describe fail semst feminist movement', 'staacy weedy levithekid2 alexaa mccune true compete semst feminist movement', 'meminist frequency video response highlighting violence men portrayed video game semst feminist movement', 'funny misogyny objectification feminist completely erase female agency argument iroyna semst feminist movement', 'aymielouise1995 look discus sexism survival situation jurassicworld semst feminist movement', 'dear 80 percent woman think like scum love jezebel gamergate semst feminist movement', 'parnassusbooks1 chance quesaraisera come nashville discus dietland deliciousness plum semst feminist movement', 'wgss discussion forum alaac15 love librarian fuckyeahlibrarians semst feminist movement', 'rt emilaaslund dear wave feminist hate woman definition straight gamergate slipperyslope notyo semst feminist movement', 'goldstein sanfrancisco city archivist asks woman history city alaac15 archive semst feminist movement', 'staying informed sexual violence news important leaf ranting screen rapeculture semst feminist movement', 'wish laura croft undress bitch femfreq semst feminist movement', 'seen feminist disagree saying shut aside simple manner treatment befuddling lizfurl semst feminist movement', 'feminist outrage american girl recruited isi zero semst feminist movement', 'maybe cross bebecause hungry hmmmm semst feminist movement', 'cancer fat tush categorizing homelessness job semst feminist movement', 'signsyoureintheusa attacked feminist label patriarchy cooking sunny egg semst feminist movement', 'feminist like don judge book cover cover straight white male semst feminist movement', 'feminist doctor issue wrong doctor heforshe feminist semst feminist movement', 'heard inspiring interview w heroine monaeltahawy bbcworldservice woman islam revolution semst feminist movement', 'male volent reason semst feminist movement', 'yohanzor kittylight occupywomen lunatic fooling any1 skewed logic 2 delusion semst feminist movement', 'dremilygrossman liquideoussnake fredvonsydowtw ibbibby cathyyoung63 zombieneith feel decides support semst feminist movement', 'sexually harassed twice semst feminist movement', 'ymfromtheblock yes girl joint islam semst feminist movement', '51 population 17 congress waronwomen absolutely real thing wake america semst feminist movement', 'whoisburningblackchurches latest racist hate mob tag surprise blacklivesmatter people sjwlogic semst feminist movement', 'watching house card dad lady president yeah dad woman president right semst feminist movement', 'woman shamed want child told want payed equally child semst feminist movement', 'noin007 girl maybe qualified comment woman s issue according semst feminist movement', 'jaewon kang lol jaewon good hood like poetry pressing issue semst feminist movement', 'selective listening character trait convenience feminist semst feminist movement', 'narcissism character trait feminist convenience semst feminist movement', 'reading mag endless page look holiday holiday time fuck point semst feminist movement', 'pussy riot punk prayer highly suggest watch amazing documentary semst feminist movement', 'pushing misinformation wagegap new anti vaccination semst feminist movement', 'australia fucking minister woman fuck sake isawful semst feminist movement', 'fighting equality wimbledon decide allow lady heat break men hot semst feminist movement', 'men dirty evil feminism happy money state form collective prostitution semst feminist movement', 'getting offended simplest effective lie manipulate feminism religion love gamergate semst feminist movement', 'sharkrocket real people real result commercial includes woman men vacuum notbuyingit semst feminist movement', 'kattimpf bmc1181 jezebel going fullmcintosh 737th consecutive time sjwlogic semst feminist movement', 'bizerbizer giftofgodsfavor sexist misandrist whine fest drenched victimhood semst feminist movement', 'fuck woman mean seriously useless sex womensrights feminist semst feminist movement', 'ignoring peer reviewed research empirical evidence feminist thing gamergate notyourshield semst feminist movement', 'real patriarchy rapeculture look like beingfemaleinnigeria pjnet gamergate semst feminist movement', 'feminism sex worker exclusive trans exclusive want intersectionality semst feminist movement', 'cat pt 2 today found cat feminist cat feminist kindofanokstory life semst feminist movement', 'world weed male plant deemed useless produce seed flower semst feminist movement', 'virtuadad takedownmras library quit attempting 2 hurt think wayyoudo semst feminist movement', 'honestly surprised feminist extremist like lenadunham screaming sexist gay men semst feminist movement', 'moderncomments oh come know mean like advantageous semst feminist movement', 'toekey offensive joke left context spankafeminist semst feminist movement', 'martin chris4 car woman semst feminist movement', 'feminism fight woman s right feminism find petty world problem whine semst feminist movement', 'notafeminist b c human right human half antifeminism antifeminist semst feminist movement', 'omfg definition world problem fuckfeminism semst feminist movement', 'feminist s shut entire global porn industry million benefit welfare care semst feminist movement', 'quote mother woman got shit aye bring fourth wave feminism 4thwavefeminism semst feminist movement', 'men suck woman suck everybody suck semst feminist movement', 'pay attention men s sport fairly important happening usa woman s soccer semst feminist movement', 'rt femmagkpfk lot healing rosie rocha martinez confuerzacollective chicanaherstory kpfk semst feminist movement', 'usa good futbol woman playing semst feminist movement', 'want equality work place men woman trash make sense semst feminist movement', 'rt rapebombing howtospotafeminist like infinitehoran block stalk day week semst feminist movement', 'head america benfits semst feminist movement', 'beauty eye goat addgoatruinaquote beauty bodyimage semst feminist movement', 'woman stick like half cunt semst feminist movement', 'getting haircut b c job interview bebecause male having shoulder length hair unprofessional semst feminist movement', 'guess cry nhl player better safer getting violent right saad blackhawks semst feminist movement', 'low self esteem person oppressed bikini model ad help semst feminist movement', 'lanaria athalia woman sex object sell sexist hate movement yes semst feminist movement', 'texting bf telling shave today find optimally bangable time semst feminist movement', 'heyitsalexm keatmyshiz he lyin toyoumaam youcan transparent asshat moronyounoyouwanna semst feminist movement', 'inspiring drum beginning runtheworldgirls beyonce feel like rise semst feminist movement', 'people wonder feminist taken seriously 1 time hear rich semst feminist movement', 'pennyred uk s answer jessicavalenti amandamarcotte gamergate semst feminist movement', 'azarrax pennyred uk s answer jessicavalenti amandamarcotte gamergate semst feminist movement', 'anita sarkeesian living damsel distress trope semst feminist movement', 'deanesmay command control mentality run deep feminist swedish feminist initiative open semst feminist movement', 'abbystew292 gogreen18 buy brainwashing hope selected jury duty involving sex crime semst feminist movement', 'strong female lead excited gratuitous sexual violence semst feminist movement', 'howtokeepyourgirlhappy treat like partner like superior semst feminist movement', 'modern marriage like modern car shinny disposable gamergate semst feminist movement', 'speaking heart rarely wise especially retarded heart like feminist gamergate semst feminist movement', 'thesun george osborne innocent men convicted domestic violence saynotofeminism semst feminist movement', 'reading beingfemale tweet realized fortunate able rent live apartment right fight semst feminist movement', 'ashemareexoxo literally point male gaze b fake nerd girl semst feminist movement', 'weneedfeminism bebecause twitter misogynist harassment machine yesallwomen heforshe feminist semst feminist movement', 'afraid f word f word mean feminist bad word people semst feminist movement', 'cathhayden ya said sexily yoga sjw vegan semst feminist movement', 'u s putting woman 10 bill instead 20 think b compromise thenew10 womenon20s feminist semst feminist movement', 'pretty young thing catchy mj song perfect summary discourse surrounding professional female disempowerment gender semst feminist movement', 'mind grandmother cremated enema ash beauschopstick gamergate semst feminist movement', 'pennyred oh irony radfem accusing low self esteem gamergate semst feminist movement', 'basic abuse woman general men damn jimmy carter semst feminist movement', 'sex equal intellectual ability collective inferiority complex feminism necessary semst feminist movement', 'rt mandarenek feminism belief men woman equal right opportunity feminist lovetheladies sor semst feminist movement', 'complaint fake shit hand amazingly controlling entitled 2 semst feminist movement', 'watch feminist probably demanding pay lady semst feminist movement', 'stephspickle smile semst feminist movement', 'gender norm as definitely moved 40lb box wedge muscle semst feminist movement', 'writing wondering ovarian seminal synonym original oppressedbythesaurus ovariesbeforbrovaries semst feminist movement', 'representation goal feminism gone invent female character replace male character semst feminist movement', 'basic principle universe information literally information form antifeminism semst feminist movement', 'help group identitypolitics spankafeminist semst feminist movement', 'blocked 4 frequent poster yesallwomen 2 debated handle fact semst feminist movement', 'rt mojibakemono going nap follow wake opskynet gamergate notyourshield semst feminist movement', 'mascot woman s world semi final girl equalityforall semst feminist movement', 'told girl quiet told quiet semst feminist movement', 'feminist equality men woman segregationist equality black white semst feminist movement', 'kimiyyye nah bitch fucking savage obviously gonna suck dick sandwich man beat daily semst feminist movement', 'slow yell wait bus whattheactualfuck semst feminist movement', 'thecoffeefilter slow car yell wait bus whattheactualfuck semst feminist movement', 'non feminist ppl category fluid feminist best respect antifeminism misogyny mgtow mra antisjw semst feminist movement', 'feel self conscious catcall flattered pretty feel anxious wanna home semst feminist movement', 'myvagina kicked shit hiscock semst feminist movement', 'marieclaire pretty sure okay having team aaaalll choice feminist semst feminist movement', 'men longer look woman s boob tattoo look eye soon mandatory castration male semst feminist movement', 'sigh small step woman giant leap forward lonely pervert chrissyteigen semst feminist movement', 'girl wanna strip bfs beg magic mike xxl semst feminist movement', 'lot shit saying boob sexual sorry ignorant want true freethenippple boob semst feminist movement', 'raised feminist rotting soiled clothes slave semst feminist movement', 'beautyrant 7 taught hate knock knee compliment yellow bone beauty semst feminist movement', 'ineedmeninist bebecause blk man white woman minority despite lie feminist semst feminist movement', 'child recycle sock festering laundry heap feminist mother say slave semst feminist movement', 'storey s song day love somebody beegees topic day feminism cultural theory love class beegees semst feminist movement', 'year relentless harassment folk talking rape abuse yesallwomen thriving rape culture social medium semst feminist movement', 'interesting video kidnaps torture tying confinement etc wife gf evil accountant semst feminist movement', 'girl wear invisible crown carry gun lioness semst feminist movement', 'feminism stand female entitlement sense worth popular culture present meninist semst feminist movement', 'settle worth semst feminist movement', 'interesting debate men feminist bscconf15 criminology semst feminist movement', 'seriously believe gave woman heat break men wimbledon semst feminist movement', 'find friend people throw word slut judge woman sexual being equality semst feminist movement', 'seriously believe hilary supporter right semst feminist movement', 'nicefeminists passive onlooker man hate excuse prevent hate movement semst feminist movement', 'dear feminist start asking accountability man hater instead shielding convenient concealment semst feminist movement', 'dear feminist sjws proud troll sure proud want shame gamergate semst feminist movement', 'people support abortion bad parent practice right yesallwomen uniteblue semst feminist movement', 'howtospotafeminist 3 feminist believe rape culture instead erotomania delusion persecution semst feminist movement', 'chiefsarf good thing youre pretty fuck im tryna slay semst feminist movement', 'howtospotafeminist 7 feminist compare successful men non feminist woman harbor jealousy semst feminist movement', 'howtospotafeminist 10 feminist struggle control life try micromanage woman s life semst feminist movement', 'howtobeunhappylikeafeminist feminist fill conversation gossip hate aka killallmen gamergate semst feminist movement', 'feminist response people wearing meninist clothes mock derogatory name hate group semst feminist movement', 'prpodcastshow hope woman s size gameofkings championship belt men semst feminist movement', 'feminist saying atheist skeptic contradiction worship vulva gamergate semst feminist movement', 'amusing feminist creationists swap personal like god woman like gamergate semst feminist movement', 'time whiskey period semst feminist movement', 'amusing feminist swap personal like woman like gamergate notyourshield semst feminist movement', 'amusing feminist fly creationist rage belief patriarchy questioned gamergate semst feminist movement', 'woman stem imaginary motivation low conversion number waste money natural quitter gamergate semst feminist movement', 'trivializing suffering authentic rape victim sport welcome feminism gamergate semst feminist movement', 'mentality gamergate hey feminist suuuuper stable btw agitate criticism semst feminist movement', 'woman immoral evil right welcome feminism defending pedophilia promoter lenadunham semst feminist movement', 'feminism radical islam painted pink gamergate semst feminist movement', 'dear feminist gaming respect earned hard work playing victim gamergate semst feminist movement', 'feminist honest tell truth sure agree gamergate semst feminist movement', 'feminist honest careful use logic conversation drag rape semst feminist movement', 'people taste bud decide ban tasty food welcome sex negative feminism gamergate semst feminist movement', 'feminist honest careful 3rd world woman suffer rapist gamergate semst feminist movement', 'feminist extremist ruin respect feminist actually want equality handout semst feminist movement', 'kbambi1376 conscious choice beta woman feel unsafe unprotected right spankafeminist semst feminist movement', 'elllode run high heel semst feminist movement', 'feminism hypocritical fake equality manure sprayed pink fecal gamergate semst feminist movement', 'spot fashion feminist claim feminism equality feminist action demonstrate semst feminist movement', 'tarheelkrystle primatemachine bowing threatening way b c bowing triggering semst feminist movement', 'people think bebecause feminist hate men feminist believe equality equalityforall semst feminist movement', 'misogynist abuser nickrinke whining feminist blocking let day bock yesallwomen semst feminist movement', 'abusive misogynist nickrinke whining feminist blocking let day bock yesallwomen semst feminist movement', 'feminism cult close rank dare question semst feminist movement', 'coworker called gay bebecause stare girl came sorry respect woman need semst feminist movement', 'proud heforshe want thank emwatson powerful feminist heforshe semst feminist movement', 'shunter395 true quote opportunity promote semst feminist movement', 'grr subject allowed joked typical feminist topic humor spankafeminist semst feminist movement', 'deanesmay jenmurray41 bc feminist know man spankafeminist gamergate semst feminist movement', 'woman picture naked sexy lingerie text fucking patriarchy tweetlikeafeminist sjwlogic semst feminist movement', 'fact chris brown famous need semst feminist movement', 'god want opportunity men saying god wrong semst feminist movement', 'rule live seek logic thing look like waste time including feminism gamergate semst feminist movement', 'feminism twitter black hole human intelligence like creationism gamergate semst feminist movement', 'rule attention wanted unwanted feminist hypocrite want gamergate semst feminist movement', 'retarded tantrum gamergate feminist effect lifetime facing intellectual challenge semst feminist movement', 'hiddentara want feminist naked petty vindictive bytches want drag level semst feminist movement', 'creationist ok clearly know word god feminist ok clearly know feminism semst feminist movement', 'task 1 present feminist fact infanticide perpetrated mother 2 blame male s semst feminist movement', 'feminist honest want worldwide matriarchal dictatorship men enslaved woman gamergate semst feminist movement', 'abbeysaurusrex c hell video d guy spelled break wrong e megalodon alive maybe brewer semst feminist movement', 'orange kae lot people indoctrinated movement reading comment article example meinkamp equality semst feminist movement', 'dear lying feminist journalist candy crush saga hard core gaming masturbation marriage gamergate semst feminist movement', 'patelology jameelajamil rt gender equality project semst feminist movement', 'arieelrosee nataliaxmoreno right pointless try youre example semst feminist movement', 'anti feminism bebecause good person everybody semst feminist movement', 'feminist stupid think one freedom speech lmaooo semst feminist movement', 'farmer s tan bang bare bitch misogynistcolloquialisms dontsaybitch semst feminist movement', 'patriarchy theory designed project prejudice insecurity feminist men semst feminist movement', 'likeafeminist think woman identify feminist internalised misogyny semst feminist movement', 'rt steveoortcloud dream life fuck canadian slut eye socket yesallwomen thisfuckingguy semst feminist movement', 'half victim half accomplice like simone de beavoir semst feminist movement', 'jaclynf jessicavalenti amandamarcotte pennyred feminist live planet semst feminist movement', 'chelss 21x love distract female teacher semst feminist movement', 'bad garrick club men bad gym woman room hypocrite semst feminist movement', 'likeafeminist identify feminist clearly love sweetie semst feminist movement', 'love feminist focused bondage book romanticized genital mutilation semst feminist movement', 'actortrivia let pretty tit display pissed people look logic wtf semst feminist movement', 'woman double standard standard magicmikexxl yesallwomen semst feminist movement', 'feminist hate lauren southern bebecause thing beautiful gamergate semst feminist movement', 'majority anti abortion leader men pregnant genderequity semst feminist movement', 'feminist irritable preaching feminism know misplaced vibrator feminist feminist semst feminist movement', 'singlebebecause refuse man s bcs want self bcs want feminist man man s man semst feminist movement', 'vote woman wasted vote femfreq feministculture semst feminist movement', 'sex male caste general religion hindu hand gurrr feminazis pseudo semst feminist movement', 'pobreclta justlove katie willbrianna running dick sucker yes bebecause purpose mouth lol semst feminist movement', 'gonna achieve goal set strongwomen goal semst feminist movement', 'ashamed fellow man making pig given opportunity feminist ashamed semst feminist movement', 'zaralovesscript bloke know biggoodjohn asked offer congrats clever stunned girl semst feminist movement', 'shut kitchen bitch semst feminist movement', 'fingilgun sad dont hate people thought experience worse voice semst feminist movement', 'guess begging point like sexist view know feministsareugly semst feminist movement', 'lack intellectual integrity group atheist easy spot count feministatheists gamergate semst feminist movement', 'hey fellow feminist need fight ridiculous war glorifying celebrates men triggered transpatriot semst feminist movement', 'heterosexual male s sexual orientation social capitalist construct changed blink eye semst feminist movement', 'left 10 year ago government bedroom today verbally consent step drunk sex semst feminist movement', 'feminism appeared ray rice domestic violence disappear hope sole s doublestandards semst feminist movement', 'spanish civil war publishing cookbook author gender point woman s lack access education ind wealth osfc15 semst feminist movement', 'feminist like like religious people understand atheist reject nonsense linneareithis semst feminist movement', 'rethink beach clothes bc oppress people thisoppresseswomen semst feminist movement', 'dear feminist waste time joining feminist cult mormon close door semst feminist movement', 'masculinity toxic nuclear waste facility gamergate dumbfeminist semst feminist movement', 'magicmikexxl feminist movie seen madmax good work semst feminist movement', 'wageequality mean individual equal responsibility training proficiency deserve equal pay womenrights semst feminist movement', 'know difference activism advocacy sdg youthdevelopment semst feminist movement', 'girl 130 wear swim suit womenintech semst feminist movement', 'hard woman constantly annoyed thing matter grand scheme thing wish man semst feminist movement', 'rt gunnjessica bebecause want young american woman able proud 1st woman president semst hillary clinton', 'chris 1791 newsbusters 2 year ago hillary answered private email liberal medium passed reporting semst hillary clinton', 'dnewhauser marco rubio gop pander latino vote pushing policy hurt community semst hillary clinton', 'statedept ambcathyrussell adamsmith usa hillaryclinton hillaryforia barackobama world supporting semst hillary clinton', 'let remember dickcheney unindicted war criminal b4 start yelling benghazi day day justice semst hillary clinton', 'certainly disagreement reading governoromalley hillaryclinton semst hillary clinton', 'human right woman s right woman s right human right hillary clinton semst hillary clinton', 'wanna long term relationship bitch hide email lie face dontvote semst hillary clinton', 'bill clinton want dude president bang semst hillary clinton', 'huffpostpol hillaryclinton half favor semst hillary clinton', 'decision shock probably supporting semst hillary clinton', 'realize bob dole mentioned tupac s doyouwant yesterdaysleaders semst hillary clinton', 'run office original logo m libertynothillary hillno tcot uniteblue semst hillary clinton', 'little tree run smell thatchampion semst hillary clinton', 'crazy think oval office going hillary republican semst hillary clinton', 'nacla brasilwire so obama barackobama joking stopdilma stoplula stopforodesaopaulo semst hillary clinton', 'cheekygent chuckcjohnson hey hillary way buy vote hillarysoold semst hillary clinton', 'rt nicolasturgeon official hillary s running president say campaign chief excellent semst hillary clinton', 'sexist fuk world question qualification secretary state semst hillary clinton', 'chrischristie run way paper bag let beat hillaryclinton home chrisyour drunk chrischristie semst hillary clinton', 'reformedbroker da honies gittin money playing bleep word like dummy poppa semst hillary clinton', 'forgive cherylrios stupid comment woman president blame time month anyways semst hillary clinton', 'low key interesting female president semst hillary clinton', 'seanhannity lost 4 000 military boy president pulled iraq liberalconsequences semst hillary clinton', 'ethanobama know going long year semst hillary clinton', 'technically president raging hormone refer estrogen testosterone anabolic steroid iblamepublicschools semst hillary clinton', 'hillary need run country president bingo club shady pine tcot p2 semst hillary clinton', 'lol people hate hillary semst hillary clinton', 'hillaryclinton spent career growing government keeping deck stacked libertynothillary semst hillary clinton', 'problem libertarian decreed party house devided stand think news semst hillary clinton', 'hillaryclinton portuguese support campaign best luck world need person woman like usa semst hillary clinton', 'hillary clinton ambassador isi semst hillary clinton', 'brave patriot stop hillary going replace jeb bush lol loser semst hillary clinton', 'woman president stophillarypac semst hillary clinton', 'time rodeo hillaryclinton care like woman mission tough semst hillary clinton', 'lajouetreine karrattipaul genitalian semst hillary clinton', 'wondering idiotic gop smear hillaryclinton coming sure know detail semst hillary clinton', 'hillary killing far trail finally showing personal think benefit profoundly semst hillary clinton', 'bill mr president 1st man mr president 1st man lol imreadyforhillary semst hillary clinton', 'gailtalk trscoop course handled step way risk unscripted semst hillary clinton', 'want dog stop eating trash semst hillary clinton', 'thehill evanperez kidding leave focus issue prez semst hillary clinton', 'congratulation hillaryclinton entering 2016 race president support jew world semst hillary clinton', 'hillaryclinton twitter follower major republican candidate bush rubio paul cruz combined semst hillary clinton', 'hillaryclinton release clintonfdn donor public deserves disclosure scandal lie clinton semst hillary clinton', 'want time men woman appear yearbook old school semst hillary clinton', 'rt hale razor hillaryaccomplishments 1 select people fired 4 2 unethical 2 investigate watergate semst hillary clinton', 'live benghazi semst hillary clinton', 'marriage equality constitutional right woot hrc2016 hillaryclinton readyforhillary vote hillaryfor2016 mpotus semst hillary clinton', 'hillary need sheetz gas station 10 pm real america semst hillary clinton', 'hillary s campaign event scripted dog pony show designed shelter vetting b4 coronation semst hillary clinton', 'yes tell accomplishment semst hillary clinton', 'apparently putting cocaine s butthole waiting fart face wrong way high semst hillary clinton', 'hillary lying news worthy news worthy lie semst hillary clinton', 'chipotle employee complain hillary left tip jar lucky dip help semst hillary clinton', 'bluesaloon woman demographic 50 nation woman symbolic man semst hillary clinton', 'sendingyougay bear love chicago hillaryclinton hillarymypresident semst hillary clinton', 'love smell hillary morning smell like republican victory tedcruz2016 marcorubio semst hillary clinton', 'probirdrights stump speech stump park attendance mandatory semst hillary clinton', 'aaron hernandez president hillary semst hillary clinton', 'jsavoly tedcruz ya teddy boy world getting hotter called global warming putz semst hillary clinton', 'justicewillett platform semst hillary clinton', 'bebecause common core common crook common lie nohillary2016 stophillaryclinton2016 whyimnotvotingforhillary semst hillary clinton', 'lmao negro democrat decides run president hillaryclinton2016 hillarysbigannouncement hillarysdonors semst hillary clinton', 'senna1 kirillwashere men getting dick sucked daily congress etc give shit semst hillary clinton', 'grow economy get trouble semst hillary clinton', 'hillaryclinton stop raising tax let people wage libertynothillary standwithrand semst hillary clinton', 'theblaze think hillary taking foreign money muslim brotherhood probably favor obama chief justice semst hillary clinton', '3 fixing america s political system getting rid unaccountable money 4 protecting country semst hillary clinton', 'marijuana marijuaage equality coincidence think 11 semst hillary clinton', 'koriwasinger jbuttawipo voted iraq war responsible gathering thedemocrats vote support semst hillary clinton', 'ding dong semst hillary clinton', 'rt maxtollensjr percenter lied deadbroke lie semst hillary clinton', 'slessard 100 agree need woman like hillary help country nursed semst hillary clinton', 'like good people forgot livetweetingbladerunner couple week ago callback potroast cartography blue semst hillary clinton', 'randpaul hillaryclinton dream intelligent semst hillary clinton', 'hillary lock american classroom campaign problem locking want semst hillary clinton', 'whyimnotvotingforhillary call education non family enterprise imcommitted2defeathillary ncpol gop semst hillary clinton', 'bristola48 alciniah mahogany1992 stphil mzdivah67 progress4ohio graceslick77 auntlulie deejayedee cool semst hillary clinton', 'jeff nichols 82 hillaryforia freedom justice equality education innovation development happy life utopia semst hillary clinton', 'whitehouse barackobama hillaryforia barackobama world supporting semst hillary clinton', 'hillaryclinton especially paid union lackies idea propaganda machine spinning overtime semst hillary clinton', 'hillaryclinton deceit hand thats hand know right semst hillary clinton', 'alysssmithh pant suite hillary hide thigh hillarysdonors hillarysbigannouncement benghazi obama semst hillary clinton', 'hillaryclinton pick senwarren vp mark tweet unstoppableticket elizabethwarren semst hillary clinton', 'going apply intern job semst hillary clinton', 'tx 1 politicalmath know slippery snake slither shard glass semst hillary clinton', '46drhouse interesting hillary defends questioned eventually answer question semst hillary clinton', 'hillaryclinton ambient temperature hell today use guide semst hillary clinton', 'gov chafee trying fetch happen going happen semst hillary clinton', 'everydaysexism atiksalt sexism rest shut semst hillary clinton', 'tjhansen owillis trump run trump tattoo calling donald semst hillary clinton', 'abt hillaryclinton bogus issue history iowa trip twitter follower campaigning semst hillary clinton', 'hillaryclinton champion data removal semst hillary clinton', 'foundersgirl artist angie want female competent semst hillary clinton', 'saudi arabia imprisons flogs rape victim woman s champion hillaryclinton accepted million saudi govt tcot semst hillary clinton', 'monica getting paid bill s burrito squirted sauce pretty blue dress maurareynolds politico semst hillary clinton', 'watch america imagine world realize lucky live best country earth semst hillary clinton', 'suspect hillary s scooby doo tour distraction servergate et al noobamathirdterm semst hillary clinton', 'breaking news hillary trade campaign bus broomstick semst hillary clinton', 'socalimilitia1 czaroffreedom god global warming melting iceberg get prosecuted crime liberal semst hillary clinton', 'say woman like 10 democrat staffer machine shop iowa right hillaryclinton notreadyforhillary semst hillary clinton', 'love reporter ask sec clinton willyoub returning white house china elected didyoualready hock semst hillary clinton', 'simple clinton s corrupt semst hillary clinton', 'captyonah thehill fine unethical illegal quid pro quo uranium deal work semst hillary clinton', 'conservatvegurl brain voting hillary semst hillary clinton', 'lifenewshq tolerance best semst hillary clinton', 'chris 1791 truthrevolt leave talk semst hillary clinton', 'thinking hillary throw chelsea bus end foundation firestorm clintoncash thegreatergood election2016 semst hillary clinton', 'foxnews happeningnow optic problem real hillary clinton stood clintoncash iavotes semst hillary clinton', 'hillaryclinton run t hide clintonfoundationscandal clintoncash emailgate semst hillary clinton', 'case emergency push button scrub server semst hillary clinton', 'great mentor repsusandavis dcinsd right qualified candidate running potus semst hillary clinton', 'barackobama love peace peaceful coexistence violence terrorism semst hillary clinton', 'readyforhrc hillaryclinton support encourage hillaryclinton president unitedstates world success woman world semst hillary clinton', 'bet leslie knope happy semst hillary clinton', '400 000 speaking fee hillary took goldman sachs speech joan vennochi semst hillary clinton', 'readyforhrc support encourage hillaryclinton president unitedstates world success woman world semst hillary clinton', 'natureguy101 marymorientes support encourage hillaryclinton president unitedstates world success woman world semst hillary clinton', 'rebeccalipson freedom justice equality education innovation development happy life utopia semst hillary clinton', 'leaving dad s took liberty framing picture meeting hillary bill clinton 92 semst hillary clinton', 'hillarysaccomplishments total clusterfuck readyforhillary uniteblue topprog tpot libcrib semst hillary clinton', 'rt chucknellis hillaryclinton change longer hrc hillary uranium benghazi clinton note semst hillary clinton', 'hillary way baltimore champion baltimoreriots semst hillary clinton', 'faith political entity dissident serf good purpose dempublicans semst hillary clinton', 'lawyer know clinton violated ethic rule semst hillary clinton', 'xxoax hillaryclinton marymorientes barackobama world supporting semst hillary clinton', 'hillaryclinton freedom justice equality education innovation development happy life utopia semst hillary clinton', 'clintonfdn believe andrew fastow beat mistake organization size excuse semst hillary clinton', '19 year old care politics election feel like 67 year old semst hillary clinton', 'hillaryclinton notice condemn lawless action rioter semst hillary clinton', 'obama climate change bush blame hillary right wing conspiracy baltimore balitmoreriots semst hillary clinton', 'original scoobyvan unemployed hippy stupid dog lived meddle people s business semst hillary clinton', '2013 clinton foundation collected 140m spent 9m direct aid 2014 raised 500m spent 100m direct aid semst hillary clinton', 'student bayloruniversity ready marcorubio 2016 bu baylor bear baylorbears newamericancentury gop semst hillary clinton', 'chelseaclinton hrc stand billclinton assaulting teen girl readyforhillary hillaryclinton clinton2016 semst hillary clinton', 'hey texasstate bobcat hope ready marcorubio 2016 texasstateuniversity newamericancentury texas tcot semst hillary clinton', 'thing pay money hear hillary clinton quit guilty worth million semst hillary clinton', 'hillary clinton keep sending email try unsubscribe error message cancer semst hillary clinton', 'hillaryclinton barackobama world supporting semst hillary clinton', 'denial work hillary mayor baltimore democratliesmatter semst hillary clinton', 'join twitter movement rt fav mention follow semst hillary clinton', 'wow rt greta baltimore oriole play tomorrow public allowed baltimoreriots freddiegray thanksobama wakeupamerica semst hillary clinton', 'spoke hillaryclinton today nyc wow smart impressive semst hillary clinton', 'hillaryclinton say millionaire politician accepts country execute gay hypocrite wakeupamerica semst hillary clinton', 'berniesanders running president democrat old guy running semst hillary clinton', '297 day register vote 1 year 193 day election day rockthevote democrat everyvotecounts semst hillary clinton', 'theyre thug teaparty racist community reorganizers tcot baltimoreriots semst hillary clinton', 'hillary past primary dem voter think wrong beat november semst hillary clinton', 'hillaryclinton loving new colorful profile pic loveit semst hillary clinton', 'hillaryclinton rich saudi donor execute gay join team hypocrite wakeupamerica semst hillary clinton', 'finally moved fdcity today easier going forward moving semst hillary clinton', 'think going vote monica lewinsky s ex boyfriend wife semst hillary clinton', 'working american tax payer keep paying unethical liberal want destroy great country semst hillary clinton', 'hillary clinton v bernie sander primary like brawl applesauce retirement home readyforhillary semst hillary clinton', 'woman country speak language silence hillary clinton hillarycliton hillary4women semst hillary clinton', 'woman country speak language silence hillary clinton hillarycliton hillary4women semst hillary clinton', 'aim high work hard care deeply whatyoubelieve whenyoustumble faith hillary clinton faith4hillary semst hillary clinton', 'time good word 2 good work sound bite 2 sound solution hillary clinton hillaryclinton semst hillary clinton', 'thedemocrats dncwomen help 2016 election semst hillary clinton', 'poor kid 2 5 billion feed semst hillary clinton', 'norsu2 secret clinton doc gee surprise semst hillary clinton', 'far realdonaldtrump fucking far baltimoreuprising obama semst hillary clinton', 'hillary clinton make nixon look like amateur schoolboy clintoncash clintonfoundation clinton semst hillary clinton', 'thehill mamahillary making case exclusively deal complex social issue cnn bbc mamaclinton semst hillary clinton', 'goldentalon johnmanko cassandrarules contrary happy win enjoy seeing liberal city burn semst hillary clinton', 'let known support marcorubio sleep promote newamericancentury 24 7 texas tx semst hillary clinton', 'slate rand paul potus baltimoreuprising semst hillary clinton', 'poli ana got blacklivesmatter vote w o talking black brainwashed thedemocrats semst hillary clinton', 'watching hillaryclinton s speech right missing drop ton wisdom semst hillary clinton', 'proper introduction hillary clinton begin word defendant rise whyimnotvotingforhillary semst hillary clinton', 'yes community policing answer rebuilding trust community law enforcement people serve semst hillary clinton', 'twisted major presidential candidate policy speech talk mass incarcertaion semst hillary clinton', 'hillary speak campaign rhetoric going death jmarkwalk semst hillary clinton', 'hillaryclinton rainbow logo didyouknow 4 gay 2010 census whyimnotvotingforhillary semst hillary clinton', 'saw bit hillaryclinton s speech proud hear plan policy improvement justice system thanks semst hillary clinton', 'anomaly100 confident piss white anglo saxon protestant talking jeb semst hillary clinton', 'upworthy hillaryclinton illegal employer discriminate worker equalityforall semst hillary clinton', 'body cam cop private server cabinet secretary semst hillary clinton', 'johnkerry balwanikapil hillaryclinton statedept tomperriello realize paytoplaydiplomacy big hit semst hillary clinton', 'vrwctexan wow talk semst hillary clinton', 'rt futuretxleader utep ready marcorubio 2016 miner ladyminers universityoftexaselpaso rubio new semst hillary clinton', 'rt futuretxleader texastech redraiders ready marcorubio 2016 ttu texastechuniversity rubio texas n semst hillary clinton', 'rt futuretxleader corpuschristi ready marcorubio 2016 hook cc texas tx 361 keeptexasred gop tea semst hillary clinton', 'reading wildly impressed hillary clinton semst hillary clinton', 'zacharyebell thank 4the follow god bless love god bless america land free semst hillary clinton', 'barackobama thanks selling worker voted pushing fasttrack sellout semst hillary clinton', 'late 2013 hillaryclinton opposed marriage equality semst hillary clinton', 'thehill reason vote democrat 2016 acaworks getmoneyout restorethevra bernie2016 waronpoverty semst hillary clinton', 'rt glenn hegar follow stand hillary 2016 semst hillary clinton', 'vote 2016 ayyyyyyyyyy semst hillary clinton', 'jstines3 woodenthreat open mouth reveal heart margaret sanger architect black genocide larryelder thefive hillarysowhite semst hillary clinton', 'happy voter id came mail semst hillary clinton', 'great convo night w schoolbus soul zaksteib great connection waverly turf fellowsia committocaucus semst hillary clinton', 'hillaryclinton hiring monsanto lawyer help president president aided monsanto semst hillary clinton', 'marymorientes love happens world semst hillary clinton', 'froqueshayouget book yea semst hillary clinton', 'rt putterrod ingrahamangle republican looking lead leader liar semst hillary clinton', 'weekend hillary america weekend action hope participate l california semst hillary clinton', 'good 30 year public service zero accomplishment hillary finally ready 2 serve public lolol semst hillary clinton', 'g town sctweets semst hillary clinton', 'jstines3 bcwilliams92 stephen begged life hillaryclinton madam president begging ur vote notachanceinhell semst hillary clinton', 'rt spanglishpop thanks gop sending clown make upcoming election entertaining latinos2016 rock semst hillary clinton', 'thingsyoudontsayasapolitician feel way tired line difference semst hillary clinton', 'laughing republican party best offer donaldtrump jebbush hillaryclinton got semst hillary clinton', 'temp15544 icedecay brooklynjuggler classic mouth context practical extent purpose mean semst hillary clinton', 'met awesome supporter cx bus said hillary strong woman need country fellowsnv semst hillary clinton', 'hilary lied deleted benghazi email betrayed trust american scandal scandal semst hillary clinton', 'hillary lied deleted benghazi email betrayed trust american scandal scandal semst hillary clinton', 'high school decided woman president 2016 got politics trump s money semst hillary clinton', 'thanks izzybugatti participating lucky iowa fellowsia semst hillary clinton', 'jilevin strumpetcity yes proud socialism answer lead communism succeed semst hillary clinton', 'gop obamacare stay confederate flag go guy shitty week semst hillary clinton', 'come visit jefferson county fair representative curt hanson tell joke tell story vote semst hillary clinton', 'proud announce support hillaryclinton semst hillary clinton', 'excited working great fellowssc summer pretty great people fired letsgo semst hillary clinton', 'federal gov t social spending 61 budget federal gov t defense spending 22 budget definitely wrong semst hillary clinton', 'hillaryclinton literally greatest video seen semst hillary clinton', 'washingtonpost sir sory mae bi bharat mool ka hu par hart democraet semst hillary clinton', 'chelseaclinton s mom got going potus chelseasmom semst hillary clinton', 'america need champion h thanks hillaryclinton need champion especially champion semst hillary clinton', 'rest able escape clinton clintoncorrectional hillaryclinton escapeclinton semst hillary clinton', 'hillaryclinton awesome video vote chelsea s mom semst hillary clinton', 'hilliary provided work related email state dept work related email provide hillaredacted semst hillary clinton', 'carlyfiorina hannity impressive presidential candidate v bad actress semst hillary clinton', 'leighstorz jstines3 totally agree hillary incompetent scandal ridden phony semst hillary clinton', 'friday officially political incorrectness day day want offend yay tcot 2a pc semst hillary clinton', 'foxnews report show u s state department locate 15 hillary clinton s private email fast hillary semst hillary clinton', 'callisto1947 texasman2008 amymek hillary s new campaign slogan hillary hide truth tcot ccot semst hillary clinton', 'need new hillaryclinton shirt come meeting people brewery night bernie meetup semst hillary clinton', 'donald trump joke simpleminded idiot fuck self semst hillary clinton', 'hillaryclinton hillary stand right semst hillary clinton', 'hillaryclinton said alllivesmatter like said marriage man woman giver year semst hillary clinton', 'hillarydebatequestion profess admiration margaretsanger wanted rid country negro explain semst hillary clinton', 'rt mcirelli92 hillary win semst hillary clinton', 'y randpaul donation whitesupremacy group shaking hand black leader blacklivesmatter gop semst hillary clinton', 'clairecmc rosiegray clintonglobal saudi money saudicables saudicables clinton2016 semst hillary clinton', 'petefrt gop need handling campaign attacking showing hillary fails uniteright semst hillary clinton', 'molls30 hillaryclinton love biggest donor saudi arabia support woman s right completely goteam semst hillary clinton', 'hillaryclinton feel billclinton s latest assault teen girl hypocrite hillaryclinton hillary 2016 semst hillary clinton', 'vote definitely hillary want bush s dumb as want trump hillaryclinton semst hillary clinton', 'better place got coffee time grow grassroots sctweets semst hillary clinton', 'scotus scalia right word longer meaning like clinton depends meaning semst hillary clinton', 'tedcruz supporting hillaryclinton president lgbtrights acaworks semst hillary clinton', 'gideonhenry scotus reaffirms obamacare legalize gay marriage world crumbling semst hillary clinton', 'huge win america today absolutely historic equalitywins scotusmarriage semst hillary clinton', 'sexy daddy obama win week happy democrat semst hillary clinton', 'todayshow hillary s email missing incomplete d thunk trust semst hillary clinton', 'vacanti samglover maybe woman president semst hillary clinton', 'today love won hate defeated morningjoe unitedblue semst hillary clinton', 'obama riding high obamacare lovewins republican tearing hair left scotus semst hillary clinton', 'thank hillaryclinton support lgbt community historic day thank giving hope semst hillary clinton', 'black president healthcare 4 marriage equality woman president damn right scotus marriageequality semst hillary clinton', 'rt muradguderian democrat red obama communist true patriot stop hillary tcot semst hillary clinton', 'cbsthismorning email missing incomplete d thunk law rest peon trust semst hillary clinton', 'monica lewinsky s favorite football player ha ha clinton dix semst hillary clinton', 'scotus dealt blow hillary clinton campaign promise running corruption lie deceit semst hillary clinton', 'america favor feel vote woman candidate vote carly2016 integrity unlike semst hillary clinton', 'getting hillaryclinton bumper sticker bebecause lovewins 2 semst hillary clinton', 'pamnsc trphrophet ramblingmother thank rts wakeupamerica dumpboehner ditchmitch semst hillary clinton', 'gerfingerpoken2 careless mistake deliberately broke law lie semst hillary clinton', 'excited hear sen klobuchar speak today semst hillary clinton', 'politibunny seja75 hubbit hillaryclinton voting democrat primary year support berniesanders semst hillary clinton', 'liberty depends free president obama semst hillary clinton', 'nro johnpodesta grasp reality need 140 character address naive man semst hillary clinton', 'jewboydonny oh know effed beginning semst hillary clinton', 'called knew raised 17 000 ex boyfriend sen klobuchar semst hillary clinton', 'great hillaryclinton attended clementapinckney s funeral today semst hillary clinton', 'wonderwoman movie themuppets tv starwarsvii marriageequaility obama guess leave social medium oh wait semst hillary clinton', 'politico remember million gwbush s email went missing deleted iraq war hearing yawn semst hillary clinton', 'lovewins day hillary gear yaaas pride semst hillary clinton', 'thegirlwithfood people saying going vote ridiculous semst hillary clinton', 'rt zerlinamaxwell huge cheer universal child care early childhood education semst hillary clinton', 'hillary stop pretending supporting lgbt people opposed 2013 lying conniving human semst hillary clinton', 'tedcruz iamthewindowman state bum uniteblue semst hillary clinton', 'gop going marriage equality aca going fun watch semst hillary clinton', 'occupycorruptdc way tired dumbass semst hillary clinton', 'crook like like yes hillarycampaignslogan wakeupamerica stophillary2016 specialreport semst hillary clinton', 'hillaryclinton pretty sure gonna lose lot hypocritical christian vote pretending care lgbt semst hillary clinton', 'moving forward focus making higher education attainable eliminating gender pay gap semst hillary clinton', 'let shatter glass ceiling gerryconnolly vadems semst hillary clinton', 'jerseykidpicks thank sir honor hear usa life spread rememberbenghazi2016 semst hillary clinton', 'let secretary clinton president clinton agmarkherring vademocrats semst hillary clinton', 'think jebbush bobbyjindal scary badchristianvalues semst hillary clinton', 'kimkennedy4 thats voting right semst hillary clinton', 'lanelewis thanks follow thehrcsupervols semst hillary clinton', 'sen kaine d va scotusmarriage great victory semst hillary clinton', 'having tough time seeing leader running potus quess wait happens semst hillary clinton', 'hillary flew private jet speak speak income equality dinner plate 2700 00 equalityforall pjnet ccot semst hillary clinton', 'idiot vote hillary obama epitome wrong country benghazi semst hillary clinton', 'despite today s ruling struggle end lgbt discrimination far finished hillaryclinton virginiajj semst hillary clinton', 'jeanelynn thank follow fav jeane god best wakeupamerica semst hillary clinton', 'mom told aunt want volunteer hillaryclinton s campaign support semst hillary clinton', 'let bring prosperity line worker kindergarten teacher amyklobuchar inspiredbyhillary semst hillary clinton', 'cant fix stupid able vote semst hillary clinton', 'killed thank realdonaldtrump tweeting mad crap semst hillary clinton', 'amazing turnout thecenterlv emotional crowd rt agree love win fellowsnv semst hillary clinton', 'megynkelly anytime liberal throw word like truth reality know lie semst hillary clinton', 'buffalobill71 aramisfraino pamnsc thank favs rts wakeupamerica semst hillary clinton', 'therealjenappel im high hashtags right cant help mypresident semst hillary clinton', 'realdonaldtrump clothing line china canyousay lier pant fire morningjoe unitedblue semst hillary clinton', 'slowly slowly debt crisis implode nation currency americadeadbrokesave dollar semst hillary clinton', 'americadeadbrokeslowly slowly china want yuan replace u s dollar world s new global currency semst hillary clinton', 'hrcsnowshovel hard work burying hillaryclinton anti lgbt right record lovewins feelthebern semst hillary clinton', 'hillaryclinton waiting rainbow striped pantsuit fashionista lovewins semst hillary clinton', 'jebbush set lose ur campaign based critic instead proposing bushfail semst hillary clinton', 'joke political bc end offending people realize semst hillary clinton', 'dad told voting hillary proud lol semst hillary clinton', 'dedicated think main problem having foot mouth place semst hillary clinton', 'strung happed time hillary loving as douche encounter tree redeye semst hillary clinton', 'tonight tofunny funny funnier hilarious hilaryduff quotesoftheday quotestoliveby quote semst hillary clinton', 'meet hillary clinton died come life b c happy idol semst hillary clinton', 'arforhillary hillaryclinton hillaryin2016 proud soon good work semst hillary clinton', 'hillaryclinton ask hillaryclinton stop lying benghazi clintonfoundation tie terrorist muslim isi semst hillary clinton', 'hillaryclinton flip flopped gay marriage issue vote available current view semst hillary clinton', 'hillaryclinton lie hypocrisy senator ny clearly said opposed gay marriage semst hillary clinton', 'hillaryclinton proven dishonesty flip flopping issue people know opposed semst hillary clinton', 'laurenedicillo nbcnews dl34l major medium outlet exposing hillary s blatant flip flopping issue semst hillary clinton', 'ready day action know fellowssc semst hillary clinton', 'drudge report election semst hillary clinton', '96 commit card collected hillary greenville sc far fellowssc semst hillary clinton', 'headed chester sc big hillary canvas join wylie park 11 3 semst hillary clinton', 'save intern bill hillary white house semst hillary clinton', 'hillaryclinton lgbt pride condom billclinton assaulted monicalewinsky hillaryclinton tlot semst hillary clinton', 'fox news predicting 3 way marriage gee mormon morningjoe unitedblue semst hillary clinton', 'philadper2014 louisekatina hillary s new campaign slogan hillary hide truth tcot wakeupamerica semst hillary clinton', 'madam president clinton gay vote jarrid semst hillary clinton', 'debaterlife took minute realize came semst hillary clinton', 'gerfingerpoken jjauthor hope semst hillary clinton', 'recorwin answer complete sentence lol legend semst hillary clinton', 'gay marriage minor setback fox news tune collapse november 8 2016 lot tear broken heart semst hillary clinton', 'hillaryclinton goal setting victim billclinton assault hillaryclinton chelseasmom tlot semst hillary clinton', 'thanks chefs4hillary amazing noms canvassing fitn semst hillary clinton', 'lindasuhler sheeple vote semst hillary clinton', 'hillary clinton s biggest idol margaret sanger called extermination colored people semst hillary clinton', 'foxnation got rid nohillary2016 semst hillary clinton', 'greg61032 carminezozzora ash bell perfect definition jibberish uniteblue semst hillary clinton', 'need jamescarville hillaryclinton stop emailing love need space stillvotingforyou semst hillary clinton', 'nytimes cost 2016 election semst hillary clinton', 'hillaryclinton legalization pet goat pedophile neighbor dating 9 year old door semst hillary clinton', 'hillaryclinton pervert billclinton winner teen girl hillaryclinton democrat liberal tlot gop semst hillary clinton', 'fav support wrong candidate ladygaga bernie2016 semst hillary clinton', 'koolkat14215 haha love header semst hillary clinton', 'hate hillary clinton obama die thrown ocean ripped price shark semst hillary clinton', 'raging d rtr crimsonhotmess change equality semst hillary clinton', 'theblacksphere hillary took hypocriticaloath vow harm cross readyforhillary gop2016 semst hillary clinton', 'lbush34 hillaryclinton defending girl hillary semst hillary clinton', 'larryelder republican talk social policy better semst hillary clinton', 'intelligent choice usa hillary clinton afford stay home vote vote uniteblue semst hillary clinton', 'fuzislippers klsouth gdebenedetti yeah real forward thinker lol makeamericagreatagain whyimnotvotingforhillary semst hillary clinton', 'libtardlimbaugh mex38tex nro thanks article semst hillary clinton', 'got got hillary accomplishment managed stay prison despite 30 year crime spree tcot ocra semst hillary clinton', 'jebbush thought ruling archaic non science based belief law secular nation semst hillary clinton', 'reince fact confirm knew server prevent e mail public record like obama transparency semst hillary clinton', 'republican candidate continuing spread hatred alienating voter hillary win lovewins mikehuckabee rubio2016 semst hillary clinton', 'hillary clinton end having vote tackling issue america need face semst hillary clinton', 'apple walmart china country continue sell china way possible applemusic semst hillary clinton', 'hillary win election chance australia hillary4pres semst hillary clinton', 'ghostseven77 troll morningjoe unitedblue semst hillary clinton', 'dick morris hillaryclinton fundamentally corrupt know copolitics wcs15 semst hillary clinton', 'westonmartinez crazytas62 cruz need autograph bomb semst hillary clinton', 'cideloisa digginglamb thank rts favs eloisa thomas wakeupamerica semst hillary clinton', 'time changed martinomalley focused attack berniesanders hillaryclinton semst hillary clinton', 'moser kristen love pay attention democratic candidate republican candidate knowtheenemy semst hillary clinton', 'bet hillaryclinton thee best choice president 2016she best people vote semst hillary clinton', 'wait yaaashillary shirt hillaryclinton semst hillary clinton', 'realdonaldtrump whoopigoldberg univision voteforhillary hillaryclinton racist leader demand equalityforall semst hillary clinton', 'dhz26 love good sale money spent 2 bird 1stone lovewins semst hillary clinton', 'h stand holding e mail belonging wethepeople obstructingjustice wakeupamerica hillaryliesmatter unitebiue semst hillary clinton', 'bernie hillary prefer bernie hillary fine way dems gotta stand 2016 feelthebern semst hillary clinton', 'hillaryclinton want book smaller venue rally seat seen tv bad lol semst hillary clinton', 'wntonight love bernie bebecause semst hillary clinton', 'night sleep tight let hillary bite say tony ticket nightmare semst hillary clinton', 'foxandfriends support secret nohillary2016 semst hillary clinton', 'hrc popular deceptive socialist accomplished wife impeached president enabled ubl semst hillary clinton', '2016 going great year rush limbaugh s contract dropped liberal victory stoprush semst hillary clinton', 'hillaryclinton ryoudesperate 3rd hillary tweet timeline 2day gonna vote 4 u semst hillary clinton', 'awj9009 think statute limitation expired plus driver ala semst hillary clinton', 'vote ricksantorum survival country lovewins semst hillary clinton', 'voxdotcom wgn wgntv mention romney hillary care romney care obamacare public option semst hillary clinton', 'bdabs888 let shoot today semst hillary clinton', 'guarantee hillary care black right obama black predicament semst hillary clinton', 'hillary lie people desire president united state sad semst hillary clinton', '17leete17 hahaha kind special hillary s going win hahaha semst hillary clinton', 'realdonaldtrump malachinorris lol funniest thing heard semst hillary clinton', 'remember crackerbarrel gave 2 politicalcorrectness duckdynasty wakeup nascar b4 late tcot semst hillary clinton', 'medium real hillary 2016 benghazi clinton semst hillary clinton', 'week life obamacare gay marriage today death air pollution lethal injection election matter scotus semst hillary clinton', 'know piss hillaryclinton vp joebiden run lmao wakeupamerica longer semst hillary clinton', 'govt restart button need push thing rememberbenghazi2016 patriotswillrise semst hillary clinton', 'bad punning get worse better time remember america semst hillary clinton', 'putin thing need right clinton bush white house dynasty jeb2016 semst hillary clinton', 'hillary s new campaign slogan hillary hide truth tcot wakeupamerica semst hillary clinton', 'gop course hillaryclinton silent insures 2 stand 4 chance offending voter semst hillary clinton', 'someday want qualified candidate president united state reflectinghillary semst hillary clinton', 'monday night know hillary supporter rock hill amazing phone bank come join hillaryforsc semst hillary clinton', 'casually hangin hillaryclinton conference taking break acuhoi semst hillary clinton', 'queen city currently infested w state plate priuses driven millennials w hillary bumper sticker mht semst hillary clinton', 'gwen good leader training new volunteer rock hill fellowssc hillaryforsc semst hillary clinton', 'democrat2014slogans work vote democrat twice tcot semst hillary clinton', 'hillaryclinton yes semst hillary clinton', 'hillaryclinton yes chipping 5 bebecause faith semst hillary clinton', 'andreatantaros 3coffeesplez wtf keep getting crazier semst hillary clinton', 'apparently berniesanders fan like hillary s implied shewhoshallnotbenamedbebecausesheswinning semst hillary clinton', 'fantastic emmet county dem meeting tonight estherville glad meet hillaryclinton supporter semst hillary clinton', 'gay right human right human right gayrights hillaryclinton hillaryforamerica semst hillary clinton', 'think funny people think bernie hillary bill semst hillary clinton', 'berniesanders s poll number jumped hillary winning dem nomination semst hillary clinton', 'philglutting megadreamin thank rt fav wakeupamerica rubio2016 cruz2016 semst hillary clinton', 'marcorubio let enemy advantage like obama hillary teammarco newamericancentury semst hillary clinton', 'think email hillary clinton delete today s leapsecond semst hillary clinton', 'kind gov liberal promise achieved sustained conservative government heatwave tcot semst hillary clinton', 'timenout clinton fraudulent semst hillary clinton', 'hillaryclinton trickle economics failed time poor person created job semst hillary clinton', 'petefrt woman corrupt truthful thought semst hillary clinton', 'official single gop member candidate potus need leadership soapbox semst hillary clinton', 'glad chrischristie announced candidacy fit right qualifies republican list semst hillary clinton', 'hillary claim champion middle class randpaul tax plan cut fica tax benefiting middle class semst hillary clinton', 'offensive mexican flag fly soil california state capital lovewins univision foxnews donaldtrump semst hillary clinton', 'job hillaryclinton responsible creating security entitlement semst hillary clinton', 'leahr77 drmartyfox continued obama s thedemocrats admin policymaking usa greece wakeupamerica nj semst hillary clinton', 'johnpodesta hillaryclinton awesome true chef need hillary semst hillary clinton', 'correctrecord obsessed email transparency hillary clinton destroy email clintonemail semst hillary clinton', 'logan rtw agree previous stance sure belief said semst hillary clinton', 'hillaryclinton hahahaha going charge nohillary2016 semst hillary clinton', 'askbobby think hillaryclinton turned email private server destroyed semst hillary clinton', 'foxnews hang long idiot completely destroy country semst hillary clinton', 'askbobby blame obscure film maker death usambassador benghazi like semst hillary clinton', 'feel confident hillaryclinton win 2016 semst hillary clinton', 'asphaultangel13 afterall poor black family trying pay bill crousselle whyimnotvotingforhillary tcot semst hillary clinton', 'great day emmetsburg meeting hillaryclinton supporter learning important issue palo alto county semst hillary clinton', 'eric holder making 7 figure financial industry protected prosecution libs love 1 er semst hillary clinton', 'fashion news hillary new clothing line coming called flip flop r tcot benghazi semst hillary clinton', 'jami usa hoping resurrect h8 hillary s second term semst hillary clinton', 'u missouri kc got chelsea caus hils cost chels arrive w mom xtra charge hillaryclinton semst hillary clinton', 'govchristie run nj want president vote hillaryclinton semst hillary clinton', 'rt hillaryhaikus ready bebecause day girl want president readyforhillary haiku semst hillary clinton', 'phxken shocked burst flame wakeupamerica makeamericagreatagain semst hillary clinton', 'adamparkhomenko met oliviawilde word describe envy haha semst hillary clinton', 'robin45208 c4constitution thank rts wakeupamerica semst hillary clinton', 'republican donor numerous candidate money dems basically gonna killed financially semst hillary clinton', 'davidcorndc help cuckold conservative win 2016 cuckoldry christie2016 donaldtrump uniteblue p2 semst hillary clinton', 'chris christie president hahahahaha think hillaryclinton clinton hilary semst hillary clinton', 'megynkelly hahahaha combed email bunch scumbags nohillary2016 semst hillary clinton', 'loved talking yvette today education woman s voice politics wait caucus day fellowsia semst hillary clinton', 'benghazi wait thank god voter sry mt meant thank goodness offense intended tcot semst hillary clinton', 'pikester45 exactly want happen america semst hillary clinton', 'lawrence thelastword enthusiasm gap mr lawrence thehrcsupervols jw4hillary kimfrederi hillarymen semst hillary clinton', 'hlllary toniforasm hillary prez obama s term thing need semst hillary clinton', 'businessinsider thing painful mindless minutia strap hanging cling ons force endure huma semst hillary clinton', 'guy multicolored shirt look chi fuck semst hillary clinton', 'insurgent happen hillary dictator chief semst hillary clinton', 'expectyouto good financial decision ifyoucannot manage ur multimillion salary ur broke semst hillary clinton', 'liar win hillaryclinton shhh iced tea semst hillary clinton', 'foxnews govchristie hillaryclinton actually disqualified running scam ethic problem semst hillary clinton', 'christie2016 claim bridgegate fault man wheel gop teaparty tcot dem semst hillary clinton', 'debber66 andersondrlja centerhitler semst hillary clinton', 'hillaryfornv misslynnetteh 2 hour left let chip 5 nevada raisethenewpotus semst hillary clinton', 'believe single word come woman s mouth semst hillary clinton', 'rt waitingforahero 2nd tweet potus2016 candidate guncontrol read article esp jebbush gunviolence worse gunsen semst hillary clinton', 'hillaryin2016 hey checked blog kudos semst hillary clinton', 'owner univisin donated 25 million clinton foundation wife sits board univision trump semst hillary clinton', 'hillary time doctor email inbox advantage releasing hahaha justkidding semst hillary clinton', 'davelevinthal operating shredder hillaryclinton way adept wakeupamerica tcot ohhillno semst hillary clinton', 'theblaze gee busy schedule semst hillary clinton', 'ap calling approval running story davidaxelrod likehillary hillaryemails semst hillary clinton', 'white middle aged men pretty good job leading country 230 yr racist sexist realist semst hillary clinton', 'mistake hillaryclinton lying cover ups way life normansie n2toom tcot uniteblue semst hillary clinton', 'hillary use fucking fax machine idiot going vote president semst hillary clinton', 'gerfingerpoken2 hillary likely felon time protected political class semst hillary clinton', 'hillaryclinton support let people unfollow 2016election semst hillary clinton', 'hillary s weak grassroots shown strong berniesanders got fast little aaronblakewp semst hillary clinton', 'hillary raising money like incumbent president stop pretending nominee semst hillary clinton', 'american value society called vote liberallogic internationaljokeday semst hillary clinton', 'free market capitalism america s best friend bebecause constant pressure innovate use resource efficiently semst hillary clinton', 'thank kind rts favs pamnsc wakeupamerica todosmarchamos cuba semst hillary clinton', 'hillary s campaign raised 45 million 91 donation 100 record beating obama s record 11 semst hillary clinton', 'win black focus racial tension black white semst hillary clinton', 'newtgingrich hillaryclinton formidable competent person semst hillary clinton', 'washtimes bretbaier outrage smoke mirror w candidate hiding hill spillhill semst hillary clinton', 'excited 2016 finding hillaryclinton raised got semst hillary clinton', 'docdebags awelab1956 buzzfeedandrew buzzfeednews guaranteed gop control 3 branch semst hillary clinton', 'davidlimbaugh agree feeling away coming semst hillary clinton', 'lear jet fax machine lol hillaryclinton woman people ha besttheyvegot slushfund uraniumdeal sniperfire semst hillary clinton', 'foxnews brithume ok email coming didnt hillaryclinton server erased lie semst hillary clinton', 'dreamt hilary clinton night mean plan control world coming true semst hillary clinton', 'coachdlg515 retired36 glad slice round semst hillary clinton', 'obama administration lie knew hillaryemails private transparency semst hillary clinton', 'dude hillary run fax machine semst hillary clinton', 'jimlibertarian peddoc63 callisto1947 maydnusa c5hardtop1999 surfermom77 smolloydvm right semst hillary clinton', 'man demanded staff ice tea called sexist elitist pig oink oink hillary semst hillary clinton', 'hillaryclinton nominee democratic party period gonna win presidency sorrybernie semst hillary clinton', 'rnrnewyork email hillaryclinton said couple facebooks totalincompetence rednationrising semst hillary clinton', 'drmartyfox bosshoggusmc johnfromcranber seanhannity sheriffclarke fine leave usa come oip cruz2016 semst hillary clinton', 'birthday july 24th need gift idea chillaryclinton semst hillary clinton', 'looking forward cuba expanding major export pick truck converted raft exciting tcot semst hillary clinton', 'potus want president 3rd term happen lol fine semst hillary clinton', 'askpotus fire gop congress job gopfail semst hillary clinton', 'jhewitt1280 speakerboehner housebenghazi tgowdysc email released rest boring semst hillary clinton', 'hey transparent hillaryclinton santa libhack pay2play corruptocrat tcot benghazi vincefoster monica semst hillary clinton', 'easy ed berniesanders democrat having fun getting reality nov 2016 semst hillary clinton', 'kool aid drinking leftanistas continue close rank support madame secretary wtf hillary fraud lie semst hillary clinton', 'trump s inauguration speech god forbid china mention hairspray china semst hillary clinton', 'kca votejkt48id rfwheels3015 davidjones720 rratkinson right mean heck arabdonorgroup hillaryemails d semst hillary clinton', 'hillaryclinton opening 10 office iowa week playing iacaucus semst hillary clinton', 'obama american overtime pay republican american welfare check tcot uniteblue semst hillary clinton', 'sure brew house pella ia tomorrow 3 meet hillaryclinton supporter semst hillary clinton', 'univision ignores latino candidate marco rubio bebecause fit narrative invested hillary rubio2016 semst hillary clinton', 'overheard davenport open house oh know facebook digitalorganizing semst hillary clinton', 'todayshow chrischristie qualified b c eats 82 000 snack b c d corruption bridgegate big fat bully semst hillary clinton', 'autumnnalston jonathandkf sarah babb mccollummike hillaryclinton hillaryforsc inaugural tweet new account semst hillary clinton', 'hughhewitt like tweeted way aca software fixed gop strategic mistake repeal fixed semst hillary clinton', 'msnbc lawrence joebiden sensanders love joe bernie old end oneterm president semst hillary clinton', 'rio dance sanaaaaand whoooo tcot semst hillary clinton', 'robbently jonahnro berniesanders hillary campaign shortly announce sander born canada yeah semst hillary clinton', 'bill clinton decided taking bin laden got september 11 2001 semst hillary clinton', 'politico yawnzzzzzzzzzzzzzz z s going amt tweet character point semst hillary clinton', 'democrat creating al qaeda creating nuclear isi think semst hillary clinton', 'kind scare thousand email released hillary s private email semst hillary clinton', 'thedonald beauty pageant afloat want president aw hell semst hillary clinton', 'know emailgate going fox news hashing bosnia sniper fire story semst hillary clinton', 'big booty bitch big big booty bitch semst hillary clinton', 'maddow love bern time semst hillary clinton', 'best business presidential seat hillaryclinton semst hillary clinton', 'great jebbush support gmo crop like scepticism science v belief jebbush semst hillary clinton', 'folk happens liberal control hell break loose semst hillary clinton', 'need screaming like little baby minute hillaryclinton arrives ptown semst hillary clinton', 'biggest dump bad info b4 holiday weekend come wh state dept today hillaryemails liarliar semst hillary clinton', 'leader free world global navigating interacting international community big crowd learned lesson semst hillary clinton', 'pantsuit camouflage outfit carefully tailored minimize silhouette think stealthsuits high tech semst hillary clinton', 'ordered chillary clinton koozies gotta support team semst hillary clinton', 'expect change continue vote people chance 4yrs long bernie2016 semst hillary clinton', 'realdonaldtrump good anncoulter defends big mouth giant ego downfall stupidisasstupiddoes semst hillary clinton', 'hillary navy yard sniper fire semst hillary clinton', 'jw4hillary mrdane1982 choose take village semst hillary clinton', 'mizerello meetthepress lose embassy cover murder burn govt email semst hillary clinton', 'hillary lying long fib morse code hillno2016 semst hillary clinton', 'everyday american family need champion hillary champion semst hillary clinton', 'ineedmeninist bebecause hillaryclinton running president need semst hillary clinton', 'cruz perry 2016 tedcruz governorperry win win choice semst hillary clinton', 'cpc think run antisocial personal attack advertising socialmedia lol cdnpoli stopharper feelthebern fnpoli semst hillary clinton', 'cbsthismorning bernie sander record crowd madison wi mention guy talked trump trump semst hillary clinton', 'asked hillaryclinton help campaign gladly excitedly accepted semst hillary clinton', 'hillaryforia come iowa better usa row semst hillary clinton', 'pundit jim webb facing uphill battle hillary bernie anti hillary vote jimwebb semst hillary clinton', 'exciting hear fellow country tonight s special shout fellowsia semst hillary clinton', 'anitafinlay politico hillary s right thing staying focus campaign semst hillary clinton', 'chicagotribune ayyylmao democrat liberal realize want hillaryclinton obamanation 2 0 semst hillary clinton', 'betheljd thanks follow david god bless family freeallfour semst hillary clinton', 'network citizen proudinfidel33 youngblkrepub hillaryclinton manage billclinton want potus lol semst hillary clinton', 'sunbeltgirl 9975ts bobwilsonn hillaryclinton manage billclinton want potus lol stophillary2016 semst hillary clinton', 'woodenthreat proudinfidel33 hillaryclinton manage billclinton want potus lol semst hillary clinton', 'kin2souls sunbeltgirl christichat hillaryclinton manage billclinton want potus lol semst hillary clinton', 'redstatejake hillaryclinton manage billclinton want potus lol wakeupamerica stophillary2016 semst hillary clinton', 'gerfingerpoken woman like teflon committed enuf egregious crime b superglued 2the dang wall semst hillary clinton', 'babbsgirl2 hillaryclinton manage billclinton want potus lol wakeupamerica stophillary2016 semst hillary clinton', 'resisttyranny hillaryclinton manage billclinton want potus lol wakeupamerica stophillary2016 semst hillary clinton', 'weknowwhatsbest hillaryclinton manage billclinton want potus lol wakeupamerica stophillary2016 semst hillary clinton', 'randyprine fabiaceae know going lose hrc trying semst hillary clinton', 'realdonaldtrump hillaryclinton manage billclinton want potus lol wakeupamerica stophillary2016 semst hillary clinton', 'support hillaryclinton supporting term policy george w bush democrat mepolitics semst hillary clinton', 'shy buffy welcome little sister love semst hillary clinton', 'politico anniekarni hillaryclinton manage billclinton want potus wakeupamerica stophillary2016 semst hillary clinton', 'oreillyfactor hillaryclinton manage billclinton want potus lol wakeupamerica stophillary2016 semst hillary clinton', 'foxnews hillaryclinton manage billclinton want potus lol wakeupamerica stophillary2016 semst hillary clinton', 'politico hillaryclinton manage billclinton want potus lol wakeupamerica stophillary2016 semst hillary clinton', 'hillary supporter committed caucus tonight step way winning iowa caucus semst hillary clinton', 'timenout hillaryclinton manage billclinton want potus lol wakeupamerica stophillary2016 semst hillary clinton', 'thankful volunteer joined bliss studio fairfield tonight rockstars semst hillary clinton', 'revealing hillary s released email pretty boring nofriends semst hillary clinton', 'frankcraig skzdalimit best offer worry slick semst hillary clinton', 'ram0018 joanwalsh salon breenewsome chrislhayes black minority voter happen semst hillary clinton', 'popcornreel joanwalsh sensanders berniesanders resonate minority black voter semst hillary clinton', 'awadgolf crossbearer1956 scottsaxman1 voting hillary semst hillary clinton', 'foxnewspolitics little bit nobama wemissyougipper semst hillary clinton', 'putin nothingmoreamericanthan voting based politician lead country handle email think semst hillary clinton', 'putin nothingmoreamericanthan voting politician lead country handle email think semst hillary clinton', '2 people surprising trump fiorina honest w think obama built semst hillary clinton', 'believe santa hairstylist um okay need code lie semst hillary clinton', 'jimmy fallon music playing thank donaldtrump driving latino gay vote million love semst hillary clinton', 'oreillyfactor give rate as old queen clarence thomas semst hillary clinton', 'excited hear hillaryclinton speak dartmouth hanover hillaryinnh hillaryfornh semst hillary clinton', 'hillaryinnh like adolph hitler synagogue tcot uniteblue ctot semst hillary clinton', 'ered604 welcome 2 twitter proud uniteblue waronwomen worldpeace tngov tn socialjustice alllivesmatter unity semst hillary clinton', 'volunteer local campaign weekend help build team hillary march w bethesda adamparkhomenko md semst hillary clinton', 'think think vote dual citizenship believe legal bernie semst hillary clinton', 'clinton entitlement proverbial american hemorrhoid tcot opinionated semst hillary clinton', 'norman hsu illegally donated 850 000 hillaryclinton evidence worked china white house sale semst hillary clinton', 'kryptickaos agree surprised get nom jeb bush money moderate semst hillary clinton', 'hillaryclinton lied cost gala fined gop jail unfit office semst hillary clinton', 'fabulous hillaryclinton hit subject proud ending note kindness hillaryinnh semst hillary clinton', 'socialmedia sociopath psychopath insult peopleyoudo know resign feelthebern semst hillary clinton', 'zekejmiller bretbaier danmericacnn vote woman semst hillary clinton', 'redhatgeek hillary s nose lying bigger bill s cigar semst hillary clinton', 'democratguide reuters bur hlllary raised 45 million semst hillary clinton', 'hopefully hillary clinton get cancer dy get opportunity embarrass country july4th semst hillary clinton', 'joel5h wonderfullone bipartisanism hear peter gunn theme going kick gop as semst hillary clinton', 'mistake gop candidate campaign felony like one hillaryclinton make ohhillno semst hillary clinton', 'great comment mittromney pathological liar hillaryclinton semst hillary clinton', 'wish bernie s fan stop screaming bernie2016 semst hillary clinton', 'realdonaldtrump honest voice gop scare shit semst hillary clinton', 'frodofied tht erase support doma silence lgbt lgbtq right politically aventageous semst hillary clinton', 'roughcountry451 vendettajane fortunately bryan saying freeallfour semst hillary clinton', 'anthonyweiner super touch stupid away nycpride nyc semst hillary clinton', 'clantro jjauthor carminezozzora lie confronted truth freeallfour semst hillary clinton', 'river wood hill yass hillaryclinton hillary semst hillary clinton', 'big hillary clinton supporter plan working poor donnie know trump2016 semst hillary clinton', 'greta bernie2016 work decade behalf american people corporatocracy corrupted semst hillary clinton', 'truckshorsesdog commoncore brilliant idea supported bush nomorebushes semst hillary clinton', 'breathe live ignore collectively succumb toxin political ecological unwanton oligards p2 bernie2016 semst hillary clinton', 'woman politician whyimnotvotingforhillary stophillaryclinton2016 benghazi savetheusa semst hillary clinton', 'hillaryclinton wishyouwere benghazi instead great people chronic liar power hungry animal semst hillary clinton', 'yaaas hillary tsarrhys win best dressed merrimack 4th july parade hillaryfornh semst hillary clinton', 'duke hazzard tv 36 year offended liberal told unitedblue semst hillary clinton', 'hillaryclinton spatula appropriate given easily flip position heat get high semst hillary clinton', 'shit barometer rise republican speak usa july4 semst hillary clinton', 'ba68scgal guy w benghazi sign gut loveit nohillary2016 semst hillary clinton', 'vendettajane thanks follow god bless family freeallfour semst hillary clinton', 'myotradventure compassion new frontier hillary gone need village committee semst hillary clinton', 'snl funny anymore joebiden run president hilarious debate semst hillary clinton', 'support bernie account usa need new direction loses primary support hillary clinton sanders2016 semst hillary clinton', 'hillaryclinton treatment press amb stevens fam intel american ppl send jail semst hillary clinton', 'hilly barry s bloody benghazi bamboozle hillaryicecreamflavors tcot wakeupamerica semst hillary clinton', 'numbersmuncher hillaryclinton animal sellout ppl vote sellout nohillary2016 semst hillary clinton', 'redsteeze broke dead broke elitist nauseating rope hateful arrogant z ideologue add z semst hillary clinton', 'redsteeze maggienyt time guy benghazi sign arrested semst hillary clinton', 'adamplevy maggienyt danmericacnn people came hear hillary press obstructing view semst hillary clinton', 'politicalshort conscious haunted jlconnell66 killary marxism semst hillary clinton', 'theblaze heaven forbid invade space queen lie semst hillary clinton', 'tarekfatah anniekarni abedin s penumbra muslim brotherhood connection incontrovertible humaabedin semst hillary clinton', 'leftest hippocratic domecrats vote finelady michellbachmann vote emailscandal benghazi killary semst hillary clinton', 'support independent berniesanders bebecause liar potus libcrib democrat tlot republican wakeupamerica semst hillary clinton', 'babbsgirl2 drmartyfox bad worse possibly obama continue break law invincible semst hillary clinton', 'nytimes awkwardness awfulness think semst hillary clinton', 'today s number 8 year old jesus learned ride bike pretty cool dude uswnt proudmom semst hillary clinton', 'jessiejaneduff result matter youmay feel safe ur mental health issue 9 11 obama s watch semst hillary clinton', 'grateful chance tell world love flavor ice cream wakeupamerica semst hillary clinton', 'cant dazzle brilliance baffle bullshit hillaryclinton libstardsareidiots semst hillary clinton', 'akawhit1 time rope killary foxnews delete ballot clone sodom insane obammad wakeupamerica semst hillary clinton', 'understand people pro choice life life matter 2 week old 20 year old semst legalization abortion', 'let agree ok kill 7lbs baby uterus dwstweets dnc clinton2016 hillaryforia procompromise semst legalization abortion', 'glennbeck like poll abortion doctor told woman abortion required case semst legalization abortion', 'democrat personhood perceive legislation recognize personhood colorado semst legalization abortion', 'cultureshifting draw line arbitrarily drawn draw nonsense semst legalization abortion', 'k yoder lady need help mental illness issue semst legalization abortion', 'rt createdequalorg new video seeing human standtrue liveaction news collegefix lifesite prolife semst legalization abortion', 'rt createdequalorg human human life worth worth saving j k rowling semst legalization abortion', 'snitched mom having sex playing naked twister teen bet cock blocking as child semst legalization abortion', 'sb724 pass sen judiciary cmte bill effort shame woman personal private medical decision semst legalization abortion', 'rt grumpyoldguy2 debbiewashermanschultz woman voice doctor voice speaks baby askin semst legalization abortion', 'needed safe medical procedure available woman unfortunately rw men woman s decision sad huh semst legalization abortion', 'rt prolifeyouth clear daylight abortion crime ghandi prolifeyouth semst legalization abortion', 'lilagracerose defunding pp mean fewer abortion mean dead woman semst legalization abortion', 'govt force chemo fetus live julieborowski reproductiverights semst legalization abortion', 'person s person matter small dr sue waar semst legalization abortion', 'long allowed medically correct photo contraception use family planning table stopabortion semst legalization abortion', 'thanks gently spoken truth danaperino nation protect innocent thefive ccot dnc rnc semst legalization abortion', 'lum1996 kurtschlichter obama care deserter unborn baby protecttheunprotected antiabortion semst legalization abortion', 'dear nun advocacy tax paying weird war iraq deathpenalty taxespayforthistoo taxpayerpride semst legalization abortion', 'noticed everybody abortion born ronald reagan letthemlive alllivesmatter semst legalization abortion', 'follow patriot enuffis2much thanks following truth liberty justice proisrael wakeupamerica freeamirnow semst legalization abortion', 'drudge report sure agree decision decision wonder critic support abortion semst legalization abortion', 'patient advocate stephen casey texas center defense life strongly support hb3074 txlege semst legalization abortion', 'people red faced frothing abortion death penalty wondering deathpenalty semst legalization abortion', 'hey megan baby s heart start beating 21 day conception time right time end life kellyfile semst legalization abortion', 'azzarellijim great woman want force birth will rapeculture semst legalization abortion', 'great day argue benefit making abortion legal semst legalization abortion', 'body way live want right dismiss know problem semst legalization abortion', 'people want kid b prochoice youdo want abortion b prochoice people miscarriage b prochoice semst legalization abortion', 'hillaryclinton mean child deserve chance unborn child semst legalization abortion', 'know best know best happiness know best semst legalization abortion', 'ryandeloosh ifyouwant smash ur head solid wall steel timeyousay shore honay urchoice semst legalization abortion', 'assaulting manipulating pregnant people reduce semst legalization abortion', 'people abortion prochoice people uterus prochoice people want kid semst legalization abortion', 'jemimakirke hat speaking rarely discussed voice semst legalization abortion', 'anti vaxxers idiotic bunch seriously guy vaccinate kid stopsb277 conformcomics marvel dc semst legalization abortion', 'need figure school work day semst legalization abortion', 'god forbid walk mile shoe know like choose semst legalization abortion', 'know best health know semst legalization abortion', 'people ready child raped there kid need adopting semst legalization abortion', 'rt pari passu dear religious right uterus church church uterus semst legalization abortion', 'thefullbug dehumanizing dehumanizing pregnant person walking incubator right semst legalization abortion', 'democrat gave chilling reply asked support aborting 7 pound baby semst legalization abortion', 'ridiculous hour protectthezone alabama semst legalization abortion', 'tip protester goal change mind rational adult scar mind little kid pgh semst legalization abortion', 'good morning patriot let continue pray great nation unborn great day god given ccot semst legalization abortion', 'child greatest blessing god bestowed man woman pope francis lifeisagift semst legalization abortion', 'greatest mistake bebecause little humandignity semst legalization abortion', 'good morning justintrudeau plan tell wadepeiliberal woman pei deserve right choose cdnpoli peipoli semst legalization abortion', 'excellent speed dating ethic discussion today yr9 class morality semst legalization abortion', 'ub student life createdequalorg currently north campus student union speaking semst legalization abortion', 'sinnfeinireland sinnfein voted kill unborn sick child semst legalization abortion', 'justintrudeau plan 2 endorse peiliberalparty wadepeiliberal d b able 2 run 4 fed liberal party peipoli semst legalization abortion', 'slaying soul offered son shed blood infant augustine psalm106 semst legalization abortion', 'bravo beautifully explained hold humantrafficking bill senblumenthal dickdurbin womensrights righttochoose semst legalization abortion', 'free country freedom includes freedom choice semst legalization abortion', 'unthinkable shameful acceptable encouraged desirable evolution killing defenseless msnbc jemimakirke semst legalization abortion', 'thank day life lord christian catholic teamjesus semst legalization abortion', 'adammyerson quarq sent day ago expect day quick turnaround great customer service semst legalization abortion', 'democrat islamicstate murder dismemberment difference age victim isi semst legalization abortion', 'dwstweets repdwstweets seven pound baby murderer bad mom operation baby democrat loser semst legalization abortion', 'wh motherhood s wage penalty pay em kid pay em kill premature baby wtf s point libs pjnet semst legalization abortion', 'hillary want champion woman unborn semst legalization abortion', 'bucksexton course want fed puff puff pas teambuck warondrugs semst legalization abortion', 'like need walk past bunch aborted baby union peripheral semst legalization abortion', 'follow patriot msmistinichole thanks following truth liberty justice proisrael wakeupamerica freeamirnow semst legalization abortion', 'think marcus slightly scared radical liberal feministally semst legalization abortion', 'day gonna set abortion clinic fire wanna join semst legalization abortion', 'ready abortion debate semst legalization abortion', 'duty protect life unborn child ronald reagan ccot gop semst legalization abortion', 'bitch scared kill little cockroach house quick kill baby semst legalization abortion', 'ironic ppl perform lifesaving therapy animal preserve life staunch view favor semst legalization abortion', 'tonylee01979 decision mean need harass goodbye freedom semst legalization abortion', 'gas increase self mutilation tattoo piercing drugging eating suicide violence waleg semst legalization abortion', 'took god discipline tobacco airtight filled home w co2 cuz energy climate lie evil energy use soared semst legalization abortion', 'deep seated cultural code religious belief structural bias changed hillaryclinton semst legalization abortion', 'plannedparenthood agenda money killing baby big business minority genocide result ccot semst legalization abortion', 'rt nys4life rt ready help defeat assistedsuicidelike defeated abortionexpansion nopasny semst legalization abortion', 'loriisright dwmcaliley1791 litazahn yup reason changed party semst legalization abortion', 'oh look antichoice strongly pregnant people s human right homophobic shocker semst legalization abortion', 'kill ur child fear poverty provide u killing great sin quran semst legalization abortion', 'waiting libs explain premeditated murder premature baby reproductive healthcare ccot semst legalization abortion', 'mrsdrjim know wrp brianjeanwrp tried personhood going federal motion312 semst legalization abortion', 'ironic im sitting ppact swiping tinder right semst legalization abortion', 'explicit0ceans adoption chooses let live obviously huge difference right adoption semst legalization abortion', 'bruvvereccles telegraph david cameron despair want grandchild luxury item catholic semst legalization abortion', 'snitfit bebecause baby body decision effect life way business semst legalization abortion', 'obamcare loses supreme court religious freedom win scotus tcot semst legalization abortion', 'people spoke nazi world war ii likely live let live people fb semst legalization abortion', 'pro choice pro murder couched liberal rhetoric semst legalization abortion', 'like ya ll try push view remain semst legalization abortion', 'prowomanchoice exactly apology needed fundamentalist kind stop apology right p2 semst legalization abortion', 'hillary s christian religion view adapt include abortion abortion murder semst legalization abortion', 'time respond frustrates let steal away time happiness easyweightloss semst legalization abortion', 'nomoreteaforme said christian coward repkevincalvey p2 libcrib uniteblue semst legalization abortion', 'wow people r upset 1 black man killed knew blackkids killed baltimoreriots semst legalization abortion', 'showtruth absurd refer healthcare save pregnant people s life killing semst legalization abortion', 'golfproyyc time taylormadegolf pop think posting dyslexic oneinthesame semst legalization abortion', 'beckaviau mikeredmondndp duh planned pregnancy election date new fad time semst legalization abortion', 'join pray end global holocaust abortion semst legalization abortion', 'showtruth explain consider medical procedure leaf patient healthy happy killing semst legalization abortion', 'notmuchelse want freedom murder baby rip limb limb change subject libertarian semst legalization abortion', 'codeinediva like said weak strong christian wewillovercome semst legalization abortion', 'prowomanchoice forcing woman change body s normal function epitome controlling woman semst legalization abortion', 'like govt literally taking away right live life defunding right semst legalization abortion', 'watching teen mom watching farrah bitch make believe abortion semst legalization abortion', 'killing baby tonight care wrong right semst legalization abortion', 'amliventv morally wrong life sacred giver onlyhim haveyoursay semst legalization abortion', 'stevestfler people taking seriously semst legalization abortion', 'brain heart unique dna mother s alive human kill semst legalization abortion', 'agree choice woman s life danger rape baby deserve death crime father helpbillcoleman semst legalization abortion', 'lifenewshq happened past cruel frighteningly hard hearted woman waronwomen semst legalization abortion', 'joining studio amos josh music career kobi kihara band semst legalization abortion', 'giannaberettamo giamolla sphcs news happy feast st gianna beretta molla pray semst legalization abortion', 'difference baby onion cry chop baby hahahahaha love dead baby baby semst legalization abortion', 'kingdom founded violence long control vice brought n2 existence commentary judges9 barackobama semst legalization abortion', 'pro choice meaningless mean stand right choose kill semst legalization abortion', 'kudos mentality belief people dumb use protection mature care baby semst legalization abortion', 'pray mercy andrewchan myuransukumaran istandformercy keephopealive bali9 semst legalization abortion', 'want sit corner cry wish thicker skinned feminist shit personal mybodymyrights semst legalization abortion', 'fredindimuli yes opinion choice hand woman know person directly affected semst legalization abortion', 'gov brownback visit city kansa 2 sign new bill woman semst legalization abortion', 'refuse stop praying end abortion semst legalization abortion', 'bbcnewshour ifyouhad wife blow head yep sound like elsalvador semst legalization abortion', 'smalldoctor15 postinor popularly semst legalization abortion', 'mint listening glennbeck live s talking margaretsanger total evil pro abortion semst legalization abortion', 'waynesense check putting nicely margaretsanger semst legalization abortion', 'prolifeliberty yes reasoning horrible talking abortion death semst legalization abortion', 'terrible golf couple day go note semst legalization abortion', 'idiot feel mom aborted fucking dead semst legalization abortion', 'lifenewshq 22wks late able termination opinion triplet baby bunch cell semst legalization abortion', 'dude won freeshirt abort73 win lol abort73 semst legalization abortion', 'praying innocent lady victim hope execution proceed notodeathpenalty savemaryjaneveloso semst legalization abortion', 'findin budget compromise process brownback say income thestate semst legalization abortion', 'annejp1946 problem birth control free thing solution murder good idea semst legalization abortion', 'sinner right human kill human god wanted scl thought semst legalization abortion', 'politicspizza rebeccahlouise prolifeyouth woman independent making choice semst legalization abortion', 'abortion responsible choice woman chooses semst legalization abortion', 'charulife explained baby business helped medicaid wic semst legalization abortion', 'today ab 775 passed committee judiciary 3 7 let know help semst legalization abortion', 'wildchild69 youwant 2 limit doctor s choice force help w abortion want protect life human dignity semst legalization abortion', 'meme like reddit thread earth ageofultron lifeadvice protip propeller propane andpropaneaccessories semst legalization abortion', 'wildchild69 sense abortion healthcare abortion human lie semst legalization abortion', 'wildchild69 typo meant dy abortion human dy semst legalization abortion', 'rt singerman2000 government exceeded necessary size scope reach life citizen armenia semst legalization abortion', 'rosaryrevival prayer best wish st catherine sienna wednesday eastertide glorious mystery usual semst legalization abortion', 'inching diabetes supporting prochoicemass chocolatemadness 2015 mapoli semst legalization abortion', 'rt alvedaking disturbing thing planet flood street blood child happyearth semst legalization abortion', 'rt alvedaking disturbing thing planet flood street blood child happyearthd semst legalization abortion', 'rt pinkgypsysoul single important factor woman s advancement society ability control fertility semst legalization abortion', 'people government care word bible woman body semst legalization abortion', 'rt spicysandwich time anti abortion law lead unsafe illegal abortion semst legalization abortion', 'preach black sheriff say blacklivesmatter protest abortion clinic chooselife alllivesmatter semst legalization abortion', 'gvandersee 100 000 estimated ozzie abortion vulnerable unwanted unlife right value respect life deathpenalty semst legalization abortion', 'responsible care baby having unprotected sex semst legalization abortion', 'ayoungjfk choice mark profeminist semst legalization abortion', 'kugrl6 good riddance million black baby hope misunderstanding semst legalization abortion', 'rt gbforchoice abortion responsible choice woman chooses semst legalization abortion', 'blacklivesmatter pre born black life matter abortionismurder liberallogic semst legalization abortion', 'today grateful reproductiverights allow family escape poverty abvote semst legalization abortion', 'feminist pro choicer simply carry belief logical conclusion faminism yesallwomen semst legalization abortion', 'shaniaajaee love matter love semst legalization abortion', 'emrata didyoubecome lib afteryoumade hollywood blacklivesdontmatter whitebrunch semst legalization abortion', 'abortion wrong wrong powerful word blessed mother teresa semst legalization abortion', 'stuart1927 goodcounselnet thank goodness politician saw sense recognised woman s right body semst legalization abortion', 'rt rogeriscatholic save baby human waar semst legalization abortion', 'rt dogsofgod fight unborn semst legalization abortion', 'woman s right joke omg lol thank mom keeping semst legalization abortion', 'prolifegen abolish abortion lifetime prolifefuture tcot semst legalization abortion', 'abortion un pregnant make mother dead child isright semst legalization abortion', 'abortion feminism baby body isright semst legalization abortion', 'peiacsw consider status preborn girl vulnerable woman society peivotes semst legalization abortion', 'abc13houston let obama control action progressive destroyed black community lbj clinton drug semst legalization abortion', 'pro life legislative day party lansing today sopumpedgen semst legalization abortion', 'truly believe blacklivesmatter planned parenthood ycot semst legalization abortion', 'hannah warren14 oppressive woman semst legalization abortion', 'generation end abortion care toe step offend time end semst legalization abortion', 'rt frcharles giannaberettamo giamolla sphcs news happy feast st gianna beretta molla pray semst legalization abortion', 'believe narrative black life matter black life matter time blackonblackviolence semst legalization abortion', 'hillaryclinton guess mean happy pro life aborted child hypocrisy semst legalization abortion', 'people pregnant pro choice people kid pro choice people uterus semst legalization abortion', 'lol one choice woman s come abortion men able vote issue semst legalization abortion', 'listening reggielittlejhn speak work leading womensrights frontier inspiring aul jeanneanemaxon semst legalization abortion', 'reduce abortion making illegal sex education caring pregnant person semst legalization abortion', 'know best health know best happiness know best semst legalization abortion', 'changing ci nomative atmosphere difficult semst legalization abortion', 'stand people pro life bebecause stillborn loss semst legalization abortion', 'crushthecfr yes heard 500 time tweeted kid probably semst legalization abortion', 'provide demonstrated sexual training preparation marriage coming woman sexed marriage book semst legalization abortion', 'emilybeaulieu1 maybe want semst legalization abortion', 'know best happiness body semst legalization abortion', 'niall250 good thing dup consistently said murder wrong sf pro murder semst legalization abortion', 'word meant trigger strong emotional response medical inaccuracy misogyny semst legalization abortion', 'know best know best know best life semst legalization abortion', 'good time men adjudicating woman s reproductive system result good rape semst legalization abortion', 'thank ppact treating kindness respect tlc wellness exam womenshealth yaycondoms semst legalization abortion', 'life worth lot believe compassionate politician doctor friend tell matter semst legalization abortion', 'bodily autonomy human right person s access abortion human right reprojustice reprorights semst legalization abortion', 'charlescwcooke hillaryclinton born semst legalization abortion', 'abortion wrong biblically morally imagine getting chance live life think semst legalization abortion', 'past abortion provider dismember fetus alive sound hideously inhumane semst legalization abortion', 'praise district court judge larry hendricks blocking ridiculous anti abortion law kansa semst legalization abortion', 'little van action work datadatadata semst legalization abortion', 'scottwalker go world law god men semst legalization abortion', 'm lonz lifenewshq captor born longer body pregnant woman difference semst legalization abortion', 'right choose thats lie baby choose die prolifeyouthgen semst legalization abortion', 'yourbody choice youthgen semst legalization abortion', 'person s value determined size prolifegen prolifeyouth semst legalization abortion', 'formed womb knew prolifegen prolifeyouth god semst legalization abortion', 'smallest person change course future youthgen semst legalization abortion', 'right control s body license kill youth semst legalization abortion', 'pregnant woman 2 head 2 heart 4 arm 4 leg prolifeyouth prolifegen didntthinkso semst legalization abortion', 'right life humanrights pope francisyouthgen semst legalization abortion', 'god given right live place inside mother phil robertsonyouthgen semst legalization abortion', 'roevwade 1 3 generation aborted right youthgen semst legalization abortion', 'poverty decide child die live wish mother teresa prolifeyouth prolifegen semst legalization abortion', 'child like saying flower mother teresa prolifeyouth semst legalization abortion', 'pretend tree save baby everywhereyouthgen semst legalization abortion', 'human life ppfa problem youth itisahumanlife semst legalization abortion', 'looking life planet stop killing life prolifeyouth prolifegen semst legalization abortion', 'answer crisis pregnancy eliminate crisis child youthgen semst legalization abortion', 'amen brother mt 25 40 prolifeyouth semst legalization abortion', 'jesus love child world born unborn youth semst legalization abortion', 'prolifeyouth know human life human life inside womb semst legalization abortion', 'legalized tweeting instead procreating discriminates unconceived child worstargumentever lolanti semst legalization abortion', 'extremist think dismembering baby wrong youthgen semst legalization abortion', 'law prophet mt 7 12 prolifeyouth semst legalization abortion', 'dardenmba fetus oppose prolifeyouth semst legalization abortion', 'eliminated murder different prolifeyouth prolifegen semst legalization abortion', 'pro life little bit louder hear moreyouth semst legalization abortion', 'kilcurry waiting answer instead wealding authority stop disobey government semst legalization abortion', 'woman conceive proudly beg reconsider killing die prolifeyouth semst legalization abortion', 'life right liberty pursuit happiness possible prolifeyouth alllivesmatter semst legalization abortion', 'abortion legal month canada part usa prolifeyouth semst legalization abortion', 'kilcurry hospital signed legislation semst legalization abortion', 'time voice voiceless stand unborn alllivesmatter prolifeyouth chooselife semst legalization abortion', 'man feel qualified healthcare decision woman thingsyoudontsayasapolitician semst legalization abortion', 'debate understanding human dignity mean member 0 human family tho tiny powerless semst legalization abortion', 'prolifeyouth precisely god s eye life precious let generation end abortion prolifeyouth semst legalization abortion', 'rt ourbrother1 nation kill child future abortion bl john paul ii semst legalization abortion', 'voice unborn babiesyouthgen semst legalization abortion', 'thr r right w o responsibility rt 2 bodily autonomy come w responsibility 2 care 4 1 s unborn child prolifeyouth semst legalization abortion', 'prolifeyouth know life begin conception semst legalization abortion', 'justintrudeau support men s wrong woman s right standforchoice womensrights semst legalization abortion', 'great meeting today guy know reading tweet welcome team excited expand team sobhy semst legalization abortion', 'silence message mock god stop killing generation youth semst legalization abortion', 'tell woman body thingsyoudontsayasapolitician semst legalization abortion', 'bebecause mother granted gift life abort life value prolifeyouth semst legalization abortion', 'canada s legal definition human based 17th century science time update prolifeyouth cdnpoli semst legalization abortion', 'bacteria considered life mar heartbeat considered life earth heartbeat semst legalization abortion', 'umich unjustified homicide illegal including prolifeyouth semst legalization abortion', 'prolifeyouth know human life womb valuable human life outside womb semst legalization abortion', 'world waking fact killing baby wrong matter prolifeyouth semst legalization abortion', 'thingsyoudontsayasapolitician personally opposed abortion abortion wrong period youth semst legalization abortion', 'black life matter womb semst legalization abortion', 'logicoflife7 confuse right life right use s body consent rapeculture semst legalization abortion', 'mikeboydprice jake witmer prolifeliberty right right conception antichoice semst legalization abortion', 'logicoflife7 think right use s body consent rapeculture semst legalization abortion', 'logicoflife7 advocating punishment force ppl birth will rapeculture semst legalization abortion', 'logicoflife7 premise wrong earth right use s body w consent rapeculture semst legalization abortion', 'ucberkeley thing unforced prolifeyouth semst legalization abortion', 'ireland unborn child constitutional protection long continued youth semst legalization abortion', 'prolifeyouth chill dang proud human right injustice treated lightly prolifegen semst legalization abortion', 'prolifeyouth truly feminist fighting woman s life womb alllivesmatter semst legalization abortion', 'kfadich sperm apparently sacred entitled use s body rapeculture worstargumentever semst legalization abortion', 'nation kill child nation hope pope saint john paul ii prolifeyouth alllivesmatter semst legalization abortion', 'k8write95 1 3 generation missing changed change future prolifeyouth semst legalization abortion', 'becauses circumstance pregnancy vary thing unwavering human right life prolifeyouth semst legalization abortion', 'bethanyshondark mean bristol honest feeling relate hope choose life semst legalization abortion', 'prolife wife yup woman womb precious outside prolifeyouth alllivesmatter semst legalization abortion', 'size level development environment degree dependency affect human s value fetus human prolifeyouth semst legalization abortion', 'nation kill child nation hope pope saint john paul ii prolifeyouth alllivesmatter semst legalization abortion', 'abstinence proponent bristolpalin pregnant second child conceives humility mirthcontrol birthcontrol semst legalization abortion', 'life body choice womenshealth womensrights semst legalization abortion', 'candiesorg oops bristol pregnant candy waste youpaid 400 000 ppl send ur semst legalization abortion', 'kill darling advice feel like abortionist unfinished story writing literary semst legalization abortion', 'bristol palin want lecture guy job hypocrisy 15minutes semst legalization abortion', 'plan having abortion s thing think plan semst legalization abortion', 'rt esmerald kiczek child greatest blessing god bestowed man woman pope francis semst legalization abortion', 'body life fuck way prepared kill semst legalization abortion', 'cursed take bribe shed innocent blood people shall amen deuteronomy 27 25 dropsmic semst legalization abortion', 'saadoescatholic american right life liberty pursuitofhappiness dont unborn american semst legalization abortion', 'messed outraged legal distribute image abortion fine abortion legal no2trudeau semst legalization abortion', 'hurt 2 c ppl offended flag symbol death abortion million innocent child flag mississippi semst legalization abortion', 'crazygranny56 black killed abortion slavery confederateflag semst legalization abortion', 'dear bristolpalin stop fucking stop choice called abortion leave quit whining fem2 semst legalization abortion', 'forget nation god nation gone reagan christian 2a doglover conservative semst legalization abortion', 'rt dave gosh im prolife abortion taking life chooselife christian prolife semst legalization abortion', 'life fact 9 week pregnancy baby begin sigh yawn lifefact semst legalization abortion', 'good christian want sure unworthy people health insurance bebecause jesus redstate tcot semst legalization abortion', 'one fenna die heat watch semst legalization abortion', 'today catch tjbballcamp basketball camp work youthbuilding thejourney42 semst legalization abortion', 'live murder speechless rage hurt complete disgust finding v hard hold tongue semst legalization abortion', 'annalomla step forward right direction semst legalization abortion', 'baby blessing bristolsblog thank loving preaching semst legalization abortion', 'undergirding important issue today truth marriage racism gender semst legalization abortion', 'good friday morning patriot ur best smile day long lnyhbt rescuepets sot sov nevergiveup semst legalization abortion', 'scotus decision homosex lity based marriage carry moral authority past decision roe v wade anti truth semst legalization abortion', 'dear scotus deemed constitutional defend right people ruling abolish abortion semst legalization abortion', 'like abortion scotus say gay marriage legal moral scotusmarriage freedomofreligion semst legalization abortion', 'woe evil good good evil isaiah 5 20 scotusmarriage semst legalization abortion', 'mother advising daughter s abort insane unacceptable condom itsnotonitsnotsafe semst legalization abortion', 'happy america making possible people married one love marriageequaility semst legalization abortion', 'continue god bless america country continues approve glorify thing opposition ssm semst legalization abortion', 'bristolsblog second wedlock pregnancy want lecture want stunnng semst legalization abortion', 'lifemattersjrnl body right use w consent waiting rapeculture semst legalization abortion', 'mother advice daughter abort shame responsibility truly best advice itsnotonitsnotsafe semst legalization abortion', 'rt stmothertheresa destroys god s gift motherhood destroys precious gift woman motherteresa semst legalization abortion', 'marriage way focus abolishing abortion stoping murder unborn child semst legalization abortion', 'hey bristolpalin alaska asked promote wide open space pretty sure talking state semst legalization abortion', 'note bebecause think smtg wrong mean live accd belief semst legalization abortion', 'woah hashtag put rainbow heart weird butimnotgay semst legalization abortion', 'refuse 2comply w bad law bebecause scotus forced law right force bad law semst legalization abortion', 'owned woman work planned parenthood factsonly semst legalization abortion', 'getting old maybe stop calling embryo fetus baby semst legalization abortion', 'hannahwilhoit paigem32 convo semst legalization abortion', 'ok handle little important like murder semst legalization abortion', 'whitehouse potus child million aborted everylifematters semst legalization abortion', 'solution potus scotus tyranny articlev federalistpapers scotuscare gaymarriage wtf semst legalization abortion', 'cry dog dy movie phase baby die bebecause abortion semst legalization abortion', 'gregabbott tx god define right bigot trying stick closed minded agenda bigot semst legalization abortion', 'brilliant lovewins extend equality woman s right abortionrights semst legalization abortion', 'law little one speak prolifeyouth everylifematters gay straight baby semst legalization abortion', 'life precious baby mother father support sanctity human life think semst legalization abortion', 'sex marriage legal abortion illegal wrong world adamandevenotadamandsteve semst legalization abortion', 'lgbt community received equal right time equal right unborn community semst legalization abortion', 'potus child matter regardless skin color nation continuously aborting alllivesmatter semst legalization abortion', 'need woman rightful choice semst legalization abortion', 'selfish men birthcontrolhelpedme cheat wife found marriage destroyed semst legalization abortion', 'god bless america kill 4 000 baby year semst legalization abortion', 'suepalmers lsdsr choice dictate woman chooses feminism semst legalization abortion', 'unborn child right semst legalization abortion', 'alright scotus order business overturning roevwade semst legalization abortion', 'great sex marriage legal long abortion illegal semst legalization abortion', 'thereadclub wear shoe know hurt pro life thereadclub semst legalization abortion', 'meghanmccain bebecause scotus ruled fors think threw hand supported lovewins semst legalization abortion', 'good reminder 57 million child granted opportunity share air breath equality semst legalization abortion', 'people believe child entitled life liberty barackobama abortion legal semst legalization abortion', 'mrprolife complication come type medical procedure mean procedure banned dealwithit semst legalization abortion', 'bristolpalin proof abstinence education work affordable access contraception semst legalization abortion', 'asshat protesting sofiavergara disgrace entire woman s right movement live let live semst legalization abortion', 'asshat protesting sofiavergara disgrace entire woman s right movement live let live semst legalization abortion', 'abelitomiranda million aborted child let fix lovewins semst legalization abortion', 'scullybones027 amnestyireland seen care semst legalization abortion', 'okay declaring protecting equality unborn scotus murder semst legalization abortion', 'think outsmart satan thousand year scotus marriage isi lovewins semst legalization abortion', 'erikloomis historian malice hatred child astonishing palin semst legalization abortion', 'equal right scotus unborn ycot overturnroe semst legalization abortion', 'arkbuilder17 disagree love ya man want hard feeling semst legalization abortion', 'today proverbial straw broke america matter time gone far lovewins semst legalization abortion', 'abstinence spokesmodel brawler bristol palin pregnant happy poor little rich girl hypocrite semst legalization abortion', 'want equality let baby live semst legalization abortion', 'bebecause long ending innocent life love won semst legalization abortion', 'good day alive deserves choice marry person love lovewins equalityforall semst legalization abortion', 'matter abortion come semst legalization abortion', 'theheavysquad dailywordsofwisdom pat s best hell child defines goverment fostercare adoption semst legalization abortion', 'equality state nice step forward better america proudtolove semst legalization abortion', 'rt rxchelredekop consenting sex consenting pregnant like semst legalization abortion', 'disagrees right mind damn business lovewins semst legalization abortion', 'bad 2 day kansa conservative ksleg govsambrownback going 0 4 court scotusmarriage scotuscare schoolfunding sweep semst legalization abortion', 'marriage equality start working equal right unborn child semst legalization abortion', 'web rant show liberal start thinking consequence action polygamy gaymarriage semst legalization abortion', 'focus energy keeping people alive instead deciding get marry semst legalization abortion', 'barackobama celebrates equality 3000 unborn baby killed today let talk real inequality sir lifeequality semst legalization abortion', 'unfortunate thebriefcase cbs adoption answer semst legalization abortion', 'govt supremes saved gay maybe save baby semst legalization abortion', 'aim equality forgotten innocent smallest precious unborn catholic semst legalization abortion', 'equal right unborn human 1 grow lgbt scotus lovewins semst legalization abortion', 'celebration dancing butt lgbtqia pride inspired playlist song add list semst legalization abortion', 'conspiracyimage thislsamazing actually said dont consider life abortion woman doctor semst legalization abortion', 'slowdoghdfc know god mocked tho blv shd expect judgment thr wr enuf rzn 2 judge america semst legalization abortion', 'michaelianblack follow news new law gay people married semst legalization abortion', 'true equality allows born semst legalization abortion', 'reminder eye scotus reprohealth line womensrights reprojustice reprorights semst legalization abortion', 'sure lovewins baby nah semst legalization abortion', 'caleb lopez760 legal bro semst legalization abortion', 'gonna fuck caitlynguyerxox weekend semst legalization abortion', 'forced reproduction human right violation feminism abortionrights semst legalization abortion', 'planted garden pull plant chance bear fruit semst legalization abortion', 'worldwide r e agent support prolife group u choose nocost semst legalization abortion', 'feel greatest destroyer peace today abortion mother teresa semst legalization abortion', 'j6fras got hated progod progun semst legalization abortion', 'human taken role god racheldolezal caitlynjenner scotusmarriage semst legalization abortion', 'clinic morning 2015 chase away anti choice nutter harassing patient semst legalization abortion', 'catniptwoshoes hoursofchaos bindelj men pregnant thing change pretty quickly backoff semst legalization abortion', 'lifeboatcoffee thanks follow sb company left 1m1w ccot semst legalization abortion', 'soprolife want force texan carry pregnancy produce life semst legalization abortion', 'die born tiny little thing matter semst legalization abortion', 'rt prolifeyouth scotus say support equality equality unborn semst legalization abortion', 'manipulation disguise evil seen come ugly door satan appear form fake love semst legalization abortion', 'rt orconservative potus pontifex everybody unborn right semst legalization abortion', 'church pro life meeting voice unborn savethebabiesbumpthemanimals godislovesolovewins semst legalization abortion', 'moment need kind intergenerational dialogue rbg brings irin aspeninstitute spotlight health semst legalization abortion', 'deny basic human right life unborn baby lifewins endthediscrimination semst legalization abortion', 'kc football guy focusing thing matter isi racism immigration chiefskingdom semst legalization abortion', 'day love truly win day injustice known abortion abolished alllivesmatter semst legalization abortion', 'bigger problem 4 christian sex marriage worldhunger cleanwater sextrafficking slavelabor womensrights thelost semst legalization abortion', 'support abortion abortion account creator taking innocent life semst legalization abortion', 'slogan semst legalization abortion', 'glad home nmh scotusmarriage aca semst legalization abortion', 'notice ppl like cruz love constitution one want change aca gaymarriage semst legalization abortion', 'great college training stevens point today gen wrtlcollege semst legalization abortion', 'vandergraafly good work nutter semst legalization abortion', 'undeniable inverse correlation woman s right choose crime rate womensrights semst legalization abortion', 'wonder america like focus real issue starvingchildren abuse nationaldebt terrorism semst legalization abortion', 'gay marriage murdering unborn sin god eye ccot tcot jesus bible semst legalization abortion', 'equality unborn baby equal chance life equalityfortheunborn semst legalization abortion', 'nytimes thanks anti choicers woman dealing face prosecution semst legalization abortion', 'abort baby abort person abort generation semst legalization abortion', 'abortion wrong history healer inventor artist wife husband best friend eliminated semst legalization abortion', 'spent day highlight film israel trip post link instagram link ballislife semst legalization abortion', 'harry favorite character alive semst legalization abortion', 'crimsonhotmess need input thanks womanschoice controlyourownbody semst legalization abortion', 'america nation god violence racism samesex lustwins populationcontrol hate atheism secularism semst legalization abortion', 'thanks jeffrey addison kudos volvocarsaus caring safety unborn child auspol semst legalization abortion', 'rt advocatesoflife rt prolifeyouth adopting child cost aborting adoptionclini semst legalization abortion', 'bday grateful bio parent gave adoption nochoiceisevereasy semst legalization abortion', 'like cannibalism abortion comparing egg loving chicken cannibalism analogy semst legalization abortion', 'followfidf god law truth supressed thing eternal gaymarriage lovewins semst legalization abortion', 'legal abortion bebecause murder wrong abortionismurder healthcare semst legalization abortion', 'accept mother kill child tell people kill semst legalization abortion', 'believe equal right mankind unborn lovewins followthrough scotus roevwade science semst legalization abortion', 'girl want boy girl want semst legalization abortion', 'mzwakhe mbuli say doctor nurse paid assassin kill unborn baby fancy semst legalization abortion', 'people pro life pro birth mother provide happens semst legalization abortion', 'make human race behave undignified way gain attention furgison prideparade potus isi lgbt semst legalization abortion', 'pro choice want kill living baby right ahead semst legalization abortion', 'remember living family waiting adopt aborted baby semst legalization abortion', 'forrest grump large part difficult write imagine having read fucking thing semst legalization abortion', 'leftist putting american danger tcot uniteblue lovewins lgbt scotus semst legalization abortion', 'human person inestimable worth created image likeness god st jpii semst legalization abortion', 'wildchild69 anniejmj binghamrk jesus say trust thing trust men world semst legalization abortion', 'doctor gun perform abortion liberal opposed 2a liberallogic semst legalization abortion', 'saculsacul gvprayerwarrior guarantee destroyed trust god semst legalization abortion', 'hate lgbt disagree sex marriage sacramentofmatrimonyissacred semst legalization abortion', 'duty protect sanctity life cell division protectlife pjnet ctot ccot semst legalization abortion', 'law passed scotus defy god law child suffer god bless child promarriage semst legalization abortion', 'spend care animal charity laudatosi semst legalization abortion', '3 3 aul tell mlk prolife lying gullible follower r likely misinformed uniteblue semst legalization abortion', 'rt rob mcarthur justintrudeau try joining million slaughtered unborn child robbed right choose cdnpoli semst legalization abortion', 'rt modernwerewolf congratulate getting knocked throw damn shower reprojustice semst legalization abortion', 'time change boxing style canyousay gggboxing style great defense beastmode boxing ximenez semst legalization abortion', 'surprised scotus ruling marriage government agency legalized murder semst legalization abortion', 'love win love truly win end abortion unborn baby deserve love semst legalization abortion', 'u religious pro life allyouhave believe life sacred semst legalization abortion', 'nycanegirl premeditated taking innocent human life 1st degree murder know semst legalization abortion', 'pnkglittercheme saynotosuicide4 gay choice like semst legalization abortion', 'remember gate hell prevail gaymarriage semst legalization abortion', 'yo decide set fire gay allowed married 100 choice support semst legalization abortion', 'nice euna safe contrally commandment thy shall kill itsnotonitsnotsafe semst legalization abortion', 'parent left role teacher parent need skill reach child important semst legalization abortion', 'peer pressure real parent need real lay fact right sex misleading shame u semst legalization abortion', 'madisonfletch ok yo hand smell like dick semst legalization abortion', 'nice euna try notion t 21st century killing lot semst legalization abortion', 'ladysandersfarm love love term faith jesus anchor storm hebrew 6 19 semst legalization abortion', 'sentedcruz great job todayshow scotus eliminated 41 year ago called murder child semst legalization abortion', '1973 usa killed abortion 5 time number ppl hitler considered responsible killing semst legalization abortion', 'scotus decision agree time away death penalty semst legalization abortion', 'seen october baby night cry thing cry movie touching adoption semst legalization abortion', 'stevenwhawkins amnestyonline amnesty advocate child murder semst legalization abortion', 'alietaeck courage living fear courage scared death right thing semst legalization abortion', 'roe v wade prevented biggest crime spree predicted u s history gun criminal gunsense semst legalization abortion', 'lifenewshq consider dispersal chemical weapon kill child semst legalization abortion', 'johnfugelsang surprised murder legal israel illegal civilized country like usa semst legalization abortion', 'chadcottle 1 4 million yr 1 1 million yr way decline 5 000 yr making abortion criminal semst legalization abortion', 'pregnancy crisis gift wanted child unwanted chooselife adoption semst legalization abortion', 'andrea provida hypocrisy campaign animal right pro choice semst legalization abortion', 'justice breyer et al think injection arm killer heinous word acidic saline executing unborn baby semst legalization abortion', 'corasherlock northanne fdelond cora ignore ire export problem uk mariestopes itwontgoaway repealthe8th semst legalization abortion', 'bernadette smyth ignorant thunder cunt life body business itsaballofcellsnotababy newsni semst legalization abortion', 'poverty decided child die live wish mother teresa semst legalization abortion', 'liberal realize conceded debate shaw going haggle price idiot semst legalization abortion', 'signsyoureintheusa doc pull baby 3 4 way womb stick knife head 2 kill child scotus say ok semst legalization abortion', 'scotus blocking texas anti abortion law maybe supreme tyrant tcot tgdn semst legalization abortion', 'scotus block texas enforcing new abortion law stop killing baby semst legalization abortion', 'abortion law designed harder abortion abortion murder semst legalization abortion', 'supremecourt roll week discover coffee marriageequaility semst legalization abortion', 'scotusblog thegoodgodabove 1973 semst legalization abortion', 'win woman texas thank scotus texas semst legalization abortion', 'adding progress week supreme court allowing texas abortion clinic stay open scotus semst legalization abortion', 'time end deathpenalty united state wholelife semst legalization abortion', 'abortion clinic alley profit center air conditioning semst legalization abortion', 'spirit live family bloodline bloodline destroyed youwill reincarnate lgbt semst legalization abortion', 'definitely scotus today landed woman texas clinic issue semst legalization abortion', 'progress africanamericans check progress gay people check progress woman waiting waiting waiting semst legalization abortion', 'happy hear scotus blocked closing 10 abortion clinic tx appeal heard safelegalrare thinkprogress semst legalization abortion', 'enilk1988 chris 1791 doodisgirl thought tissue semst legalization abortion', 'sweat killed cut victim extreme deadbeat parent innocent baby abortion scotusabortion semst legalization abortion', 'fetus inside shut love semst legalization abortion', 'jacelarson concerned woman s health control stay outta lady part mr patrick semst legalization abortion', 'abortion want away free birth control clinic poor semst legalization abortion', 'supreme court justice fire week lovewins semst legalization abortion', 'davebachman34 clifford1462 msnbc know massively reduces abortion sex education access birth control semst legalization abortion', 'bebecause legal god honoring samesexmarriage 180themovie audacitymovie semst legalization abortion', 'robert scalia alito thomas hereinafter r scat scotus equality semst legalization abortion', 'blacklivesmatter protester wd spray paint confederate symbol concern w million black life lost semst legalization abortion', 'coming female taken away ability child believe woman ability choose semst legalization abortion', 'stalbertcivc influence policy info presented given listed partner semst legalization abortion', 'senatorlankford reminder awful way represent prolove proeducation prohealthcare semst legalization abortion', 'mass state house tomorrow planned parenthood s sexual health lobby day reproductivejustice feminism semst legalization abortion', 'right choice heaven hell promarriage profaith eternallifematters semst legalization abortion', 'woman deliberately destroys fetus answerable murder st basil great semst legalization abortion', 'abortion self defense shooting rapist kittington pjnet tcot semst legalization abortion', 'american clearly support family planning cutting title x wrong protectprevention savetitlex semst legalization abortion', 'donrients people killed gun 9 people died sad die daily abortion semst legalization abortion', 'marthaplimpton monday twitter right wing troll sends video abortion reprorights semst legalization abortion', 'fuck give man right tell woman body want abortion texas semst legalization abortion', 'onlineforlife thank way beautifully communicate pro life message consistently blow away semst legalization abortion', 'hiskindacrazy queentacobell thumperbunny88 abortion illegal judge woman making choice semst legalization abortion', 'abortion alive dead considered successful abortion p2 tcot chooselife choice semst legalization abortion', 'anti fox news mannymooncup lexinelli mattsears4 factsvsopinion hypocrisy saying lovewins supporting quitkillinggirls semst legalization abortion', 'constitution kenya 2010 clear abortion demand illegal fida semst legalization abortion', 'great 7 day american especially texan scotus lovewins obamacare semst legalization abortion', 'foxnews bristolsblog possible bristolpalin believe semst legalization abortion', 'prolifers health right semst legalization abortion', 'know best safety semst legalization abortion', 'know right bodily autonomy describe think fetus take away semst legalization abortion', 'scotus becaused repression racism nation group people america dredscott marriage semst legalization abortion', 'way sweden letaccess womangolf letsgooo semst legalization abortion', 'ti human being womb harvest transplant organ human being semst legalization abortion', 'breda o brien strike people allow woman carrying child decision amnesty semst legalization abortion', 'rt paul71 yer man dail talking bullying bullying fine gael bullying member semst legalization abortion', 'sassy gramma good point heart start beating 22 day conception alive conception semst legalization abortion', 'pregnancy planned unplanned brings spouse family closer life beautiful usa semst legalization abortion', 'get rid daughter pretend existed parenttrapplot semst legalization abortion', 'wendydavis pray want pray abortion dangerous facility remain unchecked facepalm semst legalization abortion', 'abortion prevent rape kittington semst legalization abortion', 'prolife law kill woman real feminist prochoice calling feminazi bebecause course argument fem2 semst legalization abortion', 'demand senate vote ban painful late term abortion use voice help hold senate accountable bluemoon semst legalization abortion', 'thrilled announce opening satellite office right street asu semst legalization abortion', 'u s fed law prevent killing pre born child til sec birth seriously address root becauses semst legalization abortion', 'way mozambique thank recognizing equality allowed choice semst legalization abortion', 'im abortion stand opinion mass cell semst legalization abortion', 'rebeccahlouise forcing abortion medical help better option proud semst legalization abortion', 'w providing medical care naralvirginia trap regulation scraptrap semst legalization abortion', 'murdering unborn child crudest form contraception catholic christian conservative feminist semst legalization abortion', 'big deal semst legalization abortion', 'way people world america great satan gaymarriage drug wakeupamerica semst legalization abortion', 'helenantanova turning racial thing kek semst legalization abortion', 'stevenertelt gm gxpfan wife abortion young regret day semst legalization abortion', 'karrattipaul chooseliferacer gov t largest corporation murder little baby defund semst legalization abortion', 'funk chris christy republican oh yeah he rino 1a 2a nra co ccot tgdn pjnet wakeupamerica semst legalization abortion', 'abortion political issue moral issue catholic christian conservative semst legalization abortion', 'hhs contraceptive mandate challenged scout 6 time lost 6 time contraception semst legalization abortion', 'men pregnant abortion clinic like starbucks semst legalization abortion', 'scotus majority opinion substitute abortion capital punishment opinion texas clinic case semst legalization abortion', 'bebecause settled abortion constitutional necessarily follows mean carrying semst legalization abortion', 'perspective est 32 000 rape becaused pregnancy yr 22x est 730 000 abortion yr strawman waronwomen semst legalization abortion', 'saintjohnfargo chrisgeidner tweetbrk ginsburg support death penalty call semst legalization abortion', 'darktechmonitor colonel ted chrisgeidner ginsburg support death penalty e semst legalization abortion', 'abortion contraception contraception preventing pregnancy abortion terminating life ccot semst legalization abortion', 'uberfacts bebecause 9 utilized wonderful gift choice prochoice semst legalization abortion', 'uberfacts bebecause good percent utilized wonderful gift choice prochoice semst legalization abortion', 'word antiabortion protestors calmer buying bi pride colour yarn friend haberdashery 3 semst legalization abortion', 'mary help christian persecuted pray holylove unitedhearts maranathasns profamily 1m1w marriage semst legalization abortion', 'usweekly doubt clothed pregnancy occurred semst legalization abortion', 'mozambique s new penal code take effect wednesday containing significant new element including decriminalisation semst legalization abortion', 'esmerald kiczek rock girl know abortionismurder semst legalization abortion', 'begin prayer st ephraem syrian semst legalization abortion', 'abortionist refused comply constitutional common sense standard naral semst legalization abortion', 'sinister nazi esque folk support killing baby qanda auspol semst legalization abortion', 'said unto suffer little child come unto forbid kingdom god mk 10 14 semst legalization abortion', 'coffee nose windpipe time going nose thoughtiwasgonnadie semst legalization abortion', 'toddpuckett1 discussed business calculates risk factor drew attacking spacex inferring life risk invoked semst legalization abortion', 'mother s womb safe guess church specifically black one whoisburningblackchurches semst legalization abortion', 'mother s womb safe guess church specifically black one whoisburningblackchurches semst legalization abortion', 'ohio secretly restrictive texas antichoice law traplaws semst legalization abortion', 'prayer baby urgent prayer detroit mi san diego san antonio life begin conception semst legalization abortion', 'florida attorneygeneralbondi file appeal judge grant aclu request temporarily halt new law requiring 24hr wait semst legalization abortion', 'plenty stem cell baby smashing way semst legalization abortion', 'sorry bernie sander lot people chance people chance like share semst legalization abortion', 'blacklivesmatter black baby womb life matter puzzled catholic semst legalization abortion', 'homunculusloikm sawyerandrew bryanbroome1 jstines3 think woman enjoy experience semst legalization abortion', 'homunculusloikm sawyerandrew bryanbroome1 jstines3 bad analogy current time frame abortion best compromise semst legalization abortion', 'mi immaculata glorytogod 143 benignovito important praytherosary prayforthepersecutedchurch semst legalization abortion', 'body belongs belong church state embryo semst legalization abortion', 'pregnancy pregnant person s body cease support bodily autonomy semst legalization abortion', 'people nut onepercent fine 0 0000023 population deciding fate obamacare marriage semst legalization abortion', 'rt lisettehashope yes therallyforlife counting looking forward standing right life semst legalization abortion', 'right reproductive choice recieve safe medical treatment stigma semst legalization abortion', 'peoplesdebate juvenile hysteric woman killing baby bodily autonomy people dying neglect let vinb semst legalization abortion', 'peoplesdebate better child born marriage mother loneparents allowance single vinb semst legalization abortion', 'toby dorena favor woman s right right choose chose irrelevant semst legalization abortion', 'gray area come abortion discus legal ethical dilemma doctor patient face semst legalization abortion', 'alive 9 month bornkills semst legalization abortion', 'mrgeology abort million possible progressive future downfall semst legalization abortion', 'oxgodlessxo canuckle head atheist roo atxbantamathy gag dat face semst legalization abortion', 'notmuchelse unborn human life completely human alive conception abortion kill semst legalization abortion', 'toby dorena pregnancy turn deadly time warning force semst legalization abortion', 'love delight evil rejoices truth 1 cor 3 6 loving requires speaking truth protestchildkilling semst legalization abortion', 'people demand gov stay vagina demand gov legitimize sex bedroom curious lovewins semst legalization abortion', 'ghhshirley charged manslaughter woman dy semst legalization abortion', 'ghhshirley abortion worker charged manslaughter woman dy semst legalization abortion', 'ghhshirley wordfactoryq leahntorres abortion worker charged manslaughter woman dy semst legalization abortion', 'naral time time decision difficult let antichoice guilt trip people semst legalization abortion', 'agonist abortion vasectomy semst legalization abortion', 'bring 50 million black baby aborted past 30 year people offended semst legalization abortion', 'law protecting unborn eagle human uh idk noticed 7 billion eagle semst legalization abortion', '1 3 abortion abortionondemand menstruationmatters semst legalization abortion', 'dare sexual preference choice dare dismembering preborn liberalism semst legalization abortion', 'equal right born way right born liberallogic liberalism life semst legalization abortion', 'potus seal legacy w 1 2 doz win gop agenda repeal gun law obamacare ban access 2 totallosers noideas semst legalization abortion']\n"
          ],
          "name": "stdout"
        }
      ]
    },
    {
      "cell_type": "code",
      "metadata": {
        "id": "3AC9Slo6GFE3"
      },
      "source": [
        "y = train_data['Stance']"
      ],
      "execution_count": 60,
      "outputs": []
    },
    {
      "cell_type": "code",
      "metadata": {
        "id": "ldHnLViAGE_0",
        "outputId": "8bba779b-1b86-4661-e3e8-afa90a3dd1c2",
        "colab": {
          "base_uri": "https://localhost:8080/",
          "height": 34
        }
      },
      "source": [
        "X.shape"
      ],
      "execution_count": 61,
      "outputs": [
        {
          "output_type": "execute_result",
          "data": {
            "text/plain": [
              "(2914,)"
            ]
          },
          "metadata": {
            "tags": []
          },
          "execution_count": 61
        }
      ]
    },
    {
      "cell_type": "code",
      "metadata": {
        "id": "h869wlAgGE-f",
        "outputId": "4137c549-6084-41e9-bed2-c38b1da3c8b0",
        "colab": {
          "base_uri": "https://localhost:8080/",
          "height": 34
        }
      },
      "source": [
        "y.shape"
      ],
      "execution_count": 62,
      "outputs": [
        {
          "output_type": "execute_result",
          "data": {
            "text/plain": [
              "(2914,)"
            ]
          },
          "metadata": {
            "tags": []
          },
          "execution_count": 62
        }
      ]
    },
    {
      "cell_type": "code",
      "metadata": {
        "id": "tf-iUckLGE4c"
      },
      "source": [
        "### Defining the vocabulary size\n",
        "\n",
        "voc_size = 10000  ## Also have to Check with size 5000 "
      ],
      "execution_count": 68,
      "outputs": []
    },
    {
      "cell_type": "code",
      "metadata": {
        "id": "PzdJzMpxGE28"
      },
      "source": [
        "## One Hot representation \n",
        "\n",
        "onehot_repr = [one_hot(word,voc_size) for word in preprocessed_words]\n",
        "\n",
        "## Displaying the one-hot representated values\n",
        "\n",
        "# onehot_repr"
      ],
      "execution_count": 69,
      "outputs": []
    },
    {
      "cell_type": "code",
      "metadata": {
        "id": "cYuHiH4UGExN"
      },
      "source": [
        "## Embedding Representation\n",
        "\n",
        "sentence_length = 30\n",
        "embedded_doc = pad_sequences(onehot_repr, padding='pre', maxlen=sentence_length)"
      ],
      "execution_count": 70,
      "outputs": []
    },
    {
      "cell_type": "code",
      "metadata": {
        "id": "mKlxndcyA43g",
        "outputId": "2e35ba87-0da2-4142-def5-a8df08d77f60",
        "colab": {
          "base_uri": "https://localhost:8080/",
          "height": 272
        }
      },
      "source": [
        "### BaseLine Model\n",
        "\n",
        "embedding_vector_features = 40\n",
        "model = Sequential()\n",
        "model.add(Embedding(voc_size, embedding_vector_features, input_length=sentence_length))\n",
        "model.add(LSTM(100))\n",
        "model.add(Dense(3, activation='softmax'))\n",
        "model.compile(loss='categorical_crossentropy',optimizer='adam',metrics=['accuracy'])\n",
        "print(model.summary())"
      ],
      "execution_count": 71,
      "outputs": [
        {
          "output_type": "stream",
          "text": [
            "Model: \"sequential\"\n",
            "_________________________________________________________________\n",
            "Layer (type)                 Output Shape              Param #   \n",
            "=================================================================\n",
            "embedding (Embedding)        (None, 30, 40)            400000    \n",
            "_________________________________________________________________\n",
            "lstm (LSTM)                  (None, 100)               56400     \n",
            "_________________________________________________________________\n",
            "dense (Dense)                (None, 3)                 303       \n",
            "=================================================================\n",
            "Total params: 456,703\n",
            "Trainable params: 456,703\n",
            "Non-trainable params: 0\n",
            "_________________________________________________________________\n",
            "None\n"
          ],
          "name": "stdout"
        }
      ]
    },
    {
      "cell_type": "code",
      "metadata": {
        "id": "ZlcNZV7NO7T5"
      },
      "source": [
        "from keras.utils import to_categorical\n",
        "y_binary = to_categorical(y)\n",
        "\n",
        "import numpy as np\n",
        "X_final=np.array(embedded_doc)\n",
        "y_final=np.array(y_binary)"
      ],
      "execution_count": 73,
      "outputs": []
    },
    {
      "cell_type": "code",
      "metadata": {
        "id": "MSxsdHoNMmj3"
      },
      "source": [
        "### Dividing into train and test set.\n",
        "\n",
        "from sklearn.model_selection import train_test_split\n",
        "X_train, X_test, y_train, y_test = train_test_split(X_final, y_final, test_size=0.33, random_state=42)"
      ],
      "execution_count": 74,
      "outputs": []
    },
    {
      "cell_type": "code",
      "metadata": {
        "id": "bjuFR3ffMmpb",
        "outputId": "9259c697-121c-4676-8f09-c925d447fe1f",
        "colab": {
          "base_uri": "https://localhost:8080/",
          "height": 394
        }
      },
      "source": [
        "model.fit(X_train, y_train, validation_data=(X_test, y_test), epochs=10, batch_size=64)"
      ],
      "execution_count": 75,
      "outputs": [
        {
          "output_type": "stream",
          "text": [
            "Epoch 1/10\n",
            "31/31 [==============================] - 2s 62ms/step - loss: 1.0555 - accuracy: 0.4764 - val_loss: 1.0361 - val_accuracy: 0.4688\n",
            "Epoch 2/10\n",
            "31/31 [==============================] - 1s 45ms/step - loss: 0.9402 - accuracy: 0.5394 - val_loss: 0.9348 - val_accuracy: 0.5437\n",
            "Epoch 3/10\n",
            "31/31 [==============================] - 1s 45ms/step - loss: 0.6690 - accuracy: 0.6931 - val_loss: 0.9874 - val_accuracy: 0.5405\n",
            "Epoch 4/10\n",
            "31/31 [==============================] - 1s 46ms/step - loss: 0.4983 - accuracy: 0.7725 - val_loss: 1.2806 - val_accuracy: 0.5260\n",
            "Epoch 5/10\n",
            "31/31 [==============================] - 1s 45ms/step - loss: 0.3727 - accuracy: 0.8361 - val_loss: 1.6652 - val_accuracy: 0.4543\n",
            "Epoch 6/10\n",
            "31/31 [==============================] - 1s 45ms/step - loss: 0.4068 - accuracy: 0.8386 - val_loss: 1.1792 - val_accuracy: 0.5478\n",
            "Epoch 7/10\n",
            "31/31 [==============================] - 1s 45ms/step - loss: 0.1721 - accuracy: 0.9498 - val_loss: 1.6070 - val_accuracy: 0.5343\n",
            "Epoch 8/10\n",
            "31/31 [==============================] - 1s 45ms/step - loss: 0.0785 - accuracy: 0.9769 - val_loss: 1.7783 - val_accuracy: 0.5437\n",
            "Epoch 9/10\n",
            "31/31 [==============================] - 1s 45ms/step - loss: 0.0363 - accuracy: 0.9892 - val_loss: 2.5089 - val_accuracy: 0.5156\n",
            "Epoch 10/10\n",
            "31/31 [==============================] - 1s 45ms/step - loss: 0.0898 - accuracy: 0.9754 - val_loss: 1.6227 - val_accuracy: 0.5551\n"
          ],
          "name": "stdout"
        },
        {
          "output_type": "execute_result",
          "data": {
            "text/plain": [
              "<tensorflow.python.keras.callbacks.History at 0x7fb46aafaeb8>"
            ]
          },
          "metadata": {
            "tags": []
          },
          "execution_count": 75
        }
      ]
    },
    {
      "cell_type": "code",
      "metadata": {
        "id": "neYqpJ_HMmu2",
        "outputId": "3edca2f5-2b1e-4b8f-f92c-65538a269158",
        "colab": {
          "base_uri": "https://localhost:8080/",
          "height": 34
        }
      },
      "source": [
        "# Converting the one-hot encoded to single digit\n",
        "\n",
        "import numpy as np\n",
        "rounded_labels=np.argmax(y_test, axis=1)\n",
        "rounded_labels[155]"
      ],
      "execution_count": 76,
      "outputs": [
        {
          "output_type": "execute_result",
          "data": {
            "text/plain": [
              "1"
            ]
          },
          "metadata": {
            "tags": []
          },
          "execution_count": 76
        }
      ]
    },
    {
      "cell_type": "code",
      "metadata": {
        "id": "H_qSw2daPPmS",
        "outputId": "31acbf40-61eb-4892-b59d-55c523e65630",
        "colab": {
          "base_uri": "https://localhost:8080/",
          "height": 88
        }
      },
      "source": [
        "y_pred=model.predict_classes(X_test)"
      ],
      "execution_count": 78,
      "outputs": [
        {
          "output_type": "stream",
          "text": [
            "WARNING:tensorflow:From <ipython-input-78-66f7fe571d01>:1: Sequential.predict_classes (from tensorflow.python.keras.engine.sequential) is deprecated and will be removed after 2021-01-01.\n",
            "Instructions for updating:\n",
            "Please use instead:* `np.argmax(model.predict(x), axis=-1)`,   if your model does multi-class classification   (e.g. if it uses a `softmax` last-layer activation).* `(model.predict(x) > 0.5).astype(\"int32\")`,   if your model does binary classification   (e.g. if it uses a `sigmoid` last-layer activation).\n"
          ],
          "name": "stdout"
        }
      ]
    },
    {
      "cell_type": "code",
      "metadata": {
        "id": "T6SVlJOYMmzn",
        "outputId": "c333cbc6-5c96-48ee-ed68-e0802bd0b0c3",
        "colab": {
          "base_uri": "https://localhost:8080/",
          "height": 153
        }
      },
      "source": [
        "from sklearn.metrics import confusion_matrix\n",
        "from sklearn.metrics import multilabel_confusion_matrix\n",
        "\n",
        "multilabel_confusion_matrix(rounded_labels, y_pred)"
      ],
      "execution_count": 79,
      "outputs": [
        {
          "output_type": "execute_result",
          "data": {
            "text/plain": [
              "array([[[354, 157],\n",
              "        [151, 300]],\n",
              "\n",
              "       [[567, 127],\n",
              "        [149, 119]],\n",
              "\n",
              "       [[575, 144],\n",
              "        [128, 115]]])"
            ]
          },
          "metadata": {
            "tags": []
          },
          "execution_count": 79
        }
      ]
    },
    {
      "cell_type": "code",
      "metadata": {
        "id": "3D0qaPuuMm3m",
        "outputId": "439b0ec4-5ab4-444f-eeb1-d1f4518ce969",
        "colab": {
          "base_uri": "https://localhost:8080/",
          "height": 34
        }
      },
      "source": [
        "from sklearn.metrics import accuracy_score\n",
        "accuracy_score(rounded_labels,y_pred)"
      ],
      "execution_count": 80,
      "outputs": [
        {
          "output_type": "execute_result",
          "data": {
            "text/plain": [
              "0.5550935550935551"
            ]
          },
          "metadata": {
            "tags": []
          },
          "execution_count": 80
        }
      ]
    },
    {
      "cell_type": "code",
      "metadata": {
        "id": "68Uu_kRWMmtO"
      },
      "source": [
        ""
      ],
      "execution_count": null,
      "outputs": []
    },
    {
      "cell_type": "code",
      "metadata": {
        "id": "pYHJOhmwMmnU"
      },
      "source": [
        ""
      ],
      "execution_count": null,
      "outputs": []
    }
  ]
}